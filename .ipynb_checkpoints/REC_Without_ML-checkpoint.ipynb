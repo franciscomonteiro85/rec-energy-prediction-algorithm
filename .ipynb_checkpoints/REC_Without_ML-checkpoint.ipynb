{
 "cells": [
  {
   "cell_type": "code",
   "execution_count": 1,
   "id": "652eddb0",
   "metadata": {},
   "outputs": [],
   "source": [
    "import warnings\n",
    "warnings.filterwarnings('ignore',category=FutureWarning)\n",
    "warnings.filterwarnings('ignore',category=DeprecationWarning)\n",
    "import numpy as np\n",
    "import pandas as pd\n",
    "import matplotlib.pyplot as plt\n",
    "from sklearn.model_selection import train_test_split, cross_val_score, cross_validate, KFold\n",
    "import xgboost as xgb\n",
    "from sklearn.metrics import mean_squared_error, r2_score, mean_absolute_error"
   ]
  },
  {
   "cell_type": "code",
   "execution_count": 2,
   "id": "c019fe1f",
   "metadata": {},
   "outputs": [
    {
     "data": {
      "text/html": [
       "<div>\n",
       "<style scoped>\n",
       "    .dataframe tbody tr th:only-of-type {\n",
       "        vertical-align: middle;\n",
       "    }\n",
       "\n",
       "    .dataframe tbody tr th {\n",
       "        vertical-align: top;\n",
       "    }\n",
       "\n",
       "    .dataframe thead th {\n",
       "        text-align: right;\n",
       "    }\n",
       "</style>\n",
       "<table border=\"1\" class=\"dataframe\">\n",
       "  <thead>\n",
       "    <tr style=\"text-align: right;\">\n",
       "      <th></th>\n",
       "      <th>0</th>\n",
       "      <th>1</th>\n",
       "      <th>2</th>\n",
       "      <th>3</th>\n",
       "      <th>4</th>\n",
       "      <th>5</th>\n",
       "      <th>6</th>\n",
       "      <th>7</th>\n",
       "      <th>8</th>\n",
       "      <th>9</th>\n",
       "      <th>...</th>\n",
       "      <th>41</th>\n",
       "      <th>42</th>\n",
       "      <th>43</th>\n",
       "      <th>44</th>\n",
       "      <th>45</th>\n",
       "      <th>46</th>\n",
       "      <th>47</th>\n",
       "      <th>48</th>\n",
       "      <th>49</th>\n",
       "      <th>50</th>\n",
       "    </tr>\n",
       "  </thead>\n",
       "  <tbody>\n",
       "    <tr>\n",
       "      <th>0</th>\n",
       "      <td>2.964</td>\n",
       "      <td>2.322959</td>\n",
       "      <td>1.544607</td>\n",
       "      <td>0.778310</td>\n",
       "      <td>1.962012</td>\n",
       "      <td>2.677445</td>\n",
       "      <td>0.237877</td>\n",
       "      <td>0.689194</td>\n",
       "      <td>0.358525</td>\n",
       "      <td>0.814643</td>\n",
       "      <td>...</td>\n",
       "      <td>0.898895</td>\n",
       "      <td>0.203825</td>\n",
       "      <td>0.221624</td>\n",
       "      <td>0.319531</td>\n",
       "      <td>0.830996</td>\n",
       "      <td>0.924987</td>\n",
       "      <td>0.219128</td>\n",
       "      <td>0.274880</td>\n",
       "      <td>0.990488</td>\n",
       "      <td>0.779475</td>\n",
       "    </tr>\n",
       "    <tr>\n",
       "      <th>1</th>\n",
       "      <td>2.584</td>\n",
       "      <td>2.371797</td>\n",
       "      <td>1.544607</td>\n",
       "      <td>0.778310</td>\n",
       "      <td>1.962012</td>\n",
       "      <td>2.733737</td>\n",
       "      <td>0.192929</td>\n",
       "      <td>0.558967</td>\n",
       "      <td>0.358525</td>\n",
       "      <td>0.660712</td>\n",
       "      <td>...</td>\n",
       "      <td>0.917793</td>\n",
       "      <td>0.165311</td>\n",
       "      <td>0.179747</td>\n",
       "      <td>0.319531</td>\n",
       "      <td>0.848467</td>\n",
       "      <td>0.944434</td>\n",
       "      <td>0.177722</td>\n",
       "      <td>0.222940</td>\n",
       "      <td>1.011313</td>\n",
       "      <td>0.795863</td>\n",
       "    </tr>\n",
       "    <tr>\n",
       "      <th>2</th>\n",
       "      <td>3.071</td>\n",
       "      <td>2.415961</td>\n",
       "      <td>1.319880</td>\n",
       "      <td>0.665072</td>\n",
       "      <td>1.676555</td>\n",
       "      <td>2.784640</td>\n",
       "      <td>0.382869</td>\n",
       "      <td>1.109272</td>\n",
       "      <td>0.377198</td>\n",
       "      <td>1.311186</td>\n",
       "      <td>...</td>\n",
       "      <td>0.934883</td>\n",
       "      <td>0.328060</td>\n",
       "      <td>0.356708</td>\n",
       "      <td>0.336174</td>\n",
       "      <td>0.864266</td>\n",
       "      <td>0.962019</td>\n",
       "      <td>0.352691</td>\n",
       "      <td>0.442426</td>\n",
       "      <td>1.030144</td>\n",
       "      <td>0.810682</td>\n",
       "    </tr>\n",
       "    <tr>\n",
       "      <th>3</th>\n",
       "      <td>2.694</td>\n",
       "      <td>2.302538</td>\n",
       "      <td>1.319880</td>\n",
       "      <td>0.665072</td>\n",
       "      <td>1.676555</td>\n",
       "      <td>2.653908</td>\n",
       "      <td>0.442052</td>\n",
       "      <td>1.280743</td>\n",
       "      <td>0.377198</td>\n",
       "      <td>1.513868</td>\n",
       "      <td>...</td>\n",
       "      <td>0.890992</td>\n",
       "      <td>0.378772</td>\n",
       "      <td>0.411848</td>\n",
       "      <td>0.336174</td>\n",
       "      <td>0.823691</td>\n",
       "      <td>0.916855</td>\n",
       "      <td>0.407209</td>\n",
       "      <td>0.510816</td>\n",
       "      <td>0.981781</td>\n",
       "      <td>0.772623</td>\n",
       "    </tr>\n",
       "    <tr>\n",
       "      <th>4</th>\n",
       "      <td>2.569</td>\n",
       "      <td>2.363063</td>\n",
       "      <td>0.913154</td>\n",
       "      <td>0.460128</td>\n",
       "      <td>1.159919</td>\n",
       "      <td>2.723669</td>\n",
       "      <td>0.192242</td>\n",
       "      <td>0.556976</td>\n",
       "      <td>0.668500</td>\n",
       "      <td>0.658358</td>\n",
       "      <td>...</td>\n",
       "      <td>0.914413</td>\n",
       "      <td>0.164722</td>\n",
       "      <td>0.179106</td>\n",
       "      <td>0.595793</td>\n",
       "      <td>0.845343</td>\n",
       "      <td>0.940956</td>\n",
       "      <td>0.177089</td>\n",
       "      <td>0.222146</td>\n",
       "      <td>1.007588</td>\n",
       "      <td>0.792932</td>\n",
       "    </tr>\n",
       "    <tr>\n",
       "      <th>...</th>\n",
       "      <td>...</td>\n",
       "      <td>...</td>\n",
       "      <td>...</td>\n",
       "      <td>...</td>\n",
       "      <td>...</td>\n",
       "      <td>...</td>\n",
       "      <td>...</td>\n",
       "      <td>...</td>\n",
       "      <td>...</td>\n",
       "      <td>...</td>\n",
       "      <td>...</td>\n",
       "      <td>...</td>\n",
       "      <td>...</td>\n",
       "      <td>...</td>\n",
       "      <td>...</td>\n",
       "      <td>...</td>\n",
       "      <td>...</td>\n",
       "      <td>...</td>\n",
       "      <td>...</td>\n",
       "      <td>...</td>\n",
       "      <td>...</td>\n",
       "    </tr>\n",
       "    <tr>\n",
       "      <th>35131</th>\n",
       "      <td>1.664</td>\n",
       "      <td>2.244719</td>\n",
       "      <td>1.455982</td>\n",
       "      <td>0.733653</td>\n",
       "      <td>1.849437</td>\n",
       "      <td>2.587266</td>\n",
       "      <td>0.205654</td>\n",
       "      <td>0.595835</td>\n",
       "      <td>0.171793</td>\n",
       "      <td>0.704291</td>\n",
       "      <td>...</td>\n",
       "      <td>0.868619</td>\n",
       "      <td>0.176214</td>\n",
       "      <td>0.191602</td>\n",
       "      <td>0.153109</td>\n",
       "      <td>0.803007</td>\n",
       "      <td>0.893832</td>\n",
       "      <td>0.189444</td>\n",
       "      <td>0.237645</td>\n",
       "      <td>0.957128</td>\n",
       "      <td>0.753222</td>\n",
       "    </tr>\n",
       "    <tr>\n",
       "      <th>35132</th>\n",
       "      <td>1.659</td>\n",
       "      <td>2.136340</td>\n",
       "      <td>1.201186</td>\n",
       "      <td>0.605264</td>\n",
       "      <td>1.525786</td>\n",
       "      <td>2.462348</td>\n",
       "      <td>0.201219</td>\n",
       "      <td>0.582985</td>\n",
       "      <td>0.067223</td>\n",
       "      <td>0.689101</td>\n",
       "      <td>...</td>\n",
       "      <td>0.826680</td>\n",
       "      <td>0.172414</td>\n",
       "      <td>0.187470</td>\n",
       "      <td>0.059912</td>\n",
       "      <td>0.764237</td>\n",
       "      <td>0.850676</td>\n",
       "      <td>0.185359</td>\n",
       "      <td>0.232519</td>\n",
       "      <td>0.910916</td>\n",
       "      <td>0.716855</td>\n",
       "    </tr>\n",
       "    <tr>\n",
       "      <th>35133</th>\n",
       "      <td>1.664</td>\n",
       "      <td>2.192805</td>\n",
       "      <td>1.201186</td>\n",
       "      <td>0.605264</td>\n",
       "      <td>1.525786</td>\n",
       "      <td>2.527430</td>\n",
       "      <td>0.228585</td>\n",
       "      <td>0.662271</td>\n",
       "      <td>0.067223</td>\n",
       "      <td>0.782819</td>\n",
       "      <td>...</td>\n",
       "      <td>0.848530</td>\n",
       "      <td>0.195862</td>\n",
       "      <td>0.212966</td>\n",
       "      <td>0.059912</td>\n",
       "      <td>0.784436</td>\n",
       "      <td>0.873160</td>\n",
       "      <td>0.210568</td>\n",
       "      <td>0.264142</td>\n",
       "      <td>0.934992</td>\n",
       "      <td>0.735802</td>\n",
       "    </tr>\n",
       "    <tr>\n",
       "      <th>35134</th>\n",
       "      <td>1.697</td>\n",
       "      <td>1.446083</td>\n",
       "      <td>0.259545</td>\n",
       "      <td>0.130782</td>\n",
       "      <td>0.329682</td>\n",
       "      <td>1.666757</td>\n",
       "      <td>0.189302</td>\n",
       "      <td>0.548459</td>\n",
       "      <td>0.070958</td>\n",
       "      <td>0.648292</td>\n",
       "      <td>...</td>\n",
       "      <td>0.559578</td>\n",
       "      <td>0.162203</td>\n",
       "      <td>0.176368</td>\n",
       "      <td>0.063241</td>\n",
       "      <td>0.517310</td>\n",
       "      <td>0.575820</td>\n",
       "      <td>0.174381</td>\n",
       "      <td>0.218749</td>\n",
       "      <td>0.616596</td>\n",
       "      <td>0.485237</td>\n",
       "    </tr>\n",
       "    <tr>\n",
       "      <th>35135</th>\n",
       "      <td>1.673</td>\n",
       "      <td>1.174827</td>\n",
       "      <td>0.259545</td>\n",
       "      <td>0.130782</td>\n",
       "      <td>0.329682</td>\n",
       "      <td>1.354107</td>\n",
       "      <td>0.208899</td>\n",
       "      <td>0.605235</td>\n",
       "      <td>0.070958</td>\n",
       "      <td>0.715402</td>\n",
       "      <td>...</td>\n",
       "      <td>0.454612</td>\n",
       "      <td>0.178994</td>\n",
       "      <td>0.194625</td>\n",
       "      <td>0.063241</td>\n",
       "      <td>0.420273</td>\n",
       "      <td>0.467808</td>\n",
       "      <td>0.192433</td>\n",
       "      <td>0.241394</td>\n",
       "      <td>0.500935</td>\n",
       "      <td>0.394216</td>\n",
       "    </tr>\n",
       "  </tbody>\n",
       "</table>\n",
       "<p>35136 rows × 51 columns</p>\n",
       "</div>"
      ],
      "text/plain": [
       "          0         1         2         3         4         5         6   \\\n",
       "0      2.964  2.322959  1.544607  0.778310  1.962012  2.677445  0.237877   \n",
       "1      2.584  2.371797  1.544607  0.778310  1.962012  2.733737  0.192929   \n",
       "2      3.071  2.415961  1.319880  0.665072  1.676555  2.784640  0.382869   \n",
       "3      2.694  2.302538  1.319880  0.665072  1.676555  2.653908  0.442052   \n",
       "4      2.569  2.363063  0.913154  0.460128  1.159919  2.723669  0.192242   \n",
       "...      ...       ...       ...       ...       ...       ...       ...   \n",
       "35131  1.664  2.244719  1.455982  0.733653  1.849437  2.587266  0.205654   \n",
       "35132  1.659  2.136340  1.201186  0.605264  1.525786  2.462348  0.201219   \n",
       "35133  1.664  2.192805  1.201186  0.605264  1.525786  2.527430  0.228585   \n",
       "35134  1.697  1.446083  0.259545  0.130782  0.329682  1.666757  0.189302   \n",
       "35135  1.673  1.174827  0.259545  0.130782  0.329682  1.354107  0.208899   \n",
       "\n",
       "             7         8         9   ...        41        42        43  \\\n",
       "0      0.689194  0.358525  0.814643  ...  0.898895  0.203825  0.221624   \n",
       "1      0.558967  0.358525  0.660712  ...  0.917793  0.165311  0.179747   \n",
       "2      1.109272  0.377198  1.311186  ...  0.934883  0.328060  0.356708   \n",
       "3      1.280743  0.377198  1.513868  ...  0.890992  0.378772  0.411848   \n",
       "4      0.556976  0.668500  0.658358  ...  0.914413  0.164722  0.179106   \n",
       "...         ...       ...       ...  ...       ...       ...       ...   \n",
       "35131  0.595835  0.171793  0.704291  ...  0.868619  0.176214  0.191602   \n",
       "35132  0.582985  0.067223  0.689101  ...  0.826680  0.172414  0.187470   \n",
       "35133  0.662271  0.067223  0.782819  ...  0.848530  0.195862  0.212966   \n",
       "35134  0.548459  0.070958  0.648292  ...  0.559578  0.162203  0.176368   \n",
       "35135  0.605235  0.070958  0.715402  ...  0.454612  0.178994  0.194625   \n",
       "\n",
       "             44        45        46        47        48        49        50  \n",
       "0      0.319531  0.830996  0.924987  0.219128  0.274880  0.990488  0.779475  \n",
       "1      0.319531  0.848467  0.944434  0.177722  0.222940  1.011313  0.795863  \n",
       "2      0.336174  0.864266  0.962019  0.352691  0.442426  1.030144  0.810682  \n",
       "3      0.336174  0.823691  0.916855  0.407209  0.510816  0.981781  0.772623  \n",
       "4      0.595793  0.845343  0.940956  0.177089  0.222146  1.007588  0.792932  \n",
       "...         ...       ...       ...       ...       ...       ...       ...  \n",
       "35131  0.153109  0.803007  0.893832  0.189444  0.237645  0.957128  0.753222  \n",
       "35132  0.059912  0.764237  0.850676  0.185359  0.232519  0.910916  0.716855  \n",
       "35133  0.059912  0.784436  0.873160  0.210568  0.264142  0.934992  0.735802  \n",
       "35134  0.063241  0.517310  0.575820  0.174381  0.218749  0.616596  0.485237  \n",
       "35135  0.063241  0.420273  0.467808  0.192433  0.241394  0.500935  0.394216  \n",
       "\n",
       "[35136 rows x 51 columns]"
      ]
     },
     "execution_count": 2,
     "metadata": {},
     "output_type": "execute_result"
    }
   ],
   "source": [
    "data = pd.read_excel(\"../Dataset.xlsx\", sheet_name=['Total Consumers'])\n",
    "df = data['Total Consumers']\n",
    "df"
   ]
  },
  {
   "cell_type": "code",
   "execution_count": 103,
   "id": "f90d489b",
   "metadata": {},
   "outputs": [],
   "source": [
    "def no_ml_predict(X, y):\n",
    "    mse = mean_squared_error(X, y)\n",
    "    mae = mean_absolute_error(X, y)\n",
    "    r2 = r2_score(X, y)\n",
    "    print('MSE: %.4f' % mse)\n",
    "    print('MAE: %.4f' % mae)\n",
    "    print('R2: %.4f' % r2)"
   ]
  },
  {
   "cell_type": "code",
   "execution_count": 113,
   "id": "4781f2b7",
   "metadata": {},
   "outputs": [],
   "source": [
    "df_public = df[0]"
   ]
  },
  {
   "cell_type": "markdown",
   "id": "bb497fff",
   "metadata": {},
   "source": [
    "#### Last 15 minutes prediction data"
   ]
  },
  {
   "cell_type": "code",
   "execution_count": 114,
   "id": "0a2a0271",
   "metadata": {},
   "outputs": [
    {
     "data": {
      "text/plain": [
       "0        2.964\n",
       "1        2.584\n",
       "2        3.071\n",
       "3        2.694\n",
       "4        2.569\n",
       "         ...  \n",
       "35130    1.670\n",
       "35131    1.664\n",
       "35132    1.659\n",
       "35133    1.664\n",
       "35134    1.697\n",
       "Name: 0, Length: 35135, dtype: float64"
      ]
     },
     "execution_count": 114,
     "metadata": {},
     "output_type": "execute_result"
    }
   ],
   "source": [
    "X_last15_public = df_public.copy()\n",
    "X_last15_public = X_last15_public.iloc[0:(m-1)]\n",
    "X_last15_public"
   ]
  },
  {
   "cell_type": "code",
   "execution_count": 115,
   "id": "aa3b7450",
   "metadata": {},
   "outputs": [
    {
     "data": {
      "text/plain": [
       "0        2.584\n",
       "1        3.071\n",
       "2        2.694\n",
       "3        2.569\n",
       "4        3.174\n",
       "         ...  \n",
       "35130    1.664\n",
       "35131    1.659\n",
       "35132    1.664\n",
       "35133    1.697\n",
       "35134    1.673\n",
       "Name: 0, Length: 35135, dtype: float64"
      ]
     },
     "execution_count": 115,
     "metadata": {},
     "output_type": "execute_result"
    }
   ],
   "source": [
    "y_last15_public = df_public.copy()\n",
    "m = len(X_last15_public)\n",
    "\n",
    "y_last15_public = y_last15_public.iloc[1:].reset_index(drop=True)\n",
    "y_last15_public"
   ]
  },
  {
   "cell_type": "markdown",
   "id": "837c59da",
   "metadata": {},
   "source": [
    "#### Previous day at same hour prediction data"
   ]
  },
  {
   "cell_type": "code",
   "execution_count": 116,
   "id": "e30a5f77",
   "metadata": {},
   "outputs": [
    {
     "data": {
      "text/plain": [
       "0        2.964\n",
       "1        2.584\n",
       "2        3.071\n",
       "3        2.694\n",
       "4        2.569\n",
       "         ...  \n",
       "35083    1.658\n",
       "35084    1.656\n",
       "35085    1.679\n",
       "35086    1.677\n",
       "35087    1.664\n",
       "Name: 0, Length: 35088, dtype: float64"
      ]
     },
     "execution_count": 116,
     "metadata": {},
     "output_type": "execute_result"
    }
   ],
   "source": [
    "X_previous_day = df_public.copy()\n",
    "m = len(X_previous_day)\n",
    "X_previous_day = X_previous_day.iloc[0:(m-48)]\n",
    "X_previous_day"
   ]
  },
  {
   "cell_type": "code",
   "execution_count": 117,
   "id": "46eabda7",
   "metadata": {},
   "outputs": [
    {
     "data": {
      "text/plain": [
       "0        2.717\n",
       "1        3.089\n",
       "2        2.522\n",
       "3        3.206\n",
       "4        3.166\n",
       "         ...  \n",
       "35083    1.664\n",
       "35084    1.659\n",
       "35085    1.664\n",
       "35086    1.697\n",
       "35087    1.673\n",
       "Name: 0, Length: 35088, dtype: float64"
      ]
     },
     "execution_count": 117,
     "metadata": {},
     "output_type": "execute_result"
    }
   ],
   "source": [
    "y_previous_day = df_public.copy()\n",
    "y_previous_day = y_previous_day.iloc[48:].reset_index(drop=True)\n",
    "y_previous_day"
   ]
  },
  {
   "cell_type": "markdown",
   "id": "83c5e007",
   "metadata": {},
   "source": [
    "#### Previous week same day at same hour prediction data"
   ]
  },
  {
   "cell_type": "code",
   "execution_count": 118,
   "id": "4152c794",
   "metadata": {},
   "outputs": [
    {
     "data": {
      "text/plain": [
       "0        2.964\n",
       "1        2.584\n",
       "2        3.071\n",
       "3        2.694\n",
       "4        2.569\n",
       "         ...  \n",
       "34795    1.660\n",
       "34796    1.659\n",
       "34797    1.664\n",
       "34798    1.710\n",
       "34799    1.664\n",
       "Name: 0, Length: 34800, dtype: float64"
      ]
     },
     "execution_count": 118,
     "metadata": {},
     "output_type": "execute_result"
    }
   ],
   "source": [
    "X_last_week = df_public.copy()\n",
    "m = len(X_last_week)\n",
    "X_last_week = X_last_week.iloc[0:(m-48*7)]\n",
    "X_last_week"
   ]
  },
  {
   "cell_type": "code",
   "execution_count": 119,
   "id": "c79f6f5f",
   "metadata": {},
   "outputs": [
    {
     "data": {
      "text/plain": [
       "0        6.596\n",
       "1        6.653\n",
       "2        7.054\n",
       "3        6.929\n",
       "4        6.717\n",
       "         ...  \n",
       "34795    1.664\n",
       "34796    1.659\n",
       "34797    1.664\n",
       "34798    1.697\n",
       "34799    1.673\n",
       "Name: 0, Length: 34800, dtype: float64"
      ]
     },
     "execution_count": 119,
     "metadata": {},
     "output_type": "execute_result"
    }
   ],
   "source": [
    "y_last_week = df_public.copy()\n",
    "y_last_week = y_last_week.iloc[(48*7):].reset_index(drop=True)\n",
    "y_last_week"
   ]
  },
  {
   "cell_type": "markdown",
   "id": "51d68b74",
   "metadata": {},
   "source": [
    "### Prediction"
   ]
  },
  {
   "cell_type": "code",
   "execution_count": 120,
   "id": "9dd26d7e",
   "metadata": {},
   "outputs": [
    {
     "name": "stdout",
     "output_type": "stream",
     "text": [
      "MSE: 0.2680\n",
      "MAE: 0.3025\n",
      "R2: 0.9793\n"
     ]
    }
   ],
   "source": [
    "no_ml_predict(X_last15_public, y_last15_public)"
   ]
  },
  {
   "cell_type": "code",
   "execution_count": 121,
   "id": "ff508706",
   "metadata": {},
   "outputs": [
    {
     "name": "stdout",
     "output_type": "stream",
     "text": [
      "MSE: 9.0375\n",
      "MAE: 1.4935\n",
      "R2: 0.3009\n"
     ]
    }
   ],
   "source": [
    "no_ml_predict(X_previous_day, y_previous_day)"
   ]
  },
  {
   "cell_type": "code",
   "execution_count": 122,
   "id": "ef34dc3e",
   "metadata": {},
   "outputs": [
    {
     "name": "stdout",
     "output_type": "stream",
     "text": [
      "MSE: 28.4673\n",
      "MAE: 2.0823\n",
      "R2: -1.1895\n"
     ]
    }
   ],
   "source": [
    "no_ml_predict(X_last_week, y_last_week)"
   ]
  },
  {
   "cell_type": "code",
   "execution_count": null,
   "id": "fcad234b",
   "metadata": {},
   "outputs": [],
   "source": []
  }
 ],
 "metadata": {
  "kernelspec": {
   "display_name": "Python 3 (ipykernel)",
   "language": "python",
   "name": "python3"
  },
  "language_info": {
   "codemirror_mode": {
    "name": "ipython",
    "version": 3
   },
   "file_extension": ".py",
   "mimetype": "text/x-python",
   "name": "python",
   "nbconvert_exporter": "python",
   "pygments_lexer": "ipython3",
   "version": "3.9.12"
  }
 },
 "nbformat": 4,
 "nbformat_minor": 5
}
