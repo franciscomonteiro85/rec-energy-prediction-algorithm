{
 "cells": [
  {
   "cell_type": "code",
   "execution_count": 76,
   "id": "58081526",
   "metadata": {},
   "outputs": [],
   "source": [
    "import warnings\n",
    "warnings.filterwarnings('ignore',category=FutureWarning)\n",
    "warnings.filterwarnings('ignore',category=DeprecationWarning)\n",
    "import numpy as np\n",
    "import pandas as pd\n",
    "import matplotlib.pyplot as plt\n",
    "from sklearn.model_selection import train_test_split, cross_val_score, cross_validate, KFold, RepeatedKFold, RandomizedSearchCV\n",
    "from sklearn.metrics import mean_squared_error, r2_score, mean_absolute_error, mean_absolute_percentage_error\n",
    "from sklearn.linear_model import LinearRegression\n",
    "from sklearn.preprocessing import PolynomialFeatures, MinMaxScaler\n",
    "from sklearn.ensemble import GradientBoostingRegressor, RandomForestRegressor\n",
    "from sklearn.linear_model import LinearRegression\n",
    "import time\n",
    "import cudf\n",
    "from cuml.ensemble import RandomForestRegressor as cuRF\n",
    "import math\n",
    "from tqdm import tqdm\n",
    "import xgboost as xgb"
   ]
  },
  {
   "attachments": {},
   "cell_type": "markdown",
   "id": "aa402221",
   "metadata": {},
   "source": [
    "#### Output file"
   ]
  },
  {
   "cell_type": "code",
   "execution_count": 77,
   "id": "70c13e8f",
   "metadata": {},
   "outputs": [],
   "source": [
    "sourceFile = open(\"gpu_logs/ensemble_banes.txt\", 'w')"
   ]
  },
  {
   "attachments": {},
   "cell_type": "markdown",
   "id": "e8907202",
   "metadata": {},
   "source": [
    "### Load the data"
   ]
  },
  {
   "cell_type": "code",
   "execution_count": 78,
   "id": "f6963e23",
   "metadata": {},
   "outputs": [
    {
     "data": {
      "text/html": [
       "<div>\n",
       "<style scoped>\n",
       "    .dataframe tbody tr th:only-of-type {\n",
       "        vertical-align: middle;\n",
       "    }\n",
       "\n",
       "    .dataframe tbody tr th {\n",
       "        vertical-align: top;\n",
       "    }\n",
       "\n",
       "    .dataframe thead th {\n",
       "        text-align: right;\n",
       "    }\n",
       "</style>\n",
       "<table border=\"1\" class=\"dataframe\">\n",
       "  <thead>\n",
       "    <tr style=\"text-align: right;\">\n",
       "      <th></th>\n",
       "      <th>location</th>\n",
       "      <th>time</th>\n",
       "      <th>energy</th>\n",
       "      <th>AirTemp</th>\n",
       "      <th>RelativeHumidity</th>\n",
       "      <th>Dni</th>\n",
       "    </tr>\n",
       "  </thead>\n",
       "  <tbody>\n",
       "    <tr>\n",
       "      <th>0</th>\n",
       "      <td>## OLD Paulton Library Electricity Supply 1</td>\n",
       "      <td>2008-06-14 00:30:00+00:00</td>\n",
       "      <td>0.080</td>\n",
       "      <td>9.1</td>\n",
       "      <td>0.829</td>\n",
       "      <td>0.0</td>\n",
       "    </tr>\n",
       "    <tr>\n",
       "      <th>1</th>\n",
       "      <td>## OLD Paulton Library Electricity Supply 1</td>\n",
       "      <td>2008-06-14 01:00:00+00:00</td>\n",
       "      <td>0.070</td>\n",
       "      <td>8.9</td>\n",
       "      <td>0.836</td>\n",
       "      <td>0.0</td>\n",
       "    </tr>\n",
       "    <tr>\n",
       "      <th>2</th>\n",
       "      <td>## OLD Paulton Library Electricity Supply 1</td>\n",
       "      <td>2008-06-14 01:30:00+00:00</td>\n",
       "      <td>0.080</td>\n",
       "      <td>8.7</td>\n",
       "      <td>0.844</td>\n",
       "      <td>0.0</td>\n",
       "    </tr>\n",
       "    <tr>\n",
       "      <th>3</th>\n",
       "      <td>## OLD Paulton Library Electricity Supply 1</td>\n",
       "      <td>2008-06-14 02:00:00+00:00</td>\n",
       "      <td>0.070</td>\n",
       "      <td>8.5</td>\n",
       "      <td>0.852</td>\n",
       "      <td>0.0</td>\n",
       "    </tr>\n",
       "    <tr>\n",
       "      <th>4</th>\n",
       "      <td>## OLD Paulton Library Electricity Supply 1</td>\n",
       "      <td>2008-06-14 02:30:00+00:00</td>\n",
       "      <td>0.080</td>\n",
       "      <td>8.3</td>\n",
       "      <td>0.860</td>\n",
       "      <td>0.0</td>\n",
       "    </tr>\n",
       "    <tr>\n",
       "      <th>...</th>\n",
       "      <td>...</td>\n",
       "      <td>...</td>\n",
       "      <td>...</td>\n",
       "      <td>...</td>\n",
       "      <td>...</td>\n",
       "      <td>...</td>\n",
       "    </tr>\n",
       "    <tr>\n",
       "      <th>7759963</th>\n",
       "      <td>Westfield Childrens Centre (Now Schools Respon...</td>\n",
       "      <td>2020-02-07 22:00:00+00:00</td>\n",
       "      <td>0.126</td>\n",
       "      <td>8.6</td>\n",
       "      <td>0.904</td>\n",
       "      <td>0.0</td>\n",
       "    </tr>\n",
       "    <tr>\n",
       "      <th>7759964</th>\n",
       "      <td>Westfield Childrens Centre (Now Schools Respon...</td>\n",
       "      <td>2020-02-07 22:30:00+00:00</td>\n",
       "      <td>0.124</td>\n",
       "      <td>9.1</td>\n",
       "      <td>0.896</td>\n",
       "      <td>0.0</td>\n",
       "    </tr>\n",
       "    <tr>\n",
       "      <th>7759965</th>\n",
       "      <td>Westfield Childrens Centre (Now Schools Respon...</td>\n",
       "      <td>2020-02-07 23:00:00+00:00</td>\n",
       "      <td>0.158</td>\n",
       "      <td>9.5</td>\n",
       "      <td>0.899</td>\n",
       "      <td>0.0</td>\n",
       "    </tr>\n",
       "    <tr>\n",
       "      <th>7759966</th>\n",
       "      <td>Westfield Childrens Centre (Now Schools Respon...</td>\n",
       "      <td>2020-02-07 23:30:00+00:00</td>\n",
       "      <td>0.142</td>\n",
       "      <td>9.7</td>\n",
       "      <td>0.914</td>\n",
       "      <td>0.0</td>\n",
       "    </tr>\n",
       "    <tr>\n",
       "      <th>7759967</th>\n",
       "      <td>Westfield Childrens Centre (Now Schools Respon...</td>\n",
       "      <td>2020-02-08 00:00:00+00:00</td>\n",
       "      <td>0.147</td>\n",
       "      <td>9.8</td>\n",
       "      <td>0.918</td>\n",
       "      <td>0.0</td>\n",
       "    </tr>\n",
       "  </tbody>\n",
       "</table>\n",
       "<p>7759968 rows × 6 columns</p>\n",
       "</div>"
      ],
      "text/plain": [
       "                                                  location  \\\n",
       "0              ## OLD Paulton Library Electricity Supply 1   \n",
       "1              ## OLD Paulton Library Electricity Supply 1   \n",
       "2              ## OLD Paulton Library Electricity Supply 1   \n",
       "3              ## OLD Paulton Library Electricity Supply 1   \n",
       "4              ## OLD Paulton Library Electricity Supply 1   \n",
       "...                                                    ...   \n",
       "7759963  Westfield Childrens Centre (Now Schools Respon...   \n",
       "7759964  Westfield Childrens Centre (Now Schools Respon...   \n",
       "7759965  Westfield Childrens Centre (Now Schools Respon...   \n",
       "7759966  Westfield Childrens Centre (Now Schools Respon...   \n",
       "7759967  Westfield Childrens Centre (Now Schools Respon...   \n",
       "\n",
       "                             time  energy  AirTemp  RelativeHumidity  Dni  \n",
       "0       2008-06-14 00:30:00+00:00   0.080      9.1             0.829  0.0  \n",
       "1       2008-06-14 01:00:00+00:00   0.070      8.9             0.836  0.0  \n",
       "2       2008-06-14 01:30:00+00:00   0.080      8.7             0.844  0.0  \n",
       "3       2008-06-14 02:00:00+00:00   0.070      8.5             0.852  0.0  \n",
       "4       2008-06-14 02:30:00+00:00   0.080      8.3             0.860  0.0  \n",
       "...                           ...     ...      ...               ...  ...  \n",
       "7759963 2020-02-07 22:00:00+00:00   0.126      8.6             0.904  0.0  \n",
       "7759964 2020-02-07 22:30:00+00:00   0.124      9.1             0.896  0.0  \n",
       "7759965 2020-02-07 23:00:00+00:00   0.158      9.5             0.899  0.0  \n",
       "7759966 2020-02-07 23:30:00+00:00   0.142      9.7             0.914  0.0  \n",
       "7759967 2020-02-08 00:00:00+00:00   0.147      9.8             0.918  0.0  \n",
       "\n",
       "[7759968 rows x 6 columns]"
      ]
     },
     "execution_count": 78,
     "metadata": {},
     "output_type": "execute_result"
    }
   ],
   "source": [
    "df = pd.read_csv(\"data/BANES_v2.csv\", parse_dates=['time'])\n",
    "number_of_houses = df['location'].nunique()\n",
    "#num_samples_per_house = 35136\n",
    "df.reset_index(drop=True, inplace=True)\n",
    "## Leaving the first house (public building out) due to its different profile\n",
    "#df = df.iloc[35136:, [0, 2, 1]].reset_index(drop=True)\n",
    "df"
   ]
  },
  {
   "cell_type": "code",
   "execution_count": 79,
   "id": "d66b8490",
   "metadata": {},
   "outputs": [
    {
     "data": {
      "text/html": [
       "<div>\n",
       "<style scoped>\n",
       "    .dataframe tbody tr th:only-of-type {\n",
       "        vertical-align: middle;\n",
       "    }\n",
       "\n",
       "    .dataframe tbody tr th {\n",
       "        vertical-align: top;\n",
       "    }\n",
       "\n",
       "    .dataframe thead th {\n",
       "        text-align: right;\n",
       "    }\n",
       "</style>\n",
       "<table border=\"1\" class=\"dataframe\">\n",
       "  <thead>\n",
       "    <tr style=\"text-align: right;\">\n",
       "      <th></th>\n",
       "      <th>location</th>\n",
       "      <th>time</th>\n",
       "      <th>energy</th>\n",
       "      <th>AirTemp</th>\n",
       "      <th>RelativeHumidity</th>\n",
       "      <th>Dni</th>\n",
       "    </tr>\n",
       "  </thead>\n",
       "  <tbody>\n",
       "    <tr>\n",
       "      <th>80112</th>\n",
       "      <td>## OLD Paulton Library Electricity Supply 1</td>\n",
       "      <td>2018-01-01 00:30:00+00:00</td>\n",
       "      <td>0.000</td>\n",
       "      <td>5.5</td>\n",
       "      <td>0.815</td>\n",
       "      <td>0.0</td>\n",
       "    </tr>\n",
       "    <tr>\n",
       "      <th>80113</th>\n",
       "      <td>## OLD Paulton Library Electricity Supply 1</td>\n",
       "      <td>2018-01-01 01:00:00+00:00</td>\n",
       "      <td>0.000</td>\n",
       "      <td>5.5</td>\n",
       "      <td>0.804</td>\n",
       "      <td>0.0</td>\n",
       "    </tr>\n",
       "    <tr>\n",
       "      <th>80114</th>\n",
       "      <td>## OLD Paulton Library Electricity Supply 1</td>\n",
       "      <td>2018-01-01 01:30:00+00:00</td>\n",
       "      <td>0.000</td>\n",
       "      <td>5.5</td>\n",
       "      <td>0.794</td>\n",
       "      <td>0.0</td>\n",
       "    </tr>\n",
       "    <tr>\n",
       "      <th>80115</th>\n",
       "      <td>## OLD Paulton Library Electricity Supply 1</td>\n",
       "      <td>2018-01-01 02:00:00+00:00</td>\n",
       "      <td>0.000</td>\n",
       "      <td>5.4</td>\n",
       "      <td>0.784</td>\n",
       "      <td>0.0</td>\n",
       "    </tr>\n",
       "    <tr>\n",
       "      <th>80116</th>\n",
       "      <td>## OLD Paulton Library Electricity Supply 1</td>\n",
       "      <td>2018-01-01 02:30:00+00:00</td>\n",
       "      <td>0.000</td>\n",
       "      <td>5.4</td>\n",
       "      <td>0.774</td>\n",
       "      <td>0.0</td>\n",
       "    </tr>\n",
       "    <tr>\n",
       "      <th>...</th>\n",
       "      <td>...</td>\n",
       "      <td>...</td>\n",
       "      <td>...</td>\n",
       "      <td>...</td>\n",
       "      <td>...</td>\n",
       "      <td>...</td>\n",
       "    </tr>\n",
       "    <tr>\n",
       "      <th>7759963</th>\n",
       "      <td>Westfield Childrens Centre (Now Schools Respon...</td>\n",
       "      <td>2020-02-07 22:00:00+00:00</td>\n",
       "      <td>0.126</td>\n",
       "      <td>8.6</td>\n",
       "      <td>0.904</td>\n",
       "      <td>0.0</td>\n",
       "    </tr>\n",
       "    <tr>\n",
       "      <th>7759964</th>\n",
       "      <td>Westfield Childrens Centre (Now Schools Respon...</td>\n",
       "      <td>2020-02-07 22:30:00+00:00</td>\n",
       "      <td>0.124</td>\n",
       "      <td>9.1</td>\n",
       "      <td>0.896</td>\n",
       "      <td>0.0</td>\n",
       "    </tr>\n",
       "    <tr>\n",
       "      <th>7759965</th>\n",
       "      <td>Westfield Childrens Centre (Now Schools Respon...</td>\n",
       "      <td>2020-02-07 23:00:00+00:00</td>\n",
       "      <td>0.158</td>\n",
       "      <td>9.5</td>\n",
       "      <td>0.899</td>\n",
       "      <td>0.0</td>\n",
       "    </tr>\n",
       "    <tr>\n",
       "      <th>7759966</th>\n",
       "      <td>Westfield Childrens Centre (Now Schools Respon...</td>\n",
       "      <td>2020-02-07 23:30:00+00:00</td>\n",
       "      <td>0.142</td>\n",
       "      <td>9.7</td>\n",
       "      <td>0.914</td>\n",
       "      <td>0.0</td>\n",
       "    </tr>\n",
       "    <tr>\n",
       "      <th>7759967</th>\n",
       "      <td>Westfield Childrens Centre (Now Schools Respon...</td>\n",
       "      <td>2020-02-08 00:00:00+00:00</td>\n",
       "      <td>0.147</td>\n",
       "      <td>9.8</td>\n",
       "      <td>0.918</td>\n",
       "      <td>0.0</td>\n",
       "    </tr>\n",
       "  </tbody>\n",
       "</table>\n",
       "<p>2532288 rows × 6 columns</p>\n",
       "</div>"
      ],
      "text/plain": [
       "                                                  location  \\\n",
       "80112          ## OLD Paulton Library Electricity Supply 1   \n",
       "80113          ## OLD Paulton Library Electricity Supply 1   \n",
       "80114          ## OLD Paulton Library Electricity Supply 1   \n",
       "80115          ## OLD Paulton Library Electricity Supply 1   \n",
       "80116          ## OLD Paulton Library Electricity Supply 1   \n",
       "...                                                    ...   \n",
       "7759963  Westfield Childrens Centre (Now Schools Respon...   \n",
       "7759964  Westfield Childrens Centre (Now Schools Respon...   \n",
       "7759965  Westfield Childrens Centre (Now Schools Respon...   \n",
       "7759966  Westfield Childrens Centre (Now Schools Respon...   \n",
       "7759967  Westfield Childrens Centre (Now Schools Respon...   \n",
       "\n",
       "                             time  energy  AirTemp  RelativeHumidity  Dni  \n",
       "80112   2018-01-01 00:30:00+00:00   0.000      5.5             0.815  0.0  \n",
       "80113   2018-01-01 01:00:00+00:00   0.000      5.5             0.804  0.0  \n",
       "80114   2018-01-01 01:30:00+00:00   0.000      5.5             0.794  0.0  \n",
       "80115   2018-01-01 02:00:00+00:00   0.000      5.4             0.784  0.0  \n",
       "80116   2018-01-01 02:30:00+00:00   0.000      5.4             0.774  0.0  \n",
       "...                           ...     ...      ...               ...  ...  \n",
       "7759963 2020-02-07 22:00:00+00:00   0.126      8.6             0.904  0.0  \n",
       "7759964 2020-02-07 22:30:00+00:00   0.124      9.1             0.896  0.0  \n",
       "7759965 2020-02-07 23:00:00+00:00   0.158      9.5             0.899  0.0  \n",
       "7759966 2020-02-07 23:30:00+00:00   0.142      9.7             0.914  0.0  \n",
       "7759967 2020-02-08 00:00:00+00:00   0.147      9.8             0.918  0.0  \n",
       "\n",
       "[2532288 rows x 6 columns]"
      ]
     },
     "execution_count": 79,
     "metadata": {},
     "output_type": "execute_result"
    }
   ],
   "source": [
    "df = df[df['time'] >= '2017-01-01']\n",
    "df"
   ]
  },
  {
   "cell_type": "code",
   "execution_count": 80,
   "id": "f318159d",
   "metadata": {},
   "outputs": [],
   "source": [
    "#trunc = lambda x: math.trunc(10000 * x) / 10000\n",
    "#df_trunc = pd.DataFrame(df['Energy']).applymap(trunc)\n",
    "#df = pd.concat([df.iloc[:, 0:-1], df_trunc], axis=1)\n",
    "#df"
   ]
  },
  {
   "cell_type": "markdown",
   "id": "54c9d325",
   "metadata": {},
   "source": [
    "### Auxiliary functions"
   ]
  },
  {
   "cell_type": "code",
   "execution_count": 81,
   "id": "cd78e17d",
   "metadata": {},
   "outputs": [],
   "source": [
    "def plot_results(preds: np.array, actuals: np.array, title: str):\n",
    "    \n",
    "    plt.scatter(actuals, preds, c='b', label='predicted')\n",
    "    plt.xlabel('actual')\n",
    "    plt.ylabel('predicted')\n",
    "    plt.title(title)\n",
    "    plt.xlim(0, plt.xlim()[1])\n",
    "    plt.ylim(0, plt.ylim()[1])\n",
    "    _ = plt.plot([0, 100], [0, 100], '--r', label='y=x')\n",
    "    plt.legend()\n",
    "    plt.show()\n",
    "    \n",
    "    \n",
    "def performance_metrics(preds: np.array, actuals: np.array, filename):\n",
    "\n",
    "    # calculate performance metrics\n",
    "    \n",
    "    mse = mean_squared_error(actuals, preds)\n",
    "    wape = np.sum(np.abs(preds - actuals)) / np.sum(np.abs(actuals)) * 100\n",
    "    r2 = r2_score(actuals, preds)\n",
    "    \n",
    "    # print performance metrics\n",
    "    print('MSE: %.4f' % mse, file=filename)\n",
    "    print('WAPE: %.4f' % wape, file=filename)\n",
    "    print('R2: %.4f' % r2, file=filename)\n",
    "    return mse, wape, r2\n",
    "\n",
    "#@jit(target_backend='cuda')\n",
    "def build_model(estimator, X_train: np.array, y_train: np.array, X_test: np.array):\n",
    "    \n",
    "    model = estimator\n",
    "    model.fit(X_train, y_train)\n",
    "    preds = model.predict(X_test)\n",
    "    \n",
    "    return model, preds\n",
    "\n",
    "def validate(estimator, X_train, y_train):\n",
    "    scores = cross_validate(estimator, X_train, y_train, scoring=['r2', 'neg_mean_squared_error'])\n",
    "    return scores\n",
    "    "
   ]
  },
  {
   "cell_type": "code",
   "execution_count": 82,
   "id": "8af19e8d",
   "metadata": {},
   "outputs": [],
   "source": [
    "def total_averaged_metrics(metrics_list, filename):\n",
    "    \n",
    "    print(\"Total Averaged MSE: {}\".format(np.round(sum(i for i, j, k in metrics_list)/len(metrics_list),3)), file=filename)\n",
    "    print(\"Total Averaged WAPE: {}\".format(np.round(sum(j for i, j, k in metrics_list)/len(metrics_list),3)), file=filename)\n",
    "    print(\"Total Averaged R2: {}\".format(np.round(sum(k for i, j, k in metrics_list)/len(metrics_list),3)), file=filename)\n",
    "\n",
    "def past_timesteps(df, number_of_timesteps):\n",
    "    df = df.sort_values(by=['location', 'time'])\n",
    "    for i in tqdm(range(1, (number_of_timesteps + 1))):\n",
    "        df.loc[df['time'].shift(i) == df['time'] - pd.Timedelta(i * 30, 'm'), f\"energy_lag_{i}\"] = df['energy'].shift(i)\n",
    "    print(df.columns)\n",
    "    df.dropna(inplace=True)\n",
    "    df.reset_index(drop=True, inplace=True)\n",
    "    return df"
   ]
  },
  {
   "cell_type": "code",
   "execution_count": 83,
   "id": "9d0352ee",
   "metadata": {},
   "outputs": [],
   "source": [
    "def normalize_training(X_train):\n",
    "    scaler = MinMaxScaler(feature_range=(0,1))\n",
    "    scaler.fit(X_train)\n",
    "    X_train = scaler.transform(X_train)\n",
    "    return X_train, scaler"
   ]
  },
  {
   "cell_type": "markdown",
   "id": "bd1b0d17",
   "metadata": {},
   "source": [
    "### Cross Validate"
   ]
  },
  {
   "cell_type": "code",
   "execution_count": 84,
   "id": "71efa19a",
   "metadata": {},
   "outputs": [],
   "source": [
    "#scores = validate(xgb.XGBRegressor(seed=0), X_train, y_train)\n",
    "#cv_mse = np.round(scores['test_neg_mean_squared_error'].mean() * (-1),4)\n",
    "#cv_r2 = np.round(scores['test_r2'].mean(),5)\n",
    "#print(\"CV MSE: {} \".format(cv_mse))\n",
    "#print(\"CV R2: {} \".format(cv_r2))\n",
    "#metrics_list.append((cv_mse,cv_rmse,cv_mae,mape,cv_r2))"
   ]
  },
  {
   "cell_type": "markdown",
   "id": "0f5ba7c5",
   "metadata": {},
   "source": [
    "## Leave 10 houses for test (demonstration)"
   ]
  },
  {
   "cell_type": "code",
   "execution_count": 85,
   "id": "fd9b27b9",
   "metadata": {},
   "outputs": [],
   "source": [
    "number_of_timesteps = 12"
   ]
  },
  {
   "cell_type": "code",
   "execution_count": 86,
   "id": "8f9027ef",
   "metadata": {},
   "outputs": [
    {
     "name": "stderr",
     "output_type": "stream",
     "text": [
      "100%|██████████| 12/12 [00:00<00:00, 15.02it/s]\n"
     ]
    },
    {
     "data": {
      "text/html": [
       "<div>\n",
       "<style scoped>\n",
       "    .dataframe tbody tr th:only-of-type {\n",
       "        vertical-align: middle;\n",
       "    }\n",
       "\n",
       "    .dataframe tbody tr th {\n",
       "        vertical-align: top;\n",
       "    }\n",
       "\n",
       "    .dataframe thead th {\n",
       "        text-align: right;\n",
       "    }\n",
       "</style>\n",
       "<table border=\"1\" class=\"dataframe\">\n",
       "  <thead>\n",
       "    <tr style=\"text-align: right;\">\n",
       "      <th></th>\n",
       "      <th>location</th>\n",
       "      <th>time</th>\n",
       "      <th>energy</th>\n",
       "      <th>AirTemp</th>\n",
       "      <th>RelativeHumidity</th>\n",
       "      <th>Dni</th>\n",
       "      <th>energy_lag_1</th>\n",
       "      <th>energy_lag_2</th>\n",
       "      <th>energy_lag_3</th>\n",
       "      <th>energy_lag_4</th>\n",
       "      <th>energy_lag_5</th>\n",
       "      <th>energy_lag_6</th>\n",
       "      <th>energy_lag_7</th>\n",
       "      <th>energy_lag_8</th>\n",
       "      <th>energy_lag_9</th>\n",
       "      <th>energy_lag_10</th>\n",
       "      <th>energy_lag_11</th>\n",
       "      <th>energy_lag_12</th>\n",
       "    </tr>\n",
       "  </thead>\n",
       "  <tbody>\n",
       "    <tr>\n",
       "      <th>0</th>\n",
       "      <td>## OLD Paulton Library Electricity Supply 1</td>\n",
       "      <td>2018-01-01 06:30:00+00:00</td>\n",
       "      <td>0.000</td>\n",
       "      <td>5.5</td>\n",
       "      <td>0.793</td>\n",
       "      <td>0.0</td>\n",
       "      <td>0.000</td>\n",
       "      <td>0.000</td>\n",
       "      <td>0.000</td>\n",
       "      <td>0.000</td>\n",
       "      <td>0.000</td>\n",
       "      <td>0.000</td>\n",
       "      <td>0.000</td>\n",
       "      <td>0.000</td>\n",
       "      <td>0.000</td>\n",
       "      <td>0.000</td>\n",
       "      <td>0.000</td>\n",
       "      <td>0.000</td>\n",
       "    </tr>\n",
       "    <tr>\n",
       "      <th>1</th>\n",
       "      <td>## OLD Paulton Library Electricity Supply 1</td>\n",
       "      <td>2018-01-01 07:00:00+00:00</td>\n",
       "      <td>0.000</td>\n",
       "      <td>5.4</td>\n",
       "      <td>0.814</td>\n",
       "      <td>0.0</td>\n",
       "      <td>0.000</td>\n",
       "      <td>0.000</td>\n",
       "      <td>0.000</td>\n",
       "      <td>0.000</td>\n",
       "      <td>0.000</td>\n",
       "      <td>0.000</td>\n",
       "      <td>0.000</td>\n",
       "      <td>0.000</td>\n",
       "      <td>0.000</td>\n",
       "      <td>0.000</td>\n",
       "      <td>0.000</td>\n",
       "      <td>0.000</td>\n",
       "    </tr>\n",
       "    <tr>\n",
       "      <th>2</th>\n",
       "      <td>## OLD Paulton Library Electricity Supply 1</td>\n",
       "      <td>2018-01-01 07:30:00+00:00</td>\n",
       "      <td>0.000</td>\n",
       "      <td>5.3</td>\n",
       "      <td>0.835</td>\n",
       "      <td>0.0</td>\n",
       "      <td>0.000</td>\n",
       "      <td>0.000</td>\n",
       "      <td>0.000</td>\n",
       "      <td>0.000</td>\n",
       "      <td>0.000</td>\n",
       "      <td>0.000</td>\n",
       "      <td>0.000</td>\n",
       "      <td>0.000</td>\n",
       "      <td>0.000</td>\n",
       "      <td>0.000</td>\n",
       "      <td>0.000</td>\n",
       "      <td>0.000</td>\n",
       "    </tr>\n",
       "    <tr>\n",
       "      <th>3</th>\n",
       "      <td>## OLD Paulton Library Electricity Supply 1</td>\n",
       "      <td>2018-01-01 08:00:00+00:00</td>\n",
       "      <td>0.000</td>\n",
       "      <td>5.2</td>\n",
       "      <td>0.857</td>\n",
       "      <td>0.0</td>\n",
       "      <td>0.000</td>\n",
       "      <td>0.000</td>\n",
       "      <td>0.000</td>\n",
       "      <td>0.000</td>\n",
       "      <td>0.000</td>\n",
       "      <td>0.000</td>\n",
       "      <td>0.000</td>\n",
       "      <td>0.000</td>\n",
       "      <td>0.000</td>\n",
       "      <td>0.000</td>\n",
       "      <td>0.000</td>\n",
       "      <td>0.000</td>\n",
       "    </tr>\n",
       "    <tr>\n",
       "      <th>4</th>\n",
       "      <td>## OLD Paulton Library Electricity Supply 1</td>\n",
       "      <td>2018-01-01 08:30:00+00:00</td>\n",
       "      <td>0.000</td>\n",
       "      <td>5.0</td>\n",
       "      <td>0.879</td>\n",
       "      <td>0.0</td>\n",
       "      <td>0.000</td>\n",
       "      <td>0.000</td>\n",
       "      <td>0.000</td>\n",
       "      <td>0.000</td>\n",
       "      <td>0.000</td>\n",
       "      <td>0.000</td>\n",
       "      <td>0.000</td>\n",
       "      <td>0.000</td>\n",
       "      <td>0.000</td>\n",
       "      <td>0.000</td>\n",
       "      <td>0.000</td>\n",
       "      <td>0.000</td>\n",
       "    </tr>\n",
       "    <tr>\n",
       "      <th>...</th>\n",
       "      <td>...</td>\n",
       "      <td>...</td>\n",
       "      <td>...</td>\n",
       "      <td>...</td>\n",
       "      <td>...</td>\n",
       "      <td>...</td>\n",
       "      <td>...</td>\n",
       "      <td>...</td>\n",
       "      <td>...</td>\n",
       "      <td>...</td>\n",
       "      <td>...</td>\n",
       "      <td>...</td>\n",
       "      <td>...</td>\n",
       "      <td>...</td>\n",
       "      <td>...</td>\n",
       "      <td>...</td>\n",
       "      <td>...</td>\n",
       "      <td>...</td>\n",
       "    </tr>\n",
       "    <tr>\n",
       "      <th>2529019</th>\n",
       "      <td>Westfield Childrens Centre (Now Schools Respon...</td>\n",
       "      <td>2020-02-07 22:00:00+00:00</td>\n",
       "      <td>0.126</td>\n",
       "      <td>8.6</td>\n",
       "      <td>0.904</td>\n",
       "      <td>0.0</td>\n",
       "      <td>0.130</td>\n",
       "      <td>0.197</td>\n",
       "      <td>0.216</td>\n",
       "      <td>0.228</td>\n",
       "      <td>0.689</td>\n",
       "      <td>0.367</td>\n",
       "      <td>0.226</td>\n",
       "      <td>0.626</td>\n",
       "      <td>0.612</td>\n",
       "      <td>0.665</td>\n",
       "      <td>0.546</td>\n",
       "      <td>0.754</td>\n",
       "    </tr>\n",
       "    <tr>\n",
       "      <th>2529020</th>\n",
       "      <td>Westfield Childrens Centre (Now Schools Respon...</td>\n",
       "      <td>2020-02-07 22:30:00+00:00</td>\n",
       "      <td>0.124</td>\n",
       "      <td>9.1</td>\n",
       "      <td>0.896</td>\n",
       "      <td>0.0</td>\n",
       "      <td>0.126</td>\n",
       "      <td>0.130</td>\n",
       "      <td>0.197</td>\n",
       "      <td>0.216</td>\n",
       "      <td>0.228</td>\n",
       "      <td>0.689</td>\n",
       "      <td>0.367</td>\n",
       "      <td>0.226</td>\n",
       "      <td>0.626</td>\n",
       "      <td>0.612</td>\n",
       "      <td>0.665</td>\n",
       "      <td>0.546</td>\n",
       "    </tr>\n",
       "    <tr>\n",
       "      <th>2529021</th>\n",
       "      <td>Westfield Childrens Centre (Now Schools Respon...</td>\n",
       "      <td>2020-02-07 23:00:00+00:00</td>\n",
       "      <td>0.158</td>\n",
       "      <td>9.5</td>\n",
       "      <td>0.899</td>\n",
       "      <td>0.0</td>\n",
       "      <td>0.124</td>\n",
       "      <td>0.126</td>\n",
       "      <td>0.130</td>\n",
       "      <td>0.197</td>\n",
       "      <td>0.216</td>\n",
       "      <td>0.228</td>\n",
       "      <td>0.689</td>\n",
       "      <td>0.367</td>\n",
       "      <td>0.226</td>\n",
       "      <td>0.626</td>\n",
       "      <td>0.612</td>\n",
       "      <td>0.665</td>\n",
       "    </tr>\n",
       "    <tr>\n",
       "      <th>2529022</th>\n",
       "      <td>Westfield Childrens Centre (Now Schools Respon...</td>\n",
       "      <td>2020-02-07 23:30:00+00:00</td>\n",
       "      <td>0.142</td>\n",
       "      <td>9.7</td>\n",
       "      <td>0.914</td>\n",
       "      <td>0.0</td>\n",
       "      <td>0.158</td>\n",
       "      <td>0.124</td>\n",
       "      <td>0.126</td>\n",
       "      <td>0.130</td>\n",
       "      <td>0.197</td>\n",
       "      <td>0.216</td>\n",
       "      <td>0.228</td>\n",
       "      <td>0.689</td>\n",
       "      <td>0.367</td>\n",
       "      <td>0.226</td>\n",
       "      <td>0.626</td>\n",
       "      <td>0.612</td>\n",
       "    </tr>\n",
       "    <tr>\n",
       "      <th>2529023</th>\n",
       "      <td>Westfield Childrens Centre (Now Schools Respon...</td>\n",
       "      <td>2020-02-08 00:00:00+00:00</td>\n",
       "      <td>0.147</td>\n",
       "      <td>9.8</td>\n",
       "      <td>0.918</td>\n",
       "      <td>0.0</td>\n",
       "      <td>0.142</td>\n",
       "      <td>0.158</td>\n",
       "      <td>0.124</td>\n",
       "      <td>0.126</td>\n",
       "      <td>0.130</td>\n",
       "      <td>0.197</td>\n",
       "      <td>0.216</td>\n",
       "      <td>0.228</td>\n",
       "      <td>0.689</td>\n",
       "      <td>0.367</td>\n",
       "      <td>0.226</td>\n",
       "      <td>0.626</td>\n",
       "    </tr>\n",
       "  </tbody>\n",
       "</table>\n",
       "<p>2529024 rows × 18 columns</p>\n",
       "</div>"
      ],
      "text/plain": [
       "                                                  location  \\\n",
       "0              ## OLD Paulton Library Electricity Supply 1   \n",
       "1              ## OLD Paulton Library Electricity Supply 1   \n",
       "2              ## OLD Paulton Library Electricity Supply 1   \n",
       "3              ## OLD Paulton Library Electricity Supply 1   \n",
       "4              ## OLD Paulton Library Electricity Supply 1   \n",
       "...                                                    ...   \n",
       "2529019  Westfield Childrens Centre (Now Schools Respon...   \n",
       "2529020  Westfield Childrens Centre (Now Schools Respon...   \n",
       "2529021  Westfield Childrens Centre (Now Schools Respon...   \n",
       "2529022  Westfield Childrens Centre (Now Schools Respon...   \n",
       "2529023  Westfield Childrens Centre (Now Schools Respon...   \n",
       "\n",
       "                             time  energy  AirTemp  RelativeHumidity  Dni  \\\n",
       "0       2018-01-01 06:30:00+00:00   0.000      5.5             0.793  0.0   \n",
       "1       2018-01-01 07:00:00+00:00   0.000      5.4             0.814  0.0   \n",
       "2       2018-01-01 07:30:00+00:00   0.000      5.3             0.835  0.0   \n",
       "3       2018-01-01 08:00:00+00:00   0.000      5.2             0.857  0.0   \n",
       "4       2018-01-01 08:30:00+00:00   0.000      5.0             0.879  0.0   \n",
       "...                           ...     ...      ...               ...  ...   \n",
       "2529019 2020-02-07 22:00:00+00:00   0.126      8.6             0.904  0.0   \n",
       "2529020 2020-02-07 22:30:00+00:00   0.124      9.1             0.896  0.0   \n",
       "2529021 2020-02-07 23:00:00+00:00   0.158      9.5             0.899  0.0   \n",
       "2529022 2020-02-07 23:30:00+00:00   0.142      9.7             0.914  0.0   \n",
       "2529023 2020-02-08 00:00:00+00:00   0.147      9.8             0.918  0.0   \n",
       "\n",
       "         energy_lag_1  energy_lag_2  energy_lag_3  energy_lag_4  energy_lag_5  \\\n",
       "0               0.000         0.000         0.000         0.000         0.000   \n",
       "1               0.000         0.000         0.000         0.000         0.000   \n",
       "2               0.000         0.000         0.000         0.000         0.000   \n",
       "3               0.000         0.000         0.000         0.000         0.000   \n",
       "4               0.000         0.000         0.000         0.000         0.000   \n",
       "...               ...           ...           ...           ...           ...   \n",
       "2529019         0.130         0.197         0.216         0.228         0.689   \n",
       "2529020         0.126         0.130         0.197         0.216         0.228   \n",
       "2529021         0.124         0.126         0.130         0.197         0.216   \n",
       "2529022         0.158         0.124         0.126         0.130         0.197   \n",
       "2529023         0.142         0.158         0.124         0.126         0.130   \n",
       "\n",
       "         energy_lag_6  energy_lag_7  energy_lag_8  energy_lag_9  \\\n",
       "0               0.000         0.000         0.000         0.000   \n",
       "1               0.000         0.000         0.000         0.000   \n",
       "2               0.000         0.000         0.000         0.000   \n",
       "3               0.000         0.000         0.000         0.000   \n",
       "4               0.000         0.000         0.000         0.000   \n",
       "...               ...           ...           ...           ...   \n",
       "2529019         0.367         0.226         0.626         0.612   \n",
       "2529020         0.689         0.367         0.226         0.626   \n",
       "2529021         0.228         0.689         0.367         0.226   \n",
       "2529022         0.216         0.228         0.689         0.367   \n",
       "2529023         0.197         0.216         0.228         0.689   \n",
       "\n",
       "         energy_lag_10  energy_lag_11  energy_lag_12  \n",
       "0                0.000          0.000          0.000  \n",
       "1                0.000          0.000          0.000  \n",
       "2                0.000          0.000          0.000  \n",
       "3                0.000          0.000          0.000  \n",
       "4                0.000          0.000          0.000  \n",
       "...                ...            ...            ...  \n",
       "2529019          0.665          0.546          0.754  \n",
       "2529020          0.612          0.665          0.546  \n",
       "2529021          0.626          0.612          0.665  \n",
       "2529022          0.226          0.626          0.612  \n",
       "2529023          0.367          0.226          0.626  \n",
       "\n",
       "[2529024 rows x 18 columns]"
      ]
     },
     "execution_count": 86,
     "metadata": {},
     "output_type": "execute_result"
    }
   ],
   "source": [
    "df_new = past_timesteps(df, number_of_timesteps)\n",
    "df_new"
   ]
  },
  {
   "cell_type": "code",
   "execution_count": 87,
   "id": "bb6cf023",
   "metadata": {},
   "outputs": [
    {
     "data": {
      "text/plain": [
       "location            0\n",
       "time                0\n",
       "energy              0\n",
       "AirTemp             0\n",
       "RelativeHumidity    0\n",
       "Dni                 0\n",
       "energy_lag_1        0\n",
       "energy_lag_2        0\n",
       "energy_lag_3        0\n",
       "energy_lag_4        0\n",
       "energy_lag_5        0\n",
       "energy_lag_6        0\n",
       "energy_lag_7        0\n",
       "energy_lag_8        0\n",
       "energy_lag_9        0\n",
       "energy_lag_10       0\n",
       "energy_lag_11       0\n",
       "energy_lag_12       0\n",
       "dtype: int64"
      ]
     },
     "execution_count": 87,
     "metadata": {},
     "output_type": "execute_result"
    }
   ],
   "source": [
    "df_new.isna().sum()"
   ]
  },
  {
   "cell_type": "code",
   "execution_count": 88,
   "id": "daa9a0ea",
   "metadata": {},
   "outputs": [],
   "source": [
    "def test_leave_house_out(df, estimator, number_timesteps, num_houses_test, locations, filename):\n",
    "    df_new = past_timesteps(df, number_timesteps)\n",
    "    df_new['DayOfWeek'] = df_new['time'].dt.dayofweek\n",
    "    df_new['Weekend'] = df_new['time'].dt.dayofweek.isin([5,6]).astype(int)\n",
    "    df_new['Hour'] = df_new['time'].dt.hour\n",
    "    test = df_new[df_new['location'].isin(locations)]\n",
    "    train = df_new[~df_new['location'].isin(locations)]\n",
    "    print(\"Train set: \", train.shape)\n",
    "    print(\"Test set: \", test.shape)\n",
    "    X_train = train.drop(['time', 'energy', 'location'], axis=1)\n",
    "    X_test = test.drop(['time', 'energy', 'location'], axis=1)\n",
    "    y_train = train['energy']\n",
    "    y_test = test['energy']\n",
    "    X_train_norm, scaler = normalize_training(X_train)\n",
    "    X_test_norm = scaler.transform(X_test)\n",
    "\n",
    "    model = estimator\n",
    "    init = time.time()\n",
    "    model.fit(X_train_norm, y_train)\n",
    "    y_pred = model.predict(X_test_norm)\n",
    "    end = time.time()\n",
    "    print('Elapsed time: {:.4f} s'.format(end - init), file=filename)\n",
    "    mse, wape, r2 = performance_metrics(y_pred, y_test.values.reshape(-1), filename)\n",
    "    return mse, wape, r2, model"
   ]
  },
  {
   "cell_type": "markdown",
   "id": "47b7a1a3",
   "metadata": {},
   "source": [
    "## Predict  10 folds with 10 random houses for test"
   ]
  },
  {
   "cell_type": "code",
   "execution_count": 89,
   "id": "b3d93f68",
   "metadata": {},
   "outputs": [],
   "source": [
    "num_houses_test = 10"
   ]
  },
  {
   "cell_type": "code",
   "execution_count": 90,
   "id": "e1b164a8",
   "metadata": {},
   "outputs": [],
   "source": [
    "#kf = RepeatedKFold(n_splits=5, n_repeats=2, random_state=42) \n",
    "#locations = []\n",
    "#for _, test_index in kf.split(df['location'].unique()):\n",
    "#    locations.append(test_index)\n",
    "#locations"
   ]
  },
  {
   "cell_type": "code",
   "execution_count": 91,
   "id": "acc7da60",
   "metadata": {},
   "outputs": [
    {
     "data": {
      "text/plain": [
       "[array(['Stanton Drew Primary School (P272 HH)', 'Air cooled chiller 1',\n",
       "        'First Floor Disabled WC Water Heater',\n",
       "        'Ground & First Floor North - Power & Lighting',\n",
       "        'Junior School Electricity - Corridor 1',\n",
       "        'Twerton Infant School Electricity Supply',\n",
       "        'Ground Floor South - Power',\n",
       "        'Swallow Street Stores & Workshop Electri',\n",
       "        'St Marks C of E School (HH)',\n",
       "        'St Marks C of E School - Orchard Lodge'], dtype=object),\n",
       " array(['Infants School - Main School 2',\n",
       "        'The Hollies Offices MSN (P272 HH)',\n",
       "        '##Radstock Library (Town Council)',\n",
       "        '##Northgate House Electricity Supply 2',\n",
       "        '##Nothgate House Electricity Supply 3',\n",
       "        'The Hollies Offices MSN Car Park Barrier',\n",
       "        '##Weston Library Electricity Supply 1',\n",
       "        'Pensford Primary Electricity Supply 2',\n",
       "        'Ground Floor South - Lighting',\n",
       "        'First Floor Kitchenenette Water Heater'], dtype=object),\n",
       " array(['Marksbury C of E Primary School Electric',\n",
       "        'The Hollies Offices MSN (P272 HH)',\n",
       "        'Castle Primary School (HH) (New Supply)',\n",
       "        'Junior School Electricity - Corridor 1',\n",
       "        'Mechanical Control Panel 2',\n",
       "        'St Johns Catholic Primary (P272 HH)',\n",
       "        'Bath Central Library Electricity (HH)',\n",
       "        'Swallow Street Stores & Workshop Electri',\n",
       "        'Bishop Sutton Primary School Electricity', 'Lewis House (New HH)'],\n",
       "       dtype=object),\n",
       " array(['Castle Primary School (HH) (New Supply)', 'Lewis House (New HH)',\n",
       "        'First Floor WC Water Heater', 'Moorland Rd Library',\n",
       "        '##Northgate House Electricity Supply 1',\n",
       "        'Ground Floor South - Power',\n",
       "        'Westfield Childrens Centre (Now Schools Responsibility)',\n",
       "        'First Floor South - Power',\n",
       "        'Ground & First Floor North - Lighting',\n",
       "        'Ground & First Floor North - Power & Lighting'], dtype=object),\n",
       " array(['Mechanical Control Panel 1',\n",
       "        'Bishop Sutton Primary School Electricity',\n",
       "        'Marksbury C of E Primary School Electric',\n",
       "        'St Marks C of E School - Orchard Lodge',\n",
       "        'St Saviours C of E Junior School',\n",
       "        'Pensford Primary Electricity Supply 4',\n",
       "        'Royal Victoria Park Nursery Electricity',\n",
       "        '##Radstock Library (Town Council)',\n",
       "        '##Nothgate House Electricity Supply 3',\n",
       "        'St Johns Primary Oldfield Lane BATH BA2'], dtype=object),\n",
       " array(['The Hollies Offices MSN (P272 HH)',\n",
       "        'Keynsham Library & One Stop Shop (P272 HH)',\n",
       "        '##Nothgate House Electricity Supply 3',\n",
       "        'Haycombe Cemetery Chapel Electricity Sup',\n",
       "        'First Floor South - Power', 'St Marks C of E School (HH)',\n",
       "        'Moorland Rd Library', '##Northgate House Electricity Supply 1',\n",
       "        'Pensford Primary School - Kitchen',\n",
       "        '##Bishop Sutton Primary School Electricity'], dtype=object),\n",
       " array(['Air cooled chiller 1', 'Stanton Drew Primary School (P272 HH)',\n",
       "        'St Saviours C of E Junior School', 'Infants School - Kitchen',\n",
       "        'Paulton Junior School Electricity Supply',\n",
       "        'Pensford Primary Electricity Supply 4',\n",
       "        'First Floor South - Power & Lighting', 'AirCooled Chiller 2',\n",
       "        'Keynsham Childrens Centre - Castle School Annexe',\n",
       "        'Ground Floor Disabled WC Water Heater'], dtype=object),\n",
       " array(['Saltford C of E Primary School (Tiddlers pre-school only)',\n",
       "        'First Floor Kitchenenette Water Heater',\n",
       "        'Infants School - Kitchen',\n",
       "        'Marksbury C of E Primary School Electric',\n",
       "        'Keynsham Childrens Centre - Castle School Annexe',\n",
       "        'Royal Victoria Park Nursery Electricity',\n",
       "        'Swallow Street Stores & Workshop Electri',\n",
       "        'Pensford Primary Electricity Supply 2', 'Lewis House (New HH)',\n",
       "        'Freshford C of E Primary Electricity Sup'], dtype=object),\n",
       " array(['Paulton Library & Hub (1-2 Hill Court)', 'Air cooled chiller 1',\n",
       "        'First Floor South - Power & Lighting',\n",
       "        'First Floor South - Lighting',\n",
       "        'Guildhall Electricity Supply 1 (HH)',\n",
       "        'Freshford C of E Primary Electricity Sup',\n",
       "        'Pensford Primary Electricity Supply 3', 'Hub Room',\n",
       "        'Mechanical Control Panel 1',\n",
       "        '##Northgate House Electricity Supply 1'], dtype=object),\n",
       " array(['Paulton Library & Hub (1-2 Hill Court)',\n",
       "        'Infants School - Kitchen', 'First Floor WC Water Heater',\n",
       "        '##Nothgate House Electricity Supply 3', 'Incomer',\n",
       "        'St Johns Catholic Primary (P272 HH)',\n",
       "        'Marksbury C of E Primary School Electric',\n",
       "        'Westfield Childrens Centre (Now Schools Responsibility)',\n",
       "        'Junior School Electricity - Corridor 1',\n",
       "        'Swallow Street Stores & Workshop Electri'], dtype=object)]"
      ]
     },
     "execution_count": 91,
     "metadata": {},
     "output_type": "execute_result"
    }
   ],
   "source": [
    "locations = []\n",
    "for i in range(10):\n",
    "    l = np.random.choice(df['location'].unique(), size=num_houses_test, replace=False)\n",
    "    locations.append(l)\n",
    "locations"
   ]
  },
  {
   "cell_type": "markdown",
   "id": "30e48b6b",
   "metadata": {},
   "source": [
    "### Linear Regression"
   ]
  },
  {
   "cell_type": "code",
   "execution_count": 92,
   "id": "a9cfe1a7",
   "metadata": {},
   "outputs": [
    {
     "name": "stderr",
     "output_type": "stream",
     "text": [
      "100%|██████████| 12/12 [00:00<00:00, 14.94it/s]\n"
     ]
    },
    {
     "name": "stdout",
     "output_type": "stream",
     "text": [
      "Train set:  (2186850, 21)\n",
      "Test set:  (342174, 21)\n"
     ]
    },
    {
     "name": "stderr",
     "output_type": "stream",
     "text": [
      "100%|██████████| 12/12 [00:00<00:00, 15.12it/s]\n"
     ]
    },
    {
     "name": "stdout",
     "output_type": "stream",
     "text": [
      "Train set:  (2135308, 21)\n",
      "Test set:  (393716, 21)\n"
     ]
    },
    {
     "name": "stderr",
     "output_type": "stream",
     "text": [
      "100%|██████████| 12/12 [00:00<00:00, 13.94it/s]\n"
     ]
    },
    {
     "name": "stdout",
     "output_type": "stream",
     "text": [
      "Train set:  (2038227, 21)\n",
      "Test set:  (490797, 21)\n"
     ]
    },
    {
     "name": "stderr",
     "output_type": "stream",
     "text": [
      "100%|██████████| 12/12 [00:00<00:00, 14.29it/s]\n"
     ]
    },
    {
     "name": "stdout",
     "output_type": "stream",
     "text": [
      "Train set:  (2235271, 21)\n",
      "Test set:  (293753, 21)\n"
     ]
    },
    {
     "name": "stderr",
     "output_type": "stream",
     "text": [
      "100%|██████████| 12/12 [00:00<00:00, 13.98it/s]\n"
     ]
    },
    {
     "name": "stdout",
     "output_type": "stream",
     "text": [
      "Train set:  (2090811, 21)\n",
      "Test set:  (438213, 21)\n"
     ]
    },
    {
     "name": "stderr",
     "output_type": "stream",
     "text": [
      "100%|██████████| 12/12 [00:00<00:00, 13.84it/s]\n"
     ]
    },
    {
     "name": "stdout",
     "output_type": "stream",
     "text": [
      "Train set:  (2144463, 21)\n",
      "Test set:  (384561, 21)\n"
     ]
    },
    {
     "name": "stderr",
     "output_type": "stream",
     "text": [
      "100%|██████████| 12/12 [00:00<00:00, 13.96it/s]\n"
     ]
    },
    {
     "name": "stdout",
     "output_type": "stream",
     "text": [
      "Train set:  (2200422, 21)\n",
      "Test set:  (328602, 21)\n"
     ]
    },
    {
     "name": "stderr",
     "output_type": "stream",
     "text": [
      "100%|██████████| 12/12 [00:00<00:00, 14.05it/s]\n"
     ]
    },
    {
     "name": "stdout",
     "output_type": "stream",
     "text": [
      "Train set:  (2072535, 21)\n",
      "Test set:  (456489, 21)\n"
     ]
    },
    {
     "name": "stderr",
     "output_type": "stream",
     "text": [
      "100%|██████████| 12/12 [00:00<00:00, 13.61it/s]\n"
     ]
    },
    {
     "name": "stdout",
     "output_type": "stream",
     "text": [
      "Train set:  (2231875, 21)\n",
      "Test set:  (297149, 21)\n"
     ]
    },
    {
     "name": "stderr",
     "output_type": "stream",
     "text": [
      "100%|██████████| 12/12 [00:00<00:00, 13.65it/s]\n"
     ]
    },
    {
     "name": "stdout",
     "output_type": "stream",
     "text": [
      "Train set:  (2134648, 21)\n",
      "Test set:  (394376, 21)\n"
     ]
    }
   ],
   "source": [
    "metrics_list_lr = []\n",
    "print(\"\\n----------------------------\", file=sourceFile)\n",
    "print(\"\\nLinear Regression\\n\", file=sourceFile)\n",
    "print(\"----------------------------\\n\", file=sourceFile)\n",
    "for i in range(10):\n",
    "    print(\"\\nIteration\", i, file=sourceFile)\n",
    "    mse, wape, r2, model_lr = test_leave_house_out(df, LinearRegression(), number_of_timesteps, num_houses_test, locations[i], sourceFile)\n",
    "    metrics_list_lr.append((mse, wape, r2))"
   ]
  },
  {
   "cell_type": "markdown",
   "id": "1e4142f8",
   "metadata": {},
   "source": [
    "### XGBoost"
   ]
  },
  {
   "cell_type": "code",
   "execution_count": 93,
   "id": "29000235",
   "metadata": {},
   "outputs": [
    {
     "name": "stderr",
     "output_type": "stream",
     "text": [
      "100%|██████████| 12/12 [00:00<00:00, 13.92it/s]\n"
     ]
    },
    {
     "name": "stdout",
     "output_type": "stream",
     "text": [
      "Train set:  (2186850, 21)\n",
      "Test set:  (342174, 21)\n"
     ]
    },
    {
     "name": "stderr",
     "output_type": "stream",
     "text": [
      "100%|██████████| 12/12 [00:00<00:00, 15.07it/s]\n"
     ]
    },
    {
     "name": "stdout",
     "output_type": "stream",
     "text": [
      "Train set:  (2135308, 21)\n",
      "Test set:  (393716, 21)\n"
     ]
    },
    {
     "name": "stderr",
     "output_type": "stream",
     "text": [
      "100%|██████████| 12/12 [00:00<00:00, 14.84it/s]\n"
     ]
    },
    {
     "name": "stdout",
     "output_type": "stream",
     "text": [
      "Train set:  (2038227, 21)\n",
      "Test set:  (490797, 21)\n"
     ]
    },
    {
     "name": "stderr",
     "output_type": "stream",
     "text": [
      "100%|██████████| 12/12 [00:00<00:00, 13.15it/s]\n"
     ]
    },
    {
     "name": "stdout",
     "output_type": "stream",
     "text": [
      "Train set:  (2235271, 21)\n",
      "Test set:  (293753, 21)\n"
     ]
    },
    {
     "name": "stderr",
     "output_type": "stream",
     "text": [
      "100%|██████████| 12/12 [00:00<00:00, 13.02it/s]\n"
     ]
    },
    {
     "name": "stdout",
     "output_type": "stream",
     "text": [
      "Train set:  (2090811, 21)\n",
      "Test set:  (438213, 21)\n"
     ]
    },
    {
     "name": "stderr",
     "output_type": "stream",
     "text": [
      "100%|██████████| 12/12 [00:00<00:00, 15.21it/s]\n"
     ]
    },
    {
     "name": "stdout",
     "output_type": "stream",
     "text": [
      "Train set:  (2144463, 21)\n",
      "Test set:  (384561, 21)\n"
     ]
    },
    {
     "name": "stderr",
     "output_type": "stream",
     "text": [
      "100%|██████████| 12/12 [00:00<00:00, 14.33it/s]\n"
     ]
    },
    {
     "name": "stdout",
     "output_type": "stream",
     "text": [
      "Train set:  (2200422, 21)\n",
      "Test set:  (328602, 21)\n"
     ]
    },
    {
     "name": "stderr",
     "output_type": "stream",
     "text": [
      "100%|██████████| 12/12 [00:00<00:00, 12.87it/s]\n"
     ]
    },
    {
     "name": "stdout",
     "output_type": "stream",
     "text": [
      "Train set:  (2072535, 21)\n",
      "Test set:  (456489, 21)\n"
     ]
    },
    {
     "name": "stderr",
     "output_type": "stream",
     "text": [
      "100%|██████████| 12/12 [00:00<00:00, 13.22it/s]\n"
     ]
    },
    {
     "name": "stdout",
     "output_type": "stream",
     "text": [
      "Train set:  (2231875, 21)\n",
      "Test set:  (297149, 21)\n"
     ]
    },
    {
     "name": "stderr",
     "output_type": "stream",
     "text": [
      "100%|██████████| 12/12 [00:00<00:00, 13.23it/s]\n"
     ]
    },
    {
     "name": "stdout",
     "output_type": "stream",
     "text": [
      "Train set:  (2134648, 21)\n",
      "Test set:  (394376, 21)\n"
     ]
    }
   ],
   "source": [
    "metrics_list_xgb = []\n",
    "print(\"\\n----------------------------\", file=sourceFile)\n",
    "print(\"\\nXGBoost\\n\", file=sourceFile)\n",
    "print(\"----------------------------\\n\", file=sourceFile)\n",
    "for i in range(10):\n",
    "    print(\"\\nIteration\", i, file=sourceFile)\n",
    "    mse, wape, r2, model_xgb = test_leave_house_out(df, xgb.XGBRegressor(tree_method='gpu_hist', seed=0), number_of_timesteps, num_houses_test, locations[i], sourceFile)\n",
    "    metrics_list_xgb.append((mse, wape, r2))"
   ]
  },
  {
   "cell_type": "markdown",
   "id": "bc81a8ce",
   "metadata": {},
   "source": [
    "### Random Forest"
   ]
  },
  {
   "cell_type": "code",
   "execution_count": 94,
   "id": "81a082e6",
   "metadata": {},
   "outputs": [
    {
     "name": "stderr",
     "output_type": "stream",
     "text": [
      "100%|██████████| 12/12 [00:00<00:00, 13.18it/s]\n"
     ]
    },
    {
     "name": "stdout",
     "output_type": "stream",
     "text": [
      "Train set:  (2186850, 21)\n",
      "Test set:  (342174, 21)\n"
     ]
    },
    {
     "name": "stderr",
     "output_type": "stream",
     "text": [
      "/home/francisco.monteiro@av.it.pt/miniconda3/envs/rapids-23.02/lib/python3.8/site-packages/cuml/internals/api_decorators.py:190: UserWarning: To use pickling first train using float32 data to fit the estimator\n",
      "  ret = func(*args, **kwargs)\n",
      "100%|██████████| 12/12 [00:00<00:00, 15.10it/s]\n"
     ]
    },
    {
     "name": "stdout",
     "output_type": "stream",
     "text": [
      "Train set:  (2135308, 21)\n",
      "Test set:  (393716, 21)\n"
     ]
    },
    {
     "name": "stderr",
     "output_type": "stream",
     "text": [
      "/home/francisco.monteiro@av.it.pt/miniconda3/envs/rapids-23.02/lib/python3.8/site-packages/cuml/internals/api_decorators.py:190: UserWarning: To use pickling first train using float32 data to fit the estimator\n",
      "  ret = func(*args, **kwargs)\n",
      "100%|██████████| 12/12 [00:00<00:00, 12.82it/s]\n"
     ]
    },
    {
     "name": "stdout",
     "output_type": "stream",
     "text": [
      "Train set:  (2038227, 21)\n",
      "Test set:  (490797, 21)\n"
     ]
    },
    {
     "name": "stderr",
     "output_type": "stream",
     "text": [
      "/home/francisco.monteiro@av.it.pt/miniconda3/envs/rapids-23.02/lib/python3.8/site-packages/cuml/internals/api_decorators.py:190: UserWarning: To use pickling first train using float32 data to fit the estimator\n",
      "  ret = func(*args, **kwargs)\n",
      "100%|██████████| 12/12 [00:00<00:00, 12.96it/s]\n"
     ]
    },
    {
     "name": "stdout",
     "output_type": "stream",
     "text": [
      "Train set:  (2235271, 21)\n",
      "Test set:  (293753, 21)\n"
     ]
    },
    {
     "name": "stderr",
     "output_type": "stream",
     "text": [
      "/home/francisco.monteiro@av.it.pt/miniconda3/envs/rapids-23.02/lib/python3.8/site-packages/cuml/internals/api_decorators.py:190: UserWarning: To use pickling first train using float32 data to fit the estimator\n",
      "  ret = func(*args, **kwargs)\n",
      "100%|██████████| 12/12 [00:00<00:00, 12.81it/s]\n"
     ]
    },
    {
     "name": "stdout",
     "output_type": "stream",
     "text": [
      "Train set:  (2090811, 21)\n",
      "Test set:  (438213, 21)\n"
     ]
    },
    {
     "name": "stderr",
     "output_type": "stream",
     "text": [
      "/home/francisco.monteiro@av.it.pt/miniconda3/envs/rapids-23.02/lib/python3.8/site-packages/cuml/internals/api_decorators.py:190: UserWarning: To use pickling first train using float32 data to fit the estimator\n",
      "  ret = func(*args, **kwargs)\n",
      "100%|██████████| 12/12 [00:00<00:00, 14.12it/s]\n"
     ]
    },
    {
     "name": "stdout",
     "output_type": "stream",
     "text": [
      "Train set:  (2144463, 21)\n",
      "Test set:  (384561, 21)\n"
     ]
    },
    {
     "name": "stderr",
     "output_type": "stream",
     "text": [
      "/home/francisco.monteiro@av.it.pt/miniconda3/envs/rapids-23.02/lib/python3.8/site-packages/cuml/internals/api_decorators.py:190: UserWarning: To use pickling first train using float32 data to fit the estimator\n",
      "  ret = func(*args, **kwargs)\n",
      "100%|██████████| 12/12 [00:00<00:00, 13.70it/s]\n"
     ]
    },
    {
     "name": "stdout",
     "output_type": "stream",
     "text": [
      "Train set:  (2200422, 21)\n",
      "Test set:  (328602, 21)\n"
     ]
    },
    {
     "name": "stderr",
     "output_type": "stream",
     "text": [
      "/home/francisco.monteiro@av.it.pt/miniconda3/envs/rapids-23.02/lib/python3.8/site-packages/cuml/internals/api_decorators.py:190: UserWarning: To use pickling first train using float32 data to fit the estimator\n",
      "  ret = func(*args, **kwargs)\n",
      "100%|██████████| 12/12 [00:00<00:00, 12.86it/s]\n"
     ]
    },
    {
     "name": "stdout",
     "output_type": "stream",
     "text": [
      "Train set:  (2072535, 21)\n",
      "Test set:  (456489, 21)\n"
     ]
    },
    {
     "name": "stderr",
     "output_type": "stream",
     "text": [
      "/home/francisco.monteiro@av.it.pt/miniconda3/envs/rapids-23.02/lib/python3.8/site-packages/cuml/internals/api_decorators.py:190: UserWarning: To use pickling first train using float32 data to fit the estimator\n",
      "  ret = func(*args, **kwargs)\n",
      "100%|██████████| 12/12 [00:00<00:00, 12.92it/s]\n"
     ]
    },
    {
     "name": "stdout",
     "output_type": "stream",
     "text": [
      "Train set:  (2231875, 21)\n",
      "Test set:  (297149, 21)\n"
     ]
    },
    {
     "name": "stderr",
     "output_type": "stream",
     "text": [
      "/home/francisco.monteiro@av.it.pt/miniconda3/envs/rapids-23.02/lib/python3.8/site-packages/cuml/internals/api_decorators.py:190: UserWarning: To use pickling first train using float32 data to fit the estimator\n",
      "  ret = func(*args, **kwargs)\n",
      "100%|██████████| 12/12 [00:00<00:00, 14.87it/s]\n"
     ]
    },
    {
     "name": "stdout",
     "output_type": "stream",
     "text": [
      "Train set:  (2134648, 21)\n",
      "Test set:  (394376, 21)\n"
     ]
    },
    {
     "name": "stderr",
     "output_type": "stream",
     "text": [
      "/home/francisco.monteiro@av.it.pt/miniconda3/envs/rapids-23.02/lib/python3.8/site-packages/cuml/internals/api_decorators.py:190: UserWarning: To use pickling first train using float32 data to fit the estimator\n",
      "  ret = func(*args, **kwargs)\n"
     ]
    }
   ],
   "source": [
    "metrics_list_rf = []\n",
    "print(\"\\n----------------------------\", file=sourceFile)\n",
    "print(\"\\nRandom Forest\\n\", file=sourceFile)\n",
    "print(\"----------------------------\\n\", file=sourceFile)\n",
    "for i in range(10):\n",
    "    print(\"\\nIteration\", i, file=sourceFile)\n",
    "    mse, wape, r2, model_rf = test_leave_house_out(df, cuRF(), number_of_timesteps, num_houses_test, locations[i], sourceFile)\n",
    "    metrics_list_rf.append((mse, wape, r2))"
   ]
  },
  {
   "attachments": {},
   "cell_type": "markdown",
   "id": "1d80b4bb",
   "metadata": {},
   "source": [
    "## Averaged Metrics"
   ]
  },
  {
   "cell_type": "code",
   "execution_count": 95,
   "id": "34d0f88f",
   "metadata": {},
   "outputs": [],
   "source": [
    "print(\"\\n\\n\\n\", file=sourceFile)"
   ]
  },
  {
   "cell_type": "code",
   "execution_count": 96,
   "id": "c4d11803",
   "metadata": {},
   "outputs": [],
   "source": [
    "print(\"\\nLinear Regression\", file=sourceFile)\n",
    "total_averaged_metrics(metrics_list_lr, sourceFile)"
   ]
  },
  {
   "cell_type": "code",
   "execution_count": 97,
   "id": "9038241b",
   "metadata": {},
   "outputs": [],
   "source": [
    "print(\"\\nXGBoost\", file=sourceFile)\n",
    "total_averaged_metrics(metrics_list_xgb, sourceFile)"
   ]
  },
  {
   "cell_type": "code",
   "execution_count": 98,
   "id": "387e0bf7",
   "metadata": {},
   "outputs": [],
   "source": [
    "print(\"\\nRandom Forest\", file=sourceFile)\n",
    "total_averaged_metrics(metrics_list_rf, sourceFile)"
   ]
  },
  {
   "cell_type": "markdown",
   "id": "bb5c8ff5",
   "metadata": {},
   "source": [
    "### Feature Importance"
   ]
  },
  {
   "cell_type": "code",
   "execution_count": 99,
   "id": "b6a7d8db",
   "metadata": {},
   "outputs": [
    {
     "name": "stdout",
     "output_type": "stream",
     "text": [
      "Linear Regression\n",
      "\n",
      "Feature: 0, Score: -0.04383\n",
      "Feature: 1, Score: 0.11495\n",
      "Feature: 2, Score: 0.06466\n",
      "Feature: 3, Score: 72.36419\n",
      "Feature: 4, Score: -9.80069\n",
      "Feature: 5, Score: -0.66345\n",
      "Feature: 6, Score: 1.48634\n",
      "Feature: 7, Score: -1.36788\n",
      "Feature: 8, Score: -1.66638\n",
      "Feature: 9, Score: 0.51090\n",
      "Feature: 10, Score: 0.73527\n",
      "Feature: 11, Score: -1.34809\n",
      "Feature: 12, Score: -0.33717\n",
      "Feature: 13, Score: -0.84557\n",
      "Feature: 14, Score: 1.14397\n",
      "Feature: 15, Score: -0.00531\n",
      "Feature: 16, Score: -0.01811\n",
      "Feature: 17, Score: -0.20511\n",
      "XGBoost\n",
      "\n",
      "Feature: 0, Score: 0.00033\n",
      "Feature: 1, Score: 0.00022\n",
      "Feature: 2, Score: 0.00024\n",
      "Feature: 3, Score: 0.98613\n",
      "Feature: 4, Score: 0.00184\n",
      "Feature: 5, Score: 0.00070\n",
      "Feature: 6, Score: 0.00082\n",
      "Feature: 7, Score: 0.00075\n",
      "Feature: 8, Score: 0.00082\n",
      "Feature: 9, Score: 0.00075\n",
      "Feature: 10, Score: 0.00080\n",
      "Feature: 11, Score: 0.00071\n",
      "Feature: 12, Score: 0.00067\n",
      "Feature: 13, Score: 0.00057\n",
      "Feature: 14, Score: 0.00103\n",
      "Feature: 15, Score: 0.00102\n",
      "Feature: 16, Score: 0.00000\n",
      "Feature: 17, Score: 0.00261\n"
     ]
    }
   ],
   "source": [
    "print('Linear Regression\\n')\n",
    "for i,v in enumerate(model_lr.coef_):\n",
    "    print('Feature: %0d, Score: %.5f' % (i,v))\n",
    "print('XGBoost\\n')\n",
    "for i,v in enumerate(model_xgb.feature_importances_):\n",
    "    print('Feature: %0d, Score: %.5f' % (i,v))"
   ]
  },
  {
   "cell_type": "code",
   "execution_count": 100,
   "id": "0f698b11",
   "metadata": {},
   "outputs": [
    {
     "data": {
      "image/png": "[encoded data removed]",
      "text/plain": [
       "<Figure size 640x480 with 1 Axes>"
      ]
     },
     "metadata": {},
     "output_type": "display_data"
    }
   ],
   "source": [
    "plt.bar(range(len(model_xgb.feature_importances_)),model_xgb.feature_importances_)\n",
    "plt.title('Feature Importance')\n",
    "plt.xlabel('Feature')\n",
    "plt.ylabel('Importance')\n",
    "plt.show()"
   ]
  },
  {
   "cell_type": "code",
   "execution_count": 101,
   "id": "71aef5fc",
   "metadata": {},
   "outputs": [
    {
     "data": {
      "image/png": "[encoded data removed]",
      "text/plain": [
       "<Figure size 640x480 with 1 Axes>"
      ]
     },
     "metadata": {},
     "output_type": "display_data"
    }
   ],
   "source": [
    "plt.bar(range(len(model_lr.coef_)),model_lr.coef_)\n",
    "plt.title('Feature Importance')\n",
    "plt.xlabel('Feature')\n",
    "plt.ylabel('Importance')\n",
    "plt.show()"
   ]
  },
  {
   "cell_type": "code",
   "execution_count": 102,
   "id": "6aa50a8a",
   "metadata": {},
   "outputs": [],
   "source": [
    "sourceFile.close()"
   ]
  },
  {
   "cell_type": "code",
   "execution_count": null,
   "id": "33dcc203",
   "metadata": {},
   "outputs": [],
   "source": []
  }
 ],
 "metadata": {
  "kernelspec": {
   "display_name": "Python 3 (ipykernel)",
   "language": "python",
   "name": "python3"
  },
  "language_info": {
   "codemirror_mode": {
    "name": "ipython",
    "version": 3
   },
   "file_extension": ".py",
   "mimetype": "text/x-python",
   "name": "python",
   "nbconvert_exporter": "python",
   "pygments_lexer": "ipython3",
   "version": "3.8.16"
  }
 },
 "nbformat": 4,
 "nbformat_minor": 5
}
