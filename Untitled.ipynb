{
 "cells": [
  {
   "cell_type": "code",
   "execution_count": 1,
   "id": "22109335",
   "metadata": {},
   "outputs": [],
   "source": [
    "import warnings\n",
    "warnings.filterwarnings('ignore',category=FutureWarning)\n",
    "warnings.filterwarnings('ignore',category=DeprecationWarning)\n",
    "import numpy as np\n",
    "import pandas as pd\n",
    "import matplotlib.pyplot as plt\n",
    "import os"
   ]
  },
  {
   "cell_type": "code",
   "execution_count": 33,
   "id": "d8a24078",
   "metadata": {},
   "outputs": [
    {
     "data": {
      "text/html": [
       "<div>\n",
       "<style scoped>\n",
       "    .dataframe tbody tr th:only-of-type {\n",
       "        vertical-align: middle;\n",
       "    }\n",
       "\n",
       "    .dataframe tbody tr th {\n",
       "        vertical-align: top;\n",
       "    }\n",
       "\n",
       "    .dataframe thead th {\n",
       "        text-align: right;\n",
       "    }\n",
       "</style>\n",
       "<table border=\"1\" class=\"dataframe\">\n",
       "  <thead>\n",
       "    <tr style=\"text-align: right;\">\n",
       "      <th></th>\n",
       "      <th>ANO MS DI HR MN 01200560 01210657 01210702</th>\n",
       "    </tr>\n",
       "  </thead>\n",
       "  <tbody>\n",
       "    <tr>\n",
       "      <th>0</th>\n",
       "      <td>2020 10 01 00 00     11.1     13.2     16.8</td>\n",
       "    </tr>\n",
       "    <tr>\n",
       "      <th>1</th>\n",
       "      <td>2020 10 01 00 10     11.1     13.2     16.7</td>\n",
       "    </tr>\n",
       "    <tr>\n",
       "      <th>2</th>\n",
       "      <td>2020 10 01 00 20     10.9     13.2     16.6</td>\n",
       "    </tr>\n",
       "    <tr>\n",
       "      <th>3</th>\n",
       "      <td>2020 10 01 00 30     11.3     13.3     16.5</td>\n",
       "    </tr>\n",
       "    <tr>\n",
       "      <th>4</th>\n",
       "      <td>2020 10 01 00 40     11.5     13.4     16.4</td>\n",
       "    </tr>\n",
       "    <tr>\n",
       "      <th>...</th>\n",
       "      <td>...</td>\n",
       "    </tr>\n",
       "    <tr>\n",
       "      <th>131323</th>\n",
       "      <td>2023 03 31 23 10   -990.0   -990.0   -990.0</td>\n",
       "    </tr>\n",
       "    <tr>\n",
       "      <th>131324</th>\n",
       "      <td>2023 03 31 23 20   -990.0   -990.0   -990.0</td>\n",
       "    </tr>\n",
       "    <tr>\n",
       "      <th>131325</th>\n",
       "      <td>2023 03 31 23 30   -990.0   -990.0   -990.0</td>\n",
       "    </tr>\n",
       "    <tr>\n",
       "      <th>131326</th>\n",
       "      <td>2023 03 31 23 40   -990.0   -990.0   -990.0</td>\n",
       "    </tr>\n",
       "    <tr>\n",
       "      <th>131327</th>\n",
       "      <td>2023 03 31 23 50   -990.0   -990.0   -990.0</td>\n",
       "    </tr>\n",
       "  </tbody>\n",
       "</table>\n",
       "<p>131328 rows × 1 columns</p>\n",
       "</div>"
      ],
      "text/plain": [
       "         ANO MS DI HR MN 01200560 01210657 01210702\n",
       "0       2020 10 01 00 00     11.1     13.2     16.8\n",
       "1       2020 10 01 00 10     11.1     13.2     16.7\n",
       "2       2020 10 01 00 20     10.9     13.2     16.6\n",
       "3       2020 10 01 00 30     11.3     13.3     16.5\n",
       "4       2020 10 01 00 40     11.5     13.4     16.4\n",
       "...                                             ...\n",
       "131323  2023 03 31 23 10   -990.0   -990.0   -990.0\n",
       "131324  2023 03 31 23 20   -990.0   -990.0   -990.0\n",
       "131325  2023 03 31 23 30   -990.0   -990.0   -990.0\n",
       "131326  2023 03 31 23 40   -990.0   -990.0   -990.0\n",
       "131327  2023 03 31 23 50   -990.0   -990.0   -990.0\n",
       "\n",
       "[131328 rows x 1 columns]"
      ]
     },
     "execution_count": 33,
     "metadata": {},
     "output_type": "execute_result"
    }
   ],
   "source": [
    "df = pd.read_csv(\"../meteo_viseu_pinhao_aveiro/dados_bdi_06.txt\")\n",
    "df"
   ]
  },
  {
   "cell_type": "code",
   "execution_count": null,
   "id": "1f00c461",
   "metadata": {},
   "outputs": [],
   "source": []
  }
 ],
 "metadata": {
  "kernelspec": {
   "display_name": "Python 3 (ipykernel)",
   "language": "python",
   "name": "python3"
  },
  "language_info": {
   "codemirror_mode": {
    "name": "ipython",
    "version": 3
   },
   "file_extension": ".py",
   "mimetype": "text/x-python",
   "name": "python",
   "nbconvert_exporter": "python",
   "pygments_lexer": "ipython3",
   "version": "3.10.6"
  }
 },
 "nbformat": 4,
 "nbformat_minor": 5
}
