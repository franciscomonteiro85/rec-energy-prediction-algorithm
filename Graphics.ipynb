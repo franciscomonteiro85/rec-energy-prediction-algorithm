{
 "cells": [
  {
   "cell_type": "code",
   "execution_count": 1,
   "id": "2368fc98",
   "metadata": {},
   "outputs": [],
   "source": [
    "import numpy as np\n",
    "import matplotlib.pyplot as plt\n",
    "import pandas as pd\n",
    "import re"
   ]
  },
  {
   "cell_type": "code",
   "execution_count": 2,
   "id": "726ff1b7",
   "metadata": {},
   "outputs": [],
   "source": [
    "def get_metrics_lists(lines):\n",
    "    model_names = [lines[0][:-1],lines[5][0:-1],lines[10][0:-1]]\n",
    "    mse = [lines[1].split(\":\")[1][:-1],lines[6].split(\":\")[1][:-1],lines[11].split(\":\")[1][:-1]]\n",
    "    wape = [lines[2].split(\":\")[1][:-1],lines[7].split(\":\")[1][:-1],lines[12].split(\":\")[1][:-1]]\n",
    "    r2 = [lines[3].split(\":\")[1][:-1],lines[8].split(\":\")[1][:-1],lines[13].split(\":\")[1][:-1]]\n",
    "    mse = list(map(float, mse))\n",
    "    wape = list(map(float, wape))\n",
    "    wape = list(map(lambda x: x/100, wape))\n",
    "    r2 = list(map(float, r2))\n",
    "    return model_names, mse, wape, r2"
   ]
  },
  {
   "cell_type": "code",
   "execution_count": 3,
   "id": "3ec8179f",
   "metadata": {},
   "outputs": [],
   "source": [
    "def get_ml_metrics(lines):\n",
    "    model_names = [lines[0][:-1], lines[4][0:-1]]\n",
    "    mse = [lines[1].split(\":\")[1][:-1],lines[5].split(\":\")[1][:-1]]\n",
    "    wape = [lines[2].split(\":\")[1][:-1],lines[6].split(\":\")[1][:-1]]\n",
    "    r2 = [lines[3].split(\":\")[1][:-1],lines[7].split(\":\")[1][:-1]]\n",
    "    mse = list(map(float, mse))\n",
    "    wape = list(map(float, wape))\n",
    "    r2 = list(map(float, r2))\n",
    "    return model_names, mse, wape, r2"
   ]
  },
  {
   "cell_type": "code",
   "execution_count": 56,
   "id": "dde4a63d",
   "metadata": {},
   "outputs": [],
   "source": [
    "def get_cluster_metrics(lines):\n",
    "    cursor = 0\n",
    "    model_names, mse, wape, r2, number_clust = [], [], [], [], []\n",
    "    for i in lines:\n",
    "        if i.startswith(\"Number\"):\n",
    "            number_clust.append(int(i[-3:-1].strip()))\n",
    "        else:\n",
    "            if cursor == 0:\n",
    "                model_names.append(i[:-1])\n",
    "                cursor += 1\n",
    "            elif cursor == 1:\n",
    "                mse.append(i.split(\":\")[1][:-1])\n",
    "                cursor += 1\n",
    "            elif cursor == 2:\n",
    "                wape.append(i.split(\":\")[1][:-1])\n",
    "                cursor += 1\n",
    "            elif cursor == 3:\n",
    "                r2.append(i.split(\":\")[1][:-1])\n",
    "                cursor = 0\n",
    "    mse = list(map(float, mse))\n",
    "    wape = list(map(float, wape))\n",
    "    wape = list(map(lambda x: x/100, wape))\n",
    "    r2 = list(map(float, r2))\n",
    "    return model_names, mse, wape, r2, number_clust\n",
    "            "
   ]
  },
  {
   "cell_type": "code",
   "execution_count": 57,
   "id": "4140143d",
   "metadata": {},
   "outputs": [
    {
     "data": {
      "text/plain": [
       "['Number of Clusters: 2\\n',\n",
       " 'Linear Regression\\n',\n",
       " 'MSE: 0.1880\\n',\n",
       " 'WAPE: 32.13\\n',\n",
       " 'R2: 0.7596\\n',\n",
       " 'XGBoost\\n',\n",
       " 'MSE: 0.1631\\n',\n",
       " 'WAPE: 29.33\\n',\n",
       " 'R2: 0.7913\\n',\n",
       " 'Random Forest\\n',\n",
       " 'MSE: 0.1539\\n',\n",
       " 'WAPE: 27.93\\n',\n",
       " 'R2: 0.8031\\n',\n",
       " 'Number of Clusters: 3\\n',\n",
       " 'Linear Regression\\n',\n",
       " 'MSE: 0.1853\\n',\n",
       " 'WAPE: 32.10\\n',\n",
       " 'R2: 0.7605\\n',\n",
       " 'XGBoost\\n',\n",
       " 'MSE: 0.1621\\n',\n",
       " 'WAPE: 29.29\\n',\n",
       " 'R2: 0.7905\\n',\n",
       " 'Random Forest\\n',\n",
       " 'MSE: 0.1523\\n',\n",
       " 'WAPE: 27.89\\n',\n",
       " 'R2: 0.8032\\n',\n",
       " 'Number of Clusters: 4\\n',\n",
       " 'Linear Regression\\n',\n",
       " 'MSE: 0.1882\\n',\n",
       " 'WAPE: 32.18\\n',\n",
       " 'R2: 0.7571\\n',\n",
       " 'XGBoost\\n',\n",
       " 'MSE: 0.1629\\n',\n",
       " 'WAPE: 29.32\\n',\n",
       " 'R2: 0.7897\\n',\n",
       " 'Random Forest\\n',\n",
       " 'MSE: 0.1560\\n',\n",
       " 'WAPE: 28.12\\n',\n",
       " 'R2: 0.7987\\n',\n",
       " 'Number of Clusters: 5\\n',\n",
       " 'Linear Regression\\n',\n",
       " 'MSE: 0.1865\\n',\n",
       " 'WAPE: 32.11\\n',\n",
       " 'R2: 0.7595\\n',\n",
       " 'XGBoost\\n',\n",
       " 'MSE: 0.1626\\n',\n",
       " 'WAPE: 29.28\\n',\n",
       " 'R2: 0.7903\\n',\n",
       " 'Random Forest\\n',\n",
       " 'MSE: 0.1547\\n',\n",
       " 'WAPE: 27.91\\n',\n",
       " 'R2: 0.8005\\n',\n",
       " 'Number of Clusters: 6\\n',\n",
       " 'Linear Regression\\n',\n",
       " 'MSE: 0.1868\\n',\n",
       " 'WAPE: 32.03\\n',\n",
       " 'R2: 0.7601\\n',\n",
       " 'XGBoost\\n',\n",
       " 'MSE: 0.1639\\n',\n",
       " 'WAPE: 29.27\\n',\n",
       " 'R2: 0.7894\\n',\n",
       " 'Random Forest\\n',\n",
       " 'MSE: 0.1553\\n',\n",
       " 'WAPE: 27.83\\n',\n",
       " 'R2: 0.8004\\n',\n",
       " 'Number of Clusters: 7\\n',\n",
       " 'Linear Regression\\n',\n",
       " 'MSE: 0.1868\\n',\n",
       " 'WAPE: 32.09\\n',\n",
       " 'R2: 0.7579\\n',\n",
       " 'XGBoost\\n',\n",
       " 'MSE: 0.1614\\n',\n",
       " 'WAPE: 29.12\\n',\n",
       " 'R2: 0.7908\\n',\n",
       " 'Random Forest\\n',\n",
       " 'MSE: 0.1525\\n',\n",
       " 'WAPE: 27.61\\n',\n",
       " 'R2: 0.8023\\n',\n",
       " 'Number of Clusters: 8\\n',\n",
       " 'Linear Regression\\n',\n",
       " 'MSE: 0.1854\\n',\n",
       " 'WAPE: 31.91\\n',\n",
       " 'R2: 0.7629\\n',\n",
       " 'XGBoost\\n',\n",
       " 'MSE: 0.1624\\n',\n",
       " 'WAPE: 29.03\\n',\n",
       " 'R2: 0.7923\\n',\n",
       " 'Random Forest\\n',\n",
       " 'MSE: 0.1562\\n',\n",
       " 'WAPE: 27.85\\n',\n",
       " 'R2: 0.8002\\n',\n",
       " 'Number of Clusters: 9\\n',\n",
       " 'Linear Regression\\n',\n",
       " 'MSE: 0.1869\\n',\n",
       " 'WAPE: 32.01\\n',\n",
       " 'R2: 0.7616\\n',\n",
       " 'XGBoost\\n',\n",
       " 'MSE: 0.1659\\n',\n",
       " 'WAPE: 29.20\\n',\n",
       " 'R2: 0.7884\\n',\n",
       " 'Random Forest\\n',\n",
       " 'MSE: 0.1598\\n',\n",
       " 'WAPE: 28.05\\n',\n",
       " 'R2: 0.7962\\n',\n",
       " 'Number of Clusters: 10\\n',\n",
       " 'Linear Regression\\n',\n",
       " 'MSE: 0.1851\\n',\n",
       " 'WAPE: 31.91\\n',\n",
       " 'R2: 0.7636\\n',\n",
       " 'XGBoost\\n',\n",
       " 'MSE: 0.1647\\n',\n",
       " 'WAPE: 29.23\\n',\n",
       " 'R2: 0.7896\\n',\n",
       " 'Random Forest\\n',\n",
       " 'MSE: 0.1588\\n',\n",
       " 'WAPE: 28.18\\n',\n",
       " 'R2: 0.7970\\n',\n",
       " 'Number of Clusters: 11\\n',\n",
       " 'Linear Regression\\n',\n",
       " 'MSE: 0.1831\\n',\n",
       " 'WAPE: 31.84\\n',\n",
       " 'R2: 0.7657\\n',\n",
       " 'XGBoost\\n',\n",
       " 'MSE: 0.1636\\n',\n",
       " 'WAPE: 29.09\\n',\n",
       " 'R2: 0.7906\\n',\n",
       " 'Random Forest\\n',\n",
       " 'MSE: 0.1564\\n',\n",
       " 'WAPE: 27.79\\n',\n",
       " 'R2: 0.7999\\n',\n",
       " 'Number of Clusters: 12\\n',\n",
       " 'Linear Regression\\n',\n",
       " 'MSE: 0.1833\\n',\n",
       " 'WAPE: 31.89\\n',\n",
       " 'R2: 0.7655\\n',\n",
       " 'XGBoost\\n',\n",
       " 'MSE: 0.1658\\n',\n",
       " 'WAPE: 29.29\\n',\n",
       " 'R2: 0.7879\\n',\n",
       " 'Random Forest\\n',\n",
       " 'MSE: 0.1615\\n',\n",
       " 'WAPE: 28.34\\n',\n",
       " 'R2: 0.7934\\n',\n",
       " 'Number of Clusters: 13\\n',\n",
       " 'Linear Regression\\n',\n",
       " 'MSE: 0.1832\\n',\n",
       " 'WAPE: 31.93\\n',\n",
       " 'R2: 0.7653\\n',\n",
       " 'XGBoost\\n',\n",
       " 'MSE: 0.1655\\n',\n",
       " 'WAPE: 29.26\\n',\n",
       " 'R2: 0.7880\\n',\n",
       " 'Random Forest\\n',\n",
       " 'MSE: 0.1613\\n',\n",
       " 'WAPE: 28.33\\n',\n",
       " 'R2: 0.7934\\n',\n",
       " 'Number of Clusters: 14\\n',\n",
       " 'Linear Regression\\n',\n",
       " 'MSE: 0.1836\\n',\n",
       " 'WAPE: 31.95\\n',\n",
       " 'R2: 0.7650\\n',\n",
       " 'XGBoost\\n',\n",
       " 'MSE: 0.1669\\n',\n",
       " 'WAPE: 29.32\\n',\n",
       " 'R2: 0.7864\\n',\n",
       " 'Random Forest\\n',\n",
       " 'MSE: 0.1614\\n',\n",
       " 'WAPE: 28.31\\n',\n",
       " 'R2: 0.7934\\n',\n",
       " 'Number of Clusters: 15\\n',\n",
       " 'Linear Regression\\n',\n",
       " 'MSE: 0.1836\\n',\n",
       " 'WAPE: 32.01\\n',\n",
       " 'R2: 0.7652\\n',\n",
       " 'XGBoost\\n',\n",
       " 'MSE: 0.1659\\n',\n",
       " 'WAPE: 29.24\\n',\n",
       " 'R2: 0.7879\\n',\n",
       " 'Random Forest\\n',\n",
       " 'MSE: 0.1604\\n',\n",
       " 'WAPE: 28.23\\n',\n",
       " 'R2: 0.7948\\n',\n",
       " 'Number of Clusters: 16\\n',\n",
       " 'Linear Regression\\n',\n",
       " 'MSE: 0.1845\\n',\n",
       " 'WAPE: 32.01\\n',\n",
       " 'R2: 0.7644\\n',\n",
       " 'XGBoost\\n',\n",
       " 'MSE: 0.1667\\n',\n",
       " 'WAPE: 29.23\\n',\n",
       " 'R2: 0.7872\\n',\n",
       " 'Random Forest\\n',\n",
       " 'MSE: 0.1609\\n',\n",
       " 'WAPE: 28.19\\n',\n",
       " 'R2: 0.7945\\n']"
      ]
     },
     "execution_count": 57,
     "metadata": {},
     "output_type": "execute_result"
    }
   ],
   "source": [
    "with open('gpu_logs/cluster_preds.txt') as f:\n",
    "    l = f.readlines()\n",
    "    lines = [s for s in l if re.search(r'\\w+', s)]\n",
    "lines"
   ]
  },
  {
   "cell_type": "code",
   "execution_count": 66,
   "id": "0686ca92",
   "metadata": {},
   "outputs": [],
   "source": [
    "def show_cluster_graphic(lines, title, filename):\n",
    "    model_names, mse, wape, r2, number_clust = get_cluster_metrics(lines)\n",
    "    X_names = ['MSE', 'WAPE', 'R2']\n",
    "    X_axis = np.arange(len(X_names))\n",
    "    pos = 0\n",
    "    bar_width = 0.15\n",
    "    fig, ax = plt.subplots()\n",
    "    for i in (0,1):# range(len(set(model_names))):\n",
    "        for j in range(len(set(model_names))):\n",
    "            bar = (mse[j], wape[j], r2[j])\n",
    "            b = ax.bar(X_axis + pos, bar, bar_width-0.01, label=model_names[j])\n",
    "            pos = pos + bar_width\n",
    "            ax.bar_label(b, fontsize=6, fmt='%.3f')\n",
    "        break\n",
    "    ax.set_ylim(0,1)\n",
    "    ax.set_xticks(X_axis+bar_width+bar_width/2,X_names)\n",
    "    ax.set_xlabel(\"Model Comparison\")\n",
    "    ax.set_ylabel(\"Metrics\")\n",
    "    ax.set_title(title)\n",
    "    ax.legend()\n",
    "    #plt.savefig(filename)\n",
    "    plt.show()"
   ]
  },
  {
   "cell_type": "code",
   "execution_count": 67,
   "id": "bc98545b",
   "metadata": {},
   "outputs": [
    {
     "data": {
      "image/png": "[encoded data removed]",
      "text/plain": [
       "<Figure size 640x480 with 1 Axes>"
      ]
     },
     "metadata": {},
     "output_type": "display_data"
    }
   ],
   "source": [
    "show_cluster_graphic(lines, \"Cluster comparison\", \"images/tmp.txt\")"
   ]
  },
  {
   "cell_type": "code",
   "execution_count": 22,
   "id": "7a345d0e",
   "metadata": {},
   "outputs": [],
   "source": [
    "def show_graphic(lines, lines_noml, title, filename):\n",
    "    no_ml, mse_no, wape_no, r2_no = get_ml_metrics(lines_noml)\n",
    "    model_names, mse, wape, r2 = get_metrics_lists(lines)\n",
    "    model_names.insert(0,no_ml[0])\n",
    "    mse.insert(0,mse_no[0])\n",
    "    wape.insert(0,wape_no[0])\n",
    "    r2.insert(0,r2_no[0])\n",
    "    X_names = ['MSE', 'WAPE', 'R2']\n",
    "    X_axis = np.arange(len(X_names))\n",
    "    pos = 0\n",
    "    bar_width = 0.15\n",
    "    fig, ax = plt.subplots()\n",
    "\n",
    "    for i in range(len(model_names)):\n",
    "        bar = (mse[i], wape[i], r2[i])\n",
    "        b = ax.bar(X_axis + pos, bar, bar_width-0.01, label=model_names[i])\n",
    "        pos = pos + bar_width\n",
    "        ax.bar_label(b, fontsize=6, fmt='%.3f')\n",
    "        \n",
    "    ax.set_ylim(0,1)\n",
    "    ax.set_xticks(X_axis+bar_width+bar_width/2,X_names)\n",
    "    ax.set_xlabel(\"Model Comparison\")\n",
    "    ax.set_ylabel(\"Metrics\")\n",
    "    ax.set_title(title)\n",
    "    ax.legend()\n",
    "    #plt.savefig(filename)\n",
    "    plt.show()"
   ]
  },
  {
   "cell_type": "code",
   "execution_count": 5,
   "id": "6e4694d7",
   "metadata": {},
   "outputs": [
    {
     "data": {
      "text/plain": [
       "['No_ML\\n',\n",
       " 'MSE: 0.2223\\n',\n",
       " 'WAPE: 0.3078\\n',\n",
       " 'R2: 0.7108\\n',\n",
       " 'No_ML_Aggregated\\n',\n",
       " 'MSE: 0.0051\\n',\n",
       " 'WAPE: 0.22\\n',\n",
       " 'R2: 0.6776\\n']"
      ]
     },
     "execution_count": 5,
     "metadata": {},
     "output_type": "execute_result"
    }
   ],
   "source": [
    "with open('gpu_logs/no_ml.txt') as f:\n",
    "    lines_noml = f.readlines()\n",
    "lines_noml = lines_noml[1:9]\n",
    "lines_noml"
   ]
  },
  {
   "cell_type": "code",
   "execution_count": 6,
   "id": "9cbf6c47",
   "metadata": {},
   "outputs": [
    {
     "data": {
      "text/plain": [
       "['Linear Regression\\n',\n",
       " 'Total Averaged MSE: 0.204\\n',\n",
       " 'Total Averaged WAPE: 31.896\\n',\n",
       " 'Total Averaged R2: 0.756\\n',\n",
       " '\\n',\n",
       " 'XGBoost\\n',\n",
       " 'Total Averaged MSE: 0.174\\n',\n",
       " 'Total Averaged WAPE: 29.288\\n',\n",
       " 'Total Averaged R2: 0.792\\n',\n",
       " '\\n',\n",
       " 'Random Forest\\n',\n",
       " 'Total Averaged MSE: 0.144\\n',\n",
       " 'Total Averaged WAPE: 26.866\\n',\n",
       " 'Total Averaged R2: 0.828\\n']"
      ]
     },
     "execution_count": 6,
     "metadata": {},
     "output_type": "execute_result"
    }
   ],
   "source": [
    "with open('gpu_logs/selected_7days.txt') as f:\n",
    "    lines = f.readlines()\n",
    "lines_porto = lines[-14:]\n",
    "lines_porto"
   ]
  },
  {
   "cell_type": "code",
   "execution_count": 23,
   "id": "5cd1760c",
   "metadata": {
    "scrolled": false
   },
   "outputs": [
    {
     "data": {
      "image/png": "[encoded data removed]",
      "text/plain": [
       "<Figure size 640x480 with 1 Axes>"
      ]
     },
     "metadata": {},
     "output_type": "display_data"
    }
   ],
   "source": [
    "show_graphic(lines_porto, lines_noml, \"Energy Prediction comparison with final features plus the last 7 days same interval\", 'images/tmp.png')"
   ]
  },
  {
   "cell_type": "code",
   "execution_count": null,
   "id": "38c99088",
   "metadata": {},
   "outputs": [],
   "source": []
  }
 ],
 "metadata": {
  "kernelspec": {
   "display_name": "Python 3.8.16 ('rapids-23.02')",
   "language": "python",
   "name": "python3"
  },
  "language_info": {
   "codemirror_mode": {
    "name": "ipython",
    "version": 3
   },
   "file_extension": ".py",
   "mimetype": "text/x-python",
   "name": "python",
   "nbconvert_exporter": "python",
   "pygments_lexer": "ipython3",
   "version": "3.8.16"
  },
  "vscode": {
   "interpreter": {
    "hash": "b68dca5a889d9fa7a36c76420bb99c5b147d98e0e386a0426daa5cd8f8566c01"
   }
  }
 },
 "nbformat": 4,
 "nbformat_minor": 5
}
