{
 "cells": [
  {
   "cell_type": "code",
   "execution_count": 1,
   "id": "652eddb0",
   "metadata": {},
   "outputs": [],
   "source": [
    "import warnings\n",
    "warnings.filterwarnings('ignore',category=FutureWarning)\n",
    "warnings.filterwarnings('ignore',category=DeprecationWarning)\n",
    "import numpy as np\n",
    "import pandas as pd\n",
    "import matplotlib.pyplot as plt\n",
    "from sklearn.model_selection import train_test_split, cross_val_score, cross_validate, KFold\n",
    "import xgboost as xgb\n",
    "from sklearn.metrics import mean_squared_error, r2_score, mean_absolute_error\n",
    "from sklearn.preprocessing import MinMaxScaler\n",
    "import math\n",
    "import time"
   ]
  },
  {
   "cell_type": "code",
   "execution_count": 3,
   "id": "c019fe1f",
   "metadata": {},
   "outputs": [
    {
     "data": {
      "text/html": [
       "<div>\n",
       "<style scoped>\n",
       "    .dataframe tbody tr th:only-of-type {\n",
       "        vertical-align: middle;\n",
       "    }\n",
       "\n",
       "    .dataframe tbody tr th {\n",
       "        vertical-align: top;\n",
       "    }\n",
       "\n",
       "    .dataframe thead th {\n",
       "        text-align: right;\n",
       "    }\n",
       "</style>\n",
       "<table border=\"1\" class=\"dataframe\">\n",
       "  <thead>\n",
       "    <tr style=\"text-align: right;\">\n",
       "      <th></th>\n",
       "      <th>Time</th>\n",
       "      <th>Energy_1</th>\n",
       "      <th>Energy_2</th>\n",
       "      <th>Energy_9</th>\n",
       "      <th>Energy_15</th>\n",
       "      <th>Energy_16</th>\n",
       "      <th>Energy_17</th>\n",
       "      <th>Energy_30</th>\n",
       "      <th>Energy_35</th>\n",
       "      <th>Energy_48</th>\n",
       "      <th>...</th>\n",
       "      <th>Energy_138</th>\n",
       "      <th>Energy_139</th>\n",
       "      <th>Energy_142</th>\n",
       "      <th>Energy_146</th>\n",
       "      <th>Energy_148</th>\n",
       "      <th>Energy_151</th>\n",
       "      <th>Energy_159</th>\n",
       "      <th>Energy_160</th>\n",
       "      <th>Energy_161</th>\n",
       "      <th>Energy_164</th>\n",
       "    </tr>\n",
       "  </thead>\n",
       "  <tbody>\n",
       "    <tr>\n",
       "      <th>0</th>\n",
       "      <td>2022-05-05 12:00:00</td>\n",
       "      <td>0.068</td>\n",
       "      <td>0.018</td>\n",
       "      <td>0.024</td>\n",
       "      <td>0.164</td>\n",
       "      <td>0.072</td>\n",
       "      <td>0.055</td>\n",
       "      <td>0.006</td>\n",
       "      <td>0.080</td>\n",
       "      <td>0.062</td>\n",
       "      <td>...</td>\n",
       "      <td>0.052</td>\n",
       "      <td>0.083</td>\n",
       "      <td>0.084</td>\n",
       "      <td>0.068</td>\n",
       "      <td>0.060</td>\n",
       "      <td>0.042</td>\n",
       "      <td>0.055</td>\n",
       "      <td>0.069</td>\n",
       "      <td>0.010</td>\n",
       "      <td>0.004</td>\n",
       "    </tr>\n",
       "    <tr>\n",
       "      <th>1</th>\n",
       "      <td>2022-05-05 12:15:00</td>\n",
       "      <td>0.070</td>\n",
       "      <td>0.018</td>\n",
       "      <td>0.024</td>\n",
       "      <td>0.135</td>\n",
       "      <td>0.058</td>\n",
       "      <td>0.060</td>\n",
       "      <td>0.006</td>\n",
       "      <td>0.056</td>\n",
       "      <td>0.062</td>\n",
       "      <td>...</td>\n",
       "      <td>0.052</td>\n",
       "      <td>0.053</td>\n",
       "      <td>0.004</td>\n",
       "      <td>0.048</td>\n",
       "      <td>0.078</td>\n",
       "      <td>0.053</td>\n",
       "      <td>0.055</td>\n",
       "      <td>0.063</td>\n",
       "      <td>0.010</td>\n",
       "      <td>0.003</td>\n",
       "    </tr>\n",
       "    <tr>\n",
       "      <th>2</th>\n",
       "      <td>2022-05-05 12:30:00</td>\n",
       "      <td>0.122</td>\n",
       "      <td>0.018</td>\n",
       "      <td>0.024</td>\n",
       "      <td>0.121</td>\n",
       "      <td>0.011</td>\n",
       "      <td>0.096</td>\n",
       "      <td>0.006</td>\n",
       "      <td>0.052</td>\n",
       "      <td>0.062</td>\n",
       "      <td>...</td>\n",
       "      <td>0.052</td>\n",
       "      <td>0.035</td>\n",
       "      <td>0.004</td>\n",
       "      <td>0.062</td>\n",
       "      <td>0.061</td>\n",
       "      <td>0.057</td>\n",
       "      <td>0.055</td>\n",
       "      <td>0.049</td>\n",
       "      <td>0.010</td>\n",
       "      <td>0.004</td>\n",
       "    </tr>\n",
       "    <tr>\n",
       "      <th>3</th>\n",
       "      <td>2022-05-05 12:45:00</td>\n",
       "      <td>0.132</td>\n",
       "      <td>0.018</td>\n",
       "      <td>0.024</td>\n",
       "      <td>0.138</td>\n",
       "      <td>0.010</td>\n",
       "      <td>0.064</td>\n",
       "      <td>0.006</td>\n",
       "      <td>0.052</td>\n",
       "      <td>0.062</td>\n",
       "      <td>...</td>\n",
       "      <td>0.052</td>\n",
       "      <td>0.082</td>\n",
       "      <td>0.004</td>\n",
       "      <td>0.056</td>\n",
       "      <td>0.125</td>\n",
       "      <td>0.034</td>\n",
       "      <td>0.055</td>\n",
       "      <td>0.097</td>\n",
       "      <td>0.010</td>\n",
       "      <td>0.004</td>\n",
       "    </tr>\n",
       "    <tr>\n",
       "      <th>4</th>\n",
       "      <td>2022-05-05 13:00:00</td>\n",
       "      <td>0.125</td>\n",
       "      <td>0.018</td>\n",
       "      <td>0.024</td>\n",
       "      <td>0.104</td>\n",
       "      <td>0.011</td>\n",
       "      <td>0.072</td>\n",
       "      <td>0.006</td>\n",
       "      <td>0.053</td>\n",
       "      <td>0.062</td>\n",
       "      <td>...</td>\n",
       "      <td>0.052</td>\n",
       "      <td>0.076</td>\n",
       "      <td>0.004</td>\n",
       "      <td>0.034</td>\n",
       "      <td>0.070</td>\n",
       "      <td>0.038</td>\n",
       "      <td>0.055</td>\n",
       "      <td>0.075</td>\n",
       "      <td>0.010</td>\n",
       "      <td>0.004</td>\n",
       "    </tr>\n",
       "    <tr>\n",
       "      <th>...</th>\n",
       "      <td>...</td>\n",
       "      <td>...</td>\n",
       "      <td>...</td>\n",
       "      <td>...</td>\n",
       "      <td>...</td>\n",
       "      <td>...</td>\n",
       "      <td>...</td>\n",
       "      <td>...</td>\n",
       "      <td>...</td>\n",
       "      <td>...</td>\n",
       "      <td>...</td>\n",
       "      <td>...</td>\n",
       "      <td>...</td>\n",
       "      <td>...</td>\n",
       "      <td>...</td>\n",
       "      <td>...</td>\n",
       "      <td>...</td>\n",
       "      <td>...</td>\n",
       "      <td>...</td>\n",
       "      <td>...</td>\n",
       "      <td>...</td>\n",
       "    </tr>\n",
       "    <tr>\n",
       "      <th>38014</th>\n",
       "      <td>2023-06-07 01:15:00</td>\n",
       "      <td>0.120</td>\n",
       "      <td>0.020</td>\n",
       "      <td>0.066</td>\n",
       "      <td>0.120</td>\n",
       "      <td>0.003</td>\n",
       "      <td>0.094</td>\n",
       "      <td>0.037</td>\n",
       "      <td>0.045</td>\n",
       "      <td>0.071</td>\n",
       "      <td>...</td>\n",
       "      <td>0.047</td>\n",
       "      <td>0.054</td>\n",
       "      <td>0.004</td>\n",
       "      <td>0.080</td>\n",
       "      <td>0.014</td>\n",
       "      <td>0.028</td>\n",
       "      <td>0.066</td>\n",
       "      <td>0.058</td>\n",
       "      <td>0.000</td>\n",
       "      <td>0.003</td>\n",
       "    </tr>\n",
       "    <tr>\n",
       "      <th>38015</th>\n",
       "      <td>2023-06-07 01:30:00</td>\n",
       "      <td>0.121</td>\n",
       "      <td>0.004</td>\n",
       "      <td>0.057</td>\n",
       "      <td>0.087</td>\n",
       "      <td>0.002</td>\n",
       "      <td>0.077</td>\n",
       "      <td>0.036</td>\n",
       "      <td>0.046</td>\n",
       "      <td>0.059</td>\n",
       "      <td>...</td>\n",
       "      <td>0.051</td>\n",
       "      <td>0.038</td>\n",
       "      <td>0.004</td>\n",
       "      <td>0.060</td>\n",
       "      <td>0.028</td>\n",
       "      <td>0.023</td>\n",
       "      <td>0.067</td>\n",
       "      <td>0.032</td>\n",
       "      <td>0.016</td>\n",
       "      <td>0.004</td>\n",
       "    </tr>\n",
       "    <tr>\n",
       "      <th>38016</th>\n",
       "      <td>2023-06-07 01:45:00</td>\n",
       "      <td>0.158</td>\n",
       "      <td>0.007</td>\n",
       "      <td>0.056</td>\n",
       "      <td>0.086</td>\n",
       "      <td>0.003</td>\n",
       "      <td>0.087</td>\n",
       "      <td>0.021</td>\n",
       "      <td>0.045</td>\n",
       "      <td>0.059</td>\n",
       "      <td>...</td>\n",
       "      <td>0.068</td>\n",
       "      <td>0.045</td>\n",
       "      <td>0.004</td>\n",
       "      <td>0.057</td>\n",
       "      <td>0.029</td>\n",
       "      <td>0.043</td>\n",
       "      <td>0.065</td>\n",
       "      <td>0.495</td>\n",
       "      <td>0.008</td>\n",
       "      <td>0.003</td>\n",
       "    </tr>\n",
       "    <tr>\n",
       "      <th>38017</th>\n",
       "      <td>2023-06-07 02:00:00</td>\n",
       "      <td>0.102</td>\n",
       "      <td>0.042</td>\n",
       "      <td>0.056</td>\n",
       "      <td>0.085</td>\n",
       "      <td>0.002</td>\n",
       "      <td>0.072</td>\n",
       "      <td>0.027</td>\n",
       "      <td>0.045</td>\n",
       "      <td>0.059</td>\n",
       "      <td>...</td>\n",
       "      <td>0.067</td>\n",
       "      <td>0.053</td>\n",
       "      <td>0.003</td>\n",
       "      <td>0.061</td>\n",
       "      <td>0.012</td>\n",
       "      <td>0.047</td>\n",
       "      <td>0.041</td>\n",
       "      <td>0.274</td>\n",
       "      <td>0.000</td>\n",
       "      <td>0.004</td>\n",
       "    </tr>\n",
       "    <tr>\n",
       "      <th>38018</th>\n",
       "      <td>2023-06-07 02:15:00</td>\n",
       "      <td>0.102</td>\n",
       "      <td>0.042</td>\n",
       "      <td>0.056</td>\n",
       "      <td>0.085</td>\n",
       "      <td>0.002</td>\n",
       "      <td>0.072</td>\n",
       "      <td>0.027</td>\n",
       "      <td>0.045</td>\n",
       "      <td>0.059</td>\n",
       "      <td>...</td>\n",
       "      <td>0.067</td>\n",
       "      <td>0.053</td>\n",
       "      <td>0.003</td>\n",
       "      <td>0.072</td>\n",
       "      <td>0.012</td>\n",
       "      <td>0.047</td>\n",
       "      <td>0.041</td>\n",
       "      <td>0.274</td>\n",
       "      <td>0.000</td>\n",
       "      <td>0.004</td>\n",
       "    </tr>\n",
       "  </tbody>\n",
       "</table>\n",
       "<p>38019 rows × 41 columns</p>\n",
       "</div>"
      ],
      "text/plain": [
       "                      Time  Energy_1  Energy_2  Energy_9  Energy_15  \\\n",
       "0      2022-05-05 12:00:00     0.068     0.018     0.024      0.164   \n",
       "1      2022-05-05 12:15:00     0.070     0.018     0.024      0.135   \n",
       "2      2022-05-05 12:30:00     0.122     0.018     0.024      0.121   \n",
       "3      2022-05-05 12:45:00     0.132     0.018     0.024      0.138   \n",
       "4      2022-05-05 13:00:00     0.125     0.018     0.024      0.104   \n",
       "...                    ...       ...       ...       ...        ...   \n",
       "38014  2023-06-07 01:15:00     0.120     0.020     0.066      0.120   \n",
       "38015  2023-06-07 01:30:00     0.121     0.004     0.057      0.087   \n",
       "38016  2023-06-07 01:45:00     0.158     0.007     0.056      0.086   \n",
       "38017  2023-06-07 02:00:00     0.102     0.042     0.056      0.085   \n",
       "38018  2023-06-07 02:15:00     0.102     0.042     0.056      0.085   \n",
       "\n",
       "       Energy_16  Energy_17  Energy_30  Energy_35  Energy_48  ...  Energy_138  \\\n",
       "0          0.072      0.055      0.006      0.080      0.062  ...       0.052   \n",
       "1          0.058      0.060      0.006      0.056      0.062  ...       0.052   \n",
       "2          0.011      0.096      0.006      0.052      0.062  ...       0.052   \n",
       "3          0.010      0.064      0.006      0.052      0.062  ...       0.052   \n",
       "4          0.011      0.072      0.006      0.053      0.062  ...       0.052   \n",
       "...          ...        ...        ...        ...        ...  ...         ...   \n",
       "38014      0.003      0.094      0.037      0.045      0.071  ...       0.047   \n",
       "38015      0.002      0.077      0.036      0.046      0.059  ...       0.051   \n",
       "38016      0.003      0.087      0.021      0.045      0.059  ...       0.068   \n",
       "38017      0.002      0.072      0.027      0.045      0.059  ...       0.067   \n",
       "38018      0.002      0.072      0.027      0.045      0.059  ...       0.067   \n",
       "\n",
       "       Energy_139  Energy_142  Energy_146  Energy_148  Energy_151  Energy_159  \\\n",
       "0           0.083       0.084       0.068       0.060       0.042       0.055   \n",
       "1           0.053       0.004       0.048       0.078       0.053       0.055   \n",
       "2           0.035       0.004       0.062       0.061       0.057       0.055   \n",
       "3           0.082       0.004       0.056       0.125       0.034       0.055   \n",
       "4           0.076       0.004       0.034       0.070       0.038       0.055   \n",
       "...           ...         ...         ...         ...         ...         ...   \n",
       "38014       0.054       0.004       0.080       0.014       0.028       0.066   \n",
       "38015       0.038       0.004       0.060       0.028       0.023       0.067   \n",
       "38016       0.045       0.004       0.057       0.029       0.043       0.065   \n",
       "38017       0.053       0.003       0.061       0.012       0.047       0.041   \n",
       "38018       0.053       0.003       0.072       0.012       0.047       0.041   \n",
       "\n",
       "       Energy_160  Energy_161  Energy_164  \n",
       "0           0.069       0.010       0.004  \n",
       "1           0.063       0.010       0.003  \n",
       "2           0.049       0.010       0.004  \n",
       "3           0.097       0.010       0.004  \n",
       "4           0.075       0.010       0.004  \n",
       "...           ...         ...         ...  \n",
       "38014       0.058       0.000       0.003  \n",
       "38015       0.032       0.016       0.004  \n",
       "38016       0.495       0.008       0.003  \n",
       "38017       0.274       0.000       0.004  \n",
       "38018       0.274       0.000       0.004  \n",
       "\n",
       "[38019 rows x 41 columns]"
      ]
     },
     "execution_count": 3,
     "metadata": {},
     "output_type": "execute_result"
    }
   ],
   "source": [
    "df = pd.read_csv('data/loureiro_40casas.csv')\n",
    "df"
   ]
  },
  {
   "cell_type": "code",
   "execution_count": 4,
   "id": "2fa5e9ea",
   "metadata": {},
   "outputs": [
    {
     "data": {
      "text/html": [
       "<div>\n",
       "<style scoped>\n",
       "    .dataframe tbody tr th:only-of-type {\n",
       "        vertical-align: middle;\n",
       "    }\n",
       "\n",
       "    .dataframe tbody tr th {\n",
       "        vertical-align: top;\n",
       "    }\n",
       "\n",
       "    .dataframe thead th {\n",
       "        text-align: right;\n",
       "    }\n",
       "</style>\n",
       "<table border=\"1\" class=\"dataframe\">\n",
       "  <thead>\n",
       "    <tr style=\"text-align: right;\">\n",
       "      <th></th>\n",
       "      <th>Time</th>\n",
       "      <th>Energy</th>\n",
       "      <th>Location</th>\n",
       "    </tr>\n",
       "  </thead>\n",
       "  <tbody>\n",
       "    <tr>\n",
       "      <th>0</th>\n",
       "      <td>2022-05-05 12:00:00</td>\n",
       "      <td>0.068</td>\n",
       "      <td>Energy_1</td>\n",
       "    </tr>\n",
       "    <tr>\n",
       "      <th>1</th>\n",
       "      <td>2022-05-05 12:15:00</td>\n",
       "      <td>0.070</td>\n",
       "      <td>Energy_1</td>\n",
       "    </tr>\n",
       "    <tr>\n",
       "      <th>2</th>\n",
       "      <td>2022-05-05 12:30:00</td>\n",
       "      <td>0.122</td>\n",
       "      <td>Energy_1</td>\n",
       "    </tr>\n",
       "    <tr>\n",
       "      <th>3</th>\n",
       "      <td>2022-05-05 12:45:00</td>\n",
       "      <td>0.132</td>\n",
       "      <td>Energy_1</td>\n",
       "    </tr>\n",
       "    <tr>\n",
       "      <th>4</th>\n",
       "      <td>2022-05-05 13:00:00</td>\n",
       "      <td>0.125</td>\n",
       "      <td>Energy_1</td>\n",
       "    </tr>\n",
       "    <tr>\n",
       "      <th>...</th>\n",
       "      <td>...</td>\n",
       "      <td>...</td>\n",
       "      <td>...</td>\n",
       "    </tr>\n",
       "    <tr>\n",
       "      <th>1520755</th>\n",
       "      <td>2023-06-07 01:15:00</td>\n",
       "      <td>0.003</td>\n",
       "      <td>Energy_164</td>\n",
       "    </tr>\n",
       "    <tr>\n",
       "      <th>1520756</th>\n",
       "      <td>2023-06-07 01:30:00</td>\n",
       "      <td>0.004</td>\n",
       "      <td>Energy_164</td>\n",
       "    </tr>\n",
       "    <tr>\n",
       "      <th>1520757</th>\n",
       "      <td>2023-06-07 01:45:00</td>\n",
       "      <td>0.003</td>\n",
       "      <td>Energy_164</td>\n",
       "    </tr>\n",
       "    <tr>\n",
       "      <th>1520758</th>\n",
       "      <td>2023-06-07 02:00:00</td>\n",
       "      <td>0.004</td>\n",
       "      <td>Energy_164</td>\n",
       "    </tr>\n",
       "    <tr>\n",
       "      <th>1520759</th>\n",
       "      <td>2023-06-07 02:15:00</td>\n",
       "      <td>0.004</td>\n",
       "      <td>Energy_164</td>\n",
       "    </tr>\n",
       "  </tbody>\n",
       "</table>\n",
       "<p>1520760 rows × 3 columns</p>\n",
       "</div>"
      ],
      "text/plain": [
       "                        Time  Energy    Location\n",
       "0        2022-05-05 12:00:00   0.068    Energy_1\n",
       "1        2022-05-05 12:15:00   0.070    Energy_1\n",
       "2        2022-05-05 12:30:00   0.122    Energy_1\n",
       "3        2022-05-05 12:45:00   0.132    Energy_1\n",
       "4        2022-05-05 13:00:00   0.125    Energy_1\n",
       "...                      ...     ...         ...\n",
       "1520755  2023-06-07 01:15:00   0.003  Energy_164\n",
       "1520756  2023-06-07 01:30:00   0.004  Energy_164\n",
       "1520757  2023-06-07 01:45:00   0.003  Energy_164\n",
       "1520758  2023-06-07 02:00:00   0.004  Energy_164\n",
       "1520759  2023-06-07 02:15:00   0.004  Energy_164\n",
       "\n",
       "[1520760 rows x 3 columns]"
      ]
     },
     "execution_count": 4,
     "metadata": {},
     "output_type": "execute_result"
    }
   ],
   "source": [
    "df_location = pd.read_csv(\"data/loureiro_40casas_location.csv\")\n",
    "df_location"
   ]
  },
  {
   "cell_type": "code",
   "execution_count": 9,
   "id": "c471b7c6",
   "metadata": {},
   "outputs": [],
   "source": [
    "num_samples_per_house = df_location.Location.value_counts()[0]\n",
    "num_houses = df_location.Location.nunique()"
   ]
  },
  {
   "cell_type": "code",
   "execution_count": 10,
   "id": "f90d489b",
   "metadata": {},
   "outputs": [],
   "source": [
    "def no_ml_predict(X: np.array, y: np.array):\n",
    "    mse = truncate_metric(mean_squared_error(X, y))\n",
    "    #wape = mean_absolute_error(X,y) / y.mean()\n",
    "    wape = truncate_metric(float(np.sum(np.abs(X - y)) / np.sum(np.abs(y))))\n",
    "    r2 = truncate_metric(r2_score(X, y))\n",
    "    \n",
    "    print('MSE: %.4f' % mse)\n",
    "    print('WAPE: %.2f' % (wape * 100))\n",
    "    print('R2: %.4f' % r2)\n",
    "    return mse, wape, r2\n",
    "\n",
    "\n",
    "def truncate_metric(metric):\n",
    "    m = math.trunc(10000*metric) / 10000\n",
    "    return m\n",
    "\n",
    "def truncate(df):\n",
    "    trunc = lambda x: math.trunc(10000*x) / 10000\n",
    "    df_trunc = df.applymap(trunc)\n",
    "    return df_trunc\n",
    "\n",
    "def truncate_location(df):\n",
    "    trunc = lambda x: math.trunc(10000*x) / 10000\n",
    "    df_trunc = pd.DataFrame(df['Energy']).applymap(trunc)\n",
    "    df = pd.concat([df.iloc[:,0:-1], df_trunc],axis=1)\n",
    "    return df\n",
    "    \n",
    "def plot_results(preds: np.array, actuals: np.array, title: str):\n",
    "    \n",
    "    plt.scatter(actuals, preds, c='b', label='predicted')\n",
    "    plt.xlabel('actual')\n",
    "    plt.ylabel('predicted')\n",
    "    plt.title(title)\n",
    "    plt.xlim(0, plt.xlim()[1])\n",
    "    plt.ylim(0, plt.ylim()[1])\n",
    "    _ = plt.plot([0, 100], [0, 100], '--r', label='y=x')\n",
    "    plt.legend()\n",
    "    plt.show()\n",
    "    \n",
    "def total_averaged_metrics(metrics_list):\n",
    "    mse = np.round(sum(i for i, j, k in metrics_list)/len(metrics_list),3)\n",
    "    wape = np.round(sum(j for i, j, k in metrics_list)/len(metrics_list),3)\n",
    "    r2 = np.round(sum(k for i, j, k in metrics_list)/len(metrics_list),3)\n",
    "    print(\"Total Averaged MSE: {}\".format(mse))\n",
    "    print(\"Total Averaged WAPE: {}\".format(wape * 100))\n",
    "    print(\"Total Averaged R2: {}\".format(r2))\n",
    "    return mse, wape, r2"
   ]
  },
  {
   "cell_type": "code",
   "execution_count": 11,
   "id": "e8d58ba8",
   "metadata": {},
   "outputs": [],
   "source": [
    "def normalize_training(X_train):\n",
    "    scaler = MinMaxScaler(feature_range=(0,1))\n",
    "    scaler.fit(X_train)\n",
    "    X_train = scaler.transform(X_train)\n",
    "    return X_train, scaler"
   ]
  },
  {
   "cell_type": "code",
   "execution_count": 12,
   "id": "4781f2b7",
   "metadata": {},
   "outputs": [
    {
     "data": {
      "text/html": [
       "<div>\n",
       "<style scoped>\n",
       "    .dataframe tbody tr th:only-of-type {\n",
       "        vertical-align: middle;\n",
       "    }\n",
       "\n",
       "    .dataframe tbody tr th {\n",
       "        vertical-align: top;\n",
       "    }\n",
       "\n",
       "    .dataframe thead th {\n",
       "        text-align: right;\n",
       "    }\n",
       "</style>\n",
       "<table border=\"1\" class=\"dataframe\">\n",
       "  <thead>\n",
       "    <tr style=\"text-align: right;\">\n",
       "      <th></th>\n",
       "      <th>Energy</th>\n",
       "    </tr>\n",
       "  </thead>\n",
       "  <tbody>\n",
       "    <tr>\n",
       "      <th>0</th>\n",
       "      <td>2.955</td>\n",
       "    </tr>\n",
       "    <tr>\n",
       "      <th>1</th>\n",
       "      <td>2.652</td>\n",
       "    </tr>\n",
       "    <tr>\n",
       "      <th>2</th>\n",
       "      <td>2.593</td>\n",
       "    </tr>\n",
       "    <tr>\n",
       "      <th>3</th>\n",
       "      <td>2.691</td>\n",
       "    </tr>\n",
       "    <tr>\n",
       "      <th>4</th>\n",
       "      <td>2.685</td>\n",
       "    </tr>\n",
       "    <tr>\n",
       "      <th>...</th>\n",
       "      <td>...</td>\n",
       "    </tr>\n",
       "    <tr>\n",
       "      <th>38014</th>\n",
       "      <td>1.820</td>\n",
       "    </tr>\n",
       "    <tr>\n",
       "      <th>38015</th>\n",
       "      <td>1.751</td>\n",
       "    </tr>\n",
       "    <tr>\n",
       "      <th>38016</th>\n",
       "      <td>2.252</td>\n",
       "    </tr>\n",
       "    <tr>\n",
       "      <th>38017</th>\n",
       "      <td>2.034</td>\n",
       "    </tr>\n",
       "    <tr>\n",
       "      <th>38018</th>\n",
       "      <td>2.045</td>\n",
       "    </tr>\n",
       "  </tbody>\n",
       "</table>\n",
       "<p>38019 rows × 1 columns</p>\n",
       "</div>"
      ],
      "text/plain": [
       "       Energy\n",
       "0       2.955\n",
       "1       2.652\n",
       "2       2.593\n",
       "3       2.691\n",
       "4       2.685\n",
       "...       ...\n",
       "38014   1.820\n",
       "38015   1.751\n",
       "38016   2.252\n",
       "38017   2.034\n",
       "38018   2.045\n",
       "\n",
       "[38019 rows x 1 columns]"
      ]
     },
     "execution_count": 12,
     "metadata": {},
     "output_type": "execute_result"
    }
   ],
   "source": [
    "df_total = pd.DataFrame(df.sum(axis=1))\n",
    "df_total.columns = ['Energy']\n",
    "df_total"
   ]
  },
  {
   "cell_type": "markdown",
   "id": "93b2814a",
   "metadata": {},
   "source": [
    "## Individual 51 houses preprocessing\n",
    "### Previous 15 minutes"
   ]
  },
  {
   "cell_type": "code",
   "execution_count": 13,
   "id": "c41925d7",
   "metadata": {},
   "outputs": [
    {
     "data": {
      "text/html": [
       "<div>\n",
       "<style scoped>\n",
       "    .dataframe tbody tr th:only-of-type {\n",
       "        vertical-align: middle;\n",
       "    }\n",
       "\n",
       "    .dataframe tbody tr th {\n",
       "        vertical-align: top;\n",
       "    }\n",
       "\n",
       "    .dataframe thead th {\n",
       "        text-align: right;\n",
       "    }\n",
       "</style>\n",
       "<table border=\"1\" class=\"dataframe\">\n",
       "  <thead>\n",
       "    <tr style=\"text-align: right;\">\n",
       "      <th></th>\n",
       "      <th>Energy</th>\n",
       "    </tr>\n",
       "  </thead>\n",
       "  <tbody>\n",
       "    <tr>\n",
       "      <th>0</th>\n",
       "      <td>0.068</td>\n",
       "    </tr>\n",
       "    <tr>\n",
       "      <th>1</th>\n",
       "      <td>0.070</td>\n",
       "    </tr>\n",
       "    <tr>\n",
       "      <th>2</th>\n",
       "      <td>0.122</td>\n",
       "    </tr>\n",
       "    <tr>\n",
       "      <th>3</th>\n",
       "      <td>0.132</td>\n",
       "    </tr>\n",
       "    <tr>\n",
       "      <th>4</th>\n",
       "      <td>0.125</td>\n",
       "    </tr>\n",
       "    <tr>\n",
       "      <th>...</th>\n",
       "      <td>...</td>\n",
       "    </tr>\n",
       "    <tr>\n",
       "      <th>1520715</th>\n",
       "      <td>0.004</td>\n",
       "    </tr>\n",
       "    <tr>\n",
       "      <th>1520716</th>\n",
       "      <td>0.003</td>\n",
       "    </tr>\n",
       "    <tr>\n",
       "      <th>1520717</th>\n",
       "      <td>0.004</td>\n",
       "    </tr>\n",
       "    <tr>\n",
       "      <th>1520718</th>\n",
       "      <td>0.003</td>\n",
       "    </tr>\n",
       "    <tr>\n",
       "      <th>1520719</th>\n",
       "      <td>0.004</td>\n",
       "    </tr>\n",
       "  </tbody>\n",
       "</table>\n",
       "<p>1520720 rows × 1 columns</p>\n",
       "</div>"
      ],
      "text/plain": [
       "         Energy\n",
       "0         0.068\n",
       "1         0.070\n",
       "2         0.122\n",
       "3         0.132\n",
       "4         0.125\n",
       "...         ...\n",
       "1520715   0.004\n",
       "1520716   0.003\n",
       "1520717   0.004\n",
       "1520718   0.003\n",
       "1520719   0.004\n",
       "\n",
       "[1520720 rows x 1 columns]"
      ]
     },
     "execution_count": 13,
     "metadata": {},
     "output_type": "execute_result"
    }
   ],
   "source": [
    "X15 = df_location.copy()\n",
    "for i in range(1, num_houses):\n",
    "    X15.iloc[(num_samples_per_house*i)-1] = np.nan\n",
    "X15.dropna(inplace=True)\n",
    "m = len(X15)\n",
    "X15 = X15.iloc[0:(m-1)]\n",
    "X15.drop([\"Time\", \"Location\"],inplace=True, axis=1)\n",
    "X15.reset_index(drop=True, inplace=True)\n",
    "X15"
   ]
  },
  {
   "cell_type": "code",
   "execution_count": 14,
   "id": "cb9c1131",
   "metadata": {},
   "outputs": [
    {
     "data": {
      "text/html": [
       "<div>\n",
       "<style scoped>\n",
       "    .dataframe tbody tr th:only-of-type {\n",
       "        vertical-align: middle;\n",
       "    }\n",
       "\n",
       "    .dataframe tbody tr th {\n",
       "        vertical-align: top;\n",
       "    }\n",
       "\n",
       "    .dataframe thead th {\n",
       "        text-align: right;\n",
       "    }\n",
       "</style>\n",
       "<table border=\"1\" class=\"dataframe\">\n",
       "  <thead>\n",
       "    <tr style=\"text-align: right;\">\n",
       "      <th></th>\n",
       "      <th>Energy</th>\n",
       "    </tr>\n",
       "  </thead>\n",
       "  <tbody>\n",
       "    <tr>\n",
       "      <th>0</th>\n",
       "      <td>0.070</td>\n",
       "    </tr>\n",
       "    <tr>\n",
       "      <th>1</th>\n",
       "      <td>0.122</td>\n",
       "    </tr>\n",
       "    <tr>\n",
       "      <th>2</th>\n",
       "      <td>0.132</td>\n",
       "    </tr>\n",
       "    <tr>\n",
       "      <th>3</th>\n",
       "      <td>0.125</td>\n",
       "    </tr>\n",
       "    <tr>\n",
       "      <th>4</th>\n",
       "      <td>0.089</td>\n",
       "    </tr>\n",
       "    <tr>\n",
       "      <th>...</th>\n",
       "      <td>...</td>\n",
       "    </tr>\n",
       "    <tr>\n",
       "      <th>1520715</th>\n",
       "      <td>0.003</td>\n",
       "    </tr>\n",
       "    <tr>\n",
       "      <th>1520716</th>\n",
       "      <td>0.004</td>\n",
       "    </tr>\n",
       "    <tr>\n",
       "      <th>1520717</th>\n",
       "      <td>0.003</td>\n",
       "    </tr>\n",
       "    <tr>\n",
       "      <th>1520718</th>\n",
       "      <td>0.004</td>\n",
       "    </tr>\n",
       "    <tr>\n",
       "      <th>1520719</th>\n",
       "      <td>0.004</td>\n",
       "    </tr>\n",
       "  </tbody>\n",
       "</table>\n",
       "<p>1520720 rows × 1 columns</p>\n",
       "</div>"
      ],
      "text/plain": [
       "         Energy\n",
       "0         0.070\n",
       "1         0.122\n",
       "2         0.132\n",
       "3         0.125\n",
       "4         0.089\n",
       "...         ...\n",
       "1520715   0.003\n",
       "1520716   0.004\n",
       "1520717   0.003\n",
       "1520718   0.004\n",
       "1520719   0.004\n",
       "\n",
       "[1520720 rows x 1 columns]"
      ]
     },
     "execution_count": 14,
     "metadata": {},
     "output_type": "execute_result"
    }
   ],
   "source": [
    "y15 = df_location.copy()\n",
    "for i in range(1, num_houses):\n",
    "    y15.iloc[(num_samples_per_house*i)] = np.nan\n",
    "y15.dropna(inplace=True)\n",
    "y15 = y15.iloc[1:].reset_index(drop=True)\n",
    "y15.drop([\"Time\", \"Location\"],inplace=True, axis=1)\n",
    "y15.reset_index(drop=True, inplace=True)\n",
    "y15"
   ]
  },
  {
   "cell_type": "markdown",
   "id": "c66754cb",
   "metadata": {},
   "source": [
    "### Previous day at same hour"
   ]
  },
  {
   "cell_type": "code",
   "execution_count": 15,
   "id": "1d445b6c",
   "metadata": {},
   "outputs": [
    {
     "data": {
      "text/html": [
       "<div>\n",
       "<style scoped>\n",
       "    .dataframe tbody tr th:only-of-type {\n",
       "        vertical-align: middle;\n",
       "    }\n",
       "\n",
       "    .dataframe tbody tr th {\n",
       "        vertical-align: top;\n",
       "    }\n",
       "\n",
       "    .dataframe thead th {\n",
       "        text-align: right;\n",
       "    }\n",
       "</style>\n",
       "<table border=\"1\" class=\"dataframe\">\n",
       "  <thead>\n",
       "    <tr style=\"text-align: right;\">\n",
       "      <th></th>\n",
       "      <th>Energy</th>\n",
       "    </tr>\n",
       "  </thead>\n",
       "  <tbody>\n",
       "    <tr>\n",
       "      <th>0</th>\n",
       "      <td>0.068</td>\n",
       "    </tr>\n",
       "    <tr>\n",
       "      <th>1</th>\n",
       "      <td>0.070</td>\n",
       "    </tr>\n",
       "    <tr>\n",
       "      <th>2</th>\n",
       "      <td>0.122</td>\n",
       "    </tr>\n",
       "    <tr>\n",
       "      <th>3</th>\n",
       "      <td>0.132</td>\n",
       "    </tr>\n",
       "    <tr>\n",
       "      <th>4</th>\n",
       "      <td>0.125</td>\n",
       "    </tr>\n",
       "    <tr>\n",
       "      <th>...</th>\n",
       "      <td>...</td>\n",
       "    </tr>\n",
       "    <tr>\n",
       "      <th>1520620</th>\n",
       "      <td>0.004</td>\n",
       "    </tr>\n",
       "    <tr>\n",
       "      <th>1520621</th>\n",
       "      <td>0.003</td>\n",
       "    </tr>\n",
       "    <tr>\n",
       "      <th>1520622</th>\n",
       "      <td>0.004</td>\n",
       "    </tr>\n",
       "    <tr>\n",
       "      <th>1520623</th>\n",
       "      <td>0.004</td>\n",
       "    </tr>\n",
       "    <tr>\n",
       "      <th>1520624</th>\n",
       "      <td>0.003</td>\n",
       "    </tr>\n",
       "  </tbody>\n",
       "</table>\n",
       "<p>1520625 rows × 1 columns</p>\n",
       "</div>"
      ],
      "text/plain": [
       "         Energy\n",
       "0         0.068\n",
       "1         0.070\n",
       "2         0.122\n",
       "3         0.132\n",
       "4         0.125\n",
       "...         ...\n",
       "1520620   0.004\n",
       "1520621   0.003\n",
       "1520622   0.004\n",
       "1520623   0.004\n",
       "1520624   0.003\n",
       "\n",
       "[1520625 rows x 1 columns]"
      ]
     },
     "execution_count": 15,
     "metadata": {},
     "output_type": "execute_result"
    }
   ],
   "source": [
    "Xday = df_location.copy()\n",
    "for i in range(1, num_houses):\n",
    "    Xday.iloc[(num_samples_per_house*i)-1] = np.nan\n",
    "Xday.dropna(inplace=True)\n",
    "m = len(Xday)\n",
    "Xday = Xday.iloc[0:(m-96)]\n",
    "Xday.drop([\"Time\", \"Location\"],inplace=True, axis=1)\n",
    "Xday.reset_index(drop=True, inplace=True)\n",
    "Xday"
   ]
  },
  {
   "cell_type": "code",
   "execution_count": 16,
   "id": "95b6cc7a",
   "metadata": {},
   "outputs": [
    {
     "data": {
      "text/html": [
       "<div>\n",
       "<style scoped>\n",
       "    .dataframe tbody tr th:only-of-type {\n",
       "        vertical-align: middle;\n",
       "    }\n",
       "\n",
       "    .dataframe tbody tr th {\n",
       "        vertical-align: top;\n",
       "    }\n",
       "\n",
       "    .dataframe thead th {\n",
       "        text-align: right;\n",
       "    }\n",
       "</style>\n",
       "<table border=\"1\" class=\"dataframe\">\n",
       "  <thead>\n",
       "    <tr style=\"text-align: right;\">\n",
       "      <th></th>\n",
       "      <th>Energy</th>\n",
       "    </tr>\n",
       "  </thead>\n",
       "  <tbody>\n",
       "    <tr>\n",
       "      <th>0</th>\n",
       "      <td>0.099</td>\n",
       "    </tr>\n",
       "    <tr>\n",
       "      <th>1</th>\n",
       "      <td>0.083</td>\n",
       "    </tr>\n",
       "    <tr>\n",
       "      <th>2</th>\n",
       "      <td>0.067</td>\n",
       "    </tr>\n",
       "    <tr>\n",
       "      <th>3</th>\n",
       "      <td>0.093</td>\n",
       "    </tr>\n",
       "    <tr>\n",
       "      <th>4</th>\n",
       "      <td>0.127</td>\n",
       "    </tr>\n",
       "    <tr>\n",
       "      <th>...</th>\n",
       "      <td>...</td>\n",
       "    </tr>\n",
       "    <tr>\n",
       "      <th>1520620</th>\n",
       "      <td>0.003</td>\n",
       "    </tr>\n",
       "    <tr>\n",
       "      <th>1520621</th>\n",
       "      <td>0.004</td>\n",
       "    </tr>\n",
       "    <tr>\n",
       "      <th>1520622</th>\n",
       "      <td>0.003</td>\n",
       "    </tr>\n",
       "    <tr>\n",
       "      <th>1520623</th>\n",
       "      <td>0.004</td>\n",
       "    </tr>\n",
       "    <tr>\n",
       "      <th>1520624</th>\n",
       "      <td>0.004</td>\n",
       "    </tr>\n",
       "  </tbody>\n",
       "</table>\n",
       "<p>1520625 rows × 1 columns</p>\n",
       "</div>"
      ],
      "text/plain": [
       "         Energy\n",
       "0         0.099\n",
       "1         0.083\n",
       "2         0.067\n",
       "3         0.093\n",
       "4         0.127\n",
       "...         ...\n",
       "1520620   0.003\n",
       "1520621   0.004\n",
       "1520622   0.003\n",
       "1520623   0.004\n",
       "1520624   0.004\n",
       "\n",
       "[1520625 rows x 1 columns]"
      ]
     },
     "execution_count": 16,
     "metadata": {},
     "output_type": "execute_result"
    }
   ],
   "source": [
    "yday = df_location.copy()\n",
    "for i in range(1, num_houses):\n",
    "    yday.iloc[(num_samples_per_house*i)] = np.nan\n",
    "yday.dropna(inplace=True)\n",
    "yday = yday.iloc[96:].reset_index(drop=True)\n",
    "yday.drop([\"Time\", \"Location\"],inplace=True, axis=1)\n",
    "yday.reset_index(drop=True, inplace=True)\n",
    "yday"
   ]
  },
  {
   "cell_type": "markdown",
   "id": "75890a15",
   "metadata": {},
   "source": [
    "### Previous week same day and same hour"
   ]
  },
  {
   "cell_type": "code",
   "execution_count": 17,
   "id": "410daa51",
   "metadata": {},
   "outputs": [
    {
     "data": {
      "text/html": [
       "<div>\n",
       "<style scoped>\n",
       "    .dataframe tbody tr th:only-of-type {\n",
       "        vertical-align: middle;\n",
       "    }\n",
       "\n",
       "    .dataframe tbody tr th {\n",
       "        vertical-align: top;\n",
       "    }\n",
       "\n",
       "    .dataframe thead th {\n",
       "        text-align: right;\n",
       "    }\n",
       "</style>\n",
       "<table border=\"1\" class=\"dataframe\">\n",
       "  <thead>\n",
       "    <tr style=\"text-align: right;\">\n",
       "      <th></th>\n",
       "      <th>Energy</th>\n",
       "    </tr>\n",
       "  </thead>\n",
       "  <tbody>\n",
       "    <tr>\n",
       "      <th>0</th>\n",
       "      <td>0.068</td>\n",
       "    </tr>\n",
       "    <tr>\n",
       "      <th>1</th>\n",
       "      <td>0.070</td>\n",
       "    </tr>\n",
       "    <tr>\n",
       "      <th>2</th>\n",
       "      <td>0.122</td>\n",
       "    </tr>\n",
       "    <tr>\n",
       "      <th>3</th>\n",
       "      <td>0.132</td>\n",
       "    </tr>\n",
       "    <tr>\n",
       "      <th>4</th>\n",
       "      <td>0.125</td>\n",
       "    </tr>\n",
       "    <tr>\n",
       "      <th>...</th>\n",
       "      <td>...</td>\n",
       "    </tr>\n",
       "    <tr>\n",
       "      <th>1520044</th>\n",
       "      <td>0.004</td>\n",
       "    </tr>\n",
       "    <tr>\n",
       "      <th>1520045</th>\n",
       "      <td>0.003</td>\n",
       "    </tr>\n",
       "    <tr>\n",
       "      <th>1520046</th>\n",
       "      <td>0.004</td>\n",
       "    </tr>\n",
       "    <tr>\n",
       "      <th>1520047</th>\n",
       "      <td>0.004</td>\n",
       "    </tr>\n",
       "    <tr>\n",
       "      <th>1520048</th>\n",
       "      <td>0.004</td>\n",
       "    </tr>\n",
       "  </tbody>\n",
       "</table>\n",
       "<p>1520049 rows × 1 columns</p>\n",
       "</div>"
      ],
      "text/plain": [
       "         Energy\n",
       "0         0.068\n",
       "1         0.070\n",
       "2         0.122\n",
       "3         0.132\n",
       "4         0.125\n",
       "...         ...\n",
       "1520044   0.004\n",
       "1520045   0.003\n",
       "1520046   0.004\n",
       "1520047   0.004\n",
       "1520048   0.004\n",
       "\n",
       "[1520049 rows x 1 columns]"
      ]
     },
     "execution_count": 17,
     "metadata": {},
     "output_type": "execute_result"
    }
   ],
   "source": [
    "Xweek = df_location.copy()\n",
    "for i in range(1, num_houses):\n",
    "    Xweek.iloc[(num_samples_per_house*i)-1] = np.nan\n",
    "Xweek.dropna(inplace=True)\n",
    "m = len(Xweek)\n",
    "Xweek = Xweek.iloc[0:(m-672)]\n",
    "Xweek.drop([\"Time\", \"Location\"],inplace=True, axis=1)\n",
    "Xweek.reset_index(drop=True, inplace=True)\n",
    "Xweek"
   ]
  },
  {
   "cell_type": "code",
   "execution_count": 18,
   "id": "2924b1c8",
   "metadata": {},
   "outputs": [
    {
     "data": {
      "text/html": [
       "<div>\n",
       "<style scoped>\n",
       "    .dataframe tbody tr th:only-of-type {\n",
       "        vertical-align: middle;\n",
       "    }\n",
       "\n",
       "    .dataframe tbody tr th {\n",
       "        vertical-align: top;\n",
       "    }\n",
       "\n",
       "    .dataframe thead th {\n",
       "        text-align: right;\n",
       "    }\n",
       "</style>\n",
       "<table border=\"1\" class=\"dataframe\">\n",
       "  <thead>\n",
       "    <tr style=\"text-align: right;\">\n",
       "      <th></th>\n",
       "      <th>Energy</th>\n",
       "    </tr>\n",
       "  </thead>\n",
       "  <tbody>\n",
       "    <tr>\n",
       "      <th>0</th>\n",
       "      <td>0.040</td>\n",
       "    </tr>\n",
       "    <tr>\n",
       "      <th>1</th>\n",
       "      <td>0.037</td>\n",
       "    </tr>\n",
       "    <tr>\n",
       "      <th>2</th>\n",
       "      <td>0.064</td>\n",
       "    </tr>\n",
       "    <tr>\n",
       "      <th>3</th>\n",
       "      <td>0.062</td>\n",
       "    </tr>\n",
       "    <tr>\n",
       "      <th>4</th>\n",
       "      <td>0.045</td>\n",
       "    </tr>\n",
       "    <tr>\n",
       "      <th>...</th>\n",
       "      <td>...</td>\n",
       "    </tr>\n",
       "    <tr>\n",
       "      <th>1520044</th>\n",
       "      <td>0.003</td>\n",
       "    </tr>\n",
       "    <tr>\n",
       "      <th>1520045</th>\n",
       "      <td>0.004</td>\n",
       "    </tr>\n",
       "    <tr>\n",
       "      <th>1520046</th>\n",
       "      <td>0.003</td>\n",
       "    </tr>\n",
       "    <tr>\n",
       "      <th>1520047</th>\n",
       "      <td>0.004</td>\n",
       "    </tr>\n",
       "    <tr>\n",
       "      <th>1520048</th>\n",
       "      <td>0.004</td>\n",
       "    </tr>\n",
       "  </tbody>\n",
       "</table>\n",
       "<p>1520049 rows × 1 columns</p>\n",
       "</div>"
      ],
      "text/plain": [
       "         Energy\n",
       "0         0.040\n",
       "1         0.037\n",
       "2         0.064\n",
       "3         0.062\n",
       "4         0.045\n",
       "...         ...\n",
       "1520044   0.003\n",
       "1520045   0.004\n",
       "1520046   0.003\n",
       "1520047   0.004\n",
       "1520048   0.004\n",
       "\n",
       "[1520049 rows x 1 columns]"
      ]
     },
     "execution_count": 18,
     "metadata": {},
     "output_type": "execute_result"
    }
   ],
   "source": [
    "yweek = df_location.copy()\n",
    "for i in range(1, num_houses):\n",
    "    yweek.iloc[(num_samples_per_house*i)] = np.nan\n",
    "yweek.dropna(inplace=True)\n",
    "yweek = yweek.iloc[672:].reset_index(drop=True)\n",
    "yweek.drop([\"Time\", \"Location\"],inplace=True, axis=1)\n",
    "yweek.reset_index(drop=True, inplace=True)\n",
    "yweek"
   ]
  },
  {
   "cell_type": "markdown",
   "id": "af729849",
   "metadata": {},
   "source": [
    "## Prediction organized by location\n",
    "### Previous 15 minutes"
   ]
  },
  {
   "cell_type": "code",
   "execution_count": 19,
   "id": "e9ecbb38",
   "metadata": {},
   "outputs": [
    {
     "data": {
      "text/plain": [
       "array([[0.03207547],\n",
       "       [0.03301887],\n",
       "       [0.05754717],\n",
       "       ...,\n",
       "       [0.00188679],\n",
       "       [0.00141509],\n",
       "       [0.00188679]])"
      ]
     },
     "execution_count": 19,
     "metadata": {},
     "output_type": "execute_result"
    }
   ],
   "source": [
    "X15_norm, scaler = normalize_training(X15)\n",
    "y15_norm = scaler.transform(y15)\n",
    "X15_norm"
   ]
  },
  {
   "cell_type": "code",
   "execution_count": 20,
   "id": "5b746676",
   "metadata": {},
   "outputs": [
    {
     "name": "stdout",
     "output_type": "stream",
     "text": [
      "MSE: 0.0013\n",
      "WAPE: 38.38\n",
      "R2: 0.5838\n"
     ]
    }
   ],
   "source": [
    "mse_15_norm, wape_15_norm, r2_15_norm = no_ml_predict(X15_norm, y15_norm)"
   ]
  },
  {
   "cell_type": "code",
   "execution_count": 21,
   "id": "76bfa16c",
   "metadata": {},
   "outputs": [
    {
     "name": "stdout",
     "output_type": "stream",
     "text": [
      "MSE: 0.0059\n",
      "WAPE: 38.38\n",
      "R2: 0.5838\n"
     ]
    }
   ],
   "source": [
    "mse_15, wape_15, r2_15 = no_ml_predict(X15, y15)"
   ]
  },
  {
   "cell_type": "code",
   "execution_count": 22,
   "id": "27a64d51",
   "metadata": {},
   "outputs": [
    {
     "data": {
      "image/png": "[encoded data removed]",
      "text/plain": [
       "<Figure size 640x480 with 1 Axes>"
      ]
     },
     "metadata": {},
     "output_type": "display_data"
    }
   ],
   "source": [
    "plot_results(X15, y15, \"Last 15 organized by location\")"
   ]
  },
  {
   "cell_type": "markdown",
   "id": "e9f81d2d",
   "metadata": {},
   "source": [
    "### Previous day at same hour"
   ]
  },
  {
   "cell_type": "code",
   "execution_count": 23,
   "id": "95fc8bd7",
   "metadata": {},
   "outputs": [
    {
     "data": {
      "text/plain": [
       "array([[0.03207547],\n",
       "       [0.03301887],\n",
       "       [0.05754717],\n",
       "       ...,\n",
       "       [0.00188679],\n",
       "       [0.00188679],\n",
       "       [0.00141509]])"
      ]
     },
     "execution_count": 23,
     "metadata": {},
     "output_type": "execute_result"
    }
   ],
   "source": [
    "Xday_norm, scaler = normalize_training(Xday)\n",
    "yday_norm = scaler.transform(yday)\n",
    "Xday_norm"
   ]
  },
  {
   "cell_type": "code",
   "execution_count": 24,
   "id": "423c6716",
   "metadata": {},
   "outputs": [
    {
     "name": "stdout",
     "output_type": "stream",
     "text": [
      "MSE: 0.0032\n",
      "WAPE: 66.42\n",
      "R2: -0.0400\n"
     ]
    }
   ],
   "source": [
    "mse_day_norm, wape_day_norm, r2_day_norm = no_ml_predict(Xday_norm, yday_norm)"
   ]
  },
  {
   "cell_type": "code",
   "execution_count": 25,
   "id": "f2a2746a",
   "metadata": {},
   "outputs": [
    {
     "name": "stdout",
     "output_type": "stream",
     "text": [
      "MSE: 0.0147\n",
      "WAPE: 66.42\n",
      "R2: -0.0400\n"
     ]
    }
   ],
   "source": [
    "mse_day, wape_day, r2_day = no_ml_predict(Xday, yday)"
   ]
  },
  {
   "cell_type": "code",
   "execution_count": 26,
   "id": "52d95681",
   "metadata": {},
   "outputs": [
    {
     "data": {
      "image/png": "[encoded data removed]",
      "text/plain": [
       "<Figure size 640x480 with 1 Axes>"
      ]
     },
     "metadata": {},
     "output_type": "display_data"
    }
   ],
   "source": [
    "plot_results(Xday, yday, \"Last day organized by location\")"
   ]
  },
  {
   "cell_type": "markdown",
   "id": "5b2fa11e",
   "metadata": {},
   "source": [
    "### Previous week same day and same hour"
   ]
  },
  {
   "cell_type": "code",
   "execution_count": 27,
   "id": "5f72f95b",
   "metadata": {},
   "outputs": [
    {
     "data": {
      "text/plain": [
       "array([[0.03207547],\n",
       "       [0.03301887],\n",
       "       [0.05754717],\n",
       "       ...,\n",
       "       [0.00188679],\n",
       "       [0.00188679],\n",
       "       [0.00188679]])"
      ]
     },
     "execution_count": 27,
     "metadata": {},
     "output_type": "execute_result"
    }
   ],
   "source": [
    "Xweek_norm, scaler = normalize_training(Xweek)\n",
    "yweek_norm = scaler.transform(yweek)\n",
    "Xweek_norm"
   ]
  },
  {
   "cell_type": "code",
   "execution_count": 28,
   "id": "03832f13",
   "metadata": {},
   "outputs": [
    {
     "name": "stdout",
     "output_type": "stream",
     "text": [
      "MSE: 0.0035\n",
      "WAPE: 67.98\n",
      "R2: -0.1118\n"
     ]
    }
   ],
   "source": [
    "mse_week_norm, wape_week_norm, r2_week_norm = no_ml_predict(Xweek_norm, yweek_norm)"
   ]
  },
  {
   "cell_type": "code",
   "execution_count": 29,
   "id": "b34b6975",
   "metadata": {},
   "outputs": [
    {
     "name": "stdout",
     "output_type": "stream",
     "text": [
      "MSE: 0.0157\n",
      "WAPE: 67.98\n",
      "R2: -0.1118\n"
     ]
    }
   ],
   "source": [
    "mse_week, wape_week, r2_week = no_ml_predict(Xweek, yweek)"
   ]
  },
  {
   "cell_type": "code",
   "execution_count": 30,
   "id": "2cd971c3",
   "metadata": {},
   "outputs": [
    {
     "name": "stderr",
     "output_type": "stream",
     "text": [
      "/home/francisco.monteiro@av.it.pt/.local/lib/python3.8/site-packages/IPython/core/pylabtools.py:152: UserWarning: Creating legend with loc=\"best\" can be slow with large amounts of data.\n",
      "  fig.canvas.print_figure(bytes_io, **kw)\n"
     ]
    },
    {
     "data": {
      "image/png": "[encoded data removed]",
      "text/plain": [
       "<Figure size 640x480 with 1 Axes>"
      ]
     },
     "metadata": {},
     "output_type": "display_data"
    }
   ],
   "source": [
    "plot_results(Xweek, yweek, \"Last week organized by location\")"
   ]
  },
  {
   "cell_type": "markdown",
   "id": "bb497fff",
   "metadata": {},
   "source": [
    "# Sum of all houses preprocessing\n",
    "### Previous 15 minutes prediction data"
   ]
  },
  {
   "cell_type": "code",
   "execution_count": 31,
   "id": "0a2a0271",
   "metadata": {
    "scrolled": false
   },
   "outputs": [
    {
     "data": {
      "text/html": [
       "<div>\n",
       "<style scoped>\n",
       "    .dataframe tbody tr th:only-of-type {\n",
       "        vertical-align: middle;\n",
       "    }\n",
       "\n",
       "    .dataframe tbody tr th {\n",
       "        vertical-align: top;\n",
       "    }\n",
       "\n",
       "    .dataframe thead th {\n",
       "        text-align: right;\n",
       "    }\n",
       "</style>\n",
       "<table border=\"1\" class=\"dataframe\">\n",
       "  <thead>\n",
       "    <tr style=\"text-align: right;\">\n",
       "      <th></th>\n",
       "      <th>Energy</th>\n",
       "    </tr>\n",
       "  </thead>\n",
       "  <tbody>\n",
       "    <tr>\n",
       "      <th>0</th>\n",
       "      <td>2.955</td>\n",
       "    </tr>\n",
       "    <tr>\n",
       "      <th>1</th>\n",
       "      <td>2.652</td>\n",
       "    </tr>\n",
       "    <tr>\n",
       "      <th>2</th>\n",
       "      <td>2.593</td>\n",
       "    </tr>\n",
       "    <tr>\n",
       "      <th>3</th>\n",
       "      <td>2.691</td>\n",
       "    </tr>\n",
       "    <tr>\n",
       "      <th>4</th>\n",
       "      <td>2.685</td>\n",
       "    </tr>\n",
       "    <tr>\n",
       "      <th>...</th>\n",
       "      <td>...</td>\n",
       "    </tr>\n",
       "    <tr>\n",
       "      <th>38013</th>\n",
       "      <td>2.005</td>\n",
       "    </tr>\n",
       "    <tr>\n",
       "      <th>38014</th>\n",
       "      <td>1.820</td>\n",
       "    </tr>\n",
       "    <tr>\n",
       "      <th>38015</th>\n",
       "      <td>1.751</td>\n",
       "    </tr>\n",
       "    <tr>\n",
       "      <th>38016</th>\n",
       "      <td>2.252</td>\n",
       "    </tr>\n",
       "    <tr>\n",
       "      <th>38017</th>\n",
       "      <td>2.034</td>\n",
       "    </tr>\n",
       "  </tbody>\n",
       "</table>\n",
       "<p>38018 rows × 1 columns</p>\n",
       "</div>"
      ],
      "text/plain": [
       "       Energy\n",
       "0       2.955\n",
       "1       2.652\n",
       "2       2.593\n",
       "3       2.691\n",
       "4       2.685\n",
       "...       ...\n",
       "38013   2.005\n",
       "38014   1.820\n",
       "38015   1.751\n",
       "38016   2.252\n",
       "38017   2.034\n",
       "\n",
       "[38018 rows x 1 columns]"
      ]
     },
     "execution_count": 31,
     "metadata": {},
     "output_type": "execute_result"
    }
   ],
   "source": [
    "X_total_15 = df_total.copy()\n",
    "m = len(X_total_15)\n",
    "X_total_15 = X_total_15.iloc[0:(m-1)]\n",
    "X_total_15"
   ]
  },
  {
   "cell_type": "code",
   "execution_count": 32,
   "id": "aa3b7450",
   "metadata": {},
   "outputs": [
    {
     "data": {
      "text/html": [
       "<div>\n",
       "<style scoped>\n",
       "    .dataframe tbody tr th:only-of-type {\n",
       "        vertical-align: middle;\n",
       "    }\n",
       "\n",
       "    .dataframe tbody tr th {\n",
       "        vertical-align: top;\n",
       "    }\n",
       "\n",
       "    .dataframe thead th {\n",
       "        text-align: right;\n",
       "    }\n",
       "</style>\n",
       "<table border=\"1\" class=\"dataframe\">\n",
       "  <thead>\n",
       "    <tr style=\"text-align: right;\">\n",
       "      <th></th>\n",
       "      <th>Energy</th>\n",
       "    </tr>\n",
       "  </thead>\n",
       "  <tbody>\n",
       "    <tr>\n",
       "      <th>0</th>\n",
       "      <td>2.652</td>\n",
       "    </tr>\n",
       "    <tr>\n",
       "      <th>1</th>\n",
       "      <td>2.593</td>\n",
       "    </tr>\n",
       "    <tr>\n",
       "      <th>2</th>\n",
       "      <td>2.691</td>\n",
       "    </tr>\n",
       "    <tr>\n",
       "      <th>3</th>\n",
       "      <td>2.685</td>\n",
       "    </tr>\n",
       "    <tr>\n",
       "      <th>4</th>\n",
       "      <td>3.438</td>\n",
       "    </tr>\n",
       "    <tr>\n",
       "      <th>...</th>\n",
       "      <td>...</td>\n",
       "    </tr>\n",
       "    <tr>\n",
       "      <th>38013</th>\n",
       "      <td>1.820</td>\n",
       "    </tr>\n",
       "    <tr>\n",
       "      <th>38014</th>\n",
       "      <td>1.751</td>\n",
       "    </tr>\n",
       "    <tr>\n",
       "      <th>38015</th>\n",
       "      <td>2.252</td>\n",
       "    </tr>\n",
       "    <tr>\n",
       "      <th>38016</th>\n",
       "      <td>2.034</td>\n",
       "    </tr>\n",
       "    <tr>\n",
       "      <th>38017</th>\n",
       "      <td>2.045</td>\n",
       "    </tr>\n",
       "  </tbody>\n",
       "</table>\n",
       "<p>38018 rows × 1 columns</p>\n",
       "</div>"
      ],
      "text/plain": [
       "       Energy\n",
       "0       2.652\n",
       "1       2.593\n",
       "2       2.691\n",
       "3       2.685\n",
       "4       3.438\n",
       "...       ...\n",
       "38013   1.820\n",
       "38014   1.751\n",
       "38015   2.252\n",
       "38016   2.034\n",
       "38017   2.045\n",
       "\n",
       "[38018 rows x 1 columns]"
      ]
     },
     "execution_count": 32,
     "metadata": {},
     "output_type": "execute_result"
    }
   ],
   "source": [
    "y_total_15 = df_total.copy()\n",
    "y_total_15 = y_total_15.iloc[1:].reset_index(drop=True)\n",
    "y_total_15"
   ]
  },
  {
   "cell_type": "code",
   "execution_count": 33,
   "id": "ba73451f",
   "metadata": {},
   "outputs": [],
   "source": [
    "X_total_15_norm, scaler = normalize_training(X_total_15)\n",
    "y_total_15_norm = scaler.transform(y_total_15)"
   ]
  },
  {
   "cell_type": "markdown",
   "id": "837c59da",
   "metadata": {},
   "source": [
    "### Previous day at same hour prediction data"
   ]
  },
  {
   "cell_type": "code",
   "execution_count": 34,
   "id": "e30a5f77",
   "metadata": {},
   "outputs": [
    {
     "data": {
      "text/html": [
       "<div>\n",
       "<style scoped>\n",
       "    .dataframe tbody tr th:only-of-type {\n",
       "        vertical-align: middle;\n",
       "    }\n",
       "\n",
       "    .dataframe tbody tr th {\n",
       "        vertical-align: top;\n",
       "    }\n",
       "\n",
       "    .dataframe thead th {\n",
       "        text-align: right;\n",
       "    }\n",
       "</style>\n",
       "<table border=\"1\" class=\"dataframe\">\n",
       "  <thead>\n",
       "    <tr style=\"text-align: right;\">\n",
       "      <th></th>\n",
       "      <th>Energy</th>\n",
       "    </tr>\n",
       "  </thead>\n",
       "  <tbody>\n",
       "    <tr>\n",
       "      <th>0</th>\n",
       "      <td>2.955</td>\n",
       "    </tr>\n",
       "    <tr>\n",
       "      <th>1</th>\n",
       "      <td>2.652</td>\n",
       "    </tr>\n",
       "    <tr>\n",
       "      <th>2</th>\n",
       "      <td>2.593</td>\n",
       "    </tr>\n",
       "    <tr>\n",
       "      <th>3</th>\n",
       "      <td>2.691</td>\n",
       "    </tr>\n",
       "    <tr>\n",
       "      <th>4</th>\n",
       "      <td>2.685</td>\n",
       "    </tr>\n",
       "    <tr>\n",
       "      <th>...</th>\n",
       "      <td>...</td>\n",
       "    </tr>\n",
       "    <tr>\n",
       "      <th>37918</th>\n",
       "      <td>3.076</td>\n",
       "    </tr>\n",
       "    <tr>\n",
       "      <th>37919</th>\n",
       "      <td>2.368</td>\n",
       "    </tr>\n",
       "    <tr>\n",
       "      <th>37920</th>\n",
       "      <td>2.801</td>\n",
       "    </tr>\n",
       "    <tr>\n",
       "      <th>37921</th>\n",
       "      <td>3.054</td>\n",
       "    </tr>\n",
       "    <tr>\n",
       "      <th>37922</th>\n",
       "      <td>2.983</td>\n",
       "    </tr>\n",
       "  </tbody>\n",
       "</table>\n",
       "<p>37923 rows × 1 columns</p>\n",
       "</div>"
      ],
      "text/plain": [
       "       Energy\n",
       "0       2.955\n",
       "1       2.652\n",
       "2       2.593\n",
       "3       2.691\n",
       "4       2.685\n",
       "...       ...\n",
       "37918   3.076\n",
       "37919   2.368\n",
       "37920   2.801\n",
       "37921   3.054\n",
       "37922   2.983\n",
       "\n",
       "[37923 rows x 1 columns]"
      ]
     },
     "execution_count": 34,
     "metadata": {},
     "output_type": "execute_result"
    }
   ],
   "source": [
    "X_total_prev_day = df_total.copy()\n",
    "m = len(X_total_prev_day)\n",
    "X_total_prev_day = X_total_prev_day.iloc[0:(m-96)]\n",
    "X_total_prev_day"
   ]
  },
  {
   "cell_type": "code",
   "execution_count": 35,
   "id": "46eabda7",
   "metadata": {},
   "outputs": [
    {
     "data": {
      "text/html": [
       "<div>\n",
       "<style scoped>\n",
       "    .dataframe tbody tr th:only-of-type {\n",
       "        vertical-align: middle;\n",
       "    }\n",
       "\n",
       "    .dataframe tbody tr th {\n",
       "        vertical-align: top;\n",
       "    }\n",
       "\n",
       "    .dataframe thead th {\n",
       "        text-align: right;\n",
       "    }\n",
       "</style>\n",
       "<table border=\"1\" class=\"dataframe\">\n",
       "  <thead>\n",
       "    <tr style=\"text-align: right;\">\n",
       "      <th></th>\n",
       "      <th>Energy</th>\n",
       "    </tr>\n",
       "  </thead>\n",
       "  <tbody>\n",
       "    <tr>\n",
       "      <th>0</th>\n",
       "      <td>4.163</td>\n",
       "    </tr>\n",
       "    <tr>\n",
       "      <th>1</th>\n",
       "      <td>4.852</td>\n",
       "    </tr>\n",
       "    <tr>\n",
       "      <th>2</th>\n",
       "      <td>4.787</td>\n",
       "    </tr>\n",
       "    <tr>\n",
       "      <th>3</th>\n",
       "      <td>4.414</td>\n",
       "    </tr>\n",
       "    <tr>\n",
       "      <th>4</th>\n",
       "      <td>3.605</td>\n",
       "    </tr>\n",
       "    <tr>\n",
       "      <th>5</th>\n",
       "      <td>4.016</td>\n",
       "    </tr>\n",
       "    <tr>\n",
       "      <th>6</th>\n",
       "      <td>4.704</td>\n",
       "    </tr>\n",
       "    <tr>\n",
       "      <th>7</th>\n",
       "      <td>4.216</td>\n",
       "    </tr>\n",
       "    <tr>\n",
       "      <th>8</th>\n",
       "      <td>3.721</td>\n",
       "    </tr>\n",
       "    <tr>\n",
       "      <th>9</th>\n",
       "      <td>3.480</td>\n",
       "    </tr>\n",
       "    <tr>\n",
       "      <th>10</th>\n",
       "      <td>3.570</td>\n",
       "    </tr>\n",
       "    <tr>\n",
       "      <th>11</th>\n",
       "      <td>2.786</td>\n",
       "    </tr>\n",
       "    <tr>\n",
       "      <th>12</th>\n",
       "      <td>2.731</td>\n",
       "    </tr>\n",
       "    <tr>\n",
       "      <th>13</th>\n",
       "      <td>2.319</td>\n",
       "    </tr>\n",
       "    <tr>\n",
       "      <th>14</th>\n",
       "      <td>2.572</td>\n",
       "    </tr>\n",
       "  </tbody>\n",
       "</table>\n",
       "</div>"
      ],
      "text/plain": [
       "    Energy\n",
       "0    4.163\n",
       "1    4.852\n",
       "2    4.787\n",
       "3    4.414\n",
       "4    3.605\n",
       "5    4.016\n",
       "6    4.704\n",
       "7    4.216\n",
       "8    3.721\n",
       "9    3.480\n",
       "10   3.570\n",
       "11   2.786\n",
       "12   2.731\n",
       "13   2.319\n",
       "14   2.572"
      ]
     },
     "execution_count": 35,
     "metadata": {},
     "output_type": "execute_result"
    }
   ],
   "source": [
    "y_total_prev_day = df_total.copy()\n",
    "y_total_prev_day = y_total_prev_day.iloc[96:].reset_index(drop=True)\n",
    "y_total_prev_day[:15]"
   ]
  },
  {
   "cell_type": "code",
   "execution_count": 36,
   "id": "371de7ac",
   "metadata": {},
   "outputs": [],
   "source": [
    "X_total_prev_day_norm, scaler = normalize_training(X_total_prev_day)\n",
    "y_total_prev_day_norm = scaler.transform(y_total_prev_day)"
   ]
  },
  {
   "cell_type": "markdown",
   "id": "83c5e007",
   "metadata": {},
   "source": [
    "### Previous week same day at same hour prediction data"
   ]
  },
  {
   "cell_type": "code",
   "execution_count": 37,
   "id": "4152c794",
   "metadata": {},
   "outputs": [
    {
     "data": {
      "text/html": [
       "<div>\n",
       "<style scoped>\n",
       "    .dataframe tbody tr th:only-of-type {\n",
       "        vertical-align: middle;\n",
       "    }\n",
       "\n",
       "    .dataframe tbody tr th {\n",
       "        vertical-align: top;\n",
       "    }\n",
       "\n",
       "    .dataframe thead th {\n",
       "        text-align: right;\n",
       "    }\n",
       "</style>\n",
       "<table border=\"1\" class=\"dataframe\">\n",
       "  <thead>\n",
       "    <tr style=\"text-align: right;\">\n",
       "      <th></th>\n",
       "      <th>Energy</th>\n",
       "    </tr>\n",
       "  </thead>\n",
       "  <tbody>\n",
       "    <tr>\n",
       "      <th>0</th>\n",
       "      <td>2.955</td>\n",
       "    </tr>\n",
       "    <tr>\n",
       "      <th>1</th>\n",
       "      <td>2.652</td>\n",
       "    </tr>\n",
       "    <tr>\n",
       "      <th>2</th>\n",
       "      <td>2.593</td>\n",
       "    </tr>\n",
       "    <tr>\n",
       "      <th>3</th>\n",
       "      <td>2.691</td>\n",
       "    </tr>\n",
       "    <tr>\n",
       "      <th>4</th>\n",
       "      <td>2.685</td>\n",
       "    </tr>\n",
       "    <tr>\n",
       "      <th>...</th>\n",
       "      <td>...</td>\n",
       "    </tr>\n",
       "    <tr>\n",
       "      <th>37342</th>\n",
       "      <td>1.754</td>\n",
       "    </tr>\n",
       "    <tr>\n",
       "      <th>37343</th>\n",
       "      <td>1.966</td>\n",
       "    </tr>\n",
       "    <tr>\n",
       "      <th>37344</th>\n",
       "      <td>2.108</td>\n",
       "    </tr>\n",
       "    <tr>\n",
       "      <th>37345</th>\n",
       "      <td>3.740</td>\n",
       "    </tr>\n",
       "    <tr>\n",
       "      <th>37346</th>\n",
       "      <td>3.876</td>\n",
       "    </tr>\n",
       "  </tbody>\n",
       "</table>\n",
       "<p>37347 rows × 1 columns</p>\n",
       "</div>"
      ],
      "text/plain": [
       "       Energy\n",
       "0       2.955\n",
       "1       2.652\n",
       "2       2.593\n",
       "3       2.691\n",
       "4       2.685\n",
       "...       ...\n",
       "37342   1.754\n",
       "37343   1.966\n",
       "37344   2.108\n",
       "37345   3.740\n",
       "37346   3.876\n",
       "\n",
       "[37347 rows x 1 columns]"
      ]
     },
     "execution_count": 37,
     "metadata": {},
     "output_type": "execute_result"
    }
   ],
   "source": [
    "X_total_prev_week = df_total.copy()\n",
    "m = len(X_total_prev_week)\n",
    "X_total_prev_week = X_total_prev_week.iloc[0:(m-96*7)]\n",
    "X_total_prev_week"
   ]
  },
  {
   "cell_type": "code",
   "execution_count": 38,
   "id": "c79f6f5f",
   "metadata": {},
   "outputs": [
    {
     "data": {
      "text/html": [
       "<div>\n",
       "<style scoped>\n",
       "    .dataframe tbody tr th:only-of-type {\n",
       "        vertical-align: middle;\n",
       "    }\n",
       "\n",
       "    .dataframe tbody tr th {\n",
       "        vertical-align: top;\n",
       "    }\n",
       "\n",
       "    .dataframe thead th {\n",
       "        text-align: right;\n",
       "    }\n",
       "</style>\n",
       "<table border=\"1\" class=\"dataframe\">\n",
       "  <thead>\n",
       "    <tr style=\"text-align: right;\">\n",
       "      <th></th>\n",
       "      <th>Energy</th>\n",
       "    </tr>\n",
       "  </thead>\n",
       "  <tbody>\n",
       "    <tr>\n",
       "      <th>0</th>\n",
       "      <td>4.238</td>\n",
       "    </tr>\n",
       "    <tr>\n",
       "      <th>1</th>\n",
       "      <td>5.024</td>\n",
       "    </tr>\n",
       "    <tr>\n",
       "      <th>2</th>\n",
       "      <td>4.433</td>\n",
       "    </tr>\n",
       "    <tr>\n",
       "      <th>3</th>\n",
       "      <td>3.898</td>\n",
       "    </tr>\n",
       "    <tr>\n",
       "      <th>4</th>\n",
       "      <td>3.810</td>\n",
       "    </tr>\n",
       "    <tr>\n",
       "      <th>...</th>\n",
       "      <td>...</td>\n",
       "    </tr>\n",
       "    <tr>\n",
       "      <th>37342</th>\n",
       "      <td>1.820</td>\n",
       "    </tr>\n",
       "    <tr>\n",
       "      <th>37343</th>\n",
       "      <td>1.751</td>\n",
       "    </tr>\n",
       "    <tr>\n",
       "      <th>37344</th>\n",
       "      <td>2.252</td>\n",
       "    </tr>\n",
       "    <tr>\n",
       "      <th>37345</th>\n",
       "      <td>2.034</td>\n",
       "    </tr>\n",
       "    <tr>\n",
       "      <th>37346</th>\n",
       "      <td>2.045</td>\n",
       "    </tr>\n",
       "  </tbody>\n",
       "</table>\n",
       "<p>37347 rows × 1 columns</p>\n",
       "</div>"
      ],
      "text/plain": [
       "       Energy\n",
       "0       4.238\n",
       "1       5.024\n",
       "2       4.433\n",
       "3       3.898\n",
       "4       3.810\n",
       "...       ...\n",
       "37342   1.820\n",
       "37343   1.751\n",
       "37344   2.252\n",
       "37345   2.034\n",
       "37346   2.045\n",
       "\n",
       "[37347 rows x 1 columns]"
      ]
     },
     "execution_count": 38,
     "metadata": {},
     "output_type": "execute_result"
    }
   ],
   "source": [
    "y_total_prev_week = df_total.copy()\n",
    "y_total_prev_week = y_total_prev_week.iloc[(96*7):].reset_index(drop=True)\n",
    "y_total_prev_week"
   ]
  },
  {
   "cell_type": "code",
   "execution_count": 39,
   "id": "bf9d09db",
   "metadata": {},
   "outputs": [],
   "source": [
    "X_total_prev_week_norm, scaler = normalize_training(X_total_prev_week)\n",
    "y_total_prev_week_norm = scaler.transform(y_total_prev_week)"
   ]
  },
  {
   "cell_type": "markdown",
   "id": "51d68b74",
   "metadata": {},
   "source": [
    "## Prediction (sum of all houses)"
   ]
  },
  {
   "cell_type": "markdown",
   "id": "4daefa68",
   "metadata": {},
   "source": [
    "#### R2 will be negative whenever your model's predictions are worse than a constant function that always predicts the mean of the data."
   ]
  },
  {
   "cell_type": "markdown",
   "id": "7b95df68",
   "metadata": {},
   "source": [
    "### Previous 15 minutes prediction data"
   ]
  },
  {
   "cell_type": "code",
   "execution_count": 40,
   "id": "40c4ade9",
   "metadata": {},
   "outputs": [
    {
     "name": "stdout",
     "output_type": "stream",
     "text": [
      "MSE: 0.0028\n",
      "WAPE: 12.50\n",
      "R2: 0.7361\n"
     ]
    }
   ],
   "source": [
    "mse_total_15_norm, wape_total_15_norm, r2_total_15_norm = no_ml_predict(X_total_15_norm, y_total_15_norm)"
   ]
  },
  {
   "cell_type": "code",
   "execution_count": 41,
   "id": "9dd26d7e",
   "metadata": {},
   "outputs": [
    {
     "name": "stdout",
     "output_type": "stream",
     "text": [
      "MSE: 0.3615\n",
      "WAPE: 12.50\n",
      "R2: 0.7361\n"
     ]
    }
   ],
   "source": [
    "mse_total_15, wape_total_15, r2_total_15 = no_ml_predict(X_total_15, y_total_15)"
   ]
  },
  {
   "cell_type": "code",
   "execution_count": 42,
   "id": "f0a7b81e",
   "metadata": {},
   "outputs": [
    {
     "data": {
      "image/png": "[encoded data removed]",
      "text/plain": [
       "<Figure size 640x480 with 1 Axes>"
      ]
     },
     "metadata": {},
     "output_type": "display_data"
    }
   ],
   "source": [
    "plot_results(X_total_15, y_total_15, \"Last 15 sum\")"
   ]
  },
  {
   "cell_type": "markdown",
   "id": "50da91b2",
   "metadata": {},
   "source": [
    "### Previous day at same hour prediction data"
   ]
  },
  {
   "cell_type": "code",
   "execution_count": 43,
   "id": "714ba860",
   "metadata": {},
   "outputs": [
    {
     "name": "stdout",
     "output_type": "stream",
     "text": [
      "MSE: 0.0051\n",
      "WAPE: 18.96\n",
      "R2: 0.5153\n"
     ]
    }
   ],
   "source": [
    "mse_total_prev_day_norm, wape_total_prev_day_norm, r2_total_prev_day_norm = no_ml_predict(X_total_prev_day_norm, y_total_prev_day_norm)"
   ]
  },
  {
   "cell_type": "code",
   "execution_count": 44,
   "id": "ff508706",
   "metadata": {},
   "outputs": [
    {
     "name": "stdout",
     "output_type": "stream",
     "text": [
      "MSE: 0.6644\n",
      "WAPE: 18.96\n",
      "R2: 0.5153\n"
     ]
    }
   ],
   "source": [
    "mse_total_prev_day, wape_total_prev_day, r2_total_prev_day = no_ml_predict(X_total_prev_day, y_total_prev_day)"
   ]
  },
  {
   "cell_type": "code",
   "execution_count": 45,
   "id": "90f29443",
   "metadata": {},
   "outputs": [
    {
     "data": {
      "image/png": "[encoded data removed]",
      "text/plain": [
       "<Figure size 640x480 with 1 Axes>"
      ]
     },
     "metadata": {},
     "output_type": "display_data"
    }
   ],
   "source": [
    "plot_results(X_total_prev_day, y_total_prev_day, \"Last day sum\")"
   ]
  },
  {
   "cell_type": "markdown",
   "id": "38efc60d",
   "metadata": {},
   "source": [
    "### Previous week same day at same hour prediction data"
   ]
  },
  {
   "cell_type": "code",
   "execution_count": 46,
   "id": "c0332480",
   "metadata": {},
   "outputs": [
    {
     "name": "stdout",
     "output_type": "stream",
     "text": [
      "MSE: 0.0057\n",
      "WAPE: 19.78\n",
      "R2: 0.4680\n"
     ]
    }
   ],
   "source": [
    "mse_total_prev_week_norm, wape_total_prev_week_norm, r2_total_prev_week_norm = no_ml_predict(X_total_prev_week_norm, y_total_prev_week_norm)"
   ]
  },
  {
   "cell_type": "code",
   "execution_count": 47,
   "id": "ef34dc3e",
   "metadata": {},
   "outputs": [
    {
     "name": "stdout",
     "output_type": "stream",
     "text": [
      "MSE: 0.7335\n",
      "WAPE: 19.78\n",
      "R2: 0.4680\n"
     ]
    }
   ],
   "source": [
    "mse_total_prev_week, wape_total_prev_week, r2_total_prev_week = no_ml_predict(X_total_prev_week, y_total_prev_week)"
   ]
  },
  {
   "cell_type": "code",
   "execution_count": 48,
   "id": "52419317",
   "metadata": {},
   "outputs": [
    {
     "data": {
      "image/png": "[encoded data removed]",
      "text/plain": [
       "<Figure size 640x480 with 1 Axes>"
      ]
     },
     "metadata": {},
     "output_type": "display_data"
    }
   ],
   "source": [
    "plot_results(X_total_prev_week, y_total_prev_week, \"Last week sum\")"
   ]
  },
  {
   "cell_type": "markdown",
   "id": "163d61ca",
   "metadata": {},
   "source": [
    "## Comparison between individual and sum"
   ]
  },
  {
   "cell_type": "code",
   "execution_count": 49,
   "id": "3e87a177",
   "metadata": {},
   "outputs": [
    {
     "data": {
      "image/png": "[encoded data removed]",
      "text/plain": [
       "<Figure size 640x480 with 1 Axes>"
      ]
     },
     "metadata": {},
     "output_type": "display_data"
    }
   ],
   "source": [
    "X_names = (\"MSE\", \"WAPE\", \"R2\")\n",
    "X_axis = np.arange(len(X_names))\n",
    "plt.bar(X_axis - 0.2, (mse_15_norm, wape_15, r2_15), 0.4, label = 'Location')\n",
    "plt.bar(X_axis + 0.2, (mse_total_15_norm, wape_total_15, r2_total_15), 0.4, label = 'Sum')\n",
    "plt.xticks(X_axis, X_names)\n",
    "plt.xlabel(\"By Location vs Aggregated\")\n",
    "plt.ylabel(\"Metrics\")\n",
    "plt.ylim(top=1)\n",
    "plt.title(\"Organized by location average vs Energy sum (previous 15 minutes)\")\n",
    "plt.legend()\n",
    "plt.show()"
   ]
  },
  {
   "cell_type": "code",
   "execution_count": 50,
   "id": "026ae32a",
   "metadata": {},
   "outputs": [
    {
     "data": {
      "image/png": "[encoded data removed]",
      "text/plain": [
       "<Figure size 640x480 with 1 Axes>"
      ]
     },
     "metadata": {},
     "output_type": "display_data"
    }
   ],
   "source": [
    "plt.bar(X_axis - 0.2, (mse_day_norm, wape_day, r2_day), 0.4, label = 'Individual')\n",
    "plt.bar(X_axis + 0.2, (mse_total_prev_day_norm, wape_total_prev_day, r2_total_prev_day), 0.4, label = 'Sum')\n",
    "plt.xticks(X_axis, X_names)\n",
    "plt.xlabel(\"Individual vs Sum\")\n",
    "plt.ylabel(\"Metrics\")\n",
    "plt.ylim(top=1)\n",
    "plt.title(\"Individual average vs Energy sum (previous day)\")\n",
    "plt.legend()\n",
    "plt.show()"
   ]
  },
  {
   "cell_type": "code",
   "execution_count": 51,
   "id": "d35d1a6e",
   "metadata": {},
   "outputs": [
    {
     "data": {
      "image/png": "[encoded data removed]",
      "text/plain": [
       "<Figure size 640x480 with 1 Axes>"
      ]
     },
     "metadata": {},
     "output_type": "display_data"
    }
   ],
   "source": [
    "plt.bar(X_axis - 0.2, (mse_week_norm, wape_week, r2_week), 0.4, label = 'Individual')\n",
    "plt.bar(X_axis + 0.2, (mse_total_prev_week_norm, wape_total_prev_week, r2_total_prev_week), 0.4, label = 'Sum')\n",
    "plt.xticks(X_axis, X_names)\n",
    "plt.xlabel(\"Individual vs Sum\")\n",
    "plt.ylabel(\"Metrics\")\n",
    "plt.ylim(top=1)\n",
    "plt.title(\"Individual average vs Energy sum (previous week)\")\n",
    "plt.legend()\n",
    "plt.show()"
   ]
  },
  {
   "cell_type": "code",
   "execution_count": 52,
   "id": "082df2a5",
   "metadata": {},
   "outputs": [],
   "source": [
    "names_alg = [\"No ML - Previous 15\\n\", \"No ML - Previous Day\\n\", \"No ML - Previous Week\\n\"]\n",
    "all_metrics = [(mse_15, wape_15, r2_15), (mse_day, wape_day, r2_day), (mse_week, wape_week, r2_week)]\n",
    "all_metrics_agg = [(mse_total_15_norm, wape_total_15, r2_total_15), (mse_total_prev_day_norm, wape_total_prev_day, r2_total_prev_day), (mse_total_prev_week_norm, wape_total_prev_week, r2_total_prev_week)]"
   ]
  },
  {
   "cell_type": "code",
   "execution_count": 54,
   "id": "cbe31692",
   "metadata": {},
   "outputs": [],
   "source": [
    "with open('gpu_logs/no_ml_loureiro.txt', 'w') as file:\n",
    "    for i in range(0, 3):\n",
    "        file.write(names_alg[i])\n",
    "        file.write(\"No_ML\\n\")\n",
    "        mse_msg = \"MSE: \" + str(all_metrics[i][0]) + \"\\n\"\n",
    "        wape_msg = \"WAPE: \" + str(all_metrics[i][1]) + \"\\n\"\n",
    "        r2_msg = \"R2: \" + str(all_metrics[i][2]) + \"\\n\"\n",
    "        file.write(mse_msg)\n",
    "        file.write(wape_msg)\n",
    "        file.write(r2_msg)\n",
    "        file.write(\"No_ML_Aggregated\\n\")\n",
    "        mse_msg_agg = \"MSE: \" + str(all_metrics_agg[i][0]) + \"\\n\"\n",
    "        wape_msg_agg = \"WAPE: \" + str(all_metrics_agg[i][1]) + \"\\n\"\n",
    "        r2_msg_agg = \"R2: \" + str(all_metrics_agg[i][2]) + \"\\n\"\n",
    "        file.write(mse_msg_agg)\n",
    "        file.write(wape_msg_agg)\n",
    "        file.write(r2_msg_agg)"
   ]
  },
  {
   "cell_type": "code",
   "execution_count": null,
   "id": "2078cdb8",
   "metadata": {},
   "outputs": [],
   "source": []
  }
 ],
 "metadata": {
  "kernelspec": {
   "display_name": "Python 3.8.16 ('rapids-23.02')",
   "language": "python",
   "name": "python3"
  },
  "language_info": {
   "codemirror_mode": {
    "name": "ipython",
    "version": 3
   },
   "file_extension": ".py",
   "mimetype": "text/x-python",
   "name": "python",
   "nbconvert_exporter": "python",
   "pygments_lexer": "ipython3",
   "version": "3.8.16"
  },
  "vscode": {
   "interpreter": {
    "hash": "b68dca5a889d9fa7a36c76420bb99c5b147d98e0e386a0426daa5cd8f8566c01"
   }
  }
 },
 "nbformat": 4,
 "nbformat_minor": 5
}
