{
 "cells": [
  {
   "cell_type": "code",
   "execution_count": 1,
   "id": "58081526",
   "metadata": {},
   "outputs": [],
   "source": [
    "import warnings\n",
    "warnings.filterwarnings('ignore',category=FutureWarning)\n",
    "warnings.filterwarnings('ignore',category=DeprecationWarning)\n",
    "import numpy as np\n",
    "import pandas as pd\n",
    "import matplotlib.pyplot as plt\n",
    "from sklearn.model_selection import train_test_split, cross_val_score, cross_validate, KFold, RepeatedKFold, RandomizedSearchCV\n",
    "from sklearn.metrics import mean_squared_error, r2_score, mean_absolute_error, mean_absolute_percentage_error\n",
    "from sklearn.linear_model import LinearRegression\n",
    "from sklearn.preprocessing import PolynomialFeatures, MinMaxScaler\n",
    "from sklearn.ensemble import GradientBoostingRegressor, RandomForestRegressor\n",
    "from sklearn.svm import SVR\n",
    "from sklearn.inspection import permutation_importance\n",
    "from sklearn.linear_model import LinearRegression\n",
    "import time\n",
    "import xgboost as xgb"
   ]
  },
  {
   "cell_type": "code",
   "execution_count": 2,
   "id": "f6963e23",
   "metadata": {},
   "outputs": [
    {
     "data": {
      "text/html": [
       "<div>\n",
       "<style scoped>\n",
       "    .dataframe tbody tr th:only-of-type {\n",
       "        vertical-align: middle;\n",
       "    }\n",
       "\n",
       "    .dataframe tbody tr th {\n",
       "        vertical-align: top;\n",
       "    }\n",
       "\n",
       "    .dataframe thead th {\n",
       "        text-align: right;\n",
       "    }\n",
       "</style>\n",
       "<table border=\"1\" class=\"dataframe\">\n",
       "  <thead>\n",
       "    <tr style=\"text-align: right;\">\n",
       "      <th></th>\n",
       "      <th>Time</th>\n",
       "      <th>Energy</th>\n",
       "      <th>Location</th>\n",
       "    </tr>\n",
       "  </thead>\n",
       "  <tbody>\n",
       "    <tr>\n",
       "      <th>0</th>\n",
       "      <td>2019-01-01 00:00:00</td>\n",
       "      <td>2.964000</td>\n",
       "      <td>0</td>\n",
       "    </tr>\n",
       "    <tr>\n",
       "      <th>1</th>\n",
       "      <td>2019-01-01 00:15:00</td>\n",
       "      <td>2.584000</td>\n",
       "      <td>0</td>\n",
       "    </tr>\n",
       "    <tr>\n",
       "      <th>2</th>\n",
       "      <td>2019-01-01 00:30:00</td>\n",
       "      <td>3.071000</td>\n",
       "      <td>0</td>\n",
       "    </tr>\n",
       "    <tr>\n",
       "      <th>3</th>\n",
       "      <td>2019-01-01 00:45:00</td>\n",
       "      <td>2.694000</td>\n",
       "      <td>0</td>\n",
       "    </tr>\n",
       "    <tr>\n",
       "      <th>4</th>\n",
       "      <td>2019-01-01 01:00:00</td>\n",
       "      <td>2.569000</td>\n",
       "      <td>0</td>\n",
       "    </tr>\n",
       "    <tr>\n",
       "      <th>...</th>\n",
       "      <td>...</td>\n",
       "      <td>...</td>\n",
       "      <td>...</td>\n",
       "    </tr>\n",
       "    <tr>\n",
       "      <th>1791931</th>\n",
       "      <td>2020-01-01 22:45:00</td>\n",
       "      <td>0.753222</td>\n",
       "      <td>50</td>\n",
       "    </tr>\n",
       "    <tr>\n",
       "      <th>1791932</th>\n",
       "      <td>2020-01-01 23:00:00</td>\n",
       "      <td>0.716855</td>\n",
       "      <td>50</td>\n",
       "    </tr>\n",
       "    <tr>\n",
       "      <th>1791933</th>\n",
       "      <td>2020-01-01 23:15:00</td>\n",
       "      <td>0.735802</td>\n",
       "      <td>50</td>\n",
       "    </tr>\n",
       "    <tr>\n",
       "      <th>1791934</th>\n",
       "      <td>2020-01-01 23:30:00</td>\n",
       "      <td>0.485237</td>\n",
       "      <td>50</td>\n",
       "    </tr>\n",
       "    <tr>\n",
       "      <th>1791935</th>\n",
       "      <td>2020-01-01 23:45:00</td>\n",
       "      <td>0.394216</td>\n",
       "      <td>50</td>\n",
       "    </tr>\n",
       "  </tbody>\n",
       "</table>\n",
       "<p>1791936 rows × 3 columns</p>\n",
       "</div>"
      ],
      "text/plain": [
       "                       Time    Energy  Location\n",
       "0       2019-01-01 00:00:00  2.964000         0\n",
       "1       2019-01-01 00:15:00  2.584000         0\n",
       "2       2019-01-01 00:30:00  3.071000         0\n",
       "3       2019-01-01 00:45:00  2.694000         0\n",
       "4       2019-01-01 01:00:00  2.569000         0\n",
       "...                     ...       ...       ...\n",
       "1791931 2020-01-01 22:45:00  0.753222        50\n",
       "1791932 2020-01-01 23:00:00  0.716855        50\n",
       "1791933 2020-01-01 23:15:00  0.735802        50\n",
       "1791934 2020-01-01 23:30:00  0.485237        50\n",
       "1791935 2020-01-01 23:45:00  0.394216        50\n",
       "\n",
       "[1791936 rows x 3 columns]"
      ]
     },
     "execution_count": 2,
     "metadata": {},
     "output_type": "execute_result"
    }
   ],
   "source": [
    "df = pd.read_pickle(\"df_location.pkl\")\n",
    "number_of_houses = len(df.columns)\n",
    "df.reset_index(drop=True, inplace=True)\n",
    "df"
   ]
  },
  {
   "cell_type": "markdown",
   "id": "54c9d325",
   "metadata": {},
   "source": [
    "### Auxiliary functions"
   ]
  },
  {
   "cell_type": "code",
   "execution_count": 11,
   "id": "cd78e17d",
   "metadata": {},
   "outputs": [
    {
     "ename": "NameError",
     "evalue": "name 'jit' is not defined",
     "output_type": "error",
     "traceback": [
      "\u001b[0;31m---------------------------------------------------------------------------\u001b[0m",
      "\u001b[0;31mNameError\u001b[0m                                 Traceback (most recent call last)",
      "Cell \u001b[0;32mIn[11], line 34\u001b[0m\n\u001b[1;32m     31\u001b[0m     \u001b[38;5;28mprint\u001b[39m(\u001b[38;5;124m'\u001b[39m\u001b[38;5;124mR2: \u001b[39m\u001b[38;5;132;01m%.4f\u001b[39;00m\u001b[38;5;124m'\u001b[39m \u001b[38;5;241m%\u001b[39m r2)\n\u001b[1;32m     32\u001b[0m     \u001b[38;5;28;01mreturn\u001b[39;00m mse, rmse, mae, wape, r2\n\u001b[0;32m---> 34\u001b[0m \u001b[38;5;129m@jit\u001b[39m(target_backend\u001b[38;5;241m=\u001b[39m\u001b[38;5;124m'\u001b[39m\u001b[38;5;124mcuda\u001b[39m\u001b[38;5;124m'\u001b[39m)\n\u001b[1;32m     35\u001b[0m \u001b[38;5;28;01mdef\u001b[39;00m \u001b[38;5;21mbuild_model\u001b[39m(estimator, X_train: np\u001b[38;5;241m.\u001b[39marray, y_train: np\u001b[38;5;241m.\u001b[39marray, X_test: np\u001b[38;5;241m.\u001b[39marray):\n\u001b[1;32m     37\u001b[0m     model \u001b[38;5;241m=\u001b[39m estimator\n\u001b[1;32m     38\u001b[0m     model\u001b[38;5;241m.\u001b[39mfit(X_train, y_train)\n",
      "\u001b[0;31mNameError\u001b[0m: name 'jit' is not defined"
     ]
    }
   ],
   "source": [
    "def plot_results(preds: np.array, actuals: np.array, title: str):\n",
    "    \n",
    "    plt.scatter(actuals, preds, c='b', label='predicted')\n",
    "    plt.xlabel('actual')\n",
    "    plt.ylabel('predicted')\n",
    "    plt.title(title)\n",
    "    plt.xlim(0, plt.xlim()[1])\n",
    "    plt.ylim(0, plt.ylim()[1])\n",
    "    _ = plt.plot([0, 100], [0, 100], '--r', label='y=x')\n",
    "    plt.legend()\n",
    "    plt.show()\n",
    "    \n",
    "    \n",
    "def performance_metrics(preds: np.array, actuals: np.array):\n",
    "\n",
    "    # calculate performance metrics\n",
    "    \n",
    "    mse = mean_squared_error(actuals, preds)\n",
    "    mae = mean_absolute_error(actuals, preds)\n",
    "    rmse = np.sqrt(mse)\n",
    "    #print(\"wape test:\",np.sum(np.abs(preds - actuals)) / np.sum(np.abs(actuals)) * 100)\n",
    "    wape = mae / actuals.mean() * 100\n",
    "    r2 = r2_score(actuals, preds)\n",
    "\n",
    "    # print performance metrics\n",
    "    print('MSE: %.4f' % mse)\n",
    "    print('RMSE: %.4f' % rmse)\n",
    "    print('MAE: %.4f' % mae)\n",
    "    #print('MAPE: %.4f' % mape)\n",
    "    print('WAPE: %.4f' % wape)\n",
    "    print('R2: %.4f' % r2)\n",
    "    return mse, rmse, mae, wape, r2\n",
    "\n",
    "#@jit(target_backend='cuda')\n",
    "def build_model(estimator, X_train: np.array, y_train: np.array, X_test: np.array):\n",
    "    \n",
    "    model = estimator\n",
    "    model.fit(X_train, y_train)\n",
    "    preds = model.predict(X_test)\n",
    "    \n",
    "    return model, preds\n",
    "\n",
    "def validate(estimator, X_train, y_train):\n",
    "    scores = cross_validate(estimator, X_train, y_train, scoring=['r2', 'neg_root_mean_squared_error', 'neg_mean_squared_error', 'neg_mean_absolute_error'])\n",
    "    return scores\n",
    "    "
   ]
  },
  {
   "cell_type": "code",
   "execution_count": 13,
   "id": "8af19e8d",
   "metadata": {},
   "outputs": [],
   "source": [
    "def total_averaged_metrics(metrics_list):\n",
    "    \n",
    "    print(\"Total Averaged MSE: {}\".format(np.round(sum(i for i, j, k, l, m in metrics_list)/len(metrics_list),3)))\n",
    "    print(\"Total Averaged RMSE: {}\".format(np.round(sum(j for i, j, k, l, m in metrics_list)/len(metrics_list),3)))\n",
    "    print(\"Total Averaged MAE: {}\".format(np.round(sum(k for i, j, k, l, m in metrics_list)/len(metrics_list),3)))\n",
    "    print(\"Total Averaged WAPE: {}\".format(np.round(sum(l for i, j, k, l, m in metrics_list)/len(metrics_list),3)))\n",
    "    print(\"Total Averaged R2: {}\".format(np.round(sum(m for i, j, k, l, m in metrics_list)/len(metrics_list),3)))\n",
    "\n",
    "\n",
    "def last_energy_points(df, number_timesteps):\n",
    "    X = pd.DataFrame()\n",
    "    for i in range(1, (number_timesteps + 1) ):\n",
    "        X[f'Energy_{i*15}'] = df['Energy'].shift(i)\n",
    "    X.dropna(inplace=True)\n",
    "    X.reset_index(drop=True, inplace=True)\n",
    "    y = pd.DataFrame(df[number_timesteps:])\n",
    "    y = y['Energy']\n",
    "    y.reset_index(drop=True, inplace=True)\n",
    "    y.columns = [\"Energy\"]\n",
    "    return X, y\n",
    "\n",
    "def build_predict_show(df, number_timesteps, estimator, normalize=False, train_size=0.8, start_timestep=1 ):\n",
    "    full_start = time.time()\n",
    "    metrics_list = []\n",
    "    for i in range(start_timestep,(number_timesteps + 1)):\n",
    "        start = time.time()\n",
    "        print(\"\\nIteration \", i)\n",
    "        X, y = last_energy_points(df, i)\n",
    "\n",
    "        X_train, X_test, y_train, y_test = train_test_split(X, y, train_size=train_size)\n",
    "        if(normalize):\n",
    "            scaler = MinMaxScaler().fit(X_train)\n",
    "            X_train = scaler.transform(X_train)\n",
    "            X_test = scaler.transform(X_test)\n",
    "        model, preds, scores = build_model(estimator, X_train, y_train, X_test)\n",
    "        mse, rmse, mae, mape, r2 = performance_metrics(preds, y_test.values.reshape(-1))\n",
    "        cv_mse = np.round(scores['test_neg_mean_squared_error'].mean() * (-1),4)\n",
    "        cv_rmse = np.round(scores['test_neg_root_mean_squared_error'].mean() * (-1),4)\n",
    "        cv_mae = np.round(scores['test_neg_mean_absolute_error'].mean() * (-1),4)\n",
    "        cv_r2 = np.round(scores['test_r2'].mean(),5)\n",
    "        #print(\"CV MSE: {} \".format(cv_mse))\n",
    "        #print(\"CV RMSE: {} \".format(cv_rmse))\n",
    "        #print(\"CV MAE: {} \".format(cv_mae))\n",
    "        #print(\"CV R2: {} \".format(cv_r2))\n",
    "        print(\"CV MSE: {} \".format(scores['test_neg_mean_squared_error']))\n",
    "        print(\"CV RMSE: {} \".format(scores['test_neg_root_mean_squared_error']))\n",
    "        print(\"CV MAE: {} \".format(scores['test_neg_mean_absolute_error']))\n",
    "        print(\"CV R2: {} \".format(scores['test_r2']))\n",
    "        metrics_list.append((cv_mse,cv_rmse,cv_mae,mape,cv_r2))\n",
    "        print(\"\\nElapsed time: %.3f seconds\" % (time.time() - start))\n",
    "    print(\"\\nFull Elapsed time: %.3f seconds\" % (time.time() - full_start))\n",
    "    return model, preds, scores, metrics_list\n",
    "\n",
    "def split_train_test_timeseries(X, y, train_size: int):\n",
    "    n_train_samples = int(len(X) * train_size)\n",
    "    X_train = X[:n_train_samples]\n",
    "    X_test = X[n_train_samples:]\n",
    "    y_train = y[:n_train_samples]\n",
    "    y_test = y[n_train_samples:]\n",
    "    return X_train, X_test, y_train, y_test\n",
    "\n",
    "def show_graphic_per_timestep(metrics_list, number_timesteps, start_timestep=1):\n",
    "    mse_list = []\n",
    "    rmse_list = []\n",
    "    mae_list = []\n",
    "    wape_list = []\n",
    "    r2_list = []\n",
    "\n",
    "    for i in range(0,len(metrics_list)):\n",
    "        mse_list.append(metrics_list[i][0])\n",
    "        rmse_list.append(metrics_list[i][1])\n",
    "        mae_list.append(metrics_list[i][2])\n",
    "        wape_list.append(metrics_list[i][3])\n",
    "        r2_list.append(metrics_list[i][4])\n",
    "        \n",
    "    plt.plot(range(start_timestep,(number_timesteps+1)), mse_list)\n",
    "    plt.title('MSE per past timestep')\n",
    "    plt.xlabel('Number of past timesteps')\n",
    "    plt.ylabel('MSE')\n",
    "    plt.show()\n",
    "    \n",
    "    plt.plot(range(start_timestep,(number_timesteps+1)), rmse_list)\n",
    "    plt.title('RMSE per past timestep')\n",
    "    plt.xlabel('Number of past timesteps')\n",
    "    plt.ylabel('RMSE')\n",
    "    plt.show()\n",
    "    \n",
    "    plt.plot(range(start_timestep,(number_timesteps+1)), mae_list)\n",
    "    plt.title('MAE per past timestep')\n",
    "    plt.xlabel('Number of past timesteps')\n",
    "    plt.ylabel('MAE')\n",
    "    plt.show()\n",
    "    \n",
    "    plt.plot(range(start_timestep,(number_timesteps+1)), wape_list)\n",
    "    plt.title('WAPE per past timestep')\n",
    "    plt.xlabel('Number of past timesteps')\n",
    "    plt.ylabel('WAPE')\n",
    "    plt.show()\n",
    "    \n",
    "    plt.plot(range(start_timestep,(number_timesteps+1)), r2_list)\n",
    "    plt.title('R2 per past timestep')\n",
    "    plt.xlabel('Number of past timesteps')\n",
    "    plt.ylabel('R2')\n",
    "    plt.show()\n",
    "    "
   ]
  },
  {
   "cell_type": "markdown",
   "id": "1d319234",
   "metadata": {},
   "source": [
    "## Preprocessing"
   ]
  },
  {
   "cell_type": "code",
   "execution_count": 14,
   "id": "f226c552",
   "metadata": {},
   "outputs": [
    {
     "name": "stdout",
     "output_type": "stream",
     "text": [
      "(1791924, 12) (1791924,)\n"
     ]
    },
    {
     "data": {
      "text/html": [
       "<div>\n",
       "<style scoped>\n",
       "    .dataframe tbody tr th:only-of-type {\n",
       "        vertical-align: middle;\n",
       "    }\n",
       "\n",
       "    .dataframe tbody tr th {\n",
       "        vertical-align: top;\n",
       "    }\n",
       "\n",
       "    .dataframe thead th {\n",
       "        text-align: right;\n",
       "    }\n",
       "</style>\n",
       "<table border=\"1\" class=\"dataframe\">\n",
       "  <thead>\n",
       "    <tr style=\"text-align: right;\">\n",
       "      <th></th>\n",
       "      <th>Energy_15</th>\n",
       "      <th>Energy_30</th>\n",
       "      <th>Energy_45</th>\n",
       "      <th>Energy_60</th>\n",
       "      <th>Energy_75</th>\n",
       "      <th>Energy_90</th>\n",
       "      <th>Energy_105</th>\n",
       "      <th>Energy_120</th>\n",
       "      <th>Energy_135</th>\n",
       "      <th>Energy_150</th>\n",
       "      <th>Energy_165</th>\n",
       "      <th>Energy_180</th>\n",
       "    </tr>\n",
       "  </thead>\n",
       "  <tbody>\n",
       "    <tr>\n",
       "      <th>0</th>\n",
       "      <td>3.047000</td>\n",
       "      <td>2.553000</td>\n",
       "      <td>3.223000</td>\n",
       "      <td>2.994000</td>\n",
       "      <td>2.922000</td>\n",
       "      <td>2.558000</td>\n",
       "      <td>3.174000</td>\n",
       "      <td>2.569000</td>\n",
       "      <td>2.694000</td>\n",
       "      <td>3.071000</td>\n",
       "      <td>2.584000</td>\n",
       "      <td>2.964000</td>\n",
       "    </tr>\n",
       "    <tr>\n",
       "      <th>1</th>\n",
       "      <td>3.310000</td>\n",
       "      <td>3.047000</td>\n",
       "      <td>2.553000</td>\n",
       "      <td>3.223000</td>\n",
       "      <td>2.994000</td>\n",
       "      <td>2.922000</td>\n",
       "      <td>2.558000</td>\n",
       "      <td>3.174000</td>\n",
       "      <td>2.569000</td>\n",
       "      <td>2.694000</td>\n",
       "      <td>3.071000</td>\n",
       "      <td>2.584000</td>\n",
       "    </tr>\n",
       "    <tr>\n",
       "      <th>2</th>\n",
       "      <td>2.514000</td>\n",
       "      <td>3.310000</td>\n",
       "      <td>3.047000</td>\n",
       "      <td>2.553000</td>\n",
       "      <td>3.223000</td>\n",
       "      <td>2.994000</td>\n",
       "      <td>2.922000</td>\n",
       "      <td>2.558000</td>\n",
       "      <td>3.174000</td>\n",
       "      <td>2.569000</td>\n",
       "      <td>2.694000</td>\n",
       "      <td>3.071000</td>\n",
       "    </tr>\n",
       "    <tr>\n",
       "      <th>3</th>\n",
       "      <td>2.972000</td>\n",
       "      <td>2.514000</td>\n",
       "      <td>3.310000</td>\n",
       "      <td>3.047000</td>\n",
       "      <td>2.553000</td>\n",
       "      <td>3.223000</td>\n",
       "      <td>2.994000</td>\n",
       "      <td>2.922000</td>\n",
       "      <td>2.558000</td>\n",
       "      <td>3.174000</td>\n",
       "      <td>2.569000</td>\n",
       "      <td>2.694000</td>\n",
       "    </tr>\n",
       "    <tr>\n",
       "      <th>4</th>\n",
       "      <td>2.976000</td>\n",
       "      <td>2.972000</td>\n",
       "      <td>2.514000</td>\n",
       "      <td>3.310000</td>\n",
       "      <td>3.047000</td>\n",
       "      <td>2.553000</td>\n",
       "      <td>3.223000</td>\n",
       "      <td>2.994000</td>\n",
       "      <td>2.922000</td>\n",
       "      <td>2.558000</td>\n",
       "      <td>3.174000</td>\n",
       "      <td>2.569000</td>\n",
       "    </tr>\n",
       "    <tr>\n",
       "      <th>...</th>\n",
       "      <td>...</td>\n",
       "      <td>...</td>\n",
       "      <td>...</td>\n",
       "      <td>...</td>\n",
       "      <td>...</td>\n",
       "      <td>...</td>\n",
       "      <td>...</td>\n",
       "      <td>...</td>\n",
       "      <td>...</td>\n",
       "      <td>...</td>\n",
       "      <td>...</td>\n",
       "      <td>...</td>\n",
       "    </tr>\n",
       "    <tr>\n",
       "      <th>1791919</th>\n",
       "      <td>1.099100</td>\n",
       "      <td>0.453906</td>\n",
       "      <td>0.481770</td>\n",
       "      <td>0.483173</td>\n",
       "      <td>0.467528</td>\n",
       "      <td>1.001887</td>\n",
       "      <td>0.552398</td>\n",
       "      <td>0.533286</td>\n",
       "      <td>0.533451</td>\n",
       "      <td>0.464143</td>\n",
       "      <td>0.552398</td>\n",
       "      <td>0.937120</td>\n",
       "    </tr>\n",
       "    <tr>\n",
       "      <th>1791920</th>\n",
       "      <td>0.753222</td>\n",
       "      <td>1.099100</td>\n",
       "      <td>0.453906</td>\n",
       "      <td>0.481770</td>\n",
       "      <td>0.483173</td>\n",
       "      <td>0.467528</td>\n",
       "      <td>1.001887</td>\n",
       "      <td>0.552398</td>\n",
       "      <td>0.533286</td>\n",
       "      <td>0.533451</td>\n",
       "      <td>0.464143</td>\n",
       "      <td>0.552398</td>\n",
       "    </tr>\n",
       "    <tr>\n",
       "      <th>1791921</th>\n",
       "      <td>0.716855</td>\n",
       "      <td>0.753222</td>\n",
       "      <td>1.099100</td>\n",
       "      <td>0.453906</td>\n",
       "      <td>0.481770</td>\n",
       "      <td>0.483173</td>\n",
       "      <td>0.467528</td>\n",
       "      <td>1.001887</td>\n",
       "      <td>0.552398</td>\n",
       "      <td>0.533286</td>\n",
       "      <td>0.533451</td>\n",
       "      <td>0.464143</td>\n",
       "    </tr>\n",
       "    <tr>\n",
       "      <th>1791922</th>\n",
       "      <td>0.735802</td>\n",
       "      <td>0.716855</td>\n",
       "      <td>0.753222</td>\n",
       "      <td>1.099100</td>\n",
       "      <td>0.453906</td>\n",
       "      <td>0.481770</td>\n",
       "      <td>0.483173</td>\n",
       "      <td>0.467528</td>\n",
       "      <td>1.001887</td>\n",
       "      <td>0.552398</td>\n",
       "      <td>0.533286</td>\n",
       "      <td>0.533451</td>\n",
       "    </tr>\n",
       "    <tr>\n",
       "      <th>1791923</th>\n",
       "      <td>0.485237</td>\n",
       "      <td>0.735802</td>\n",
       "      <td>0.716855</td>\n",
       "      <td>0.753222</td>\n",
       "      <td>1.099100</td>\n",
       "      <td>0.453906</td>\n",
       "      <td>0.481770</td>\n",
       "      <td>0.483173</td>\n",
       "      <td>0.467528</td>\n",
       "      <td>1.001887</td>\n",
       "      <td>0.552398</td>\n",
       "      <td>0.533286</td>\n",
       "    </tr>\n",
       "  </tbody>\n",
       "</table>\n",
       "<p>1791924 rows × 12 columns</p>\n",
       "</div>"
      ],
      "text/plain": [
       "         Energy_15  Energy_30  Energy_45  Energy_60  Energy_75  Energy_90  \\\n",
       "0         3.047000   2.553000   3.223000   2.994000   2.922000   2.558000   \n",
       "1         3.310000   3.047000   2.553000   3.223000   2.994000   2.922000   \n",
       "2         2.514000   3.310000   3.047000   2.553000   3.223000   2.994000   \n",
       "3         2.972000   2.514000   3.310000   3.047000   2.553000   3.223000   \n",
       "4         2.976000   2.972000   2.514000   3.310000   3.047000   2.553000   \n",
       "...            ...        ...        ...        ...        ...        ...   \n",
       "1791919   1.099100   0.453906   0.481770   0.483173   0.467528   1.001887   \n",
       "1791920   0.753222   1.099100   0.453906   0.481770   0.483173   0.467528   \n",
       "1791921   0.716855   0.753222   1.099100   0.453906   0.481770   0.483173   \n",
       "1791922   0.735802   0.716855   0.753222   1.099100   0.453906   0.481770   \n",
       "1791923   0.485237   0.735802   0.716855   0.753222   1.099100   0.453906   \n",
       "\n",
       "         Energy_105  Energy_120  Energy_135  Energy_150  Energy_165  \\\n",
       "0          3.174000    2.569000    2.694000    3.071000    2.584000   \n",
       "1          2.558000    3.174000    2.569000    2.694000    3.071000   \n",
       "2          2.922000    2.558000    3.174000    2.569000    2.694000   \n",
       "3          2.994000    2.922000    2.558000    3.174000    2.569000   \n",
       "4          3.223000    2.994000    2.922000    2.558000    3.174000   \n",
       "...             ...         ...         ...         ...         ...   \n",
       "1791919    0.552398    0.533286    0.533451    0.464143    0.552398   \n",
       "1791920    1.001887    0.552398    0.533286    0.533451    0.464143   \n",
       "1791921    0.467528    1.001887    0.552398    0.533286    0.533451   \n",
       "1791922    0.483173    0.467528    1.001887    0.552398    0.533286   \n",
       "1791923    0.481770    0.483173    0.467528    1.001887    0.552398   \n",
       "\n",
       "         Energy_180  \n",
       "0          2.964000  \n",
       "1          2.584000  \n",
       "2          3.071000  \n",
       "3          2.694000  \n",
       "4          2.569000  \n",
       "...             ...  \n",
       "1791919    0.937120  \n",
       "1791920    0.552398  \n",
       "1791921    0.464143  \n",
       "1791922    0.533451  \n",
       "1791923    0.533286  \n",
       "\n",
       "[1791924 rows x 12 columns]"
      ]
     },
     "execution_count": 14,
     "metadata": {},
     "output_type": "execute_result"
    }
   ],
   "source": [
    "X,y = last_energy_points(df, 12)\n",
    "print(X.shape, y.shape)\n",
    "X"
   ]
  },
  {
   "cell_type": "code",
   "execution_count": 15,
   "id": "07d5782f",
   "metadata": {},
   "outputs": [
    {
     "data": {
      "text/plain": [
       "0          3.310000\n",
       "1          2.514000\n",
       "2          2.972000\n",
       "3          2.976000\n",
       "4          2.916000\n",
       "             ...   \n",
       "1791919    0.753222\n",
       "1791920    0.716855\n",
       "1791921    0.735802\n",
       "1791922    0.485237\n",
       "1791923    0.394216\n",
       "Name: Energy, Length: 1791924, dtype: float64"
      ]
     },
     "execution_count": 15,
     "metadata": {},
     "output_type": "execute_result"
    }
   ],
   "source": [
    "y"
   ]
  },
  {
   "cell_type": "code",
   "execution_count": 16,
   "id": "456dc276",
   "metadata": {},
   "outputs": [
    {
     "data": {
      "text/plain": [
       "((1433539, 12), (358385, 12), (1433539,), (358385,))"
      ]
     },
     "execution_count": 16,
     "metadata": {},
     "output_type": "execute_result"
    }
   ],
   "source": [
    "X_train, X_test, y_train, y_test = train_test_split(X, y, train_size=0.8)\n",
    "X_train.shape, X_test.shape, y_train.shape, y_test.shape"
   ]
  },
  {
   "cell_type": "code",
   "execution_count": 17,
   "id": "f423e0e2",
   "metadata": {},
   "outputs": [
    {
     "name": "stdout",
     "output_type": "stream",
     "text": [
      "\n",
      "Elapsed time: 141.756 seconds\n"
     ]
    }
   ],
   "source": [
    "start = time.time()\n",
    "model, preds = build_model(xgb.XGBRegressor(seed=0), X_train, y_train, X_test)\n",
    "print(\"\\nElapsed time: %.3f seconds\" % (time.time() - start))"
   ]
  },
  {
   "cell_type": "code",
   "execution_count": 18,
   "id": "867f961a",
   "metadata": {},
   "outputs": [
    {
     "name": "stdout",
     "output_type": "stream",
     "text": [
      "MSE: 0.1787\n",
      "RMSE: 0.4227\n",
      "MAE: 0.2097\n",
      "WAPE: 27.4302\n",
      "R2: 0.8520\n"
     ]
    }
   ],
   "source": [
    "metrics_list = []\n",
    "mse, rmse, mae, mape, r2 = performance_metrics(preds, y_test.values.reshape(-1))"
   ]
  },
  {
   "cell_type": "code",
   "execution_count": 19,
   "id": "4fbab771",
   "metadata": {},
   "outputs": [
    {
     "data": {
      "image/png": "[encoded data removed]",
      "text/plain": [
       "<Figure size 640x480 with 1 Axes>"
      ]
     },
     "metadata": {},
     "output_type": "display_data"
    }
   ],
   "source": [
    "plt.bar(range(len(model.feature_importances_)), model.feature_importances_)\n",
    "plt.title('Feature Importance')\n",
    "plt.xlabel('Feature')\n",
    "plt.ylabel('Importance')\n",
    "plt.show()"
   ]
  },
  {
   "cell_type": "code",
   "execution_count": 20,
   "id": "71efa19a",
   "metadata": {},
   "outputs": [
    {
     "name": "stdout",
     "output_type": "stream",
     "text": [
      "CV MSE: 0.1814 \n",
      "CV RMSE: 0.4259 \n",
      "CV MAE: 0.2101 \n",
      "CV R2: 0.84424 \n"
     ]
    }
   ],
   "source": [
    "scores = validate(model, X_train, y_train)\n",
    "cv_mse = np.round(scores['test_neg_mean_squared_error'].mean() * (-1),4)\n",
    "cv_rmse = np.round(scores['test_neg_root_mean_squared_error'].mean() * (-1),4)\n",
    "cv_mae = np.round(scores['test_neg_mean_absolute_error'].mean() * (-1),4)\n",
    "cv_r2 = np.round(scores['test_r2'].mean(),5)\n",
    "print(\"CV MSE: {} \".format(cv_mse))\n",
    "print(\"CV RMSE: {} \".format(cv_rmse))\n",
    "print(\"CV MAE: {} \".format(cv_mae))\n",
    "print(\"CV R2: {} \".format(cv_r2))\n",
    "metrics_list.append((cv_mse,cv_rmse,cv_mae,mape,cv_r2))"
   ]
  },
  {
   "cell_type": "code",
   "execution_count": 21,
   "id": "ba9e7320",
   "metadata": {},
   "outputs": [
    {
     "data": {
      "text/plain": [
       "array([48, 12, 16, 18, 35, 36, 29,  1, 47, 25])"
      ]
     },
     "execution_count": 21,
     "metadata": {},
     "output_type": "execute_result"
    }
   ],
   "source": [
    "locations = np.random.choice(df['Location'].unique(), size=10, replace=False)\n",
    "locations"
   ]
  },
  {
   "cell_type": "code",
   "execution_count": 22,
   "id": "29000235",
   "metadata": {},
   "outputs": [
    {
     "name": "stdout",
     "output_type": "stream",
     "text": [
      "Training time: 50.6612 s\n",
      "MSE: 0.2040\n",
      "RMSE: 0.4517\n",
      "MAE: 0.2248\n",
      "WAPE: 30.3801\n",
      "R2: 0.7475\n"
     ]
    }
   ],
   "source": [
    "test = df[df['Location'].isin(locations)]\n",
    "# remove the houses from the training set\n",
    "train = df[~df['Location'].isin(locations)]\n",
    "X_train, X_test = pd.DataFrame(), pd.DataFrame()\n",
    "for i in range(1, 5):\n",
    "    X_train[f'Energy_{i*15}'] = train['Energy'].shift(i)\n",
    "    X_test[f'Energy_{i*15}'] = test['Energy'].shift(i)\n",
    "y_train = train['Energy']\n",
    "y_train = y_train[4:].reset_index(drop=True)\n",
    "X_train = X_train[4:].reset_index(drop=True)\n",
    "X_test = X_test[4:].reset_index(drop=True)\n",
    "y_test = test['Energy']\n",
    "y_test = y_test[4:].reset_index(drop=True)\n",
    "\n",
    "model = xgb.XGBRegressor(seed=0)\n",
    "init = time.time()\n",
    "model.fit(X_train, y_train)\n",
    "end = time.time()\n",
    "\n",
    "print('Training time: {:.4f} s'.format(end - init))\n",
    "\n",
    "init = time.time()\n",
    "y_pred = model.predict(X_test)\n",
    "end = time.time()\n",
    "mse, rmse, mae, mape, r2 = performance_metrics(y_pred, y_test.values.reshape(-1))"
   ]
  },
  {
   "cell_type": "code",
   "execution_count": 23,
   "id": "1f7982b3",
   "metadata": {},
   "outputs": [
    {
     "ename": "ValueError",
     "evalue": "not enough values to unpack (expected 3, got 2)",
     "output_type": "error",
     "traceback": [
      "\u001b[0;31m---------------------------------------------------------------------------\u001b[0m",
      "\u001b[0;31mValueError\u001b[0m                                Traceback (most recent call last)",
      "Cell \u001b[0;32mIn[23], line 2\u001b[0m\n\u001b[1;32m      1\u001b[0m start \u001b[38;5;241m=\u001b[39m time\u001b[38;5;241m.\u001b[39mtime()\n\u001b[0;32m----> 2\u001b[0m model_lr, preds_lr, scores_lr \u001b[38;5;241m=\u001b[39m build_model(LinearRegression(), X_train, y_train, X_test)\n\u001b[1;32m      3\u001b[0m \u001b[38;5;28mprint\u001b[39m(\u001b[38;5;124m\"\u001b[39m\u001b[38;5;130;01m\\n\u001b[39;00m\u001b[38;5;124mElapsed time: \u001b[39m\u001b[38;5;132;01m%.3f\u001b[39;00m\u001b[38;5;124m seconds\u001b[39m\u001b[38;5;124m\"\u001b[39m \u001b[38;5;241m%\u001b[39m (time\u001b[38;5;241m.\u001b[39mtime() \u001b[38;5;241m-\u001b[39m start))\n",
      "\u001b[0;31mValueError\u001b[0m: not enough values to unpack (expected 3, got 2)"
     ]
    }
   ],
   "source": [
    "start = time.time()\n",
    "model_lr, preds_lr, scores_lr = build_model(LinearRegression(), X_train, y_train, X_test)\n",
    "print(\"\\nElapsed time: %.3f seconds\" % (time.time() - start))"
   ]
  },
  {
   "cell_type": "code",
   "execution_count": null,
   "id": "01cbc1dc",
   "metadata": {},
   "outputs": [],
   "source": [
    "metrics_list_lr = []\n",
    "mse, rmse, mae, mape, r2 = performance_metrics(preds_lr, y_test.values.reshape(-1))\n",
    "cv_mse = np.round(scores_lr['test_neg_mean_squared_error'].mean() * (-1),4)\n",
    "cv_rmse = np.round(scores_lr['test_neg_root_mean_squared_error'].mean() * (-1),4)\n",
    "cv_mae = np.round(scores_lr['test_neg_mean_absolute_error'].mean() * (-1),4)\n",
    "cv_r2 = np.round(scores_lr['test_r2'].mean(),5)\n",
    "print(\"CV MSE: {} \".format(cv_mse))\n",
    "print(\"CV RMSE: {} \".format(cv_rmse))\n",
    "print(\"CV MAE: {} \".format(cv_mae))\n",
    "print(\"CV R2: {} \".format(cv_r2))\n",
    "metrics_list_lr.append((cv_mse,cv_rmse,cv_mae,mape,cv_r2))"
   ]
  },
  {
   "cell_type": "markdown",
   "id": "905a93b1",
   "metadata": {},
   "source": [
    "## Test model"
   ]
  },
  {
   "cell_type": "code",
   "execution_count": null,
   "id": "7deb62aa",
   "metadata": {},
   "outputs": [],
   "source": [
    "start_timestep = 4\n",
    "number_timesteps = 12"
   ]
  },
  {
   "cell_type": "markdown",
   "id": "8ae33951",
   "metadata": {},
   "source": [
    "## XGBoost"
   ]
  },
  {
   "cell_type": "code",
   "execution_count": null,
   "id": "4c30af10",
   "metadata": {
    "scrolled": true
   },
   "outputs": [],
   "source": [
    "model_xgb, preds_xgb, scores_xgb, metrics_list_xgb = build_predict_show(df, number_timesteps, xgb.XGBRegressor(max_depth=5, learning_rate=0.1, n_estimators=100, seed=42), start_timestep=start_timestep)"
   ]
  },
  {
   "cell_type": "code",
   "execution_count": null,
   "id": "a36941c7",
   "metadata": {
    "scrolled": true
   },
   "outputs": [],
   "source": [
    "show_graphic_per_timestep(metrics_list_xgb, number_timesteps, start_timestep=start_timestep)"
   ]
  },
  {
   "cell_type": "code",
   "execution_count": null,
   "id": "b62e7615",
   "metadata": {},
   "outputs": [],
   "source": [
    "print(min([sublist[3] for sublist in metrics_list_gb]))\n",
    "print(min([sublist[3] for sublist in metrics_list_rf]))\n",
    "print(min([sublist[3] for sublist in metrics_list_xgb]))"
   ]
  },
  {
   "cell_type": "code",
   "execution_count": null,
   "id": "41ed32d5",
   "metadata": {},
   "outputs": [],
   "source": [
    "def switch_metric(metric: str):\n",
    "    if metric.lower() == \"mse\":\n",
    "        m = 0\n",
    "    elif metric.lower() == \"rmse\":\n",
    "        m = 1\n",
    "    elif metric.lower() == \"mae\":\n",
    "        m = 2\n",
    "    elif metric.lower() == \"wape\":\n",
    "        m = 3\n",
    "    elif metric.lower() == \"r2\":\n",
    "        m = 4\n",
    "    return m"
   ]
  },
  {
   "cell_type": "code",
   "execution_count": null,
   "id": "39bbe364",
   "metadata": {},
   "outputs": [],
   "source": [
    "def find_best_model(metric: str, metrics_list):\n",
    "    met = switch_metric(metric)\n",
    "    min_value = min(map(lambda x: x[met], metrics_list))\n",
    "    idx = [index for index, item in enumerate(map(lambda x: x[met], metrics_list)) if item == min_value]\n",
    "    return metrics_list[idx[0]]"
   ]
  },
  {
   "cell_type": "code",
   "execution_count": null,
   "id": "8b3d522e",
   "metadata": {},
   "outputs": [],
   "source": [
    "all_metrics_lists = [metrics_list_gb, metrics_list_rf, metrics_list_xgb]"
   ]
  },
  {
   "cell_type": "code",
   "execution_count": null,
   "id": "371e6e0b",
   "metadata": {},
   "outputs": [],
   "source": [
    "best_model = []\n",
    "for model in all_metrics_lists:\n",
    "    best_model.append(find_best_model(\"wape\", model))"
   ]
  },
  {
   "cell_type": "markdown",
   "id": "9c5c21eb",
   "metadata": {},
   "source": [
    "### Plot Best models"
   ]
  },
  {
   "cell_type": "code",
   "execution_count": null,
   "id": "ea3d21f2",
   "metadata": {},
   "outputs": [],
   "source": [
    "X_names = (\"WAPE\", \"R2\")\n",
    "X_axis = np.arange(len(X_names))\n",
    "plt.bar(X_axis - 0.2, (best_model[0][3] / 100, best_model[0][4]), 0.2, label = 'GB')\n",
    "plt.bar(X_axis, (best_model[1][3] / 100, best_model[1][4]), 0.2, label = 'RF')\n",
    "plt.bar(X_axis + 0.2, (best_model[2][3] / 100, best_model[2][4]), 0.2, label = 'XGB')\n",
    "plt.ylim(0,1)\n",
    "plt.xticks(X_axis, X_names)\n",
    "plt.xlabel(\"Metrics\")\n",
    "plt.ylabel(\"Values\")\n",
    "plt.title(\"Comparison between GB, RF and XGB\")\n",
    "plt.legend()\n",
    "plt.show()"
   ]
  },
  {
   "cell_type": "code",
   "execution_count": null,
   "id": "1e1159a1",
   "metadata": {},
   "outputs": [],
   "source": []
  }
 ],
 "metadata": {
  "kernelspec": {
   "display_name": "Python 3 (ipykernel)",
   "language": "python",
   "name": "python3"
  },
  "language_info": {
   "codemirror_mode": {
    "name": "ipython",
    "version": 3
   },
   "file_extension": ".py",
   "mimetype": "text/x-python",
   "name": "python",
   "nbconvert_exporter": "python",
   "pygments_lexer": "ipython3",
   "version": "3.10.6"
  }
 },
 "nbformat": 4,
 "nbformat_minor": 5
}
