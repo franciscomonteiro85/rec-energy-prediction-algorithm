{
 "cells": [
  {
   "cell_type": "code",
   "execution_count": 1,
   "id": "2ec94e97",
   "metadata": {},
   "outputs": [
    {
     "name": "stderr",
     "output_type": "stream",
     "text": [
      "C:\\Users\\fran_\\anaconda3\\lib\\site-packages\\xgboost\\compat.py:36: FutureWarning: pandas.Int64Index is deprecated and will be removed from pandas in a future version. Use pandas.Index with the appropriate dtype instead.\n",
      "  from pandas import MultiIndex, Int64Index\n"
     ]
    }
   ],
   "source": [
    "import numpy as np\n",
    "import pandas as pd\n",
    "import matplotlib.pyplot as plt\n",
    "from sklearn.model_selection import train_test_split\n",
    "import xgboost as xgb\n",
    "from sklearn.metrics import mean_squared_error, r2_score, mean_absolute_error"
   ]
  },
  {
   "cell_type": "code",
   "execution_count": 3,
   "id": "fd466bf7",
   "metadata": {},
   "outputs": [
    {
     "data": {
      "text/plain": [
       "dict_keys(['Weather', 'Total Consumers'])"
      ]
     },
     "execution_count": 3,
     "metadata": {},
     "output_type": "execute_result"
    }
   ],
   "source": [
    "data = pd.read_excel(\"../Dataset.xlsx\", sheet_name=['Weather', 'Total Consumers'])\n",
    "data.keys()"
   ]
  },
  {
   "cell_type": "code",
   "execution_count": 4,
   "id": "768da6b2",
   "metadata": {},
   "outputs": [
    {
     "data": {
      "text/html": [
       "<div>\n",
       "<style scoped>\n",
       "    .dataframe tbody tr th:only-of-type {\n",
       "        vertical-align: middle;\n",
       "    }\n",
       "\n",
       "    .dataframe tbody tr th {\n",
       "        vertical-align: top;\n",
       "    }\n",
       "\n",
       "    .dataframe thead th {\n",
       "        text-align: right;\n",
       "    }\n",
       "</style>\n",
       "<table border=\"1\" class=\"dataframe\">\n",
       "  <thead>\n",
       "    <tr style=\"text-align: right;\">\n",
       "      <th></th>\n",
       "      <th>datetime</th>\n",
       "      <th>TemperatureC</th>\n",
       "      <th>DewpointC</th>\n",
       "      <th>PressurehPa</th>\n",
       "      <th>WindSpeedKMH</th>\n",
       "      <th>WindSpeedGustKMH</th>\n",
       "      <th>Humidity</th>\n",
       "      <th>HourlyPrecipMM</th>\n",
       "      <th>dailyrainMM</th>\n",
       "      <th>SolarRadiationWatts_m2</th>\n",
       "    </tr>\n",
       "  </thead>\n",
       "  <tbody>\n",
       "    <tr>\n",
       "      <th>0</th>\n",
       "      <td>2019-01-01 00:15:00.000</td>\n",
       "      <td>8</td>\n",
       "      <td>4</td>\n",
       "      <td>1030</td>\n",
       "      <td>5</td>\n",
       "      <td>7</td>\n",
       "      <td>76</td>\n",
       "      <td>0</td>\n",
       "      <td>0</td>\n",
       "      <td>0</td>\n",
       "    </tr>\n",
       "    <tr>\n",
       "      <th>1</th>\n",
       "      <td>2019-01-01 00:30:00.000</td>\n",
       "      <td>8</td>\n",
       "      <td>4</td>\n",
       "      <td>1030</td>\n",
       "      <td>3</td>\n",
       "      <td>6</td>\n",
       "      <td>76</td>\n",
       "      <td>0</td>\n",
       "      <td>0</td>\n",
       "      <td>0</td>\n",
       "    </tr>\n",
       "    <tr>\n",
       "      <th>2</th>\n",
       "      <td>2019-01-01 00:45:00.000</td>\n",
       "      <td>8</td>\n",
       "      <td>4</td>\n",
       "      <td>1030</td>\n",
       "      <td>4</td>\n",
       "      <td>6</td>\n",
       "      <td>78</td>\n",
       "      <td>0</td>\n",
       "      <td>0</td>\n",
       "      <td>0</td>\n",
       "    </tr>\n",
       "    <tr>\n",
       "      <th>3</th>\n",
       "      <td>2019-01-01 01:00:00.000</td>\n",
       "      <td>8</td>\n",
       "      <td>4</td>\n",
       "      <td>1030</td>\n",
       "      <td>3</td>\n",
       "      <td>6</td>\n",
       "      <td>78</td>\n",
       "      <td>0</td>\n",
       "      <td>0</td>\n",
       "      <td>0</td>\n",
       "    </tr>\n",
       "    <tr>\n",
       "      <th>4</th>\n",
       "      <td>2019-01-01 01:15:00.000</td>\n",
       "      <td>8</td>\n",
       "      <td>4</td>\n",
       "      <td>1030</td>\n",
       "      <td>2</td>\n",
       "      <td>8</td>\n",
       "      <td>78</td>\n",
       "      <td>0</td>\n",
       "      <td>0</td>\n",
       "      <td>0</td>\n",
       "    </tr>\n",
       "    <tr>\n",
       "      <th>...</th>\n",
       "      <td>...</td>\n",
       "      <td>...</td>\n",
       "      <td>...</td>\n",
       "      <td>...</td>\n",
       "      <td>...</td>\n",
       "      <td>...</td>\n",
       "      <td>...</td>\n",
       "      <td>...</td>\n",
       "      <td>...</td>\n",
       "      <td>...</td>\n",
       "    </tr>\n",
       "    <tr>\n",
       "      <th>35034</th>\n",
       "      <td>NaN</td>\n",
       "      <td>0</td>\n",
       "      <td>0</td>\n",
       "      <td>0</td>\n",
       "      <td>0</td>\n",
       "      <td>0</td>\n",
       "      <td>0</td>\n",
       "      <td>0</td>\n",
       "      <td>0</td>\n",
       "      <td>0</td>\n",
       "    </tr>\n",
       "    <tr>\n",
       "      <th>35035</th>\n",
       "      <td>NaN</td>\n",
       "      <td>0</td>\n",
       "      <td>0</td>\n",
       "      <td>0</td>\n",
       "      <td>0</td>\n",
       "      <td>0</td>\n",
       "      <td>0</td>\n",
       "      <td>0</td>\n",
       "      <td>0</td>\n",
       "      <td>0</td>\n",
       "    </tr>\n",
       "    <tr>\n",
       "      <th>35036</th>\n",
       "      <td>NaN</td>\n",
       "      <td>0</td>\n",
       "      <td>0</td>\n",
       "      <td>0</td>\n",
       "      <td>0</td>\n",
       "      <td>0</td>\n",
       "      <td>0</td>\n",
       "      <td>0</td>\n",
       "      <td>0</td>\n",
       "      <td>0</td>\n",
       "    </tr>\n",
       "    <tr>\n",
       "      <th>35037</th>\n",
       "      <td>NaN</td>\n",
       "      <td>0</td>\n",
       "      <td>0</td>\n",
       "      <td>0</td>\n",
       "      <td>0</td>\n",
       "      <td>0</td>\n",
       "      <td>0</td>\n",
       "      <td>0</td>\n",
       "      <td>0</td>\n",
       "      <td>0</td>\n",
       "    </tr>\n",
       "    <tr>\n",
       "      <th>35038</th>\n",
       "      <td>NaN</td>\n",
       "      <td>0</td>\n",
       "      <td>0</td>\n",
       "      <td>0</td>\n",
       "      <td>0</td>\n",
       "      <td>0</td>\n",
       "      <td>0</td>\n",
       "      <td>0</td>\n",
       "      <td>0</td>\n",
       "      <td>0</td>\n",
       "    </tr>\n",
       "  </tbody>\n",
       "</table>\n",
       "<p>35039 rows × 10 columns</p>\n",
       "</div>"
      ],
      "text/plain": [
       "                      datetime  TemperatureC  DewpointC  PressurehPa  \\\n",
       "0      2019-01-01 00:15:00.000             8          4         1030   \n",
       "1      2019-01-01 00:30:00.000             8          4         1030   \n",
       "2      2019-01-01 00:45:00.000             8          4         1030   \n",
       "3      2019-01-01 01:00:00.000             8          4         1030   \n",
       "4      2019-01-01 01:15:00.000             8          4         1030   \n",
       "...                        ...           ...        ...          ...   \n",
       "35034                      NaN             0          0            0   \n",
       "35035                      NaN             0          0            0   \n",
       "35036                      NaN             0          0            0   \n",
       "35037                      NaN             0          0            0   \n",
       "35038                      NaN             0          0            0   \n",
       "\n",
       "       WindSpeedKMH  WindSpeedGustKMH  Humidity  HourlyPrecipMM  dailyrainMM  \\\n",
       "0                 5                 7        76               0            0   \n",
       "1                 3                 6        76               0            0   \n",
       "2                 4                 6        78               0            0   \n",
       "3                 3                 6        78               0            0   \n",
       "4                 2                 8        78               0            0   \n",
       "...             ...               ...       ...             ...          ...   \n",
       "35034             0                 0         0               0            0   \n",
       "35035             0                 0         0               0            0   \n",
       "35036             0                 0         0               0            0   \n",
       "35037             0                 0         0               0            0   \n",
       "35038             0                 0         0               0            0   \n",
       "\n",
       "       SolarRadiationWatts_m2  \n",
       "0                           0  \n",
       "1                           0  \n",
       "2                           0  \n",
       "3                           0  \n",
       "4                           0  \n",
       "...                       ...  \n",
       "35034                       0  \n",
       "35035                       0  \n",
       "35036                       0  \n",
       "35037                       0  \n",
       "35038                       0  \n",
       "\n",
       "[35039 rows x 10 columns]"
      ]
     },
     "execution_count": 4,
     "metadata": {},
     "output_type": "execute_result"
    }
   ],
   "source": [
    "df_weather = data['Weather']\n",
    "df_tc = data['Total Consumers']\n",
    "df_weather"
   ]
  },
  {
   "cell_type": "code",
   "execution_count": 5,
   "id": "b3815dff",
   "metadata": {},
   "outputs": [
    {
     "data": {
      "text/plain": [
       "datetime                  22953\n",
       "TemperatureC                  0\n",
       "DewpointC                     0\n",
       "PressurehPa                   0\n",
       "WindSpeedKMH                  0\n",
       "WindSpeedGustKMH              0\n",
       "Humidity                      0\n",
       "HourlyPrecipMM                0\n",
       "dailyrainMM                   0\n",
       "SolarRadiationWatts_m2        0\n",
       "dtype: int64"
      ]
     },
     "execution_count": 5,
     "metadata": {},
     "output_type": "execute_result"
    }
   ],
   "source": [
    "df_weather.isnull().sum()"
   ]
  },
  {
   "cell_type": "code",
   "execution_count": 6,
   "id": "0b1797d3",
   "metadata": {},
   "outputs": [
    {
     "data": {
      "text/plain": [
       "0        2.964\n",
       "1        2.584\n",
       "2        3.071\n",
       "3        2.694\n",
       "4        2.569\n",
       "         ...  \n",
       "35131    1.664\n",
       "35132    1.659\n",
       "35133    1.664\n",
       "35134    1.697\n",
       "35135    1.673\n",
       "Name: 0, Length: 35136, dtype: float64"
      ]
     },
     "execution_count": 6,
     "metadata": {},
     "output_type": "execute_result"
    }
   ],
   "source": [
    "df_energy = df_tc[0]\n",
    "df_energy"
   ]
  },
  {
   "cell_type": "code",
   "execution_count": 7,
   "id": "2ba0717a",
   "metadata": {},
   "outputs": [
    {
     "data": {
      "text/html": [
       "<div>\n",
       "<style scoped>\n",
       "    .dataframe tbody tr th:only-of-type {\n",
       "        vertical-align: middle;\n",
       "    }\n",
       "\n",
       "    .dataframe tbody tr th {\n",
       "        vertical-align: top;\n",
       "    }\n",
       "\n",
       "    .dataframe thead th {\n",
       "        text-align: right;\n",
       "    }\n",
       "</style>\n",
       "<table border=\"1\" class=\"dataframe\">\n",
       "  <thead>\n",
       "    <tr style=\"text-align: right;\">\n",
       "      <th></th>\n",
       "      <th>TemperatureC</th>\n",
       "      <th>DewpointC</th>\n",
       "      <th>PressurehPa</th>\n",
       "      <th>WindSpeedKMH</th>\n",
       "      <th>WindSpeedGustKMH</th>\n",
       "      <th>Humidity</th>\n",
       "      <th>HourlyPrecipMM</th>\n",
       "      <th>dailyrainMM</th>\n",
       "      <th>SolarRadiationWatts_m2</th>\n",
       "    </tr>\n",
       "  </thead>\n",
       "  <tbody>\n",
       "    <tr>\n",
       "      <th>0</th>\n",
       "      <td>8</td>\n",
       "      <td>4</td>\n",
       "      <td>1030</td>\n",
       "      <td>5</td>\n",
       "      <td>7</td>\n",
       "      <td>76</td>\n",
       "      <td>0</td>\n",
       "      <td>0</td>\n",
       "      <td>0</td>\n",
       "    </tr>\n",
       "    <tr>\n",
       "      <th>1</th>\n",
       "      <td>8</td>\n",
       "      <td>4</td>\n",
       "      <td>1030</td>\n",
       "      <td>3</td>\n",
       "      <td>6</td>\n",
       "      <td>76</td>\n",
       "      <td>0</td>\n",
       "      <td>0</td>\n",
       "      <td>0</td>\n",
       "    </tr>\n",
       "    <tr>\n",
       "      <th>2</th>\n",
       "      <td>8</td>\n",
       "      <td>4</td>\n",
       "      <td>1030</td>\n",
       "      <td>4</td>\n",
       "      <td>6</td>\n",
       "      <td>78</td>\n",
       "      <td>0</td>\n",
       "      <td>0</td>\n",
       "      <td>0</td>\n",
       "    </tr>\n",
       "    <tr>\n",
       "      <th>3</th>\n",
       "      <td>8</td>\n",
       "      <td>4</td>\n",
       "      <td>1030</td>\n",
       "      <td>3</td>\n",
       "      <td>6</td>\n",
       "      <td>78</td>\n",
       "      <td>0</td>\n",
       "      <td>0</td>\n",
       "      <td>0</td>\n",
       "    </tr>\n",
       "    <tr>\n",
       "      <th>4</th>\n",
       "      <td>8</td>\n",
       "      <td>4</td>\n",
       "      <td>1030</td>\n",
       "      <td>2</td>\n",
       "      <td>8</td>\n",
       "      <td>78</td>\n",
       "      <td>0</td>\n",
       "      <td>0</td>\n",
       "      <td>0</td>\n",
       "    </tr>\n",
       "    <tr>\n",
       "      <th>...</th>\n",
       "      <td>...</td>\n",
       "      <td>...</td>\n",
       "      <td>...</td>\n",
       "      <td>...</td>\n",
       "      <td>...</td>\n",
       "      <td>...</td>\n",
       "      <td>...</td>\n",
       "      <td>...</td>\n",
       "      <td>...</td>\n",
       "    </tr>\n",
       "    <tr>\n",
       "      <th>12081</th>\n",
       "      <td>12</td>\n",
       "      <td>8</td>\n",
       "      <td>1017</td>\n",
       "      <td>11</td>\n",
       "      <td>19</td>\n",
       "      <td>76</td>\n",
       "      <td>0</td>\n",
       "      <td>0</td>\n",
       "      <td>0</td>\n",
       "    </tr>\n",
       "    <tr>\n",
       "      <th>12082</th>\n",
       "      <td>12</td>\n",
       "      <td>8</td>\n",
       "      <td>1016</td>\n",
       "      <td>11</td>\n",
       "      <td>17</td>\n",
       "      <td>76</td>\n",
       "      <td>0</td>\n",
       "      <td>0</td>\n",
       "      <td>0</td>\n",
       "    </tr>\n",
       "    <tr>\n",
       "      <th>12083</th>\n",
       "      <td>12</td>\n",
       "      <td>8</td>\n",
       "      <td>1016</td>\n",
       "      <td>4</td>\n",
       "      <td>12</td>\n",
       "      <td>76</td>\n",
       "      <td>0</td>\n",
       "      <td>0</td>\n",
       "      <td>0</td>\n",
       "    </tr>\n",
       "    <tr>\n",
       "      <th>12084</th>\n",
       "      <td>12</td>\n",
       "      <td>8</td>\n",
       "      <td>1016</td>\n",
       "      <td>3</td>\n",
       "      <td>14</td>\n",
       "      <td>76</td>\n",
       "      <td>0</td>\n",
       "      <td>0</td>\n",
       "      <td>0</td>\n",
       "    </tr>\n",
       "    <tr>\n",
       "      <th>12085</th>\n",
       "      <td>12</td>\n",
       "      <td>8</td>\n",
       "      <td>1016</td>\n",
       "      <td>11</td>\n",
       "      <td>14</td>\n",
       "      <td>77</td>\n",
       "      <td>0</td>\n",
       "      <td>0</td>\n",
       "      <td>0</td>\n",
       "    </tr>\n",
       "  </tbody>\n",
       "</table>\n",
       "<p>12086 rows × 9 columns</p>\n",
       "</div>"
      ],
      "text/plain": [
       "       TemperatureC  DewpointC  PressurehPa  WindSpeedKMH  WindSpeedGustKMH  \\\n",
       "0                 8          4         1030             5                 7   \n",
       "1                 8          4         1030             3                 6   \n",
       "2                 8          4         1030             4                 6   \n",
       "3                 8          4         1030             3                 6   \n",
       "4                 8          4         1030             2                 8   \n",
       "...             ...        ...          ...           ...               ...   \n",
       "12081            12          8         1017            11                19   \n",
       "12082            12          8         1016            11                17   \n",
       "12083            12          8         1016             4                12   \n",
       "12084            12          8         1016             3                14   \n",
       "12085            12          8         1016            11                14   \n",
       "\n",
       "       Humidity  HourlyPrecipMM  dailyrainMM  SolarRadiationWatts_m2  \n",
       "0            76               0            0                       0  \n",
       "1            76               0            0                       0  \n",
       "2            78               0            0                       0  \n",
       "3            78               0            0                       0  \n",
       "4            78               0            0                       0  \n",
       "...         ...             ...          ...                     ...  \n",
       "12081        76               0            0                       0  \n",
       "12082        76               0            0                       0  \n",
       "12083        76               0            0                       0  \n",
       "12084        76               0            0                       0  \n",
       "12085        77               0            0                       0  \n",
       "\n",
       "[12086 rows x 9 columns]"
      ]
     },
     "execution_count": 7,
     "metadata": {},
     "output_type": "execute_result"
    }
   ],
   "source": [
    "# Drop NaN values from weather dataset\n",
    "df_weather.dropna(axis=0, inplace=True)\n",
    "df_weather.reset_index(drop=True, inplace=True)\n",
    "\n",
    "# Remove Datetime because XGB doesn't allow categorical variables\n",
    "df_weather_no_date = df_weather.drop('datetime', axis=1, inplace=False)\n",
    "df_weather_no_date"
   ]
  },
  {
   "cell_type": "code",
   "execution_count": 8,
   "id": "dacebf92",
   "metadata": {},
   "outputs": [
    {
     "data": {
      "text/plain": [
       "0        2.964\n",
       "1        2.584\n",
       "2        3.071\n",
       "3        2.694\n",
       "4        2.569\n",
       "         ...  \n",
       "12081    3.115\n",
       "12082    2.596\n",
       "12083    2.903\n",
       "12084    2.789\n",
       "12085    2.844\n",
       "Name: 0, Length: 12086, dtype: float64"
      ]
     },
     "execution_count": 8,
     "metadata": {},
     "output_type": "execute_result"
    }
   ],
   "source": [
    "# Transform energy dataset to be the same size as the weather one\n",
    "df_energy_new = df_energy[0:df_weather.shape[0]]\n",
    "X = df_weather_no_date\n",
    "y = df_energy_new\n",
    "df_energy_new"
   ]
  },
  {
   "cell_type": "markdown",
   "id": "6676106c",
   "metadata": {},
   "source": [
    "## Plot some data"
   ]
  },
  {
   "cell_type": "code",
   "execution_count": 9,
   "id": "c3fa2875",
   "metadata": {
    "scrolled": true
   },
   "outputs": [
    {
     "data": {
      "image/png": "[encoded data removed]",
      "text/plain": [
       "<Figure size 432x288 with 1 Axes>"
      ]
     },
     "metadata": {
      "needs_background": "light"
     },
     "output_type": "display_data"
    }
   ],
   "source": [
    "plt.scatter(X['TemperatureC'], y)\n",
    "plt.xlabel('Temperature (C)') \n",
    "plt.ylabel('Energy Consumed (kWh)')\n",
    "plt.title('Comparison between Temperature and Energy Consumed in the Public Building')\n",
    "plt.show()"
   ]
  },
  {
   "cell_type": "code",
   "execution_count": 10,
   "id": "ab9da81e",
   "metadata": {
    "scrolled": true
   },
   "outputs": [
    {
     "data": {
      "image/png": "[encoded data removed]",
      "text/plain": [
       "<Figure size 432x288 with 1 Axes>"
      ]
     },
     "metadata": {
      "needs_background": "light"
     },
     "output_type": "display_data"
    }
   ],
   "source": [
    "plt.scatter(X['SolarRadiationWatts_m2'], y)\n",
    "plt.xlabel('Radiation (W/m2)') \n",
    "plt.ylabel('Energy Consumed (kWh)')\n",
    "plt.title('Comparison between Solar Radiation and Energy Consumed in the Public Building')\n",
    "plt.show()"
   ]
  },
  {
   "cell_type": "markdown",
   "id": "44ba8228",
   "metadata": {},
   "source": [
    "## Auxiliary functions"
   ]
  },
  {
   "cell_type": "code",
   "execution_count": 11,
   "id": "9df26934",
   "metadata": {},
   "outputs": [],
   "source": [
    "def build_model(X_train: np.array, y_train: np.array, X_test: np.array):\n",
    "    \n",
    "    model = xgb.XGBRegressor(max_depth=5, learning_rate=0.1, n_estimators=100, verbosity=1, seed=42)\n",
    "    model.fit(X_train, y_train)\n",
    "    preds = model.predict(X_test)\n",
    "\n",
    "    return model, preds\n",
    "\n",
    "\n",
    "def plot_results(preds: np.array, actuals: np.array, title: str):\n",
    "    \n",
    "    plt.scatter(actuals, preds, c='b', label='predicted')\n",
    "    plt.xlabel('actual')\n",
    "    plt.ylabel('predicted')\n",
    "    plt.title(title)\n",
    "    plt.xlim(0, plt.xlim()[1])\n",
    "    plt.ylim(0, plt.ylim()[1])\n",
    "    _ = plt.plot([0, 100], [0, 100], '--r', label='y=x')\n",
    "    plt.legend()\n",
    "    plt.show()\n",
    "    \n",
    "    \n",
    "def performance_metrics(preds: np.array, actuals: np.array):\n",
    "\n",
    "    # calculate performance metrics\n",
    "    mse = mean_squared_error(actuals, preds)\n",
    "    rmse = np.sqrt(mse)\n",
    "    mae = mean_absolute_error(actuals, preds)\n",
    "    wmape = np.sum(np.abs(preds - actuals)) / np.sum(np.abs(actuals)) * 100\n",
    "    r2 = r2_score(actuals, preds)\n",
    "\n",
    "    # print performance metrics\n",
    "    print('MSE: %.4f' % mse)\n",
    "    print('RMSE: %.4f' % rmse)\n",
    "    print('MAE: %.4f' % mae)\n",
    "    print('WMAPE: %.4f' % wmape)\n",
    "    print('R2: %.4f' % r2)"
   ]
  },
  {
   "cell_type": "markdown",
   "id": "b02a0684",
   "metadata": {},
   "source": [
    "### First Model (all weather features)"
   ]
  },
  {
   "cell_type": "code",
   "execution_count": 12,
   "id": "9168ad66",
   "metadata": {},
   "outputs": [
    {
     "name": "stderr",
     "output_type": "stream",
     "text": [
      "C:\\Users\\fran_\\anaconda3\\lib\\site-packages\\xgboost\\data.py:250: FutureWarning: pandas.Int64Index is deprecated and will be removed from pandas in a future version. Use pandas.Index with the appropriate dtype instead.\n",
      "  elif isinstance(data.columns, (pd.Int64Index, pd.RangeIndex)):\n"
     ]
    }
   ],
   "source": [
    "X_train, X_test, y_train, y_test = train_test_split(X, y, test_size=0.2, random_state=42)\n",
    "model, preds = build_model(X_train, y_train, X_test)"
   ]
  },
  {
   "cell_type": "code",
   "execution_count": 13,
   "id": "445d5ebf",
   "metadata": {},
   "outputs": [
    {
     "data": {
      "image/png": "[encoded data removed]",
      "text/plain": [
       "<Figure size 864x576 with 1 Axes>"
      ]
     },
     "metadata": {
      "needs_background": "light"
     },
     "output_type": "display_data"
    }
   ],
   "source": [
    "plt.figure(figsize=(12, 8))\n",
    "\n",
    "plot_results(preds, y_test, 'XGBoost 1')"
   ]
  },
  {
   "cell_type": "code",
   "execution_count": 14,
   "id": "ea8b5cb0",
   "metadata": {},
   "outputs": [
    {
     "name": "stdout",
     "output_type": "stream",
     "text": [
      "MSE: 1.2537\n",
      "RMSE: 1.1197\n",
      "MAE: 0.8132\n",
      "WMAPE: 21.3596\n",
      "R2: 0.4335\n"
     ]
    }
   ],
   "source": [
    "performance_metrics(preds, y_test.values.reshape(-1))"
   ]
  },
  {
   "cell_type": "markdown",
   "id": "45d3aded",
   "metadata": {},
   "source": [
    "### Second Model (all weather features + last 24 hours)"
   ]
  },
  {
   "cell_type": "code",
   "execution_count": 15,
   "id": "c6ff7971",
   "metadata": {},
   "outputs": [
    {
     "data": {
      "text/html": [
       "<div>\n",
       "<style scoped>\n",
       "    .dataframe tbody tr th:only-of-type {\n",
       "        vertical-align: middle;\n",
       "    }\n",
       "\n",
       "    .dataframe tbody tr th {\n",
       "        vertical-align: top;\n",
       "    }\n",
       "\n",
       "    .dataframe thead th {\n",
       "        text-align: right;\n",
       "    }\n",
       "</style>\n",
       "<table border=\"1\" class=\"dataframe\">\n",
       "  <thead>\n",
       "    <tr style=\"text-align: right;\">\n",
       "      <th></th>\n",
       "      <th>TemperatureC</th>\n",
       "      <th>DewpointC</th>\n",
       "      <th>PressurehPa</th>\n",
       "      <th>WindSpeedKMH</th>\n",
       "      <th>WindSpeedGustKMH</th>\n",
       "      <th>Humidity</th>\n",
       "      <th>HourlyPrecipMM</th>\n",
       "      <th>dailyrainMM</th>\n",
       "      <th>SolarRadiationWatts_m2</th>\n",
       "      <th>Energy</th>\n",
       "    </tr>\n",
       "  </thead>\n",
       "  <tbody>\n",
       "    <tr>\n",
       "      <th>0</th>\n",
       "      <td>8</td>\n",
       "      <td>4</td>\n",
       "      <td>1030</td>\n",
       "      <td>5</td>\n",
       "      <td>7</td>\n",
       "      <td>76</td>\n",
       "      <td>0</td>\n",
       "      <td>0</td>\n",
       "      <td>0</td>\n",
       "      <td>2.964</td>\n",
       "    </tr>\n",
       "    <tr>\n",
       "      <th>1</th>\n",
       "      <td>8</td>\n",
       "      <td>4</td>\n",
       "      <td>1030</td>\n",
       "      <td>3</td>\n",
       "      <td>6</td>\n",
       "      <td>76</td>\n",
       "      <td>0</td>\n",
       "      <td>0</td>\n",
       "      <td>0</td>\n",
       "      <td>2.584</td>\n",
       "    </tr>\n",
       "    <tr>\n",
       "      <th>2</th>\n",
       "      <td>8</td>\n",
       "      <td>4</td>\n",
       "      <td>1030</td>\n",
       "      <td>4</td>\n",
       "      <td>6</td>\n",
       "      <td>78</td>\n",
       "      <td>0</td>\n",
       "      <td>0</td>\n",
       "      <td>0</td>\n",
       "      <td>3.071</td>\n",
       "    </tr>\n",
       "    <tr>\n",
       "      <th>3</th>\n",
       "      <td>8</td>\n",
       "      <td>4</td>\n",
       "      <td>1030</td>\n",
       "      <td>3</td>\n",
       "      <td>6</td>\n",
       "      <td>78</td>\n",
       "      <td>0</td>\n",
       "      <td>0</td>\n",
       "      <td>0</td>\n",
       "      <td>2.694</td>\n",
       "    </tr>\n",
       "    <tr>\n",
       "      <th>4</th>\n",
       "      <td>8</td>\n",
       "      <td>4</td>\n",
       "      <td>1030</td>\n",
       "      <td>2</td>\n",
       "      <td>8</td>\n",
       "      <td>78</td>\n",
       "      <td>0</td>\n",
       "      <td>0</td>\n",
       "      <td>0</td>\n",
       "      <td>2.569</td>\n",
       "    </tr>\n",
       "    <tr>\n",
       "      <th>...</th>\n",
       "      <td>...</td>\n",
       "      <td>...</td>\n",
       "      <td>...</td>\n",
       "      <td>...</td>\n",
       "      <td>...</td>\n",
       "      <td>...</td>\n",
       "      <td>...</td>\n",
       "      <td>...</td>\n",
       "      <td>...</td>\n",
       "      <td>...</td>\n",
       "    </tr>\n",
       "    <tr>\n",
       "      <th>12081</th>\n",
       "      <td>12</td>\n",
       "      <td>8</td>\n",
       "      <td>1017</td>\n",
       "      <td>11</td>\n",
       "      <td>19</td>\n",
       "      <td>76</td>\n",
       "      <td>0</td>\n",
       "      <td>0</td>\n",
       "      <td>0</td>\n",
       "      <td>3.115</td>\n",
       "    </tr>\n",
       "    <tr>\n",
       "      <th>12082</th>\n",
       "      <td>12</td>\n",
       "      <td>8</td>\n",
       "      <td>1016</td>\n",
       "      <td>11</td>\n",
       "      <td>17</td>\n",
       "      <td>76</td>\n",
       "      <td>0</td>\n",
       "      <td>0</td>\n",
       "      <td>0</td>\n",
       "      <td>2.596</td>\n",
       "    </tr>\n",
       "    <tr>\n",
       "      <th>12083</th>\n",
       "      <td>12</td>\n",
       "      <td>8</td>\n",
       "      <td>1016</td>\n",
       "      <td>4</td>\n",
       "      <td>12</td>\n",
       "      <td>76</td>\n",
       "      <td>0</td>\n",
       "      <td>0</td>\n",
       "      <td>0</td>\n",
       "      <td>2.903</td>\n",
       "    </tr>\n",
       "    <tr>\n",
       "      <th>12084</th>\n",
       "      <td>12</td>\n",
       "      <td>8</td>\n",
       "      <td>1016</td>\n",
       "      <td>3</td>\n",
       "      <td>14</td>\n",
       "      <td>76</td>\n",
       "      <td>0</td>\n",
       "      <td>0</td>\n",
       "      <td>0</td>\n",
       "      <td>2.789</td>\n",
       "    </tr>\n",
       "    <tr>\n",
       "      <th>12085</th>\n",
       "      <td>12</td>\n",
       "      <td>8</td>\n",
       "      <td>1016</td>\n",
       "      <td>11</td>\n",
       "      <td>14</td>\n",
       "      <td>77</td>\n",
       "      <td>0</td>\n",
       "      <td>0</td>\n",
       "      <td>0</td>\n",
       "      <td>2.844</td>\n",
       "    </tr>\n",
       "  </tbody>\n",
       "</table>\n",
       "<p>12086 rows × 10 columns</p>\n",
       "</div>"
      ],
      "text/plain": [
       "       TemperatureC  DewpointC  PressurehPa  WindSpeedKMH  WindSpeedGustKMH  \\\n",
       "0                 8          4         1030             5                 7   \n",
       "1                 8          4         1030             3                 6   \n",
       "2                 8          4         1030             4                 6   \n",
       "3                 8          4         1030             3                 6   \n",
       "4                 8          4         1030             2                 8   \n",
       "...             ...        ...          ...           ...               ...   \n",
       "12081            12          8         1017            11                19   \n",
       "12082            12          8         1016            11                17   \n",
       "12083            12          8         1016             4                12   \n",
       "12084            12          8         1016             3                14   \n",
       "12085            12          8         1016            11                14   \n",
       "\n",
       "       Humidity  HourlyPrecipMM  dailyrainMM  SolarRadiationWatts_m2  Energy  \n",
       "0            76               0            0                       0   2.964  \n",
       "1            76               0            0                       0   2.584  \n",
       "2            78               0            0                       0   3.071  \n",
       "3            78               0            0                       0   2.694  \n",
       "4            78               0            0                       0   2.569  \n",
       "...         ...             ...          ...                     ...     ...  \n",
       "12081        76               0            0                       0   3.115  \n",
       "12082        76               0            0                       0   2.596  \n",
       "12083        76               0            0                       0   2.903  \n",
       "12084        76               0            0                       0   2.789  \n",
       "12085        77               0            0                       0   2.844  \n",
       "\n",
       "[12086 rows x 10 columns]"
      ]
     },
     "execution_count": 15,
     "metadata": {},
     "output_type": "execute_result"
    }
   ],
   "source": [
    "y2 = df_energy_new\n",
    "\n",
    "# Concatenate with energy consumed\n",
    "X2 = pd.concat([df_weather_no_date, y2], axis=1) \n",
    "\n",
    "X2.rename(columns = {0:'Energy'}, inplace = True)\n",
    "X2\n",
    "#X2_train, X2_test, y2_train, y2_test = train_test_split(X2, y2, test_size=0.2, random_state=42)"
   ]
  },
  {
   "cell_type": "markdown",
   "id": "4ff1b253",
   "metadata": {},
   "source": [
    "### Third Model (all weather features + last 7 days)"
   ]
  },
  {
   "cell_type": "code",
   "execution_count": null,
   "id": "8524b3b3",
   "metadata": {},
   "outputs": [],
   "source": []
  },
  {
   "cell_type": "markdown",
   "id": "eb95869a",
   "metadata": {},
   "source": [
    "## Feature Importance"
   ]
  },
  {
   "cell_type": "code",
   "execution_count": 16,
   "id": "7e2d2134",
   "metadata": {},
   "outputs": [
    {
     "data": {
      "text/plain": [
       "array([0.12562646, 0.12005223, 0.14263792, 0.03783444, 0.09688658,\n",
       "       0.11704353, 0.03941116, 0.201799  , 0.1187087 ], dtype=float32)"
      ]
     },
     "execution_count": 16,
     "metadata": {},
     "output_type": "execute_result"
    }
   ],
   "source": [
    "model.feature_importances_"
   ]
  },
  {
   "cell_type": "code",
   "execution_count": 21,
   "id": "b89d290d",
   "metadata": {},
   "outputs": [
    {
     "data": {
      "image/png": "[encoded data removed]",
      "text/plain": [
       "<Figure size 1152x518.4 with 1 Axes>"
      ]
     },
     "metadata": {
      "needs_background": "light"
     },
     "output_type": "display_data"
    }
   ],
   "source": [
    "time_importance = model.feature_importances_\n",
    "\n",
    "plt.figure(figsize=(16, 7.2))\n",
    "plt.bar(X.columns, time_importance)\n",
    "plt.title('Feature importance')\n",
    "plt.xlabel('Feature')\n",
    "plt.ylabel('Importance')\n",
    "plt.show()"
   ]
  },
  {
   "cell_type": "code",
   "execution_count": null,
   "id": "d2055aab",
   "metadata": {},
   "outputs": [],
   "source": []
  }
 ],
 "metadata": {
  "kernelspec": {
   "display_name": "Python 3 (ipykernel)",
   "language": "python",
   "name": "python3"
  },
  "language_info": {
   "codemirror_mode": {
    "name": "ipython",
    "version": 3
   },
   "file_extension": ".py",
   "mimetype": "text/x-python",
   "name": "python",
   "nbconvert_exporter": "python",
   "pygments_lexer": "ipython3",
   "version": "3.9.12"
  }
 },
 "nbformat": 4,
 "nbformat_minor": 5
}
