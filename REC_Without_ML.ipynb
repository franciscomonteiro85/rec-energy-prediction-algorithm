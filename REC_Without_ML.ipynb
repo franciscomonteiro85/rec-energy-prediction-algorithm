{
 "cells": [
  {
   "cell_type": "code",
   "execution_count": 6,
   "id": "652eddb0",
   "metadata": {},
   "outputs": [],
   "source": [
    "import warnings\n",
    "warnings.filterwarnings('ignore',category=FutureWarning)\n",
    "warnings.filterwarnings('ignore',category=DeprecationWarning)\n",
    "import numpy as np\n",
    "import pandas as pd\n",
    "import matplotlib.pyplot as plt\n",
    "from sklearn.model_selection import train_test_split, cross_val_score, cross_validate, KFold\n",
    "import xgboost as xgb\n",
    "from sklearn.metrics import mean_squared_error, r2_score, mean_absolute_error\n",
    "from sklearn.preprocessing import MinMaxScaler"
   ]
  },
  {
   "cell_type": "code",
   "execution_count": 7,
   "id": "c019fe1f",
   "metadata": {},
   "outputs": [
    {
     "data": {
      "text/html": [
       "<div>\n",
       "<style scoped>\n",
       "    .dataframe tbody tr th:only-of-type {\n",
       "        vertical-align: middle;\n",
       "    }\n",
       "\n",
       "    .dataframe tbody tr th {\n",
       "        vertical-align: top;\n",
       "    }\n",
       "\n",
       "    .dataframe thead th {\n",
       "        text-align: right;\n",
       "    }\n",
       "</style>\n",
       "<table border=\"1\" class=\"dataframe\">\n",
       "  <thead>\n",
       "    <tr style=\"text-align: right;\">\n",
       "      <th></th>\n",
       "      <th>0</th>\n",
       "      <th>1</th>\n",
       "      <th>2</th>\n",
       "      <th>3</th>\n",
       "      <th>4</th>\n",
       "      <th>5</th>\n",
       "      <th>6</th>\n",
       "      <th>7</th>\n",
       "      <th>8</th>\n",
       "      <th>9</th>\n",
       "      <th>...</th>\n",
       "      <th>41</th>\n",
       "      <th>42</th>\n",
       "      <th>43</th>\n",
       "      <th>44</th>\n",
       "      <th>45</th>\n",
       "      <th>46</th>\n",
       "      <th>47</th>\n",
       "      <th>48</th>\n",
       "      <th>49</th>\n",
       "      <th>50</th>\n",
       "    </tr>\n",
       "  </thead>\n",
       "  <tbody>\n",
       "    <tr>\n",
       "      <th>0</th>\n",
       "      <td>2.964</td>\n",
       "      <td>2.322959</td>\n",
       "      <td>1.544607</td>\n",
       "      <td>0.778310</td>\n",
       "      <td>1.962012</td>\n",
       "      <td>2.677445</td>\n",
       "      <td>0.237877</td>\n",
       "      <td>0.689194</td>\n",
       "      <td>0.358525</td>\n",
       "      <td>0.814643</td>\n",
       "      <td>...</td>\n",
       "      <td>0.898895</td>\n",
       "      <td>0.203825</td>\n",
       "      <td>0.221624</td>\n",
       "      <td>0.319531</td>\n",
       "      <td>0.830996</td>\n",
       "      <td>0.924987</td>\n",
       "      <td>0.219128</td>\n",
       "      <td>0.274880</td>\n",
       "      <td>0.990488</td>\n",
       "      <td>0.779475</td>\n",
       "    </tr>\n",
       "    <tr>\n",
       "      <th>1</th>\n",
       "      <td>2.584</td>\n",
       "      <td>2.371797</td>\n",
       "      <td>1.544607</td>\n",
       "      <td>0.778310</td>\n",
       "      <td>1.962012</td>\n",
       "      <td>2.733737</td>\n",
       "      <td>0.192929</td>\n",
       "      <td>0.558967</td>\n",
       "      <td>0.358525</td>\n",
       "      <td>0.660712</td>\n",
       "      <td>...</td>\n",
       "      <td>0.917793</td>\n",
       "      <td>0.165311</td>\n",
       "      <td>0.179747</td>\n",
       "      <td>0.319531</td>\n",
       "      <td>0.848467</td>\n",
       "      <td>0.944434</td>\n",
       "      <td>0.177722</td>\n",
       "      <td>0.222940</td>\n",
       "      <td>1.011313</td>\n",
       "      <td>0.795863</td>\n",
       "    </tr>\n",
       "    <tr>\n",
       "      <th>2</th>\n",
       "      <td>3.071</td>\n",
       "      <td>2.415961</td>\n",
       "      <td>1.319880</td>\n",
       "      <td>0.665072</td>\n",
       "      <td>1.676555</td>\n",
       "      <td>2.784640</td>\n",
       "      <td>0.382869</td>\n",
       "      <td>1.109272</td>\n",
       "      <td>0.377198</td>\n",
       "      <td>1.311186</td>\n",
       "      <td>...</td>\n",
       "      <td>0.934883</td>\n",
       "      <td>0.328060</td>\n",
       "      <td>0.356708</td>\n",
       "      <td>0.336174</td>\n",
       "      <td>0.864266</td>\n",
       "      <td>0.962019</td>\n",
       "      <td>0.352691</td>\n",
       "      <td>0.442426</td>\n",
       "      <td>1.030144</td>\n",
       "      <td>0.810682</td>\n",
       "    </tr>\n",
       "    <tr>\n",
       "      <th>3</th>\n",
       "      <td>2.694</td>\n",
       "      <td>2.302538</td>\n",
       "      <td>1.319880</td>\n",
       "      <td>0.665072</td>\n",
       "      <td>1.676555</td>\n",
       "      <td>2.653908</td>\n",
       "      <td>0.442052</td>\n",
       "      <td>1.280743</td>\n",
       "      <td>0.377198</td>\n",
       "      <td>1.513868</td>\n",
       "      <td>...</td>\n",
       "      <td>0.890992</td>\n",
       "      <td>0.378772</td>\n",
       "      <td>0.411848</td>\n",
       "      <td>0.336174</td>\n",
       "      <td>0.823691</td>\n",
       "      <td>0.916855</td>\n",
       "      <td>0.407209</td>\n",
       "      <td>0.510816</td>\n",
       "      <td>0.981781</td>\n",
       "      <td>0.772623</td>\n",
       "    </tr>\n",
       "    <tr>\n",
       "      <th>4</th>\n",
       "      <td>2.569</td>\n",
       "      <td>2.363063</td>\n",
       "      <td>0.913154</td>\n",
       "      <td>0.460128</td>\n",
       "      <td>1.159919</td>\n",
       "      <td>2.723669</td>\n",
       "      <td>0.192242</td>\n",
       "      <td>0.556976</td>\n",
       "      <td>0.668500</td>\n",
       "      <td>0.658358</td>\n",
       "      <td>...</td>\n",
       "      <td>0.914413</td>\n",
       "      <td>0.164722</td>\n",
       "      <td>0.179106</td>\n",
       "      <td>0.595793</td>\n",
       "      <td>0.845343</td>\n",
       "      <td>0.940956</td>\n",
       "      <td>0.177089</td>\n",
       "      <td>0.222146</td>\n",
       "      <td>1.007588</td>\n",
       "      <td>0.792932</td>\n",
       "    </tr>\n",
       "    <tr>\n",
       "      <th>...</th>\n",
       "      <td>...</td>\n",
       "      <td>...</td>\n",
       "      <td>...</td>\n",
       "      <td>...</td>\n",
       "      <td>...</td>\n",
       "      <td>...</td>\n",
       "      <td>...</td>\n",
       "      <td>...</td>\n",
       "      <td>...</td>\n",
       "      <td>...</td>\n",
       "      <td>...</td>\n",
       "      <td>...</td>\n",
       "      <td>...</td>\n",
       "      <td>...</td>\n",
       "      <td>...</td>\n",
       "      <td>...</td>\n",
       "      <td>...</td>\n",
       "      <td>...</td>\n",
       "      <td>...</td>\n",
       "      <td>...</td>\n",
       "      <td>...</td>\n",
       "    </tr>\n",
       "    <tr>\n",
       "      <th>35131</th>\n",
       "      <td>1.664</td>\n",
       "      <td>2.244719</td>\n",
       "      <td>1.455982</td>\n",
       "      <td>0.733653</td>\n",
       "      <td>1.849437</td>\n",
       "      <td>2.587266</td>\n",
       "      <td>0.205654</td>\n",
       "      <td>0.595835</td>\n",
       "      <td>0.171793</td>\n",
       "      <td>0.704291</td>\n",
       "      <td>...</td>\n",
       "      <td>0.868619</td>\n",
       "      <td>0.176214</td>\n",
       "      <td>0.191602</td>\n",
       "      <td>0.153109</td>\n",
       "      <td>0.803007</td>\n",
       "      <td>0.893832</td>\n",
       "      <td>0.189444</td>\n",
       "      <td>0.237645</td>\n",
       "      <td>0.957128</td>\n",
       "      <td>0.753222</td>\n",
       "    </tr>\n",
       "    <tr>\n",
       "      <th>35132</th>\n",
       "      <td>1.659</td>\n",
       "      <td>2.136340</td>\n",
       "      <td>1.201186</td>\n",
       "      <td>0.605264</td>\n",
       "      <td>1.525786</td>\n",
       "      <td>2.462348</td>\n",
       "      <td>0.201219</td>\n",
       "      <td>0.582985</td>\n",
       "      <td>0.067223</td>\n",
       "      <td>0.689101</td>\n",
       "      <td>...</td>\n",
       "      <td>0.826680</td>\n",
       "      <td>0.172414</td>\n",
       "      <td>0.187470</td>\n",
       "      <td>0.059912</td>\n",
       "      <td>0.764237</td>\n",
       "      <td>0.850676</td>\n",
       "      <td>0.185359</td>\n",
       "      <td>0.232519</td>\n",
       "      <td>0.910916</td>\n",
       "      <td>0.716855</td>\n",
       "    </tr>\n",
       "    <tr>\n",
       "      <th>35133</th>\n",
       "      <td>1.664</td>\n",
       "      <td>2.192805</td>\n",
       "      <td>1.201186</td>\n",
       "      <td>0.605264</td>\n",
       "      <td>1.525786</td>\n",
       "      <td>2.527430</td>\n",
       "      <td>0.228585</td>\n",
       "      <td>0.662271</td>\n",
       "      <td>0.067223</td>\n",
       "      <td>0.782819</td>\n",
       "      <td>...</td>\n",
       "      <td>0.848530</td>\n",
       "      <td>0.195862</td>\n",
       "      <td>0.212966</td>\n",
       "      <td>0.059912</td>\n",
       "      <td>0.784436</td>\n",
       "      <td>0.873160</td>\n",
       "      <td>0.210568</td>\n",
       "      <td>0.264142</td>\n",
       "      <td>0.934992</td>\n",
       "      <td>0.735802</td>\n",
       "    </tr>\n",
       "    <tr>\n",
       "      <th>35134</th>\n",
       "      <td>1.697</td>\n",
       "      <td>1.446083</td>\n",
       "      <td>0.259545</td>\n",
       "      <td>0.130782</td>\n",
       "      <td>0.329682</td>\n",
       "      <td>1.666757</td>\n",
       "      <td>0.189302</td>\n",
       "      <td>0.548459</td>\n",
       "      <td>0.070958</td>\n",
       "      <td>0.648292</td>\n",
       "      <td>...</td>\n",
       "      <td>0.559578</td>\n",
       "      <td>0.162203</td>\n",
       "      <td>0.176368</td>\n",
       "      <td>0.063241</td>\n",
       "      <td>0.517310</td>\n",
       "      <td>0.575820</td>\n",
       "      <td>0.174381</td>\n",
       "      <td>0.218749</td>\n",
       "      <td>0.616596</td>\n",
       "      <td>0.485237</td>\n",
       "    </tr>\n",
       "    <tr>\n",
       "      <th>35135</th>\n",
       "      <td>1.673</td>\n",
       "      <td>1.174827</td>\n",
       "      <td>0.259545</td>\n",
       "      <td>0.130782</td>\n",
       "      <td>0.329682</td>\n",
       "      <td>1.354107</td>\n",
       "      <td>0.208899</td>\n",
       "      <td>0.605235</td>\n",
       "      <td>0.070958</td>\n",
       "      <td>0.715402</td>\n",
       "      <td>...</td>\n",
       "      <td>0.454612</td>\n",
       "      <td>0.178994</td>\n",
       "      <td>0.194625</td>\n",
       "      <td>0.063241</td>\n",
       "      <td>0.420273</td>\n",
       "      <td>0.467808</td>\n",
       "      <td>0.192433</td>\n",
       "      <td>0.241394</td>\n",
       "      <td>0.500935</td>\n",
       "      <td>0.394216</td>\n",
       "    </tr>\n",
       "  </tbody>\n",
       "</table>\n",
       "<p>35136 rows × 51 columns</p>\n",
       "</div>"
      ],
      "text/plain": [
       "          0         1         2         3         4         5         6   \\\n",
       "0      2.964  2.322959  1.544607  0.778310  1.962012  2.677445  0.237877   \n",
       "1      2.584  2.371797  1.544607  0.778310  1.962012  2.733737  0.192929   \n",
       "2      3.071  2.415961  1.319880  0.665072  1.676555  2.784640  0.382869   \n",
       "3      2.694  2.302538  1.319880  0.665072  1.676555  2.653908  0.442052   \n",
       "4      2.569  2.363063  0.913154  0.460128  1.159919  2.723669  0.192242   \n",
       "...      ...       ...       ...       ...       ...       ...       ...   \n",
       "35131  1.664  2.244719  1.455982  0.733653  1.849437  2.587266  0.205654   \n",
       "35132  1.659  2.136340  1.201186  0.605264  1.525786  2.462348  0.201219   \n",
       "35133  1.664  2.192805  1.201186  0.605264  1.525786  2.527430  0.228585   \n",
       "35134  1.697  1.446083  0.259545  0.130782  0.329682  1.666757  0.189302   \n",
       "35135  1.673  1.174827  0.259545  0.130782  0.329682  1.354107  0.208899   \n",
       "\n",
       "             7         8         9   ...        41        42        43  \\\n",
       "0      0.689194  0.358525  0.814643  ...  0.898895  0.203825  0.221624   \n",
       "1      0.558967  0.358525  0.660712  ...  0.917793  0.165311  0.179747   \n",
       "2      1.109272  0.377198  1.311186  ...  0.934883  0.328060  0.356708   \n",
       "3      1.280743  0.377198  1.513868  ...  0.890992  0.378772  0.411848   \n",
       "4      0.556976  0.668500  0.658358  ...  0.914413  0.164722  0.179106   \n",
       "...         ...       ...       ...  ...       ...       ...       ...   \n",
       "35131  0.595835  0.171793  0.704291  ...  0.868619  0.176214  0.191602   \n",
       "35132  0.582985  0.067223  0.689101  ...  0.826680  0.172414  0.187470   \n",
       "35133  0.662271  0.067223  0.782819  ...  0.848530  0.195862  0.212966   \n",
       "35134  0.548459  0.070958  0.648292  ...  0.559578  0.162203  0.176368   \n",
       "35135  0.605235  0.070958  0.715402  ...  0.454612  0.178994  0.194625   \n",
       "\n",
       "             44        45        46        47        48        49        50  \n",
       "0      0.319531  0.830996  0.924987  0.219128  0.274880  0.990488  0.779475  \n",
       "1      0.319531  0.848467  0.944434  0.177722  0.222940  1.011313  0.795863  \n",
       "2      0.336174  0.864266  0.962019  0.352691  0.442426  1.030144  0.810682  \n",
       "3      0.336174  0.823691  0.916855  0.407209  0.510816  0.981781  0.772623  \n",
       "4      0.595793  0.845343  0.940956  0.177089  0.222146  1.007588  0.792932  \n",
       "...         ...       ...       ...       ...       ...       ...       ...  \n",
       "35131  0.153109  0.803007  0.893832  0.189444  0.237645  0.957128  0.753222  \n",
       "35132  0.059912  0.764237  0.850676  0.185359  0.232519  0.910916  0.716855  \n",
       "35133  0.059912  0.784436  0.873160  0.210568  0.264142  0.934992  0.735802  \n",
       "35134  0.063241  0.517310  0.575820  0.174381  0.218749  0.616596  0.485237  \n",
       "35135  0.063241  0.420273  0.467808  0.192433  0.241394  0.500935  0.394216  \n",
       "\n",
       "[35136 rows x 51 columns]"
      ]
     },
     "execution_count": 7,
     "metadata": {},
     "output_type": "execute_result"
    }
   ],
   "source": [
    "data = pd.read_excel(\"../Dataset.xlsx\", sheet_name=['Total Consumers'])\n",
    "df = data['Total Consumers']\n",
    "df"
   ]
  },
  {
   "cell_type": "code",
   "execution_count": 11,
   "id": "2fa5e9ea",
   "metadata": {},
   "outputs": [
    {
     "data": {
      "text/html": [
       "<div>\n",
       "<style scoped>\n",
       "    .dataframe tbody tr th:only-of-type {\n",
       "        vertical-align: middle;\n",
       "    }\n",
       "\n",
       "    .dataframe tbody tr th {\n",
       "        vertical-align: top;\n",
       "    }\n",
       "\n",
       "    .dataframe thead th {\n",
       "        text-align: right;\n",
       "    }\n",
       "</style>\n",
       "<table border=\"1\" class=\"dataframe\">\n",
       "  <thead>\n",
       "    <tr style=\"text-align: right;\">\n",
       "      <th></th>\n",
       "      <th>Time</th>\n",
       "      <th>Location</th>\n",
       "      <th>Energy</th>\n",
       "    </tr>\n",
       "  </thead>\n",
       "  <tbody>\n",
       "    <tr>\n",
       "      <th>0</th>\n",
       "      <td>2019-01-01 00:00:00</td>\n",
       "      <td>0</td>\n",
       "      <td>2.964000</td>\n",
       "    </tr>\n",
       "    <tr>\n",
       "      <th>1</th>\n",
       "      <td>2019-01-01 00:15:00</td>\n",
       "      <td>0</td>\n",
       "      <td>2.584000</td>\n",
       "    </tr>\n",
       "    <tr>\n",
       "      <th>2</th>\n",
       "      <td>2019-01-01 00:30:00</td>\n",
       "      <td>0</td>\n",
       "      <td>3.071000</td>\n",
       "    </tr>\n",
       "    <tr>\n",
       "      <th>3</th>\n",
       "      <td>2019-01-01 00:45:00</td>\n",
       "      <td>0</td>\n",
       "      <td>2.694000</td>\n",
       "    </tr>\n",
       "    <tr>\n",
       "      <th>4</th>\n",
       "      <td>2019-01-01 01:00:00</td>\n",
       "      <td>0</td>\n",
       "      <td>2.569000</td>\n",
       "    </tr>\n",
       "    <tr>\n",
       "      <th>...</th>\n",
       "      <td>...</td>\n",
       "      <td>...</td>\n",
       "      <td>...</td>\n",
       "    </tr>\n",
       "    <tr>\n",
       "      <th>1791931</th>\n",
       "      <td>2020-01-01 22:45:00</td>\n",
       "      <td>50</td>\n",
       "      <td>0.753222</td>\n",
       "    </tr>\n",
       "    <tr>\n",
       "      <th>1791932</th>\n",
       "      <td>2020-01-01 23:00:00</td>\n",
       "      <td>50</td>\n",
       "      <td>0.716855</td>\n",
       "    </tr>\n",
       "    <tr>\n",
       "      <th>1791933</th>\n",
       "      <td>2020-01-01 23:15:00</td>\n",
       "      <td>50</td>\n",
       "      <td>0.735802</td>\n",
       "    </tr>\n",
       "    <tr>\n",
       "      <th>1791934</th>\n",
       "      <td>2020-01-01 23:30:00</td>\n",
       "      <td>50</td>\n",
       "      <td>0.485237</td>\n",
       "    </tr>\n",
       "    <tr>\n",
       "      <th>1791935</th>\n",
       "      <td>2020-01-01 23:45:00</td>\n",
       "      <td>50</td>\n",
       "      <td>0.394216</td>\n",
       "    </tr>\n",
       "  </tbody>\n",
       "</table>\n",
       "<p>1791936 rows × 3 columns</p>\n",
       "</div>"
      ],
      "text/plain": [
       "                       Time  Location    Energy\n",
       "0       2019-01-01 00:00:00         0  2.964000\n",
       "1       2019-01-01 00:15:00         0  2.584000\n",
       "2       2019-01-01 00:30:00         0  3.071000\n",
       "3       2019-01-01 00:45:00         0  2.694000\n",
       "4       2019-01-01 01:00:00         0  2.569000\n",
       "...                     ...       ...       ...\n",
       "1791931 2020-01-01 22:45:00        50  0.753222\n",
       "1791932 2020-01-01 23:00:00        50  0.716855\n",
       "1791933 2020-01-01 23:15:00        50  0.735802\n",
       "1791934 2020-01-01 23:30:00        50  0.485237\n",
       "1791935 2020-01-01 23:45:00        50  0.394216\n",
       "\n",
       "[1791936 rows x 3 columns]"
      ]
     },
     "execution_count": 11,
     "metadata": {},
     "output_type": "execute_result"
    }
   ],
   "source": [
    "df_location = pd.read_pickle(\"df_location.pkl\")\n",
    "df_location.reset_index(drop=True, inplace=True)\n",
    "df_location = df_location.iloc[:, [0, 2, 1]]\n",
    "df_location"
   ]
  },
  {
   "cell_type": "code",
   "execution_count": 24,
   "id": "c471b7c6",
   "metadata": {},
   "outputs": [],
   "source": [
    "num_samples_per_house = 35136\n",
    "num_houses = 51"
   ]
  },
  {
   "cell_type": "code",
   "execution_count": 25,
   "id": "f90d489b",
   "metadata": {},
   "outputs": [],
   "source": [
    "def no_ml_predict(X, y):\n",
    "    mse = mean_squared_error(X, y)\n",
    "    wape = np.round(mean_absolute_error(X,y) / y.mean(), 2)\n",
    "    r2 = r2_score(X, y)\n",
    "    \n",
    "    print('MSE: %.4f' % mse)\n",
    "    print('WAPE: %.4f' % (wape * 100))\n",
    "    print('R2: %.4f' % r2)\n",
    "    return mse, wape, r2\n",
    "    \n",
    "def plot_results(preds: np.array, actuals: np.array, title: str):\n",
    "    \n",
    "    plt.scatter(actuals, preds, c='b', label='predicted')\n",
    "    plt.xlabel('actual')\n",
    "    plt.ylabel('predicted')\n",
    "    plt.title(title)\n",
    "    plt.xlim(0, plt.xlim()[1])\n",
    "    plt.ylim(0, plt.ylim()[1])\n",
    "    _ = plt.plot([0, 100], [0, 100], '--r', label='y=x')\n",
    "    plt.legend()\n",
    "    plt.show()\n",
    "    \n",
    "def total_averaged_metrics(metrics_list):\n",
    "    mse = np.round(sum(i for i, j, k in metrics_list)/len(metrics_list),3)\n",
    "    mape = np.round(sum(j for i, j, k in metrics_list)/len(metrics_list),3)\n",
    "    r2 = np.round(sum(k for i, j, k in metrics_list)/len(metrics_list),3)\n",
    "    print(\"Total Averaged MSE: {}\".format(mse))\n",
    "    print(\"Total Averaged WAPE: {}\".format(wape * 100))\n",
    "    print(\"Total Averaged R2: {}\".format(r2))\n",
    "    return mse, wape, r2"
   ]
  },
  {
   "cell_type": "code",
   "execution_count": 5,
   "id": "e8d58ba8",
   "metadata": {},
   "outputs": [],
   "source": [
    "def normalize_training(X_train):\n",
    "    scaler = MinMaxScaler(feature_range=(0,1))\n",
    "    scaler.fit(X_train)\n",
    "    X_train = scaler.transform(X_train)\n",
    "    return X_train, scaler"
   ]
  },
  {
   "cell_type": "code",
   "execution_count": 4,
   "id": "4781f2b7",
   "metadata": {},
   "outputs": [
    {
     "data": {
      "text/html": [
       "<div>\n",
       "<style scoped>\n",
       "    .dataframe tbody tr th:only-of-type {\n",
       "        vertical-align: middle;\n",
       "    }\n",
       "\n",
       "    .dataframe tbody tr th {\n",
       "        vertical-align: top;\n",
       "    }\n",
       "\n",
       "    .dataframe thead th {\n",
       "        text-align: right;\n",
       "    }\n",
       "</style>\n",
       "<table border=\"1\" class=\"dataframe\">\n",
       "  <thead>\n",
       "    <tr style=\"text-align: right;\">\n",
       "      <th></th>\n",
       "      <th>Energy</th>\n",
       "    </tr>\n",
       "  </thead>\n",
       "  <tbody>\n",
       "    <tr>\n",
       "      <th>0</th>\n",
       "      <td>58.514142</td>\n",
       "    </tr>\n",
       "    <tr>\n",
       "      <th>1</th>\n",
       "      <td>57.575249</td>\n",
       "    </tr>\n",
       "    <tr>\n",
       "      <th>2</th>\n",
       "      <td>63.011688</td>\n",
       "    </tr>\n",
       "    <tr>\n",
       "      <th>3</th>\n",
       "      <td>62.735722</td>\n",
       "    </tr>\n",
       "    <tr>\n",
       "      <th>4</th>\n",
       "      <td>63.404029</td>\n",
       "    </tr>\n",
       "    <tr>\n",
       "      <th>...</th>\n",
       "      <td>...</td>\n",
       "    </tr>\n",
       "    <tr>\n",
       "      <th>35131</th>\n",
       "      <td>49.211311</td>\n",
       "    </tr>\n",
       "    <tr>\n",
       "      <th>35132</th>\n",
       "      <td>43.139892</td>\n",
       "    </tr>\n",
       "    <tr>\n",
       "      <th>35133</th>\n",
       "      <td>44.599341</td>\n",
       "    </tr>\n",
       "    <tr>\n",
       "      <th>35134</th>\n",
       "      <td>28.956084</td>\n",
       "    </tr>\n",
       "    <tr>\n",
       "      <th>35135</th>\n",
       "      <td>25.944837</td>\n",
       "    </tr>\n",
       "  </tbody>\n",
       "</table>\n",
       "<p>35136 rows × 1 columns</p>\n",
       "</div>"
      ],
      "text/plain": [
       "          Energy\n",
       "0      58.514142\n",
       "1      57.575249\n",
       "2      63.011688\n",
       "3      62.735722\n",
       "4      63.404029\n",
       "...          ...\n",
       "35131  49.211311\n",
       "35132  43.139892\n",
       "35133  44.599341\n",
       "35134  28.956084\n",
       "35135  25.944837\n",
       "\n",
       "[35136 rows x 1 columns]"
      ]
     },
     "execution_count": 4,
     "metadata": {},
     "output_type": "execute_result"
    }
   ],
   "source": [
    "df_total = pd.DataFrame(df.sum(axis=1))\n",
    "df_total.columns = ['Energy']\n",
    "df_total"
   ]
  },
  {
   "cell_type": "markdown",
   "id": "93b2814a",
   "metadata": {},
   "source": [
    "## Individual 51 houses preprocessing\n",
    "### Previous 15 minutes"
   ]
  },
  {
   "cell_type": "code",
   "execution_count": 90,
   "id": "c41925d7",
   "metadata": {},
   "outputs": [
    {
     "data": {
      "text/html": [
       "<div>\n",
       "<style scoped>\n",
       "    .dataframe tbody tr th:only-of-type {\n",
       "        vertical-align: middle;\n",
       "    }\n",
       "\n",
       "    .dataframe tbody tr th {\n",
       "        vertical-align: top;\n",
       "    }\n",
       "\n",
       "    .dataframe thead th {\n",
       "        text-align: right;\n",
       "    }\n",
       "</style>\n",
       "<table border=\"1\" class=\"dataframe\">\n",
       "  <thead>\n",
       "    <tr style=\"text-align: right;\">\n",
       "      <th></th>\n",
       "      <th>Energy</th>\n",
       "    </tr>\n",
       "  </thead>\n",
       "  <tbody>\n",
       "    <tr>\n",
       "      <th>0</th>\n",
       "      <td>2.964000</td>\n",
       "    </tr>\n",
       "    <tr>\n",
       "      <th>1</th>\n",
       "      <td>2.584000</td>\n",
       "    </tr>\n",
       "    <tr>\n",
       "      <th>2</th>\n",
       "      <td>3.071000</td>\n",
       "    </tr>\n",
       "    <tr>\n",
       "      <th>3</th>\n",
       "      <td>2.694000</td>\n",
       "    </tr>\n",
       "    <tr>\n",
       "      <th>4</th>\n",
       "      <td>2.569000</td>\n",
       "    </tr>\n",
       "    <tr>\n",
       "      <th>...</th>\n",
       "      <td>...</td>\n",
       "    </tr>\n",
       "    <tr>\n",
       "      <th>1791930</th>\n",
       "      <td>1.099100</td>\n",
       "    </tr>\n",
       "    <tr>\n",
       "      <th>1791931</th>\n",
       "      <td>0.753222</td>\n",
       "    </tr>\n",
       "    <tr>\n",
       "      <th>1791932</th>\n",
       "      <td>0.716855</td>\n",
       "    </tr>\n",
       "    <tr>\n",
       "      <th>1791933</th>\n",
       "      <td>0.735802</td>\n",
       "    </tr>\n",
       "    <tr>\n",
       "      <th>1791934</th>\n",
       "      <td>0.485237</td>\n",
       "    </tr>\n",
       "  </tbody>\n",
       "</table>\n",
       "<p>1791885 rows × 1 columns</p>\n",
       "</div>"
      ],
      "text/plain": [
       "           Energy\n",
       "0        2.964000\n",
       "1        2.584000\n",
       "2        3.071000\n",
       "3        2.694000\n",
       "4        2.569000\n",
       "...           ...\n",
       "1791930  1.099100\n",
       "1791931  0.753222\n",
       "1791932  0.716855\n",
       "1791933  0.735802\n",
       "1791934  0.485237\n",
       "\n",
       "[1791885 rows x 1 columns]"
      ]
     },
     "execution_count": 90,
     "metadata": {},
     "output_type": "execute_result"
    }
   ],
   "source": [
    "X15 = df_location.copy()\n",
    "m = len(X15)\n",
    "for i in range(1, num_houses):\n",
    "    X15.iloc[(num_samples_per_house*i)-1] = np.nan\n",
    "X15.dropna(inplace=True)\n",
    "m = len(X15)\n",
    "X15 = X15.iloc[0:(m-1)]\n",
    "X15.drop([\"Time\", \"Location\"],inplace=True, axis=1)\n",
    "X15"
   ]
  },
  {
   "cell_type": "code",
   "execution_count": 91,
   "id": "cb9c1131",
   "metadata": {},
   "outputs": [
    {
     "data": {
      "text/html": [
       "<div>\n",
       "<style scoped>\n",
       "    .dataframe tbody tr th:only-of-type {\n",
       "        vertical-align: middle;\n",
       "    }\n",
       "\n",
       "    .dataframe tbody tr th {\n",
       "        vertical-align: top;\n",
       "    }\n",
       "\n",
       "    .dataframe thead th {\n",
       "        text-align: right;\n",
       "    }\n",
       "</style>\n",
       "<table border=\"1\" class=\"dataframe\">\n",
       "  <thead>\n",
       "    <tr style=\"text-align: right;\">\n",
       "      <th></th>\n",
       "      <th>Energy</th>\n",
       "    </tr>\n",
       "  </thead>\n",
       "  <tbody>\n",
       "    <tr>\n",
       "      <th>0</th>\n",
       "      <td>2.584000</td>\n",
       "    </tr>\n",
       "    <tr>\n",
       "      <th>1</th>\n",
       "      <td>3.071000</td>\n",
       "    </tr>\n",
       "    <tr>\n",
       "      <th>2</th>\n",
       "      <td>2.694000</td>\n",
       "    </tr>\n",
       "    <tr>\n",
       "      <th>3</th>\n",
       "      <td>2.569000</td>\n",
       "    </tr>\n",
       "    <tr>\n",
       "      <th>4</th>\n",
       "      <td>3.174000</td>\n",
       "    </tr>\n",
       "    <tr>\n",
       "      <th>...</th>\n",
       "      <td>...</td>\n",
       "    </tr>\n",
       "    <tr>\n",
       "      <th>1791880</th>\n",
       "      <td>0.753222</td>\n",
       "    </tr>\n",
       "    <tr>\n",
       "      <th>1791881</th>\n",
       "      <td>0.716855</td>\n",
       "    </tr>\n",
       "    <tr>\n",
       "      <th>1791882</th>\n",
       "      <td>0.735802</td>\n",
       "    </tr>\n",
       "    <tr>\n",
       "      <th>1791883</th>\n",
       "      <td>0.485237</td>\n",
       "    </tr>\n",
       "    <tr>\n",
       "      <th>1791884</th>\n",
       "      <td>0.394216</td>\n",
       "    </tr>\n",
       "  </tbody>\n",
       "</table>\n",
       "<p>1791885 rows × 1 columns</p>\n",
       "</div>"
      ],
      "text/plain": [
       "           Energy\n",
       "0        2.584000\n",
       "1        3.071000\n",
       "2        2.694000\n",
       "3        2.569000\n",
       "4        3.174000\n",
       "...           ...\n",
       "1791880  0.753222\n",
       "1791881  0.716855\n",
       "1791882  0.735802\n",
       "1791883  0.485237\n",
       "1791884  0.394216\n",
       "\n",
       "[1791885 rows x 1 columns]"
      ]
     },
     "execution_count": 91,
     "metadata": {},
     "output_type": "execute_result"
    }
   ],
   "source": [
    "y15 = df_location.copy()\n",
    "for i in range(1, num_houses):\n",
    "    y15.iloc[(num_samples_per_house*i)] = np.nan\n",
    "y15.dropna(inplace=True)\n",
    "y15 = y15.iloc[1:].reset_index(drop=True)\n",
    "y15.drop([\"Time\", \"Location\"],inplace=True, axis=1)\n",
    "y15"
   ]
  },
  {
   "cell_type": "markdown",
   "id": "c66754cb",
   "metadata": {},
   "source": [
    "### Previous day at same hour"
   ]
  },
  {
   "cell_type": "markdown",
   "id": "75890a15",
   "metadata": {},
   "source": [
    "### Previous week same day and same hour"
   ]
  },
  {
   "cell_type": "markdown",
   "id": "af729849",
   "metadata": {},
   "source": [
    "## Prediction organized by location\n",
    "### Previous 15 minutes"
   ]
  },
  {
   "cell_type": "code",
   "execution_count": 126,
   "id": "ed8cca95",
   "metadata": {},
   "outputs": [
    {
     "data": {
      "text/plain": [
       "array([[0.06017541],\n",
       "       [0.05246061],\n",
       "       [0.06234773],\n",
       "       ...,\n",
       "       [0.01455365],\n",
       "       [0.01493832],\n",
       "       [0.00985133]])"
      ]
     },
     "execution_count": 126,
     "metadata": {},
     "output_type": "execute_result"
    }
   ],
   "source": [
    "X15_norm, scaler = normalize_training(X15)\n",
    "y15_norm = scaler.transform(y15)\n",
    "X15_norm"
   ]
  },
  {
   "cell_type": "code",
   "execution_count": 127,
   "id": "34e3fc8f",
   "metadata": {},
   "outputs": [
    {
     "name": "stdout",
     "output_type": "stream",
     "text": [
      "MSE: 0.0001\n",
      "WAPE: 29.0000\n",
      "R2: 0.8099\n"
     ]
    }
   ],
   "source": [
    "mse_15, wape_15, r2_15 = no_ml_predict(X15_norm, y15_norm)"
   ]
  },
  {
   "cell_type": "code",
   "execution_count": 128,
   "id": "76bfa16c",
   "metadata": {},
   "outputs": [
    {
     "name": "stdout",
     "output_type": "stream",
     "text": [
      "MSE: 0.2232\n",
      "WAPE: 29.0000\n",
      "R2: 0.8099\n"
     ]
    }
   ],
   "source": [
    "mse_15, wape_15, r2_15 = no_ml_predict(X15, y15)"
   ]
  },
  {
   "cell_type": "code",
   "execution_count": 118,
   "id": "27a64d51",
   "metadata": {},
   "outputs": [
    {
     "data": {
      "image/png": "[encoded data removed]",
      "text/plain": [
       "<Figure size 432x288 with 1 Axes>"
      ]
     },
     "metadata": {
      "needs_background": "light"
     },
     "output_type": "display_data"
    }
   ],
   "source": [
    "plot_results(X15, y15, \"Last 15 organized by location\")"
   ]
  },
  {
   "cell_type": "markdown",
   "id": "e9f81d2d",
   "metadata": {},
   "source": [
    "### Previous day at same hour"
   ]
  },
  {
   "cell_type": "markdown",
   "id": "5b2fa11e",
   "metadata": {},
   "source": [
    "### Previous week same day and same hour"
   ]
  },
  {
   "cell_type": "markdown",
   "id": "9a14e754",
   "metadata": {},
   "source": [
    "# Average of individual houses"
   ]
  },
  {
   "cell_type": "code",
   "execution_count": 12,
   "id": "80864a99",
   "metadata": {},
   "outputs": [
    {
     "name": "stdout",
     "output_type": "stream",
     "text": [
      "Total Averaged MSE: 0.223\n",
      "Total Averaged RMSE: 0.426\n",
      "Total Averaged MAE: 0.219\n",
      "Total Averaged MAPE: 30.3\n",
      "Total Averaged R2: 0.593\n"
     ]
    }
   ],
   "source": [
    "mse_15, rmse_15, mae_15, mape_15, r2_15 = total_averaged_metrics(metrics_15_list)"
   ]
  },
  {
   "cell_type": "code",
   "execution_count": 13,
   "id": "93ea4823",
   "metadata": {},
   "outputs": [
    {
     "name": "stdout",
     "output_type": "stream",
     "text": [
      "Total Averaged MSE: 0.86\n",
      "Total Averaged RMSE: 0.764\n",
      "Total Averaged MAE: 0.458\n",
      "Total Averaged MAPE: 62.1\n",
      "Total Averaged R2: -0.124\n"
     ]
    }
   ],
   "source": [
    "mse_prev_day, rmse_prev_day, mae_prev_day, mape_prev_day, r2_prev_day = total_averaged_metrics(metrics_day_list)"
   ]
  },
  {
   "cell_type": "code",
   "execution_count": 14,
   "id": "216bb207",
   "metadata": {},
   "outputs": [
    {
     "name": "stdout",
     "output_type": "stream",
     "text": [
      "Total Averaged MSE: 1.179\n",
      "Total Averaged RMSE: 0.83\n",
      "Total Averaged MAE: 0.49\n",
      "Total Averaged MAPE: 66.2\n",
      "Total Averaged R2: -0.252\n"
     ]
    }
   ],
   "source": [
    "mse_prev_week, rmse_prev_week, mae_prev_week, mape_prev_week, r2_prev_week = total_averaged_metrics(metrics_week_list)"
   ]
  },
  {
   "cell_type": "markdown",
   "id": "bb497fff",
   "metadata": {},
   "source": [
    "# Sum of all houses preprocessing\n",
    "### Previous 15 minutes prediction data"
   ]
  },
  {
   "cell_type": "code",
   "execution_count": 96,
   "id": "0a2a0271",
   "metadata": {
    "scrolled": false
   },
   "outputs": [
    {
     "data": {
      "text/html": [
       "<div>\n",
       "<style scoped>\n",
       "    .dataframe tbody tr th:only-of-type {\n",
       "        vertical-align: middle;\n",
       "    }\n",
       "\n",
       "    .dataframe tbody tr th {\n",
       "        vertical-align: top;\n",
       "    }\n",
       "\n",
       "    .dataframe thead th {\n",
       "        text-align: right;\n",
       "    }\n",
       "</style>\n",
       "<table border=\"1\" class=\"dataframe\">\n",
       "  <thead>\n",
       "    <tr style=\"text-align: right;\">\n",
       "      <th></th>\n",
       "      <th>Energy</th>\n",
       "    </tr>\n",
       "  </thead>\n",
       "  <tbody>\n",
       "    <tr>\n",
       "      <th>0</th>\n",
       "      <td>58.514142</td>\n",
       "    </tr>\n",
       "    <tr>\n",
       "      <th>1</th>\n",
       "      <td>57.575249</td>\n",
       "    </tr>\n",
       "    <tr>\n",
       "      <th>2</th>\n",
       "      <td>63.011688</td>\n",
       "    </tr>\n",
       "    <tr>\n",
       "      <th>3</th>\n",
       "      <td>62.735722</td>\n",
       "    </tr>\n",
       "    <tr>\n",
       "      <th>4</th>\n",
       "      <td>63.404029</td>\n",
       "    </tr>\n",
       "    <tr>\n",
       "      <th>...</th>\n",
       "      <td>...</td>\n",
       "    </tr>\n",
       "    <tr>\n",
       "      <th>35130</th>\n",
       "      <td>62.642645</td>\n",
       "    </tr>\n",
       "    <tr>\n",
       "      <th>35131</th>\n",
       "      <td>49.211311</td>\n",
       "    </tr>\n",
       "    <tr>\n",
       "      <th>35132</th>\n",
       "      <td>43.139892</td>\n",
       "    </tr>\n",
       "    <tr>\n",
       "      <th>35133</th>\n",
       "      <td>44.599341</td>\n",
       "    </tr>\n",
       "    <tr>\n",
       "      <th>35134</th>\n",
       "      <td>28.956084</td>\n",
       "    </tr>\n",
       "  </tbody>\n",
       "</table>\n",
       "<p>35135 rows × 1 columns</p>\n",
       "</div>"
      ],
      "text/plain": [
       "          Energy\n",
       "0      58.514142\n",
       "1      57.575249\n",
       "2      63.011688\n",
       "3      62.735722\n",
       "4      63.404029\n",
       "...          ...\n",
       "35130  62.642645\n",
       "35131  49.211311\n",
       "35132  43.139892\n",
       "35133  44.599341\n",
       "35134  28.956084\n",
       "\n",
       "[35135 rows x 1 columns]"
      ]
     },
     "execution_count": 96,
     "metadata": {},
     "output_type": "execute_result"
    }
   ],
   "source": [
    "X_total_15 = df_total.copy()\n",
    "m = len(X_total_15)\n",
    "X_total_15 = X_total_15.iloc[0:(m-1)]\n",
    "X_total_15"
   ]
  },
  {
   "cell_type": "code",
   "execution_count": 97,
   "id": "aa3b7450",
   "metadata": {},
   "outputs": [
    {
     "data": {
      "text/html": [
       "<div>\n",
       "<style scoped>\n",
       "    .dataframe tbody tr th:only-of-type {\n",
       "        vertical-align: middle;\n",
       "    }\n",
       "\n",
       "    .dataframe tbody tr th {\n",
       "        vertical-align: top;\n",
       "    }\n",
       "\n",
       "    .dataframe thead th {\n",
       "        text-align: right;\n",
       "    }\n",
       "</style>\n",
       "<table border=\"1\" class=\"dataframe\">\n",
       "  <thead>\n",
       "    <tr style=\"text-align: right;\">\n",
       "      <th></th>\n",
       "      <th>Energy</th>\n",
       "    </tr>\n",
       "  </thead>\n",
       "  <tbody>\n",
       "    <tr>\n",
       "      <th>0</th>\n",
       "      <td>57.575249</td>\n",
       "    </tr>\n",
       "    <tr>\n",
       "      <th>1</th>\n",
       "      <td>63.011688</td>\n",
       "    </tr>\n",
       "    <tr>\n",
       "      <th>2</th>\n",
       "      <td>62.735722</td>\n",
       "    </tr>\n",
       "    <tr>\n",
       "      <th>3</th>\n",
       "      <td>63.404029</td>\n",
       "    </tr>\n",
       "    <tr>\n",
       "      <th>4</th>\n",
       "      <td>63.710440</td>\n",
       "    </tr>\n",
       "    <tr>\n",
       "      <th>...</th>\n",
       "      <td>...</td>\n",
       "    </tr>\n",
       "    <tr>\n",
       "      <th>35130</th>\n",
       "      <td>49.211311</td>\n",
       "    </tr>\n",
       "    <tr>\n",
       "      <th>35131</th>\n",
       "      <td>43.139892</td>\n",
       "    </tr>\n",
       "    <tr>\n",
       "      <th>35132</th>\n",
       "      <td>44.599341</td>\n",
       "    </tr>\n",
       "    <tr>\n",
       "      <th>35133</th>\n",
       "      <td>28.956084</td>\n",
       "    </tr>\n",
       "    <tr>\n",
       "      <th>35134</th>\n",
       "      <td>25.944837</td>\n",
       "    </tr>\n",
       "  </tbody>\n",
       "</table>\n",
       "<p>35135 rows × 1 columns</p>\n",
       "</div>"
      ],
      "text/plain": [
       "          Energy\n",
       "0      57.575249\n",
       "1      63.011688\n",
       "2      62.735722\n",
       "3      63.404029\n",
       "4      63.710440\n",
       "...          ...\n",
       "35130  49.211311\n",
       "35131  43.139892\n",
       "35132  44.599341\n",
       "35133  28.956084\n",
       "35134  25.944837\n",
       "\n",
       "[35135 rows x 1 columns]"
      ]
     },
     "execution_count": 97,
     "metadata": {},
     "output_type": "execute_result"
    }
   ],
   "source": [
    "y_total_15 = df_total.copy()\n",
    "y_total_15 = y_total_15.iloc[1:].reset_index(drop=True)\n",
    "y_total_15"
   ]
  },
  {
   "cell_type": "code",
   "execution_count": 129,
   "id": "ba73451f",
   "metadata": {},
   "outputs": [],
   "source": [
    "X_total_15_norm, scaler = normalize_training(X_total_15)\n",
    "y_total_15_norm = scaler.transform(y_total_15)"
   ]
  },
  {
   "cell_type": "markdown",
   "id": "837c59da",
   "metadata": {},
   "source": [
    "### Previous day at same hour prediction data"
   ]
  },
  {
   "cell_type": "code",
   "execution_count": 130,
   "id": "e30a5f77",
   "metadata": {},
   "outputs": [
    {
     "data": {
      "text/html": [
       "<div>\n",
       "<style scoped>\n",
       "    .dataframe tbody tr th:only-of-type {\n",
       "        vertical-align: middle;\n",
       "    }\n",
       "\n",
       "    .dataframe tbody tr th {\n",
       "        vertical-align: top;\n",
       "    }\n",
       "\n",
       "    .dataframe thead th {\n",
       "        text-align: right;\n",
       "    }\n",
       "</style>\n",
       "<table border=\"1\" class=\"dataframe\">\n",
       "  <thead>\n",
       "    <tr style=\"text-align: right;\">\n",
       "      <th></th>\n",
       "      <th>Energy</th>\n",
       "    </tr>\n",
       "  </thead>\n",
       "  <tbody>\n",
       "    <tr>\n",
       "      <th>0</th>\n",
       "      <td>58.514142</td>\n",
       "    </tr>\n",
       "    <tr>\n",
       "      <th>1</th>\n",
       "      <td>57.575249</td>\n",
       "    </tr>\n",
       "    <tr>\n",
       "      <th>2</th>\n",
       "      <td>63.011688</td>\n",
       "    </tr>\n",
       "    <tr>\n",
       "      <th>3</th>\n",
       "      <td>62.735722</td>\n",
       "    </tr>\n",
       "    <tr>\n",
       "      <th>4</th>\n",
       "      <td>63.404029</td>\n",
       "    </tr>\n",
       "    <tr>\n",
       "      <th>...</th>\n",
       "      <td>...</td>\n",
       "    </tr>\n",
       "    <tr>\n",
       "      <th>35035</th>\n",
       "      <td>59.032763</td>\n",
       "    </tr>\n",
       "    <tr>\n",
       "      <th>35036</th>\n",
       "      <td>61.748938</td>\n",
       "    </tr>\n",
       "    <tr>\n",
       "      <th>35037</th>\n",
       "      <td>68.822483</td>\n",
       "    </tr>\n",
       "    <tr>\n",
       "      <th>35038</th>\n",
       "      <td>52.902303</td>\n",
       "    </tr>\n",
       "    <tr>\n",
       "      <th>35039</th>\n",
       "      <td>65.831927</td>\n",
       "    </tr>\n",
       "  </tbody>\n",
       "</table>\n",
       "<p>35040 rows × 1 columns</p>\n",
       "</div>"
      ],
      "text/plain": [
       "          Energy\n",
       "0      58.514142\n",
       "1      57.575249\n",
       "2      63.011688\n",
       "3      62.735722\n",
       "4      63.404029\n",
       "...          ...\n",
       "35035  59.032763\n",
       "35036  61.748938\n",
       "35037  68.822483\n",
       "35038  52.902303\n",
       "35039  65.831927\n",
       "\n",
       "[35040 rows x 1 columns]"
      ]
     },
     "execution_count": 130,
     "metadata": {},
     "output_type": "execute_result"
    }
   ],
   "source": [
    "X_total_prev_day = df_total.copy()\n",
    "m = len(X_total_prev_day)\n",
    "X_total_prev_day = X_total_prev_day.iloc[0:(m-96)]\n",
    "X_total_prev_day"
   ]
  },
  {
   "cell_type": "code",
   "execution_count": 131,
   "id": "46eabda7",
   "metadata": {},
   "outputs": [
    {
     "data": {
      "text/html": [
       "<div>\n",
       "<style scoped>\n",
       "    .dataframe tbody tr th:only-of-type {\n",
       "        vertical-align: middle;\n",
       "    }\n",
       "\n",
       "    .dataframe tbody tr th {\n",
       "        vertical-align: top;\n",
       "    }\n",
       "\n",
       "    .dataframe thead th {\n",
       "        text-align: right;\n",
       "    }\n",
       "</style>\n",
       "<table border=\"1\" class=\"dataframe\">\n",
       "  <thead>\n",
       "    <tr style=\"text-align: right;\">\n",
       "      <th></th>\n",
       "      <th>Energy</th>\n",
       "    </tr>\n",
       "  </thead>\n",
       "  <tbody>\n",
       "    <tr>\n",
       "      <th>0</th>\n",
       "      <td>75.988362</td>\n",
       "    </tr>\n",
       "    <tr>\n",
       "      <th>1</th>\n",
       "      <td>73.248235</td>\n",
       "    </tr>\n",
       "    <tr>\n",
       "      <th>2</th>\n",
       "      <td>29.228225</td>\n",
       "    </tr>\n",
       "    <tr>\n",
       "      <th>3</th>\n",
       "      <td>26.668414</td>\n",
       "    </tr>\n",
       "    <tr>\n",
       "      <th>4</th>\n",
       "      <td>22.221842</td>\n",
       "    </tr>\n",
       "    <tr>\n",
       "      <th>...</th>\n",
       "      <td>...</td>\n",
       "    </tr>\n",
       "    <tr>\n",
       "      <th>35035</th>\n",
       "      <td>49.211311</td>\n",
       "    </tr>\n",
       "    <tr>\n",
       "      <th>35036</th>\n",
       "      <td>43.139892</td>\n",
       "    </tr>\n",
       "    <tr>\n",
       "      <th>35037</th>\n",
       "      <td>44.599341</td>\n",
       "    </tr>\n",
       "    <tr>\n",
       "      <th>35038</th>\n",
       "      <td>28.956084</td>\n",
       "    </tr>\n",
       "    <tr>\n",
       "      <th>35039</th>\n",
       "      <td>25.944837</td>\n",
       "    </tr>\n",
       "  </tbody>\n",
       "</table>\n",
       "<p>35040 rows × 1 columns</p>\n",
       "</div>"
      ],
      "text/plain": [
       "          Energy\n",
       "0      75.988362\n",
       "1      73.248235\n",
       "2      29.228225\n",
       "3      26.668414\n",
       "4      22.221842\n",
       "...          ...\n",
       "35035  49.211311\n",
       "35036  43.139892\n",
       "35037  44.599341\n",
       "35038  28.956084\n",
       "35039  25.944837\n",
       "\n",
       "[35040 rows x 1 columns]"
      ]
     },
     "execution_count": 131,
     "metadata": {},
     "output_type": "execute_result"
    }
   ],
   "source": [
    "y_total_prev_day = df_total.copy()\n",
    "y_total_prev_day = y_total_prev_day.iloc[96:].reset_index(drop=True)\n",
    "y_total_prev_day"
   ]
  },
  {
   "cell_type": "code",
   "execution_count": 132,
   "id": "371de7ac",
   "metadata": {},
   "outputs": [],
   "source": [
    "X_total_prev_day_norm, scaler = normalize_training(X_total_prev_day)\n",
    "y_total_prev_day_norm = scaler.transform(y_total_prev_day)"
   ]
  },
  {
   "cell_type": "markdown",
   "id": "83c5e007",
   "metadata": {},
   "source": [
    "### Previous week same day at same hour prediction data"
   ]
  },
  {
   "cell_type": "code",
   "execution_count": 133,
   "id": "4152c794",
   "metadata": {},
   "outputs": [
    {
     "data": {
      "text/html": [
       "<div>\n",
       "<style scoped>\n",
       "    .dataframe tbody tr th:only-of-type {\n",
       "        vertical-align: middle;\n",
       "    }\n",
       "\n",
       "    .dataframe tbody tr th {\n",
       "        vertical-align: top;\n",
       "    }\n",
       "\n",
       "    .dataframe thead th {\n",
       "        text-align: right;\n",
       "    }\n",
       "</style>\n",
       "<table border=\"1\" class=\"dataframe\">\n",
       "  <thead>\n",
       "    <tr style=\"text-align: right;\">\n",
       "      <th></th>\n",
       "      <th>Energy</th>\n",
       "    </tr>\n",
       "  </thead>\n",
       "  <tbody>\n",
       "    <tr>\n",
       "      <th>0</th>\n",
       "      <td>58.514142</td>\n",
       "    </tr>\n",
       "    <tr>\n",
       "      <th>1</th>\n",
       "      <td>57.575249</td>\n",
       "    </tr>\n",
       "    <tr>\n",
       "      <th>2</th>\n",
       "      <td>63.011688</td>\n",
       "    </tr>\n",
       "    <tr>\n",
       "      <th>3</th>\n",
       "      <td>62.735722</td>\n",
       "    </tr>\n",
       "    <tr>\n",
       "      <th>4</th>\n",
       "      <td>63.404029</td>\n",
       "    </tr>\n",
       "    <tr>\n",
       "      <th>...</th>\n",
       "      <td>...</td>\n",
       "    </tr>\n",
       "    <tr>\n",
       "      <th>34459</th>\n",
       "      <td>101.276378</td>\n",
       "    </tr>\n",
       "    <tr>\n",
       "      <th>34460</th>\n",
       "      <td>97.925796</td>\n",
       "    </tr>\n",
       "    <tr>\n",
       "      <th>34461</th>\n",
       "      <td>106.449744</td>\n",
       "    </tr>\n",
       "    <tr>\n",
       "      <th>34462</th>\n",
       "      <td>109.448934</td>\n",
       "    </tr>\n",
       "    <tr>\n",
       "      <th>34463</th>\n",
       "      <td>89.688497</td>\n",
       "    </tr>\n",
       "  </tbody>\n",
       "</table>\n",
       "<p>34464 rows × 1 columns</p>\n",
       "</div>"
      ],
      "text/plain": [
       "           Energy\n",
       "0       58.514142\n",
       "1       57.575249\n",
       "2       63.011688\n",
       "3       62.735722\n",
       "4       63.404029\n",
       "...           ...\n",
       "34459  101.276378\n",
       "34460   97.925796\n",
       "34461  106.449744\n",
       "34462  109.448934\n",
       "34463   89.688497\n",
       "\n",
       "[34464 rows x 1 columns]"
      ]
     },
     "execution_count": 133,
     "metadata": {},
     "output_type": "execute_result"
    }
   ],
   "source": [
    "X_total_prev_week = df_total.copy()\n",
    "m = len(X_total_prev_week)\n",
    "X_total_prev_week = X_total_prev_week.iloc[0:(m-96*7)]\n",
    "X_total_prev_week"
   ]
  },
  {
   "cell_type": "code",
   "execution_count": 134,
   "id": "c79f6f5f",
   "metadata": {},
   "outputs": [
    {
     "data": {
      "text/html": [
       "<div>\n",
       "<style scoped>\n",
       "    .dataframe tbody tr th:only-of-type {\n",
       "        vertical-align: middle;\n",
       "    }\n",
       "\n",
       "    .dataframe tbody tr th {\n",
       "        vertical-align: top;\n",
       "    }\n",
       "\n",
       "    .dataframe thead th {\n",
       "        text-align: right;\n",
       "    }\n",
       "</style>\n",
       "<table border=\"1\" class=\"dataframe\">\n",
       "  <thead>\n",
       "    <tr style=\"text-align: right;\">\n",
       "      <th></th>\n",
       "      <th>Energy</th>\n",
       "    </tr>\n",
       "  </thead>\n",
       "  <tbody>\n",
       "    <tr>\n",
       "      <th>0</th>\n",
       "      <td>38.397391</td>\n",
       "    </tr>\n",
       "    <tr>\n",
       "      <th>1</th>\n",
       "      <td>38.792453</td>\n",
       "    </tr>\n",
       "    <tr>\n",
       "      <th>2</th>\n",
       "      <td>30.128606</td>\n",
       "    </tr>\n",
       "    <tr>\n",
       "      <th>3</th>\n",
       "      <td>30.302314</td>\n",
       "    </tr>\n",
       "    <tr>\n",
       "      <th>4</th>\n",
       "      <td>33.274138</td>\n",
       "    </tr>\n",
       "    <tr>\n",
       "      <th>...</th>\n",
       "      <td>...</td>\n",
       "    </tr>\n",
       "    <tr>\n",
       "      <th>34459</th>\n",
       "      <td>49.211311</td>\n",
       "    </tr>\n",
       "    <tr>\n",
       "      <th>34460</th>\n",
       "      <td>43.139892</td>\n",
       "    </tr>\n",
       "    <tr>\n",
       "      <th>34461</th>\n",
       "      <td>44.599341</td>\n",
       "    </tr>\n",
       "    <tr>\n",
       "      <th>34462</th>\n",
       "      <td>28.956084</td>\n",
       "    </tr>\n",
       "    <tr>\n",
       "      <th>34463</th>\n",
       "      <td>25.944837</td>\n",
       "    </tr>\n",
       "  </tbody>\n",
       "</table>\n",
       "<p>34464 rows × 1 columns</p>\n",
       "</div>"
      ],
      "text/plain": [
       "          Energy\n",
       "0      38.397391\n",
       "1      38.792453\n",
       "2      30.128606\n",
       "3      30.302314\n",
       "4      33.274138\n",
       "...          ...\n",
       "34459  49.211311\n",
       "34460  43.139892\n",
       "34461  44.599341\n",
       "34462  28.956084\n",
       "34463  25.944837\n",
       "\n",
       "[34464 rows x 1 columns]"
      ]
     },
     "execution_count": 134,
     "metadata": {},
     "output_type": "execute_result"
    }
   ],
   "source": [
    "y_total_prev_week = df_total.copy()\n",
    "y_total_prev_week = y_total_prev_week.iloc[(96*7):].reset_index(drop=True)\n",
    "y_total_prev_week"
   ]
  },
  {
   "cell_type": "code",
   "execution_count": 135,
   "id": "bf9d09db",
   "metadata": {},
   "outputs": [],
   "source": [
    "X_total_prev_week_norm, scaler = normalize_training(X_total_prev_week)\n",
    "y_total_prev_week_norm = scaler.transform(y_total_prev_week)"
   ]
  },
  {
   "cell_type": "markdown",
   "id": "51d68b74",
   "metadata": {},
   "source": [
    "## Prediction (sum of all houses)"
   ]
  },
  {
   "cell_type": "markdown",
   "id": "4daefa68",
   "metadata": {},
   "source": [
    "#### R2 will be negative whenever your model's predictions are worse than a constant function that always predicts the mean of the data."
   ]
  },
  {
   "cell_type": "markdown",
   "id": "7b95df68",
   "metadata": {},
   "source": [
    "### Previous 15 minutes prediction data"
   ]
  },
  {
   "cell_type": "code",
   "execution_count": 136,
   "id": "9dd26d7e",
   "metadata": {},
   "outputs": [
    {
     "name": "stdout",
     "output_type": "stream",
     "text": [
      "MSE: 129.6594\n",
      "WAPE: 20.0000\n",
      "R2: 0.6881\n"
     ]
    }
   ],
   "source": [
    "mse_total_15, wape_total_15, r2_total_15 = no_ml_predict(X_total_15, y_total_15)"
   ]
  },
  {
   "cell_type": "code",
   "execution_count": 137,
   "id": "40c4ade9",
   "metadata": {},
   "outputs": [
    {
     "name": "stdout",
     "output_type": "stream",
     "text": [
      "MSE: 0.0052\n",
      "WAPE: 23.0000\n",
      "R2: 0.6881\n"
     ]
    }
   ],
   "source": [
    "mse_total_15, wape_total_15, r2_total_15 = no_ml_predict(X_total_15_norm, y_total_15_norm)"
   ]
  },
  {
   "cell_type": "code",
   "execution_count": 109,
   "id": "f0a7b81e",
   "metadata": {},
   "outputs": [
    {
     "data": {
      "image/png": "[encoded data removed]",
      "text/plain": [
       "<Figure size 432x288 with 1 Axes>"
      ]
     },
     "metadata": {
      "needs_background": "light"
     },
     "output_type": "display_data"
    }
   ],
   "source": [
    "plot_results(X_total_15, y_total_15, \"Last 15 sum\")"
   ]
  },
  {
   "cell_type": "markdown",
   "id": "50da91b2",
   "metadata": {},
   "source": [
    "### Previous day at same hour prediction data"
   ]
  },
  {
   "cell_type": "code",
   "execution_count": 110,
   "id": "ff508706",
   "metadata": {},
   "outputs": [
    {
     "name": "stdout",
     "output_type": "stream",
     "text": [
      "MSE: 399.0900\n",
      "WAPE: 38.0000\n",
      "R2: 0.0386\n"
     ]
    }
   ],
   "source": [
    "mse_total_prev_day, wape_total_prev_day, r2_total_prev_day = no_ml_predict(X_total_prev_day, y_total_prev_day)"
   ]
  },
  {
   "cell_type": "code",
   "execution_count": 138,
   "id": "714ba860",
   "metadata": {},
   "outputs": [
    {
     "name": "stdout",
     "output_type": "stream",
     "text": [
      "MSE: 0.0159\n",
      "WAPE: 44.0000\n",
      "R2: 0.0386\n"
     ]
    }
   ],
   "source": [
    "mse_total_prev_day, wape_total_prev_day, r2_total_prev_day = no_ml_predict(X_total_prev_day_norm, y_total_prev_day_norm)"
   ]
  },
  {
   "cell_type": "code",
   "execution_count": 111,
   "id": "90f29443",
   "metadata": {},
   "outputs": [
    {
     "data": {
      "image/png": "[encoded data removed]",
      "text/plain": [
       "<Figure size 432x288 with 1 Axes>"
      ]
     },
     "metadata": {
      "needs_background": "light"
     },
     "output_type": "display_data"
    }
   ],
   "source": [
    "plot_results(X_total_prev_day, y_total_prev_day, \"Last day sum\")"
   ]
  },
  {
   "cell_type": "markdown",
   "id": "38efc60d",
   "metadata": {},
   "source": [
    "### Previous week same day at same hour prediction data"
   ]
  },
  {
   "cell_type": "code",
   "execution_count": 140,
   "id": "ef34dc3e",
   "metadata": {},
   "outputs": [
    {
     "name": "stdout",
     "output_type": "stream",
     "text": [
      "MSE: 463.2343\n",
      "WAPE: 41.0000\n",
      "R2: -0.1407\n"
     ]
    }
   ],
   "source": [
    "mse_total_prev_week, wape_total_prev_week, r2_total_prev_week = no_ml_predict(X_total_prev_week, y_total_prev_week)"
   ]
  },
  {
   "cell_type": "code",
   "execution_count": 141,
   "id": "c0332480",
   "metadata": {},
   "outputs": [
    {
     "name": "stdout",
     "output_type": "stream",
     "text": [
      "MSE: 0.0184\n",
      "WAPE: 47.0000\n",
      "R2: -0.1407\n"
     ]
    }
   ],
   "source": [
    "mse_total_prev_week, wape_total_prev_week, r2_total_prev_week = no_ml_predict(X_total_prev_week_norm, y_total_prev_week_norm)"
   ]
  },
  {
   "cell_type": "code",
   "execution_count": 142,
   "id": "52419317",
   "metadata": {},
   "outputs": [
    {
     "data": {
      "image/png": "[encoded data removed]",
      "text/plain": [
       "<Figure size 432x288 with 1 Axes>"
      ]
     },
     "metadata": {
      "needs_background": "light"
     },
     "output_type": "display_data"
    }
   ],
   "source": [
    "plot_results(X_total_prev_week, y_total_prev_week, \"Last week sum\")"
   ]
  },
  {
   "cell_type": "markdown",
   "id": "163d61ca",
   "metadata": {},
   "source": [
    "## Comparison between individual and sum"
   ]
  },
  {
   "cell_type": "code",
   "execution_count": 144,
   "id": "3e87a177",
   "metadata": {},
   "outputs": [
    {
     "name": "stderr",
     "output_type": "stream",
     "text": [
      "C:\\Users\\fran_\\anaconda3\\lib\\site-packages\\numpy\\lib\\stride_tricks.py:536: VisibleDeprecationWarning: Creating an ndarray from ragged nested sequences (which is a list-or-tuple of lists-or-tuples-or ndarrays with different lengths or shapes) is deprecated. If you meant to do this, you must specify 'dtype=object' when creating the ndarray.\n",
      "  args = [np.array(_m, copy=False, subok=subok) for _m in args]\n",
      "C:\\Users\\fran_\\anaconda3\\lib\\site-packages\\numpy\\core\\fromnumeric.py:43: VisibleDeprecationWarning: Creating an ndarray from ragged nested sequences (which is a list-or-tuple of lists-or-tuples-or ndarrays with different lengths or shapes) is deprecated. If you meant to do this, you must specify 'dtype=object' when creating the ndarray.\n",
      "  result = getattr(asarray(obj), method)(*args, **kwds)\n"
     ]
    },
    {
     "data": {
      "image/png": "[encoded data removed]",
      "text/plain": [
       "<Figure size 432x288 with 1 Axes>"
      ]
     },
     "metadata": {
      "needs_background": "light"
     },
     "output_type": "display_data"
    }
   ],
   "source": [
    "X_names = (\"MSE\", \"WAPE\", \"R2\")\n",
    "X_axis = np.arange(len(X_names))\n",
    "plt.bar(X_axis - 0.2, (mse_15, wape_15, r2_15), 0.4, label = 'Location')\n",
    "plt.bar(X_axis + 0.2, (mse_total_15, wape_total_15, r2_total_15), 0.4, label = 'Sum')\n",
    "plt.xticks(X_axis, X_names)\n",
    "plt.xlabel(\"By Location vs Aggregated\")\n",
    "plt.ylabel(\"Metrics\")\n",
    "plt.title(\"Organized by location average vs Energy sum (previous 15 minutes)\")\n",
    "plt.legend()\n",
    "plt.show()"
   ]
  },
  {
   "cell_type": "code",
   "execution_count": 37,
   "id": "026ae32a",
   "metadata": {},
   "outputs": [
    {
     "data": {
      "image/png": "[encoded data removed]",
      "text/plain": [
       "<Figure size 432x288 with 1 Axes>"
      ]
     },
     "metadata": {
      "needs_background": "light"
     },
     "output_type": "display_data"
    }
   ],
   "source": [
    "plt.bar(X_axis - 0.2, (mse_prev_day, rmse_prev_day, mae_prev_day, mape_prev_day, r2_prev_day), 0.4, label = 'Individual')\n",
    "plt.bar(X_axis + 0.2, (mse_total_prev_day, rmse_total_prev_day, mae_total_prev_day, mape_total_prev_day, r2_total_prev_day), 0.4, label = 'Sum')\n",
    "plt.xticks(X_axis, X_names)\n",
    "plt.xlabel(\"Individual vs Sum\")\n",
    "plt.ylabel(\"Metrics\")\n",
    "plt.title(\"Individual average vs Energy sum (previous day)\")\n",
    "plt.legend()\n",
    "plt.show()"
   ]
  },
  {
   "cell_type": "code",
   "execution_count": 38,
   "id": "d35d1a6e",
   "metadata": {},
   "outputs": [
    {
     "data": {
      "image/png": "[encoded data removed]",
      "text/plain": [
       "<Figure size 432x288 with 1 Axes>"
      ]
     },
     "metadata": {
      "needs_background": "light"
     },
     "output_type": "display_data"
    }
   ],
   "source": [
    "plt.bar(X_axis - 0.2, (mse_prev_week, rmse_prev_week, mae_prev_week, mape_prev_week, r2_prev_week), 0.4, label = 'Individual')\n",
    "plt.bar(X_axis + 0.2, (mse_total_prev_week, rmse_total_prev_week, mae_total_prev_week, mape_total_prev_week, r2_total_prev_week), 0.4, label = 'Sum')\n",
    "plt.xticks(X_axis, X_names)\n",
    "plt.xlabel(\"Individual vs Sum\")\n",
    "plt.ylabel(\"Metrics\")\n",
    "plt.title(\"Individual average vs Energy sum (previous week)\")\n",
    "plt.legend()\n",
    "plt.show()"
   ]
  },
  {
   "cell_type": "code",
   "execution_count": null,
   "id": "cbe31692",
   "metadata": {},
   "outputs": [],
   "source": []
  }
 ],
 "metadata": {
  "kernelspec": {
   "display_name": "Python 3 (ipykernel)",
   "language": "python",
   "name": "python3"
  },
  "language_info": {
   "codemirror_mode": {
    "name": "ipython",
    "version": 3
   },
   "file_extension": ".py",
   "mimetype": "text/x-python",
   "name": "python",
   "nbconvert_exporter": "python",
   "pygments_lexer": "ipython3",
   "version": "3.9.12"
  }
 },
 "nbformat": 4,
 "nbformat_minor": 5
}
