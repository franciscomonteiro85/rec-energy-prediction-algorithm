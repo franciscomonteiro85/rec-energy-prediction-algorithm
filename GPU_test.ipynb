{
 "cells": [
  {
   "cell_type": "code",
   "execution_count": 5,
   "id": "16aad7bf",
   "metadata": {},
   "outputs": [
    {
     "name": "stdout",
     "output_type": "stream",
     "text": [
      "without GPU: 3.7197385159997793\n",
      "with GPU: 0.10541648300022644\n"
     ]
    }
   ],
   "source": [
    "from numba import jit, cuda\n",
    "import numpy as np\n",
    "# to measure exec time\n",
    "from timeit import default_timer as timer   \n",
    "  \n",
    "# normal function to run on cpu\n",
    "def func(a):                                \n",
    "    for i in range(10000000):\n",
    "        a[i]+= 1      \n",
    "  \n",
    "# function optimized to run on gpu \n",
    "@jit(target_backend='cuda')                         \n",
    "def func2(a):\n",
    "    for i in range(10000000):\n",
    "        a[i]+= 1\n",
    "if __name__==\"__main__\":\n",
    "    n = 10000000                            \n",
    "    a = np.ones(n, dtype = np.float64)\n",
    "      \n",
    "    start = timer()\n",
    "    func(a)\n",
    "    print(\"without GPU:\", timer()-start)    \n",
    "      \n",
    "    start = timer()\n",
    "    func2(a)\n",
    "    print(\"with GPU:\", timer()-start)"
   ]
  },
  {
   "cell_type": "code",
   "execution_count": null,
   "id": "683d15f4",
   "metadata": {},
   "outputs": [],
   "source": []
  }
 ],
 "metadata": {
  "kernelspec": {
   "display_name": "Python 3 (ipykernel)",
   "language": "python",
   "name": "python3"
  },
  "language_info": {
   "codemirror_mode": {
    "name": "ipython",
    "version": 3
   },
   "file_extension": ".py",
   "mimetype": "text/x-python",
   "name": "python",
   "nbconvert_exporter": "python",
   "pygments_lexer": "ipython3",
   "version": "3.10.6"
  }
 },
 "nbformat": 4,
 "nbformat_minor": 5
}
