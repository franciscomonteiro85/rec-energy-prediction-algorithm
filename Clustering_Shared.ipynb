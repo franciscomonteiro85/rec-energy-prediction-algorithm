{
 "cells": [
  {
   "attachments": {},
   "cell_type": "markdown",
   "metadata": {},
   "source": [
    "# Testing clustering with the Shared Dataset"
   ]
  },
  {
   "cell_type": "code",
   "execution_count": 1,
   "metadata": {},
   "outputs": [
    {
     "name": "stderr",
     "output_type": "stream",
     "text": [
      "/home/francisco.monteiro@av.it.pt/miniconda3/envs/rapids-23.02/lib/python3.8/site-packages/tslearn/bases/bases.py:15: UserWarning: h5py not installed, hdf5 features will not be supported.\n",
      "Install h5py to use hdf5 features: http://docs.h5py.org/\n",
      "  warn(h5py_msg)\n"
     ]
    }
   ],
   "source": [
    "import pandas as pd\n",
    "import matplotlib.pyplot as plt\n",
    "import numpy as np\n",
    "from tslearn.clustering import TimeSeriesKMeans\n",
    "from tslearn.preprocessing import TimeSeriesScalerMeanVariance\n",
    "from tslearn.utils import to_time_series_dataset\n",
    "from sklearn.cluster import KMeans"
   ]
  },
  {
   "cell_type": "code",
   "execution_count": 2,
   "metadata": {},
   "outputs": [
    {
     "name": "stdout",
     "output_type": "stream",
     "text": [
      "Number of Locations: 12\n",
      "Number of NaNs: 0\n"
     ]
    },
    {
     "data": {
      "text/html": [
       "<div>\n",
       "<style scoped>\n",
       "    .dataframe tbody tr th:only-of-type {\n",
       "        vertical-align: middle;\n",
       "    }\n",
       "\n",
       "    .dataframe tbody tr th {\n",
       "        vertical-align: top;\n",
       "    }\n",
       "\n",
       "    .dataframe thead th {\n",
       "        text-align: right;\n",
       "    }\n",
       "</style>\n",
       "<table border=\"1\" class=\"dataframe\">\n",
       "  <thead>\n",
       "    <tr style=\"text-align: right;\">\n",
       "      <th></th>\n",
       "      <th>Time</th>\n",
       "      <th>Energy</th>\n",
       "      <th>Location</th>\n",
       "    </tr>\n",
       "  </thead>\n",
       "  <tbody>\n",
       "    <tr>\n",
       "      <th>0</th>\n",
       "      <td>2020-10-06 00:15:00</td>\n",
       "      <td>0.076</td>\n",
       "      <td>PT41CV</td>\n",
       "    </tr>\n",
       "    <tr>\n",
       "      <th>1</th>\n",
       "      <td>2020-10-06 00:30:00</td>\n",
       "      <td>0.072</td>\n",
       "      <td>PT41CV</td>\n",
       "    </tr>\n",
       "    <tr>\n",
       "      <th>2</th>\n",
       "      <td>2020-10-06 00:45:00</td>\n",
       "      <td>0.072</td>\n",
       "      <td>PT41CV</td>\n",
       "    </tr>\n",
       "    <tr>\n",
       "      <th>3</th>\n",
       "      <td>2020-10-06 01:00:00</td>\n",
       "      <td>0.068</td>\n",
       "      <td>PT41CV</td>\n",
       "    </tr>\n",
       "    <tr>\n",
       "      <th>4</th>\n",
       "      <td>2020-10-06 01:15:00</td>\n",
       "      <td>0.032</td>\n",
       "      <td>PT41CV</td>\n",
       "    </tr>\n",
       "    <tr>\n",
       "      <th>...</th>\n",
       "      <td>...</td>\n",
       "      <td>...</td>\n",
       "      <td>...</td>\n",
       "    </tr>\n",
       "    <tr>\n",
       "      <th>576694</th>\n",
       "      <td>2022-11-25 00:00:00</td>\n",
       "      <td>0.764</td>\n",
       "      <td>PT87ZW</td>\n",
       "    </tr>\n",
       "    <tr>\n",
       "      <th>576695</th>\n",
       "      <td>2022-11-25 00:15:00</td>\n",
       "      <td>0.660</td>\n",
       "      <td>PT87ZW</td>\n",
       "    </tr>\n",
       "    <tr>\n",
       "      <th>576696</th>\n",
       "      <td>2022-11-25 00:30:00</td>\n",
       "      <td>0.692</td>\n",
       "      <td>PT87ZW</td>\n",
       "    </tr>\n",
       "    <tr>\n",
       "      <th>576697</th>\n",
       "      <td>2022-11-25 00:45:00</td>\n",
       "      <td>0.660</td>\n",
       "      <td>PT87ZW</td>\n",
       "    </tr>\n",
       "    <tr>\n",
       "      <th>576698</th>\n",
       "      <td>2022-11-25 01:00:00</td>\n",
       "      <td>0.644</td>\n",
       "      <td>PT87ZW</td>\n",
       "    </tr>\n",
       "  </tbody>\n",
       "</table>\n",
       "<p>576699 rows × 3 columns</p>\n",
       "</div>"
      ],
      "text/plain": [
       "                      Time  Energy Location\n",
       "0      2020-10-06 00:15:00   0.076   PT41CV\n",
       "1      2020-10-06 00:30:00   0.072   PT41CV\n",
       "2      2020-10-06 00:45:00   0.072   PT41CV\n",
       "3      2020-10-06 01:00:00   0.068   PT41CV\n",
       "4      2020-10-06 01:15:00   0.032   PT41CV\n",
       "...                    ...     ...      ...\n",
       "576694 2022-11-25 00:00:00   0.764   PT87ZW\n",
       "576695 2022-11-25 00:15:00   0.660   PT87ZW\n",
       "576696 2022-11-25 00:30:00   0.692   PT87ZW\n",
       "576697 2022-11-25 00:45:00   0.660   PT87ZW\n",
       "576698 2022-11-25 01:00:00   0.644   PT87ZW\n",
       "\n",
       "[576699 rows x 3 columns]"
      ]
     },
     "execution_count": 2,
     "metadata": {},
     "output_type": "execute_result"
    }
   ],
   "source": [
    "df = pd.read_csv(\"data/shared_all_records.csv\")\n",
    "df['Time'] = pd.to_datetime(df['Time'])\n",
    "#df_index = pd.DataFrame(pd.date_range('2019-01-01', periods=35136, freq='15T'))\n",
    "#df = pd.concat([pd.DataFrame(df_index).rename(columns={0: \"Time\"}),df],axis=1)\n",
    "df.dropna(axis=0, inplace=True)\n",
    "df.reset_index(drop=True, inplace=True)\n",
    "print(\"Number of Locations:\", df.Location.nunique())\n",
    "print(\"Number of NaNs:\", df.isna().sum().sum())\n",
    "df"
   ]
  },
  {
   "cell_type": "code",
   "execution_count": 3,
   "metadata": {},
   "outputs": [],
   "source": [
    "data = df[['Time', 'Energy']].values\n",
    "houses = df['Location'].values\n",
    "\n",
    "# Extract unique house numbers\n",
    "unique_houses = np.unique(houses)\n",
    "\n",
    "# Create a dictionary to store the time series data for each house\n",
    "data_per_house = {house: [] for house in unique_houses}\n",
    "\n",
    "# Group the data by house number\n",
    "for house, (timestamp, energy) in zip(houses, data):\n",
    "    data_per_house[house].append([timestamp, energy])\n",
    "\n",
    "# Convert the grouped data into a list of time series\n",
    "time_series_per_house = [np.array(data)[:, 1].reshape(-1, 1) for data in data_per_house.values()]\n",
    "\n",
    "# Convert the list of time series into a numpy array\n",
    "X = to_time_series_dataset(time_series_per_house)"
   ]
  },
  {
   "cell_type": "code",
   "execution_count": 4,
   "metadata": {},
   "outputs": [],
   "source": [
    "#data = df.drop(['Time', 'Location'], axis=1).values.T\n",
    "#X = to_time_series_dataset(data)"
   ]
  },
  {
   "cell_type": "code",
   "execution_count": 5,
   "metadata": {},
   "outputs": [
    {
     "data": {
      "text/html": [
       "<div>\n",
       "<style scoped>\n",
       "    .dataframe tbody tr th:only-of-type {\n",
       "        vertical-align: middle;\n",
       "    }\n",
       "\n",
       "    .dataframe tbody tr th {\n",
       "        vertical-align: top;\n",
       "    }\n",
       "\n",
       "    .dataframe thead th {\n",
       "        text-align: right;\n",
       "    }\n",
       "</style>\n",
       "<table border=\"1\" class=\"dataframe\">\n",
       "  <thead>\n",
       "    <tr style=\"text-align: right;\">\n",
       "      <th></th>\n",
       "      <th>0</th>\n",
       "      <th>1</th>\n",
       "      <th>2</th>\n",
       "      <th>3</th>\n",
       "      <th>4</th>\n",
       "      <th>5</th>\n",
       "      <th>6</th>\n",
       "      <th>7</th>\n",
       "      <th>8</th>\n",
       "      <th>9</th>\n",
       "      <th>...</th>\n",
       "      <th>1990</th>\n",
       "      <th>1991</th>\n",
       "      <th>1992</th>\n",
       "      <th>1993</th>\n",
       "      <th>1994</th>\n",
       "      <th>1995</th>\n",
       "      <th>1996</th>\n",
       "      <th>1997</th>\n",
       "      <th>1998</th>\n",
       "      <th>1999</th>\n",
       "    </tr>\n",
       "  </thead>\n",
       "  <tbody>\n",
       "    <tr>\n",
       "      <th>0</th>\n",
       "      <td>0.968</td>\n",
       "      <td>1.268</td>\n",
       "      <td>1.304</td>\n",
       "      <td>0.240</td>\n",
       "      <td>0.632</td>\n",
       "      <td>1.064</td>\n",
       "      <td>0.056</td>\n",
       "      <td>1.064</td>\n",
       "      <td>0.036</td>\n",
       "      <td>0.608</td>\n",
       "      <td>...</td>\n",
       "      <td>NaN</td>\n",
       "      <td>NaN</td>\n",
       "      <td>NaN</td>\n",
       "      <td>NaN</td>\n",
       "      <td>NaN</td>\n",
       "      <td>NaN</td>\n",
       "      <td>NaN</td>\n",
       "      <td>NaN</td>\n",
       "      <td>NaN</td>\n",
       "      <td>NaN</td>\n",
       "    </tr>\n",
       "    <tr>\n",
       "      <th>1</th>\n",
       "      <td>0.000</td>\n",
       "      <td>0.000</td>\n",
       "      <td>0.000</td>\n",
       "      <td>0.000</td>\n",
       "      <td>0.000</td>\n",
       "      <td>0.000</td>\n",
       "      <td>0.000</td>\n",
       "      <td>0.100</td>\n",
       "      <td>0.136</td>\n",
       "      <td>0.432</td>\n",
       "      <td>...</td>\n",
       "      <td>NaN</td>\n",
       "      <td>NaN</td>\n",
       "      <td>NaN</td>\n",
       "      <td>NaN</td>\n",
       "      <td>NaN</td>\n",
       "      <td>NaN</td>\n",
       "      <td>NaN</td>\n",
       "      <td>NaN</td>\n",
       "      <td>NaN</td>\n",
       "      <td>NaN</td>\n",
       "    </tr>\n",
       "    <tr>\n",
       "      <th>2</th>\n",
       "      <td>0.048</td>\n",
       "      <td>0.188</td>\n",
       "      <td>0.256</td>\n",
       "      <td>0.076</td>\n",
       "      <td>0.028</td>\n",
       "      <td>0.096</td>\n",
       "      <td>0.156</td>\n",
       "      <td>0.172</td>\n",
       "      <td>0.076</td>\n",
       "      <td>0.176</td>\n",
       "      <td>...</td>\n",
       "      <td>0.052</td>\n",
       "      <td>0.016</td>\n",
       "      <td>0.036</td>\n",
       "      <td>0.02</td>\n",
       "      <td>0.06</td>\n",
       "      <td>0.02</td>\n",
       "      <td>0.288</td>\n",
       "      <td>0.02</td>\n",
       "      <td>0.016</td>\n",
       "      <td>0.088</td>\n",
       "    </tr>\n",
       "    <tr>\n",
       "      <th>3</th>\n",
       "      <td>0.076</td>\n",
       "      <td>0.036</td>\n",
       "      <td>0.072</td>\n",
       "      <td>0.072</td>\n",
       "      <td>0.032</td>\n",
       "      <td>0.116</td>\n",
       "      <td>0.040</td>\n",
       "      <td>0.096</td>\n",
       "      <td>0.028</td>\n",
       "      <td>0.116</td>\n",
       "      <td>...</td>\n",
       "      <td>NaN</td>\n",
       "      <td>NaN</td>\n",
       "      <td>NaN</td>\n",
       "      <td>NaN</td>\n",
       "      <td>NaN</td>\n",
       "      <td>NaN</td>\n",
       "      <td>NaN</td>\n",
       "      <td>NaN</td>\n",
       "      <td>NaN</td>\n",
       "      <td>NaN</td>\n",
       "    </tr>\n",
       "    <tr>\n",
       "      <th>4</th>\n",
       "      <td>0.156</td>\n",
       "      <td>0.000</td>\n",
       "      <td>3.528</td>\n",
       "      <td>0.196</td>\n",
       "      <td>1.464</td>\n",
       "      <td>0.176</td>\n",
       "      <td>0.000</td>\n",
       "      <td>0.884</td>\n",
       "      <td>0.020</td>\n",
       "      <td>4.320</td>\n",
       "      <td>...</td>\n",
       "      <td>NaN</td>\n",
       "      <td>NaN</td>\n",
       "      <td>NaN</td>\n",
       "      <td>NaN</td>\n",
       "      <td>NaN</td>\n",
       "      <td>NaN</td>\n",
       "      <td>NaN</td>\n",
       "      <td>NaN</td>\n",
       "      <td>NaN</td>\n",
       "      <td>NaN</td>\n",
       "    </tr>\n",
       "    <tr>\n",
       "      <th>5</th>\n",
       "      <td>0.540</td>\n",
       "      <td>0.068</td>\n",
       "      <td>2.916</td>\n",
       "      <td>0.056</td>\n",
       "      <td>1.672</td>\n",
       "      <td>0.920</td>\n",
       "      <td>1.344</td>\n",
       "      <td>1.016</td>\n",
       "      <td>0.208</td>\n",
       "      <td>2.252</td>\n",
       "      <td>...</td>\n",
       "      <td>NaN</td>\n",
       "      <td>NaN</td>\n",
       "      <td>NaN</td>\n",
       "      <td>NaN</td>\n",
       "      <td>NaN</td>\n",
       "      <td>NaN</td>\n",
       "      <td>NaN</td>\n",
       "      <td>NaN</td>\n",
       "      <td>NaN</td>\n",
       "      <td>NaN</td>\n",
       "    </tr>\n",
       "    <tr>\n",
       "      <th>6</th>\n",
       "      <td>0.356</td>\n",
       "      <td>0.856</td>\n",
       "      <td>0.420</td>\n",
       "      <td>0.284</td>\n",
       "      <td>0.372</td>\n",
       "      <td>0.316</td>\n",
       "      <td>0.392</td>\n",
       "      <td>0.528</td>\n",
       "      <td>0.460</td>\n",
       "      <td>0.620</td>\n",
       "      <td>...</td>\n",
       "      <td>NaN</td>\n",
       "      <td>NaN</td>\n",
       "      <td>NaN</td>\n",
       "      <td>NaN</td>\n",
       "      <td>NaN</td>\n",
       "      <td>NaN</td>\n",
       "      <td>NaN</td>\n",
       "      <td>NaN</td>\n",
       "      <td>NaN</td>\n",
       "      <td>NaN</td>\n",
       "    </tr>\n",
       "    <tr>\n",
       "      <th>7</th>\n",
       "      <td>0.060</td>\n",
       "      <td>0.012</td>\n",
       "      <td>0.064</td>\n",
       "      <td>0.096</td>\n",
       "      <td>0.028</td>\n",
       "      <td>0.008</td>\n",
       "      <td>0.040</td>\n",
       "      <td>0.008</td>\n",
       "      <td>0.052</td>\n",
       "      <td>0.104</td>\n",
       "      <td>...</td>\n",
       "      <td>NaN</td>\n",
       "      <td>NaN</td>\n",
       "      <td>NaN</td>\n",
       "      <td>NaN</td>\n",
       "      <td>NaN</td>\n",
       "      <td>NaN</td>\n",
       "      <td>NaN</td>\n",
       "      <td>NaN</td>\n",
       "      <td>NaN</td>\n",
       "      <td>NaN</td>\n",
       "    </tr>\n",
       "    <tr>\n",
       "      <th>8</th>\n",
       "      <td>0.244</td>\n",
       "      <td>0.100</td>\n",
       "      <td>0.272</td>\n",
       "      <td>0.092</td>\n",
       "      <td>0.276</td>\n",
       "      <td>0.128</td>\n",
       "      <td>0.404</td>\n",
       "      <td>0.316</td>\n",
       "      <td>0.012</td>\n",
       "      <td>0.048</td>\n",
       "      <td>...</td>\n",
       "      <td>NaN</td>\n",
       "      <td>NaN</td>\n",
       "      <td>NaN</td>\n",
       "      <td>NaN</td>\n",
       "      <td>NaN</td>\n",
       "      <td>NaN</td>\n",
       "      <td>NaN</td>\n",
       "      <td>NaN</td>\n",
       "      <td>NaN</td>\n",
       "      <td>NaN</td>\n",
       "    </tr>\n",
       "    <tr>\n",
       "      <th>9</th>\n",
       "      <td>1.044</td>\n",
       "      <td>0.208</td>\n",
       "      <td>0.424</td>\n",
       "      <td>0.248</td>\n",
       "      <td>0.148</td>\n",
       "      <td>0.796</td>\n",
       "      <td>0.220</td>\n",
       "      <td>0.220</td>\n",
       "      <td>0.212</td>\n",
       "      <td>0.260</td>\n",
       "      <td>...</td>\n",
       "      <td>NaN</td>\n",
       "      <td>NaN</td>\n",
       "      <td>NaN</td>\n",
       "      <td>NaN</td>\n",
       "      <td>NaN</td>\n",
       "      <td>NaN</td>\n",
       "      <td>NaN</td>\n",
       "      <td>NaN</td>\n",
       "      <td>NaN</td>\n",
       "      <td>NaN</td>\n",
       "    </tr>\n",
       "    <tr>\n",
       "      <th>10</th>\n",
       "      <td>0.224</td>\n",
       "      <td>0.320</td>\n",
       "      <td>0.344</td>\n",
       "      <td>0.120</td>\n",
       "      <td>0.212</td>\n",
       "      <td>0.112</td>\n",
       "      <td>0.204</td>\n",
       "      <td>0.388</td>\n",
       "      <td>0.192</td>\n",
       "      <td>0.272</td>\n",
       "      <td>...</td>\n",
       "      <td>NaN</td>\n",
       "      <td>NaN</td>\n",
       "      <td>NaN</td>\n",
       "      <td>NaN</td>\n",
       "      <td>NaN</td>\n",
       "      <td>NaN</td>\n",
       "      <td>NaN</td>\n",
       "      <td>NaN</td>\n",
       "      <td>NaN</td>\n",
       "      <td>NaN</td>\n",
       "    </tr>\n",
       "    <tr>\n",
       "      <th>11</th>\n",
       "      <td>0.320</td>\n",
       "      <td>0.700</td>\n",
       "      <td>1.444</td>\n",
       "      <td>0.400</td>\n",
       "      <td>0.324</td>\n",
       "      <td>0.228</td>\n",
       "      <td>0.492</td>\n",
       "      <td>0.372</td>\n",
       "      <td>0.284</td>\n",
       "      <td>1.932</td>\n",
       "      <td>...</td>\n",
       "      <td>NaN</td>\n",
       "      <td>NaN</td>\n",
       "      <td>NaN</td>\n",
       "      <td>NaN</td>\n",
       "      <td>NaN</td>\n",
       "      <td>NaN</td>\n",
       "      <td>NaN</td>\n",
       "      <td>NaN</td>\n",
       "      <td>NaN</td>\n",
       "      <td>NaN</td>\n",
       "    </tr>\n",
       "  </tbody>\n",
       "</table>\n",
       "<p>12 rows × 2000 columns</p>\n",
       "</div>"
      ],
      "text/plain": [
       "     0      1      2      3      4      5      6      7      8      9     ...  \\\n",
       "0   0.968  1.268  1.304  0.240  0.632  1.064  0.056  1.064  0.036  0.608  ...   \n",
       "1   0.000  0.000  0.000  0.000  0.000  0.000  0.000  0.100  0.136  0.432  ...   \n",
       "2   0.048  0.188  0.256  0.076  0.028  0.096  0.156  0.172  0.076  0.176  ...   \n",
       "3   0.076  0.036  0.072  0.072  0.032  0.116  0.040  0.096  0.028  0.116  ...   \n",
       "4   0.156  0.000  3.528  0.196  1.464  0.176  0.000  0.884  0.020  4.320  ...   \n",
       "5   0.540  0.068  2.916  0.056  1.672  0.920  1.344  1.016  0.208  2.252  ...   \n",
       "6   0.356  0.856  0.420  0.284  0.372  0.316  0.392  0.528  0.460  0.620  ...   \n",
       "7   0.060  0.012  0.064  0.096  0.028  0.008  0.040  0.008  0.052  0.104  ...   \n",
       "8   0.244  0.100  0.272  0.092  0.276  0.128  0.404  0.316  0.012  0.048  ...   \n",
       "9   1.044  0.208  0.424  0.248  0.148  0.796  0.220  0.220  0.212  0.260  ...   \n",
       "10  0.224  0.320  0.344  0.120  0.212  0.112  0.204  0.388  0.192  0.272  ...   \n",
       "11  0.320  0.700  1.444  0.400  0.324  0.228  0.492  0.372  0.284  1.932  ...   \n",
       "\n",
       "     1990   1991   1992  1993  1994  1995   1996  1997   1998   1999  \n",
       "0     NaN    NaN    NaN   NaN   NaN   NaN    NaN   NaN    NaN    NaN  \n",
       "1     NaN    NaN    NaN   NaN   NaN   NaN    NaN   NaN    NaN    NaN  \n",
       "2   0.052  0.016  0.036  0.02  0.06  0.02  0.288  0.02  0.016  0.088  \n",
       "3     NaN    NaN    NaN   NaN   NaN   NaN    NaN   NaN    NaN    NaN  \n",
       "4     NaN    NaN    NaN   NaN   NaN   NaN    NaN   NaN    NaN    NaN  \n",
       "5     NaN    NaN    NaN   NaN   NaN   NaN    NaN   NaN    NaN    NaN  \n",
       "6     NaN    NaN    NaN   NaN   NaN   NaN    NaN   NaN    NaN    NaN  \n",
       "7     NaN    NaN    NaN   NaN   NaN   NaN    NaN   NaN    NaN    NaN  \n",
       "8     NaN    NaN    NaN   NaN   NaN   NaN    NaN   NaN    NaN    NaN  \n",
       "9     NaN    NaN    NaN   NaN   NaN   NaN    NaN   NaN    NaN    NaN  \n",
       "10    NaN    NaN    NaN   NaN   NaN   NaN    NaN   NaN    NaN    NaN  \n",
       "11    NaN    NaN    NaN   NaN   NaN   NaN    NaN   NaN    NaN    NaN  \n",
       "\n",
       "[12 rows x 2000 columns]"
      ]
     },
     "execution_count": 5,
     "metadata": {},
     "output_type": "execute_result"
    }
   ],
   "source": [
    "X = pd.DataFrame(X.reshape(12, 81584).T)\n",
    "undersample_data = X.loc[np.linspace(X.index.min(),X.index.max(),2000).astype(int)]\n",
    "undersample_time = df['Time'].loc[np.linspace(df['Time'].index.min(),df['Time'].index.max(),2000).astype(int)]\n",
    "undersample_data = undersample_data.reset_index().drop('index',axis=1)\n",
    "X = undersample_data.T\n",
    "X"
   ]
  },
  {
   "cell_type": "code",
   "execution_count": 6,
   "metadata": {},
   "outputs": [
    {
     "data": {
      "text/plain": [
       "12"
      ]
     },
     "execution_count": 6,
     "metadata": {},
     "output_type": "execute_result"
    }
   ],
   "source": [
    "scaler = TimeSeriesScalerMeanVariance(mu=0.0, std=1.0)\n",
    "X = scaler.fit_transform(X)\n",
    "len(X)"
   ]
  },
  {
   "cell_type": "code",
   "execution_count": 7,
   "metadata": {},
   "outputs": [],
   "source": [
    "n_clusters = 10"
   ]
  },
  {
   "cell_type": "code",
   "execution_count": 8,
   "metadata": {},
   "outputs": [
    {
     "name": "stderr",
     "output_type": "stream",
     "text": [
      "100%|██████████| 9/9 [03:19<00:00, 22.22s/it]\n"
     ]
    }
   ],
   "source": [
    "from tqdm import tqdm\n",
    "cities_list = df.Location.unique()\n",
    "inertia_list = []\n",
    "cluster_list = []\n",
    "model_list = []\n",
    "for c in tqdm(range(2, n_clusters + 1)):\n",
    "    model = TimeSeriesKMeans(n_clusters=c, metric=\"dtw\", max_iter=10, n_init=3, dtw_inertia=True)\n",
    "    model.fit(X)\n",
    "    model_list.append(model)\n",
    "    inertia_list.append(model.inertia_)\n",
    "    cluster_list.append(model.labels_)"
   ]
  },
  {
   "cell_type": "code",
   "execution_count": 20,
   "metadata": {},
   "outputs": [
    {
     "name": "stderr",
     "output_type": "stream",
     "text": [
      "100%|██████████| 2/2 [01:02<00:00, 31.44s/it]\n"
     ]
    }
   ],
   "source": [
    "for c in tqdm(range(n_clusters+1, 13)):\n",
    "    model = TimeSeriesKMeans(n_clusters=c, metric=\"dtw\", max_iter=10, n_init=3, dtw_inertia=True)\n",
    "    model.fit(X)\n",
    "    model_list.append(model)\n",
    "    inertia_list.append(model.inertia_)\n",
    "    cluster_list.append(model.labels_)"
   ]
  },
  {
   "cell_type": "code",
   "execution_count": 21,
   "metadata": {},
   "outputs": [
    {
     "data": {
      "text/plain": [
       "[<matplotlib.lines.Line2D at 0x7f8883286940>]"
      ]
     },
     "execution_count": 21,
     "metadata": {},
     "output_type": "execute_result"
    },
    {
     "data": {
      "image/png": "[encoded data removed]",
      "text/plain": [
       "<Figure size 640x480 with 1 Axes>"
      ]
     },
     "metadata": {},
     "output_type": "display_data"
    }
   ],
   "source": [
    "plt.plot(range(2,n_clusters+3), inertia_list)"
   ]
  },
  {
   "cell_type": "code",
   "execution_count": 22,
   "metadata": {},
   "outputs": [],
   "source": [
    "y = model.labels_"
   ]
  },
  {
   "cell_type": "code",
   "execution_count": 23,
   "metadata": {},
   "outputs": [
    {
     "data": {
      "text/plain": [
       "[394.0454531298713,\n",
       " 339.2470311986178,\n",
       " 293.6012768389522,\n",
       " 212.94124926513868,\n",
       " 166.45216759766518,\n",
       " 148.1042983727062,\n",
       " 122.83646574897001,\n",
       " 76.77409373270984,\n",
       " 60.42860800937135,\n",
       " 23.178986084600496,\n",
       " 0.876003751079821]"
      ]
     },
     "execution_count": 23,
     "metadata": {},
     "output_type": "execute_result"
    }
   ],
   "source": [
    "inertia_list"
   ]
  },
  {
   "cell_type": "code",
   "execution_count": 11,
   "metadata": {},
   "outputs": [],
   "source": [
    "x = undersample_time"
   ]
  },
  {
   "cell_type": "code",
   "execution_count": 12,
   "metadata": {},
   "outputs": [],
   "source": [
    "cities_list = df.Location.unique()"
   ]
  },
  {
   "cell_type": "code",
   "execution_count": 13,
   "metadata": {},
   "outputs": [],
   "source": [
    "def create_dictionary(array):\n",
    "    dictionary = {}\n",
    "    for index, value in enumerate(y):\n",
    "        dictionary[index] = value\n",
    "    return dictionary"
   ]
  },
  {
   "cell_type": "code",
   "execution_count": 16,
   "metadata": {},
   "outputs": [
    {
     "data": {
      "text/plain": [
       "{0: 6, 1: 9, 2: 0, 3: 2, 4: 4, 5: 3, 6: 7, 7: 1, 8: 8, 9: 5, 10: 0, 11: 5}"
      ]
     },
     "execution_count": 16,
     "metadata": {},
     "output_type": "execute_result"
    }
   ],
   "source": [
    "dictio = create_dictionary(y)\n",
    "dictio"
   ]
  },
  {
   "cell_type": "code",
   "execution_count": null,
   "metadata": {},
   "outputs": [],
   "source": [
    "classes_names = []\n",
    "classes_colors = []\n",
    "colors = ['navy', 'darkorange', 'black']\n",
    "for key, value in dictio.items():\n",
    "    classes_names.append(f\"Class {value}\")\n",
    "    classes_colors.append(colors[value])"
   ]
  },
  {
   "cell_type": "code",
   "execution_count": null,
   "metadata": {},
   "outputs": [],
   "source": [
    "plt.figure(figsize=(28,28))\n",
    "for j in range(1,13):\n",
    "    plt.subplot(4,3,j)\n",
    "    df_tmp = df.loc[df.Location == cities_list[j-1]]\n",
    "    plt.plot(df_tmp['Time'],df_tmp['Energy'],'.',color=classes_colors[j-1])\n",
    "    plt.ylabel('Energy',fontsize=20)\n",
    "    plt.xlabel('Time',fontsize=20)\n",
    "    plt.title('House=%s, Class = %s'%(cities_list[j-1],classes_names[j-1]),fontsize=20)\n",
    "    plt.ylim(0,10)"
   ]
  },
  {
   "cell_type": "code",
   "execution_count": null,
   "metadata": {},
   "outputs": [],
   "source": [
    "plt.figure(figsize=(20,20))\n",
    "k_dict = {'1':0,'2':0,'3':0,'4':1,'5':1,'6':1,'7':2,'8':2,'9':2}\n",
    "colors = ['navy']*3+['darkorange']*3+['k']*3\n",
    "Names = ['Class 0']*3+['Class 1']*3+['Class 2']*3\n",
    "for j in range(1,10):\n",
    "    plt.subplot(3,3,j)\n",
    "    k = np.random.choice(np.where(y==k_dict[str(j)])[0])\n",
    "    plt.plot(x,X[k],'.',color=colors[j-1])\n",
    "    plt.ylabel('Energy',fontsize=20)\n",
    "    plt.xlabel('Time',fontsize=20)\n",
    "    plt.title('House=%s, Class = %s'%(cities_list[k],Names[j-1]),fontsize=20)\n",
    "    plt.ylim(0,10)"
   ]
  },
  {
   "cell_type": "code",
   "execution_count": 27,
   "metadata": {},
   "outputs": [
    {
     "data": {
      "text/plain": [
       "(8, 3, 1)"
      ]
     },
     "execution_count": 27,
     "metadata": {},
     "output_type": "execute_result"
    }
   ],
   "source": [
    "class0 = np.where(y == 0)[0]\n",
    "class1 = np.where(y == 1)[0]\n",
    "class2 = np.where(y == 2)[0]\n",
    "len(class0),len(class1),len(class2)"
   ]
  },
  {
   "cell_type": "code",
   "execution_count": null,
   "metadata": {},
   "outputs": [],
   "source": [
    "## Compare gains of cluster with normal runs"
   ]
  }
 ],
 "metadata": {
  "kernelspec": {
   "display_name": "Python 3.8.16 ('rapids-23.02')",
   "language": "python",
   "name": "python3"
  },
  "language_info": {
   "codemirror_mode": {
    "name": "ipython",
    "version": 3
   },
   "file_extension": ".py",
   "mimetype": "text/x-python",
   "name": "python",
   "nbconvert_exporter": "python",
   "pygments_lexer": "ipython3",
   "version": "3.8.16"
  },
  "orig_nbformat": 4,
  "vscode": {
   "interpreter": {
    "hash": "b68dca5a889d9fa7a36c76420bb99c5b147d98e0e386a0426daa5cd8f8566c01"
   }
  }
 },
 "nbformat": 4,
 "nbformat_minor": 2
}
