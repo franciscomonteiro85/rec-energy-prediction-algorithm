{
 "cells": [
  {
   "cell_type": "code",
   "execution_count": 302,
   "id": "58081526",
   "metadata": {},
   "outputs": [],
   "source": [
    "import warnings\n",
    "warnings.filterwarnings('ignore',category=FutureWarning)\n",
    "warnings.filterwarnings('ignore',category=DeprecationWarning)\n",
    "import numpy as np\n",
    "import pandas as pd\n",
    "import matplotlib.pyplot as plt\n",
    "from sklearn.model_selection import train_test_split, cross_val_score, cross_validate, KFold, RepeatedKFold, RandomizedSearchCV\n",
    "from sklearn.metrics import mean_squared_error, r2_score, mean_absolute_error, mean_absolute_percentage_error\n",
    "from sklearn.linear_model import LinearRegression\n",
    "from sklearn.preprocessing import PolynomialFeatures, MinMaxScaler\n",
    "from sklearn.ensemble import GradientBoostingRegressor, RandomForestRegressor\n",
    "from sklearn.linear_model import LinearRegression\n",
    "import time\n",
    "import cudf\n",
    "from cuml.ensemble import RandomForestRegressor as cuRF\n",
    "import math\n",
    "import xgboost as xgb"
   ]
  },
  {
   "attachments": {},
   "cell_type": "markdown",
   "id": "aa402221",
   "metadata": {},
   "source": [
    "#### Output file"
   ]
  },
  {
   "cell_type": "code",
   "execution_count": 303,
   "id": "70c13e8f",
   "metadata": {},
   "outputs": [],
   "source": [
    "sourceFile = open(\"gpu_logs/ensemble.txt\", 'w')"
   ]
  },
  {
   "attachments": {},
   "cell_type": "markdown",
   "id": "e8907202",
   "metadata": {},
   "source": [
    "### Load the data"
   ]
  },
  {
   "cell_type": "code",
   "execution_count": 304,
   "id": "f6963e23",
   "metadata": {},
   "outputs": [
    {
     "data": {
      "text/html": [
       "<div>\n",
       "<style scoped>\n",
       "    .dataframe tbody tr th:only-of-type {\n",
       "        vertical-align: middle;\n",
       "    }\n",
       "\n",
       "    .dataframe tbody tr th {\n",
       "        vertical-align: top;\n",
       "    }\n",
       "\n",
       "    .dataframe thead th {\n",
       "        text-align: right;\n",
       "    }\n",
       "</style>\n",
       "<table border=\"1\" class=\"dataframe\">\n",
       "  <thead>\n",
       "    <tr style=\"text-align: right;\">\n",
       "      <th></th>\n",
       "      <th>Time</th>\n",
       "      <th>Location</th>\n",
       "      <th>Energy</th>\n",
       "    </tr>\n",
       "  </thead>\n",
       "  <tbody>\n",
       "    <tr>\n",
       "      <th>0</th>\n",
       "      <td>2019-01-01 00:00:00</td>\n",
       "      <td>1</td>\n",
       "      <td>2.322959</td>\n",
       "    </tr>\n",
       "    <tr>\n",
       "      <th>1</th>\n",
       "      <td>2019-01-01 00:15:00</td>\n",
       "      <td>1</td>\n",
       "      <td>2.371797</td>\n",
       "    </tr>\n",
       "    <tr>\n",
       "      <th>2</th>\n",
       "      <td>2019-01-01 00:30:00</td>\n",
       "      <td>1</td>\n",
       "      <td>2.415961</td>\n",
       "    </tr>\n",
       "    <tr>\n",
       "      <th>3</th>\n",
       "      <td>2019-01-01 00:45:00</td>\n",
       "      <td>1</td>\n",
       "      <td>2.302538</td>\n",
       "    </tr>\n",
       "    <tr>\n",
       "      <th>4</th>\n",
       "      <td>2019-01-01 01:00:00</td>\n",
       "      <td>1</td>\n",
       "      <td>2.363063</td>\n",
       "    </tr>\n",
       "    <tr>\n",
       "      <th>...</th>\n",
       "      <td>...</td>\n",
       "      <td>...</td>\n",
       "      <td>...</td>\n",
       "    </tr>\n",
       "    <tr>\n",
       "      <th>1756795</th>\n",
       "      <td>2020-01-01 22:45:00</td>\n",
       "      <td>50</td>\n",
       "      <td>0.753222</td>\n",
       "    </tr>\n",
       "    <tr>\n",
       "      <th>1756796</th>\n",
       "      <td>2020-01-01 23:00:00</td>\n",
       "      <td>50</td>\n",
       "      <td>0.716855</td>\n",
       "    </tr>\n",
       "    <tr>\n",
       "      <th>1756797</th>\n",
       "      <td>2020-01-01 23:15:00</td>\n",
       "      <td>50</td>\n",
       "      <td>0.735802</td>\n",
       "    </tr>\n",
       "    <tr>\n",
       "      <th>1756798</th>\n",
       "      <td>2020-01-01 23:30:00</td>\n",
       "      <td>50</td>\n",
       "      <td>0.485237</td>\n",
       "    </tr>\n",
       "    <tr>\n",
       "      <th>1756799</th>\n",
       "      <td>2020-01-01 23:45:00</td>\n",
       "      <td>50</td>\n",
       "      <td>0.394216</td>\n",
       "    </tr>\n",
       "  </tbody>\n",
       "</table>\n",
       "<p>1756800 rows × 3 columns</p>\n",
       "</div>"
      ],
      "text/plain": [
       "                       Time  Location    Energy\n",
       "0       2019-01-01 00:00:00         1  2.322959\n",
       "1       2019-01-01 00:15:00         1  2.371797\n",
       "2       2019-01-01 00:30:00         1  2.415961\n",
       "3       2019-01-01 00:45:00         1  2.302538\n",
       "4       2019-01-01 01:00:00         1  2.363063\n",
       "...                     ...       ...       ...\n",
       "1756795 2020-01-01 22:45:00        50  0.753222\n",
       "1756796 2020-01-01 23:00:00        50  0.716855\n",
       "1756797 2020-01-01 23:15:00        50  0.735802\n",
       "1756798 2020-01-01 23:30:00        50  0.485237\n",
       "1756799 2020-01-01 23:45:00        50  0.394216\n",
       "\n",
       "[1756800 rows x 3 columns]"
      ]
     },
     "execution_count": 304,
     "metadata": {},
     "output_type": "execute_result"
    }
   ],
   "source": [
    "df = pd.read_pickle(\"../datasets/df_location.pkl\")\n",
    "number_of_houses = 50\n",
    "num_samples_per_house = 35136\n",
    "df.reset_index(drop=True, inplace=True)\n",
    "## Leaving the first house (public building out) due to its different profile\n",
    "df = df.iloc[35136:, [0, 2, 1]].reset_index(drop=True)\n",
    "df"
   ]
  },
  {
   "cell_type": "code",
   "execution_count": 305,
   "id": "f318159d",
   "metadata": {},
   "outputs": [],
   "source": [
    "#trunc = lambda x: math.trunc(10000 * x) / 10000\n",
    "#df_trunc = pd.DataFrame(df['Energy']).applymap(trunc)\n",
    "#df = pd.concat([df.iloc[:, 0:-1], df_trunc], axis=1)\n",
    "#df"
   ]
  },
  {
   "cell_type": "markdown",
   "id": "54c9d325",
   "metadata": {},
   "source": [
    "### Auxiliary functions"
   ]
  },
  {
   "cell_type": "code",
   "execution_count": 306,
   "id": "cd78e17d",
   "metadata": {},
   "outputs": [],
   "source": [
    "def plot_results(preds: np.array, actuals: np.array, title: str):\n",
    "    \n",
    "    plt.scatter(actuals, preds, c='b', label='predicted')\n",
    "    plt.xlabel('actual')\n",
    "    plt.ylabel('predicted')\n",
    "    plt.title(title)\n",
    "    plt.xlim(0, plt.xlim()[1])\n",
    "    plt.ylim(0, plt.ylim()[1])\n",
    "    _ = plt.plot([0, 100], [0, 100], '--r', label='y=x')\n",
    "    plt.legend()\n",
    "    plt.show()\n",
    "    \n",
    "    \n",
    "def performance_metrics(preds: np.array, actuals: np.array, filename):\n",
    "\n",
    "    # calculate performance metrics\n",
    "    \n",
    "    mse = mean_squared_error(actuals, preds)\n",
    "    wape = np.sum(np.abs(preds - actuals)) / np.sum(np.abs(actuals)) * 100\n",
    "    r2 = r2_score(actuals, preds)\n",
    "    \n",
    "    # print performance metrics\n",
    "    print('MSE: %.4f' % mse, file=filename)\n",
    "    print('WAPE: %.4f' % wape, file=filename)\n",
    "    print('R2: %.4f' % r2, file=filename)\n",
    "    return mse, wape, r2\n",
    "\n",
    "#@jit(target_backend='cuda')\n",
    "def build_model(estimator, X_train: np.array, y_train: np.array, X_test: np.array):\n",
    "    \n",
    "    model = estimator\n",
    "    model.fit(X_train, y_train)\n",
    "    preds = model.predict(X_test)\n",
    "    \n",
    "    return model, preds\n",
    "\n",
    "def validate(estimator, X_train, y_train):\n",
    "    scores = cross_validate(estimator, X_train, y_train, scoring=['r2', 'neg_mean_squared_error'])\n",
    "    return scores\n",
    "    "
   ]
  },
  {
   "cell_type": "code",
   "execution_count": 307,
   "id": "8af19e8d",
   "metadata": {},
   "outputs": [],
   "source": [
    "def total_averaged_metrics(metrics_list, filename):\n",
    "    \n",
    "    print(\"Total Averaged MSE: {}\".format(np.round(sum(i for i, j, k in metrics_list)/len(metrics_list),3)), file=filename)\n",
    "    print(\"Total Averaged WAPE: {}\".format(np.round(sum(j for i, j, k in metrics_list)/len(metrics_list),3)), file=filename)\n",
    "    print(\"Total Averaged R2: {}\".format(np.round(sum(k for i, j, k in metrics_list)/len(metrics_list),3)), file=filename)\n",
    "\n",
    "\n",
    "def last_energy_points(df, number_timesteps, num_samples_per_house):\n",
    "    X = pd.DataFrame()\n",
    "    for i in range(1, (number_timesteps + 1) ):\n",
    "        X[f'Energy_{i*15}'] = df['Energy'].shift(i)\n",
    "    y = pd.DataFrame(df[number_timesteps:])\n",
    "    y = y['Energy']\n",
    "    ## Remove samples in between each house\n",
    "    for h in range(1, number_of_houses):\n",
    "        for i in range(0, number_timesteps):\n",
    "            X.iloc[(num_samples_per_house+i)*h] = np.nan\n",
    "            y.iloc[(num_samples_per_house+i)*h] = np.nan\n",
    "    X.dropna(inplace=True)\n",
    "    X.reset_index(drop=True, inplace=True)\n",
    "    y.dropna(inplace=True)\n",
    "    y.reset_index(drop=True, inplace=True)\n",
    "    y.columns = [\"Energy\"]\n",
    "    return X, y\n",
    "\n",
    "def last_energy_points_full(df, number_timesteps, num_samples_per_house):\n",
    "    X = pd.DataFrame()\n",
    "    other_feats = df.iloc[:,:2]\n",
    "    for i in range(1, (number_timesteps + 1) ):\n",
    "        X[f'Energy_{i*15}'] = df['Energy'].shift(i)\n",
    "    y = df.copy().iloc[:,2]\n",
    "    y.iloc[:number_timesteps] = np.nan\n",
    "    ## Remove samples in between each house\n",
    "    for h in range(1, number_of_houses):\n",
    "        for i in range(0, number_timesteps):\n",
    "            X.iloc[(num_samples_per_house+i)*h] = np.nan\n",
    "            y.iloc[(num_samples_per_house+i)*h] = np.nan\n",
    "    X = pd.concat([other_feats, X], axis=1)\n",
    "    X.dropna(inplace=True)\n",
    "    X.reset_index(drop=True, inplace=True)\n",
    "    y.dropna(inplace=True)\n",
    "    y.reset_index(drop=True, inplace=True)\n",
    "    y.columns = [\"Energy\"]\n",
    "    dataframe = pd.concat([X,y.rename('Energy')], axis=1)\n",
    "    assert number_of_houses == (df.shape[0] - dataframe.shape[0]) / number_timesteps, \"Something went wrong with preprocessing\"\n",
    "    return dataframe\n",
    "    "
   ]
  },
  {
   "cell_type": "code",
   "execution_count": 308,
   "id": "9d0352ee",
   "metadata": {},
   "outputs": [],
   "source": [
    "def normalize_training(X_train):\n",
    "    scaler = MinMaxScaler(feature_range=(0,1))\n",
    "    scaler.fit(X_train)\n",
    "    X_train = scaler.transform(X_train)\n",
    "    return X_train, scaler"
   ]
  },
  {
   "cell_type": "markdown",
   "id": "bd1b0d17",
   "metadata": {},
   "source": [
    "### Cross Validate"
   ]
  },
  {
   "cell_type": "code",
   "execution_count": 309,
   "id": "71efa19a",
   "metadata": {},
   "outputs": [],
   "source": [
    "#scores = validate(xgb.XGBRegressor(seed=0), X_train, y_train)\n",
    "#cv_mse = np.round(scores['test_neg_mean_squared_error'].mean() * (-1),4)\n",
    "#cv_r2 = np.round(scores['test_r2'].mean(),5)\n",
    "#print(\"CV MSE: {} \".format(cv_mse))\n",
    "#print(\"CV R2: {} \".format(cv_r2))\n",
    "#metrics_list.append((cv_mse,cv_rmse,cv_mae,mape,cv_r2))"
   ]
  },
  {
   "cell_type": "markdown",
   "id": "0f5ba7c5",
   "metadata": {},
   "source": [
    "## Leave 10 houses for test (demonstration)"
   ]
  },
  {
   "cell_type": "code",
   "execution_count": 310,
   "id": "fd9b27b9",
   "metadata": {},
   "outputs": [],
   "source": [
    "number_of_timesteps = 12"
   ]
  },
  {
   "cell_type": "code",
   "execution_count": 311,
   "id": "8f9027ef",
   "metadata": {},
   "outputs": [
    {
     "data": {
      "text/html": [
       "<div>\n",
       "<style scoped>\n",
       "    .dataframe tbody tr th:only-of-type {\n",
       "        vertical-align: middle;\n",
       "    }\n",
       "\n",
       "    .dataframe tbody tr th {\n",
       "        vertical-align: top;\n",
       "    }\n",
       "\n",
       "    .dataframe thead th {\n",
       "        text-align: right;\n",
       "    }\n",
       "</style>\n",
       "<table border=\"1\" class=\"dataframe\">\n",
       "  <thead>\n",
       "    <tr style=\"text-align: right;\">\n",
       "      <th></th>\n",
       "      <th>Time</th>\n",
       "      <th>Location</th>\n",
       "      <th>Energy_15</th>\n",
       "      <th>Energy_30</th>\n",
       "      <th>Energy_45</th>\n",
       "      <th>Energy_60</th>\n",
       "      <th>Energy_75</th>\n",
       "      <th>Energy_90</th>\n",
       "      <th>Energy_105</th>\n",
       "      <th>Energy_120</th>\n",
       "      <th>Energy_135</th>\n",
       "      <th>Energy_150</th>\n",
       "      <th>Energy_165</th>\n",
       "      <th>Energy_180</th>\n",
       "      <th>Energy</th>\n",
       "    </tr>\n",
       "  </thead>\n",
       "  <tbody>\n",
       "    <tr>\n",
       "      <th>0</th>\n",
       "      <td>2019-01-01 03:00:00</td>\n",
       "      <td>1</td>\n",
       "      <td>2.443886</td>\n",
       "      <td>2.342396</td>\n",
       "      <td>2.402921</td>\n",
       "      <td>2.341043</td>\n",
       "      <td>2.316070</td>\n",
       "      <td>2.299585</td>\n",
       "      <td>2.334031</td>\n",
       "      <td>2.363063</td>\n",
       "      <td>2.302538</td>\n",
       "      <td>2.415961</td>\n",
       "      <td>2.371797</td>\n",
       "      <td>2.322959</td>\n",
       "      <td>2.406489</td>\n",
       "    </tr>\n",
       "    <tr>\n",
       "      <th>1</th>\n",
       "      <td>2019-01-01 03:15:00</td>\n",
       "      <td>1</td>\n",
       "      <td>2.406489</td>\n",
       "      <td>2.443886</td>\n",
       "      <td>2.342396</td>\n",
       "      <td>2.402921</td>\n",
       "      <td>2.341043</td>\n",
       "      <td>2.316070</td>\n",
       "      <td>2.299585</td>\n",
       "      <td>2.334031</td>\n",
       "      <td>2.363063</td>\n",
       "      <td>2.302538</td>\n",
       "      <td>2.415961</td>\n",
       "      <td>2.371797</td>\n",
       "      <td>2.378686</td>\n",
       "    </tr>\n",
       "    <tr>\n",
       "      <th>2</th>\n",
       "      <td>2019-01-01 03:30:00</td>\n",
       "      <td>1</td>\n",
       "      <td>2.378686</td>\n",
       "      <td>2.406489</td>\n",
       "      <td>2.443886</td>\n",
       "      <td>2.342396</td>\n",
       "      <td>2.402921</td>\n",
       "      <td>2.341043</td>\n",
       "      <td>2.316070</td>\n",
       "      <td>2.299585</td>\n",
       "      <td>2.334031</td>\n",
       "      <td>2.363063</td>\n",
       "      <td>2.302538</td>\n",
       "      <td>2.415961</td>\n",
       "      <td>2.338582</td>\n",
       "    </tr>\n",
       "    <tr>\n",
       "      <th>3</th>\n",
       "      <td>2019-01-01 03:45:00</td>\n",
       "      <td>1</td>\n",
       "      <td>2.338582</td>\n",
       "      <td>2.378686</td>\n",
       "      <td>2.406489</td>\n",
       "      <td>2.443886</td>\n",
       "      <td>2.342396</td>\n",
       "      <td>2.402921</td>\n",
       "      <td>2.341043</td>\n",
       "      <td>2.316070</td>\n",
       "      <td>2.299585</td>\n",
       "      <td>2.334031</td>\n",
       "      <td>2.363063</td>\n",
       "      <td>2.302538</td>\n",
       "      <td>2.256406</td>\n",
       "    </tr>\n",
       "    <tr>\n",
       "      <th>4</th>\n",
       "      <td>2019-01-01 04:00:00</td>\n",
       "      <td>1</td>\n",
       "      <td>2.256406</td>\n",
       "      <td>2.338582</td>\n",
       "      <td>2.378686</td>\n",
       "      <td>2.406489</td>\n",
       "      <td>2.443886</td>\n",
       "      <td>2.342396</td>\n",
       "      <td>2.402921</td>\n",
       "      <td>2.341043</td>\n",
       "      <td>2.316070</td>\n",
       "      <td>2.299585</td>\n",
       "      <td>2.334031</td>\n",
       "      <td>2.363063</td>\n",
       "      <td>2.298232</td>\n",
       "    </tr>\n",
       "    <tr>\n",
       "      <th>...</th>\n",
       "      <td>...</td>\n",
       "      <td>...</td>\n",
       "      <td>...</td>\n",
       "      <td>...</td>\n",
       "      <td>...</td>\n",
       "      <td>...</td>\n",
       "      <td>...</td>\n",
       "      <td>...</td>\n",
       "      <td>...</td>\n",
       "      <td>...</td>\n",
       "      <td>...</td>\n",
       "      <td>...</td>\n",
       "      <td>...</td>\n",
       "      <td>...</td>\n",
       "      <td>...</td>\n",
       "    </tr>\n",
       "    <tr>\n",
       "      <th>1756195</th>\n",
       "      <td>2020-01-01 22:45:00</td>\n",
       "      <td>50</td>\n",
       "      <td>1.099100</td>\n",
       "      <td>0.453906</td>\n",
       "      <td>0.481770</td>\n",
       "      <td>0.483173</td>\n",
       "      <td>0.467528</td>\n",
       "      <td>1.001887</td>\n",
       "      <td>0.552398</td>\n",
       "      <td>0.533286</td>\n",
       "      <td>0.533451</td>\n",
       "      <td>0.464143</td>\n",
       "      <td>0.552398</td>\n",
       "      <td>0.937120</td>\n",
       "      <td>0.753222</td>\n",
       "    </tr>\n",
       "    <tr>\n",
       "      <th>1756196</th>\n",
       "      <td>2020-01-01 23:00:00</td>\n",
       "      <td>50</td>\n",
       "      <td>0.753222</td>\n",
       "      <td>1.099100</td>\n",
       "      <td>0.453906</td>\n",
       "      <td>0.481770</td>\n",
       "      <td>0.483173</td>\n",
       "      <td>0.467528</td>\n",
       "      <td>1.001887</td>\n",
       "      <td>0.552398</td>\n",
       "      <td>0.533286</td>\n",
       "      <td>0.533451</td>\n",
       "      <td>0.464143</td>\n",
       "      <td>0.552398</td>\n",
       "      <td>0.716855</td>\n",
       "    </tr>\n",
       "    <tr>\n",
       "      <th>1756197</th>\n",
       "      <td>2020-01-01 23:15:00</td>\n",
       "      <td>50</td>\n",
       "      <td>0.716855</td>\n",
       "      <td>0.753222</td>\n",
       "      <td>1.099100</td>\n",
       "      <td>0.453906</td>\n",
       "      <td>0.481770</td>\n",
       "      <td>0.483173</td>\n",
       "      <td>0.467528</td>\n",
       "      <td>1.001887</td>\n",
       "      <td>0.552398</td>\n",
       "      <td>0.533286</td>\n",
       "      <td>0.533451</td>\n",
       "      <td>0.464143</td>\n",
       "      <td>0.735802</td>\n",
       "    </tr>\n",
       "    <tr>\n",
       "      <th>1756198</th>\n",
       "      <td>2020-01-01 23:30:00</td>\n",
       "      <td>50</td>\n",
       "      <td>0.735802</td>\n",
       "      <td>0.716855</td>\n",
       "      <td>0.753222</td>\n",
       "      <td>1.099100</td>\n",
       "      <td>0.453906</td>\n",
       "      <td>0.481770</td>\n",
       "      <td>0.483173</td>\n",
       "      <td>0.467528</td>\n",
       "      <td>1.001887</td>\n",
       "      <td>0.552398</td>\n",
       "      <td>0.533286</td>\n",
       "      <td>0.533451</td>\n",
       "      <td>0.485237</td>\n",
       "    </tr>\n",
       "    <tr>\n",
       "      <th>1756199</th>\n",
       "      <td>2020-01-01 23:45:00</td>\n",
       "      <td>50</td>\n",
       "      <td>0.485237</td>\n",
       "      <td>0.735802</td>\n",
       "      <td>0.716855</td>\n",
       "      <td>0.753222</td>\n",
       "      <td>1.099100</td>\n",
       "      <td>0.453906</td>\n",
       "      <td>0.481770</td>\n",
       "      <td>0.483173</td>\n",
       "      <td>0.467528</td>\n",
       "      <td>1.001887</td>\n",
       "      <td>0.552398</td>\n",
       "      <td>0.533286</td>\n",
       "      <td>0.394216</td>\n",
       "    </tr>\n",
       "  </tbody>\n",
       "</table>\n",
       "<p>1756200 rows × 15 columns</p>\n",
       "</div>"
      ],
      "text/plain": [
       "                       Time  Location  Energy_15  Energy_30  Energy_45  \\\n",
       "0       2019-01-01 03:00:00         1   2.443886   2.342396   2.402921   \n",
       "1       2019-01-01 03:15:00         1   2.406489   2.443886   2.342396   \n",
       "2       2019-01-01 03:30:00         1   2.378686   2.406489   2.443886   \n",
       "3       2019-01-01 03:45:00         1   2.338582   2.378686   2.406489   \n",
       "4       2019-01-01 04:00:00         1   2.256406   2.338582   2.378686   \n",
       "...                     ...       ...        ...        ...        ...   \n",
       "1756195 2020-01-01 22:45:00        50   1.099100   0.453906   0.481770   \n",
       "1756196 2020-01-01 23:00:00        50   0.753222   1.099100   0.453906   \n",
       "1756197 2020-01-01 23:15:00        50   0.716855   0.753222   1.099100   \n",
       "1756198 2020-01-01 23:30:00        50   0.735802   0.716855   0.753222   \n",
       "1756199 2020-01-01 23:45:00        50   0.485237   0.735802   0.716855   \n",
       "\n",
       "         Energy_60  Energy_75  Energy_90  Energy_105  Energy_120  Energy_135  \\\n",
       "0         2.341043   2.316070   2.299585    2.334031    2.363063    2.302538   \n",
       "1         2.402921   2.341043   2.316070    2.299585    2.334031    2.363063   \n",
       "2         2.342396   2.402921   2.341043    2.316070    2.299585    2.334031   \n",
       "3         2.443886   2.342396   2.402921    2.341043    2.316070    2.299585   \n",
       "4         2.406489   2.443886   2.342396    2.402921    2.341043    2.316070   \n",
       "...            ...        ...        ...         ...         ...         ...   \n",
       "1756195   0.483173   0.467528   1.001887    0.552398    0.533286    0.533451   \n",
       "1756196   0.481770   0.483173   0.467528    1.001887    0.552398    0.533286   \n",
       "1756197   0.453906   0.481770   0.483173    0.467528    1.001887    0.552398   \n",
       "1756198   1.099100   0.453906   0.481770    0.483173    0.467528    1.001887   \n",
       "1756199   0.753222   1.099100   0.453906    0.481770    0.483173    0.467528   \n",
       "\n",
       "         Energy_150  Energy_165  Energy_180    Energy  \n",
       "0          2.415961    2.371797    2.322959  2.406489  \n",
       "1          2.302538    2.415961    2.371797  2.378686  \n",
       "2          2.363063    2.302538    2.415961  2.338582  \n",
       "3          2.334031    2.363063    2.302538  2.256406  \n",
       "4          2.299585    2.334031    2.363063  2.298232  \n",
       "...             ...         ...         ...       ...  \n",
       "1756195    0.464143    0.552398    0.937120  0.753222  \n",
       "1756196    0.533451    0.464143    0.552398  0.716855  \n",
       "1756197    0.533286    0.533451    0.464143  0.735802  \n",
       "1756198    0.552398    0.533286    0.533451  0.485237  \n",
       "1756199    1.001887    0.552398    0.533286  0.394216  \n",
       "\n",
       "[1756200 rows x 15 columns]"
      ]
     },
     "execution_count": 311,
     "metadata": {},
     "output_type": "execute_result"
    }
   ],
   "source": [
    "df_new = last_energy_points_full(df, number_of_timesteps, num_samples_per_house)\n",
    "df_new"
   ]
  },
  {
   "cell_type": "code",
   "execution_count": 312,
   "id": "bb6cf023",
   "metadata": {},
   "outputs": [
    {
     "data": {
      "text/plain": [
       "Time          0\n",
       "Location      0\n",
       "Energy_15     0\n",
       "Energy_30     0\n",
       "Energy_45     0\n",
       "Energy_60     0\n",
       "Energy_75     0\n",
       "Energy_90     0\n",
       "Energy_105    0\n",
       "Energy_120    0\n",
       "Energy_135    0\n",
       "Energy_150    0\n",
       "Energy_165    0\n",
       "Energy_180    0\n",
       "Energy        0\n",
       "dtype: int64"
      ]
     },
     "execution_count": 312,
     "metadata": {},
     "output_type": "execute_result"
    }
   ],
   "source": [
    "df_new.isna().sum()"
   ]
  },
  {
   "cell_type": "code",
   "execution_count": 313,
   "id": "daa9a0ea",
   "metadata": {},
   "outputs": [],
   "source": [
    "def test_leave_house_out(df, estimator, number_timesteps, num_houses_test, locations, filename):\n",
    "    df_new = last_energy_points_full(df, number_timesteps, num_samples_per_house)\n",
    "    df_new['DayOfWeek'] = df_new['Time'].dt.dayofweek\n",
    "    df_new['Weekend'] = df_new['Time'].dt.dayofweek.isin([5,6]).astype(int)\n",
    "    df_new['Hour'] = df_new['Time'].dt.hour\n",
    "    test = df_new[df_new['Location'].isin(locations)]\n",
    "    train = df_new[~df_new['Location'].isin(locations)]\n",
    "    print(\"Train set: \", train.shape)\n",
    "    print(\"Test set: \", test.shape)\n",
    "    X_train = train.drop(['Time', 'Energy', 'Location'], axis=1)\n",
    "    X_test = test.drop(['Time', 'Energy', 'Location'], axis=1)\n",
    "    y_train = train['Energy']\n",
    "    y_test = test['Energy']\n",
    "    X_train_norm, scaler = normalize_training(X_train)\n",
    "    X_test_norm = scaler.transform(X_test)\n",
    "\n",
    "    model = estimator\n",
    "    init = time.time()\n",
    "    model.fit(X_train_norm, y_train)\n",
    "    y_pred = model.predict(X_test_norm)\n",
    "    end = time.time()\n",
    "    print('Elapsed time: {:.4f} s'.format(end - init), file=filename)\n",
    "    mse, wape, r2 = performance_metrics(y_pred, y_test.values.reshape(-1), filename)\n",
    "    return mse, wape, r2, model"
   ]
  },
  {
   "cell_type": "markdown",
   "id": "47b7a1a3",
   "metadata": {},
   "source": [
    "## Predict  10 folds with 10 random houses for test"
   ]
  },
  {
   "cell_type": "code",
   "execution_count": 314,
   "id": "b3d93f68",
   "metadata": {},
   "outputs": [],
   "source": [
    "num_houses_test = 10"
   ]
  },
  {
   "cell_type": "code",
   "execution_count": 315,
   "id": "e1b164a8",
   "metadata": {},
   "outputs": [
    {
     "data": {
      "text/plain": [
       "[array([13, 17, 19, 25, 26, 30, 32, 39, 45, 48]),\n",
       " array([ 3,  4,  6,  8, 12, 15, 37, 41, 46, 47]),\n",
       " array([ 0,  5,  9, 16, 24, 27, 31, 33, 34, 44]),\n",
       " array([ 1,  2, 11, 21, 23, 29, 35, 36, 40, 43]),\n",
       " array([ 7, 10, 14, 18, 20, 22, 28, 38, 42, 49]),\n",
       " array([ 0,  2, 10, 22, 29, 38, 39, 44, 45, 46]),\n",
       " array([ 4, 12, 18, 21, 24, 30, 31, 32, 33, 49]),\n",
       " array([ 9, 14, 15, 20, 23, 26, 36, 40, 41, 42]),\n",
       " array([ 3,  5, 11, 16, 17, 28, 35, 37, 47, 48]),\n",
       " array([ 1,  6,  7,  8, 13, 19, 25, 27, 34, 43])]"
      ]
     },
     "execution_count": 315,
     "metadata": {},
     "output_type": "execute_result"
    }
   ],
   "source": [
    "kf = RepeatedKFold(n_splits=5, n_repeats=2, random_state=42) \n",
    "locations = []\n",
    "for _, test_index in kf.split(df['Location'].unique()):\n",
    "    locations.append(test_index)\n",
    "locations"
   ]
  },
  {
   "cell_type": "code",
   "execution_count": 316,
   "id": "acc7da60",
   "metadata": {},
   "outputs": [
    {
     "data": {
      "text/plain": [
       "[array([20, 48,  7, 19,  1, 40, 39, 15,  4, 18]),\n",
       " array([29,  4, 13, 25, 27, 26, 21, 50, 43,  1]),\n",
       " array([27, 38, 46, 36, 49,  8, 43,  2, 25, 48]),\n",
       " array([39, 15, 41, 23, 13, 48, 27, 12, 16, 31]),\n",
       " array([ 4, 28, 29,  1, 30, 46, 48, 38, 19, 14]),\n",
       " array([10, 14, 36, 39, 42, 15, 41, 17, 32, 47]),\n",
       " array([45, 46, 32, 30, 36, 43, 29, 49, 33, 17]),\n",
       " array([20, 30, 14, 12, 48, 13, 42, 31, 40,  5]),\n",
       " array([12, 35, 20, 42, 38,  2, 25, 21, 43, 31]),\n",
       " array([35, 40, 13, 48, 11, 34,  8, 21,  5, 32])]"
      ]
     },
     "execution_count": 316,
     "metadata": {},
     "output_type": "execute_result"
    }
   ],
   "source": [
    "locations = []\n",
    "for i in range(10):\n",
    "    l = np.random.choice(df['Location'].unique(), size=num_houses_test, replace=False)\n",
    "    locations.append(l)\n",
    "locations"
   ]
  },
  {
   "cell_type": "markdown",
   "id": "30e48b6b",
   "metadata": {},
   "source": [
    "### Linear Regression"
   ]
  },
  {
   "cell_type": "code",
   "execution_count": 317,
   "id": "a9cfe1a7",
   "metadata": {},
   "outputs": [
    {
     "name": "stdout",
     "output_type": "stream",
     "text": [
      "Train set:  (1404960, 18)\n",
      "Test set:  (351240, 18)\n",
      "Train set:  (1404960, 18)\n",
      "Test set:  (351240, 18)\n",
      "Train set:  (1404960, 18)\n",
      "Test set:  (351240, 18)\n",
      "Train set:  (1404960, 18)\n",
      "Test set:  (351240, 18)\n",
      "Train set:  (1404960, 18)\n",
      "Test set:  (351240, 18)\n",
      "Train set:  (1404960, 18)\n",
      "Test set:  (351240, 18)\n",
      "Train set:  (1404960, 18)\n",
      "Test set:  (351240, 18)\n",
      "Train set:  (1404960, 18)\n",
      "Test set:  (351240, 18)\n",
      "Train set:  (1404960, 18)\n",
      "Test set:  (351240, 18)\n",
      "Train set:  (1404960, 18)\n",
      "Test set:  (351240, 18)\n"
     ]
    }
   ],
   "source": [
    "metrics_list_lr = []\n",
    "print(\"\\n----------------------------\", file=sourceFile)\n",
    "print(\"\\nLinear Regression\\n\", file=sourceFile)\n",
    "print(\"----------------------------\\n\", file=sourceFile)\n",
    "for i in range(10):\n",
    "    print(\"\\nIteration\", i, file=sourceFile)\n",
    "    mse, wape, r2, model_lr = test_leave_house_out(df, LinearRegression(), number_of_timesteps, num_houses_test, locations[i], sourceFile)\n",
    "    metrics_list_lr.append((mse, wape, r2))"
   ]
  },
  {
   "cell_type": "markdown",
   "id": "1e4142f8",
   "metadata": {},
   "source": [
    "### XGBoost"
   ]
  },
  {
   "cell_type": "code",
   "execution_count": 318,
   "id": "29000235",
   "metadata": {},
   "outputs": [
    {
     "name": "stdout",
     "output_type": "stream",
     "text": [
      "Train set:  (1404960, 18)\n",
      "Test set:  (351240, 18)\n",
      "Train set:  (1404960, 18)\n",
      "Test set:  (351240, 18)\n",
      "Train set:  (1404960, 18)\n",
      "Test set:  (351240, 18)\n",
      "Train set:  (1404960, 18)\n",
      "Test set:  (351240, 18)\n",
      "Train set:  (1404960, 18)\n",
      "Test set:  (351240, 18)\n",
      "Train set:  (1404960, 18)\n",
      "Test set:  (351240, 18)\n",
      "Train set:  (1404960, 18)\n",
      "Test set:  (351240, 18)\n",
      "Train set:  (1404960, 18)\n",
      "Test set:  (351240, 18)\n",
      "Train set:  (1404960, 18)\n",
      "Test set:  (351240, 18)\n",
      "Train set:  (1404960, 18)\n",
      "Test set:  (351240, 18)\n"
     ]
    }
   ],
   "source": [
    "metrics_list_xgb = []\n",
    "print(\"\\n----------------------------\", file=sourceFile)\n",
    "print(\"\\nXGBoost\\n\", file=sourceFile)\n",
    "print(\"----------------------------\\n\", file=sourceFile)\n",
    "for i in range(10):\n",
    "    print(\"\\nIteration\", i, file=sourceFile)\n",
    "    mse, wape, r2, model_xgb = test_leave_house_out(df, xgb.XGBRegressor(tree_method='gpu_hist', seed=0), number_of_timesteps, num_houses_test, locations[i], sourceFile)\n",
    "    metrics_list_xgb.append((mse, wape, r2))"
   ]
  },
  {
   "cell_type": "markdown",
   "id": "bc81a8ce",
   "metadata": {},
   "source": [
    "### Random Forest"
   ]
  },
  {
   "cell_type": "code",
   "execution_count": 319,
   "id": "81a082e6",
   "metadata": {},
   "outputs": [
    {
     "name": "stdout",
     "output_type": "stream",
     "text": [
      "Train set:  (1404960, 18)\n",
      "Test set:  (351240, 18)\n"
     ]
    },
    {
     "name": "stderr",
     "output_type": "stream",
     "text": [
      "/home/francisco.monteiro@av.it.pt/miniconda3/envs/rapids-23.02/lib/python3.8/site-packages/cuml/internals/api_decorators.py:190: UserWarning: To use pickling first train using float32 data to fit the estimator\n",
      "  ret = func(*args, **kwargs)\n"
     ]
    },
    {
     "name": "stdout",
     "output_type": "stream",
     "text": [
      "Train set:  (1404960, 18)\n",
      "Test set:  (351240, 18)\n"
     ]
    },
    {
     "name": "stderr",
     "output_type": "stream",
     "text": [
      "/home/francisco.monteiro@av.it.pt/miniconda3/envs/rapids-23.02/lib/python3.8/site-packages/cuml/internals/api_decorators.py:190: UserWarning: To use pickling first train using float32 data to fit the estimator\n",
      "  ret = func(*args, **kwargs)\n"
     ]
    },
    {
     "name": "stdout",
     "output_type": "stream",
     "text": [
      "Train set:  (1404960, 18)\n",
      "Test set:  (351240, 18)\n"
     ]
    },
    {
     "name": "stderr",
     "output_type": "stream",
     "text": [
      "/home/francisco.monteiro@av.it.pt/miniconda3/envs/rapids-23.02/lib/python3.8/site-packages/cuml/internals/api_decorators.py:190: UserWarning: To use pickling first train using float32 data to fit the estimator\n",
      "  ret = func(*args, **kwargs)\n"
     ]
    },
    {
     "name": "stdout",
     "output_type": "stream",
     "text": [
      "Train set:  (1404960, 18)\n",
      "Test set:  (351240, 18)\n"
     ]
    },
    {
     "name": "stderr",
     "output_type": "stream",
     "text": [
      "/home/francisco.monteiro@av.it.pt/miniconda3/envs/rapids-23.02/lib/python3.8/site-packages/cuml/internals/api_decorators.py:190: UserWarning: To use pickling first train using float32 data to fit the estimator\n",
      "  ret = func(*args, **kwargs)\n"
     ]
    },
    {
     "name": "stdout",
     "output_type": "stream",
     "text": [
      "Train set:  (1404960, 18)\n",
      "Test set:  (351240, 18)\n"
     ]
    },
    {
     "name": "stderr",
     "output_type": "stream",
     "text": [
      "/home/francisco.monteiro@av.it.pt/miniconda3/envs/rapids-23.02/lib/python3.8/site-packages/cuml/internals/api_decorators.py:190: UserWarning: To use pickling first train using float32 data to fit the estimator\n",
      "  ret = func(*args, **kwargs)\n"
     ]
    },
    {
     "name": "stdout",
     "output_type": "stream",
     "text": [
      "Train set:  (1404960, 18)\n",
      "Test set:  (351240, 18)\n"
     ]
    },
    {
     "name": "stderr",
     "output_type": "stream",
     "text": [
      "/home/francisco.monteiro@av.it.pt/miniconda3/envs/rapids-23.02/lib/python3.8/site-packages/cuml/internals/api_decorators.py:190: UserWarning: To use pickling first train using float32 data to fit the estimator\n",
      "  ret = func(*args, **kwargs)\n"
     ]
    },
    {
     "name": "stdout",
     "output_type": "stream",
     "text": [
      "Train set:  (1404960, 18)\n",
      "Test set:  (351240, 18)\n"
     ]
    },
    {
     "name": "stderr",
     "output_type": "stream",
     "text": [
      "/home/francisco.monteiro@av.it.pt/miniconda3/envs/rapids-23.02/lib/python3.8/site-packages/cuml/internals/api_decorators.py:190: UserWarning: To use pickling first train using float32 data to fit the estimator\n",
      "  ret = func(*args, **kwargs)\n"
     ]
    },
    {
     "name": "stdout",
     "output_type": "stream",
     "text": [
      "Train set:  (1404960, 18)\n",
      "Test set:  (351240, 18)\n"
     ]
    },
    {
     "name": "stderr",
     "output_type": "stream",
     "text": [
      "/home/francisco.monteiro@av.it.pt/miniconda3/envs/rapids-23.02/lib/python3.8/site-packages/cuml/internals/api_decorators.py:190: UserWarning: To use pickling first train using float32 data to fit the estimator\n",
      "  ret = func(*args, **kwargs)\n"
     ]
    },
    {
     "name": "stdout",
     "output_type": "stream",
     "text": [
      "Train set:  (1404960, 18)\n",
      "Test set:  (351240, 18)\n"
     ]
    },
    {
     "name": "stderr",
     "output_type": "stream",
     "text": [
      "/home/francisco.monteiro@av.it.pt/miniconda3/envs/rapids-23.02/lib/python3.8/site-packages/cuml/internals/api_decorators.py:190: UserWarning: To use pickling first train using float32 data to fit the estimator\n",
      "  ret = func(*args, **kwargs)\n"
     ]
    },
    {
     "name": "stdout",
     "output_type": "stream",
     "text": [
      "Train set:  (1404960, 18)\n",
      "Test set:  (351240, 18)\n"
     ]
    },
    {
     "name": "stderr",
     "output_type": "stream",
     "text": [
      "/home/francisco.monteiro@av.it.pt/miniconda3/envs/rapids-23.02/lib/python3.8/site-packages/cuml/internals/api_decorators.py:190: UserWarning: To use pickling first train using float32 data to fit the estimator\n",
      "  ret = func(*args, **kwargs)\n"
     ]
    }
   ],
   "source": [
    "metrics_list_rf = []\n",
    "print(\"\\n----------------------------\", file=sourceFile)\n",
    "print(\"\\nRandom Forest\\n\", file=sourceFile)\n",
    "print(\"----------------------------\\n\", file=sourceFile)\n",
    "for i in range(10):\n",
    "    print(\"\\nIteration\", i, file=sourceFile)\n",
    "    mse, wape, r2, model_rf = test_leave_house_out(df, cuRF(), number_of_timesteps, num_houses_test, locations[i], sourceFile)\n",
    "    metrics_list_rf.append((mse, wape, r2))"
   ]
  },
  {
   "attachments": {},
   "cell_type": "markdown",
   "id": "1d80b4bb",
   "metadata": {},
   "source": [
    "## Averaged Metrics"
   ]
  },
  {
   "cell_type": "code",
   "execution_count": 320,
   "id": "34d0f88f",
   "metadata": {},
   "outputs": [],
   "source": [
    "print(\"\\n\\n\\n\", file=sourceFile)"
   ]
  },
  {
   "cell_type": "code",
   "execution_count": 321,
   "id": "c4d11803",
   "metadata": {},
   "outputs": [],
   "source": [
    "print(\"\\nLinear Regression\", file=sourceFile)\n",
    "total_averaged_metrics(metrics_list_lr, sourceFile)"
   ]
  },
  {
   "cell_type": "code",
   "execution_count": 322,
   "id": "9038241b",
   "metadata": {},
   "outputs": [],
   "source": [
    "print(\"\\nXGBoost\", file=sourceFile)\n",
    "total_averaged_metrics(metrics_list_xgb, sourceFile)"
   ]
  },
  {
   "cell_type": "code",
   "execution_count": 323,
   "id": "387e0bf7",
   "metadata": {},
   "outputs": [],
   "source": [
    "print(\"\\nRandom Forest\", file=sourceFile)\n",
    "total_averaged_metrics(metrics_list_rf, sourceFile)"
   ]
  },
  {
   "cell_type": "markdown",
   "id": "bb5c8ff5",
   "metadata": {},
   "source": [
    "### Feature Importance"
   ]
  },
  {
   "cell_type": "code",
   "execution_count": 324,
   "id": "b6a7d8db",
   "metadata": {},
   "outputs": [
    {
     "name": "stdout",
     "output_type": "stream",
     "text": [
      "Linear Regression\n",
      "\n",
      "Feature: 0, Score: 8.99801\n",
      "Feature: 1, Score: -1.22476\n",
      "Feature: 2, Score: 1.40355\n",
      "Feature: 3, Score: -0.54625\n",
      "Feature: 4, Score: 0.88743\n",
      "Feature: 5, Score: 0.06343\n",
      "Feature: 6, Score: 0.04582\n",
      "Feature: 7, Score: -0.21591\n",
      "Feature: 8, Score: 0.29139\n",
      "Feature: 9, Score: 0.03014\n",
      "Feature: 10, Score: 0.02695\n",
      "Feature: 11, Score: -0.02069\n",
      "Feature: 12, Score: 0.00919\n",
      "Feature: 13, Score: -0.00432\n",
      "Feature: 14, Score: 0.04420\n",
      "XGBoost\n",
      "\n",
      "Feature: 0, Score: 0.88034\n",
      "Feature: 1, Score: 0.01385\n",
      "Feature: 2, Score: 0.02010\n",
      "Feature: 3, Score: 0.00780\n",
      "Feature: 4, Score: 0.01416\n",
      "Feature: 5, Score: 0.00987\n",
      "Feature: 6, Score: 0.00756\n",
      "Feature: 7, Score: 0.00613\n",
      "Feature: 8, Score: 0.00666\n",
      "Feature: 9, Score: 0.00567\n",
      "Feature: 10, Score: 0.00538\n",
      "Feature: 11, Score: 0.00670\n",
      "Feature: 12, Score: 0.00489\n",
      "Feature: 13, Score: 0.00000\n",
      "Feature: 14, Score: 0.01090\n"
     ]
    }
   ],
   "source": [
    "print('Linear Regression\\n')\n",
    "for i,v in enumerate(model_lr.coef_):\n",
    "    print('Feature: %0d, Score: %.5f' % (i,v))\n",
    "print('XGBoost\\n')\n",
    "for i,v in enumerate(model_xgb.feature_importances_):\n",
    "    print('Feature: %0d, Score: %.5f' % (i,v))"
   ]
  },
  {
   "cell_type": "code",
   "execution_count": 325,
   "id": "0f698b11",
   "metadata": {},
   "outputs": [
    {
     "data": {
      "image/png": "[encoded data removed]",
      "text/plain": [
       "<Figure size 640x480 with 1 Axes>"
      ]
     },
     "metadata": {},
     "output_type": "display_data"
    }
   ],
   "source": [
    "plt.bar(range(len(model_xgb.feature_importances_)),model_xgb.feature_importances_)\n",
    "plt.title('Feature Importance')\n",
    "plt.xlabel('Feature')\n",
    "plt.ylabel('Importance')\n",
    "plt.show()"
   ]
  },
  {
   "cell_type": "code",
   "execution_count": 326,
   "id": "71aef5fc",
   "metadata": {},
   "outputs": [
    {
     "data": {
      "image/png": "[encoded data removed]",
      "text/plain": [
       "<Figure size 640x480 with 1 Axes>"
      ]
     },
     "metadata": {},
     "output_type": "display_data"
    }
   ],
   "source": [
    "plt.bar(range(len(model_lr.coef_)),model_lr.coef_)\n",
    "plt.title('Feature Importance')\n",
    "plt.xlabel('Feature')\n",
    "plt.ylabel('Importance')\n",
    "plt.show()"
   ]
  },
  {
   "cell_type": "code",
   "execution_count": 327,
   "id": "6aa50a8a",
   "metadata": {},
   "outputs": [],
   "source": [
    "sourceFile.close()"
   ]
  },
  {
   "cell_type": "code",
   "execution_count": null,
   "id": "33dcc203",
   "metadata": {},
   "outputs": [],
   "source": []
  }
 ],
 "metadata": {
  "kernelspec": {
   "display_name": "Python 3 (ipykernel)",
   "language": "python",
   "name": "python3"
  },
  "language_info": {
   "codemirror_mode": {
    "name": "ipython",
    "version": 3
   },
   "file_extension": ".py",
   "mimetype": "text/x-python",
   "name": "python",
   "nbconvert_exporter": "python",
   "pygments_lexer": "ipython3",
   "version": "3.8.16"
  }
 },
 "nbformat": 4,
 "nbformat_minor": 5
}
