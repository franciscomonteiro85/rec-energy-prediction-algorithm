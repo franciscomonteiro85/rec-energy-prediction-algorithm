{
 "cells": [
  {
   "cell_type": "code",
   "execution_count": 1,
   "id": "652eddb0",
   "metadata": {},
   "outputs": [],
   "source": [
    "import warnings\n",
    "warnings.filterwarnings('ignore',category=FutureWarning)\n",
    "warnings.filterwarnings('ignore',category=DeprecationWarning)\n",
    "import numpy as np\n",
    "import pandas as pd\n",
    "import matplotlib.pyplot as plt\n",
    "from sklearn.model_selection import train_test_split, cross_val_score, cross_validate, KFold\n",
    "import xgboost as xgb\n",
    "from sklearn.metrics import mean_squared_error, r2_score, mean_absolute_error\n",
    "from sklearn.preprocessing import MinMaxScaler\n",
    "import math\n",
    "import time"
   ]
  },
  {
   "cell_type": "code",
   "execution_count": 2,
   "id": "c019fe1f",
   "metadata": {},
   "outputs": [
    {
     "data": {
      "text/html": [
       "<div>\n",
       "<style scoped>\n",
       "    .dataframe tbody tr th:only-of-type {\n",
       "        vertical-align: middle;\n",
       "    }\n",
       "\n",
       "    .dataframe tbody tr th {\n",
       "        vertical-align: top;\n",
       "    }\n",
       "\n",
       "    .dataframe thead th {\n",
       "        text-align: right;\n",
       "    }\n",
       "</style>\n",
       "<table border=\"1\" class=\"dataframe\">\n",
       "  <thead>\n",
       "    <tr style=\"text-align: right;\">\n",
       "      <th></th>\n",
       "      <th>Time</th>\n",
       "      <th>Energy_1</th>\n",
       "      <th>Energy_2</th>\n",
       "      <th>Energy_9</th>\n",
       "      <th>Energy_11</th>\n",
       "      <th>Energy_15</th>\n",
       "      <th>Energy_16</th>\n",
       "      <th>Energy_17</th>\n",
       "      <th>Energy_29</th>\n",
       "      <th>Energy_30</th>\n",
       "      <th>...</th>\n",
       "      <th>Energy_139</th>\n",
       "      <th>Energy_142</th>\n",
       "      <th>Energy_146</th>\n",
       "      <th>Energy_148</th>\n",
       "      <th>Energy_151</th>\n",
       "      <th>Energy_159</th>\n",
       "      <th>Energy_160</th>\n",
       "      <th>Energy_161</th>\n",
       "      <th>Energy_164</th>\n",
       "      <th>Energy_172</th>\n",
       "    </tr>\n",
       "  </thead>\n",
       "  <tbody>\n",
       "    <tr>\n",
       "      <th>0</th>\n",
       "      <td>2022-05-05 12:00:00</td>\n",
       "      <td>0.068</td>\n",
       "      <td>0.018</td>\n",
       "      <td>0.024</td>\n",
       "      <td>0.114</td>\n",
       "      <td>0.164</td>\n",
       "      <td>0.072</td>\n",
       "      <td>0.055</td>\n",
       "      <td>0.011</td>\n",
       "      <td>0.006</td>\n",
       "      <td>...</td>\n",
       "      <td>0.083</td>\n",
       "      <td>0.084</td>\n",
       "      <td>0.068</td>\n",
       "      <td>0.060</td>\n",
       "      <td>0.042</td>\n",
       "      <td>0.055</td>\n",
       "      <td>0.069</td>\n",
       "      <td>0.010</td>\n",
       "      <td>0.004</td>\n",
       "      <td>0.008</td>\n",
       "    </tr>\n",
       "    <tr>\n",
       "      <th>1</th>\n",
       "      <td>2022-05-05 12:15:00</td>\n",
       "      <td>0.070</td>\n",
       "      <td>0.018</td>\n",
       "      <td>0.024</td>\n",
       "      <td>0.190</td>\n",
       "      <td>0.135</td>\n",
       "      <td>0.058</td>\n",
       "      <td>0.060</td>\n",
       "      <td>0.002</td>\n",
       "      <td>0.006</td>\n",
       "      <td>...</td>\n",
       "      <td>0.053</td>\n",
       "      <td>0.004</td>\n",
       "      <td>0.048</td>\n",
       "      <td>0.078</td>\n",
       "      <td>0.053</td>\n",
       "      <td>0.055</td>\n",
       "      <td>0.063</td>\n",
       "      <td>0.010</td>\n",
       "      <td>0.003</td>\n",
       "      <td>0.056</td>\n",
       "    </tr>\n",
       "    <tr>\n",
       "      <th>2</th>\n",
       "      <td>2022-05-05 12:30:00</td>\n",
       "      <td>0.122</td>\n",
       "      <td>0.018</td>\n",
       "      <td>0.024</td>\n",
       "      <td>0.180</td>\n",
       "      <td>0.121</td>\n",
       "      <td>0.011</td>\n",
       "      <td>0.096</td>\n",
       "      <td>0.010</td>\n",
       "      <td>0.006</td>\n",
       "      <td>...</td>\n",
       "      <td>0.035</td>\n",
       "      <td>0.004</td>\n",
       "      <td>0.062</td>\n",
       "      <td>0.061</td>\n",
       "      <td>0.057</td>\n",
       "      <td>0.055</td>\n",
       "      <td>0.049</td>\n",
       "      <td>0.010</td>\n",
       "      <td>0.004</td>\n",
       "      <td>0.033</td>\n",
       "    </tr>\n",
       "    <tr>\n",
       "      <th>3</th>\n",
       "      <td>2022-05-05 12:45:00</td>\n",
       "      <td>0.132</td>\n",
       "      <td>0.018</td>\n",
       "      <td>0.024</td>\n",
       "      <td>0.167</td>\n",
       "      <td>0.138</td>\n",
       "      <td>0.010</td>\n",
       "      <td>0.064</td>\n",
       "      <td>0.004</td>\n",
       "      <td>0.006</td>\n",
       "      <td>...</td>\n",
       "      <td>0.082</td>\n",
       "      <td>0.004</td>\n",
       "      <td>0.056</td>\n",
       "      <td>0.125</td>\n",
       "      <td>0.034</td>\n",
       "      <td>0.055</td>\n",
       "      <td>0.097</td>\n",
       "      <td>0.010</td>\n",
       "      <td>0.004</td>\n",
       "      <td>0.062</td>\n",
       "    </tr>\n",
       "    <tr>\n",
       "      <th>4</th>\n",
       "      <td>2022-05-05 13:00:00</td>\n",
       "      <td>0.125</td>\n",
       "      <td>0.018</td>\n",
       "      <td>0.024</td>\n",
       "      <td>0.133</td>\n",
       "      <td>0.104</td>\n",
       "      <td>0.011</td>\n",
       "      <td>0.072</td>\n",
       "      <td>0.002</td>\n",
       "      <td>0.006</td>\n",
       "      <td>...</td>\n",
       "      <td>0.076</td>\n",
       "      <td>0.004</td>\n",
       "      <td>0.034</td>\n",
       "      <td>0.070</td>\n",
       "      <td>0.038</td>\n",
       "      <td>0.055</td>\n",
       "      <td>0.075</td>\n",
       "      <td>0.010</td>\n",
       "      <td>0.004</td>\n",
       "      <td>0.024</td>\n",
       "    </tr>\n",
       "    <tr>\n",
       "      <th>...</th>\n",
       "      <td>...</td>\n",
       "      <td>...</td>\n",
       "      <td>...</td>\n",
       "      <td>...</td>\n",
       "      <td>...</td>\n",
       "      <td>...</td>\n",
       "      <td>...</td>\n",
       "      <td>...</td>\n",
       "      <td>...</td>\n",
       "      <td>...</td>\n",
       "      <td>...</td>\n",
       "      <td>...</td>\n",
       "      <td>...</td>\n",
       "      <td>...</td>\n",
       "      <td>...</td>\n",
       "      <td>...</td>\n",
       "      <td>...</td>\n",
       "      <td>...</td>\n",
       "      <td>...</td>\n",
       "      <td>...</td>\n",
       "      <td>...</td>\n",
       "    </tr>\n",
       "    <tr>\n",
       "      <th>38011</th>\n",
       "      <td>2023-06-05 10:45:00</td>\n",
       "      <td>0.094</td>\n",
       "      <td>0.032</td>\n",
       "      <td>0.074</td>\n",
       "      <td>0.203</td>\n",
       "      <td>0.108</td>\n",
       "      <td>0.002</td>\n",
       "      <td>0.124</td>\n",
       "      <td>0.012</td>\n",
       "      <td>0.013</td>\n",
       "      <td>...</td>\n",
       "      <td>0.063</td>\n",
       "      <td>0.004</td>\n",
       "      <td>0.063</td>\n",
       "      <td>0.014</td>\n",
       "      <td>0.042</td>\n",
       "      <td>0.168</td>\n",
       "      <td>0.397</td>\n",
       "      <td>0.019</td>\n",
       "      <td>0.003</td>\n",
       "      <td>0.028</td>\n",
       "    </tr>\n",
       "    <tr>\n",
       "      <th>38012</th>\n",
       "      <td>2023-06-05 11:00:00</td>\n",
       "      <td>0.094</td>\n",
       "      <td>0.032</td>\n",
       "      <td>0.074</td>\n",
       "      <td>0.203</td>\n",
       "      <td>0.108</td>\n",
       "      <td>0.002</td>\n",
       "      <td>0.124</td>\n",
       "      <td>0.012</td>\n",
       "      <td>0.013</td>\n",
       "      <td>...</td>\n",
       "      <td>0.063</td>\n",
       "      <td>0.004</td>\n",
       "      <td>0.063</td>\n",
       "      <td>0.014</td>\n",
       "      <td>0.042</td>\n",
       "      <td>0.168</td>\n",
       "      <td>0.397</td>\n",
       "      <td>0.019</td>\n",
       "      <td>0.003</td>\n",
       "      <td>0.028</td>\n",
       "    </tr>\n",
       "    <tr>\n",
       "      <th>38013</th>\n",
       "      <td>2023-06-05 11:15:00</td>\n",
       "      <td>0.094</td>\n",
       "      <td>0.032</td>\n",
       "      <td>0.074</td>\n",
       "      <td>0.203</td>\n",
       "      <td>0.108</td>\n",
       "      <td>0.002</td>\n",
       "      <td>0.124</td>\n",
       "      <td>0.012</td>\n",
       "      <td>0.013</td>\n",
       "      <td>...</td>\n",
       "      <td>0.063</td>\n",
       "      <td>0.004</td>\n",
       "      <td>0.063</td>\n",
       "      <td>0.014</td>\n",
       "      <td>0.042</td>\n",
       "      <td>0.168</td>\n",
       "      <td>0.397</td>\n",
       "      <td>0.019</td>\n",
       "      <td>0.003</td>\n",
       "      <td>0.028</td>\n",
       "    </tr>\n",
       "    <tr>\n",
       "      <th>38014</th>\n",
       "      <td>2023-06-05 11:30:00</td>\n",
       "      <td>0.094</td>\n",
       "      <td>0.032</td>\n",
       "      <td>0.074</td>\n",
       "      <td>0.203</td>\n",
       "      <td>0.108</td>\n",
       "      <td>0.002</td>\n",
       "      <td>0.124</td>\n",
       "      <td>0.012</td>\n",
       "      <td>0.013</td>\n",
       "      <td>...</td>\n",
       "      <td>0.063</td>\n",
       "      <td>0.004</td>\n",
       "      <td>0.063</td>\n",
       "      <td>0.014</td>\n",
       "      <td>0.042</td>\n",
       "      <td>0.168</td>\n",
       "      <td>0.397</td>\n",
       "      <td>0.019</td>\n",
       "      <td>0.003</td>\n",
       "      <td>0.028</td>\n",
       "    </tr>\n",
       "    <tr>\n",
       "      <th>38015</th>\n",
       "      <td>2023-06-05 11:45:00</td>\n",
       "      <td>0.094</td>\n",
       "      <td>0.032</td>\n",
       "      <td>0.074</td>\n",
       "      <td>0.203</td>\n",
       "      <td>0.108</td>\n",
       "      <td>0.002</td>\n",
       "      <td>0.124</td>\n",
       "      <td>0.012</td>\n",
       "      <td>0.013</td>\n",
       "      <td>...</td>\n",
       "      <td>0.063</td>\n",
       "      <td>0.004</td>\n",
       "      <td>0.063</td>\n",
       "      <td>0.014</td>\n",
       "      <td>0.042</td>\n",
       "      <td>0.168</td>\n",
       "      <td>0.397</td>\n",
       "      <td>0.019</td>\n",
       "      <td>0.003</td>\n",
       "      <td>0.028</td>\n",
       "    </tr>\n",
       "  </tbody>\n",
       "</table>\n",
       "<p>38016 rows × 46 columns</p>\n",
       "</div>"
      ],
      "text/plain": [
       "                      Time  Energy_1  Energy_2  Energy_9  Energy_11  \\\n",
       "0      2022-05-05 12:00:00     0.068     0.018     0.024      0.114   \n",
       "1      2022-05-05 12:15:00     0.070     0.018     0.024      0.190   \n",
       "2      2022-05-05 12:30:00     0.122     0.018     0.024      0.180   \n",
       "3      2022-05-05 12:45:00     0.132     0.018     0.024      0.167   \n",
       "4      2022-05-05 13:00:00     0.125     0.018     0.024      0.133   \n",
       "...                    ...       ...       ...       ...        ...   \n",
       "38011  2023-06-05 10:45:00     0.094     0.032     0.074      0.203   \n",
       "38012  2023-06-05 11:00:00     0.094     0.032     0.074      0.203   \n",
       "38013  2023-06-05 11:15:00     0.094     0.032     0.074      0.203   \n",
       "38014  2023-06-05 11:30:00     0.094     0.032     0.074      0.203   \n",
       "38015  2023-06-05 11:45:00     0.094     0.032     0.074      0.203   \n",
       "\n",
       "       Energy_15  Energy_16  Energy_17  Energy_29  Energy_30  ...  Energy_139  \\\n",
       "0          0.164      0.072      0.055      0.011      0.006  ...       0.083   \n",
       "1          0.135      0.058      0.060      0.002      0.006  ...       0.053   \n",
       "2          0.121      0.011      0.096      0.010      0.006  ...       0.035   \n",
       "3          0.138      0.010      0.064      0.004      0.006  ...       0.082   \n",
       "4          0.104      0.011      0.072      0.002      0.006  ...       0.076   \n",
       "...          ...        ...        ...        ...        ...  ...         ...   \n",
       "38011      0.108      0.002      0.124      0.012      0.013  ...       0.063   \n",
       "38012      0.108      0.002      0.124      0.012      0.013  ...       0.063   \n",
       "38013      0.108      0.002      0.124      0.012      0.013  ...       0.063   \n",
       "38014      0.108      0.002      0.124      0.012      0.013  ...       0.063   \n",
       "38015      0.108      0.002      0.124      0.012      0.013  ...       0.063   \n",
       "\n",
       "       Energy_142  Energy_146  Energy_148  Energy_151  Energy_159  Energy_160  \\\n",
       "0           0.084       0.068       0.060       0.042       0.055       0.069   \n",
       "1           0.004       0.048       0.078       0.053       0.055       0.063   \n",
       "2           0.004       0.062       0.061       0.057       0.055       0.049   \n",
       "3           0.004       0.056       0.125       0.034       0.055       0.097   \n",
       "4           0.004       0.034       0.070       0.038       0.055       0.075   \n",
       "...           ...         ...         ...         ...         ...         ...   \n",
       "38011       0.004       0.063       0.014       0.042       0.168       0.397   \n",
       "38012       0.004       0.063       0.014       0.042       0.168       0.397   \n",
       "38013       0.004       0.063       0.014       0.042       0.168       0.397   \n",
       "38014       0.004       0.063       0.014       0.042       0.168       0.397   \n",
       "38015       0.004       0.063       0.014       0.042       0.168       0.397   \n",
       "\n",
       "       Energy_161  Energy_164  Energy_172  \n",
       "0           0.010       0.004       0.008  \n",
       "1           0.010       0.003       0.056  \n",
       "2           0.010       0.004       0.033  \n",
       "3           0.010       0.004       0.062  \n",
       "4           0.010       0.004       0.024  \n",
       "...           ...         ...         ...  \n",
       "38011       0.019       0.003       0.028  \n",
       "38012       0.019       0.003       0.028  \n",
       "38013       0.019       0.003       0.028  \n",
       "38014       0.019       0.003       0.028  \n",
       "38015       0.019       0.003       0.028  \n",
       "\n",
       "[38016 rows x 46 columns]"
      ]
     },
     "execution_count": 2,
     "metadata": {},
     "output_type": "execute_result"
    }
   ],
   "source": [
    "df = pd.read_csv('../../data/loureiro_45houses.csv')\n",
    "df"
   ]
  },
  {
   "cell_type": "code",
   "execution_count": 3,
   "id": "2fa5e9ea",
   "metadata": {},
   "outputs": [
    {
     "data": {
      "text/html": [
       "<div>\n",
       "<style scoped>\n",
       "    .dataframe tbody tr th:only-of-type {\n",
       "        vertical-align: middle;\n",
       "    }\n",
       "\n",
       "    .dataframe tbody tr th {\n",
       "        vertical-align: top;\n",
       "    }\n",
       "\n",
       "    .dataframe thead th {\n",
       "        text-align: right;\n",
       "    }\n",
       "</style>\n",
       "<table border=\"1\" class=\"dataframe\">\n",
       "  <thead>\n",
       "    <tr style=\"text-align: right;\">\n",
       "      <th></th>\n",
       "      <th>Time</th>\n",
       "      <th>Energy</th>\n",
       "      <th>Location</th>\n",
       "    </tr>\n",
       "  </thead>\n",
       "  <tbody>\n",
       "    <tr>\n",
       "      <th>0</th>\n",
       "      <td>2022-05-05 12:00:00</td>\n",
       "      <td>0.068</td>\n",
       "      <td>Energy_1</td>\n",
       "    </tr>\n",
       "    <tr>\n",
       "      <th>1</th>\n",
       "      <td>2022-05-05 12:15:00</td>\n",
       "      <td>0.070</td>\n",
       "      <td>Energy_1</td>\n",
       "    </tr>\n",
       "    <tr>\n",
       "      <th>2</th>\n",
       "      <td>2022-05-05 12:30:00</td>\n",
       "      <td>0.122</td>\n",
       "      <td>Energy_1</td>\n",
       "    </tr>\n",
       "    <tr>\n",
       "      <th>3</th>\n",
       "      <td>2022-05-05 12:45:00</td>\n",
       "      <td>0.132</td>\n",
       "      <td>Energy_1</td>\n",
       "    </tr>\n",
       "    <tr>\n",
       "      <th>4</th>\n",
       "      <td>2022-05-05 13:00:00</td>\n",
       "      <td>0.125</td>\n",
       "      <td>Energy_1</td>\n",
       "    </tr>\n",
       "    <tr>\n",
       "      <th>...</th>\n",
       "      <td>...</td>\n",
       "      <td>...</td>\n",
       "      <td>...</td>\n",
       "    </tr>\n",
       "    <tr>\n",
       "      <th>1710715</th>\n",
       "      <td>2023-06-05 10:45:00</td>\n",
       "      <td>0.028</td>\n",
       "      <td>Energy_172</td>\n",
       "    </tr>\n",
       "    <tr>\n",
       "      <th>1710716</th>\n",
       "      <td>2023-06-05 11:00:00</td>\n",
       "      <td>0.028</td>\n",
       "      <td>Energy_172</td>\n",
       "    </tr>\n",
       "    <tr>\n",
       "      <th>1710717</th>\n",
       "      <td>2023-06-05 11:15:00</td>\n",
       "      <td>0.028</td>\n",
       "      <td>Energy_172</td>\n",
       "    </tr>\n",
       "    <tr>\n",
       "      <th>1710718</th>\n",
       "      <td>2023-06-05 11:30:00</td>\n",
       "      <td>0.028</td>\n",
       "      <td>Energy_172</td>\n",
       "    </tr>\n",
       "    <tr>\n",
       "      <th>1710719</th>\n",
       "      <td>2023-06-05 11:45:00</td>\n",
       "      <td>0.028</td>\n",
       "      <td>Energy_172</td>\n",
       "    </tr>\n",
       "  </tbody>\n",
       "</table>\n",
       "<p>1710720 rows × 3 columns</p>\n",
       "</div>"
      ],
      "text/plain": [
       "                        Time  Energy    Location\n",
       "0        2022-05-05 12:00:00   0.068    Energy_1\n",
       "1        2022-05-05 12:15:00   0.070    Energy_1\n",
       "2        2022-05-05 12:30:00   0.122    Energy_1\n",
       "3        2022-05-05 12:45:00   0.132    Energy_1\n",
       "4        2022-05-05 13:00:00   0.125    Energy_1\n",
       "...                      ...     ...         ...\n",
       "1710715  2023-06-05 10:45:00   0.028  Energy_172\n",
       "1710716  2023-06-05 11:00:00   0.028  Energy_172\n",
       "1710717  2023-06-05 11:15:00   0.028  Energy_172\n",
       "1710718  2023-06-05 11:30:00   0.028  Energy_172\n",
       "1710719  2023-06-05 11:45:00   0.028  Energy_172\n",
       "\n",
       "[1710720 rows x 3 columns]"
      ]
     },
     "execution_count": 3,
     "metadata": {},
     "output_type": "execute_result"
    }
   ],
   "source": [
    "df_location = pd.read_csv(\"../../data/loureiro_45houses_location.csv\")\n",
    "df_location"
   ]
  },
  {
   "cell_type": "code",
   "execution_count": 4,
   "id": "c471b7c6",
   "metadata": {},
   "outputs": [
    {
     "data": {
      "text/plain": [
       "(38016, 45)"
      ]
     },
     "execution_count": 4,
     "metadata": {},
     "output_type": "execute_result"
    }
   ],
   "source": [
    "num_samples_per_house = df_location.Location.value_counts()[0]\n",
    "num_houses = df_location.Location.nunique()\n",
    "num_samples_per_house, num_houses"
   ]
  },
  {
   "cell_type": "code",
   "execution_count": 5,
   "id": "f90d489b",
   "metadata": {},
   "outputs": [],
   "source": [
    "def no_ml_predict(X: np.array, y: np.array):\n",
    "    rmse = truncate_metric(mean_squared_error(X, y, squared=False))\n",
    "    #wape = mean_absolute_error(X,y) / y.mean()\n",
    "    wape = truncate_metric(float(np.sum(np.abs(X - y)) / np.sum(np.abs(y))))\n",
    "    r2 = truncate_metric(r2_score(X, y))\n",
    "    \n",
    "    print('RMSE: %.4f' % rmse)\n",
    "    print('WAPE: %.2f' % (wape * 100))\n",
    "    print('R2: %.4f' % r2)\n",
    "    return rmse, wape, r2\n",
    "\n",
    "\n",
    "def truncate_metric(metric):\n",
    "    m = math.trunc(10000*metric) / 10000\n",
    "    return m\n",
    "\n",
    "def truncate(df):\n",
    "    trunc = lambda x: math.trunc(10000*x) / 10000\n",
    "    df_trunc = df.applymap(trunc)\n",
    "    return df_trunc\n",
    "\n",
    "def truncate_location(df):\n",
    "    trunc = lambda x: math.trunc(10000*x) / 10000\n",
    "    df_trunc = pd.DataFrame(df['Energy']).applymap(trunc)\n",
    "    df = pd.concat([df.iloc[:,0:-1], df_trunc],axis=1)\n",
    "    return df\n",
    "    \n",
    "def plot_results(preds: np.array, actuals: np.array, title: str):\n",
    "    \n",
    "    plt.scatter(actuals, preds, c='b', label='predicted')\n",
    "    plt.xlabel('actual')\n",
    "    plt.ylabel('predicted')\n",
    "    plt.title(title)\n",
    "    plt.xlim(0, plt.xlim()[1])\n",
    "    plt.ylim(0, plt.ylim()[1])\n",
    "    _ = plt.plot([0, 100], [0, 100], '--r', label='y=x')\n",
    "    plt.legend()\n",
    "    plt.show()\n",
    "    \n",
    "def total_averaged_metrics(metrics_list):\n",
    "    rmse = np.round(sum(i for i, j, k in metrics_list)/len(metrics_list),3)\n",
    "    wape = np.round(sum(j for i, j, k in metrics_list)/len(metrics_list),3)\n",
    "    r2 = np.round(sum(k for i, j, k in metrics_list)/len(metrics_list),3)\n",
    "    print(\"Total Averaged RMSE: {}\".format(rmse))\n",
    "    print(\"Total Averaged WAPE: {}\".format(wape * 100))\n",
    "    print(\"Total Averaged R2: {}\".format(r2))\n",
    "    return rmse, wape, r2"
   ]
  },
  {
   "cell_type": "code",
   "execution_count": 6,
   "id": "e8d58ba8",
   "metadata": {},
   "outputs": [],
   "source": [
    "def normalize_training(X_train):\n",
    "    scaler = MinMaxScaler(feature_range=(0,1))\n",
    "    scaler.fit(X_train)\n",
    "    X_train = scaler.transform(X_train)\n",
    "    return X_train, scaler"
   ]
  },
  {
   "cell_type": "code",
   "execution_count": 7,
   "id": "4781f2b7",
   "metadata": {},
   "outputs": [
    {
     "data": {
      "text/html": [
       "<div>\n",
       "<style scoped>\n",
       "    .dataframe tbody tr th:only-of-type {\n",
       "        vertical-align: middle;\n",
       "    }\n",
       "\n",
       "    .dataframe tbody tr th {\n",
       "        vertical-align: top;\n",
       "    }\n",
       "\n",
       "    .dataframe thead th {\n",
       "        text-align: right;\n",
       "    }\n",
       "</style>\n",
       "<table border=\"1\" class=\"dataframe\">\n",
       "  <thead>\n",
       "    <tr style=\"text-align: right;\">\n",
       "      <th></th>\n",
       "      <th>Energy</th>\n",
       "    </tr>\n",
       "  </thead>\n",
       "  <tbody>\n",
       "    <tr>\n",
       "      <th>0</th>\n",
       "      <td>3.231</td>\n",
       "    </tr>\n",
       "    <tr>\n",
       "      <th>1</th>\n",
       "      <td>3.043</td>\n",
       "    </tr>\n",
       "    <tr>\n",
       "      <th>2</th>\n",
       "      <td>2.959</td>\n",
       "    </tr>\n",
       "    <tr>\n",
       "      <th>3</th>\n",
       "      <td>3.067</td>\n",
       "    </tr>\n",
       "    <tr>\n",
       "      <th>4</th>\n",
       "      <td>2.987</td>\n",
       "    </tr>\n",
       "    <tr>\n",
       "      <th>...</th>\n",
       "      <td>...</td>\n",
       "    </tr>\n",
       "    <tr>\n",
       "      <th>38011</th>\n",
       "      <td>4.150</td>\n",
       "    </tr>\n",
       "    <tr>\n",
       "      <th>38012</th>\n",
       "      <td>4.149</td>\n",
       "    </tr>\n",
       "    <tr>\n",
       "      <th>38013</th>\n",
       "      <td>4.150</td>\n",
       "    </tr>\n",
       "    <tr>\n",
       "      <th>38014</th>\n",
       "      <td>4.179</td>\n",
       "    </tr>\n",
       "    <tr>\n",
       "      <th>38015</th>\n",
       "      <td>4.179</td>\n",
       "    </tr>\n",
       "  </tbody>\n",
       "</table>\n",
       "<p>38016 rows × 1 columns</p>\n",
       "</div>"
      ],
      "text/plain": [
       "       Energy\n",
       "0       3.231\n",
       "1       3.043\n",
       "2       2.959\n",
       "3       3.067\n",
       "4       2.987\n",
       "...       ...\n",
       "38011   4.150\n",
       "38012   4.149\n",
       "38013   4.150\n",
       "38014   4.179\n",
       "38015   4.179\n",
       "\n",
       "[38016 rows x 1 columns]"
      ]
     },
     "execution_count": 7,
     "metadata": {},
     "output_type": "execute_result"
    }
   ],
   "source": [
    "df_total = pd.DataFrame(df.sum(axis=1))\n",
    "df_total.columns = ['Energy']\n",
    "df_total"
   ]
  },
  {
   "cell_type": "markdown",
   "id": "93b2814a",
   "metadata": {},
   "source": [
    "## Individual 51 houses preprocessing\n",
    "### Previous 15 minutes"
   ]
  },
  {
   "cell_type": "code",
   "execution_count": 8,
   "id": "c41925d7",
   "metadata": {},
   "outputs": [
    {
     "data": {
      "text/html": [
       "<div>\n",
       "<style scoped>\n",
       "    .dataframe tbody tr th:only-of-type {\n",
       "        vertical-align: middle;\n",
       "    }\n",
       "\n",
       "    .dataframe tbody tr th {\n",
       "        vertical-align: top;\n",
       "    }\n",
       "\n",
       "    .dataframe thead th {\n",
       "        text-align: right;\n",
       "    }\n",
       "</style>\n",
       "<table border=\"1\" class=\"dataframe\">\n",
       "  <thead>\n",
       "    <tr style=\"text-align: right;\">\n",
       "      <th></th>\n",
       "      <th>Energy</th>\n",
       "    </tr>\n",
       "  </thead>\n",
       "  <tbody>\n",
       "    <tr>\n",
       "      <th>0</th>\n",
       "      <td>0.068</td>\n",
       "    </tr>\n",
       "    <tr>\n",
       "      <th>1</th>\n",
       "      <td>0.070</td>\n",
       "    </tr>\n",
       "    <tr>\n",
       "      <th>2</th>\n",
       "      <td>0.122</td>\n",
       "    </tr>\n",
       "    <tr>\n",
       "      <th>3</th>\n",
       "      <td>0.132</td>\n",
       "    </tr>\n",
       "    <tr>\n",
       "      <th>4</th>\n",
       "      <td>0.125</td>\n",
       "    </tr>\n",
       "    <tr>\n",
       "      <th>...</th>\n",
       "      <td>...</td>\n",
       "    </tr>\n",
       "    <tr>\n",
       "      <th>1710670</th>\n",
       "      <td>0.028</td>\n",
       "    </tr>\n",
       "    <tr>\n",
       "      <th>1710671</th>\n",
       "      <td>0.028</td>\n",
       "    </tr>\n",
       "    <tr>\n",
       "      <th>1710672</th>\n",
       "      <td>0.028</td>\n",
       "    </tr>\n",
       "    <tr>\n",
       "      <th>1710673</th>\n",
       "      <td>0.028</td>\n",
       "    </tr>\n",
       "    <tr>\n",
       "      <th>1710674</th>\n",
       "      <td>0.028</td>\n",
       "    </tr>\n",
       "  </tbody>\n",
       "</table>\n",
       "<p>1710675 rows × 1 columns</p>\n",
       "</div>"
      ],
      "text/plain": [
       "         Energy\n",
       "0         0.068\n",
       "1         0.070\n",
       "2         0.122\n",
       "3         0.132\n",
       "4         0.125\n",
       "...         ...\n",
       "1710670   0.028\n",
       "1710671   0.028\n",
       "1710672   0.028\n",
       "1710673   0.028\n",
       "1710674   0.028\n",
       "\n",
       "[1710675 rows x 1 columns]"
      ]
     },
     "execution_count": 8,
     "metadata": {},
     "output_type": "execute_result"
    }
   ],
   "source": [
    "X15 = df_location.copy()\n",
    "for i in range(1, num_houses):\n",
    "    X15.iloc[(num_samples_per_house*i)-1] = np.nan\n",
    "X15.dropna(inplace=True)\n",
    "m = len(X15)\n",
    "X15 = X15.iloc[0:(m-1)]\n",
    "X15.drop([\"Time\", \"Location\"],inplace=True, axis=1)\n",
    "X15.reset_index(drop=True, inplace=True)\n",
    "X15"
   ]
  },
  {
   "cell_type": "code",
   "execution_count": 9,
   "id": "cb9c1131",
   "metadata": {},
   "outputs": [
    {
     "data": {
      "text/html": [
       "<div>\n",
       "<style scoped>\n",
       "    .dataframe tbody tr th:only-of-type {\n",
       "        vertical-align: middle;\n",
       "    }\n",
       "\n",
       "    .dataframe tbody tr th {\n",
       "        vertical-align: top;\n",
       "    }\n",
       "\n",
       "    .dataframe thead th {\n",
       "        text-align: right;\n",
       "    }\n",
       "</style>\n",
       "<table border=\"1\" class=\"dataframe\">\n",
       "  <thead>\n",
       "    <tr style=\"text-align: right;\">\n",
       "      <th></th>\n",
       "      <th>Energy</th>\n",
       "    </tr>\n",
       "  </thead>\n",
       "  <tbody>\n",
       "    <tr>\n",
       "      <th>0</th>\n",
       "      <td>0.070</td>\n",
       "    </tr>\n",
       "    <tr>\n",
       "      <th>1</th>\n",
       "      <td>0.122</td>\n",
       "    </tr>\n",
       "    <tr>\n",
       "      <th>2</th>\n",
       "      <td>0.132</td>\n",
       "    </tr>\n",
       "    <tr>\n",
       "      <th>3</th>\n",
       "      <td>0.125</td>\n",
       "    </tr>\n",
       "    <tr>\n",
       "      <th>4</th>\n",
       "      <td>0.089</td>\n",
       "    </tr>\n",
       "    <tr>\n",
       "      <th>...</th>\n",
       "      <td>...</td>\n",
       "    </tr>\n",
       "    <tr>\n",
       "      <th>1710670</th>\n",
       "      <td>0.028</td>\n",
       "    </tr>\n",
       "    <tr>\n",
       "      <th>1710671</th>\n",
       "      <td>0.028</td>\n",
       "    </tr>\n",
       "    <tr>\n",
       "      <th>1710672</th>\n",
       "      <td>0.028</td>\n",
       "    </tr>\n",
       "    <tr>\n",
       "      <th>1710673</th>\n",
       "      <td>0.028</td>\n",
       "    </tr>\n",
       "    <tr>\n",
       "      <th>1710674</th>\n",
       "      <td>0.028</td>\n",
       "    </tr>\n",
       "  </tbody>\n",
       "</table>\n",
       "<p>1710675 rows × 1 columns</p>\n",
       "</div>"
      ],
      "text/plain": [
       "         Energy\n",
       "0         0.070\n",
       "1         0.122\n",
       "2         0.132\n",
       "3         0.125\n",
       "4         0.089\n",
       "...         ...\n",
       "1710670   0.028\n",
       "1710671   0.028\n",
       "1710672   0.028\n",
       "1710673   0.028\n",
       "1710674   0.028\n",
       "\n",
       "[1710675 rows x 1 columns]"
      ]
     },
     "execution_count": 9,
     "metadata": {},
     "output_type": "execute_result"
    }
   ],
   "source": [
    "y15 = df_location.copy()\n",
    "for i in range(1, num_houses):\n",
    "    y15.iloc[(num_samples_per_house*i)] = np.nan\n",
    "y15.dropna(inplace=True)\n",
    "y15 = y15.iloc[1:].reset_index(drop=True)\n",
    "y15.drop([\"Time\", \"Location\"],inplace=True, axis=1)\n",
    "y15.reset_index(drop=True, inplace=True)\n",
    "y15"
   ]
  },
  {
   "cell_type": "markdown",
   "id": "c66754cb",
   "metadata": {},
   "source": [
    "### Previous day at same hour"
   ]
  },
  {
   "cell_type": "code",
   "execution_count": 10,
   "id": "1d445b6c",
   "metadata": {},
   "outputs": [
    {
     "data": {
      "text/html": [
       "<div>\n",
       "<style scoped>\n",
       "    .dataframe tbody tr th:only-of-type {\n",
       "        vertical-align: middle;\n",
       "    }\n",
       "\n",
       "    .dataframe tbody tr th {\n",
       "        vertical-align: top;\n",
       "    }\n",
       "\n",
       "    .dataframe thead th {\n",
       "        text-align: right;\n",
       "    }\n",
       "</style>\n",
       "<table border=\"1\" class=\"dataframe\">\n",
       "  <thead>\n",
       "    <tr style=\"text-align: right;\">\n",
       "      <th></th>\n",
       "      <th>Energy</th>\n",
       "    </tr>\n",
       "  </thead>\n",
       "  <tbody>\n",
       "    <tr>\n",
       "      <th>0</th>\n",
       "      <td>0.068</td>\n",
       "    </tr>\n",
       "    <tr>\n",
       "      <th>1</th>\n",
       "      <td>0.070</td>\n",
       "    </tr>\n",
       "    <tr>\n",
       "      <th>2</th>\n",
       "      <td>0.122</td>\n",
       "    </tr>\n",
       "    <tr>\n",
       "      <th>3</th>\n",
       "      <td>0.132</td>\n",
       "    </tr>\n",
       "    <tr>\n",
       "      <th>4</th>\n",
       "      <td>0.125</td>\n",
       "    </tr>\n",
       "    <tr>\n",
       "      <th>...</th>\n",
       "      <td>...</td>\n",
       "    </tr>\n",
       "    <tr>\n",
       "      <th>1710575</th>\n",
       "      <td>0.035</td>\n",
       "    </tr>\n",
       "    <tr>\n",
       "      <th>1710576</th>\n",
       "      <td>0.011</td>\n",
       "    </tr>\n",
       "    <tr>\n",
       "      <th>1710577</th>\n",
       "      <td>0.054</td>\n",
       "    </tr>\n",
       "    <tr>\n",
       "      <th>1710578</th>\n",
       "      <td>0.035</td>\n",
       "    </tr>\n",
       "    <tr>\n",
       "      <th>1710579</th>\n",
       "      <td>0.095</td>\n",
       "    </tr>\n",
       "  </tbody>\n",
       "</table>\n",
       "<p>1710580 rows × 1 columns</p>\n",
       "</div>"
      ],
      "text/plain": [
       "         Energy\n",
       "0         0.068\n",
       "1         0.070\n",
       "2         0.122\n",
       "3         0.132\n",
       "4         0.125\n",
       "...         ...\n",
       "1710575   0.035\n",
       "1710576   0.011\n",
       "1710577   0.054\n",
       "1710578   0.035\n",
       "1710579   0.095\n",
       "\n",
       "[1710580 rows x 1 columns]"
      ]
     },
     "execution_count": 10,
     "metadata": {},
     "output_type": "execute_result"
    }
   ],
   "source": [
    "Xday = df_location.copy()\n",
    "for i in range(1, num_houses):\n",
    "    Xday.iloc[(num_samples_per_house*i)-1] = np.nan\n",
    "Xday.dropna(inplace=True)\n",
    "m = len(Xday)\n",
    "Xday = Xday.iloc[0:(m-96)]\n",
    "Xday.drop([\"Time\", \"Location\"],inplace=True, axis=1)\n",
    "Xday.reset_index(drop=True, inplace=True)\n",
    "Xday"
   ]
  },
  {
   "cell_type": "code",
   "execution_count": 11,
   "id": "95b6cc7a",
   "metadata": {},
   "outputs": [
    {
     "data": {
      "text/html": [
       "<div>\n",
       "<style scoped>\n",
       "    .dataframe tbody tr th:only-of-type {\n",
       "        vertical-align: middle;\n",
       "    }\n",
       "\n",
       "    .dataframe tbody tr th {\n",
       "        vertical-align: top;\n",
       "    }\n",
       "\n",
       "    .dataframe thead th {\n",
       "        text-align: right;\n",
       "    }\n",
       "</style>\n",
       "<table border=\"1\" class=\"dataframe\">\n",
       "  <thead>\n",
       "    <tr style=\"text-align: right;\">\n",
       "      <th></th>\n",
       "      <th>Energy</th>\n",
       "    </tr>\n",
       "  </thead>\n",
       "  <tbody>\n",
       "    <tr>\n",
       "      <th>0</th>\n",
       "      <td>0.057</td>\n",
       "    </tr>\n",
       "    <tr>\n",
       "      <th>1</th>\n",
       "      <td>0.065</td>\n",
       "    </tr>\n",
       "    <tr>\n",
       "      <th>2</th>\n",
       "      <td>0.030</td>\n",
       "    </tr>\n",
       "    <tr>\n",
       "      <th>3</th>\n",
       "      <td>0.329</td>\n",
       "    </tr>\n",
       "    <tr>\n",
       "      <th>4</th>\n",
       "      <td>0.329</td>\n",
       "    </tr>\n",
       "    <tr>\n",
       "      <th>...</th>\n",
       "      <td>...</td>\n",
       "    </tr>\n",
       "    <tr>\n",
       "      <th>1710575</th>\n",
       "      <td>0.028</td>\n",
       "    </tr>\n",
       "    <tr>\n",
       "      <th>1710576</th>\n",
       "      <td>0.028</td>\n",
       "    </tr>\n",
       "    <tr>\n",
       "      <th>1710577</th>\n",
       "      <td>0.028</td>\n",
       "    </tr>\n",
       "    <tr>\n",
       "      <th>1710578</th>\n",
       "      <td>0.028</td>\n",
       "    </tr>\n",
       "    <tr>\n",
       "      <th>1710579</th>\n",
       "      <td>0.028</td>\n",
       "    </tr>\n",
       "  </tbody>\n",
       "</table>\n",
       "<p>1710580 rows × 1 columns</p>\n",
       "</div>"
      ],
      "text/plain": [
       "         Energy\n",
       "0         0.057\n",
       "1         0.065\n",
       "2         0.030\n",
       "3         0.329\n",
       "4         0.329\n",
       "...         ...\n",
       "1710575   0.028\n",
       "1710576   0.028\n",
       "1710577   0.028\n",
       "1710578   0.028\n",
       "1710579   0.028\n",
       "\n",
       "[1710580 rows x 1 columns]"
      ]
     },
     "execution_count": 11,
     "metadata": {},
     "output_type": "execute_result"
    }
   ],
   "source": [
    "yday = df_location.copy()\n",
    "for i in range(1, num_houses):\n",
    "    yday.iloc[(num_samples_per_house*i)] = np.nan\n",
    "yday.dropna(inplace=True)\n",
    "yday = yday.iloc[96:].reset_index(drop=True)\n",
    "yday.drop([\"Time\", \"Location\"],inplace=True, axis=1)\n",
    "yday.reset_index(drop=True, inplace=True)\n",
    "yday"
   ]
  },
  {
   "cell_type": "markdown",
   "id": "75890a15",
   "metadata": {},
   "source": [
    "### Previous week same day and same hour"
   ]
  },
  {
   "cell_type": "code",
   "execution_count": 12,
   "id": "410daa51",
   "metadata": {},
   "outputs": [
    {
     "data": {
      "text/html": [
       "<div>\n",
       "<style scoped>\n",
       "    .dataframe tbody tr th:only-of-type {\n",
       "        vertical-align: middle;\n",
       "    }\n",
       "\n",
       "    .dataframe tbody tr th {\n",
       "        vertical-align: top;\n",
       "    }\n",
       "\n",
       "    .dataframe thead th {\n",
       "        text-align: right;\n",
       "    }\n",
       "</style>\n",
       "<table border=\"1\" class=\"dataframe\">\n",
       "  <thead>\n",
       "    <tr style=\"text-align: right;\">\n",
       "      <th></th>\n",
       "      <th>Energy</th>\n",
       "    </tr>\n",
       "  </thead>\n",
       "  <tbody>\n",
       "    <tr>\n",
       "      <th>0</th>\n",
       "      <td>0.068</td>\n",
       "    </tr>\n",
       "    <tr>\n",
       "      <th>1</th>\n",
       "      <td>0.070</td>\n",
       "    </tr>\n",
       "    <tr>\n",
       "      <th>2</th>\n",
       "      <td>0.122</td>\n",
       "    </tr>\n",
       "    <tr>\n",
       "      <th>3</th>\n",
       "      <td>0.132</td>\n",
       "    </tr>\n",
       "    <tr>\n",
       "      <th>4</th>\n",
       "      <td>0.125</td>\n",
       "    </tr>\n",
       "    <tr>\n",
       "      <th>...</th>\n",
       "      <td>...</td>\n",
       "    </tr>\n",
       "    <tr>\n",
       "      <th>1709999</th>\n",
       "      <td>0.027</td>\n",
       "    </tr>\n",
       "    <tr>\n",
       "      <th>1710000</th>\n",
       "      <td>0.041</td>\n",
       "    </tr>\n",
       "    <tr>\n",
       "      <th>1710001</th>\n",
       "      <td>0.019</td>\n",
       "    </tr>\n",
       "    <tr>\n",
       "      <th>1710002</th>\n",
       "      <td>0.058</td>\n",
       "    </tr>\n",
       "    <tr>\n",
       "      <th>1710003</th>\n",
       "      <td>0.457</td>\n",
       "    </tr>\n",
       "  </tbody>\n",
       "</table>\n",
       "<p>1710004 rows × 1 columns</p>\n",
       "</div>"
      ],
      "text/plain": [
       "         Energy\n",
       "0         0.068\n",
       "1         0.070\n",
       "2         0.122\n",
       "3         0.132\n",
       "4         0.125\n",
       "...         ...\n",
       "1709999   0.027\n",
       "1710000   0.041\n",
       "1710001   0.019\n",
       "1710002   0.058\n",
       "1710003   0.457\n",
       "\n",
       "[1710004 rows x 1 columns]"
      ]
     },
     "execution_count": 12,
     "metadata": {},
     "output_type": "execute_result"
    }
   ],
   "source": [
    "Xweek = df_location.copy()\n",
    "for i in range(1, num_houses):\n",
    "    Xweek.iloc[(num_samples_per_house*i)-1] = np.nan\n",
    "Xweek.dropna(inplace=True)\n",
    "m = len(Xweek)\n",
    "Xweek = Xweek.iloc[0:(m-672)]\n",
    "Xweek.drop([\"Time\", \"Location\"],inplace=True, axis=1)\n",
    "Xweek.reset_index(drop=True, inplace=True)\n",
    "Xweek"
   ]
  },
  {
   "cell_type": "code",
   "execution_count": 13,
   "id": "2924b1c8",
   "metadata": {},
   "outputs": [
    {
     "data": {
      "text/html": [
       "<div>\n",
       "<style scoped>\n",
       "    .dataframe tbody tr th:only-of-type {\n",
       "        vertical-align: middle;\n",
       "    }\n",
       "\n",
       "    .dataframe tbody tr th {\n",
       "        vertical-align: top;\n",
       "    }\n",
       "\n",
       "    .dataframe thead th {\n",
       "        text-align: right;\n",
       "    }\n",
       "</style>\n",
       "<table border=\"1\" class=\"dataframe\">\n",
       "  <thead>\n",
       "    <tr style=\"text-align: right;\">\n",
       "      <th></th>\n",
       "      <th>Energy</th>\n",
       "    </tr>\n",
       "  </thead>\n",
       "  <tbody>\n",
       "    <tr>\n",
       "      <th>0</th>\n",
       "      <td>0.039</td>\n",
       "    </tr>\n",
       "    <tr>\n",
       "      <th>1</th>\n",
       "      <td>0.061</td>\n",
       "    </tr>\n",
       "    <tr>\n",
       "      <th>2</th>\n",
       "      <td>0.038</td>\n",
       "    </tr>\n",
       "    <tr>\n",
       "      <th>3</th>\n",
       "      <td>0.069</td>\n",
       "    </tr>\n",
       "    <tr>\n",
       "      <th>4</th>\n",
       "      <td>0.063</td>\n",
       "    </tr>\n",
       "    <tr>\n",
       "      <th>...</th>\n",
       "      <td>...</td>\n",
       "    </tr>\n",
       "    <tr>\n",
       "      <th>1709999</th>\n",
       "      <td>0.028</td>\n",
       "    </tr>\n",
       "    <tr>\n",
       "      <th>1710000</th>\n",
       "      <td>0.028</td>\n",
       "    </tr>\n",
       "    <tr>\n",
       "      <th>1710001</th>\n",
       "      <td>0.028</td>\n",
       "    </tr>\n",
       "    <tr>\n",
       "      <th>1710002</th>\n",
       "      <td>0.028</td>\n",
       "    </tr>\n",
       "    <tr>\n",
       "      <th>1710003</th>\n",
       "      <td>0.028</td>\n",
       "    </tr>\n",
       "  </tbody>\n",
       "</table>\n",
       "<p>1710004 rows × 1 columns</p>\n",
       "</div>"
      ],
      "text/plain": [
       "         Energy\n",
       "0         0.039\n",
       "1         0.061\n",
       "2         0.038\n",
       "3         0.069\n",
       "4         0.063\n",
       "...         ...\n",
       "1709999   0.028\n",
       "1710000   0.028\n",
       "1710001   0.028\n",
       "1710002   0.028\n",
       "1710003   0.028\n",
       "\n",
       "[1710004 rows x 1 columns]"
      ]
     },
     "execution_count": 13,
     "metadata": {},
     "output_type": "execute_result"
    }
   ],
   "source": [
    "yweek = df_location.copy()\n",
    "for i in range(1, num_houses):\n",
    "    yweek.iloc[(num_samples_per_house*i)] = np.nan\n",
    "yweek.dropna(inplace=True)\n",
    "yweek = yweek.iloc[672:].reset_index(drop=True)\n",
    "yweek.drop([\"Time\", \"Location\"],inplace=True, axis=1)\n",
    "yweek.reset_index(drop=True, inplace=True)\n",
    "yweek"
   ]
  },
  {
   "cell_type": "markdown",
   "id": "af729849",
   "metadata": {},
   "source": [
    "## Prediction organized by location\n",
    "### Previous 15 minutes"
   ]
  },
  {
   "cell_type": "code",
   "execution_count": 14,
   "id": "e9ecbb38",
   "metadata": {},
   "outputs": [
    {
     "data": {
      "text/plain": [
       "array([[0.03207547],\n",
       "       [0.03301887],\n",
       "       [0.05754717],\n",
       "       ...,\n",
       "       [0.01320755],\n",
       "       [0.01320755],\n",
       "       [0.01320755]])"
      ]
     },
     "execution_count": 14,
     "metadata": {},
     "output_type": "execute_result"
    }
   ],
   "source": [
    "X15_norm, scaler = normalize_training(X15)\n",
    "y15_norm = scaler.transform(y15)\n",
    "X15_norm"
   ]
  },
  {
   "cell_type": "code",
   "execution_count": 15,
   "id": "5b746676",
   "metadata": {},
   "outputs": [
    {
     "name": "stdout",
     "output_type": "stream",
     "text": [
      "RMSE: 0.0366\n",
      "WAPE: 36.43\n",
      "R2: 0.6384\n"
     ]
    }
   ],
   "source": [
    "rmse_15_norm, wape_15_norm, r2_15_norm = no_ml_predict(X15_norm, y15_norm)"
   ]
  },
  {
   "cell_type": "code",
   "execution_count": 16,
   "id": "76bfa16c",
   "metadata": {},
   "outputs": [
    {
     "name": "stdout",
     "output_type": "stream",
     "text": [
      "RMSE: 0.0777\n",
      "WAPE: 36.43\n",
      "R2: 0.6384\n"
     ]
    }
   ],
   "source": [
    "rmse_15, wape_15, r2_15 = no_ml_predict(X15, y15)"
   ]
  },
  {
   "cell_type": "code",
   "execution_count": 17,
   "id": "27a64d51",
   "metadata": {},
   "outputs": [
    {
     "data": {
      "image/png": "[encoded data removed]",
      "text/plain": [
       "<Figure size 640x480 with 1 Axes>"
      ]
     },
     "metadata": {},
     "output_type": "display_data"
    }
   ],
   "source": [
    "plot_results(X15, y15, \"Last 15 organized by location\")"
   ]
  },
  {
   "cell_type": "markdown",
   "id": "e9f81d2d",
   "metadata": {},
   "source": [
    "### Previous day at same hour"
   ]
  },
  {
   "cell_type": "code",
   "execution_count": 18,
   "id": "95fc8bd7",
   "metadata": {},
   "outputs": [
    {
     "data": {
      "text/plain": [
       "array([[0.03207547],\n",
       "       [0.03301887],\n",
       "       [0.05754717],\n",
       "       ...,\n",
       "       [0.0254717 ],\n",
       "       [0.01650943],\n",
       "       [0.04481132]])"
      ]
     },
     "execution_count": 18,
     "metadata": {},
     "output_type": "execute_result"
    }
   ],
   "source": [
    "Xday_norm, scaler = normalize_training(Xday)\n",
    "yday_norm = scaler.transform(yday)\n",
    "Xday_norm"
   ]
  },
  {
   "cell_type": "code",
   "execution_count": 19,
   "id": "423c6716",
   "metadata": {},
   "outputs": [
    {
     "name": "stdout",
     "output_type": "stream",
     "text": [
      "RMSE: 0.0612\n",
      "WAPE: 66.70\n",
      "R2: -0.0109\n"
     ]
    }
   ],
   "source": [
    "rmse_day_norm, wape_day_norm, r2_day_norm = no_ml_predict(Xday_norm, yday_norm)"
   ]
  },
  {
   "cell_type": "code",
   "execution_count": 20,
   "id": "f2a2746a",
   "metadata": {},
   "outputs": [
    {
     "name": "stdout",
     "output_type": "stream",
     "text": [
      "RMSE: 0.1299\n",
      "WAPE: 66.70\n",
      "R2: -0.0109\n"
     ]
    }
   ],
   "source": [
    "rmse_day, wape_day, r2_day = no_ml_predict(Xday, yday)"
   ]
  },
  {
   "cell_type": "code",
   "execution_count": 21,
   "id": "52d95681",
   "metadata": {},
   "outputs": [
    {
     "name": "stderr",
     "output_type": "stream",
     "text": [
      "/home/francisco.monteiro@av.it.pt/.local/lib/python3.8/site-packages/IPython/core/pylabtools.py:152: UserWarning: Creating legend with loc=\"best\" can be slow with large amounts of data.\n",
      "  fig.canvas.print_figure(bytes_io, **kw)\n"
     ]
    },
    {
     "data": {
      "image/png": "[encoded data removed]",
      "text/plain": [
       "<Figure size 640x480 with 1 Axes>"
      ]
     },
     "metadata": {},
     "output_type": "display_data"
    }
   ],
   "source": [
    "plot_results(Xday, yday, \"Last day organized by location\")"
   ]
  },
  {
   "cell_type": "markdown",
   "id": "5b2fa11e",
   "metadata": {},
   "source": [
    "### Previous week same day and same hour"
   ]
  },
  {
   "cell_type": "code",
   "execution_count": 22,
   "id": "5f72f95b",
   "metadata": {},
   "outputs": [
    {
     "data": {
      "text/plain": [
       "array([[0.03207547],\n",
       "       [0.03301887],\n",
       "       [0.05754717],\n",
       "       ...,\n",
       "       [0.00896226],\n",
       "       [0.02735849],\n",
       "       [0.21556604]])"
      ]
     },
     "execution_count": 22,
     "metadata": {},
     "output_type": "execute_result"
    }
   ],
   "source": [
    "Xweek_norm, scaler = normalize_training(Xweek)\n",
    "yweek_norm = scaler.transform(yweek)\n",
    "Xweek_norm"
   ]
  },
  {
   "cell_type": "code",
   "execution_count": 23,
   "id": "03832f13",
   "metadata": {},
   "outputs": [
    {
     "name": "stdout",
     "output_type": "stream",
     "text": [
      "RMSE: 0.0619\n",
      "WAPE: 66.99\n",
      "R2: -0.0323\n"
     ]
    }
   ],
   "source": [
    "rmse_week_norm, wape_week_norm, r2_week_norm = no_ml_predict(Xweek_norm, yweek_norm)"
   ]
  },
  {
   "cell_type": "code",
   "execution_count": 24,
   "id": "b34b6975",
   "metadata": {},
   "outputs": [
    {
     "name": "stdout",
     "output_type": "stream",
     "text": [
      "RMSE: 0.1313\n",
      "WAPE: 66.99\n",
      "R2: -0.0323\n"
     ]
    }
   ],
   "source": [
    "rmse_week, wape_week, r2_week = no_ml_predict(Xweek, yweek)"
   ]
  },
  {
   "cell_type": "code",
   "execution_count": 25,
   "id": "2cd971c3",
   "metadata": {},
   "outputs": [
    {
     "name": "stderr",
     "output_type": "stream",
     "text": [
      "/home/francisco.monteiro@av.it.pt/.local/lib/python3.8/site-packages/IPython/core/pylabtools.py:152: UserWarning: Creating legend with loc=\"best\" can be slow with large amounts of data.\n",
      "  fig.canvas.print_figure(bytes_io, **kw)\n"
     ]
    },
    {
     "data": {
      "image/png": "[encoded data removed]",
      "text/plain": [
       "<Figure size 640x480 with 1 Axes>"
      ]
     },
     "metadata": {},
     "output_type": "display_data"
    }
   ],
   "source": [
    "plot_results(Xweek, yweek, \"Last week organized by location\")"
   ]
  },
  {
   "cell_type": "markdown",
   "id": "bb497fff",
   "metadata": {},
   "source": [
    "# Sum of all houses preprocessing\n",
    "### Previous 15 minutes prediction data"
   ]
  },
  {
   "cell_type": "code",
   "execution_count": 26,
   "id": "0a2a0271",
   "metadata": {
    "scrolled": false
   },
   "outputs": [
    {
     "data": {
      "text/html": [
       "<div>\n",
       "<style scoped>\n",
       "    .dataframe tbody tr th:only-of-type {\n",
       "        vertical-align: middle;\n",
       "    }\n",
       "\n",
       "    .dataframe tbody tr th {\n",
       "        vertical-align: top;\n",
       "    }\n",
       "\n",
       "    .dataframe thead th {\n",
       "        text-align: right;\n",
       "    }\n",
       "</style>\n",
       "<table border=\"1\" class=\"dataframe\">\n",
       "  <thead>\n",
       "    <tr style=\"text-align: right;\">\n",
       "      <th></th>\n",
       "      <th>Energy</th>\n",
       "    </tr>\n",
       "  </thead>\n",
       "  <tbody>\n",
       "    <tr>\n",
       "      <th>0</th>\n",
       "      <td>3.231</td>\n",
       "    </tr>\n",
       "    <tr>\n",
       "      <th>1</th>\n",
       "      <td>3.043</td>\n",
       "    </tr>\n",
       "    <tr>\n",
       "      <th>2</th>\n",
       "      <td>2.959</td>\n",
       "    </tr>\n",
       "    <tr>\n",
       "      <th>3</th>\n",
       "      <td>3.067</td>\n",
       "    </tr>\n",
       "    <tr>\n",
       "      <th>4</th>\n",
       "      <td>2.987</td>\n",
       "    </tr>\n",
       "    <tr>\n",
       "      <th>...</th>\n",
       "      <td>...</td>\n",
       "    </tr>\n",
       "    <tr>\n",
       "      <th>38010</th>\n",
       "      <td>4.149</td>\n",
       "    </tr>\n",
       "    <tr>\n",
       "      <th>38011</th>\n",
       "      <td>4.150</td>\n",
       "    </tr>\n",
       "    <tr>\n",
       "      <th>38012</th>\n",
       "      <td>4.149</td>\n",
       "    </tr>\n",
       "    <tr>\n",
       "      <th>38013</th>\n",
       "      <td>4.150</td>\n",
       "    </tr>\n",
       "    <tr>\n",
       "      <th>38014</th>\n",
       "      <td>4.179</td>\n",
       "    </tr>\n",
       "  </tbody>\n",
       "</table>\n",
       "<p>38015 rows × 1 columns</p>\n",
       "</div>"
      ],
      "text/plain": [
       "       Energy\n",
       "0       3.231\n",
       "1       3.043\n",
       "2       2.959\n",
       "3       3.067\n",
       "4       2.987\n",
       "...       ...\n",
       "38010   4.149\n",
       "38011   4.150\n",
       "38012   4.149\n",
       "38013   4.150\n",
       "38014   4.179\n",
       "\n",
       "[38015 rows x 1 columns]"
      ]
     },
     "execution_count": 26,
     "metadata": {},
     "output_type": "execute_result"
    }
   ],
   "source": [
    "X_total_15 = df_total.copy()\n",
    "m = len(X_total_15)\n",
    "X_total_15 = X_total_15.iloc[0:(m-1)]\n",
    "X_total_15"
   ]
  },
  {
   "cell_type": "code",
   "execution_count": 27,
   "id": "aa3b7450",
   "metadata": {},
   "outputs": [
    {
     "data": {
      "text/html": [
       "<div>\n",
       "<style scoped>\n",
       "    .dataframe tbody tr th:only-of-type {\n",
       "        vertical-align: middle;\n",
       "    }\n",
       "\n",
       "    .dataframe tbody tr th {\n",
       "        vertical-align: top;\n",
       "    }\n",
       "\n",
       "    .dataframe thead th {\n",
       "        text-align: right;\n",
       "    }\n",
       "</style>\n",
       "<table border=\"1\" class=\"dataframe\">\n",
       "  <thead>\n",
       "    <tr style=\"text-align: right;\">\n",
       "      <th></th>\n",
       "      <th>Energy</th>\n",
       "    </tr>\n",
       "  </thead>\n",
       "  <tbody>\n",
       "    <tr>\n",
       "      <th>0</th>\n",
       "      <td>3.043</td>\n",
       "    </tr>\n",
       "    <tr>\n",
       "      <th>1</th>\n",
       "      <td>2.959</td>\n",
       "    </tr>\n",
       "    <tr>\n",
       "      <th>2</th>\n",
       "      <td>3.067</td>\n",
       "    </tr>\n",
       "    <tr>\n",
       "      <th>3</th>\n",
       "      <td>2.987</td>\n",
       "    </tr>\n",
       "    <tr>\n",
       "      <th>4</th>\n",
       "      <td>3.755</td>\n",
       "    </tr>\n",
       "    <tr>\n",
       "      <th>...</th>\n",
       "      <td>...</td>\n",
       "    </tr>\n",
       "    <tr>\n",
       "      <th>38010</th>\n",
       "      <td>4.150</td>\n",
       "    </tr>\n",
       "    <tr>\n",
       "      <th>38011</th>\n",
       "      <td>4.149</td>\n",
       "    </tr>\n",
       "    <tr>\n",
       "      <th>38012</th>\n",
       "      <td>4.150</td>\n",
       "    </tr>\n",
       "    <tr>\n",
       "      <th>38013</th>\n",
       "      <td>4.179</td>\n",
       "    </tr>\n",
       "    <tr>\n",
       "      <th>38014</th>\n",
       "      <td>4.179</td>\n",
       "    </tr>\n",
       "  </tbody>\n",
       "</table>\n",
       "<p>38015 rows × 1 columns</p>\n",
       "</div>"
      ],
      "text/plain": [
       "       Energy\n",
       "0       3.043\n",
       "1       2.959\n",
       "2       3.067\n",
       "3       2.987\n",
       "4       3.755\n",
       "...       ...\n",
       "38010   4.150\n",
       "38011   4.149\n",
       "38012   4.150\n",
       "38013   4.179\n",
       "38014   4.179\n",
       "\n",
       "[38015 rows x 1 columns]"
      ]
     },
     "execution_count": 27,
     "metadata": {},
     "output_type": "execute_result"
    }
   ],
   "source": [
    "y_total_15 = df_total.copy()\n",
    "y_total_15 = y_total_15.iloc[1:].reset_index(drop=True)\n",
    "y_total_15"
   ]
  },
  {
   "cell_type": "code",
   "execution_count": 28,
   "id": "ba73451f",
   "metadata": {},
   "outputs": [],
   "source": [
    "X_total_15_norm, scaler = normalize_training(X_total_15)\n",
    "y_total_15_norm = scaler.transform(y_total_15)"
   ]
  },
  {
   "cell_type": "markdown",
   "id": "837c59da",
   "metadata": {},
   "source": [
    "### Previous day at same hour prediction data"
   ]
  },
  {
   "cell_type": "code",
   "execution_count": 29,
   "id": "e30a5f77",
   "metadata": {},
   "outputs": [
    {
     "data": {
      "text/html": [
       "<div>\n",
       "<style scoped>\n",
       "    .dataframe tbody tr th:only-of-type {\n",
       "        vertical-align: middle;\n",
       "    }\n",
       "\n",
       "    .dataframe tbody tr th {\n",
       "        vertical-align: top;\n",
       "    }\n",
       "\n",
       "    .dataframe thead th {\n",
       "        text-align: right;\n",
       "    }\n",
       "</style>\n",
       "<table border=\"1\" class=\"dataframe\">\n",
       "  <thead>\n",
       "    <tr style=\"text-align: right;\">\n",
       "      <th></th>\n",
       "      <th>Energy</th>\n",
       "    </tr>\n",
       "  </thead>\n",
       "  <tbody>\n",
       "    <tr>\n",
       "      <th>0</th>\n",
       "      <td>3.231</td>\n",
       "    </tr>\n",
       "    <tr>\n",
       "      <th>1</th>\n",
       "      <td>3.043</td>\n",
       "    </tr>\n",
       "    <tr>\n",
       "      <th>2</th>\n",
       "      <td>2.959</td>\n",
       "    </tr>\n",
       "    <tr>\n",
       "      <th>3</th>\n",
       "      <td>3.067</td>\n",
       "    </tr>\n",
       "    <tr>\n",
       "      <th>4</th>\n",
       "      <td>2.987</td>\n",
       "    </tr>\n",
       "    <tr>\n",
       "      <th>...</th>\n",
       "      <td>...</td>\n",
       "    </tr>\n",
       "    <tr>\n",
       "      <th>37915</th>\n",
       "      <td>4.978</td>\n",
       "    </tr>\n",
       "    <tr>\n",
       "      <th>37916</th>\n",
       "      <td>4.354</td>\n",
       "    </tr>\n",
       "    <tr>\n",
       "      <th>37917</th>\n",
       "      <td>5.659</td>\n",
       "    </tr>\n",
       "    <tr>\n",
       "      <th>37918</th>\n",
       "      <td>4.887</td>\n",
       "    </tr>\n",
       "    <tr>\n",
       "      <th>37919</th>\n",
       "      <td>4.525</td>\n",
       "    </tr>\n",
       "  </tbody>\n",
       "</table>\n",
       "<p>37920 rows × 1 columns</p>\n",
       "</div>"
      ],
      "text/plain": [
       "       Energy\n",
       "0       3.231\n",
       "1       3.043\n",
       "2       2.959\n",
       "3       3.067\n",
       "4       2.987\n",
       "...       ...\n",
       "37915   4.978\n",
       "37916   4.354\n",
       "37917   5.659\n",
       "37918   4.887\n",
       "37919   4.525\n",
       "\n",
       "[37920 rows x 1 columns]"
      ]
     },
     "execution_count": 29,
     "metadata": {},
     "output_type": "execute_result"
    }
   ],
   "source": [
    "X_total_prev_day = df_total.copy()\n",
    "m = len(X_total_prev_day)\n",
    "X_total_prev_day = X_total_prev_day.iloc[0:(m-96)]\n",
    "X_total_prev_day"
   ]
  },
  {
   "cell_type": "code",
   "execution_count": 30,
   "id": "46eabda7",
   "metadata": {},
   "outputs": [
    {
     "data": {
      "text/html": [
       "<div>\n",
       "<style scoped>\n",
       "    .dataframe tbody tr th:only-of-type {\n",
       "        vertical-align: middle;\n",
       "    }\n",
       "\n",
       "    .dataframe tbody tr th {\n",
       "        vertical-align: top;\n",
       "    }\n",
       "\n",
       "    .dataframe thead th {\n",
       "        text-align: right;\n",
       "    }\n",
       "</style>\n",
       "<table border=\"1\" class=\"dataframe\">\n",
       "  <thead>\n",
       "    <tr style=\"text-align: right;\">\n",
       "      <th></th>\n",
       "      <th>Energy</th>\n",
       "    </tr>\n",
       "  </thead>\n",
       "  <tbody>\n",
       "    <tr>\n",
       "      <th>0</th>\n",
       "      <td>2.863</td>\n",
       "    </tr>\n",
       "    <tr>\n",
       "      <th>1</th>\n",
       "      <td>3.503</td>\n",
       "    </tr>\n",
       "    <tr>\n",
       "      <th>2</th>\n",
       "      <td>4.067</td>\n",
       "    </tr>\n",
       "    <tr>\n",
       "      <th>3</th>\n",
       "      <td>3.941</td>\n",
       "    </tr>\n",
       "    <tr>\n",
       "      <th>4</th>\n",
       "      <td>4.148</td>\n",
       "    </tr>\n",
       "    <tr>\n",
       "      <th>5</th>\n",
       "      <td>4.086</td>\n",
       "    </tr>\n",
       "    <tr>\n",
       "      <th>6</th>\n",
       "      <td>3.513</td>\n",
       "    </tr>\n",
       "    <tr>\n",
       "      <th>7</th>\n",
       "      <td>4.229</td>\n",
       "    </tr>\n",
       "    <tr>\n",
       "      <th>8</th>\n",
       "      <td>3.787</td>\n",
       "    </tr>\n",
       "    <tr>\n",
       "      <th>9</th>\n",
       "      <td>3.922</td>\n",
       "    </tr>\n",
       "    <tr>\n",
       "      <th>10</th>\n",
       "      <td>3.514</td>\n",
       "    </tr>\n",
       "    <tr>\n",
       "      <th>11</th>\n",
       "      <td>2.780</td>\n",
       "    </tr>\n",
       "    <tr>\n",
       "      <th>12</th>\n",
       "      <td>2.360</td>\n",
       "    </tr>\n",
       "    <tr>\n",
       "      <th>13</th>\n",
       "      <td>2.544</td>\n",
       "    </tr>\n",
       "    <tr>\n",
       "      <th>14</th>\n",
       "      <td>3.273</td>\n",
       "    </tr>\n",
       "  </tbody>\n",
       "</table>\n",
       "</div>"
      ],
      "text/plain": [
       "    Energy\n",
       "0    2.863\n",
       "1    3.503\n",
       "2    4.067\n",
       "3    3.941\n",
       "4    4.148\n",
       "5    4.086\n",
       "6    3.513\n",
       "7    4.229\n",
       "8    3.787\n",
       "9    3.922\n",
       "10   3.514\n",
       "11   2.780\n",
       "12   2.360\n",
       "13   2.544\n",
       "14   3.273"
      ]
     },
     "execution_count": 30,
     "metadata": {},
     "output_type": "execute_result"
    }
   ],
   "source": [
    "y_total_prev_day = df_total.copy()\n",
    "y_total_prev_day = y_total_prev_day.iloc[96:].reset_index(drop=True)\n",
    "y_total_prev_day[:15]"
   ]
  },
  {
   "cell_type": "code",
   "execution_count": 31,
   "id": "371de7ac",
   "metadata": {},
   "outputs": [],
   "source": [
    "X_total_prev_day_norm, scaler = normalize_training(X_total_prev_day)\n",
    "y_total_prev_day_norm = scaler.transform(y_total_prev_day)"
   ]
  },
  {
   "cell_type": "markdown",
   "id": "83c5e007",
   "metadata": {},
   "source": [
    "### Previous week same day at same hour prediction data"
   ]
  },
  {
   "cell_type": "code",
   "execution_count": 32,
   "id": "4152c794",
   "metadata": {},
   "outputs": [
    {
     "data": {
      "text/html": [
       "<div>\n",
       "<style scoped>\n",
       "    .dataframe tbody tr th:only-of-type {\n",
       "        vertical-align: middle;\n",
       "    }\n",
       "\n",
       "    .dataframe tbody tr th {\n",
       "        vertical-align: top;\n",
       "    }\n",
       "\n",
       "    .dataframe thead th {\n",
       "        text-align: right;\n",
       "    }\n",
       "</style>\n",
       "<table border=\"1\" class=\"dataframe\">\n",
       "  <thead>\n",
       "    <tr style=\"text-align: right;\">\n",
       "      <th></th>\n",
       "      <th>Energy</th>\n",
       "    </tr>\n",
       "  </thead>\n",
       "  <tbody>\n",
       "    <tr>\n",
       "      <th>0</th>\n",
       "      <td>3.231</td>\n",
       "    </tr>\n",
       "    <tr>\n",
       "      <th>1</th>\n",
       "      <td>3.043</td>\n",
       "    </tr>\n",
       "    <tr>\n",
       "      <th>2</th>\n",
       "      <td>2.959</td>\n",
       "    </tr>\n",
       "    <tr>\n",
       "      <th>3</th>\n",
       "      <td>3.067</td>\n",
       "    </tr>\n",
       "    <tr>\n",
       "      <th>4</th>\n",
       "      <td>2.987</td>\n",
       "    </tr>\n",
       "    <tr>\n",
       "      <th>...</th>\n",
       "      <td>...</td>\n",
       "    </tr>\n",
       "    <tr>\n",
       "      <th>37339</th>\n",
       "      <td>3.270</td>\n",
       "    </tr>\n",
       "    <tr>\n",
       "      <th>37340</th>\n",
       "      <td>3.091</td>\n",
       "    </tr>\n",
       "    <tr>\n",
       "      <th>37341</th>\n",
       "      <td>3.443</td>\n",
       "    </tr>\n",
       "    <tr>\n",
       "      <th>37342</th>\n",
       "      <td>3.273</td>\n",
       "    </tr>\n",
       "    <tr>\n",
       "      <th>37343</th>\n",
       "      <td>4.871</td>\n",
       "    </tr>\n",
       "  </tbody>\n",
       "</table>\n",
       "<p>37344 rows × 1 columns</p>\n",
       "</div>"
      ],
      "text/plain": [
       "       Energy\n",
       "0       3.231\n",
       "1       3.043\n",
       "2       2.959\n",
       "3       3.067\n",
       "4       2.987\n",
       "...       ...\n",
       "37339   3.270\n",
       "37340   3.091\n",
       "37341   3.443\n",
       "37342   3.273\n",
       "37343   4.871\n",
       "\n",
       "[37344 rows x 1 columns]"
      ]
     },
     "execution_count": 32,
     "metadata": {},
     "output_type": "execute_result"
    }
   ],
   "source": [
    "X_total_prev_week = df_total.copy()\n",
    "m = len(X_total_prev_week)\n",
    "X_total_prev_week = X_total_prev_week.iloc[0:(m-96*7)]\n",
    "X_total_prev_week"
   ]
  },
  {
   "cell_type": "code",
   "execution_count": 33,
   "id": "c79f6f5f",
   "metadata": {},
   "outputs": [
    {
     "data": {
      "text/html": [
       "<div>\n",
       "<style scoped>\n",
       "    .dataframe tbody tr th:only-of-type {\n",
       "        vertical-align: middle;\n",
       "    }\n",
       "\n",
       "    .dataframe tbody tr th {\n",
       "        vertical-align: top;\n",
       "    }\n",
       "\n",
       "    .dataframe thead th {\n",
       "        text-align: right;\n",
       "    }\n",
       "</style>\n",
       "<table border=\"1\" class=\"dataframe\">\n",
       "  <thead>\n",
       "    <tr style=\"text-align: right;\">\n",
       "      <th></th>\n",
       "      <th>Energy</th>\n",
       "    </tr>\n",
       "  </thead>\n",
       "  <tbody>\n",
       "    <tr>\n",
       "      <th>0</th>\n",
       "      <td>2.705</td>\n",
       "    </tr>\n",
       "    <tr>\n",
       "      <th>1</th>\n",
       "      <td>3.800</td>\n",
       "    </tr>\n",
       "    <tr>\n",
       "      <th>2</th>\n",
       "      <td>3.265</td>\n",
       "    </tr>\n",
       "    <tr>\n",
       "      <th>3</th>\n",
       "      <td>2.679</td>\n",
       "    </tr>\n",
       "    <tr>\n",
       "      <th>4</th>\n",
       "      <td>2.949</td>\n",
       "    </tr>\n",
       "    <tr>\n",
       "      <th>...</th>\n",
       "      <td>...</td>\n",
       "    </tr>\n",
       "    <tr>\n",
       "      <th>37339</th>\n",
       "      <td>4.150</td>\n",
       "    </tr>\n",
       "    <tr>\n",
       "      <th>37340</th>\n",
       "      <td>4.149</td>\n",
       "    </tr>\n",
       "    <tr>\n",
       "      <th>37341</th>\n",
       "      <td>4.150</td>\n",
       "    </tr>\n",
       "    <tr>\n",
       "      <th>37342</th>\n",
       "      <td>4.179</td>\n",
       "    </tr>\n",
       "    <tr>\n",
       "      <th>37343</th>\n",
       "      <td>4.179</td>\n",
       "    </tr>\n",
       "  </tbody>\n",
       "</table>\n",
       "<p>37344 rows × 1 columns</p>\n",
       "</div>"
      ],
      "text/plain": [
       "       Energy\n",
       "0       2.705\n",
       "1       3.800\n",
       "2       3.265\n",
       "3       2.679\n",
       "4       2.949\n",
       "...       ...\n",
       "37339   4.150\n",
       "37340   4.149\n",
       "37341   4.150\n",
       "37342   4.179\n",
       "37343   4.179\n",
       "\n",
       "[37344 rows x 1 columns]"
      ]
     },
     "execution_count": 33,
     "metadata": {},
     "output_type": "execute_result"
    }
   ],
   "source": [
    "y_total_prev_week = df_total.copy()\n",
    "y_total_prev_week = y_total_prev_week.iloc[(96*7):].reset_index(drop=True)\n",
    "y_total_prev_week"
   ]
  },
  {
   "cell_type": "code",
   "execution_count": 34,
   "id": "bf9d09db",
   "metadata": {},
   "outputs": [],
   "source": [
    "X_total_prev_week_norm, scaler = normalize_training(X_total_prev_week)\n",
    "y_total_prev_week_norm = scaler.transform(y_total_prev_week)"
   ]
  },
  {
   "cell_type": "markdown",
   "id": "51d68b74",
   "metadata": {},
   "source": [
    "## Prediction (sum of all houses)"
   ]
  },
  {
   "cell_type": "markdown",
   "id": "4daefa68",
   "metadata": {},
   "source": [
    "#### R2 will be negative whenever your model's predictions are worse than a constant function that always predicts the mean of the data."
   ]
  },
  {
   "cell_type": "markdown",
   "id": "7b95df68",
   "metadata": {},
   "source": [
    "### Previous 15 minutes prediction data"
   ]
  },
  {
   "cell_type": "code",
   "execution_count": 35,
   "id": "40c4ade9",
   "metadata": {},
   "outputs": [
    {
     "name": "stdout",
     "output_type": "stream",
     "text": [
      "RMSE: 0.0391\n",
      "WAPE: 10.48\n",
      "R2: 0.8542\n"
     ]
    }
   ],
   "source": [
    "rmse_total_15_norm, wape_total_15_norm, r2_total_15_norm = no_ml_predict(X_total_15_norm, y_total_15_norm)"
   ]
  },
  {
   "cell_type": "code",
   "execution_count": 36,
   "id": "9dd26d7e",
   "metadata": {},
   "outputs": [
    {
     "name": "stdout",
     "output_type": "stream",
     "text": [
      "RMSE: 0.5377\n",
      "WAPE: 10.48\n",
      "R2: 0.8542\n"
     ]
    }
   ],
   "source": [
    "rmse_total_15, wape_total_15, r2_total_15 = no_ml_predict(X_total_15, y_total_15)"
   ]
  },
  {
   "cell_type": "code",
   "execution_count": 37,
   "id": "f0a7b81e",
   "metadata": {},
   "outputs": [
    {
     "data": {
      "image/png": "[encoded data removed]",
      "text/plain": [
       "<Figure size 640x480 with 1 Axes>"
      ]
     },
     "metadata": {},
     "output_type": "display_data"
    }
   ],
   "source": [
    "plot_results(X_total_15, y_total_15, \"Last 15 sum\")"
   ]
  },
  {
   "cell_type": "markdown",
   "id": "50da91b2",
   "metadata": {},
   "source": [
    "### Previous day at same hour prediction data"
   ]
  },
  {
   "cell_type": "code",
   "execution_count": 38,
   "id": "714ba860",
   "metadata": {},
   "outputs": [
    {
     "name": "stdout",
     "output_type": "stream",
     "text": [
      "RMSE: 0.0684\n",
      "WAPE: 18.29\n",
      "R2: 0.5550\n"
     ]
    }
   ],
   "source": [
    "rmse_total_prev_day_norm, wape_total_prev_day_norm, r2_total_prev_day_norm = no_ml_predict(X_total_prev_day_norm, y_total_prev_day_norm)"
   ]
  },
  {
   "cell_type": "code",
   "execution_count": 39,
   "id": "ff508706",
   "metadata": {},
   "outputs": [
    {
     "name": "stdout",
     "output_type": "stream",
     "text": [
      "RMSE: 0.9404\n",
      "WAPE: 18.29\n",
      "R2: 0.5550\n"
     ]
    }
   ],
   "source": [
    "rmse_total_prev_day, wape_total_prev_day, r2_total_prev_day = no_ml_predict(X_total_prev_day, y_total_prev_day)"
   ]
  },
  {
   "cell_type": "code",
   "execution_count": 40,
   "id": "90f29443",
   "metadata": {},
   "outputs": [
    {
     "data": {
      "image/png": "[encoded data removed]",
      "text/plain": [
       "<Figure size 640x480 with 1 Axes>"
      ]
     },
     "metadata": {},
     "output_type": "display_data"
    }
   ],
   "source": [
    "plot_results(X_total_prev_day, y_total_prev_day, \"Last day sum\")"
   ]
  },
  {
   "cell_type": "markdown",
   "id": "38efc60d",
   "metadata": {},
   "source": [
    "### Previous week same day at same hour prediction data"
   ]
  },
  {
   "cell_type": "code",
   "execution_count": 41,
   "id": "c0332480",
   "metadata": {},
   "outputs": [
    {
     "name": "stdout",
     "output_type": "stream",
     "text": [
      "RMSE: 0.0683\n",
      "WAPE: 18.18\n",
      "R2: 0.5586\n"
     ]
    }
   ],
   "source": [
    "rmse_total_prev_week_norm, wape_total_prev_week_norm, r2_total_prev_week_norm = no_ml_predict(X_total_prev_week_norm, y_total_prev_week_norm)"
   ]
  },
  {
   "cell_type": "code",
   "execution_count": 42,
   "id": "ef34dc3e",
   "metadata": {},
   "outputs": [
    {
     "name": "stdout",
     "output_type": "stream",
     "text": [
      "RMSE: 0.9393\n",
      "WAPE: 18.18\n",
      "R2: 0.5586\n"
     ]
    }
   ],
   "source": [
    "rmse_total_prev_week, wape_total_prev_week, r2_total_prev_week = no_ml_predict(X_total_prev_week, y_total_prev_week)"
   ]
  },
  {
   "cell_type": "code",
   "execution_count": 43,
   "id": "52419317",
   "metadata": {},
   "outputs": [
    {
     "data": {
      "image/png": "[encoded data removed]",
      "text/plain": [
       "<Figure size 640x480 with 1 Axes>"
      ]
     },
     "metadata": {},
     "output_type": "display_data"
    }
   ],
   "source": [
    "plot_results(X_total_prev_week, y_total_prev_week, \"Last week sum\")"
   ]
  },
  {
   "cell_type": "markdown",
   "id": "163d61ca",
   "metadata": {},
   "source": [
    "## Comparison between individual and sum"
   ]
  },
  {
   "cell_type": "code",
   "execution_count": 44,
   "id": "3e87a177",
   "metadata": {},
   "outputs": [
    {
     "data": {
      "image/png": "[encoded data removed]",
      "text/plain": [
       "<Figure size 640x480 with 1 Axes>"
      ]
     },
     "metadata": {},
     "output_type": "display_data"
    }
   ],
   "source": [
    "X_names = (\"RMSE\", \"WAPE\", \"R2\")\n",
    "X_axis = np.arange(len(X_names))\n",
    "plt.bar(X_axis - 0.2, (rmse_15_norm, wape_15, r2_15), 0.4, label = 'Location')\n",
    "plt.bar(X_axis + 0.2, (rmse_total_15_norm, wape_total_15, r2_total_15), 0.4, label = 'Sum')\n",
    "plt.xticks(X_axis, X_names)\n",
    "plt.xlabel(\"By Location vs Aggregated\")\n",
    "plt.ylabel(\"Metrics\")\n",
    "plt.ylim(top=1)\n",
    "plt.title(\"Organized by location average vs Energy sum (previous 15 minutes)\")\n",
    "plt.legend()\n",
    "plt.show()"
   ]
  },
  {
   "cell_type": "code",
   "execution_count": 45,
   "id": "026ae32a",
   "metadata": {},
   "outputs": [
    {
     "data": {
      "image/png": "[encoded data removed]",
      "text/plain": [
       "<Figure size 640x480 with 1 Axes>"
      ]
     },
     "metadata": {},
     "output_type": "display_data"
    }
   ],
   "source": [
    "plt.bar(X_axis - 0.2, (rmse_day_norm, wape_day, r2_day), 0.4, label = 'Individual')\n",
    "plt.bar(X_axis + 0.2, (rmse_total_prev_day_norm, wape_total_prev_day, r2_total_prev_day), 0.4, label = 'Sum')\n",
    "plt.xticks(X_axis, X_names)\n",
    "plt.xlabel(\"Individual vs Sum\")\n",
    "plt.ylabel(\"Metrics\")\n",
    "plt.ylim(top=1)\n",
    "plt.title(\"Individual average vs Energy sum (previous day)\")\n",
    "plt.legend()\n",
    "plt.show()"
   ]
  },
  {
   "cell_type": "code",
   "execution_count": 46,
   "id": "d35d1a6e",
   "metadata": {},
   "outputs": [
    {
     "data": {
      "image/png": "[encoded data removed]",
      "text/plain": [
       "<Figure size 640x480 with 1 Axes>"
      ]
     },
     "metadata": {},
     "output_type": "display_data"
    }
   ],
   "source": [
    "plt.bar(X_axis - 0.2, (rmse_week_norm, wape_week, r2_week), 0.4, label = 'Individual')\n",
    "plt.bar(X_axis + 0.2, (rmse_total_prev_week_norm, wape_total_prev_week, r2_total_prev_week), 0.4, label = 'Sum')\n",
    "plt.xticks(X_axis, X_names)\n",
    "plt.xlabel(\"Individual vs Sum\")\n",
    "plt.ylabel(\"Metrics\")\n",
    "plt.ylim(top=1)\n",
    "plt.title(\"Individual average vs Energy sum (previous week)\")\n",
    "plt.legend()\n",
    "plt.show()"
   ]
  },
  {
   "cell_type": "code",
   "execution_count": 47,
   "id": "082df2a5",
   "metadata": {},
   "outputs": [],
   "source": [
    "names_alg = [\"Baseline - Previous 15\\n\", \"Baseline - Previous Day\\n\", \"Baseline - Previous Week\\n\"]\n",
    "all_metrics = [(rmse_15, wape_15, r2_15), (rmse_day, wape_day, r2_day), (rmse_week, wape_week, r2_week)]\n",
    "all_metrics_agg = [(rmse_total_15_norm, wape_total_15, r2_total_15), (rmse_total_prev_day_norm, wape_total_prev_day, r2_total_prev_day), (rmse_total_prev_week_norm, wape_total_prev_week, r2_total_prev_week)]"
   ]
  },
  {
   "cell_type": "code",
   "execution_count": 48,
   "id": "cbe31692",
   "metadata": {},
   "outputs": [],
   "source": [
    "with open('../../gpu_logs/no_ml_loureiro.txt', 'w') as file:\n",
    "    for i in range(0, 3):\n",
    "        file.write(names_alg[i])\n",
    "        file.write(\"Baseline\\n\")\n",
    "        rmse_msg = \"RMSE: \" + str(all_metrics[i][0]) + \"\\n\"\n",
    "        wape_msg = \"WAPE: \" + str(all_metrics[i][1]) + \"\\n\"\n",
    "        r2_msg = \"R2: \" + str(all_metrics[i][2]) + \"\\n\"\n",
    "        file.write(rmse_msg)\n",
    "        file.write(wape_msg)\n",
    "        file.write(r2_msg)\n",
    "        file.write(\"Baseline_Aggregated\\n\")\n",
    "        rmse_msg_agg = \"RMSE: \" + str(all_metrics_agg[i][0]) + \"\\n\"\n",
    "        wape_msg_agg = \"WAPE: \" + str(all_metrics_agg[i][1]) + \"\\n\"\n",
    "        r2_msg_agg = \"R2: \" + str(all_metrics_agg[i][2]) + \"\\n\"\n",
    "        file.write(rmse_msg_agg)\n",
    "        file.write(wape_msg_agg)\n",
    "        file.write(r2_msg_agg)"
   ]
  },
  {
   "cell_type": "code",
   "execution_count": null,
   "id": "2078cdb8",
   "metadata": {},
   "outputs": [],
   "source": []
  }
 ],
 "metadata": {
  "kernelspec": {
   "display_name": "Python 3.8.16 ('rapids-23.02')",
   "language": "python",
   "name": "python3"
  },
  "language_info": {
   "codemirror_mode": {
    "name": "ipython",
    "version": 3
   },
   "file_extension": ".py",
   "mimetype": "text/x-python",
   "name": "python",
   "nbconvert_exporter": "python",
   "pygments_lexer": "ipython3",
   "version": "3.8.16"
  },
  "vscode": {
   "interpreter": {
    "hash": "b68dca5a889d9fa7a36c76420bb99c5b147d98e0e386a0426daa5cd8f8566c01"
   }
  }
 },
 "nbformat": 4,
 "nbformat_minor": 5
}
