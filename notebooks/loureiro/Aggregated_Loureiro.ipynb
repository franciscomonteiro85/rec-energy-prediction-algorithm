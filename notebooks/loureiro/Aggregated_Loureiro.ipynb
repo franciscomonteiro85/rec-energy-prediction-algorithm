{
 "cells": [
  {
   "attachments": {},
   "cell_type": "markdown",
   "id": "6804cbf7",
   "metadata": {},
   "source": [
    "## Import libraries"
   ]
  },
  {
   "cell_type": "code",
   "execution_count": 1,
   "id": "c312e697",
   "metadata": {},
   "outputs": [],
   "source": [
    "import warnings\n",
    "warnings.filterwarnings('ignore',category=FutureWarning)\n",
    "warnings.filterwarnings('ignore',category=DeprecationWarning)\n",
    "import sys\n",
    "sys.path.append('..')\n",
    "import numpy as np\n",
    "import pandas as pd\n",
    "import matplotlib.pyplot as plt\n",
    "from sklearn.linear_model import LinearRegression\n",
    "from sklearn.model_selection import TimeSeriesSplit\n",
    "import time\n",
    "from sklearn.model_selection import GridSearchCV\n",
    "import xgboost as xgb\n",
    "from cuml.ensemble import RandomForestRegressor as cuRF\n",
    "from scripts.function_utils import last_energy_points, predict_results, prepare_polynomial, normalize_training, expanding_window_split, retrieve_selected_features, total_averaged_metrics, no_ml_predict"
   ]
  },
  {
   "attachments": {},
   "cell_type": "markdown",
   "id": "ed1da844",
   "metadata": {},
   "source": [
    "## Load Data"
   ]
  },
  {
   "cell_type": "code",
   "execution_count": 2,
   "id": "83339c67",
   "metadata": {},
   "outputs": [
    {
     "data": {
      "text/html": [
       "<div>\n",
       "<style scoped>\n",
       "    .dataframe tbody tr th:only-of-type {\n",
       "        vertical-align: middle;\n",
       "    }\n",
       "\n",
       "    .dataframe tbody tr th {\n",
       "        vertical-align: top;\n",
       "    }\n",
       "\n",
       "    .dataframe thead th {\n",
       "        text-align: right;\n",
       "    }\n",
       "</style>\n",
       "<table border=\"1\" class=\"dataframe\">\n",
       "  <thead>\n",
       "    <tr style=\"text-align: right;\">\n",
       "      <th></th>\n",
       "      <th>Time</th>\n",
       "      <th>Energy_1</th>\n",
       "      <th>Energy_2</th>\n",
       "      <th>Energy_9</th>\n",
       "      <th>Energy_11</th>\n",
       "      <th>Energy_15</th>\n",
       "      <th>Energy_16</th>\n",
       "      <th>Energy_17</th>\n",
       "      <th>Energy_29</th>\n",
       "      <th>Energy_30</th>\n",
       "      <th>...</th>\n",
       "      <th>Energy_139</th>\n",
       "      <th>Energy_142</th>\n",
       "      <th>Energy_146</th>\n",
       "      <th>Energy_148</th>\n",
       "      <th>Energy_151</th>\n",
       "      <th>Energy_159</th>\n",
       "      <th>Energy_160</th>\n",
       "      <th>Energy_161</th>\n",
       "      <th>Energy_164</th>\n",
       "      <th>Energy_172</th>\n",
       "    </tr>\n",
       "  </thead>\n",
       "  <tbody>\n",
       "    <tr>\n",
       "      <th>0</th>\n",
       "      <td>2022-05-05 12:00:00</td>\n",
       "      <td>0.068</td>\n",
       "      <td>0.018</td>\n",
       "      <td>0.024</td>\n",
       "      <td>0.114</td>\n",
       "      <td>0.164</td>\n",
       "      <td>0.072</td>\n",
       "      <td>0.055</td>\n",
       "      <td>0.011</td>\n",
       "      <td>0.006</td>\n",
       "      <td>...</td>\n",
       "      <td>0.083</td>\n",
       "      <td>0.084</td>\n",
       "      <td>0.068</td>\n",
       "      <td>0.060</td>\n",
       "      <td>0.042</td>\n",
       "      <td>0.055</td>\n",
       "      <td>0.069</td>\n",
       "      <td>0.010</td>\n",
       "      <td>0.004</td>\n",
       "      <td>0.008</td>\n",
       "    </tr>\n",
       "    <tr>\n",
       "      <th>1</th>\n",
       "      <td>2022-05-05 12:15:00</td>\n",
       "      <td>0.070</td>\n",
       "      <td>0.018</td>\n",
       "      <td>0.024</td>\n",
       "      <td>0.190</td>\n",
       "      <td>0.135</td>\n",
       "      <td>0.058</td>\n",
       "      <td>0.060</td>\n",
       "      <td>0.002</td>\n",
       "      <td>0.006</td>\n",
       "      <td>...</td>\n",
       "      <td>0.053</td>\n",
       "      <td>0.004</td>\n",
       "      <td>0.048</td>\n",
       "      <td>0.078</td>\n",
       "      <td>0.053</td>\n",
       "      <td>0.055</td>\n",
       "      <td>0.063</td>\n",
       "      <td>0.010</td>\n",
       "      <td>0.003</td>\n",
       "      <td>0.056</td>\n",
       "    </tr>\n",
       "    <tr>\n",
       "      <th>2</th>\n",
       "      <td>2022-05-05 12:30:00</td>\n",
       "      <td>0.122</td>\n",
       "      <td>0.018</td>\n",
       "      <td>0.024</td>\n",
       "      <td>0.180</td>\n",
       "      <td>0.121</td>\n",
       "      <td>0.011</td>\n",
       "      <td>0.096</td>\n",
       "      <td>0.010</td>\n",
       "      <td>0.006</td>\n",
       "      <td>...</td>\n",
       "      <td>0.035</td>\n",
       "      <td>0.004</td>\n",
       "      <td>0.062</td>\n",
       "      <td>0.061</td>\n",
       "      <td>0.057</td>\n",
       "      <td>0.055</td>\n",
       "      <td>0.049</td>\n",
       "      <td>0.010</td>\n",
       "      <td>0.004</td>\n",
       "      <td>0.033</td>\n",
       "    </tr>\n",
       "    <tr>\n",
       "      <th>3</th>\n",
       "      <td>2022-05-05 12:45:00</td>\n",
       "      <td>0.132</td>\n",
       "      <td>0.018</td>\n",
       "      <td>0.024</td>\n",
       "      <td>0.167</td>\n",
       "      <td>0.138</td>\n",
       "      <td>0.010</td>\n",
       "      <td>0.064</td>\n",
       "      <td>0.004</td>\n",
       "      <td>0.006</td>\n",
       "      <td>...</td>\n",
       "      <td>0.082</td>\n",
       "      <td>0.004</td>\n",
       "      <td>0.056</td>\n",
       "      <td>0.125</td>\n",
       "      <td>0.034</td>\n",
       "      <td>0.055</td>\n",
       "      <td>0.097</td>\n",
       "      <td>0.010</td>\n",
       "      <td>0.004</td>\n",
       "      <td>0.062</td>\n",
       "    </tr>\n",
       "    <tr>\n",
       "      <th>4</th>\n",
       "      <td>2022-05-05 13:00:00</td>\n",
       "      <td>0.125</td>\n",
       "      <td>0.018</td>\n",
       "      <td>0.024</td>\n",
       "      <td>0.133</td>\n",
       "      <td>0.104</td>\n",
       "      <td>0.011</td>\n",
       "      <td>0.072</td>\n",
       "      <td>0.002</td>\n",
       "      <td>0.006</td>\n",
       "      <td>...</td>\n",
       "      <td>0.076</td>\n",
       "      <td>0.004</td>\n",
       "      <td>0.034</td>\n",
       "      <td>0.070</td>\n",
       "      <td>0.038</td>\n",
       "      <td>0.055</td>\n",
       "      <td>0.075</td>\n",
       "      <td>0.010</td>\n",
       "      <td>0.004</td>\n",
       "      <td>0.024</td>\n",
       "    </tr>\n",
       "    <tr>\n",
       "      <th>...</th>\n",
       "      <td>...</td>\n",
       "      <td>...</td>\n",
       "      <td>...</td>\n",
       "      <td>...</td>\n",
       "      <td>...</td>\n",
       "      <td>...</td>\n",
       "      <td>...</td>\n",
       "      <td>...</td>\n",
       "      <td>...</td>\n",
       "      <td>...</td>\n",
       "      <td>...</td>\n",
       "      <td>...</td>\n",
       "      <td>...</td>\n",
       "      <td>...</td>\n",
       "      <td>...</td>\n",
       "      <td>...</td>\n",
       "      <td>...</td>\n",
       "      <td>...</td>\n",
       "      <td>...</td>\n",
       "      <td>...</td>\n",
       "      <td>...</td>\n",
       "    </tr>\n",
       "    <tr>\n",
       "      <th>38011</th>\n",
       "      <td>2023-06-05 10:45:00</td>\n",
       "      <td>0.094</td>\n",
       "      <td>0.032</td>\n",
       "      <td>0.074</td>\n",
       "      <td>0.203</td>\n",
       "      <td>0.108</td>\n",
       "      <td>0.002</td>\n",
       "      <td>0.124</td>\n",
       "      <td>0.012</td>\n",
       "      <td>0.013</td>\n",
       "      <td>...</td>\n",
       "      <td>0.063</td>\n",
       "      <td>0.004</td>\n",
       "      <td>0.063</td>\n",
       "      <td>0.014</td>\n",
       "      <td>0.042</td>\n",
       "      <td>0.168</td>\n",
       "      <td>0.397</td>\n",
       "      <td>0.019</td>\n",
       "      <td>0.003</td>\n",
       "      <td>0.028</td>\n",
       "    </tr>\n",
       "    <tr>\n",
       "      <th>38012</th>\n",
       "      <td>2023-06-05 11:00:00</td>\n",
       "      <td>0.094</td>\n",
       "      <td>0.032</td>\n",
       "      <td>0.074</td>\n",
       "      <td>0.203</td>\n",
       "      <td>0.108</td>\n",
       "      <td>0.002</td>\n",
       "      <td>0.124</td>\n",
       "      <td>0.012</td>\n",
       "      <td>0.013</td>\n",
       "      <td>...</td>\n",
       "      <td>0.063</td>\n",
       "      <td>0.004</td>\n",
       "      <td>0.063</td>\n",
       "      <td>0.014</td>\n",
       "      <td>0.042</td>\n",
       "      <td>0.168</td>\n",
       "      <td>0.397</td>\n",
       "      <td>0.019</td>\n",
       "      <td>0.003</td>\n",
       "      <td>0.028</td>\n",
       "    </tr>\n",
       "    <tr>\n",
       "      <th>38013</th>\n",
       "      <td>2023-06-05 11:15:00</td>\n",
       "      <td>0.094</td>\n",
       "      <td>0.032</td>\n",
       "      <td>0.074</td>\n",
       "      <td>0.203</td>\n",
       "      <td>0.108</td>\n",
       "      <td>0.002</td>\n",
       "      <td>0.124</td>\n",
       "      <td>0.012</td>\n",
       "      <td>0.013</td>\n",
       "      <td>...</td>\n",
       "      <td>0.063</td>\n",
       "      <td>0.004</td>\n",
       "      <td>0.063</td>\n",
       "      <td>0.014</td>\n",
       "      <td>0.042</td>\n",
       "      <td>0.168</td>\n",
       "      <td>0.397</td>\n",
       "      <td>0.019</td>\n",
       "      <td>0.003</td>\n",
       "      <td>0.028</td>\n",
       "    </tr>\n",
       "    <tr>\n",
       "      <th>38014</th>\n",
       "      <td>2023-06-05 11:30:00</td>\n",
       "      <td>0.094</td>\n",
       "      <td>0.032</td>\n",
       "      <td>0.074</td>\n",
       "      <td>0.203</td>\n",
       "      <td>0.108</td>\n",
       "      <td>0.002</td>\n",
       "      <td>0.124</td>\n",
       "      <td>0.012</td>\n",
       "      <td>0.013</td>\n",
       "      <td>...</td>\n",
       "      <td>0.063</td>\n",
       "      <td>0.004</td>\n",
       "      <td>0.063</td>\n",
       "      <td>0.014</td>\n",
       "      <td>0.042</td>\n",
       "      <td>0.168</td>\n",
       "      <td>0.397</td>\n",
       "      <td>0.019</td>\n",
       "      <td>0.003</td>\n",
       "      <td>0.028</td>\n",
       "    </tr>\n",
       "    <tr>\n",
       "      <th>38015</th>\n",
       "      <td>2023-06-05 11:45:00</td>\n",
       "      <td>0.094</td>\n",
       "      <td>0.032</td>\n",
       "      <td>0.074</td>\n",
       "      <td>0.203</td>\n",
       "      <td>0.108</td>\n",
       "      <td>0.002</td>\n",
       "      <td>0.124</td>\n",
       "      <td>0.012</td>\n",
       "      <td>0.013</td>\n",
       "      <td>...</td>\n",
       "      <td>0.063</td>\n",
       "      <td>0.004</td>\n",
       "      <td>0.063</td>\n",
       "      <td>0.014</td>\n",
       "      <td>0.042</td>\n",
       "      <td>0.168</td>\n",
       "      <td>0.397</td>\n",
       "      <td>0.019</td>\n",
       "      <td>0.003</td>\n",
       "      <td>0.028</td>\n",
       "    </tr>\n",
       "  </tbody>\n",
       "</table>\n",
       "<p>38016 rows × 46 columns</p>\n",
       "</div>"
      ],
      "text/plain": [
       "                      Time  Energy_1  Energy_2  Energy_9  Energy_11  \\\n",
       "0      2022-05-05 12:00:00     0.068     0.018     0.024      0.114   \n",
       "1      2022-05-05 12:15:00     0.070     0.018     0.024      0.190   \n",
       "2      2022-05-05 12:30:00     0.122     0.018     0.024      0.180   \n",
       "3      2022-05-05 12:45:00     0.132     0.018     0.024      0.167   \n",
       "4      2022-05-05 13:00:00     0.125     0.018     0.024      0.133   \n",
       "...                    ...       ...       ...       ...        ...   \n",
       "38011  2023-06-05 10:45:00     0.094     0.032     0.074      0.203   \n",
       "38012  2023-06-05 11:00:00     0.094     0.032     0.074      0.203   \n",
       "38013  2023-06-05 11:15:00     0.094     0.032     0.074      0.203   \n",
       "38014  2023-06-05 11:30:00     0.094     0.032     0.074      0.203   \n",
       "38015  2023-06-05 11:45:00     0.094     0.032     0.074      0.203   \n",
       "\n",
       "       Energy_15  Energy_16  Energy_17  Energy_29  Energy_30  ...  Energy_139  \\\n",
       "0          0.164      0.072      0.055      0.011      0.006  ...       0.083   \n",
       "1          0.135      0.058      0.060      0.002      0.006  ...       0.053   \n",
       "2          0.121      0.011      0.096      0.010      0.006  ...       0.035   \n",
       "3          0.138      0.010      0.064      0.004      0.006  ...       0.082   \n",
       "4          0.104      0.011      0.072      0.002      0.006  ...       0.076   \n",
       "...          ...        ...        ...        ...        ...  ...         ...   \n",
       "38011      0.108      0.002      0.124      0.012      0.013  ...       0.063   \n",
       "38012      0.108      0.002      0.124      0.012      0.013  ...       0.063   \n",
       "38013      0.108      0.002      0.124      0.012      0.013  ...       0.063   \n",
       "38014      0.108      0.002      0.124      0.012      0.013  ...       0.063   \n",
       "38015      0.108      0.002      0.124      0.012      0.013  ...       0.063   \n",
       "\n",
       "       Energy_142  Energy_146  Energy_148  Energy_151  Energy_159  Energy_160  \\\n",
       "0           0.084       0.068       0.060       0.042       0.055       0.069   \n",
       "1           0.004       0.048       0.078       0.053       0.055       0.063   \n",
       "2           0.004       0.062       0.061       0.057       0.055       0.049   \n",
       "3           0.004       0.056       0.125       0.034       0.055       0.097   \n",
       "4           0.004       0.034       0.070       0.038       0.055       0.075   \n",
       "...           ...         ...         ...         ...         ...         ...   \n",
       "38011       0.004       0.063       0.014       0.042       0.168       0.397   \n",
       "38012       0.004       0.063       0.014       0.042       0.168       0.397   \n",
       "38013       0.004       0.063       0.014       0.042       0.168       0.397   \n",
       "38014       0.004       0.063       0.014       0.042       0.168       0.397   \n",
       "38015       0.004       0.063       0.014       0.042       0.168       0.397   \n",
       "\n",
       "       Energy_161  Energy_164  Energy_172  \n",
       "0           0.010       0.004       0.008  \n",
       "1           0.010       0.003       0.056  \n",
       "2           0.010       0.004       0.033  \n",
       "3           0.010       0.004       0.062  \n",
       "4           0.010       0.004       0.024  \n",
       "...           ...         ...         ...  \n",
       "38011       0.019       0.003       0.028  \n",
       "38012       0.019       0.003       0.028  \n",
       "38013       0.019       0.003       0.028  \n",
       "38014       0.019       0.003       0.028  \n",
       "38015       0.019       0.003       0.028  \n",
       "\n",
       "[38016 rows x 46 columns]"
      ]
     },
     "execution_count": 2,
     "metadata": {},
     "output_type": "execute_result"
    }
   ],
   "source": [
    "df = pd.read_csv(\"../../data/loureiro_45houses.csv\")\n",
    "number_of_houses = len(df.columns) - 1\n",
    "df"
   ]
  },
  {
   "cell_type": "code",
   "execution_count": 3,
   "id": "f557f165",
   "metadata": {},
   "outputs": [
    {
     "data": {
      "text/html": [
       "<div>\n",
       "<style scoped>\n",
       "    .dataframe tbody tr th:only-of-type {\n",
       "        vertical-align: middle;\n",
       "    }\n",
       "\n",
       "    .dataframe tbody tr th {\n",
       "        vertical-align: top;\n",
       "    }\n",
       "\n",
       "    .dataframe thead th {\n",
       "        text-align: right;\n",
       "    }\n",
       "</style>\n",
       "<table border=\"1\" class=\"dataframe\">\n",
       "  <thead>\n",
       "    <tr style=\"text-align: right;\">\n",
       "      <th></th>\n",
       "      <th>Energy</th>\n",
       "    </tr>\n",
       "  </thead>\n",
       "  <tbody>\n",
       "    <tr>\n",
       "      <th>0</th>\n",
       "      <td>3.231</td>\n",
       "    </tr>\n",
       "    <tr>\n",
       "      <th>1</th>\n",
       "      <td>3.043</td>\n",
       "    </tr>\n",
       "    <tr>\n",
       "      <th>2</th>\n",
       "      <td>2.959</td>\n",
       "    </tr>\n",
       "    <tr>\n",
       "      <th>3</th>\n",
       "      <td>3.067</td>\n",
       "    </tr>\n",
       "    <tr>\n",
       "      <th>4</th>\n",
       "      <td>2.987</td>\n",
       "    </tr>\n",
       "    <tr>\n",
       "      <th>...</th>\n",
       "      <td>...</td>\n",
       "    </tr>\n",
       "    <tr>\n",
       "      <th>38011</th>\n",
       "      <td>4.150</td>\n",
       "    </tr>\n",
       "    <tr>\n",
       "      <th>38012</th>\n",
       "      <td>4.149</td>\n",
       "    </tr>\n",
       "    <tr>\n",
       "      <th>38013</th>\n",
       "      <td>4.150</td>\n",
       "    </tr>\n",
       "    <tr>\n",
       "      <th>38014</th>\n",
       "      <td>4.179</td>\n",
       "    </tr>\n",
       "    <tr>\n",
       "      <th>38015</th>\n",
       "      <td>4.179</td>\n",
       "    </tr>\n",
       "  </tbody>\n",
       "</table>\n",
       "<p>38016 rows × 1 columns</p>\n",
       "</div>"
      ],
      "text/plain": [
       "       Energy\n",
       "0       3.231\n",
       "1       3.043\n",
       "2       2.959\n",
       "3       3.067\n",
       "4       2.987\n",
       "...       ...\n",
       "38011   4.150\n",
       "38012   4.149\n",
       "38013   4.150\n",
       "38014   4.179\n",
       "38015   4.179\n",
       "\n",
       "[38016 rows x 1 columns]"
      ]
     },
     "execution_count": 3,
     "metadata": {},
     "output_type": "execute_result"
    }
   ],
   "source": [
    "df_total = pd.DataFrame(df.drop([\"Time\"],axis=1).sum(axis=1))\n",
    "df_total.columns = ['Energy']\n",
    "df_total"
   ]
  },
  {
   "attachments": {},
   "cell_type": "markdown",
   "id": "26c25c30",
   "metadata": {},
   "source": [
    "#### Example of past timesteps"
   ]
  },
  {
   "cell_type": "code",
   "execution_count": 4,
   "id": "f041a0af",
   "metadata": {},
   "outputs": [
    {
     "data": {
      "text/html": [
       "<div>\n",
       "<style scoped>\n",
       "    .dataframe tbody tr th:only-of-type {\n",
       "        vertical-align: middle;\n",
       "    }\n",
       "\n",
       "    .dataframe tbody tr th {\n",
       "        vertical-align: top;\n",
       "    }\n",
       "\n",
       "    .dataframe thead th {\n",
       "        text-align: right;\n",
       "    }\n",
       "</style>\n",
       "<table border=\"1\" class=\"dataframe\">\n",
       "  <thead>\n",
       "    <tr style=\"text-align: right;\">\n",
       "      <th></th>\n",
       "      <th>lag_1</th>\n",
       "      <th>lag_2</th>\n",
       "      <th>lag_3</th>\n",
       "    </tr>\n",
       "  </thead>\n",
       "  <tbody>\n",
       "    <tr>\n",
       "      <th>0</th>\n",
       "      <td>2.959</td>\n",
       "      <td>3.043</td>\n",
       "      <td>3.231</td>\n",
       "    </tr>\n",
       "    <tr>\n",
       "      <th>1</th>\n",
       "      <td>3.067</td>\n",
       "      <td>2.959</td>\n",
       "      <td>3.043</td>\n",
       "    </tr>\n",
       "    <tr>\n",
       "      <th>2</th>\n",
       "      <td>2.987</td>\n",
       "      <td>3.067</td>\n",
       "      <td>2.959</td>\n",
       "    </tr>\n",
       "    <tr>\n",
       "      <th>3</th>\n",
       "      <td>3.755</td>\n",
       "      <td>2.987</td>\n",
       "      <td>3.067</td>\n",
       "    </tr>\n",
       "    <tr>\n",
       "      <th>4</th>\n",
       "      <td>3.129</td>\n",
       "      <td>3.755</td>\n",
       "      <td>2.987</td>\n",
       "    </tr>\n",
       "    <tr>\n",
       "      <th>...</th>\n",
       "      <td>...</td>\n",
       "      <td>...</td>\n",
       "      <td>...</td>\n",
       "    </tr>\n",
       "    <tr>\n",
       "      <th>38008</th>\n",
       "      <td>4.149</td>\n",
       "      <td>4.168</td>\n",
       "      <td>4.179</td>\n",
       "    </tr>\n",
       "    <tr>\n",
       "      <th>38009</th>\n",
       "      <td>4.150</td>\n",
       "      <td>4.149</td>\n",
       "      <td>4.168</td>\n",
       "    </tr>\n",
       "    <tr>\n",
       "      <th>38010</th>\n",
       "      <td>4.149</td>\n",
       "      <td>4.150</td>\n",
       "      <td>4.149</td>\n",
       "    </tr>\n",
       "    <tr>\n",
       "      <th>38011</th>\n",
       "      <td>4.150</td>\n",
       "      <td>4.149</td>\n",
       "      <td>4.150</td>\n",
       "    </tr>\n",
       "    <tr>\n",
       "      <th>38012</th>\n",
       "      <td>4.179</td>\n",
       "      <td>4.150</td>\n",
       "      <td>4.149</td>\n",
       "    </tr>\n",
       "  </tbody>\n",
       "</table>\n",
       "<p>38013 rows × 3 columns</p>\n",
       "</div>"
      ],
      "text/plain": [
       "       lag_1  lag_2  lag_3\n",
       "0      2.959  3.043  3.231\n",
       "1      3.067  2.959  3.043\n",
       "2      2.987  3.067  2.959\n",
       "3      3.755  2.987  3.067\n",
       "4      3.129  3.755  2.987\n",
       "...      ...    ...    ...\n",
       "38008  4.149  4.168  4.179\n",
       "38009  4.150  4.149  4.168\n",
       "38010  4.149  4.150  4.149\n",
       "38011  4.150  4.149  4.150\n",
       "38012  4.179  4.150  4.149\n",
       "\n",
       "[38013 rows x 3 columns]"
      ]
     },
     "execution_count": 4,
     "metadata": {},
     "output_type": "execute_result"
    }
   ],
   "source": [
    "Xt, yt = last_energy_points(df_total, 3)\n",
    "Xt"
   ]
  },
  {
   "cell_type": "code",
   "execution_count": 5,
   "id": "83459f59",
   "metadata": {},
   "outputs": [
    {
     "data": {
      "text/plain": [
       "array([[0.21524696, 0.22135739, 0.2350331 ],\n",
       "       [0.22310322, 0.21524696, 0.22135739],\n",
       "       [0.21728377, 0.22310322, 0.21524696],\n",
       "       ...,\n",
       "       [0.3018113 , 0.30188405, 0.3018113 ],\n",
       "       [0.30188405, 0.3018113 , 0.30188405],\n",
       "       [0.3039936 , 0.30188405, 0.3018113 ]])"
      ]
     },
     "execution_count": 5,
     "metadata": {},
     "output_type": "execute_result"
    }
   ],
   "source": [
    "Xt_norm, _ = normalize_training(Xt)\n",
    "Xt_norm"
   ]
  },
  {
   "cell_type": "code",
   "execution_count": 6,
   "id": "a80c8626",
   "metadata": {},
   "outputs": [
    {
     "data": {
      "text/html": [
       "<div>\n",
       "<style scoped>\n",
       "    .dataframe tbody tr th:only-of-type {\n",
       "        vertical-align: middle;\n",
       "    }\n",
       "\n",
       "    .dataframe tbody tr th {\n",
       "        vertical-align: top;\n",
       "    }\n",
       "\n",
       "    .dataframe thead th {\n",
       "        text-align: right;\n",
       "    }\n",
       "</style>\n",
       "<table border=\"1\" class=\"dataframe\">\n",
       "  <thead>\n",
       "    <tr style=\"text-align: right;\">\n",
       "      <th></th>\n",
       "      <th>Energy</th>\n",
       "    </tr>\n",
       "  </thead>\n",
       "  <tbody>\n",
       "    <tr>\n",
       "      <th>0</th>\n",
       "      <td>3.067</td>\n",
       "    </tr>\n",
       "    <tr>\n",
       "      <th>1</th>\n",
       "      <td>2.987</td>\n",
       "    </tr>\n",
       "    <tr>\n",
       "      <th>2</th>\n",
       "      <td>3.755</td>\n",
       "    </tr>\n",
       "    <tr>\n",
       "      <th>3</th>\n",
       "      <td>3.129</td>\n",
       "    </tr>\n",
       "    <tr>\n",
       "      <th>4</th>\n",
       "      <td>2.836</td>\n",
       "    </tr>\n",
       "    <tr>\n",
       "      <th>...</th>\n",
       "      <td>...</td>\n",
       "    </tr>\n",
       "    <tr>\n",
       "      <th>38008</th>\n",
       "      <td>4.150</td>\n",
       "    </tr>\n",
       "    <tr>\n",
       "      <th>38009</th>\n",
       "      <td>4.149</td>\n",
       "    </tr>\n",
       "    <tr>\n",
       "      <th>38010</th>\n",
       "      <td>4.150</td>\n",
       "    </tr>\n",
       "    <tr>\n",
       "      <th>38011</th>\n",
       "      <td>4.179</td>\n",
       "    </tr>\n",
       "    <tr>\n",
       "      <th>38012</th>\n",
       "      <td>4.179</td>\n",
       "    </tr>\n",
       "  </tbody>\n",
       "</table>\n",
       "<p>38013 rows × 1 columns</p>\n",
       "</div>"
      ],
      "text/plain": [
       "       Energy\n",
       "0       3.067\n",
       "1       2.987\n",
       "2       3.755\n",
       "3       3.129\n",
       "4       2.836\n",
       "...       ...\n",
       "38008   4.150\n",
       "38009   4.149\n",
       "38010   4.150\n",
       "38011   4.179\n",
       "38012   4.179\n",
       "\n",
       "[38013 rows x 1 columns]"
      ]
     },
     "execution_count": 6,
     "metadata": {},
     "output_type": "execute_result"
    }
   ],
   "source": [
    "yt"
   ]
  },
  {
   "cell_type": "markdown",
   "id": "66ae0bca",
   "metadata": {},
   "source": [
    "# No ML"
   ]
  },
  {
   "cell_type": "code",
   "execution_count": 7,
   "id": "bf10d619",
   "metadata": {},
   "outputs": [
    {
     "data": {
      "text/html": [
       "<div>\n",
       "<style scoped>\n",
       "    .dataframe tbody tr th:only-of-type {\n",
       "        vertical-align: middle;\n",
       "    }\n",
       "\n",
       "    .dataframe tbody tr th {\n",
       "        vertical-align: top;\n",
       "    }\n",
       "\n",
       "    .dataframe thead th {\n",
       "        text-align: right;\n",
       "    }\n",
       "</style>\n",
       "<table border=\"1\" class=\"dataframe\">\n",
       "  <thead>\n",
       "    <tr style=\"text-align: right;\">\n",
       "      <th></th>\n",
       "      <th>Energy</th>\n",
       "    </tr>\n",
       "  </thead>\n",
       "  <tbody>\n",
       "    <tr>\n",
       "      <th>0</th>\n",
       "      <td>3.231</td>\n",
       "    </tr>\n",
       "    <tr>\n",
       "      <th>1</th>\n",
       "      <td>3.043</td>\n",
       "    </tr>\n",
       "    <tr>\n",
       "      <th>2</th>\n",
       "      <td>2.959</td>\n",
       "    </tr>\n",
       "    <tr>\n",
       "      <th>3</th>\n",
       "      <td>3.067</td>\n",
       "    </tr>\n",
       "    <tr>\n",
       "      <th>4</th>\n",
       "      <td>2.987</td>\n",
       "    </tr>\n",
       "    <tr>\n",
       "      <th>...</th>\n",
       "      <td>...</td>\n",
       "    </tr>\n",
       "    <tr>\n",
       "      <th>38010</th>\n",
       "      <td>4.149</td>\n",
       "    </tr>\n",
       "    <tr>\n",
       "      <th>38011</th>\n",
       "      <td>4.150</td>\n",
       "    </tr>\n",
       "    <tr>\n",
       "      <th>38012</th>\n",
       "      <td>4.149</td>\n",
       "    </tr>\n",
       "    <tr>\n",
       "      <th>38013</th>\n",
       "      <td>4.150</td>\n",
       "    </tr>\n",
       "    <tr>\n",
       "      <th>38014</th>\n",
       "      <td>4.179</td>\n",
       "    </tr>\n",
       "  </tbody>\n",
       "</table>\n",
       "<p>38015 rows × 1 columns</p>\n",
       "</div>"
      ],
      "text/plain": [
       "       Energy\n",
       "0       3.231\n",
       "1       3.043\n",
       "2       2.959\n",
       "3       3.067\n",
       "4       2.987\n",
       "...       ...\n",
       "38010   4.149\n",
       "38011   4.150\n",
       "38012   4.149\n",
       "38013   4.150\n",
       "38014   4.179\n",
       "\n",
       "[38015 rows x 1 columns]"
      ]
     },
     "execution_count": 7,
     "metadata": {},
     "output_type": "execute_result"
    }
   ],
   "source": [
    "X15 = df_total.copy()\n",
    "X15 = X15.iloc[:-1]\n",
    "X15.reset_index(drop=True, inplace=True)\n",
    "X15"
   ]
  },
  {
   "cell_type": "code",
   "execution_count": 8,
   "id": "aa309606",
   "metadata": {},
   "outputs": [
    {
     "data": {
      "text/html": [
       "<div>\n",
       "<style scoped>\n",
       "    .dataframe tbody tr th:only-of-type {\n",
       "        vertical-align: middle;\n",
       "    }\n",
       "\n",
       "    .dataframe tbody tr th {\n",
       "        vertical-align: top;\n",
       "    }\n",
       "\n",
       "    .dataframe thead th {\n",
       "        text-align: right;\n",
       "    }\n",
       "</style>\n",
       "<table border=\"1\" class=\"dataframe\">\n",
       "  <thead>\n",
       "    <tr style=\"text-align: right;\">\n",
       "      <th></th>\n",
       "      <th>Energy</th>\n",
       "    </tr>\n",
       "  </thead>\n",
       "  <tbody>\n",
       "    <tr>\n",
       "      <th>0</th>\n",
       "      <td>3.043</td>\n",
       "    </tr>\n",
       "    <tr>\n",
       "      <th>1</th>\n",
       "      <td>2.959</td>\n",
       "    </tr>\n",
       "    <tr>\n",
       "      <th>2</th>\n",
       "      <td>3.067</td>\n",
       "    </tr>\n",
       "    <tr>\n",
       "      <th>3</th>\n",
       "      <td>2.987</td>\n",
       "    </tr>\n",
       "    <tr>\n",
       "      <th>4</th>\n",
       "      <td>3.755</td>\n",
       "    </tr>\n",
       "    <tr>\n",
       "      <th>...</th>\n",
       "      <td>...</td>\n",
       "    </tr>\n",
       "    <tr>\n",
       "      <th>38010</th>\n",
       "      <td>4.150</td>\n",
       "    </tr>\n",
       "    <tr>\n",
       "      <th>38011</th>\n",
       "      <td>4.149</td>\n",
       "    </tr>\n",
       "    <tr>\n",
       "      <th>38012</th>\n",
       "      <td>4.150</td>\n",
       "    </tr>\n",
       "    <tr>\n",
       "      <th>38013</th>\n",
       "      <td>4.179</td>\n",
       "    </tr>\n",
       "    <tr>\n",
       "      <th>38014</th>\n",
       "      <td>4.179</td>\n",
       "    </tr>\n",
       "  </tbody>\n",
       "</table>\n",
       "<p>38015 rows × 1 columns</p>\n",
       "</div>"
      ],
      "text/plain": [
       "       Energy\n",
       "0       3.043\n",
       "1       2.959\n",
       "2       3.067\n",
       "3       2.987\n",
       "4       3.755\n",
       "...       ...\n",
       "38010   4.150\n",
       "38011   4.149\n",
       "38012   4.150\n",
       "38013   4.179\n",
       "38014   4.179\n",
       "\n",
       "[38015 rows x 1 columns]"
      ]
     },
     "execution_count": 8,
     "metadata": {},
     "output_type": "execute_result"
    }
   ],
   "source": [
    "y15 = df_total.copy()\n",
    "y15 = y15.iloc[1:]\n",
    "y15.reset_index(drop=True, inplace=True)\n",
    "y15"
   ]
  },
  {
   "cell_type": "code",
   "execution_count": 9,
   "id": "65f091fb",
   "metadata": {},
   "outputs": [
    {
     "name": "stdout",
     "output_type": "stream",
     "text": [
      "RMSE: 0.5377\n",
      "WAPE: 10.48\n",
      "R2: 0.8542\n"
     ]
    }
   ],
   "source": [
    "rmse_15, wape_15, r2_15 = no_ml_predict(X15.values, y15.values)"
   ]
  },
  {
   "attachments": {},
   "cell_type": "markdown",
   "id": "782b5afc",
   "metadata": {},
   "source": [
    "# Linear Regression"
   ]
  },
  {
   "attachments": {},
   "cell_type": "markdown",
   "id": "cc63191f",
   "metadata": {},
   "source": [
    "### Test for last day"
   ]
  },
  {
   "cell_type": "code",
   "execution_count": 10,
   "id": "4b3ee30c",
   "metadata": {},
   "outputs": [],
   "source": [
    "number_of_past_timesteps = 96"
   ]
  },
  {
   "cell_type": "code",
   "execution_count": 11,
   "id": "f4e84a0b",
   "metadata": {},
   "outputs": [],
   "source": [
    "n_splits = 10"
   ]
  },
  {
   "cell_type": "code",
   "execution_count": 12,
   "id": "d2f2747f",
   "metadata": {
    "scrolled": true
   },
   "outputs": [
    {
     "name": "stdout",
     "output_type": "stream",
     "text": [
      "\n",
      "Iteration  0\n",
      "RMSE: 0.4288\n",
      "WAPE: 9.14\n",
      "R2: 0.8385\n",
      "\n",
      "Elapsed time: 0.041 seconds\n",
      "\n",
      "Iteration  1\n",
      "RMSE: 0.4335\n",
      "WAPE: 8.64\n",
      "R2: 0.8416\n",
      "\n",
      "Elapsed time: 0.044 seconds\n",
      "\n",
      "Iteration  2\n",
      "RMSE: 0.4180\n",
      "WAPE: 8.91\n",
      "R2: 0.8385\n",
      "\n",
      "Elapsed time: 0.027 seconds\n",
      "\n",
      "Iteration  3\n",
      "RMSE: 0.4704\n",
      "WAPE: 10.09\n",
      "R2: 0.8585\n",
      "\n",
      "Elapsed time: 0.040 seconds\n",
      "\n",
      "Iteration  4\n",
      "RMSE: 0.4978\n",
      "WAPE: 9.53\n",
      "R2: 0.8882\n",
      "\n",
      "Elapsed time: 0.040 seconds\n",
      "\n",
      "Iteration  5\n",
      "RMSE: 0.5580\n",
      "WAPE: 9.35\n",
      "R2: 0.8993\n",
      "\n",
      "Elapsed time: 0.049 seconds\n",
      "\n",
      "Iteration  6\n",
      "RMSE: 0.5878\n",
      "WAPE: 9.95\n",
      "R2: 0.8830\n",
      "\n",
      "Elapsed time: 0.053 seconds\n",
      "\n",
      "Iteration  7\n",
      "RMSE: 0.6158\n",
      "WAPE: 10.86\n",
      "R2: 0.8556\n",
      "\n",
      "Elapsed time: 0.063 seconds\n",
      "\n",
      "Iteration  8\n",
      "RMSE: 0.5085\n",
      "WAPE: 11.00\n",
      "R2: 0.8303\n",
      "\n",
      "Elapsed time: 0.101 seconds\n",
      "\n",
      "Iteration  9\n",
      "RMSE: 0.4655\n",
      "WAPE: 10.13\n",
      "R2: 0.8150\n",
      "\n",
      "Elapsed time: 0.083 seconds\n"
     ]
    }
   ],
   "source": [
    "metrics_list_lr = []\n",
    "\n",
    "X, y = last_energy_points(df_total, number_of_past_timesteps)\n",
    "\n",
    "for i in range(n_splits):\n",
    "    start = time.time()\n",
    "    print(\"\\nIteration \", i)\n",
    "\n",
    "\n",
    "    X_train, X_test, y_train, y_test = expanding_window_split(X, y, cv=i, n_splits=n_splits)\n",
    "\n",
    "    X_train_norm, scaler = normalize_training(X_train)\n",
    "    X_test_norm = scaler.transform(X_test)\n",
    "\n",
    "    rmse, wape, r2, _ = predict_results(X_train_norm, X_test_norm, y_train, y_test, LinearRegression())\n",
    "    metrics_list_lr.append((rmse,wape,r2))\n",
    "    print(\"\\nElapsed time: %.3f seconds\" % (time.time() - start))"
   ]
  },
  {
   "cell_type": "code",
   "execution_count": 13,
   "id": "c8e6e7d7",
   "metadata": {},
   "outputs": [
    {
     "name": "stdout",
     "output_type": "stream",
     "text": [
      "Total Averaged RMSE: 0.498\n",
      "Total Averaged WAPE: 9.76\n",
      "Total Averaged R2: 0.855\n"
     ]
    }
   ],
   "source": [
    "rmse_lr, wape_lr, r2_lr = total_averaged_metrics(metrics_list_lr)"
   ]
  },
  {
   "cell_type": "code",
   "execution_count": 14,
   "id": "fb1e50ba",
   "metadata": {},
   "outputs": [],
   "source": [
    "col1 = [row[0] for row in metrics_list_lr]\n",
    "col2 = [row[1] for row in metrics_list_lr]\n",
    "col3 = [row[2] for row in metrics_list_lr]"
   ]
  },
  {
   "cell_type": "code",
   "execution_count": 15,
   "id": "2b8986bd",
   "metadata": {},
   "outputs": [
    {
     "data": {
      "text/plain": [
       "Text(0.5, 0, 'EW Iterations')"
      ]
     },
     "execution_count": 15,
     "metadata": {},
     "output_type": "execute_result"
    },
    {
     "data": {
      "image/png": "[encoded data removed]",
      "text/plain": [
       "<Figure size 400x400 with 1 Axes>"
      ]
     },
     "metadata": {},
     "output_type": "display_data"
    }
   ],
   "source": [
    "plt.figure(figsize=(4, 4)) \n",
    "plt.plot(col1)\n",
    "plt.title('Aggregated LR RMSE')\n",
    "plt.ylabel('RMSE')\n",
    "plt.xlabel('EW Iterations')"
   ]
  },
  {
   "cell_type": "code",
   "execution_count": 16,
   "id": "46ba17c8",
   "metadata": {},
   "outputs": [
    {
     "data": {
      "text/plain": [
       "Text(0.5, 0, 'EW Iterations')"
      ]
     },
     "execution_count": 16,
     "metadata": {},
     "output_type": "execute_result"
    },
    {
     "data": {
      "image/png": "[encoded data removed]",
      "text/plain": [
       "<Figure size 400x400 with 1 Axes>"
      ]
     },
     "metadata": {},
     "output_type": "display_data"
    }
   ],
   "source": [
    "plt.figure(figsize=(4, 4)) \n",
    "plt.plot(col2)\n",
    "plt.title('Aggregated LR WAPE')\n",
    "plt.ylabel('WAPE')\n",
    "plt.xlabel('EW Iterations')"
   ]
  },
  {
   "cell_type": "code",
   "execution_count": 17,
   "id": "ebaf4319",
   "metadata": {},
   "outputs": [
    {
     "data": {
      "text/plain": [
       "Text(0.5, 0, 'EW Iterations')"
      ]
     },
     "execution_count": 17,
     "metadata": {},
     "output_type": "execute_result"
    },
    {
     "data": {
      "image/png": "[encoded data removed]",
      "text/plain": [
       "<Figure size 400x400 with 1 Axes>"
      ]
     },
     "metadata": {},
     "output_type": "display_data"
    }
   ],
   "source": [
    "plt.figure(figsize=(4, 4)) \n",
    "plt.plot(col3)\n",
    "plt.title('Aggregated LR R2')\n",
    "plt.ylabel('R2')\n",
    "plt.xlabel('EW Iterations')"
   ]
  },
  {
   "cell_type": "markdown",
   "id": "04cc230d",
   "metadata": {},
   "source": [
    "# XGBoost"
   ]
  },
  {
   "cell_type": "code",
   "execution_count": 18,
   "id": "88edd44c",
   "metadata": {},
   "outputs": [
    {
     "name": "stdout",
     "output_type": "stream",
     "text": [
      "\n",
      "Iteration  0\n",
      "RMSE: 0.4868\n",
      "WAPE: 10.04\n",
      "R2: 0.7919\n",
      "\n",
      "Elapsed time: 3.190 seconds\n",
      "\n",
      "Iteration  1\n",
      "RMSE: 0.4630\n",
      "WAPE: 9.24\n",
      "R2: 0.8192\n",
      "\n",
      "Elapsed time: 0.144 seconds\n",
      "\n",
      "Iteration  2\n",
      "RMSE: 0.4302\n",
      "WAPE: 9.18\n",
      "R2: 0.8289\n",
      "\n",
      "Elapsed time: 0.145 seconds\n",
      "\n",
      "Iteration  3\n",
      "RMSE: 0.5260\n",
      "WAPE: 11.25\n",
      "R2: 0.8231\n",
      "\n",
      "Elapsed time: 0.151 seconds\n",
      "\n",
      "Iteration  4\n",
      "RMSE: 0.5639\n",
      "WAPE: 10.66\n",
      "R2: 0.8566\n",
      "\n",
      "Elapsed time: 0.158 seconds\n",
      "\n",
      "Iteration  5\n",
      "RMSE: 0.6456\n",
      "WAPE: 10.49\n",
      "R2: 0.8652\n",
      "\n",
      "Elapsed time: 0.160 seconds\n",
      "\n",
      "Iteration  6\n",
      "RMSE: 0.6454\n",
      "WAPE: 10.58\n",
      "R2: 0.8590\n",
      "\n",
      "Elapsed time: 0.171 seconds\n",
      "\n",
      "Iteration  7\n",
      "RMSE: 0.6360\n",
      "WAPE: 11.29\n",
      "R2: 0.8460\n",
      "\n",
      "Elapsed time: 0.171 seconds\n",
      "\n",
      "Iteration  8\n",
      "RMSE: 0.5144\n",
      "WAPE: 11.13\n",
      "R2: 0.8264\n",
      "\n",
      "Elapsed time: 0.178 seconds\n",
      "\n",
      "Iteration  9\n",
      "RMSE: 0.4670\n",
      "WAPE: 10.13\n",
      "R2: 0.8139\n",
      "\n",
      "Elapsed time: 0.183 seconds\n"
     ]
    }
   ],
   "source": [
    "metrics_list_xgb = []\n",
    "\n",
    "for i in range(n_splits):\n",
    "    start = time.time()\n",
    "    print(\"\\nIteration \", i)\n",
    "\n",
    "\n",
    "    X_train, X_test, y_train, y_test = expanding_window_split(X, y, cv=i, n_splits=n_splits)\n",
    "\n",
    "    X_train_norm, scaler = normalize_training(X_train)\n",
    "    X_test_norm = scaler.transform(X_test)\n",
    "\n",
    "    rmse, wape, r2, model_xgb = predict_results(X_train_norm, X_test_norm, y_train, y_test, xgb.XGBRegressor(seed=42, tree_method='gpu_hist'))\n",
    "    metrics_list_xgb.append((rmse,wape,r2))\n",
    "    print(\"\\nElapsed time: %.3f seconds\" % (time.time() - start))"
   ]
  },
  {
   "cell_type": "code",
   "execution_count": 19,
   "id": "0954595f",
   "metadata": {},
   "outputs": [
    {
     "name": "stdout",
     "output_type": "stream",
     "text": [
      "Total Averaged RMSE: 0.538\n",
      "Total Averaged WAPE: 10.399\n",
      "Total Averaged R2: 0.833\n"
     ]
    }
   ],
   "source": [
    "rmse_xgb, wape_xgb, r2_xgb = total_averaged_metrics(metrics_list_xgb)"
   ]
  },
  {
   "cell_type": "code",
   "execution_count": 20,
   "id": "b6b584d1",
   "metadata": {},
   "outputs": [],
   "source": [
    "col1 = [row[0] for row in metrics_list_xgb]\n",
    "col2 = [row[1] for row in metrics_list_xgb]\n",
    "col3 = [row[2] for row in metrics_list_xgb]"
   ]
  },
  {
   "cell_type": "code",
   "execution_count": 21,
   "id": "86f4a124",
   "metadata": {},
   "outputs": [
    {
     "data": {
      "text/plain": [
       "Text(0.5, 0, 'EW Iterations')"
      ]
     },
     "execution_count": 21,
     "metadata": {},
     "output_type": "execute_result"
    },
    {
     "data": {
      "image/png": "[encoded data removed]",
      "text/plain": [
       "<Figure size 400x400 with 1 Axes>"
      ]
     },
     "metadata": {},
     "output_type": "display_data"
    }
   ],
   "source": [
    "plt.figure(figsize=(4, 4)) \n",
    "plt.plot(col1)\n",
    "plt.title('Aggregated XGB RMSE')\n",
    "plt.ylabel('RMSE')\n",
    "plt.xlabel('EW Iterations')"
   ]
  },
  {
   "cell_type": "code",
   "execution_count": 22,
   "id": "e067c4e7",
   "metadata": {},
   "outputs": [
    {
     "data": {
      "text/plain": [
       "Text(0.5, 0, 'EW Iterations')"
      ]
     },
     "execution_count": 22,
     "metadata": {},
     "output_type": "execute_result"
    },
    {
     "data": {
      "image/png": "[encoded data removed]",
      "text/plain": [
       "<Figure size 400x400 with 1 Axes>"
      ]
     },
     "metadata": {},
     "output_type": "display_data"
    }
   ],
   "source": [
    "plt.figure(figsize=(4, 4)) \n",
    "plt.plot(col2)\n",
    "plt.title('Aggregated XGB WAPE')\n",
    "plt.ylabel('WAPE')\n",
    "plt.xlabel('EW Iterations')"
   ]
  },
  {
   "cell_type": "code",
   "execution_count": 23,
   "id": "8a62ab82",
   "metadata": {},
   "outputs": [
    {
     "data": {
      "text/plain": [
       "Text(0.5, 0, 'EW Iterations')"
      ]
     },
     "execution_count": 23,
     "metadata": {},
     "output_type": "execute_result"
    },
    {
     "data": {
      "image/png": "[encoded data removed]",
      "text/plain": [
       "<Figure size 400x400 with 1 Axes>"
      ]
     },
     "metadata": {},
     "output_type": "display_data"
    }
   ],
   "source": [
    "plt.figure(figsize=(4, 4)) \n",
    "plt.plot(col3)\n",
    "plt.title('Aggregated XGB R2')\n",
    "plt.ylabel('R2')\n",
    "plt.xlabel('EW Iterations')"
   ]
  },
  {
   "cell_type": "markdown",
   "id": "e453adcf",
   "metadata": {},
   "source": [
    "# Random Forest"
   ]
  },
  {
   "cell_type": "code",
   "execution_count": 24,
   "id": "a32d2941",
   "metadata": {},
   "outputs": [
    {
     "name": "stdout",
     "output_type": "stream",
     "text": [
      "\n",
      "Iteration  0\n"
     ]
    },
    {
     "name": "stderr",
     "output_type": "stream",
     "text": [
      "/home/francisco.monteiro@av.it.pt/miniconda3/envs/rapids-23.02/lib/python3.8/site-packages/cuml/internals/api_decorators.py:190: UserWarning: To use pickling first train using float32 data to fit the estimator\n",
      "  ret = func(*args, **kwargs)\n",
      "/home/francisco.monteiro@av.it.pt/miniconda3/envs/rapids-23.02/lib/python3.8/site-packages/cuml/internals/api_decorators.py:190: UserWarning: To use pickling first train using float32 data to fit the estimator\n",
      "  ret = func(*args, **kwargs)\n"
     ]
    },
    {
     "name": "stdout",
     "output_type": "stream",
     "text": [
      "RMSE: 0.4458\n",
      "WAPE: 9.26\n",
      "R2: 0.8255\n",
      "\n",
      "Elapsed time: 0.563 seconds\n",
      "\n",
      "Iteration  1\n",
      "RMSE: 0.4376\n",
      "WAPE: 8.69\n",
      "R2: 0.8385\n",
      "\n",
      "Elapsed time: 0.665 seconds\n",
      "\n",
      "Iteration  2\n"
     ]
    },
    {
     "name": "stderr",
     "output_type": "stream",
     "text": [
      "/home/francisco.monteiro@av.it.pt/miniconda3/envs/rapids-23.02/lib/python3.8/site-packages/cuml/internals/api_decorators.py:190: UserWarning: To use pickling first train using float32 data to fit the estimator\n",
      "  ret = func(*args, **kwargs)\n",
      "/home/francisco.monteiro@av.it.pt/miniconda3/envs/rapids-23.02/lib/python3.8/site-packages/cuml/internals/api_decorators.py:190: UserWarning: To use pickling first train using float32 data to fit the estimator\n",
      "  ret = func(*args, **kwargs)\n"
     ]
    },
    {
     "name": "stdout",
     "output_type": "stream",
     "text": [
      "RMSE: 0.4121\n",
      "WAPE: 8.78\n",
      "R2: 0.8430\n",
      "\n",
      "Elapsed time: 0.785 seconds\n",
      "\n",
      "Iteration  3\n",
      "RMSE: 0.4713\n",
      "WAPE: 10.21\n",
      "R2: 0.8580\n",
      "\n",
      "Elapsed time: 0.905 seconds\n",
      "\n",
      "Iteration  4\n"
     ]
    },
    {
     "name": "stderr",
     "output_type": "stream",
     "text": [
      "/home/francisco.monteiro@av.it.pt/miniconda3/envs/rapids-23.02/lib/python3.8/site-packages/cuml/internals/api_decorators.py:190: UserWarning: To use pickling first train using float32 data to fit the estimator\n",
      "  ret = func(*args, **kwargs)\n",
      "/home/francisco.monteiro@av.it.pt/miniconda3/envs/rapids-23.02/lib/python3.8/site-packages/cuml/internals/api_decorators.py:190: UserWarning: To use pickling first train using float32 data to fit the estimator\n",
      "  ret = func(*args, **kwargs)\n"
     ]
    },
    {
     "name": "stdout",
     "output_type": "stream",
     "text": [
      "RMSE: 0.5257\n",
      "WAPE: 9.90\n",
      "R2: 0.8753\n",
      "\n",
      "Elapsed time: 1.004 seconds\n",
      "\n",
      "Iteration  5\n",
      "RMSE: 0.6193\n",
      "WAPE: 10.07\n",
      "R2: 0.8759\n",
      "\n",
      "Elapsed time: 1.112 seconds\n",
      "\n",
      "Iteration  6\n"
     ]
    },
    {
     "name": "stderr",
     "output_type": "stream",
     "text": [
      "/home/francisco.monteiro@av.it.pt/miniconda3/envs/rapids-23.02/lib/python3.8/site-packages/cuml/internals/api_decorators.py:190: UserWarning: To use pickling first train using float32 data to fit the estimator\n",
      "  ret = func(*args, **kwargs)\n",
      "/home/francisco.monteiro@av.it.pt/miniconda3/envs/rapids-23.02/lib/python3.8/site-packages/cuml/internals/api_decorators.py:190: UserWarning: To use pickling first train using float32 data to fit the estimator\n",
      "  ret = func(*args, **kwargs)\n"
     ]
    },
    {
     "name": "stdout",
     "output_type": "stream",
     "text": [
      "RMSE: 0.6148\n",
      "WAPE: 10.13\n",
      "R2: 0.8720\n",
      "\n",
      "Elapsed time: 1.216 seconds\n",
      "\n",
      "Iteration  7\n",
      "RMSE: 0.6122\n",
      "WAPE: 10.90\n",
      "R2: 0.8573\n",
      "\n",
      "Elapsed time: 1.307 seconds\n",
      "\n",
      "Iteration  8\n"
     ]
    },
    {
     "name": "stderr",
     "output_type": "stream",
     "text": [
      "/home/francisco.monteiro@av.it.pt/miniconda3/envs/rapids-23.02/lib/python3.8/site-packages/cuml/internals/api_decorators.py:190: UserWarning: To use pickling first train using float32 data to fit the estimator\n",
      "  ret = func(*args, **kwargs)\n",
      "/home/francisco.monteiro@av.it.pt/miniconda3/envs/rapids-23.02/lib/python3.8/site-packages/cuml/internals/api_decorators.py:190: UserWarning: To use pickling first train using float32 data to fit the estimator\n",
      "  ret = func(*args, **kwargs)\n"
     ]
    },
    {
     "name": "stdout",
     "output_type": "stream",
     "text": [
      "RMSE: 0.4972\n",
      "WAPE: 10.86\n",
      "R2: 0.8378\n",
      "\n",
      "Elapsed time: 1.375 seconds\n",
      "\n",
      "Iteration  9\n",
      "RMSE: 0.4556\n",
      "WAPE: 9.93\n",
      "R2: 0.8228\n",
      "\n",
      "Elapsed time: 1.451 seconds\n"
     ]
    }
   ],
   "source": [
    "metrics_list_rf = []\n",
    "\n",
    "for i in range(n_splits):\n",
    "    start = time.time()\n",
    "    print(\"\\nIteration \", i)\n",
    "\n",
    "\n",
    "    X_train, X_test, y_train, y_test = expanding_window_split(X, y, cv=i, n_splits=n_splits)\n",
    "\n",
    "    X_train_norm, scaler = normalize_training(X_train)\n",
    "    X_test_norm = scaler.transform(X_test)\n",
    "\n",
    "    rmse, wape, r2, _ = predict_results(X_train_norm, X_test_norm, y_train, y_test, cuRF())\n",
    "    metrics_list_rf.append((rmse,wape,r2))\n",
    "    print(\"\\nElapsed time: %.3f seconds\" % (time.time() - start))"
   ]
  },
  {
   "cell_type": "code",
   "execution_count": 25,
   "id": "6fd64888",
   "metadata": {},
   "outputs": [
    {
     "name": "stdout",
     "output_type": "stream",
     "text": [
      "Total Averaged RMSE: 0.509\n",
      "Total Averaged WAPE: 9.873\n",
      "Total Averaged R2: 0.851\n"
     ]
    }
   ],
   "source": [
    "rmse_rf, wape_rf, r2_rf = total_averaged_metrics(metrics_list_rf)"
   ]
  },
  {
   "cell_type": "code",
   "execution_count": 26,
   "id": "617c0aa9",
   "metadata": {},
   "outputs": [],
   "source": [
    "col1 = [row[0] for row in metrics_list_rf]\n",
    "col2 = [row[1] for row in metrics_list_rf]\n",
    "col3 = [row[2] for row in metrics_list_rf]"
   ]
  },
  {
   "cell_type": "code",
   "execution_count": 27,
   "id": "2d79f79d",
   "metadata": {},
   "outputs": [
    {
     "data": {
      "text/plain": [
       "Text(0.5, 0, 'EW Iterations')"
      ]
     },
     "execution_count": 27,
     "metadata": {},
     "output_type": "execute_result"
    },
    {
     "data": {
      "image/png": "[encoded data removed]",
      "text/plain": [
       "<Figure size 400x400 with 1 Axes>"
      ]
     },
     "metadata": {},
     "output_type": "display_data"
    }
   ],
   "source": [
    "# Plot for the first column\n",
    "plt.figure(figsize=(4, 4)) # 1 row, 3 columns, 1st position\n",
    "plt.plot(col1)\n",
    "plt.title('Aggregated RF RMSE')\n",
    "plt.ylabel('RMSE')\n",
    "plt.xlabel('EW Iterations')"
   ]
  },
  {
   "cell_type": "code",
   "execution_count": 28,
   "id": "55e313f3",
   "metadata": {},
   "outputs": [
    {
     "data": {
      "text/plain": [
       "Text(0.5, 0, 'EW Iterations')"
      ]
     },
     "execution_count": 28,
     "metadata": {},
     "output_type": "execute_result"
    },
    {
     "data": {
      "image/png": "[encoded data removed]",
      "text/plain": [
       "<Figure size 400x400 with 1 Axes>"
      ]
     },
     "metadata": {},
     "output_type": "display_data"
    }
   ],
   "source": [
    "# Plot for the second column\n",
    "plt.figure(figsize=(4, 4))\n",
    "plt.title('Aggregated RF WAPE')\n",
    "plt.plot(col2)\n",
    "plt.ylabel('WAPE')\n",
    "plt.xlabel('EW Iterations')"
   ]
  },
  {
   "cell_type": "code",
   "execution_count": 29,
   "id": "bb7ee3d3",
   "metadata": {},
   "outputs": [
    {
     "data": {
      "text/plain": [
       "Text(0.5, 0, 'EW Iterations')"
      ]
     },
     "execution_count": 29,
     "metadata": {},
     "output_type": "execute_result"
    },
    {
     "data": {
      "image/png": "[encoded data removed]",
      "text/plain": [
       "<Figure size 400x400 with 1 Axes>"
      ]
     },
     "metadata": {},
     "output_type": "display_data"
    }
   ],
   "source": [
    "# Plot for the third column\n",
    "plt.figure(figsize=(4, 4))\n",
    "plt.title('Aggregated RF R2')\n",
    "plt.plot(col3)\n",
    "plt.ylabel('R2')\n",
    "plt.xlabel('EW Iterations')"
   ]
  },
  {
   "cell_type": "markdown",
   "id": "a2b2c65a",
   "metadata": {},
   "source": [
    "# Feature Selection"
   ]
  },
  {
   "cell_type": "code",
   "execution_count": 30,
   "id": "bee798c7",
   "metadata": {},
   "outputs": [
    {
     "data": {
      "text/plain": [
       "<Axes: >"
      ]
     },
     "execution_count": 30,
     "metadata": {},
     "output_type": "execute_result"
    },
    {
     "data": {
      "image/png": "[encoded data removed]",
      "text/plain": [
       "<Figure size 640x480 with 1 Axes>"
      ]
     },
     "metadata": {},
     "output_type": "display_data"
    }
   ],
   "source": [
    "feature_importance = pd.Series(model_xgb.feature_importances_, index=X.columns)\n",
    "feature_importance.nlargest(10).plot(kind='barh')"
   ]
  },
  {
   "cell_type": "code",
   "execution_count": 31,
   "id": "5eaffe0a",
   "metadata": {},
   "outputs": [
    {
     "data": {
      "text/html": [
       "<div>\n",
       "<style scoped>\n",
       "    .dataframe tbody tr th:only-of-type {\n",
       "        vertical-align: middle;\n",
       "    }\n",
       "\n",
       "    .dataframe tbody tr th {\n",
       "        vertical-align: top;\n",
       "    }\n",
       "\n",
       "    .dataframe thead th {\n",
       "        text-align: right;\n",
       "    }\n",
       "</style>\n",
       "<table border=\"1\" class=\"dataframe\">\n",
       "  <thead>\n",
       "    <tr style=\"text-align: right;\">\n",
       "      <th></th>\n",
       "      <th>lag_1</th>\n",
       "      <th>lag_93</th>\n",
       "      <th>lag_95</th>\n",
       "      <th>lag_92</th>\n",
       "      <th>lag_96</th>\n",
       "      <th>lag_89</th>\n",
       "      <th>lag_94</th>\n",
       "      <th>lag_3</th>\n",
       "      <th>lag_91</th>\n",
       "      <th>lag_90</th>\n",
       "    </tr>\n",
       "  </thead>\n",
       "  <tbody>\n",
       "    <tr>\n",
       "      <th>0</th>\n",
       "      <td>2.912</td>\n",
       "      <td>3.067</td>\n",
       "      <td>3.043</td>\n",
       "      <td>2.987</td>\n",
       "      <td>3.231</td>\n",
       "      <td>2.836</td>\n",
       "      <td>2.959</td>\n",
       "      <td>3.0135</td>\n",
       "      <td>3.755</td>\n",
       "      <td>3.129</td>\n",
       "    </tr>\n",
       "    <tr>\n",
       "      <th>1</th>\n",
       "      <td>2.863</td>\n",
       "      <td>2.987</td>\n",
       "      <td>2.959</td>\n",
       "      <td>3.755</td>\n",
       "      <td>3.043</td>\n",
       "      <td>2.748</td>\n",
       "      <td>3.067</td>\n",
       "      <td>2.5140</td>\n",
       "      <td>3.129</td>\n",
       "      <td>2.836</td>\n",
       "    </tr>\n",
       "    <tr>\n",
       "      <th>2</th>\n",
       "      <td>3.503</td>\n",
       "      <td>3.755</td>\n",
       "      <td>3.067</td>\n",
       "      <td>3.129</td>\n",
       "      <td>2.959</td>\n",
       "      <td>3.057</td>\n",
       "      <td>2.987</td>\n",
       "      <td>2.9120</td>\n",
       "      <td>2.836</td>\n",
       "      <td>2.748</td>\n",
       "    </tr>\n",
       "    <tr>\n",
       "      <th>3</th>\n",
       "      <td>4.067</td>\n",
       "      <td>3.129</td>\n",
       "      <td>2.987</td>\n",
       "      <td>2.836</td>\n",
       "      <td>3.067</td>\n",
       "      <td>3.566</td>\n",
       "      <td>3.755</td>\n",
       "      <td>2.8630</td>\n",
       "      <td>2.748</td>\n",
       "      <td>3.057</td>\n",
       "    </tr>\n",
       "    <tr>\n",
       "      <th>4</th>\n",
       "      <td>3.941</td>\n",
       "      <td>2.836</td>\n",
       "      <td>3.755</td>\n",
       "      <td>2.748</td>\n",
       "      <td>2.987</td>\n",
       "      <td>3.003</td>\n",
       "      <td>3.129</td>\n",
       "      <td>3.5030</td>\n",
       "      <td>3.057</td>\n",
       "      <td>3.566</td>\n",
       "    </tr>\n",
       "    <tr>\n",
       "      <th>...</th>\n",
       "      <td>...</td>\n",
       "      <td>...</td>\n",
       "      <td>...</td>\n",
       "      <td>...</td>\n",
       "      <td>...</td>\n",
       "      <td>...</td>\n",
       "      <td>...</td>\n",
       "      <td>...</td>\n",
       "      <td>...</td>\n",
       "      <td>...</td>\n",
       "    </tr>\n",
       "    <tr>\n",
       "      <th>37915</th>\n",
       "      <td>4.149</td>\n",
       "      <td>4.887</td>\n",
       "      <td>4.354</td>\n",
       "      <td>4.525</td>\n",
       "      <td>4.978</td>\n",
       "      <td>4.639</td>\n",
       "      <td>5.659</td>\n",
       "      <td>4.1790</td>\n",
       "      <td>3.870</td>\n",
       "      <td>4.510</td>\n",
       "    </tr>\n",
       "    <tr>\n",
       "      <th>37916</th>\n",
       "      <td>4.150</td>\n",
       "      <td>4.525</td>\n",
       "      <td>5.659</td>\n",
       "      <td>3.870</td>\n",
       "      <td>4.354</td>\n",
       "      <td>5.718</td>\n",
       "      <td>4.887</td>\n",
       "      <td>4.1680</td>\n",
       "      <td>4.510</td>\n",
       "      <td>4.639</td>\n",
       "    </tr>\n",
       "    <tr>\n",
       "      <th>37917</th>\n",
       "      <td>4.149</td>\n",
       "      <td>3.870</td>\n",
       "      <td>4.887</td>\n",
       "      <td>4.510</td>\n",
       "      <td>5.659</td>\n",
       "      <td>5.249</td>\n",
       "      <td>4.525</td>\n",
       "      <td>4.1490</td>\n",
       "      <td>4.639</td>\n",
       "      <td>5.718</td>\n",
       "    </tr>\n",
       "    <tr>\n",
       "      <th>37918</th>\n",
       "      <td>4.150</td>\n",
       "      <td>4.510</td>\n",
       "      <td>4.525</td>\n",
       "      <td>4.639</td>\n",
       "      <td>4.887</td>\n",
       "      <td>4.846</td>\n",
       "      <td>3.870</td>\n",
       "      <td>4.1500</td>\n",
       "      <td>5.718</td>\n",
       "      <td>5.249</td>\n",
       "    </tr>\n",
       "    <tr>\n",
       "      <th>37919</th>\n",
       "      <td>4.179</td>\n",
       "      <td>4.639</td>\n",
       "      <td>3.870</td>\n",
       "      <td>5.718</td>\n",
       "      <td>4.525</td>\n",
       "      <td>3.653</td>\n",
       "      <td>4.510</td>\n",
       "      <td>4.1490</td>\n",
       "      <td>5.249</td>\n",
       "      <td>4.846</td>\n",
       "    </tr>\n",
       "  </tbody>\n",
       "</table>\n",
       "<p>37920 rows × 10 columns</p>\n",
       "</div>"
      ],
      "text/plain": [
       "       lag_1  lag_93  lag_95  lag_92  lag_96  lag_89  lag_94   lag_3  lag_91  \\\n",
       "0      2.912   3.067   3.043   2.987   3.231   2.836   2.959  3.0135   3.755   \n",
       "1      2.863   2.987   2.959   3.755   3.043   2.748   3.067  2.5140   3.129   \n",
       "2      3.503   3.755   3.067   3.129   2.959   3.057   2.987  2.9120   2.836   \n",
       "3      4.067   3.129   2.987   2.836   3.067   3.566   3.755  2.8630   2.748   \n",
       "4      3.941   2.836   3.755   2.748   2.987   3.003   3.129  3.5030   3.057   \n",
       "...      ...     ...     ...     ...     ...     ...     ...     ...     ...   \n",
       "37915  4.149   4.887   4.354   4.525   4.978   4.639   5.659  4.1790   3.870   \n",
       "37916  4.150   4.525   5.659   3.870   4.354   5.718   4.887  4.1680   4.510   \n",
       "37917  4.149   3.870   4.887   4.510   5.659   5.249   4.525  4.1490   4.639   \n",
       "37918  4.150   4.510   4.525   4.639   4.887   4.846   3.870  4.1500   5.718   \n",
       "37919  4.179   4.639   3.870   5.718   4.525   3.653   4.510  4.1490   5.249   \n",
       "\n",
       "       lag_90  \n",
       "0       3.129  \n",
       "1       2.836  \n",
       "2       2.748  \n",
       "3       3.057  \n",
       "4       3.566  \n",
       "...       ...  \n",
       "37915   4.510  \n",
       "37916   4.639  \n",
       "37917   5.718  \n",
       "37918   5.249  \n",
       "37919   4.846  \n",
       "\n",
       "[37920 rows x 10 columns]"
      ]
     },
     "execution_count": 31,
     "metadata": {},
     "output_type": "execute_result"
    }
   ],
   "source": [
    "features = feature_importance.nlargest(10).index\n",
    "X_selected = X.loc[:,features]\n",
    "X_selected"
   ]
  },
  {
   "cell_type": "markdown",
   "id": "a273a45e",
   "metadata": {},
   "source": [
    "# Hyper-parameter tuning"
   ]
  },
  {
   "cell_type": "code",
   "execution_count": 32,
   "id": "20fb6d23",
   "metadata": {},
   "outputs": [],
   "source": [
    "params_xgb = { \n",
    "    'max_depth': [3,6,10],\n",
    "    'learning_rate': [0.01, 0.05, 0.1],\n",
    "    'n_estimators': [100, 500, 1000],\n",
    "    'colsample_bytree': [0.3, 0.7],\n",
    "}"
   ]
  },
  {
   "cell_type": "code",
   "execution_count": 33,
   "id": "e3ca4546",
   "metadata": {},
   "outputs": [],
   "source": [
    "params_rf = {\n",
    "    'max_depth': [3, 8, 16],\n",
    "    'max_batch_size': [2, 32, 64],\n",
    "    'min_samples_split': [2, 10],\n",
    "    'n_estimators': [250, 500]\n",
    "}"
   ]
  },
  {
   "cell_type": "code",
   "execution_count": null,
   "id": "f9488230",
   "metadata": {},
   "outputs": [
    {
     "name": "stdout",
     "output_type": "stream",
     "text": [
      "Fitting 5 folds for each of 54 candidates, totalling 270 fits\n"
     ]
    },
    {
     "data": {
      "text/html": [
       "<style>#sk-container-id-1 {color: black;background-color: white;}#sk-container-id-1 pre{padding: 0;}#sk-container-id-1 div.sk-toggleable {background-color: white;}#sk-container-id-1 label.sk-toggleable__label {cursor: pointer;display: block;width: 100%;margin-bottom: 0;padding: 0.3em;box-sizing: border-box;text-align: center;}#sk-container-id-1 label.sk-toggleable__label-arrow:before {content: \"▸\";float: left;margin-right: 0.25em;color: #696969;}#sk-container-id-1 label.sk-toggleable__label-arrow:hover:before {color: black;}#sk-container-id-1 div.sk-estimator:hover label.sk-toggleable__label-arrow:before {color: black;}#sk-container-id-1 div.sk-toggleable__content {max-height: 0;max-width: 0;overflow: hidden;text-align: left;background-color: #f0f8ff;}#sk-container-id-1 div.sk-toggleable__content pre {margin: 0.2em;color: black;border-radius: 0.25em;background-color: #f0f8ff;}#sk-container-id-1 input.sk-toggleable__control:checked~div.sk-toggleable__content {max-height: 200px;max-width: 100%;overflow: auto;}#sk-container-id-1 input.sk-toggleable__control:checked~label.sk-toggleable__label-arrow:before {content: \"▾\";}#sk-container-id-1 div.sk-estimator input.sk-toggleable__control:checked~label.sk-toggleable__label {background-color: #d4ebff;}#sk-container-id-1 div.sk-label input.sk-toggleable__control:checked~label.sk-toggleable__label {background-color: #d4ebff;}#sk-container-id-1 input.sk-hidden--visually {border: 0;clip: rect(1px 1px 1px 1px);clip: rect(1px, 1px, 1px, 1px);height: 1px;margin: -1px;overflow: hidden;padding: 0;position: absolute;width: 1px;}#sk-container-id-1 div.sk-estimator {font-family: monospace;background-color: #f0f8ff;border: 1px dotted black;border-radius: 0.25em;box-sizing: border-box;margin-bottom: 0.5em;}#sk-container-id-1 div.sk-estimator:hover {background-color: #d4ebff;}#sk-container-id-1 div.sk-parallel-item::after {content: \"\";width: 100%;border-bottom: 1px solid gray;flex-grow: 1;}#sk-container-id-1 div.sk-label:hover label.sk-toggleable__label {background-color: #d4ebff;}#sk-container-id-1 div.sk-serial::before {content: \"\";position: absolute;border-left: 1px solid gray;box-sizing: border-box;top: 0;bottom: 0;left: 50%;z-index: 0;}#sk-container-id-1 div.sk-serial {display: flex;flex-direction: column;align-items: center;background-color: white;padding-right: 0.2em;padding-left: 0.2em;position: relative;}#sk-container-id-1 div.sk-item {position: relative;z-index: 1;}#sk-container-id-1 div.sk-parallel {display: flex;align-items: stretch;justify-content: center;background-color: white;position: relative;}#sk-container-id-1 div.sk-item::before, #sk-container-id-1 div.sk-parallel-item::before {content: \"\";position: absolute;border-left: 1px solid gray;box-sizing: border-box;top: 0;bottom: 0;left: 50%;z-index: -1;}#sk-container-id-1 div.sk-parallel-item {display: flex;flex-direction: column;z-index: 1;position: relative;background-color: white;}#sk-container-id-1 div.sk-parallel-item:first-child::after {align-self: flex-end;width: 50%;}#sk-container-id-1 div.sk-parallel-item:last-child::after {align-self: flex-start;width: 50%;}#sk-container-id-1 div.sk-parallel-item:only-child::after {width: 0;}#sk-container-id-1 div.sk-dashed-wrapped {border: 1px dashed gray;margin: 0 0.4em 0.5em 0.4em;box-sizing: border-box;padding-bottom: 0.4em;background-color: white;}#sk-container-id-1 div.sk-label label {font-family: monospace;font-weight: bold;display: inline-block;line-height: 1.2em;}#sk-container-id-1 div.sk-label-container {text-align: center;}#sk-container-id-1 div.sk-container {/* jupyter's `normalize.less` sets `[hidden] { display: none; }` but bootstrap.min.css set `[hidden] { display: none !important; }` so we also need the `!important` here to be able to override the default hidden behavior on the sphinx rendered scikit-learn.org. See: https://github.com/scikit-learn/scikit-learn/issues/21755 */display: inline-block !important;position: relative;}#sk-container-id-1 div.sk-text-repr-fallback {display: none;}</style><div id=\"sk-container-id-1\" class=\"sk-top-container\"><div class=\"sk-text-repr-fallback\"><pre>GridSearchCV(cv=5,\n",
       "             estimator=XGBRegressor(base_score=None, booster=None,\n",
       "                                    callbacks=None, colsample_bylevel=None,\n",
       "                                    colsample_bynode=None,\n",
       "                                    colsample_bytree=None,\n",
       "                                    early_stopping_rounds=None,\n",
       "                                    enable_categorical=False, eval_metric=None,\n",
       "                                    feature_types=None, gamma=None, gpu_id=None,\n",
       "                                    grow_policy=None, importance_type=None,\n",
       "                                    interaction_constraints=None,\n",
       "                                    learning_rate=None, m...\n",
       "                                    max_cat_to_onehot=None, max_delta_step=None,\n",
       "                                    max_depth=None, max_leaves=None,\n",
       "                                    min_child_weight=None, missing=nan,\n",
       "                                    monotone_constraints=None, n_estimators=100,\n",
       "                                    n_jobs=None, num_parallel_tree=None,\n",
       "                                    predictor=None, random_state=None, ...),\n",
       "             n_jobs=4,\n",
       "             param_grid={&#x27;colsample_bytree&#x27;: [0.3, 0.7],\n",
       "                         &#x27;learning_rate&#x27;: [0.01, 0.05, 0.1],\n",
       "                         &#x27;max_depth&#x27;: [3, 6, 10],\n",
       "                         &#x27;n_estimators&#x27;: [100, 500, 1000]},\n",
       "             scoring=&#x27;r2&#x27;, verbose=1)</pre><b>In a Jupyter environment, please rerun this cell to show the HTML representation or trust the notebook. <br />On GitHub, the HTML representation is unable to render, please try loading this page with nbviewer.org.</b></div><div class=\"sk-container\" hidden><div class=\"sk-item sk-dashed-wrapped\"><div class=\"sk-label-container\"><div class=\"sk-label sk-toggleable\"><input class=\"sk-toggleable__control sk-hidden--visually\" id=\"sk-estimator-id-1\" type=\"checkbox\" ><label for=\"sk-estimator-id-1\" class=\"sk-toggleable__label sk-toggleable__label-arrow\">GridSearchCV</label><div class=\"sk-toggleable__content\"><pre>GridSearchCV(cv=5,\n",
       "             estimator=XGBRegressor(base_score=None, booster=None,\n",
       "                                    callbacks=None, colsample_bylevel=None,\n",
       "                                    colsample_bynode=None,\n",
       "                                    colsample_bytree=None,\n",
       "                                    early_stopping_rounds=None,\n",
       "                                    enable_categorical=False, eval_metric=None,\n",
       "                                    feature_types=None, gamma=None, gpu_id=None,\n",
       "                                    grow_policy=None, importance_type=None,\n",
       "                                    interaction_constraints=None,\n",
       "                                    learning_rate=None, m...\n",
       "                                    max_cat_to_onehot=None, max_delta_step=None,\n",
       "                                    max_depth=None, max_leaves=None,\n",
       "                                    min_child_weight=None, missing=nan,\n",
       "                                    monotone_constraints=None, n_estimators=100,\n",
       "                                    n_jobs=None, num_parallel_tree=None,\n",
       "                                    predictor=None, random_state=None, ...),\n",
       "             n_jobs=4,\n",
       "             param_grid={&#x27;colsample_bytree&#x27;: [0.3, 0.7],\n",
       "                         &#x27;learning_rate&#x27;: [0.01, 0.05, 0.1],\n",
       "                         &#x27;max_depth&#x27;: [3, 6, 10],\n",
       "                         &#x27;n_estimators&#x27;: [100, 500, 1000]},\n",
       "             scoring=&#x27;r2&#x27;, verbose=1)</pre></div></div></div><div class=\"sk-parallel\"><div class=\"sk-parallel-item\"><div class=\"sk-item\"><div class=\"sk-label-container\"><div class=\"sk-label sk-toggleable\"><input class=\"sk-toggleable__control sk-hidden--visually\" id=\"sk-estimator-id-2\" type=\"checkbox\" ><label for=\"sk-estimator-id-2\" class=\"sk-toggleable__label sk-toggleable__label-arrow\">estimator: XGBRegressor</label><div class=\"sk-toggleable__content\"><pre>XGBRegressor(base_score=None, booster=None, callbacks=None,\n",
       "             colsample_bylevel=None, colsample_bynode=None,\n",
       "             colsample_bytree=None, early_stopping_rounds=None,\n",
       "             enable_categorical=False, eval_metric=None, feature_types=None,\n",
       "             gamma=None, gpu_id=None, grow_policy=None, importance_type=None,\n",
       "             interaction_constraints=None, learning_rate=None, max_bin=None,\n",
       "             max_cat_threshold=None, max_cat_to_onehot=None,\n",
       "             max_delta_step=None, max_depth=None, max_leaves=None,\n",
       "             min_child_weight=None, missing=nan, monotone_constraints=None,\n",
       "             n_estimators=100, n_jobs=None, num_parallel_tree=None,\n",
       "             predictor=None, random_state=None, ...)</pre></div></div></div><div class=\"sk-serial\"><div class=\"sk-item\"><div class=\"sk-estimator sk-toggleable\"><input class=\"sk-toggleable__control sk-hidden--visually\" id=\"sk-estimator-id-3\" type=\"checkbox\" ><label for=\"sk-estimator-id-3\" class=\"sk-toggleable__label sk-toggleable__label-arrow\">XGBRegressor</label><div class=\"sk-toggleable__content\"><pre>XGBRegressor(base_score=None, booster=None, callbacks=None,\n",
       "             colsample_bylevel=None, colsample_bynode=None,\n",
       "             colsample_bytree=None, early_stopping_rounds=None,\n",
       "             enable_categorical=False, eval_metric=None, feature_types=None,\n",
       "             gamma=None, gpu_id=None, grow_policy=None, importance_type=None,\n",
       "             interaction_constraints=None, learning_rate=None, max_bin=None,\n",
       "             max_cat_threshold=None, max_cat_to_onehot=None,\n",
       "             max_delta_step=None, max_depth=None, max_leaves=None,\n",
       "             min_child_weight=None, missing=nan, monotone_constraints=None,\n",
       "             n_estimators=100, n_jobs=None, num_parallel_tree=None,\n",
       "             predictor=None, random_state=None, ...)</pre></div></div></div></div></div></div></div></div></div></div>"
      ],
      "text/plain": [
       "GridSearchCV(cv=5,\n",
       "             estimator=XGBRegressor(base_score=None, booster=None,\n",
       "                                    callbacks=None, colsample_bylevel=None,\n",
       "                                    colsample_bynode=None,\n",
       "                                    colsample_bytree=None,\n",
       "                                    early_stopping_rounds=None,\n",
       "                                    enable_categorical=False, eval_metric=None,\n",
       "                                    feature_types=None, gamma=None, gpu_id=None,\n",
       "                                    grow_policy=None, importance_type=None,\n",
       "                                    interaction_constraints=None,\n",
       "                                    learning_rate=None, m...\n",
       "                                    max_cat_to_onehot=None, max_delta_step=None,\n",
       "                                    max_depth=None, max_leaves=None,\n",
       "                                    min_child_weight=None, missing=nan,\n",
       "                                    monotone_constraints=None, n_estimators=100,\n",
       "                                    n_jobs=None, num_parallel_tree=None,\n",
       "                                    predictor=None, random_state=None, ...),\n",
       "             n_jobs=4,\n",
       "             param_grid={'colsample_bytree': [0.3, 0.7],\n",
       "                         'learning_rate': [0.01, 0.05, 0.1],\n",
       "                         'max_depth': [3, 6, 10],\n",
       "                         'n_estimators': [100, 500, 1000]},\n",
       "             scoring='r2', verbose=1)"
      ]
     },
     "execution_count": 46,
     "metadata": {},
     "output_type": "execute_result"
    }
   ],
   "source": [
    "xgb_model = xgb.XGBRegressor(tree_method=\"gpu_hist\", seed=42)\n",
    "grid_search = GridSearchCV(estimator = xgb_model, param_grid = params_xgb, cv = 5, n_jobs = 4, verbose = 1, scoring=\"r2\")\n",
    "grid_search.fit(X_selected, y)"
   ]
  },
  {
   "cell_type": "code",
   "execution_count": 47,
   "id": "88cfcbd9",
   "metadata": {},
   "outputs": [
    {
     "data": {
      "text/plain": [
       "({'colsample_bytree': 0.7,\n",
       "  'learning_rate': 0.01,\n",
       "  'max_depth': 3,\n",
       "  'n_estimators': 1000},\n",
       " 0.8556216296652565)"
      ]
     },
     "execution_count": 47,
     "metadata": {},
     "output_type": "execute_result"
    }
   ],
   "source": [
    "grid_search.best_params_, grid_search.best_score_"
   ]
  },
  {
   "cell_type": "code",
   "execution_count": 34,
   "id": "9494ce82",
   "metadata": {},
   "outputs": [],
   "source": [
    "xgb_params = ({'colsample_bytree': 0.7,\n",
    "  'learning_rate': 0.01,\n",
    "  'max_depth': 3,\n",
    "  'n_estimators': 1000})\n",
    " #0.8556216296652565)"
   ]
  },
  {
   "cell_type": "code",
   "execution_count": 48,
   "id": "50ddae1a",
   "metadata": {},
   "outputs": [],
   "source": [
    "xgb_params = grid_search.best_params_"
   ]
  },
  {
   "cell_type": "code",
   "execution_count": 50,
   "id": "f83431e4",
   "metadata": {},
   "outputs": [
    {
     "name": "stdout",
     "output_type": "stream",
     "text": [
      "Fitting 5 folds for each of 72 candidates, totalling 360 fits\n"
     ]
    },
    {
     "name": "stderr",
     "output_type": "stream",
     "text": [
      "/home/francisco.monteiro@av.it.pt/miniconda3/envs/rapids-23.02/lib/python3.8/site-packages/cuml/internals/api_decorators.py:190: UserWarning: To use pickling first train using float32 data to fit the estimator\n",
      "  ret = func(*args, **kwargs)\n",
      "/home/francisco.monteiro@av.it.pt/miniconda3/envs/rapids-23.02/lib/python3.8/site-packages/cuml/internals/api_decorators.py:190: UserWarning: To use pickling first train using float32 data to fit the estimator\n",
      "  ret = func(*args, **kwargs)\n",
      "/home/francisco.monteiro@av.it.pt/miniconda3/envs/rapids-23.02/lib/python3.8/site-packages/cuml/internals/api_decorators.py:190: UserWarning: To use pickling first train using float32 data to fit the estimator\n",
      "  ret = func(*args, **kwargs)\n",
      "/home/francisco.monteiro@av.it.pt/miniconda3/envs/rapids-23.02/lib/python3.8/site-packages/cuml/internals/api_decorators.py:190: UserWarning: To use pickling first train using float32 data to fit the estimator\n",
      "  ret = func(*args, **kwargs)\n",
      "/home/francisco.monteiro@av.it.pt/miniconda3/envs/rapids-23.02/lib/python3.8/site-packages/cuml/internals/api_decorators.py:190: UserWarning: To use pickling first train using float32 data to fit the estimator\n",
      "  ret = func(*args, **kwargs)\n",
      "/home/francisco.monteiro@av.it.pt/miniconda3/envs/rapids-23.02/lib/python3.8/site-packages/cuml/internals/api_decorators.py:190: UserWarning: To use pickling first train using float32 data to fit the estimator\n",
      "  ret = func(*args, **kwargs)\n",
      "/home/francisco.monteiro@av.it.pt/miniconda3/envs/rapids-23.02/lib/python3.8/site-packages/cuml/internals/api_decorators.py:190: UserWarning: To use pickling first train using float32 data to fit the estimator\n",
      "  ret = func(*args, **kwargs)\n",
      "/home/francisco.monteiro@av.it.pt/miniconda3/envs/rapids-23.02/lib/python3.8/site-packages/cuml/internals/api_decorators.py:190: UserWarning: To use pickling first train using float32 data to fit the estimator\n",
      "  ret = func(*args, **kwargs)\n",
      "/home/francisco.monteiro@av.it.pt/miniconda3/envs/rapids-23.02/lib/python3.8/site-packages/cuml/internals/api_decorators.py:190: UserWarning: To use pickling first train using float32 data to fit the estimator\n",
      "  ret = func(*args, **kwargs)\n",
      "/home/francisco.monteiro@av.it.pt/miniconda3/envs/rapids-23.02/lib/python3.8/site-packages/cuml/internals/api_decorators.py:190: UserWarning: To use pickling first train using float32 data to fit the estimator\n",
      "  ret = func(*args, **kwargs)\n",
      "/home/francisco.monteiro@av.it.pt/miniconda3/envs/rapids-23.02/lib/python3.8/site-packages/cuml/internals/api_decorators.py:190: UserWarning: To use pickling first train using float32 data to fit the estimator\n",
      "  ret = func(*args, **kwargs)\n",
      "/home/francisco.monteiro@av.it.pt/miniconda3/envs/rapids-23.02/lib/python3.8/site-packages/cuml/internals/api_decorators.py:190: UserWarning: To use pickling first train using float32 data to fit the estimator\n",
      "  ret = func(*args, **kwargs)\n",
      "/home/francisco.monteiro@av.it.pt/miniconda3/envs/rapids-23.02/lib/python3.8/site-packages/cuml/internals/api_decorators.py:190: UserWarning: To use pickling first train using float32 data to fit the estimator\n",
      "  ret = func(*args, **kwargs)\n",
      "/home/francisco.monteiro@av.it.pt/miniconda3/envs/rapids-23.02/lib/python3.8/site-packages/cuml/internals/api_decorators.py:190: UserWarning: To use pickling first train using float32 data to fit the estimator\n",
      "  ret = func(*args, **kwargs)\n",
      "/home/francisco.monteiro@av.it.pt/miniconda3/envs/rapids-23.02/lib/python3.8/site-packages/cuml/internals/api_decorators.py:190: UserWarning: To use pickling first train using float32 data to fit the estimator\n",
      "  ret = func(*args, **kwargs)\n",
      "/home/francisco.monteiro@av.it.pt/miniconda3/envs/rapids-23.02/lib/python3.8/site-packages/cuml/internals/api_decorators.py:190: UserWarning: To use pickling first train using float32 data to fit the estimator\n",
      "  ret = func(*args, **kwargs)\n",
      "/home/francisco.monteiro@av.it.pt/miniconda3/envs/rapids-23.02/lib/python3.8/site-packages/cuml/internals/api_decorators.py:190: UserWarning: To use pickling first train using float32 data to fit the estimator\n",
      "  ret = func(*args, **kwargs)\n",
      "/home/francisco.monteiro@av.it.pt/miniconda3/envs/rapids-23.02/lib/python3.8/site-packages/cuml/internals/api_decorators.py:190: UserWarning: To use pickling first train using float32 data to fit the estimator\n",
      "  ret = func(*args, **kwargs)\n",
      "/home/francisco.monteiro@av.it.pt/miniconda3/envs/rapids-23.02/lib/python3.8/site-packages/cuml/internals/api_decorators.py:190: UserWarning: To use pickling first train using float32 data to fit the estimator\n",
      "  ret = func(*args, **kwargs)\n",
      "/home/francisco.monteiro@av.it.pt/miniconda3/envs/rapids-23.02/lib/python3.8/site-packages/cuml/internals/api_decorators.py:190: UserWarning: To use pickling first train using float32 data to fit the estimator\n",
      "  ret = func(*args, **kwargs)\n",
      "/home/francisco.monteiro@av.it.pt/miniconda3/envs/rapids-23.02/lib/python3.8/site-packages/cuml/internals/api_decorators.py:190: UserWarning: To use pickling first train using float32 data to fit the estimator\n",
      "  ret = func(*args, **kwargs)\n",
      "/home/francisco.monteiro@av.it.pt/miniconda3/envs/rapids-23.02/lib/python3.8/site-packages/cuml/internals/api_decorators.py:190: UserWarning: To use pickling first train using float32 data to fit the estimator\n",
      "  ret = func(*args, **kwargs)\n",
      "/home/francisco.monteiro@av.it.pt/miniconda3/envs/rapids-23.02/lib/python3.8/site-packages/cuml/internals/api_decorators.py:190: UserWarning: To use pickling first train using float32 data to fit the estimator\n",
      "  ret = func(*args, **kwargs)\n",
      "/home/francisco.monteiro@av.it.pt/miniconda3/envs/rapids-23.02/lib/python3.8/site-packages/cuml/internals/api_decorators.py:190: UserWarning: To use pickling first train using float32 data to fit the estimator\n",
      "  ret = func(*args, **kwargs)\n",
      "/home/francisco.monteiro@av.it.pt/miniconda3/envs/rapids-23.02/lib/python3.8/site-packages/cuml/internals/api_decorators.py:190: UserWarning: To use pickling first train using float32 data to fit the estimator\n",
      "  ret = func(*args, **kwargs)\n",
      "/home/francisco.monteiro@av.it.pt/miniconda3/envs/rapids-23.02/lib/python3.8/site-packages/cuml/internals/api_decorators.py:190: UserWarning: To use pickling first train using float32 data to fit the estimator\n",
      "  ret = func(*args, **kwargs)\n",
      "/home/francisco.monteiro@av.it.pt/miniconda3/envs/rapids-23.02/lib/python3.8/site-packages/cuml/internals/api_decorators.py:190: UserWarning: To use pickling first train using float32 data to fit the estimator\n",
      "  ret = func(*args, **kwargs)\n",
      "/home/francisco.monteiro@av.it.pt/miniconda3/envs/rapids-23.02/lib/python3.8/site-packages/cuml/internals/api_decorators.py:190: UserWarning: To use pickling first train using float32 data to fit the estimator\n",
      "  ret = func(*args, **kwargs)\n",
      "/home/francisco.monteiro@av.it.pt/miniconda3/envs/rapids-23.02/lib/python3.8/site-packages/cuml/internals/api_decorators.py:190: UserWarning: To use pickling first train using float32 data to fit the estimator\n",
      "  ret = func(*args, **kwargs)\n",
      "/home/francisco.monteiro@av.it.pt/miniconda3/envs/rapids-23.02/lib/python3.8/site-packages/cuml/internals/api_decorators.py:190: UserWarning: To use pickling first train using float32 data to fit the estimator\n",
      "  ret = func(*args, **kwargs)\n",
      "/home/francisco.monteiro@av.it.pt/miniconda3/envs/rapids-23.02/lib/python3.8/site-packages/cuml/internals/api_decorators.py:190: UserWarning: To use pickling first train using float32 data to fit the estimator\n",
      "  ret = func(*args, **kwargs)\n",
      "/home/francisco.monteiro@av.it.pt/miniconda3/envs/rapids-23.02/lib/python3.8/site-packages/cuml/internals/api_decorators.py:190: UserWarning: To use pickling first train using float32 data to fit the estimator\n",
      "  ret = func(*args, **kwargs)\n",
      "/home/francisco.monteiro@av.it.pt/miniconda3/envs/rapids-23.02/lib/python3.8/site-packages/cuml/internals/api_decorators.py:190: UserWarning: To use pickling first train using float32 data to fit the estimator\n",
      "  ret = func(*args, **kwargs)\n",
      "/home/francisco.monteiro@av.it.pt/miniconda3/envs/rapids-23.02/lib/python3.8/site-packages/cuml/internals/api_decorators.py:190: UserWarning: To use pickling first train using float32 data to fit the estimator\n",
      "  ret = func(*args, **kwargs)\n",
      "/home/francisco.monteiro@av.it.pt/miniconda3/envs/rapids-23.02/lib/python3.8/site-packages/cuml/internals/api_decorators.py:190: UserWarning: To use pickling first train using float32 data to fit the estimator\n",
      "  ret = func(*args, **kwargs)\n",
      "/home/francisco.monteiro@av.it.pt/miniconda3/envs/rapids-23.02/lib/python3.8/site-packages/cuml/internals/api_decorators.py:190: UserWarning: To use pickling first train using float32 data to fit the estimator\n",
      "  ret = func(*args, **kwargs)\n",
      "/home/francisco.monteiro@av.it.pt/miniconda3/envs/rapids-23.02/lib/python3.8/site-packages/cuml/internals/api_decorators.py:190: UserWarning: To use pickling first train using float32 data to fit the estimator\n",
      "  ret = func(*args, **kwargs)\n",
      "/home/francisco.monteiro@av.it.pt/miniconda3/envs/rapids-23.02/lib/python3.8/site-packages/cuml/internals/api_decorators.py:190: UserWarning: To use pickling first train using float32 data to fit the estimator\n",
      "  ret = func(*args, **kwargs)\n",
      "/home/francisco.monteiro@av.it.pt/miniconda3/envs/rapids-23.02/lib/python3.8/site-packages/cuml/internals/api_decorators.py:190: UserWarning: To use pickling first train using float32 data to fit the estimator\n",
      "  ret = func(*args, **kwargs)\n",
      "/home/francisco.monteiro@av.it.pt/miniconda3/envs/rapids-23.02/lib/python3.8/site-packages/cuml/internals/api_decorators.py:190: UserWarning: To use pickling first train using float32 data to fit the estimator\n",
      "  ret = func(*args, **kwargs)\n",
      "/home/francisco.monteiro@av.it.pt/miniconda3/envs/rapids-23.02/lib/python3.8/site-packages/cuml/internals/api_decorators.py:190: UserWarning: To use pickling first train using float32 data to fit the estimator\n",
      "  ret = func(*args, **kwargs)\n",
      "/home/francisco.monteiro@av.it.pt/miniconda3/envs/rapids-23.02/lib/python3.8/site-packages/cuml/internals/api_decorators.py:190: UserWarning: To use pickling first train using float32 data to fit the estimator\n",
      "  ret = func(*args, **kwargs)\n",
      "/home/francisco.monteiro@av.it.pt/miniconda3/envs/rapids-23.02/lib/python3.8/site-packages/cuml/internals/api_decorators.py:190: UserWarning: To use pickling first train using float32 data to fit the estimator\n",
      "  ret = func(*args, **kwargs)\n",
      "/home/francisco.monteiro@av.it.pt/miniconda3/envs/rapids-23.02/lib/python3.8/site-packages/cuml/internals/api_decorators.py:190: UserWarning: To use pickling first train using float32 data to fit the estimator\n",
      "  ret = func(*args, **kwargs)\n",
      "/home/francisco.monteiro@av.it.pt/miniconda3/envs/rapids-23.02/lib/python3.8/site-packages/joblib/externals/loky/process_executor.py:700: UserWarning: A worker stopped while some jobs were given to the executor. This can be caused by a too short worker timeout or by a memory leak.\n",
      "  warnings.warn(\n",
      "/home/francisco.monteiro@av.it.pt/miniconda3/envs/rapids-23.02/lib/python3.8/site-packages/cuml/internals/api_decorators.py:190: UserWarning: To use pickling first train using float32 data to fit the estimator\n",
      "  ret = func(*args, **kwargs)\n",
      "/home/francisco.monteiro@av.it.pt/miniconda3/envs/rapids-23.02/lib/python3.8/site-packages/cuml/internals/api_decorators.py:190: UserWarning: To use pickling first train using float32 data to fit the estimator\n",
      "  ret = func(*args, **kwargs)\n",
      "/home/francisco.monteiro@av.it.pt/miniconda3/envs/rapids-23.02/lib/python3.8/site-packages/cuml/internals/api_decorators.py:190: UserWarning: To use pickling first train using float32 data to fit the estimator\n",
      "  ret = func(*args, **kwargs)\n",
      "/home/francisco.monteiro@av.it.pt/miniconda3/envs/rapids-23.02/lib/python3.8/site-packages/cuml/internals/api_decorators.py:190: UserWarning: To use pickling first train using float32 data to fit the estimator\n",
      "  ret = func(*args, **kwargs)\n",
      "/home/francisco.monteiro@av.it.pt/miniconda3/envs/rapids-23.02/lib/python3.8/site-packages/cuml/internals/api_decorators.py:190: UserWarning: To use pickling first train using float32 data to fit the estimator\n",
      "  ret = func(*args, **kwargs)\n",
      "/home/francisco.monteiro@av.it.pt/miniconda3/envs/rapids-23.02/lib/python3.8/site-packages/cuml/internals/api_decorators.py:190: UserWarning: To use pickling first train using float32 data to fit the estimator\n",
      "  ret = func(*args, **kwargs)\n",
      "/home/francisco.monteiro@av.it.pt/miniconda3/envs/rapids-23.02/lib/python3.8/site-packages/cuml/internals/api_decorators.py:190: UserWarning: To use pickling first train using float32 data to fit the estimator\n",
      "  ret = func(*args, **kwargs)\n",
      "/home/francisco.monteiro@av.it.pt/miniconda3/envs/rapids-23.02/lib/python3.8/site-packages/cuml/internals/api_decorators.py:190: UserWarning: To use pickling first train using float32 data to fit the estimator\n",
      "  ret = func(*args, **kwargs)\n",
      "/home/francisco.monteiro@av.it.pt/miniconda3/envs/rapids-23.02/lib/python3.8/site-packages/cuml/internals/api_decorators.py:190: UserWarning: To use pickling first train using float32 data to fit the estimator\n",
      "  ret = func(*args, **kwargs)\n",
      "/home/francisco.monteiro@av.it.pt/miniconda3/envs/rapids-23.02/lib/python3.8/site-packages/cuml/internals/api_decorators.py:190: UserWarning: To use pickling first train using float32 data to fit the estimator\n",
      "  ret = func(*args, **kwargs)\n",
      "/home/francisco.monteiro@av.it.pt/miniconda3/envs/rapids-23.02/lib/python3.8/site-packages/cuml/internals/api_decorators.py:190: UserWarning: To use pickling first train using float32 data to fit the estimator\n",
      "  ret = func(*args, **kwargs)\n",
      "/home/francisco.monteiro@av.it.pt/miniconda3/envs/rapids-23.02/lib/python3.8/site-packages/cuml/internals/api_decorators.py:190: UserWarning: To use pickling first train using float32 data to fit the estimator\n",
      "  ret = func(*args, **kwargs)\n",
      "/home/francisco.monteiro@av.it.pt/miniconda3/envs/rapids-23.02/lib/python3.8/site-packages/cuml/internals/api_decorators.py:190: UserWarning: To use pickling first train using float32 data to fit the estimator\n",
      "  ret = func(*args, **kwargs)\n",
      "/home/francisco.monteiro@av.it.pt/miniconda3/envs/rapids-23.02/lib/python3.8/site-packages/cuml/internals/api_decorators.py:190: UserWarning: To use pickling first train using float32 data to fit the estimator\n",
      "  ret = func(*args, **kwargs)\n",
      "/home/francisco.monteiro@av.it.pt/miniconda3/envs/rapids-23.02/lib/python3.8/site-packages/cuml/internals/api_decorators.py:190: UserWarning: To use pickling first train using float32 data to fit the estimator\n",
      "  ret = func(*args, **kwargs)\n",
      "/home/francisco.monteiro@av.it.pt/miniconda3/envs/rapids-23.02/lib/python3.8/site-packages/cuml/internals/api_decorators.py:190: UserWarning: To use pickling first train using float32 data to fit the estimator\n",
      "  ret = func(*args, **kwargs)\n",
      "/home/francisco.monteiro@av.it.pt/miniconda3/envs/rapids-23.02/lib/python3.8/site-packages/cuml/internals/api_decorators.py:190: UserWarning: To use pickling first train using float32 data to fit the estimator\n",
      "  ret = func(*args, **kwargs)\n",
      "/home/francisco.monteiro@av.it.pt/miniconda3/envs/rapids-23.02/lib/python3.8/site-packages/cuml/internals/api_decorators.py:190: UserWarning: To use pickling first train using float32 data to fit the estimator\n",
      "  ret = func(*args, **kwargs)\n",
      "/home/francisco.monteiro@av.it.pt/miniconda3/envs/rapids-23.02/lib/python3.8/site-packages/cuml/internals/api_decorators.py:190: UserWarning: To use pickling first train using float32 data to fit the estimator\n",
      "  ret = func(*args, **kwargs)\n",
      "/home/francisco.monteiro@av.it.pt/miniconda3/envs/rapids-23.02/lib/python3.8/site-packages/cuml/internals/api_decorators.py:190: UserWarning: To use pickling first train using float32 data to fit the estimator\n",
      "  ret = func(*args, **kwargs)\n",
      "/home/francisco.monteiro@av.it.pt/miniconda3/envs/rapids-23.02/lib/python3.8/site-packages/cuml/internals/api_decorators.py:190: UserWarning: To use pickling first train using float32 data to fit the estimator\n",
      "  ret = func(*args, **kwargs)\n",
      "/home/francisco.monteiro@av.it.pt/miniconda3/envs/rapids-23.02/lib/python3.8/site-packages/cuml/internals/api_decorators.py:190: UserWarning: To use pickling first train using float32 data to fit the estimator\n",
      "  ret = func(*args, **kwargs)\n",
      "/home/francisco.monteiro@av.it.pt/miniconda3/envs/rapids-23.02/lib/python3.8/site-packages/cuml/internals/api_decorators.py:190: UserWarning: To use pickling first train using float32 data to fit the estimator\n",
      "  ret = func(*args, **kwargs)\n",
      "/home/francisco.monteiro@av.it.pt/miniconda3/envs/rapids-23.02/lib/python3.8/site-packages/cuml/internals/api_decorators.py:190: UserWarning: To use pickling first train using float32 data to fit the estimator\n",
      "  ret = func(*args, **kwargs)\n",
      "/home/francisco.monteiro@av.it.pt/miniconda3/envs/rapids-23.02/lib/python3.8/site-packages/cuml/internals/api_decorators.py:190: UserWarning: To use pickling first train using float32 data to fit the estimator\n",
      "  ret = func(*args, **kwargs)\n",
      "/home/francisco.monteiro@av.it.pt/miniconda3/envs/rapids-23.02/lib/python3.8/site-packages/cuml/internals/api_decorators.py:190: UserWarning: To use pickling first train using float32 data to fit the estimator\n",
      "  ret = func(*args, **kwargs)\n",
      "/home/francisco.monteiro@av.it.pt/miniconda3/envs/rapids-23.02/lib/python3.8/site-packages/cuml/internals/api_decorators.py:190: UserWarning: To use pickling first train using float32 data to fit the estimator\n",
      "  ret = func(*args, **kwargs)\n",
      "/home/francisco.monteiro@av.it.pt/miniconda3/envs/rapids-23.02/lib/python3.8/site-packages/cuml/internals/api_decorators.py:190: UserWarning: To use pickling first train using float32 data to fit the estimator\n",
      "  ret = func(*args, **kwargs)\n",
      "/home/francisco.monteiro@av.it.pt/miniconda3/envs/rapids-23.02/lib/python3.8/site-packages/cuml/internals/api_decorators.py:190: UserWarning: To use pickling first train using float32 data to fit the estimator\n",
      "  ret = func(*args, **kwargs)\n",
      "/home/francisco.monteiro@av.it.pt/miniconda3/envs/rapids-23.02/lib/python3.8/site-packages/cuml/internals/api_decorators.py:190: UserWarning: To use pickling first train using float32 data to fit the estimator\n",
      "  ret = func(*args, **kwargs)\n",
      "/home/francisco.monteiro@av.it.pt/miniconda3/envs/rapids-23.02/lib/python3.8/site-packages/cuml/internals/api_decorators.py:190: UserWarning: To use pickling first train using float32 data to fit the estimator\n",
      "  ret = func(*args, **kwargs)\n",
      "/home/francisco.monteiro@av.it.pt/miniconda3/envs/rapids-23.02/lib/python3.8/site-packages/cuml/internals/api_decorators.py:190: UserWarning: To use pickling first train using float32 data to fit the estimator\n",
      "  ret = func(*args, **kwargs)\n",
      "/home/francisco.monteiro@av.it.pt/miniconda3/envs/rapids-23.02/lib/python3.8/site-packages/cuml/internals/api_decorators.py:190: UserWarning: To use pickling first train using float32 data to fit the estimator\n",
      "  ret = func(*args, **kwargs)\n",
      "/home/francisco.monteiro@av.it.pt/miniconda3/envs/rapids-23.02/lib/python3.8/site-packages/cuml/internals/api_decorators.py:190: UserWarning: To use pickling first train using float32 data to fit the estimator\n",
      "  ret = func(*args, **kwargs)\n",
      "/home/francisco.monteiro@av.it.pt/miniconda3/envs/rapids-23.02/lib/python3.8/site-packages/cuml/internals/api_decorators.py:190: UserWarning: To use pickling first train using float32 data to fit the estimator\n",
      "  ret = func(*args, **kwargs)\n",
      "/home/francisco.monteiro@av.it.pt/miniconda3/envs/rapids-23.02/lib/python3.8/site-packages/cuml/internals/api_decorators.py:190: UserWarning: To use pickling first train using float32 data to fit the estimator\n",
      "  ret = func(*args, **kwargs)\n",
      "/home/francisco.monteiro@av.it.pt/miniconda3/envs/rapids-23.02/lib/python3.8/site-packages/cuml/internals/api_decorators.py:190: UserWarning: To use pickling first train using float32 data to fit the estimator\n",
      "  ret = func(*args, **kwargs)\n",
      "/home/francisco.monteiro@av.it.pt/miniconda3/envs/rapids-23.02/lib/python3.8/site-packages/cuml/internals/api_decorators.py:190: UserWarning: To use pickling first train using float32 data to fit the estimator\n",
      "  ret = func(*args, **kwargs)\n",
      "/home/francisco.monteiro@av.it.pt/miniconda3/envs/rapids-23.02/lib/python3.8/site-packages/cuml/internals/api_decorators.py:190: UserWarning: To use pickling first train using float32 data to fit the estimator\n",
      "  ret = func(*args, **kwargs)\n",
      "/home/francisco.monteiro@av.it.pt/miniconda3/envs/rapids-23.02/lib/python3.8/site-packages/cuml/internals/api_decorators.py:190: UserWarning: To use pickling first train using float32 data to fit the estimator\n",
      "  ret = func(*args, **kwargs)\n",
      "/home/francisco.monteiro@av.it.pt/miniconda3/envs/rapids-23.02/lib/python3.8/site-packages/cuml/internals/api_decorators.py:190: UserWarning: To use pickling first train using float32 data to fit the estimator\n",
      "  ret = func(*args, **kwargs)\n",
      "/home/francisco.monteiro@av.it.pt/miniconda3/envs/rapids-23.02/lib/python3.8/site-packages/cuml/internals/api_decorators.py:190: UserWarning: To use pickling first train using float32 data to fit the estimator\n",
      "  ret = func(*args, **kwargs)\n",
      "/home/francisco.monteiro@av.it.pt/miniconda3/envs/rapids-23.02/lib/python3.8/site-packages/cuml/internals/api_decorators.py:190: UserWarning: To use pickling first train using float32 data to fit the estimator\n",
      "  ret = func(*args, **kwargs)\n",
      "/home/francisco.monteiro@av.it.pt/miniconda3/envs/rapids-23.02/lib/python3.8/site-packages/cuml/internals/api_decorators.py:190: UserWarning: To use pickling first train using float32 data to fit the estimator\n",
      "  ret = func(*args, **kwargs)\n"
     ]
    }
   ],
   "source": [
    "rf = cuRF()\n",
    "grid_search_rf = GridSearchCV(estimator = rf, param_grid = params_rf, cv = 5, n_jobs = 8, verbose = 1, scoring=\"r2\")\n",
    "grid_search_rf.fit(X_selected, y)"
   ]
  },
  {
   "cell_type": "code",
   "execution_count": null,
   "id": "f211c918",
   "metadata": {},
   "outputs": [],
   "source": [
    "grid_search_rf.best_params_, grid_search_rf.best_score_"
   ]
  },
  {
   "cell_type": "markdown",
   "id": "01474d7d",
   "metadata": {},
   "source": [
    "### Linear Regression (after feature selection)"
   ]
  },
  {
   "cell_type": "code",
   "execution_count": 35,
   "id": "59dd26cf",
   "metadata": {},
   "outputs": [
    {
     "name": "stdout",
     "output_type": "stream",
     "text": [
      "\n",
      "Iteration  0\n",
      "RMSE: 0.4248\n",
      "WAPE: 9.04\n",
      "R2: 0.8415\n",
      "\n",
      "Elapsed time: 0.009 seconds\n",
      "\n",
      "Iteration  1\n",
      "RMSE: 0.4328\n",
      "WAPE: 8.61\n",
      "R2: 0.8421\n",
      "\n",
      "Elapsed time: 0.004 seconds\n",
      "\n",
      "Iteration  2\n",
      "RMSE: 0.4173\n",
      "WAPE: 8.89\n",
      "R2: 0.8390\n",
      "\n",
      "Elapsed time: 0.004 seconds\n",
      "\n",
      "Iteration  3\n",
      "RMSE: 0.4703\n",
      "WAPE: 10.03\n",
      "R2: 0.8585\n",
      "\n",
      "Elapsed time: 0.004 seconds\n",
      "\n",
      "Iteration  4\n",
      "RMSE: 0.4991\n",
      "WAPE: 9.58\n",
      "R2: 0.8876\n",
      "\n",
      "Elapsed time: 0.004 seconds\n",
      "\n",
      "Iteration  5\n",
      "RMSE: 0.5588\n",
      "WAPE: 9.38\n",
      "R2: 0.8990\n",
      "\n",
      "Elapsed time: 0.005 seconds\n",
      "\n",
      "Iteration  6\n",
      "RMSE: 0.5881\n",
      "WAPE: 9.97\n",
      "R2: 0.8829\n",
      "\n",
      "Elapsed time: 0.005 seconds\n",
      "\n",
      "Iteration  7\n",
      "RMSE: 0.6157\n",
      "WAPE: 10.91\n",
      "R2: 0.8556\n",
      "\n",
      "Elapsed time: 0.006 seconds\n",
      "\n",
      "Iteration  8\n",
      "RMSE: 0.5085\n",
      "WAPE: 10.99\n",
      "R2: 0.8304\n",
      "\n",
      "Elapsed time: 0.006 seconds\n",
      "\n",
      "Iteration  9\n",
      "RMSE: 0.4654\n",
      "WAPE: 10.11\n",
      "R2: 0.8151\n",
      "\n",
      "Elapsed time: 0.007 seconds\n"
     ]
    }
   ],
   "source": [
    "metrics_list_lr_sel = []\n",
    "\n",
    "for i in range(n_splits):\n",
    "    start = time.time()\n",
    "    print(\"\\nIteration \", i)\n",
    "\n",
    "\n",
    "    X_train, X_test, y_train, y_test = expanding_window_split(X_selected, y, cv=i, n_splits=n_splits)\n",
    "\n",
    "    X_train_norm, scaler = normalize_training(X_train)\n",
    "    X_test_norm = scaler.transform(X_test)\n",
    "\n",
    "    rmse, wape, r2, _ = predict_results(X_train_norm, X_test_norm, y_train, y_test, LinearRegression())\n",
    "    metrics_list_lr_sel.append((rmse,wape,r2))\n",
    "    print(\"\\nElapsed time: %.3f seconds\" % (time.time() - start))"
   ]
  },
  {
   "cell_type": "code",
   "execution_count": 36,
   "id": "0b6fb2d0",
   "metadata": {},
   "outputs": [
    {
     "name": "stdout",
     "output_type": "stream",
     "text": [
      "Total Averaged RMSE: 0.498\n",
      "Total Averaged WAPE: 9.751\n",
      "Total Averaged R2: 0.855\n"
     ]
    }
   ],
   "source": [
    "rmse_lr_sel, wape_lr_sel, r2_lr_sel = total_averaged_metrics(metrics_list_lr_sel)"
   ]
  },
  {
   "cell_type": "markdown",
   "id": "455b6372",
   "metadata": {},
   "source": [
    "### XGBoost (after feature selection + hyper tuning)"
   ]
  },
  {
   "cell_type": "code",
   "execution_count": 37,
   "id": "5684c916",
   "metadata": {},
   "outputs": [
    {
     "name": "stdout",
     "output_type": "stream",
     "text": [
      "\n",
      "Iteration  0\n",
      "RMSE: 0.4358\n",
      "WAPE: 9.15\n",
      "R2: 0.8332\n",
      "\n",
      "Elapsed time: 0.501 seconds\n",
      "\n",
      "Iteration  1\n",
      "RMSE: 0.4412\n",
      "WAPE: 8.77\n",
      "R2: 0.8359\n",
      "\n",
      "Elapsed time: 0.424 seconds\n",
      "\n",
      "Iteration  2\n",
      "RMSE: 0.4187\n",
      "WAPE: 8.90\n",
      "R2: 0.8380\n",
      "\n",
      "Elapsed time: 0.430 seconds\n",
      "\n",
      "Iteration  3\n",
      "RMSE: 0.4741\n",
      "WAPE: 10.14\n",
      "R2: 0.8563\n",
      "\n",
      "Elapsed time: 0.430 seconds\n",
      "\n",
      "Iteration  4\n",
      "RMSE: 0.5129\n",
      "WAPE: 9.72\n",
      "R2: 0.8813\n",
      "\n",
      "Elapsed time: 0.433 seconds\n",
      "\n",
      "Iteration  5\n",
      "RMSE: 0.5754\n",
      "WAPE: 9.57\n",
      "R2: 0.8929\n",
      "\n",
      "Elapsed time: 0.431 seconds\n",
      "\n",
      "Iteration  6\n",
      "RMSE: 0.6119\n",
      "WAPE: 10.14\n",
      "R2: 0.8732\n",
      "\n",
      "Elapsed time: 0.436 seconds\n",
      "\n",
      "Iteration  7\n",
      "RMSE: 0.6167\n",
      "WAPE: 10.92\n",
      "R2: 0.8552\n",
      "\n",
      "Elapsed time: 0.448 seconds\n",
      "\n",
      "Iteration  8\n",
      "RMSE: 0.5061\n",
      "WAPE: 11.01\n",
      "R2: 0.8320\n",
      "\n",
      "Elapsed time: 0.449 seconds\n",
      "\n",
      "Iteration  9\n",
      "RMSE: 0.4638\n",
      "WAPE: 10.11\n",
      "R2: 0.8163\n",
      "\n",
      "Elapsed time: 0.453 seconds\n"
     ]
    }
   ],
   "source": [
    "metrics_list_xgb_sel = []\n",
    "\n",
    "for i in range(n_splits):\n",
    "    start = time.time()\n",
    "    print(\"\\nIteration \", i)\n",
    "\n",
    "\n",
    "    X_train, X_test, y_train, y_test = expanding_window_split(X_selected, y, cv=i, n_splits=n_splits)\n",
    "\n",
    "    X_train_norm, scaler = normalize_training(X_train)\n",
    "    X_test_norm = scaler.transform(X_test)\n",
    "\n",
    "    rmse, wape, r2, model_xgb = predict_results(X_train_norm, X_test_norm, y_train, y_test, xgb.XGBRegressor(seed=42, tree_method='gpu_hist', colsample_bytree=0.7, learning_rate=0.01, max_depth=3, n_estimators=1000))\n",
    "    metrics_list_xgb_sel.append((rmse,wape,r2))\n",
    "    print(\"\\nElapsed time: %.3f seconds\" % (time.time() - start))"
   ]
  },
  {
   "cell_type": "code",
   "execution_count": 38,
   "id": "eed686e8",
   "metadata": {},
   "outputs": [
    {
     "name": "stdout",
     "output_type": "stream",
     "text": [
      "Total Averaged RMSE: 0.506\n",
      "Total Averaged WAPE: 9.843\n",
      "Total Averaged R2: 0.851\n"
     ]
    }
   ],
   "source": [
    "rmse_xgb_sel, wape_xgb_sel, r2_xgb_sel = total_averaged_metrics(metrics_list_xgb_sel)"
   ]
  },
  {
   "cell_type": "markdown",
   "id": "3c5df311",
   "metadata": {},
   "source": [
    "### Random Forest (after feature selection + hyper tuning)"
   ]
  },
  {
   "cell_type": "code",
   "execution_count": 41,
   "id": "eff0db2b",
   "metadata": {},
   "outputs": [
    {
     "name": "stdout",
     "output_type": "stream",
     "text": [
      "\n",
      "Iteration  0\n"
     ]
    },
    {
     "name": "stderr",
     "output_type": "stream",
     "text": [
      "/home/francisco.monteiro@av.it.pt/miniconda3/envs/rapids-23.02/lib/python3.8/site-packages/cuml/internals/api_decorators.py:190: UserWarning: To use pickling first train using float32 data to fit the estimator\n",
      "  ret = func(*args, **kwargs)\n",
      "/home/francisco.monteiro@av.it.pt/miniconda3/envs/rapids-23.02/lib/python3.8/site-packages/cuml/internals/api_decorators.py:190: UserWarning: To use pickling first train using float32 data to fit the estimator\n",
      "  ret = func(*args, **kwargs)\n"
     ]
    },
    {
     "name": "stdout",
     "output_type": "stream",
     "text": [
      "RMSE: 0.5868\n",
      "WAPE: 12.36\n",
      "R2: 0.6977\n",
      "\n",
      "Elapsed time: 0.889 seconds\n",
      "\n",
      "Iteration  1\n",
      "RMSE: 0.6008\n",
      "WAPE: 12.23\n",
      "R2: 0.6957\n",
      "\n",
      "Elapsed time: 0.827 seconds\n",
      "\n",
      "Iteration  2\n"
     ]
    },
    {
     "name": "stderr",
     "output_type": "stream",
     "text": [
      "/home/francisco.monteiro@av.it.pt/miniconda3/envs/rapids-23.02/lib/python3.8/site-packages/cuml/internals/api_decorators.py:190: UserWarning: To use pickling first train using float32 data to fit the estimator\n",
      "  ret = func(*args, **kwargs)\n",
      "/home/francisco.monteiro@av.it.pt/miniconda3/envs/rapids-23.02/lib/python3.8/site-packages/cuml/internals/api_decorators.py:190: UserWarning: To use pickling first train using float32 data to fit the estimator\n",
      "  ret = func(*args, **kwargs)\n"
     ]
    },
    {
     "name": "stdout",
     "output_type": "stream",
     "text": [
      "RMSE: 0.5449\n",
      "WAPE: 11.60\n",
      "R2: 0.7256\n",
      "\n",
      "Elapsed time: 0.843 seconds\n",
      "\n",
      "Iteration  3\n",
      "RMSE: 0.6589\n",
      "WAPE: 14.10\n",
      "R2: 0.7224\n",
      "\n",
      "Elapsed time: 0.864 seconds\n",
      "\n",
      "Iteration  4\n"
     ]
    },
    {
     "name": "stderr",
     "output_type": "stream",
     "text": [
      "/home/francisco.monteiro@av.it.pt/miniconda3/envs/rapids-23.02/lib/python3.8/site-packages/cuml/internals/api_decorators.py:190: UserWarning: To use pickling first train using float32 data to fit the estimator\n",
      "  ret = func(*args, **kwargs)\n",
      "/home/francisco.monteiro@av.it.pt/miniconda3/envs/rapids-23.02/lib/python3.8/site-packages/cuml/internals/api_decorators.py:190: UserWarning: To use pickling first train using float32 data to fit the estimator\n",
      "  ret = func(*args, **kwargs)\n"
     ]
    },
    {
     "name": "stdout",
     "output_type": "stream",
     "text": [
      "RMSE: 0.7354\n",
      "WAPE: 13.80\n",
      "R2: 0.7561\n",
      "\n",
      "Elapsed time: 0.873 seconds\n",
      "\n",
      "Iteration  5\n",
      "RMSE: 0.8798\n",
      "WAPE: 14.30\n",
      "R2: 0.7497\n",
      "\n",
      "Elapsed time: 0.884 seconds\n",
      "\n",
      "Iteration  6\n"
     ]
    },
    {
     "name": "stderr",
     "output_type": "stream",
     "text": [
      "/home/francisco.monteiro@av.it.pt/miniconda3/envs/rapids-23.02/lib/python3.8/site-packages/cuml/internals/api_decorators.py:190: UserWarning: To use pickling first train using float32 data to fit the estimator\n",
      "  ret = func(*args, **kwargs)\n",
      "/home/francisco.monteiro@av.it.pt/miniconda3/envs/rapids-23.02/lib/python3.8/site-packages/cuml/internals/api_decorators.py:190: UserWarning: To use pickling first train using float32 data to fit the estimator\n",
      "  ret = func(*args, **kwargs)\n"
     ]
    },
    {
     "name": "stdout",
     "output_type": "stream",
     "text": [
      "RMSE: 0.8407\n",
      "WAPE: 13.86\n",
      "R2: 0.7608\n",
      "\n",
      "Elapsed time: 0.886 seconds\n",
      "\n",
      "Iteration  7\n",
      "RMSE: 0.8024\n",
      "WAPE: 14.29\n",
      "R2: 0.7549\n",
      "\n",
      "Elapsed time: 0.897 seconds\n",
      "\n",
      "Iteration  8\n"
     ]
    },
    {
     "name": "stderr",
     "output_type": "stream",
     "text": [
      "/home/francisco.monteiro@av.it.pt/miniconda3/envs/rapids-23.02/lib/python3.8/site-packages/cuml/internals/api_decorators.py:190: UserWarning: To use pickling first train using float32 data to fit the estimator\n",
      "  ret = func(*args, **kwargs)\n",
      "/home/francisco.monteiro@av.it.pt/miniconda3/envs/rapids-23.02/lib/python3.8/site-packages/cuml/internals/api_decorators.py:190: UserWarning: To use pickling first train using float32 data to fit the estimator\n",
      "  ret = func(*args, **kwargs)\n"
     ]
    },
    {
     "name": "stdout",
     "output_type": "stream",
     "text": [
      "RMSE: 0.6770\n",
      "WAPE: 14.77\n",
      "R2: 0.6994\n",
      "\n",
      "Elapsed time: 0.914 seconds\n",
      "\n",
      "Iteration  9\n",
      "RMSE: 0.6216\n",
      "WAPE: 13.86\n",
      "R2: 0.6702\n",
      "\n",
      "Elapsed time: 0.939 seconds\n"
     ]
    }
   ],
   "source": [
    "metrics_list_rf_sel = []\n",
    "\n",
    "for i in range(n_splits):\n",
    "    start = time.time()\n",
    "    print(\"\\nIteration \", i)\n",
    "\n",
    "\n",
    "    X_train, X_test, y_train, y_test = expanding_window_split(X_selected, y, cv=i, n_splits=n_splits)\n",
    "\n",
    "    X_train_norm, scaler = normalize_training(X_train)\n",
    "    X_test_norm = scaler.transform(X_test)\n",
    "\n",
    "    rmse, wape, r2, _ = predict_results(X_train_norm, X_test_norm, y_train, y_test, cuRF(max_depth=8, max_features=3, min_samples_leaf=4, min_samples_split=8, n_estimators=500))\n",
    "    metrics_list_rf_sel.append((rmse,wape,r2))\n",
    "    print(\"\\nElapsed time: %.3f seconds\" % (time.time() - start))"
   ]
  },
  {
   "cell_type": "code",
   "execution_count": 42,
   "id": "1053a84c",
   "metadata": {},
   "outputs": [
    {
     "name": "stdout",
     "output_type": "stream",
     "text": [
      "Total Averaged RMSE: 0.695\n",
      "Total Averaged WAPE: 13.517\n",
      "Total Averaged R2: 0.723\n"
     ]
    }
   ],
   "source": [
    "rmse_rf_sel, wape_rf_sel, r2_rf_sel = total_averaged_metrics(metrics_list_rf_sel)"
   ]
  },
  {
   "cell_type": "code",
   "execution_count": 59,
   "id": "8ec3f512",
   "metadata": {},
   "outputs": [],
   "source": [
    "all_rmse = (rmse_15, rmse_lr, rmse_lr_sel, rmse_rf, rmse_rf_sel, rmse_xgb, rmse_xgb_sel)"
   ]
  },
  {
   "cell_type": "code",
   "execution_count": 67,
   "id": "e05e0409",
   "metadata": {},
   "outputs": [],
   "source": [
    "all_wape = (wape_15/100, wape_lr/100, wape_lr_sel/100, wape_rf/100, wape_rf_sel/100, wape_xgb/100, wape_xgb_sel/100)"
   ]
  },
  {
   "cell_type": "code",
   "execution_count": 61,
   "id": "0c7f2335",
   "metadata": {},
   "outputs": [],
   "source": [
    "all_r2 = (r2_15, r2_lr, r2_lr_sel, r2_rf, r2_rf_sel, r2_xgb, r2_xgb_sel)"
   ]
  },
  {
   "cell_type": "code",
   "execution_count": 83,
   "id": "e62c406b",
   "metadata": {},
   "outputs": [
    {
     "data": {
      "image/png": "[encoded data removed]",
      "text/plain": [
       "<Figure size 1000x400 with 1 Axes>"
      ]
     },
     "metadata": {},
     "output_type": "display_data"
    }
   ],
   "source": [
    "model_names = (\"Baseline\", \"LR\", \"LR_Feat_Sel\", \"RF\", \"RF_Hyp\", \"XGB\", \"XGB_Hyp\")\n",
    "X_names = ['RMSE', 'WAPE', 'R2']\n",
    "X_axis = np.arange(len(X_names))\n",
    "pos = -0.15\n",
    "bar_width = 0.1\n",
    "fig, ax = plt.subplots(figsize=(10,4))\n",
    "\n",
    "for i in range(len(model_names)):\n",
    "    bar = (all_rmse[i], all_wape[i], all_r2[i])\n",
    "    b = ax.bar(X_axis + pos, bar, bar_width-0.01, label=model_names[i])\n",
    "    pos = pos + bar_width\n",
    "    ax.bar_label(b, fontsize=6, fmt='%.3f')\n",
    "    \n",
    "ax.set_ylim(0,1)\n",
    "ax.set_xticks(X_axis+bar_width+bar_width/2,X_names)\n",
    "#ax.set_xlabel(\"Model Comparison\")\n",
    "#ax.set_ylabel(\"Metrics\")\n",
    "ax.set_title(\"Loureiro Community Prediction Comparison\")\n",
    "ax.legend()\n",
    "#plt.savefig(filename)\n",
    "plt.show()"
   ]
  },
  {
   "cell_type": "code",
   "execution_count": null,
   "id": "6da1165f",
   "metadata": {},
   "outputs": [],
   "source": []
  }
 ],
 "metadata": {
  "kernelspec": {
   "display_name": "Python 3.8.16 ('rapids-23.02')",
   "language": "python",
   "name": "python3"
  },
  "language_info": {
   "codemirror_mode": {
    "name": "ipython",
    "version": 3
   },
   "file_extension": ".py",
   "mimetype": "text/x-python",
   "name": "python",
   "nbconvert_exporter": "python",
   "pygments_lexer": "ipython3",
   "version": "3.8.16"
  },
  "vscode": {
   "interpreter": {
    "hash": "b68dca5a889d9fa7a36c76420bb99c5b147d98e0e386a0426daa5cd8f8566c01"
   }
  }
 },
 "nbformat": 4,
 "nbformat_minor": 5
}
