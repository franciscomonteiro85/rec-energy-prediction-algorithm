{
 "cells": [
  {
   "cell_type": "code",
   "execution_count": 1,
   "id": "58081526",
   "metadata": {},
   "outputs": [],
   "source": [
    "import warnings\n",
    "warnings.filterwarnings('ignore',category=FutureWarning)\n",
    "warnings.filterwarnings('ignore',category=DeprecationWarning)\n",
    "import sys\n",
    "sys.path.append('..')\n",
    "import numpy as np\n",
    "import pandas as pd\n",
    "import matplotlib.pyplot as plt\n",
    "from sklearn.linear_model import LinearRegression\n",
    "from cuml.ensemble import RandomForestRegressor as cuRF\n",
    "import xgboost as xgb\n",
    "from scripts.function_utils import past_timesteps, test_leave_house_out, total_averaged_metrics"
   ]
  },
  {
   "attachments": {},
   "cell_type": "markdown",
   "id": "aa402221",
   "metadata": {},
   "source": [
    "#### Output file"
   ]
  },
  {
   "cell_type": "code",
   "execution_count": 2,
   "id": "70c13e8f",
   "metadata": {},
   "outputs": [],
   "source": [
    "sourceFile = open(\"../../gpu_logs/loureiro_timeseries_selected.txt\", 'w')"
   ]
  },
  {
   "attachments": {},
   "cell_type": "markdown",
   "id": "e8907202",
   "metadata": {},
   "source": [
    "### Load the data"
   ]
  },
  {
   "cell_type": "code",
   "execution_count": 3,
   "id": "f9d23e6b",
   "metadata": {},
   "outputs": [
    {
     "data": {
      "text/html": [
       "<div>\n",
       "<style scoped>\n",
       "    .dataframe tbody tr th:only-of-type {\n",
       "        vertical-align: middle;\n",
       "    }\n",
       "\n",
       "    .dataframe tbody tr th {\n",
       "        vertical-align: top;\n",
       "    }\n",
       "\n",
       "    .dataframe thead th {\n",
       "        text-align: right;\n",
       "    }\n",
       "</style>\n",
       "<table border=\"1\" class=\"dataframe\">\n",
       "  <thead>\n",
       "    <tr style=\"text-align: right;\">\n",
       "      <th></th>\n",
       "      <th>Time</th>\n",
       "      <th>Location</th>\n",
       "      <th>Temp_Med</th>\n",
       "      <th>Temp_Max</th>\n",
       "      <th>Temp_Min</th>\n",
       "      <th>Rumo_Vento_Med</th>\n",
       "      <th>Rumo_Vento_Max</th>\n",
       "      <th>Intensidade_Vento_Med</th>\n",
       "      <th>Intensidade_Vento_Max</th>\n",
       "      <th>Precip</th>\n",
       "      <th>Rad_Total</th>\n",
       "      <th>Energy</th>\n",
       "    </tr>\n",
       "  </thead>\n",
       "  <tbody>\n",
       "    <tr>\n",
       "      <th>0</th>\n",
       "      <td>2022-05-05 12:00:00</td>\n",
       "      <td>Energy_1</td>\n",
       "      <td>16.80</td>\n",
       "      <td>16.90</td>\n",
       "      <td>16.60</td>\n",
       "      <td>167.0</td>\n",
       "      <td>179.0</td>\n",
       "      <td>1.40</td>\n",
       "      <td>2.40</td>\n",
       "      <td>0.00</td>\n",
       "      <td>0.0</td>\n",
       "      <td>0.068</td>\n",
       "    </tr>\n",
       "    <tr>\n",
       "      <th>1</th>\n",
       "      <td>2022-05-05 12:15:00</td>\n",
       "      <td>Energy_1</td>\n",
       "      <td>16.65</td>\n",
       "      <td>16.85</td>\n",
       "      <td>16.50</td>\n",
       "      <td>172.0</td>\n",
       "      <td>165.5</td>\n",
       "      <td>1.55</td>\n",
       "      <td>2.45</td>\n",
       "      <td>0.00</td>\n",
       "      <td>0.0</td>\n",
       "      <td>0.070</td>\n",
       "    </tr>\n",
       "    <tr>\n",
       "      <th>2</th>\n",
       "      <td>2022-05-05 12:30:00</td>\n",
       "      <td>Energy_1</td>\n",
       "      <td>16.50</td>\n",
       "      <td>16.60</td>\n",
       "      <td>16.40</td>\n",
       "      <td>171.0</td>\n",
       "      <td>175.0</td>\n",
       "      <td>1.20</td>\n",
       "      <td>2.30</td>\n",
       "      <td>0.00</td>\n",
       "      <td>0.0</td>\n",
       "      <td>0.122</td>\n",
       "    </tr>\n",
       "    <tr>\n",
       "      <th>3</th>\n",
       "      <td>2022-05-05 12:45:00</td>\n",
       "      <td>Energy_1</td>\n",
       "      <td>16.40</td>\n",
       "      <td>16.60</td>\n",
       "      <td>16.30</td>\n",
       "      <td>167.0</td>\n",
       "      <td>171.5</td>\n",
       "      <td>1.20</td>\n",
       "      <td>2.30</td>\n",
       "      <td>0.00</td>\n",
       "      <td>0.0</td>\n",
       "      <td>0.132</td>\n",
       "    </tr>\n",
       "    <tr>\n",
       "      <th>4</th>\n",
       "      <td>2022-05-05 13:00:00</td>\n",
       "      <td>Energy_1</td>\n",
       "      <td>16.40</td>\n",
       "      <td>16.50</td>\n",
       "      <td>16.40</td>\n",
       "      <td>163.0</td>\n",
       "      <td>172.0</td>\n",
       "      <td>1.30</td>\n",
       "      <td>2.50</td>\n",
       "      <td>0.00</td>\n",
       "      <td>0.0</td>\n",
       "      <td>0.125</td>\n",
       "    </tr>\n",
       "    <tr>\n",
       "      <th>...</th>\n",
       "      <td>...</td>\n",
       "      <td>...</td>\n",
       "      <td>...</td>\n",
       "      <td>...</td>\n",
       "      <td>...</td>\n",
       "      <td>...</td>\n",
       "      <td>...</td>\n",
       "      <td>...</td>\n",
       "      <td>...</td>\n",
       "      <td>...</td>\n",
       "      <td>...</td>\n",
       "      <td>...</td>\n",
       "    </tr>\n",
       "    <tr>\n",
       "      <th>1520755</th>\n",
       "      <td>2023-06-07 01:15:00</td>\n",
       "      <td>Energy_164</td>\n",
       "      <td>16.40</td>\n",
       "      <td>16.50</td>\n",
       "      <td>16.30</td>\n",
       "      <td>340.0</td>\n",
       "      <td>338.0</td>\n",
       "      <td>2.50</td>\n",
       "      <td>3.40</td>\n",
       "      <td>0.00</td>\n",
       "      <td>0.0</td>\n",
       "      <td>0.003</td>\n",
       "    </tr>\n",
       "    <tr>\n",
       "      <th>1520756</th>\n",
       "      <td>2023-06-07 01:30:00</td>\n",
       "      <td>Energy_164</td>\n",
       "      <td>16.40</td>\n",
       "      <td>16.50</td>\n",
       "      <td>16.35</td>\n",
       "      <td>335.0</td>\n",
       "      <td>338.5</td>\n",
       "      <td>2.05</td>\n",
       "      <td>2.90</td>\n",
       "      <td>0.05</td>\n",
       "      <td>0.0</td>\n",
       "      <td>0.004</td>\n",
       "    </tr>\n",
       "    <tr>\n",
       "      <th>1520757</th>\n",
       "      <td>2023-06-07 01:45:00</td>\n",
       "      <td>Energy_164</td>\n",
       "      <td>16.50</td>\n",
       "      <td>16.50</td>\n",
       "      <td>16.40</td>\n",
       "      <td>333.0</td>\n",
       "      <td>313.0</td>\n",
       "      <td>1.80</td>\n",
       "      <td>2.70</td>\n",
       "      <td>0.10</td>\n",
       "      <td>0.3</td>\n",
       "      <td>0.003</td>\n",
       "    </tr>\n",
       "    <tr>\n",
       "      <th>1520758</th>\n",
       "      <td>2023-06-07 02:00:00</td>\n",
       "      <td>Energy_164</td>\n",
       "      <td>16.50</td>\n",
       "      <td>16.60</td>\n",
       "      <td>16.40</td>\n",
       "      <td>337.5</td>\n",
       "      <td>342.0</td>\n",
       "      <td>2.20</td>\n",
       "      <td>2.90</td>\n",
       "      <td>0.05</td>\n",
       "      <td>0.0</td>\n",
       "      <td>0.004</td>\n",
       "    </tr>\n",
       "    <tr>\n",
       "      <th>1520759</th>\n",
       "      <td>2023-06-07 02:15:00</td>\n",
       "      <td>Energy_164</td>\n",
       "      <td>16.50</td>\n",
       "      <td>16.50</td>\n",
       "      <td>16.40</td>\n",
       "      <td>338.0</td>\n",
       "      <td>335.0</td>\n",
       "      <td>1.90</td>\n",
       "      <td>2.60</td>\n",
       "      <td>0.00</td>\n",
       "      <td>0.0</td>\n",
       "      <td>0.004</td>\n",
       "    </tr>\n",
       "  </tbody>\n",
       "</table>\n",
       "<p>1520760 rows × 12 columns</p>\n",
       "</div>"
      ],
      "text/plain": [
       "                        Time    Location  Temp_Med  Temp_Max  Temp_Min  \\\n",
       "0        2022-05-05 12:00:00    Energy_1     16.80     16.90     16.60   \n",
       "1        2022-05-05 12:15:00    Energy_1     16.65     16.85     16.50   \n",
       "2        2022-05-05 12:30:00    Energy_1     16.50     16.60     16.40   \n",
       "3        2022-05-05 12:45:00    Energy_1     16.40     16.60     16.30   \n",
       "4        2022-05-05 13:00:00    Energy_1     16.40     16.50     16.40   \n",
       "...                      ...         ...       ...       ...       ...   \n",
       "1520755  2023-06-07 01:15:00  Energy_164     16.40     16.50     16.30   \n",
       "1520756  2023-06-07 01:30:00  Energy_164     16.40     16.50     16.35   \n",
       "1520757  2023-06-07 01:45:00  Energy_164     16.50     16.50     16.40   \n",
       "1520758  2023-06-07 02:00:00  Energy_164     16.50     16.60     16.40   \n",
       "1520759  2023-06-07 02:15:00  Energy_164     16.50     16.50     16.40   \n",
       "\n",
       "         Rumo_Vento_Med  Rumo_Vento_Max  Intensidade_Vento_Med  \\\n",
       "0                 167.0           179.0                   1.40   \n",
       "1                 172.0           165.5                   1.55   \n",
       "2                 171.0           175.0                   1.20   \n",
       "3                 167.0           171.5                   1.20   \n",
       "4                 163.0           172.0                   1.30   \n",
       "...                 ...             ...                    ...   \n",
       "1520755           340.0           338.0                   2.50   \n",
       "1520756           335.0           338.5                   2.05   \n",
       "1520757           333.0           313.0                   1.80   \n",
       "1520758           337.5           342.0                   2.20   \n",
       "1520759           338.0           335.0                   1.90   \n",
       "\n",
       "         Intensidade_Vento_Max  Precip  Rad_Total  Energy  \n",
       "0                         2.40    0.00        0.0   0.068  \n",
       "1                         2.45    0.00        0.0   0.070  \n",
       "2                         2.30    0.00        0.0   0.122  \n",
       "3                         2.30    0.00        0.0   0.132  \n",
       "4                         2.50    0.00        0.0   0.125  \n",
       "...                        ...     ...        ...     ...  \n",
       "1520755                   3.40    0.00        0.0   0.003  \n",
       "1520756                   2.90    0.05        0.0   0.004  \n",
       "1520757                   2.70    0.10        0.3   0.003  \n",
       "1520758                   2.90    0.05        0.0   0.004  \n",
       "1520759                   2.60    0.00        0.0   0.004  \n",
       "\n",
       "[1520760 rows x 12 columns]"
      ]
     },
     "execution_count": 3,
     "metadata": {},
     "output_type": "execute_result"
    }
   ],
   "source": [
    "merged = pd.read_csv(\"../../data/loureiro_meteo.csv\")\n",
    "merged"
   ]
  },
  {
   "cell_type": "code",
   "execution_count": 4,
   "id": "8daa8491",
   "metadata": {},
   "outputs": [
    {
     "name": "stdout",
     "output_type": "stream",
     "text": [
      "0\n"
     ]
    },
    {
     "data": {
      "text/html": [
       "<div>\n",
       "<style scoped>\n",
       "    .dataframe tbody tr th:only-of-type {\n",
       "        vertical-align: middle;\n",
       "    }\n",
       "\n",
       "    .dataframe tbody tr th {\n",
       "        vertical-align: top;\n",
       "    }\n",
       "\n",
       "    .dataframe thead th {\n",
       "        text-align: right;\n",
       "    }\n",
       "</style>\n",
       "<table border=\"1\" class=\"dataframe\">\n",
       "  <thead>\n",
       "    <tr style=\"text-align: right;\">\n",
       "      <th></th>\n",
       "      <th>Time</th>\n",
       "      <th>Location</th>\n",
       "      <th>Temp_Med</th>\n",
       "      <th>Temp_Max</th>\n",
       "      <th>Temp_Min</th>\n",
       "      <th>Rumo_Vento_Med</th>\n",
       "      <th>Rumo_Vento_Max</th>\n",
       "      <th>Intensidade_Vento_Med</th>\n",
       "      <th>Intensidade_Vento_Max</th>\n",
       "      <th>Precip</th>\n",
       "      <th>Rad_Total</th>\n",
       "      <th>Energy</th>\n",
       "    </tr>\n",
       "  </thead>\n",
       "  <tbody>\n",
       "    <tr>\n",
       "      <th>0</th>\n",
       "      <td>2022-05-05 12:00:00</td>\n",
       "      <td>Energy_1</td>\n",
       "      <td>16.80</td>\n",
       "      <td>16.90</td>\n",
       "      <td>16.60</td>\n",
       "      <td>167.0</td>\n",
       "      <td>179.0</td>\n",
       "      <td>1.40</td>\n",
       "      <td>2.40</td>\n",
       "      <td>0.00</td>\n",
       "      <td>0.0</td>\n",
       "      <td>0.068</td>\n",
       "    </tr>\n",
       "    <tr>\n",
       "      <th>1</th>\n",
       "      <td>2022-05-05 12:15:00</td>\n",
       "      <td>Energy_1</td>\n",
       "      <td>16.65</td>\n",
       "      <td>16.85</td>\n",
       "      <td>16.50</td>\n",
       "      <td>172.0</td>\n",
       "      <td>165.5</td>\n",
       "      <td>1.55</td>\n",
       "      <td>2.45</td>\n",
       "      <td>0.00</td>\n",
       "      <td>0.0</td>\n",
       "      <td>0.070</td>\n",
       "    </tr>\n",
       "    <tr>\n",
       "      <th>2</th>\n",
       "      <td>2022-05-05 12:30:00</td>\n",
       "      <td>Energy_1</td>\n",
       "      <td>16.50</td>\n",
       "      <td>16.60</td>\n",
       "      <td>16.40</td>\n",
       "      <td>171.0</td>\n",
       "      <td>175.0</td>\n",
       "      <td>1.20</td>\n",
       "      <td>2.30</td>\n",
       "      <td>0.00</td>\n",
       "      <td>0.0</td>\n",
       "      <td>0.122</td>\n",
       "    </tr>\n",
       "    <tr>\n",
       "      <th>3</th>\n",
       "      <td>2022-05-05 12:45:00</td>\n",
       "      <td>Energy_1</td>\n",
       "      <td>16.40</td>\n",
       "      <td>16.60</td>\n",
       "      <td>16.30</td>\n",
       "      <td>167.0</td>\n",
       "      <td>171.5</td>\n",
       "      <td>1.20</td>\n",
       "      <td>2.30</td>\n",
       "      <td>0.00</td>\n",
       "      <td>0.0</td>\n",
       "      <td>0.132</td>\n",
       "    </tr>\n",
       "    <tr>\n",
       "      <th>4</th>\n",
       "      <td>2022-05-05 13:00:00</td>\n",
       "      <td>Energy_1</td>\n",
       "      <td>16.40</td>\n",
       "      <td>16.50</td>\n",
       "      <td>16.40</td>\n",
       "      <td>163.0</td>\n",
       "      <td>172.0</td>\n",
       "      <td>1.30</td>\n",
       "      <td>2.50</td>\n",
       "      <td>0.00</td>\n",
       "      <td>0.0</td>\n",
       "      <td>0.125</td>\n",
       "    </tr>\n",
       "    <tr>\n",
       "      <th>...</th>\n",
       "      <td>...</td>\n",
       "      <td>...</td>\n",
       "      <td>...</td>\n",
       "      <td>...</td>\n",
       "      <td>...</td>\n",
       "      <td>...</td>\n",
       "      <td>...</td>\n",
       "      <td>...</td>\n",
       "      <td>...</td>\n",
       "      <td>...</td>\n",
       "      <td>...</td>\n",
       "      <td>...</td>\n",
       "    </tr>\n",
       "    <tr>\n",
       "      <th>1520755</th>\n",
       "      <td>2023-06-07 01:15:00</td>\n",
       "      <td>Energy_164</td>\n",
       "      <td>16.40</td>\n",
       "      <td>16.50</td>\n",
       "      <td>16.30</td>\n",
       "      <td>340.0</td>\n",
       "      <td>338.0</td>\n",
       "      <td>2.50</td>\n",
       "      <td>3.40</td>\n",
       "      <td>0.00</td>\n",
       "      <td>0.0</td>\n",
       "      <td>0.003</td>\n",
       "    </tr>\n",
       "    <tr>\n",
       "      <th>1520756</th>\n",
       "      <td>2023-06-07 01:30:00</td>\n",
       "      <td>Energy_164</td>\n",
       "      <td>16.40</td>\n",
       "      <td>16.50</td>\n",
       "      <td>16.35</td>\n",
       "      <td>335.0</td>\n",
       "      <td>338.5</td>\n",
       "      <td>2.05</td>\n",
       "      <td>2.90</td>\n",
       "      <td>0.05</td>\n",
       "      <td>0.0</td>\n",
       "      <td>0.004</td>\n",
       "    </tr>\n",
       "    <tr>\n",
       "      <th>1520757</th>\n",
       "      <td>2023-06-07 01:45:00</td>\n",
       "      <td>Energy_164</td>\n",
       "      <td>16.50</td>\n",
       "      <td>16.50</td>\n",
       "      <td>16.40</td>\n",
       "      <td>333.0</td>\n",
       "      <td>313.0</td>\n",
       "      <td>1.80</td>\n",
       "      <td>2.70</td>\n",
       "      <td>0.10</td>\n",
       "      <td>0.3</td>\n",
       "      <td>0.003</td>\n",
       "    </tr>\n",
       "    <tr>\n",
       "      <th>1520758</th>\n",
       "      <td>2023-06-07 02:00:00</td>\n",
       "      <td>Energy_164</td>\n",
       "      <td>16.50</td>\n",
       "      <td>16.60</td>\n",
       "      <td>16.40</td>\n",
       "      <td>337.5</td>\n",
       "      <td>342.0</td>\n",
       "      <td>2.20</td>\n",
       "      <td>2.90</td>\n",
       "      <td>0.05</td>\n",
       "      <td>0.0</td>\n",
       "      <td>0.004</td>\n",
       "    </tr>\n",
       "    <tr>\n",
       "      <th>1520759</th>\n",
       "      <td>2023-06-07 02:15:00</td>\n",
       "      <td>Energy_164</td>\n",
       "      <td>16.50</td>\n",
       "      <td>16.50</td>\n",
       "      <td>16.40</td>\n",
       "      <td>338.0</td>\n",
       "      <td>335.0</td>\n",
       "      <td>1.90</td>\n",
       "      <td>2.60</td>\n",
       "      <td>0.00</td>\n",
       "      <td>0.0</td>\n",
       "      <td>0.004</td>\n",
       "    </tr>\n",
       "  </tbody>\n",
       "</table>\n",
       "<p>1520760 rows × 12 columns</p>\n",
       "</div>"
      ],
      "text/plain": [
       "                        Time    Location  Temp_Med  Temp_Max  Temp_Min  \\\n",
       "0        2022-05-05 12:00:00    Energy_1     16.80     16.90     16.60   \n",
       "1        2022-05-05 12:15:00    Energy_1     16.65     16.85     16.50   \n",
       "2        2022-05-05 12:30:00    Energy_1     16.50     16.60     16.40   \n",
       "3        2022-05-05 12:45:00    Energy_1     16.40     16.60     16.30   \n",
       "4        2022-05-05 13:00:00    Energy_1     16.40     16.50     16.40   \n",
       "...                      ...         ...       ...       ...       ...   \n",
       "1520755  2023-06-07 01:15:00  Energy_164     16.40     16.50     16.30   \n",
       "1520756  2023-06-07 01:30:00  Energy_164     16.40     16.50     16.35   \n",
       "1520757  2023-06-07 01:45:00  Energy_164     16.50     16.50     16.40   \n",
       "1520758  2023-06-07 02:00:00  Energy_164     16.50     16.60     16.40   \n",
       "1520759  2023-06-07 02:15:00  Energy_164     16.50     16.50     16.40   \n",
       "\n",
       "         Rumo_Vento_Med  Rumo_Vento_Max  Intensidade_Vento_Med  \\\n",
       "0                 167.0           179.0                   1.40   \n",
       "1                 172.0           165.5                   1.55   \n",
       "2                 171.0           175.0                   1.20   \n",
       "3                 167.0           171.5                   1.20   \n",
       "4                 163.0           172.0                   1.30   \n",
       "...                 ...             ...                    ...   \n",
       "1520755           340.0           338.0                   2.50   \n",
       "1520756           335.0           338.5                   2.05   \n",
       "1520757           333.0           313.0                   1.80   \n",
       "1520758           337.5           342.0                   2.20   \n",
       "1520759           338.0           335.0                   1.90   \n",
       "\n",
       "         Intensidade_Vento_Max  Precip  Rad_Total  Energy  \n",
       "0                         2.40    0.00        0.0   0.068  \n",
       "1                         2.45    0.00        0.0   0.070  \n",
       "2                         2.30    0.00        0.0   0.122  \n",
       "3                         2.30    0.00        0.0   0.132  \n",
       "4                         2.50    0.00        0.0   0.125  \n",
       "...                        ...     ...        ...     ...  \n",
       "1520755                   3.40    0.00        0.0   0.003  \n",
       "1520756                   2.90    0.05        0.0   0.004  \n",
       "1520757                   2.70    0.10        0.3   0.003  \n",
       "1520758                   2.90    0.05        0.0   0.004  \n",
       "1520759                   2.60    0.00        0.0   0.004  \n",
       "\n",
       "[1520760 rows x 12 columns]"
      ]
     },
     "execution_count": 4,
     "metadata": {},
     "output_type": "execute_result"
    }
   ],
   "source": [
    "missing_values = merged.isna().sum()\n",
    "selected_columns = merged.columns[np.where(missing_values <= 1000)]\n",
    "df = merged[selected_columns]\n",
    "print(df.isna().sum().sum())\n",
    "df"
   ]
  },
  {
   "cell_type": "code",
   "execution_count": 5,
   "id": "d4fc520e",
   "metadata": {},
   "outputs": [],
   "source": [
    "# zero_values = np.sum(df == 0)\n",
    "# selected_columns = df.columns[np.where(zero_values < 5000)]\n",
    "# df = df[selected_columns]\n",
    "# print(np.where(np.sum(df == 0) > 1000)[0])\n",
    "# df"
   ]
  },
  {
   "attachments": {},
   "cell_type": "markdown",
   "id": "b35171be",
   "metadata": {},
   "source": [
    "### Interpolate missing values"
   ]
  },
  {
   "cell_type": "code",
   "execution_count": 6,
   "id": "d0fae475",
   "metadata": {},
   "outputs": [],
   "source": [
    "# df.index = pd.to_datetime(df[\"Time\"])\n",
    "# df.drop([\"Time\"], inplace=True, axis=1)\n",
    "# for column in df.columns:\n",
    "#     df[column] = df[column].interpolate(method='time', limit_direction=\"both\")\n",
    "# print(df.isna().sum().sum())\n",
    "# df[\"Time\"] = df.index\n",
    "# df.reset_index(drop=True, inplace=True)\n",
    "# column_names = df.columns.tolist()\n",
    "# column_to_move = 'Time'\n",
    "# column_names.remove(column_to_move)\n",
    "# new_column_order = [column_to_move] + column_names\n",
    "# df = df[new_column_order]\n",
    "# df"
   ]
  },
  {
   "cell_type": "code",
   "execution_count": 7,
   "id": "fa97098f",
   "metadata": {},
   "outputs": [],
   "source": [
    "#df.to_csv(\"../../data/loureiro_40casas.csv\", index=None)"
   ]
  },
  {
   "cell_type": "code",
   "execution_count": 8,
   "id": "da3ee5d8",
   "metadata": {},
   "outputs": [
    {
     "data": {
      "text/plain": [
       "Time                           0\n",
       "Location                       0\n",
       "Temp_Med                       0\n",
       "Temp_Max                       0\n",
       "Temp_Min                      80\n",
       "Rumo_Vento_Med              2880\n",
       "Rumo_Vento_Max              5560\n",
       "Intensidade_Vento_Med         40\n",
       "Intensidade_Vento_Max          0\n",
       "Precip                   1413640\n",
       "Rad_Total                 691080\n",
       "Energy                      5181\n",
       "dtype: int64"
      ]
     },
     "execution_count": 8,
     "metadata": {},
     "output_type": "execute_result"
    }
   ],
   "source": [
    "np.sum(df == 0)"
   ]
  },
  {
   "attachments": {},
   "cell_type": "markdown",
   "id": "0f5ba7c5",
   "metadata": {},
   "source": [
    "## Save Dataframe with past timesteps"
   ]
  },
  {
   "cell_type": "code",
   "execution_count": 9,
   "id": "66e67f7b",
   "metadata": {},
   "outputs": [],
   "source": [
    "# df = pd.read_csv(\"../../data/loureiro_meteo.csv\")\n",
    "# df.Time = pd.to_datetime(df.Time)\n",
    "# df"
   ]
  },
  {
   "cell_type": "code",
   "execution_count": 10,
   "id": "fd9b27b9",
   "metadata": {},
   "outputs": [],
   "source": [
    "# number_of_timesteps = 97"
   ]
  },
  {
   "cell_type": "code",
   "execution_count": 11,
   "id": "ddb42d91",
   "metadata": {},
   "outputs": [],
   "source": [
    "# df_new = past_timesteps(df, number_of_timesteps)\n",
    "# df_new"
   ]
  },
  {
   "cell_type": "code",
   "execution_count": 12,
   "id": "9741395b",
   "metadata": {},
   "outputs": [],
   "source": [
    "# df_new['DayOfWeek'] = df_new['Time'].dt.dayofweek\n",
    "# df_new['Weekend'] = df_new['Time'].dt.dayofweek.isin([5, 6]).astype(int)\n",
    "# df_new['Hour'] = df_new['Time'].dt.hour\n",
    "# df_new"
   ]
  },
  {
   "cell_type": "code",
   "execution_count": 13,
   "id": "553c782a",
   "metadata": {},
   "outputs": [],
   "source": [
    "# df_new.to_csv(\"../../data/loureiro_meteo_oneweek.csv\", index=False)"
   ]
  },
  {
   "attachments": {},
   "cell_type": "markdown",
   "id": "47b7a1a3",
   "metadata": {},
   "source": [
    "## Predict  5 folds with 10 random houses for test"
   ]
  },
  {
   "cell_type": "code",
   "execution_count": 14,
   "id": "4d082722",
   "metadata": {},
   "outputs": [],
   "source": [
    "# df = pd.read_csv(\"../../data/loureiro_meteo_oneweek.csv\")\n",
    "# df"
   ]
  },
  {
   "cell_type": "code",
   "execution_count": 15,
   "id": "005f82cc",
   "metadata": {},
   "outputs": [],
   "source": [
    "# df_selected = df[[\"Time\",\"Location\",\"Temp_Med\",\"Temp_Max\",\"Temp_Min\",\"Rumo_Vento_Med\",\"Rumo_Vento_Max\",\"Intensidade_Vento_Med\",\"Intensidade_Vento_Max\",\"Precip\",\"Rad_Total\",\"lag_1\",\"lag_2\",\"lag_3\",\"lag_4\",\"lag_96\",\"lag_192\",\"lag_288\",\"lag_384\",\"lag_480\",\"lag_576\",\"lag_672\",\"DayOfWeek\",\"Hour\",\"Energy\"]]\n",
    "# df_selected"
   ]
  },
  {
   "cell_type": "code",
   "execution_count": 16,
   "id": "770faa13",
   "metadata": {},
   "outputs": [],
   "source": [
    "# df_selected.to_csv(\"../../data/loureiro_meteo_selected.csv\", index=None)"
   ]
  },
  {
   "cell_type": "code",
   "execution_count": 17,
   "id": "7d155f83",
   "metadata": {},
   "outputs": [
    {
     "data": {
      "text/html": [
       "<div>\n",
       "<style scoped>\n",
       "    .dataframe tbody tr th:only-of-type {\n",
       "        vertical-align: middle;\n",
       "    }\n",
       "\n",
       "    .dataframe tbody tr th {\n",
       "        vertical-align: top;\n",
       "    }\n",
       "\n",
       "    .dataframe thead th {\n",
       "        text-align: right;\n",
       "    }\n",
       "</style>\n",
       "<table border=\"1\" class=\"dataframe\">\n",
       "  <thead>\n",
       "    <tr style=\"text-align: right;\">\n",
       "      <th></th>\n",
       "      <th>Time</th>\n",
       "      <th>Location</th>\n",
       "      <th>Temp_Med</th>\n",
       "      <th>Temp_Max</th>\n",
       "      <th>Temp_Min</th>\n",
       "      <th>Rumo_Vento_Med</th>\n",
       "      <th>Rumo_Vento_Max</th>\n",
       "      <th>Intensidade_Vento_Med</th>\n",
       "      <th>Intensidade_Vento_Max</th>\n",
       "      <th>Precip</th>\n",
       "      <th>...</th>\n",
       "      <th>lag_96</th>\n",
       "      <th>lag_192</th>\n",
       "      <th>lag_288</th>\n",
       "      <th>lag_384</th>\n",
       "      <th>lag_480</th>\n",
       "      <th>lag_576</th>\n",
       "      <th>lag_672</th>\n",
       "      <th>DayOfWeek</th>\n",
       "      <th>Hour</th>\n",
       "      <th>Energy</th>\n",
       "    </tr>\n",
       "  </thead>\n",
       "  <tbody>\n",
       "    <tr>\n",
       "      <th>0</th>\n",
       "      <td>2022-05-12 12:00:00</td>\n",
       "      <td>Energy_1</td>\n",
       "      <td>20.600000</td>\n",
       "      <td>20.900000</td>\n",
       "      <td>20.299999</td>\n",
       "      <td>359.0</td>\n",
       "      <td>359.0</td>\n",
       "      <td>6.30</td>\n",
       "      <td>10.40</td>\n",
       "      <td>0.00</td>\n",
       "      <td>...</td>\n",
       "      <td>0.041</td>\n",
       "      <td>0.023</td>\n",
       "      <td>0.044</td>\n",
       "      <td>0.033</td>\n",
       "      <td>0.032</td>\n",
       "      <td>0.057</td>\n",
       "      <td>0.068</td>\n",
       "      <td>3</td>\n",
       "      <td>12</td>\n",
       "      <td>0.039</td>\n",
       "    </tr>\n",
       "    <tr>\n",
       "      <th>1</th>\n",
       "      <td>2022-05-12 12:15:00</td>\n",
       "      <td>Energy_1</td>\n",
       "      <td>20.200001</td>\n",
       "      <td>20.450001</td>\n",
       "      <td>20.000000</td>\n",
       "      <td>2.0</td>\n",
       "      <td>6.5</td>\n",
       "      <td>6.65</td>\n",
       "      <td>10.05</td>\n",
       "      <td>0.00</td>\n",
       "      <td>...</td>\n",
       "      <td>0.487</td>\n",
       "      <td>0.034</td>\n",
       "      <td>0.058</td>\n",
       "      <td>0.034</td>\n",
       "      <td>0.029</td>\n",
       "      <td>0.065</td>\n",
       "      <td>0.070</td>\n",
       "      <td>3</td>\n",
       "      <td>12</td>\n",
       "      <td>0.061</td>\n",
       "    </tr>\n",
       "    <tr>\n",
       "      <th>2</th>\n",
       "      <td>2022-05-12 12:30:00</td>\n",
       "      <td>Energy_1</td>\n",
       "      <td>20.100000</td>\n",
       "      <td>20.299999</td>\n",
       "      <td>19.900000</td>\n",
       "      <td>360.0</td>\n",
       "      <td>1.0</td>\n",
       "      <td>6.40</td>\n",
       "      <td>9.80</td>\n",
       "      <td>0.00</td>\n",
       "      <td>...</td>\n",
       "      <td>0.340</td>\n",
       "      <td>0.037</td>\n",
       "      <td>0.038</td>\n",
       "      <td>0.055</td>\n",
       "      <td>0.047</td>\n",
       "      <td>0.030</td>\n",
       "      <td>0.122</td>\n",
       "      <td>3</td>\n",
       "      <td>12</td>\n",
       "      <td>0.038</td>\n",
       "    </tr>\n",
       "    <tr>\n",
       "      <th>3</th>\n",
       "      <td>2022-05-12 12:45:00</td>\n",
       "      <td>Energy_1</td>\n",
       "      <td>20.000000</td>\n",
       "      <td>20.250000</td>\n",
       "      <td>19.850000</td>\n",
       "      <td>180.0</td>\n",
       "      <td>185.5</td>\n",
       "      <td>6.40</td>\n",
       "      <td>10.10</td>\n",
       "      <td>0.00</td>\n",
       "      <td>...</td>\n",
       "      <td>0.058</td>\n",
       "      <td>0.046</td>\n",
       "      <td>0.026</td>\n",
       "      <td>0.058</td>\n",
       "      <td>0.022</td>\n",
       "      <td>0.329</td>\n",
       "      <td>0.132</td>\n",
       "      <td>3</td>\n",
       "      <td>12</td>\n",
       "      <td>0.069</td>\n",
       "    </tr>\n",
       "    <tr>\n",
       "      <th>4</th>\n",
       "      <td>2022-05-12 13:00:00</td>\n",
       "      <td>Energy_1</td>\n",
       "      <td>20.200001</td>\n",
       "      <td>20.400000</td>\n",
       "      <td>19.900000</td>\n",
       "      <td>1.0</td>\n",
       "      <td>10.0</td>\n",
       "      <td>5.90</td>\n",
       "      <td>9.40</td>\n",
       "      <td>0.00</td>\n",
       "      <td>...</td>\n",
       "      <td>0.044</td>\n",
       "      <td>0.024</td>\n",
       "      <td>0.026</td>\n",
       "      <td>0.036</td>\n",
       "      <td>0.020</td>\n",
       "      <td>0.329</td>\n",
       "      <td>0.125</td>\n",
       "      <td>3</td>\n",
       "      <td>13</td>\n",
       "      <td>0.063</td>\n",
       "    </tr>\n",
       "    <tr>\n",
       "      <th>...</th>\n",
       "      <td>...</td>\n",
       "      <td>...</td>\n",
       "      <td>...</td>\n",
       "      <td>...</td>\n",
       "      <td>...</td>\n",
       "      <td>...</td>\n",
       "      <td>...</td>\n",
       "      <td>...</td>\n",
       "      <td>...</td>\n",
       "      <td>...</td>\n",
       "      <td>...</td>\n",
       "      <td>...</td>\n",
       "      <td>...</td>\n",
       "      <td>...</td>\n",
       "      <td>...</td>\n",
       "      <td>...</td>\n",
       "      <td>...</td>\n",
       "      <td>...</td>\n",
       "      <td>...</td>\n",
       "      <td>...</td>\n",
       "      <td>...</td>\n",
       "    </tr>\n",
       "    <tr>\n",
       "      <th>1413235</th>\n",
       "      <td>2023-06-07 01:15:00</td>\n",
       "      <td>Energy_96</td>\n",
       "      <td>16.400000</td>\n",
       "      <td>16.500000</td>\n",
       "      <td>16.299999</td>\n",
       "      <td>340.0</td>\n",
       "      <td>338.0</td>\n",
       "      <td>2.50</td>\n",
       "      <td>3.40</td>\n",
       "      <td>0.00</td>\n",
       "      <td>...</td>\n",
       "      <td>0.015</td>\n",
       "      <td>0.041</td>\n",
       "      <td>0.032</td>\n",
       "      <td>0.009</td>\n",
       "      <td>0.010</td>\n",
       "      <td>0.010</td>\n",
       "      <td>0.023</td>\n",
       "      <td>2</td>\n",
       "      <td>1</td>\n",
       "      <td>0.009</td>\n",
       "    </tr>\n",
       "    <tr>\n",
       "      <th>1413236</th>\n",
       "      <td>2023-06-07 01:30:00</td>\n",
       "      <td>Energy_96</td>\n",
       "      <td>16.400000</td>\n",
       "      <td>16.500000</td>\n",
       "      <td>16.350000</td>\n",
       "      <td>335.0</td>\n",
       "      <td>338.5</td>\n",
       "      <td>2.05</td>\n",
       "      <td>2.90</td>\n",
       "      <td>0.05</td>\n",
       "      <td>...</td>\n",
       "      <td>0.041</td>\n",
       "      <td>0.037</td>\n",
       "      <td>0.009</td>\n",
       "      <td>0.010</td>\n",
       "      <td>0.009</td>\n",
       "      <td>0.036</td>\n",
       "      <td>0.010</td>\n",
       "      <td>2</td>\n",
       "      <td>1</td>\n",
       "      <td>0.009</td>\n",
       "    </tr>\n",
       "    <tr>\n",
       "      <th>1413237</th>\n",
       "      <td>2023-06-07 01:45:00</td>\n",
       "      <td>Energy_96</td>\n",
       "      <td>16.500000</td>\n",
       "      <td>16.500000</td>\n",
       "      <td>16.400000</td>\n",
       "      <td>333.0</td>\n",
       "      <td>313.0</td>\n",
       "      <td>1.80</td>\n",
       "      <td>2.70</td>\n",
       "      <td>0.10</td>\n",
       "      <td>...</td>\n",
       "      <td>0.038</td>\n",
       "      <td>0.016</td>\n",
       "      <td>0.010</td>\n",
       "      <td>0.009</td>\n",
       "      <td>0.020</td>\n",
       "      <td>0.039</td>\n",
       "      <td>0.009</td>\n",
       "      <td>2</td>\n",
       "      <td>1</td>\n",
       "      <td>0.040</td>\n",
       "    </tr>\n",
       "    <tr>\n",
       "      <th>1413238</th>\n",
       "      <td>2023-06-07 02:00:00</td>\n",
       "      <td>Energy_96</td>\n",
       "      <td>16.500000</td>\n",
       "      <td>16.600000</td>\n",
       "      <td>16.400000</td>\n",
       "      <td>337.5</td>\n",
       "      <td>342.0</td>\n",
       "      <td>2.20</td>\n",
       "      <td>2.90</td>\n",
       "      <td>0.05</td>\n",
       "      <td>...</td>\n",
       "      <td>0.022</td>\n",
       "      <td>0.010</td>\n",
       "      <td>0.009</td>\n",
       "      <td>0.009</td>\n",
       "      <td>0.041</td>\n",
       "      <td>0.029</td>\n",
       "      <td>0.010</td>\n",
       "      <td>2</td>\n",
       "      <td>2</td>\n",
       "      <td>0.038</td>\n",
       "    </tr>\n",
       "    <tr>\n",
       "      <th>1413239</th>\n",
       "      <td>2023-06-07 02:15:00</td>\n",
       "      <td>Energy_96</td>\n",
       "      <td>16.500000</td>\n",
       "      <td>16.500000</td>\n",
       "      <td>16.400000</td>\n",
       "      <td>338.0</td>\n",
       "      <td>335.0</td>\n",
       "      <td>1.90</td>\n",
       "      <td>2.60</td>\n",
       "      <td>0.00</td>\n",
       "      <td>...</td>\n",
       "      <td>0.010</td>\n",
       "      <td>0.009</td>\n",
       "      <td>0.009</td>\n",
       "      <td>0.043</td>\n",
       "      <td>0.038</td>\n",
       "      <td>0.009</td>\n",
       "      <td>0.009</td>\n",
       "      <td>2</td>\n",
       "      <td>2</td>\n",
       "      <td>0.038</td>\n",
       "    </tr>\n",
       "  </tbody>\n",
       "</table>\n",
       "<p>1413240 rows × 25 columns</p>\n",
       "</div>"
      ],
      "text/plain": [
       "                        Time   Location   Temp_Med   Temp_Max   Temp_Min  \\\n",
       "0        2022-05-12 12:00:00   Energy_1  20.600000  20.900000  20.299999   \n",
       "1        2022-05-12 12:15:00   Energy_1  20.200001  20.450001  20.000000   \n",
       "2        2022-05-12 12:30:00   Energy_1  20.100000  20.299999  19.900000   \n",
       "3        2022-05-12 12:45:00   Energy_1  20.000000  20.250000  19.850000   \n",
       "4        2022-05-12 13:00:00   Energy_1  20.200001  20.400000  19.900000   \n",
       "...                      ...        ...        ...        ...        ...   \n",
       "1413235  2023-06-07 01:15:00  Energy_96  16.400000  16.500000  16.299999   \n",
       "1413236  2023-06-07 01:30:00  Energy_96  16.400000  16.500000  16.350000   \n",
       "1413237  2023-06-07 01:45:00  Energy_96  16.500000  16.500000  16.400000   \n",
       "1413238  2023-06-07 02:00:00  Energy_96  16.500000  16.600000  16.400000   \n",
       "1413239  2023-06-07 02:15:00  Energy_96  16.500000  16.500000  16.400000   \n",
       "\n",
       "         Rumo_Vento_Med  Rumo_Vento_Max  Intensidade_Vento_Med  \\\n",
       "0                 359.0           359.0                   6.30   \n",
       "1                   2.0             6.5                   6.65   \n",
       "2                 360.0             1.0                   6.40   \n",
       "3                 180.0           185.5                   6.40   \n",
       "4                   1.0            10.0                   5.90   \n",
       "...                 ...             ...                    ...   \n",
       "1413235           340.0           338.0                   2.50   \n",
       "1413236           335.0           338.5                   2.05   \n",
       "1413237           333.0           313.0                   1.80   \n",
       "1413238           337.5           342.0                   2.20   \n",
       "1413239           338.0           335.0                   1.90   \n",
       "\n",
       "         Intensidade_Vento_Max  Precip  ...  lag_96  lag_192  lag_288  \\\n",
       "0                        10.40    0.00  ...   0.041    0.023    0.044   \n",
       "1                        10.05    0.00  ...   0.487    0.034    0.058   \n",
       "2                         9.80    0.00  ...   0.340    0.037    0.038   \n",
       "3                        10.10    0.00  ...   0.058    0.046    0.026   \n",
       "4                         9.40    0.00  ...   0.044    0.024    0.026   \n",
       "...                        ...     ...  ...     ...      ...      ...   \n",
       "1413235                   3.40    0.00  ...   0.015    0.041    0.032   \n",
       "1413236                   2.90    0.05  ...   0.041    0.037    0.009   \n",
       "1413237                   2.70    0.10  ...   0.038    0.016    0.010   \n",
       "1413238                   2.90    0.05  ...   0.022    0.010    0.009   \n",
       "1413239                   2.60    0.00  ...   0.010    0.009    0.009   \n",
       "\n",
       "         lag_384  lag_480  lag_576  lag_672  DayOfWeek  Hour  Energy  \n",
       "0          0.033    0.032    0.057    0.068          3    12   0.039  \n",
       "1          0.034    0.029    0.065    0.070          3    12   0.061  \n",
       "2          0.055    0.047    0.030    0.122          3    12   0.038  \n",
       "3          0.058    0.022    0.329    0.132          3    12   0.069  \n",
       "4          0.036    0.020    0.329    0.125          3    13   0.063  \n",
       "...          ...      ...      ...      ...        ...   ...     ...  \n",
       "1413235    0.009    0.010    0.010    0.023          2     1   0.009  \n",
       "1413236    0.010    0.009    0.036    0.010          2     1   0.009  \n",
       "1413237    0.009    0.020    0.039    0.009          2     1   0.040  \n",
       "1413238    0.009    0.041    0.029    0.010          2     2   0.038  \n",
       "1413239    0.043    0.038    0.009    0.009          2     2   0.038  \n",
       "\n",
       "[1413240 rows x 25 columns]"
      ]
     },
     "execution_count": 17,
     "metadata": {},
     "output_type": "execute_result"
    }
   ],
   "source": [
    "df_test = pd.read_csv(\"../../data/loureiro_meteo_selected.csv\", nrows=100)\n",
    "\n",
    "float_cols = [c for c in df_test if df_test[c].dtype == \"float64\"]\n",
    "float32_cols = {c: np.float32 for c in float_cols}\n",
    "\n",
    "df = pd.read_csv(\"../../data/loureiro_meteo_selected.csv\", engine='c', dtype=float32_cols)\n",
    "df"
   ]
  },
  {
   "cell_type": "code",
   "execution_count": 18,
   "id": "1218e529",
   "metadata": {},
   "outputs": [
    {
     "data": {
      "text/plain": [
       "[array(['Energy_161', 'Energy_16', 'Energy_2', 'Energy_118', 'Energy_132',\n",
       "        'Energy_146', 'Energy_48', 'Energy_135'], dtype=object),\n",
       " array(['Energy_16', 'Energy_161', 'Energy_17', 'Energy_117', 'Energy_164',\n",
       "        'Energy_125', 'Energy_118', 'Energy_96'], dtype=object),\n",
       " array(['Energy_110', 'Energy_35', 'Energy_90', 'Energy_60', 'Energy_142',\n",
       "        'Energy_139', 'Energy_126', 'Energy_17'], dtype=object),\n",
       " array(['Energy_60', 'Energy_16', 'Energy_148', 'Energy_65', 'Energy_17',\n",
       "        'Energy_78', 'Energy_142', 'Energy_117'], dtype=object),\n",
       " array(['Energy_118', 'Energy_35', 'Energy_164', 'Energy_108',\n",
       "        'Energy_139', 'Energy_94', 'Energy_2', 'Energy_142'], dtype=object),\n",
       " array(['Energy_161', 'Energy_90', 'Energy_125', 'Energy_135',\n",
       "        'Energy_159', 'Energy_35', 'Energy_132', 'Energy_142'],\n",
       "       dtype=object),\n",
       " array(['Energy_129', 'Energy_160', 'Energy_123', 'Energy_159',\n",
       "        'Energy_65', 'Energy_127', 'Energy_35', 'Energy_146'], dtype=object),\n",
       " array(['Energy_9', 'Energy_118', 'Energy_161', 'Energy_16', 'Energy_142',\n",
       "        'Energy_15', 'Energy_148', 'Energy_110'], dtype=object),\n",
       " array(['Energy_2', 'Energy_161', 'Energy_17', 'Energy_58', 'Energy_110',\n",
       "        'Energy_148', 'Energy_118', 'Energy_123'], dtype=object),\n",
       " array(['Energy_123', 'Energy_139', 'Energy_126', 'Energy_1', 'Energy_94',\n",
       "        'Energy_16', 'Energy_129', 'Energy_159'], dtype=object)]"
      ]
     },
     "execution_count": 18,
     "metadata": {},
     "output_type": "execute_result"
    }
   ],
   "source": [
    "num_houses_test = 8\n",
    "locations = []\n",
    "for i in range(10):\n",
    "    np.random.seed(i*5)\n",
    "    l = np.random.choice(df['Location'].unique(), size=num_houses_test, replace=False)\n",
    "    locations.append(l)\n",
    "locations"
   ]
  },
  {
   "cell_type": "code",
   "execution_count": 19,
   "id": "9cca5c2b",
   "metadata": {},
   "outputs": [
    {
     "data": {
      "text/plain": [
       "0"
      ]
     },
     "execution_count": 19,
     "metadata": {},
     "output_type": "execute_result"
    }
   ],
   "source": [
    "## Number of NaNs\n",
    "df.isna().sum().sum()"
   ]
  },
  {
   "cell_type": "code",
   "execution_count": 20,
   "id": "acc7da60",
   "metadata": {},
   "outputs": [
    {
     "data": {
      "text/plain": [
       "Energy_1      35331\n",
       "Energy_108    35331\n",
       "Energy_161    35331\n",
       "Energy_164    35331\n",
       "Energy_17     35331\n",
       "Energy_2      35331\n",
       "Energy_30     35331\n",
       "Energy_35     35331\n",
       "Energy_48     35331\n",
       "Energy_58     35331\n",
       "Energy_60     35331\n",
       "Energy_65     35331\n",
       "Energy_78     35331\n",
       "Energy_86     35331\n",
       "Energy_9      35331\n",
       "Energy_90     35331\n",
       "Energy_91     35331\n",
       "Energy_94     35331\n",
       "Energy_95     35331\n",
       "Energy_160    35331\n",
       "Energy_16     35331\n",
       "Energy_159    35331\n",
       "Energy_129    35331\n",
       "Energy_110    35331\n",
       "Energy_117    35331\n",
       "Energy_118    35331\n",
       "Energy_123    35331\n",
       "Energy_125    35331\n",
       "Energy_126    35331\n",
       "Energy_127    35331\n",
       "Energy_132    35331\n",
       "Energy_151    35331\n",
       "Energy_135    35331\n",
       "Energy_138    35331\n",
       "Energy_139    35331\n",
       "Energy_142    35331\n",
       "Energy_146    35331\n",
       "Energy_148    35331\n",
       "Energy_15     35331\n",
       "Energy_96     35331\n",
       "Name: Location, dtype: int64"
      ]
     },
     "execution_count": 20,
     "metadata": {},
     "output_type": "execute_result"
    }
   ],
   "source": [
    "df.Location.value_counts()"
   ]
  },
  {
   "attachments": {},
   "cell_type": "markdown",
   "id": "30e48b6b",
   "metadata": {},
   "source": [
    "### Linear Regression"
   ]
  },
  {
   "cell_type": "code",
   "execution_count": 21,
   "id": "a9cfe1a7",
   "metadata": {},
   "outputs": [
    {
     "name": "stdout",
     "output_type": "stream",
     "text": [
      "\n",
      "Iteration 0\n",
      "split timeseries\n",
      "Train set:  (1158824, 25)\n",
      "Test set:  (289747, 25)\n",
      "MSE: 0.0041\n",
      "RMSE: 0.0643\n",
      "WAPE: 38.59\n",
      "R2: 0.6327\n",
      "\n",
      "Iteration 1\n",
      "split timeseries\n",
      "Train set:  (1158824, 25)\n",
      "Test set:  (289747, 25)\n",
      "MSE: 0.0041\n",
      "RMSE: 0.0643\n",
      "WAPE: 38.59\n",
      "R2: 0.6327\n",
      "\n",
      "Iteration 2\n",
      "split timeseries\n",
      "Train set:  (1158824, 25)\n",
      "Test set:  (289747, 25)\n",
      "MSE: 0.0041\n",
      "RMSE: 0.0643\n",
      "WAPE: 38.59\n",
      "R2: 0.6327\n",
      "\n",
      "Iteration 3\n",
      "split timeseries\n",
      "Train set:  (1158824, 25)\n",
      "Test set:  (289747, 25)\n",
      "MSE: 0.0041\n",
      "RMSE: 0.0643\n",
      "WAPE: 38.59\n",
      "R2: 0.6327\n",
      "\n",
      "Iteration 4\n",
      "split timeseries\n",
      "Train set:  (1158824, 25)\n",
      "Test set:  (289747, 25)\n",
      "MSE: 0.0041\n",
      "RMSE: 0.0643\n",
      "WAPE: 38.59\n",
      "R2: 0.6327\n",
      "\n",
      "Iteration 5\n",
      "split timeseries\n",
      "Train set:  (1158824, 25)\n",
      "Test set:  (289747, 25)\n",
      "MSE: 0.0041\n",
      "RMSE: 0.0643\n",
      "WAPE: 38.59\n",
      "R2: 0.6327\n",
      "\n",
      "Iteration 6\n",
      "split timeseries\n",
      "Train set:  (1158824, 25)\n",
      "Test set:  (289747, 25)\n",
      "MSE: 0.0041\n",
      "RMSE: 0.0643\n",
      "WAPE: 38.59\n",
      "R2: 0.6327\n",
      "\n",
      "Iteration 7\n",
      "split timeseries\n",
      "Train set:  (1158824, 25)\n",
      "Test set:  (289747, 25)\n",
      "MSE: 0.0041\n",
      "RMSE: 0.0643\n",
      "WAPE: 38.59\n",
      "R2: 0.6327\n",
      "\n",
      "Iteration 8\n",
      "split timeseries\n",
      "Train set:  (1158824, 25)\n",
      "Test set:  (289747, 25)\n",
      "MSE: 0.0041\n",
      "RMSE: 0.0643\n",
      "WAPE: 38.59\n",
      "R2: 0.6327\n",
      "\n",
      "Iteration 9\n",
      "split timeseries\n",
      "Train set:  (1158824, 25)\n",
      "Test set:  (289747, 25)\n",
      "MSE: 0.0041\n",
      "RMSE: 0.0643\n",
      "WAPE: 38.59\n",
      "R2: 0.6327\n"
     ]
    }
   ],
   "source": [
    "metrics_list_lr = []\n",
    "print(\"\\n----------------------------\", file=sourceFile)\n",
    "print(\"\\nLinear Regression\\n\", file=sourceFile)\n",
    "print(\"----------------------------\\n\", file=sourceFile)\n",
    "for i in range(10):\n",
    "    print(\"\\nIteration\", i, file=sourceFile)\n",
    "    print(\"\\nIteration\", i)\n",
    "    mse, wape, r2, model_lr = test_leave_house_out(df, LinearRegression(), locations[i], sourceFile, split_timeseries=True)\n",
    "    metrics_list_lr.append((mse, wape, r2))"
   ]
  },
  {
   "attachments": {},
   "cell_type": "markdown",
   "id": "1e4142f8",
   "metadata": {},
   "source": [
    "### XGBoost"
   ]
  },
  {
   "cell_type": "code",
   "execution_count": 22,
   "id": "29000235",
   "metadata": {},
   "outputs": [
    {
     "name": "stdout",
     "output_type": "stream",
     "text": [
      "\n",
      "Iteration 0\n",
      "split timeseries\n",
      "Train set:  (1158824, 25)\n",
      "Test set:  (289747, 25)\n",
      "MSE: 0.0041\n",
      "RMSE: 0.0641\n",
      "WAPE: 40.20\n",
      "R2: 0.6358\n"
     ]
    }
   ],
   "source": [
    "metrics_list_xgb = []\n",
    "print(\"\\n----------------------------\", file=sourceFile)\n",
    "print(\"\\nXGBoost\\n\", file=sourceFile)\n",
    "print(\"----------------------------\\n\", file=sourceFile)\n",
    "for i in range(1):\n",
    "    print(\"\\nIteration\", i, file=sourceFile)\n",
    "    print(\"\\nIteration\", i)\n",
    "    mse, wape, r2, model_xgb = test_leave_house_out(df, xgb.XGBRegressor(tree_method='gpu_hist', seed=0, colsample_bytree=0.7, learning_rate=0.1, max_depth=20, n_estimators=1000), locations[i], sourceFile, split_timeseries=True)\n",
    "    metrics_list_xgb.append((mse, wape, r2))"
   ]
  },
  {
   "attachments": {},
   "cell_type": "markdown",
   "id": "bc81a8ce",
   "metadata": {},
   "source": [
    "### Random Forest"
   ]
  },
  {
   "cell_type": "code",
   "execution_count": 26,
   "id": "81a082e6",
   "metadata": {},
   "outputs": [
    {
     "name": "stdout",
     "output_type": "stream",
     "text": [
      "\n",
      "Iteration 0\n",
      "Train set:  (1130592, 25)\n",
      "Test set:  (282648, 25)\n"
     ]
    },
    {
     "name": "stderr",
     "output_type": "stream",
     "text": [
      "/home/francisco.monteiro@av.it.pt/miniconda3/envs/cuml/lib/python3.8/site-packages/cuml/internals/api_decorators.py:188: UserWarning: To use pickling first train using float32 data to fit the estimator\n",
      "  ret = func(*args, **kwargs)\n"
     ]
    },
    {
     "name": "stdout",
     "output_type": "stream",
     "text": [
      "MSE: 0.0033\n",
      "WAPE: 37.35\n",
      "R2: 0.5621\n",
      "\n",
      "Iteration 1\n",
      "Train set:  (1130592, 25)\n",
      "Test set:  (282648, 25)\n"
     ]
    },
    {
     "name": "stderr",
     "output_type": "stream",
     "text": [
      "/home/francisco.monteiro@av.it.pt/miniconda3/envs/cuml/lib/python3.8/site-packages/cuml/internals/api_decorators.py:188: UserWarning: To use pickling first train using float32 data to fit the estimator\n",
      "  ret = func(*args, **kwargs)\n"
     ]
    },
    {
     "name": "stdout",
     "output_type": "stream",
     "text": [
      "MSE: 0.0031\n",
      "WAPE: 40.73\n",
      "R2: 0.7174\n",
      "\n",
      "Iteration 2\n",
      "Train set:  (1130592, 25)\n",
      "Test set:  (282648, 25)\n"
     ]
    },
    {
     "name": "stderr",
     "output_type": "stream",
     "text": [
      "/home/francisco.monteiro@av.it.pt/miniconda3/envs/cuml/lib/python3.8/site-packages/cuml/internals/api_decorators.py:188: UserWarning: To use pickling first train using float32 data to fit the estimator\n",
      "  ret = func(*args, **kwargs)\n"
     ]
    },
    {
     "name": "stdout",
     "output_type": "stream",
     "text": [
      "MSE: 0.0071\n",
      "WAPE: 34.07\n",
      "R2: 0.6715\n",
      "\n",
      "Iteration 3\n",
      "Train set:  (1130592, 25)\n",
      "Test set:  (282648, 25)\n"
     ]
    },
    {
     "name": "stderr",
     "output_type": "stream",
     "text": [
      "/home/francisco.monteiro@av.it.pt/miniconda3/envs/cuml/lib/python3.8/site-packages/cuml/internals/api_decorators.py:188: UserWarning: To use pickling first train using float32 data to fit the estimator\n",
      "  ret = func(*args, **kwargs)\n"
     ]
    },
    {
     "name": "stdout",
     "output_type": "stream",
     "text": [
      "MSE: 0.0075\n",
      "WAPE: 37.74\n",
      "R2: 0.6762\n",
      "\n",
      "Iteration 4\n",
      "Train set:  (1130592, 25)\n",
      "Test set:  (282648, 25)\n"
     ]
    },
    {
     "name": "stderr",
     "output_type": "stream",
     "text": [
      "/home/francisco.monteiro@av.it.pt/miniconda3/envs/cuml/lib/python3.8/site-packages/cuml/internals/api_decorators.py:188: UserWarning: To use pickling first train using float32 data to fit the estimator\n",
      "  ret = func(*args, **kwargs)\n"
     ]
    },
    {
     "name": "stdout",
     "output_type": "stream",
     "text": [
      "MSE: 0.0027\n",
      "WAPE: 33.50\n",
      "R2: 0.7558\n",
      "\n",
      "Iteration 5\n",
      "Train set:  (1130592, 25)\n",
      "Test set:  (282648, 25)\n"
     ]
    },
    {
     "name": "stderr",
     "output_type": "stream",
     "text": [
      "/home/francisco.monteiro@av.it.pt/miniconda3/envs/cuml/lib/python3.8/site-packages/cuml/internals/api_decorators.py:188: UserWarning: To use pickling first train using float32 data to fit the estimator\n",
      "  ret = func(*args, **kwargs)\n"
     ]
    },
    {
     "name": "stdout",
     "output_type": "stream",
     "text": [
      "MSE: 0.0033\n",
      "WAPE: 37.12\n",
      "R2: 0.6759\n",
      "\n",
      "Iteration 6\n",
      "Train set:  (1130592, 25)\n",
      "Test set:  (282648, 25)\n"
     ]
    },
    {
     "name": "stderr",
     "output_type": "stream",
     "text": [
      "/home/francisco.monteiro@av.it.pt/miniconda3/envs/cuml/lib/python3.8/site-packages/cuml/internals/api_decorators.py:188: UserWarning: To use pickling first train using float32 data to fit the estimator\n",
      "  ret = func(*args, **kwargs)\n"
     ]
    },
    {
     "name": "stdout",
     "output_type": "stream",
     "text": [
      "MSE: 0.0042\n",
      "WAPE: 38.69\n",
      "R2: 0.5616\n",
      "\n",
      "Iteration 7\n",
      "Train set:  (1130592, 25)\n",
      "Test set:  (282648, 25)\n"
     ]
    },
    {
     "name": "stderr",
     "output_type": "stream",
     "text": [
      "/home/francisco.monteiro@av.it.pt/miniconda3/envs/cuml/lib/python3.8/site-packages/cuml/internals/api_decorators.py:188: UserWarning: To use pickling first train using float32 data to fit the estimator\n",
      "  ret = func(*args, **kwargs)\n"
     ]
    },
    {
     "name": "stdout",
     "output_type": "stream",
     "text": [
      "MSE: 0.0029\n",
      "WAPE: 37.47\n",
      "R2: 0.6330\n",
      "\n",
      "Iteration 8\n",
      "Train set:  (1130592, 25)\n",
      "Test set:  (282648, 25)\n"
     ]
    },
    {
     "name": "stderr",
     "output_type": "stream",
     "text": [
      "/home/francisco.monteiro@av.it.pt/miniconda3/envs/cuml/lib/python3.8/site-packages/cuml/internals/api_decorators.py:188: UserWarning: To use pickling first train using float32 data to fit the estimator\n",
      "  ret = func(*args, **kwargs)\n"
     ]
    },
    {
     "name": "stdout",
     "output_type": "stream",
     "text": [
      "MSE: 0.0028\n",
      "WAPE: 43.47\n",
      "R2: 0.5975\n",
      "\n",
      "Iteration 9\n",
      "Train set:  (1130592, 25)\n",
      "Test set:  (282648, 25)\n",
      "MSE: 0.0048\n",
      "WAPE: 34.08\n",
      "R2: 0.6998\n"
     ]
    },
    {
     "name": "stderr",
     "output_type": "stream",
     "text": [
      "/home/francisco.monteiro@av.it.pt/miniconda3/envs/cuml/lib/python3.8/site-packages/cuml/internals/api_decorators.py:188: UserWarning: To use pickling first train using float32 data to fit the estimator\n",
      "  ret = func(*args, **kwargs)\n"
     ]
    }
   ],
   "source": [
    "metrics_list_rf = []\n",
    "print(\"\\n----------------------------\", file=sourceFile)\n",
    "print(\"\\nRandom Forest\\n\", file=sourceFile)\n",
    "print(\"----------------------------\\n\", file=sourceFile)\n",
    "for i in range(10):\n",
    "    print(\"\\nIteration\", i, file=sourceFile)\n",
    "    print(\"\\nIteration\", i)\n",
    "    mse, wape, r2, model_rf = test_leave_house_out(df, cuRF(), locations[i], sourceFile)\n",
    "    metrics_list_rf.append((mse, wape, r2))"
   ]
  },
  {
   "attachments": {},
   "cell_type": "markdown",
   "id": "1d80b4bb",
   "metadata": {},
   "source": [
    "## Averaged Metrics"
   ]
  },
  {
   "cell_type": "code",
   "execution_count": 27,
   "id": "34d0f88f",
   "metadata": {},
   "outputs": [],
   "source": [
    "print(\"\\n\\n\\n\", file=sourceFile)"
   ]
  },
  {
   "cell_type": "code",
   "execution_count": 28,
   "id": "c4d11803",
   "metadata": {},
   "outputs": [
    {
     "name": "stdout",
     "output_type": "stream",
     "text": [
      "Total Averaged MSE: 0.004\n",
      "Total Averaged WAPE: 37.158\n",
      "Total Averaged R2: 0.667\n"
     ]
    }
   ],
   "source": [
    "print(\"\\nLinear Regression\", file=sourceFile)\n",
    "total_averaged_metrics(metrics_list_lr, sourceFile)"
   ]
  },
  {
   "cell_type": "code",
   "execution_count": 29,
   "id": "9038241b",
   "metadata": {},
   "outputs": [
    {
     "name": "stdout",
     "output_type": "stream",
     "text": [
      "Total Averaged MSE: 0.004\n",
      "Total Averaged WAPE: 40.899\n",
      "Total Averaged R2: 0.633\n"
     ]
    }
   ],
   "source": [
    "print(\"\\nXGBoost\", file=sourceFile)\n",
    "total_averaged_metrics(metrics_list_xgb, sourceFile)"
   ]
  },
  {
   "cell_type": "code",
   "execution_count": 30,
   "id": "387e0bf7",
   "metadata": {},
   "outputs": [
    {
     "name": "stdout",
     "output_type": "stream",
     "text": [
      "Total Averaged MSE: 0.004\n",
      "Total Averaged WAPE: 37.422\n",
      "Total Averaged R2: 0.655\n"
     ]
    }
   ],
   "source": [
    "print(\"\\nRandom Forest\", file=sourceFile)\n",
    "total_averaged_metrics(metrics_list_rf, sourceFile)"
   ]
  },
  {
   "cell_type": "code",
   "execution_count": 31,
   "id": "6aa50a8a",
   "metadata": {},
   "outputs": [],
   "source": [
    "sourceFile.close()"
   ]
  },
  {
   "attachments": {},
   "cell_type": "markdown",
   "id": "bb5c8ff5",
   "metadata": {},
   "source": [
    "### Feature Importance"
   ]
  },
  {
   "cell_type": "code",
   "execution_count": null,
   "id": "b6a7d8db",
   "metadata": {},
   "outputs": [],
   "source": [
    "print('XGBoost\\n')\n",
    "for i,v in enumerate(model_xgb.feature_importances_):\n",
    "    print('Feature: %0d, Score: %.5f' % (i,v))"
   ]
  },
  {
   "cell_type": "code",
   "execution_count": null,
   "id": "538881d9",
   "metadata": {},
   "outputs": [],
   "source": [
    "model_xgb.feature_importances_"
   ]
  },
  {
   "cell_type": "code",
   "execution_count": null,
   "id": "0f698b11",
   "metadata": {},
   "outputs": [],
   "source": [
    "plt.figure(figsize=(22,6))\n",
    "plt.bar(df.columns[2:-1],model_xgb.feature_importances_)\n",
    "plt.title('Feature Importance')\n",
    "plt.xlabel('Feature')\n",
    "plt.ylabel('Importance')\n",
    "#plt.savefig(\"images/porto_xgb_final7days_feature_importance.png\")\n",
    "plt.show()"
   ]
  },
  {
   "cell_type": "code",
   "execution_count": null,
   "id": "71aef5fc",
   "metadata": {},
   "outputs": [],
   "source": [
    "plt.figure(figsize=(12,6))\n",
    "plt.bar(df.columns[2:-1],model_lr.coef_)\n",
    "plt.title('Feature Importance')\n",
    "plt.xlabel('Feature')\n",
    "plt.ylabel('Importance')\n",
    "plt.show()"
   ]
  },
  {
   "cell_type": "code",
   "execution_count": null,
   "id": "d8ca075f",
   "metadata": {},
   "outputs": [],
   "source": [
    "columns = df.drop([\"Energy\", \"Location\", \"Time\"], axis=1).columns\n",
    "feature_importance = pd.Series(model_xgb.feature_importances_, index=columns)\n",
    "feature_importance"
   ]
  },
  {
   "attachments": {},
   "cell_type": "markdown",
   "id": "8d0fb555",
   "metadata": {},
   "source": [
    "## Hyperparameter Tuning"
   ]
  },
  {
   "cell_type": "code",
   "execution_count": null,
   "id": "8a8fc616",
   "metadata": {},
   "outputs": [],
   "source": [
    "df_tuning = pd.read_csv(\"data/loureiro_selected.csv\")\n",
    "df_tuning.drop(['Time', 'Location'],axis=1, inplace=True)\n",
    "df_tuning"
   ]
  },
  {
   "cell_type": "code",
   "execution_count": null,
   "id": "d82de6fa",
   "metadata": {},
   "outputs": [],
   "source": [
    "params_rf = {\n",
    "    'bootstrap': [True],\n",
    "    'max_depth': [80, 90, 100, 110],\n",
    "    'max_features': [2, 3],\n",
    "    'min_samples_leaf': [3, 4, 5],\n",
    "    'min_samples_split': [8, 10, 12],\n",
    "    'n_estimators': [100, 200, 300, 1000]\n",
    "}"
   ]
  },
  {
   "cell_type": "code",
   "execution_count": null,
   "id": "8bb5e886",
   "metadata": {},
   "outputs": [],
   "source": [
    "params_xgb = { \n",
    "    'max_depth': [3, 6, 10, 20, 50],\n",
    "    'learning_rate': [0.01, 0.01, 0.05, 0.1],\n",
    "    'n_estimators': [100, 500, 1000],\n",
    "    'colsample_bytree': [0.3, 0.7]\n",
    "}"
   ]
  },
  {
   "cell_type": "code",
   "execution_count": null,
   "id": "c498607b",
   "metadata": {},
   "outputs": [],
   "source": [
    "train_features = df_tuning.drop('Energy', axis=1)\n",
    "train_labels = df_tuning['Energy']\n",
    "test_features = 0\n",
    "test_labels = 0"
   ]
  },
  {
   "cell_type": "code",
   "execution_count": null,
   "id": "b21f35b6",
   "metadata": {},
   "outputs": [],
   "source": [
    "from sklearn.model_selection import GridSearchCV\n",
    "\n",
    "xgb_model = xgb.XGBRegressor(seed=42, tree_method=\"gpu_hist\")\n",
    "\n",
    "grid_search = GridSearchCV(estimator = xgb_model, param_grid = params_xgb, cv = 5, n_jobs = 4, verbose = 2)"
   ]
  },
  {
   "cell_type": "code",
   "execution_count": null,
   "id": "36653c22",
   "metadata": {},
   "outputs": [],
   "source": [
    "grid_search.fit(train_features, train_labels)"
   ]
  },
  {
   "cell_type": "code",
   "execution_count": null,
   "id": "bd82470e",
   "metadata": {},
   "outputs": [],
   "source": [
    "grid_search.best_params_"
   ]
  },
  {
   "cell_type": "code",
   "execution_count": null,
   "id": "debb92b4",
   "metadata": {},
   "outputs": [],
   "source": [
    "grid_search.best_score_"
   ]
  },
  {
   "cell_type": "code",
   "execution_count": null,
   "id": "420bcee9",
   "metadata": {},
   "outputs": [],
   "source": [
    "def evaluate(model, test_features, test_labels):\n",
    "    predictions = model.predict(test_features)\n",
    "    errors = abs(predictions - test_labels)\n",
    "    mape = 100 * np.mean(errors / test_labels)\n",
    "    accuracy = 100 - mape\n",
    "    print('Model Performance')\n",
    "    print('Average Error: {:0.4f} degrees.'.format(np.mean(errors)))\n",
    "    print('Accuracy = {:0.2f}%.'.format(accuracy))\n",
    "    \n",
    "    return accuracy\n",
    "base_model = cuRF(n_estimators = 10, random_state = 42)\n",
    "base_model.fit(train_features, train_labels)\n",
    "base_accuracy = evaluate(base_model, test_features, test_labels)\n",
    "\n",
    "best_random = grid_search.best_estimator_\n",
    "random_accuracy = evaluate(best_random, test_features, test_labels)\n",
    "\n",
    "print('Improvement of {:0.2f}%.'.format( 100 * (random_accuracy - base_accuracy) / base_accuracy))"
   ]
  },
  {
   "cell_type": "code",
   "execution_count": null,
   "id": "81c3b442",
   "metadata": {},
   "outputs": [],
   "source": [
    "grid_search.best_params_\n",
    "best_grid = grid_search.best_estimator_\n",
    "grid_accuracy = evaluate(best_grid, test_features, test_labels)"
   ]
  },
  {
   "cell_type": "code",
   "execution_count": null,
   "id": "087b7017",
   "metadata": {},
   "outputs": [],
   "source": [
    "print('Improvement of {:0.2f}%.'.format( 100 * (grid_accuracy - base_accuracy) / base_accuracy))"
   ]
  }
 ],
 "metadata": {
  "kernelspec": {
   "display_name": "Python 3.8.16 ('rapids-23.02')",
   "language": "python",
   "name": "python3"
  },
  "language_info": {
   "codemirror_mode": {
    "name": "ipython",
    "version": 3
   },
   "file_extension": ".py",
   "mimetype": "text/x-python",
   "name": "python",
   "nbconvert_exporter": "python",
   "pygments_lexer": "ipython3",
   "version": "3.8.16"
  },
  "vscode": {
   "interpreter": {
    "hash": "b68dca5a889d9fa7a36c76420bb99c5b147d98e0e386a0426daa5cd8f8566c01"
   }
  }
 },
 "nbformat": 4,
 "nbformat_minor": 5
}
