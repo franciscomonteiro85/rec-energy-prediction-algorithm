{
 "cells": [
  {
   "cell_type": "code",
   "execution_count": 1,
   "metadata": {},
   "outputs": [],
   "source": [
    "import os\n",
    "os.environ['TF_CPP_MIN_LOG_LEVEL'] = '1' \n",
    "import tensorflow as tf\n",
    "import pandas as pd\n",
    "import numpy as np\n",
    "import math\n",
    "from sklearn.metrics import mean_squared_error, r2_score\n",
    "from sklearn.preprocessing import MinMaxScaler\n",
    "from tensorflow.keras.models import Sequential\n",
    "from tensorflow.keras.layers import *\n",
    "from tensorflow.keras.callbacks import ModelCheckpoint\n",
    "from tensorflow.keras.losses import MeanSquaredError\n",
    "from tensorflow.keras.metrics import MeanSquaredError as MSE\n",
    "from tensorflow.keras.optimizers import Adam\n"
   ]
  },
  {
   "cell_type": "code",
   "execution_count": 2,
   "metadata": {},
   "outputs": [
    {
     "data": {
      "text/plain": [
       "[PhysicalDevice(name='/physical_device:GPU:0', device_type='GPU')]"
      ]
     },
     "execution_count": 2,
     "metadata": {},
     "output_type": "execute_result"
    }
   ],
   "source": [
    "tf.compat.v1.logging.set_verbosity(30)\n",
    "physical_devices = tf.config.list_physical_devices('GPU')\n",
    "tf.config.experimental.set_memory_growth(physical_devices[0], enable=True)\n",
    "physical_devices"
   ]
  },
  {
   "cell_type": "code",
   "execution_count": 3,
   "metadata": {},
   "outputs": [
    {
     "data": {
      "text/html": [
       "<div>\n",
       "<style scoped>\n",
       "    .dataframe tbody tr th:only-of-type {\n",
       "        vertical-align: middle;\n",
       "    }\n",
       "\n",
       "    .dataframe tbody tr th {\n",
       "        vertical-align: top;\n",
       "    }\n",
       "\n",
       "    .dataframe thead th {\n",
       "        text-align: right;\n",
       "    }\n",
       "</style>\n",
       "<table border=\"1\" class=\"dataframe\">\n",
       "  <thead>\n",
       "    <tr style=\"text-align: right;\">\n",
       "      <th></th>\n",
       "      <th>Energy</th>\n",
       "      <th>Location</th>\n",
       "    </tr>\n",
       "    <tr>\n",
       "      <th>Time</th>\n",
       "      <th></th>\n",
       "      <th></th>\n",
       "    </tr>\n",
       "  </thead>\n",
       "  <tbody>\n",
       "    <tr>\n",
       "      <th>2022-05-05 12:00:00</th>\n",
       "      <td>0.068</td>\n",
       "      <td>Energy_1</td>\n",
       "    </tr>\n",
       "    <tr>\n",
       "      <th>2022-05-05 12:15:00</th>\n",
       "      <td>0.070</td>\n",
       "      <td>Energy_1</td>\n",
       "    </tr>\n",
       "    <tr>\n",
       "      <th>2022-05-05 12:30:00</th>\n",
       "      <td>0.122</td>\n",
       "      <td>Energy_1</td>\n",
       "    </tr>\n",
       "    <tr>\n",
       "      <th>2022-05-05 12:45:00</th>\n",
       "      <td>0.132</td>\n",
       "      <td>Energy_1</td>\n",
       "    </tr>\n",
       "    <tr>\n",
       "      <th>2022-05-05 13:00:00</th>\n",
       "      <td>0.125</td>\n",
       "      <td>Energy_1</td>\n",
       "    </tr>\n",
       "    <tr>\n",
       "      <th>...</th>\n",
       "      <td>...</td>\n",
       "      <td>...</td>\n",
       "    </tr>\n",
       "    <tr>\n",
       "      <th>2023-06-07 01:15:00</th>\n",
       "      <td>0.003</td>\n",
       "      <td>Energy_164</td>\n",
       "    </tr>\n",
       "    <tr>\n",
       "      <th>2023-06-07 01:30:00</th>\n",
       "      <td>0.004</td>\n",
       "      <td>Energy_164</td>\n",
       "    </tr>\n",
       "    <tr>\n",
       "      <th>2023-06-07 01:45:00</th>\n",
       "      <td>0.003</td>\n",
       "      <td>Energy_164</td>\n",
       "    </tr>\n",
       "    <tr>\n",
       "      <th>2023-06-07 02:00:00</th>\n",
       "      <td>0.004</td>\n",
       "      <td>Energy_164</td>\n",
       "    </tr>\n",
       "    <tr>\n",
       "      <th>2023-06-07 02:15:00</th>\n",
       "      <td>0.004</td>\n",
       "      <td>Energy_164</td>\n",
       "    </tr>\n",
       "  </tbody>\n",
       "</table>\n",
       "<p>1520760 rows × 2 columns</p>\n",
       "</div>"
      ],
      "text/plain": [
       "                     Energy    Location\n",
       "Time                                   \n",
       "2022-05-05 12:00:00   0.068    Energy_1\n",
       "2022-05-05 12:15:00   0.070    Energy_1\n",
       "2022-05-05 12:30:00   0.122    Energy_1\n",
       "2022-05-05 12:45:00   0.132    Energy_1\n",
       "2022-05-05 13:00:00   0.125    Energy_1\n",
       "...                     ...         ...\n",
       "2023-06-07 01:15:00   0.003  Energy_164\n",
       "2023-06-07 01:30:00   0.004  Energy_164\n",
       "2023-06-07 01:45:00   0.003  Energy_164\n",
       "2023-06-07 02:00:00   0.004  Energy_164\n",
       "2023-06-07 02:15:00   0.004  Energy_164\n",
       "\n",
       "[1520760 rows x 2 columns]"
      ]
     },
     "execution_count": 3,
     "metadata": {},
     "output_type": "execute_result"
    }
   ],
   "source": [
    "df = pd.read_csv(\"data/loureiro_40casas_location.csv\")\n",
    "df.dropna(inplace=True)\n",
    "df.reset_index(drop=True, inplace=True)\n",
    "df['Time'] = pd.to_datetime(df['Time'])\n",
    "df.set_index('Time', inplace=True)\n",
    "df['Energy'] = df['Energy'].astype(np.float32)\n",
    "df"
   ]
  },
  {
   "cell_type": "code",
   "execution_count": 4,
   "metadata": {},
   "outputs": [
    {
     "data": {
      "text/plain": [
       "<Axes: xlabel='Time'>"
      ]
     },
     "execution_count": 4,
     "metadata": {},
     "output_type": "execute_result"
    },
    {
     "data": {
      "image/png": "[encoded data removed]",
      "text/plain": [
       "<Figure size 640x480 with 1 Axes>"
      ]
     },
     "metadata": {},
     "output_type": "display_data"
    }
   ],
   "source": [
    "energy = df['Energy']\n",
    "energy.plot()"
   ]
  },
  {
   "cell_type": "code",
   "execution_count": 5,
   "metadata": {},
   "outputs": [],
   "source": [
    "# [[[1], [2], [3], [4], [5]]] [6]\n",
    "# [[[2], [3], [4], [5], [6]]] [7]\n",
    "# [[[3], [4], [5], [6], [7]]] [8]\n",
    "\n",
    "def df_to_X_y(df, window_size=5):\n",
    "  df_as_np = df.to_numpy()\n",
    "  X = []\n",
    "  y = []\n",
    "  for i in range(len(df_as_np)-window_size):\n",
    "    row = [[a] for a in df_as_np[i:i+window_size]]\n",
    "    X.append(row)\n",
    "    label = df_as_np[i+window_size]\n",
    "    y.append(label)\n",
    "  return np.array(X), np.array(y)"
   ]
  },
  {
   "cell_type": "code",
   "execution_count": 6,
   "metadata": {},
   "outputs": [],
   "source": [
    "data_list = []\n",
    "scaler_list = []\n",
    "\n",
    "# Iterate over each house\n",
    "for house_id in df['Location'].unique():\n",
    "    house_data = df[df['Location'] == house_id]['Energy'].values.reshape(-1, 1)\n",
    "    scaler = MinMaxScaler(feature_range=(0, 1))\n",
    "    scaled_data = scaler.fit_transform(house_data)\n",
    "    data_list.append(scaled_data)\n",
    "    scaler_list.append(scaler)\n",
    "\n",
    "# Split the dataset for each house into training and testing sets\n",
    "train_data_list = []\n",
    "test_data_list = []\n",
    "train_size = int(len(data_list[0]) * 0.8)  # 80% for training, 20% for testing\n",
    "\n",
    "for data in data_list:\n",
    "    train_data_list.append(data[:train_size])\n",
    "    test_data_list.append(data[train_size:])"
   ]
  },
  {
   "cell_type": "code",
   "execution_count": 7,
   "metadata": {},
   "outputs": [],
   "source": [
    "sequence_length = 16\n",
    "\n",
    "train_X_list, train_y_list = [], []\n",
    "test_X_list, test_y_list = [], []\n",
    "\n",
    "for train_data, test_data in zip(train_data_list, test_data_list):\n",
    "    train_X, train_y = [], []\n",
    "    test_X, test_y = [], []\n",
    "\n",
    "    for i in range(len(train_data) - sequence_length):\n",
    "        train_X.append(train_data[i:i+sequence_length])\n",
    "        train_y.append(train_data[i+sequence_length])\n",
    "\n",
    "    for i in range(len(test_data) - sequence_length):\n",
    "        test_X.append(test_data[i:i+sequence_length])\n",
    "        test_y.append(test_data[i+sequence_length])\n",
    "\n",
    "    train_X_list.append(train_X)\n",
    "    train_y_list.append(train_y)\n",
    "    test_X_list.append(test_X)\n",
    "    test_y_list.append(test_y)\n",
    "\n",
    "train_X = np.concatenate(train_X_list)\n",
    "train_y = np.concatenate(train_y_list)\n",
    "test_X = np.concatenate(test_X_list)\n",
    "test_y = np.concatenate(test_y_list)"
   ]
  },
  {
   "cell_type": "code",
   "execution_count": 8,
   "metadata": {},
   "outputs": [
    {
     "data": {
      "text/html": [
       "<div>\n",
       "<style scoped>\n",
       "    .dataframe tbody tr th:only-of-type {\n",
       "        vertical-align: middle;\n",
       "    }\n",
       "\n",
       "    .dataframe tbody tr th {\n",
       "        vertical-align: top;\n",
       "    }\n",
       "\n",
       "    .dataframe thead th {\n",
       "        text-align: right;\n",
       "    }\n",
       "</style>\n",
       "<table border=\"1\" class=\"dataframe\">\n",
       "  <thead>\n",
       "    <tr style=\"text-align: right;\">\n",
       "      <th></th>\n",
       "      <th>0</th>\n",
       "      <th>1</th>\n",
       "      <th>2</th>\n",
       "      <th>3</th>\n",
       "      <th>4</th>\n",
       "      <th>5</th>\n",
       "      <th>6</th>\n",
       "      <th>7</th>\n",
       "      <th>8</th>\n",
       "      <th>9</th>\n",
       "      <th>10</th>\n",
       "      <th>11</th>\n",
       "      <th>12</th>\n",
       "      <th>13</th>\n",
       "      <th>14</th>\n",
       "      <th>15</th>\n",
       "    </tr>\n",
       "  </thead>\n",
       "  <tbody>\n",
       "    <tr>\n",
       "      <th>0</th>\n",
       "      <td>0.044944</td>\n",
       "      <td>0.046266</td>\n",
       "      <td>0.080634</td>\n",
       "      <td>0.087244</td>\n",
       "      <td>0.082617</td>\n",
       "      <td>0.058824</td>\n",
       "      <td>0.074025</td>\n",
       "      <td>0.073364</td>\n",
       "      <td>0.060145</td>\n",
       "      <td>0.103106</td>\n",
       "      <td>0.249174</td>\n",
       "      <td>0.058824</td>\n",
       "      <td>0.063450</td>\n",
       "      <td>0.061467</td>\n",
       "      <td>0.194316</td>\n",
       "      <td>0.321216</td>\n",
       "    </tr>\n",
       "    <tr>\n",
       "      <th>1</th>\n",
       "      <td>0.046266</td>\n",
       "      <td>0.080634</td>\n",
       "      <td>0.087244</td>\n",
       "      <td>0.082617</td>\n",
       "      <td>0.058824</td>\n",
       "      <td>0.074025</td>\n",
       "      <td>0.073364</td>\n",
       "      <td>0.060145</td>\n",
       "      <td>0.103106</td>\n",
       "      <td>0.249174</td>\n",
       "      <td>0.058824</td>\n",
       "      <td>0.063450</td>\n",
       "      <td>0.061467</td>\n",
       "      <td>0.194316</td>\n",
       "      <td>0.321216</td>\n",
       "      <td>0.070059</td>\n",
       "    </tr>\n",
       "    <tr>\n",
       "      <th>2</th>\n",
       "      <td>0.080634</td>\n",
       "      <td>0.087244</td>\n",
       "      <td>0.082617</td>\n",
       "      <td>0.058824</td>\n",
       "      <td>0.074025</td>\n",
       "      <td>0.073364</td>\n",
       "      <td>0.060145</td>\n",
       "      <td>0.103106</td>\n",
       "      <td>0.249174</td>\n",
       "      <td>0.058824</td>\n",
       "      <td>0.063450</td>\n",
       "      <td>0.061467</td>\n",
       "      <td>0.194316</td>\n",
       "      <td>0.321216</td>\n",
       "      <td>0.070059</td>\n",
       "      <td>0.054858</td>\n",
       "    </tr>\n",
       "    <tr>\n",
       "      <th>3</th>\n",
       "      <td>0.087244</td>\n",
       "      <td>0.082617</td>\n",
       "      <td>0.058824</td>\n",
       "      <td>0.074025</td>\n",
       "      <td>0.073364</td>\n",
       "      <td>0.060145</td>\n",
       "      <td>0.103106</td>\n",
       "      <td>0.249174</td>\n",
       "      <td>0.058824</td>\n",
       "      <td>0.063450</td>\n",
       "      <td>0.061467</td>\n",
       "      <td>0.194316</td>\n",
       "      <td>0.321216</td>\n",
       "      <td>0.070059</td>\n",
       "      <td>0.054858</td>\n",
       "      <td>0.064111</td>\n",
       "    </tr>\n",
       "    <tr>\n",
       "      <th>4</th>\n",
       "      <td>0.082617</td>\n",
       "      <td>0.058824</td>\n",
       "      <td>0.074025</td>\n",
       "      <td>0.073364</td>\n",
       "      <td>0.060145</td>\n",
       "      <td>0.103106</td>\n",
       "      <td>0.249174</td>\n",
       "      <td>0.058824</td>\n",
       "      <td>0.063450</td>\n",
       "      <td>0.061467</td>\n",
       "      <td>0.194316</td>\n",
       "      <td>0.321216</td>\n",
       "      <td>0.070059</td>\n",
       "      <td>0.054858</td>\n",
       "      <td>0.064111</td>\n",
       "      <td>0.052214</td>\n",
       "    </tr>\n",
       "    <tr>\n",
       "      <th>...</th>\n",
       "      <td>...</td>\n",
       "      <td>...</td>\n",
       "      <td>...</td>\n",
       "      <td>...</td>\n",
       "      <td>...</td>\n",
       "      <td>...</td>\n",
       "      <td>...</td>\n",
       "      <td>...</td>\n",
       "      <td>...</td>\n",
       "      <td>...</td>\n",
       "      <td>...</td>\n",
       "      <td>...</td>\n",
       "      <td>...</td>\n",
       "      <td>...</td>\n",
       "      <td>...</td>\n",
       "      <td>...</td>\n",
       "    </tr>\n",
       "    <tr>\n",
       "      <th>1215955</th>\n",
       "      <td>0.080000</td>\n",
       "      <td>0.060000</td>\n",
       "      <td>0.080000</td>\n",
       "      <td>0.080000</td>\n",
       "      <td>0.060000</td>\n",
       "      <td>0.080000</td>\n",
       "      <td>0.080000</td>\n",
       "      <td>0.060000</td>\n",
       "      <td>0.080000</td>\n",
       "      <td>0.080000</td>\n",
       "      <td>0.080000</td>\n",
       "      <td>0.060000</td>\n",
       "      <td>0.080000</td>\n",
       "      <td>0.080000</td>\n",
       "      <td>0.060000</td>\n",
       "      <td>0.080000</td>\n",
       "    </tr>\n",
       "    <tr>\n",
       "      <th>1215956</th>\n",
       "      <td>0.060000</td>\n",
       "      <td>0.080000</td>\n",
       "      <td>0.080000</td>\n",
       "      <td>0.060000</td>\n",
       "      <td>0.080000</td>\n",
       "      <td>0.080000</td>\n",
       "      <td>0.060000</td>\n",
       "      <td>0.080000</td>\n",
       "      <td>0.080000</td>\n",
       "      <td>0.080000</td>\n",
       "      <td>0.060000</td>\n",
       "      <td>0.080000</td>\n",
       "      <td>0.080000</td>\n",
       "      <td>0.060000</td>\n",
       "      <td>0.080000</td>\n",
       "      <td>0.080000</td>\n",
       "    </tr>\n",
       "    <tr>\n",
       "      <th>1215957</th>\n",
       "      <td>0.080000</td>\n",
       "      <td>0.080000</td>\n",
       "      <td>0.060000</td>\n",
       "      <td>0.080000</td>\n",
       "      <td>0.080000</td>\n",
       "      <td>0.060000</td>\n",
       "      <td>0.080000</td>\n",
       "      <td>0.080000</td>\n",
       "      <td>0.080000</td>\n",
       "      <td>0.060000</td>\n",
       "      <td>0.080000</td>\n",
       "      <td>0.080000</td>\n",
       "      <td>0.060000</td>\n",
       "      <td>0.080000</td>\n",
       "      <td>0.080000</td>\n",
       "      <td>0.080000</td>\n",
       "    </tr>\n",
       "    <tr>\n",
       "      <th>1215958</th>\n",
       "      <td>0.080000</td>\n",
       "      <td>0.060000</td>\n",
       "      <td>0.080000</td>\n",
       "      <td>0.080000</td>\n",
       "      <td>0.060000</td>\n",
       "      <td>0.080000</td>\n",
       "      <td>0.080000</td>\n",
       "      <td>0.080000</td>\n",
       "      <td>0.060000</td>\n",
       "      <td>0.080000</td>\n",
       "      <td>0.080000</td>\n",
       "      <td>0.060000</td>\n",
       "      <td>0.080000</td>\n",
       "      <td>0.080000</td>\n",
       "      <td>0.080000</td>\n",
       "      <td>0.060000</td>\n",
       "    </tr>\n",
       "    <tr>\n",
       "      <th>1215959</th>\n",
       "      <td>0.060000</td>\n",
       "      <td>0.080000</td>\n",
       "      <td>0.080000</td>\n",
       "      <td>0.060000</td>\n",
       "      <td>0.080000</td>\n",
       "      <td>0.080000</td>\n",
       "      <td>0.080000</td>\n",
       "      <td>0.060000</td>\n",
       "      <td>0.080000</td>\n",
       "      <td>0.080000</td>\n",
       "      <td>0.060000</td>\n",
       "      <td>0.080000</td>\n",
       "      <td>0.080000</td>\n",
       "      <td>0.080000</td>\n",
       "      <td>0.060000</td>\n",
       "      <td>0.080000</td>\n",
       "    </tr>\n",
       "  </tbody>\n",
       "</table>\n",
       "<p>1215960 rows × 16 columns</p>\n",
       "</div>"
      ],
      "text/plain": [
       "               0         1         2         3         4         5         6    \n",
       "0        0.044944  0.046266  0.080634  0.087244  0.082617  0.058824  0.074025  \\\n",
       "1        0.046266  0.080634  0.087244  0.082617  0.058824  0.074025  0.073364   \n",
       "2        0.080634  0.087244  0.082617  0.058824  0.074025  0.073364  0.060145   \n",
       "3        0.087244  0.082617  0.058824  0.074025  0.073364  0.060145  0.103106   \n",
       "4        0.082617  0.058824  0.074025  0.073364  0.060145  0.103106  0.249174   \n",
       "...           ...       ...       ...       ...       ...       ...       ...   \n",
       "1215955  0.080000  0.060000  0.080000  0.080000  0.060000  0.080000  0.080000   \n",
       "1215956  0.060000  0.080000  0.080000  0.060000  0.080000  0.080000  0.060000   \n",
       "1215957  0.080000  0.080000  0.060000  0.080000  0.080000  0.060000  0.080000   \n",
       "1215958  0.080000  0.060000  0.080000  0.080000  0.060000  0.080000  0.080000   \n",
       "1215959  0.060000  0.080000  0.080000  0.060000  0.080000  0.080000  0.080000   \n",
       "\n",
       "               7         8         9         10        11        12        13   \n",
       "0        0.073364  0.060145  0.103106  0.249174  0.058824  0.063450  0.061467  \\\n",
       "1        0.060145  0.103106  0.249174  0.058824  0.063450  0.061467  0.194316   \n",
       "2        0.103106  0.249174  0.058824  0.063450  0.061467  0.194316  0.321216   \n",
       "3        0.249174  0.058824  0.063450  0.061467  0.194316  0.321216  0.070059   \n",
       "4        0.058824  0.063450  0.061467  0.194316  0.321216  0.070059  0.054858   \n",
       "...           ...       ...       ...       ...       ...       ...       ...   \n",
       "1215955  0.060000  0.080000  0.080000  0.080000  0.060000  0.080000  0.080000   \n",
       "1215956  0.080000  0.080000  0.080000  0.060000  0.080000  0.080000  0.060000   \n",
       "1215957  0.080000  0.080000  0.060000  0.080000  0.080000  0.060000  0.080000   \n",
       "1215958  0.080000  0.060000  0.080000  0.080000  0.060000  0.080000  0.080000   \n",
       "1215959  0.060000  0.080000  0.080000  0.060000  0.080000  0.080000  0.080000   \n",
       "\n",
       "               14        15  \n",
       "0        0.194316  0.321216  \n",
       "1        0.321216  0.070059  \n",
       "2        0.070059  0.054858  \n",
       "3        0.054858  0.064111  \n",
       "4        0.064111  0.052214  \n",
       "...           ...       ...  \n",
       "1215955  0.060000  0.080000  \n",
       "1215956  0.080000  0.080000  \n",
       "1215957  0.080000  0.080000  \n",
       "1215958  0.080000  0.060000  \n",
       "1215959  0.060000  0.080000  \n",
       "\n",
       "[1215960 rows x 16 columns]"
      ]
     },
     "execution_count": 8,
     "metadata": {},
     "output_type": "execute_result"
    }
   ],
   "source": [
    "pd.DataFrame(train_X.reshape(-1,16))"
   ]
  },
  {
   "cell_type": "code",
   "execution_count": 9,
   "metadata": {},
   "outputs": [
    {
     "name": "stdout",
     "output_type": "stream",
     "text": [
      "Epoch 1/10\n",
      "30399/30399 [==============================] - 36s 1ms/step - loss: 0.0039\n",
      "Epoch 2/10\n",
      "30399/30399 [==============================] - 34s 1ms/step - loss: 0.0037\n",
      "Epoch 3/10\n",
      "30399/30399 [==============================] - 35s 1ms/step - loss: 0.0037\n",
      "Epoch 4/10\n",
      "30399/30399 [==============================] - 36s 1ms/step - loss: 0.0037\n",
      "Epoch 5/10\n",
      "30399/30399 [==============================] - 35s 1ms/step - loss: 0.0036\n",
      "Epoch 6/10\n",
      "30399/30399 [==============================] - 36s 1ms/step - loss: 0.0036\n",
      "Epoch 7/10\n",
      "30399/30399 [==============================] - 35s 1ms/step - loss: 0.0036\n",
      "Epoch 8/10\n",
      "30399/30399 [==============================] - 35s 1ms/step - loss: 0.0036\n",
      "Epoch 9/10\n",
      "30399/30399 [==============================] - 35s 1ms/step - loss: 0.0035\n",
      "Epoch 10/10\n",
      "30399/30399 [==============================] - 34s 1ms/step - loss: 0.0035\n"
     ]
    },
    {
     "data": {
      "text/plain": [
       "<keras.callbacks.History at 0x7f3fb04b0f10>"
      ]
     },
     "execution_count": 9,
     "metadata": {},
     "output_type": "execute_result"
    }
   ],
   "source": [
    "model = Sequential()\n",
    "model.add(LSTM(units=50, input_shape=(train_X.shape[1], train_X.shape[2])))\n",
    "model.add(Dense(units=1))\n",
    "model.compile(loss='mean_squared_error', optimizer='adam')\n",
    "\n",
    "# Train the model\n",
    "model.fit(train_X, train_y, epochs=10, batch_size=40)"
   ]
  },
  {
   "cell_type": "code",
   "execution_count": 10,
   "metadata": {},
   "outputs": [
    {
     "name": "stdout",
     "output_type": "stream",
     "text": [
      "9485/9485 [==============================] - 5s 501us/step\n",
      "Mean Squared Error (MSE): 0.003246666\n"
     ]
    }
   ],
   "source": [
    "predictions = model.predict(test_X)\n",
    "mse = np.mean(np.square(predictions - test_y))\n",
    "print(\"Mean Squared Error (MSE):\", mse)"
   ]
  },
  {
   "cell_type": "code",
   "execution_count": 14,
   "metadata": {},
   "outputs": [
    {
     "name": "stdout",
     "output_type": "stream",
     "text": [
      "MSE: 0.0032\n",
      "WAPE: 38.25\n",
      "R2: 0.6436\n"
     ]
    },
    {
     "data": {
      "text/plain": [
       "(0.0032, 38.25, 0.6436)"
      ]
     },
     "execution_count": 14,
     "metadata": {},
     "output_type": "execute_result"
    }
   ],
   "source": [
    "performance_metrics(predictions, test_y)"
   ]
  },
  {
   "cell_type": "code",
   "execution_count": 15,
   "metadata": {},
   "outputs": [
    {
     "data": {
      "text/plain": [
       "((1520752, 8, 1), (1520752,))"
      ]
     },
     "execution_count": 15,
     "metadata": {},
     "output_type": "execute_result"
    }
   ],
   "source": [
    "WINDOW_SIZE = 8\n",
    "X1, y1 = df_to_X_y(energy, WINDOW_SIZE)\n",
    "X1.shape, y1.shape"
   ]
  },
  {
   "cell_type": "code",
   "execution_count": 18,
   "metadata": {},
   "outputs": [
    {
     "data": {
      "text/plain": [
       "((1064526, 8, 1),\n",
       " (1064526,),\n",
       " (152076, 8, 1),\n",
       " (152076,),\n",
       " (304150, 8, 1),\n",
       " (304150,))"
      ]
     },
     "execution_count": 18,
     "metadata": {},
     "output_type": "execute_result"
    }
   ],
   "source": [
    "train_samples = int(len(X1) * 0.7)\n",
    "test_samples = int(len(X1) * 0.2)\n",
    "X_train1, y_train1 = X1[:train_samples], y1[:train_samples]\n",
    "X_val1, y_val1 = X1[train_samples:-test_samples], y1[train_samples:-test_samples]\n",
    "X_test1, y_test1 = X1[-test_samples:], y1[-test_samples:]\n",
    "X_train1.shape, y_train1.shape, X_val1.shape, y_val1.shape, X_test1.shape, y_test1.shape"
   ]
  },
  {
   "cell_type": "code",
   "execution_count": 19,
   "metadata": {},
   "outputs": [
    {
     "name": "stdout",
     "output_type": "stream",
     "text": [
      "Model: \"sequential_1\"\n",
      "_________________________________________________________________\n",
      " Layer (type)                Output Shape              Param #   \n",
      "=================================================================\n",
      " lstm_1 (LSTM)               (None, 64)                16896     \n",
      "                                                                 \n",
      " dense_1 (Dense)             (None, 8)                 520       \n",
      "                                                                 \n",
      " dense_2 (Dense)             (None, 1)                 9         \n",
      "                                                                 \n",
      "=================================================================\n",
      "Total params: 17,425\n",
      "Trainable params: 17,425\n",
      "Non-trainable params: 0\n",
      "_________________________________________________________________\n"
     ]
    }
   ],
   "source": [
    "model = Sequential()\n",
    "model.add(InputLayer((8, 1)))\n",
    "model.add(LSTM(64))\n",
    "model.add(Dense(8, 'relu'))\n",
    "model.add(Dense(1, 'linear'))\n",
    "\n",
    "model.summary()"
   ]
  },
  {
   "cell_type": "code",
   "execution_count": 22,
   "metadata": {},
   "outputs": [],
   "source": [
    "cp1 = ModelCheckpoint('models/model5', save_best_only=True)\n",
    "model.compile(loss=MeanSquaredError(), optimizer=Adam(learning_rate=0.0001), metrics=[MSE()])"
   ]
  },
  {
   "cell_type": "code",
   "execution_count": 23,
   "metadata": {},
   "outputs": [
    {
     "name": "stdout",
     "output_type": "stream",
     "text": [
      "Epoch 1/10\n",
      "177388/177421 [============================>.] - ETA: 0s - loss: 0.0055 - mean_squared_error: 0.0055"
     ]
    },
    {
     "name": "stderr",
     "output_type": "stream",
     "text": [
      "WARNING:absl:Found untraced functions such as lstm_cell_1_layer_call_fn, lstm_cell_1_layer_call_and_return_conditional_losses while saving (showing 2 of 2). These functions will not be directly callable after loading.\n"
     ]
    },
    {
     "name": "stdout",
     "output_type": "stream",
     "text": [
      "177421/177421 [==============================] - 230s 1ms/step - loss: 0.0055 - mean_squared_error: 0.0055 - val_loss: 0.0047 - val_mean_squared_error: 0.0047\n",
      "Epoch 2/10\n",
      "177421/177421 [==============================] - 230s 1ms/step - loss: 0.0055 - mean_squared_error: 0.0055 - val_loss: 0.0048 - val_mean_squared_error: 0.0048\n",
      "Epoch 3/10\n",
      "177421/177421 [==============================] - 222s 1ms/step - loss: 0.0054 - mean_squared_error: 0.0054 - val_loss: 0.0049 - val_mean_squared_error: 0.0049\n",
      "Epoch 4/10\n",
      "177421/177421 [==============================] - 228s 1ms/step - loss: 0.0054 - mean_squared_error: 0.0054 - val_loss: 0.0048 - val_mean_squared_error: 0.0048\n",
      "Epoch 5/10\n",
      "177421/177421 [==============================] - 232s 1ms/step - loss: 0.0053 - mean_squared_error: 0.0053 - val_loss: 0.0049 - val_mean_squared_error: 0.0049\n",
      "Epoch 6/10\n",
      "177421/177421 [==============================] - 230s 1ms/step - loss: 0.0053 - mean_squared_error: 0.0053 - val_loss: 0.0048 - val_mean_squared_error: 0.0048\n",
      "Epoch 7/10\n",
      "177421/177421 [==============================] - 226s 1ms/step - loss: 0.0053 - mean_squared_error: 0.0053 - val_loss: 0.0048 - val_mean_squared_error: 0.0048\n",
      "Epoch 8/10\n",
      "177421/177421 [==============================] - 225s 1ms/step - loss: 0.0053 - mean_squared_error: 0.0053 - val_loss: 0.0048 - val_mean_squared_error: 0.0048\n",
      "Epoch 9/10\n",
      "177421/177421 [==============================] - 227s 1ms/step - loss: 0.0053 - mean_squared_error: 0.0053 - val_loss: 0.0048 - val_mean_squared_error: 0.0048\n",
      "Epoch 10/10\n",
      "177421/177421 [==============================] - 227s 1ms/step - loss: 0.0053 - mean_squared_error: 0.0053 - val_loss: 0.0048 - val_mean_squared_error: 0.0048\n"
     ]
    },
    {
     "data": {
      "text/plain": [
       "<keras.callbacks.History at 0x7f3fa8064fa0>"
      ]
     },
     "execution_count": 23,
     "metadata": {},
     "output_type": "execute_result"
    }
   ],
   "source": [
    "model.fit(X_train1, y_train1, validation_data=(X_val1, y_val1), epochs=10, callbacks=[cp1], batch_size=6)"
   ]
  },
  {
   "cell_type": "code",
   "execution_count": 24,
   "metadata": {},
   "outputs": [
    {
     "name": "stdout",
     "output_type": "stream",
     "text": [
      "Model: \"sequential_1\"\n",
      "_________________________________________________________________\n",
      " Layer (type)                Output Shape              Param #   \n",
      "=================================================================\n",
      " lstm_1 (LSTM)               (None, 64)                16896     \n",
      "                                                                 \n",
      " dense_1 (Dense)             (None, 8)                 520       \n",
      "                                                                 \n",
      " dense_2 (Dense)             (None, 1)                 9         \n",
      "                                                                 \n",
      "=================================================================\n",
      "Total params: 17,425\n",
      "Trainable params: 17,425\n",
      "Non-trainable params: 0\n",
      "_________________________________________________________________\n"
     ]
    }
   ],
   "source": [
    "from tensorflow.keras.models import load_model\n",
    "model1 = load_model('models/model5')\n",
    "model1.summary()"
   ]
  },
  {
   "cell_type": "code",
   "execution_count": 25,
   "metadata": {},
   "outputs": [
    {
     "name": "stdout",
     "output_type": "stream",
     "text": [
      "33267/33267 [==============================] - 20s 584us/step\n"
     ]
    },
    {
     "data": {
      "text/html": [
       "<div>\n",
       "<style scoped>\n",
       "    .dataframe tbody tr th:only-of-type {\n",
       "        vertical-align: middle;\n",
       "    }\n",
       "\n",
       "    .dataframe tbody tr th {\n",
       "        vertical-align: top;\n",
       "    }\n",
       "\n",
       "    .dataframe thead th {\n",
       "        text-align: right;\n",
       "    }\n",
       "</style>\n",
       "<table border=\"1\" class=\"dataframe\">\n",
       "  <thead>\n",
       "    <tr style=\"text-align: right;\">\n",
       "      <th></th>\n",
       "      <th>Train Predictions</th>\n",
       "      <th>Actuals</th>\n",
       "    </tr>\n",
       "  </thead>\n",
       "  <tbody>\n",
       "    <tr>\n",
       "      <th>0</th>\n",
       "      <td>0.108478</td>\n",
       "      <td>0.091</td>\n",
       "    </tr>\n",
       "    <tr>\n",
       "      <th>1</th>\n",
       "      <td>0.095032</td>\n",
       "      <td>0.156</td>\n",
       "    </tr>\n",
       "    <tr>\n",
       "      <th>2</th>\n",
       "      <td>0.148896</td>\n",
       "      <td>0.377</td>\n",
       "    </tr>\n",
       "    <tr>\n",
       "      <th>3</th>\n",
       "      <td>0.296302</td>\n",
       "      <td>0.089</td>\n",
       "    </tr>\n",
       "    <tr>\n",
       "      <th>4</th>\n",
       "      <td>0.082362</td>\n",
       "      <td>0.096</td>\n",
       "    </tr>\n",
       "    <tr>\n",
       "      <th>...</th>\n",
       "      <td>...</td>\n",
       "      <td>...</td>\n",
       "    </tr>\n",
       "    <tr>\n",
       "      <th>1064521</th>\n",
       "      <td>0.043294</td>\n",
       "      <td>0.024</td>\n",
       "    </tr>\n",
       "    <tr>\n",
       "      <th>1064522</th>\n",
       "      <td>0.030463</td>\n",
       "      <td>0.039</td>\n",
       "    </tr>\n",
       "    <tr>\n",
       "      <th>1064523</th>\n",
       "      <td>0.043310</td>\n",
       "      <td>0.039</td>\n",
       "    </tr>\n",
       "    <tr>\n",
       "      <th>1064524</th>\n",
       "      <td>0.040735</td>\n",
       "      <td>0.410</td>\n",
       "    </tr>\n",
       "    <tr>\n",
       "      <th>1064525</th>\n",
       "      <td>0.308253</td>\n",
       "      <td>0.307</td>\n",
       "    </tr>\n",
       "  </tbody>\n",
       "</table>\n",
       "<p>1064526 rows × 2 columns</p>\n",
       "</div>"
      ],
      "text/plain": [
       "         Train Predictions  Actuals\n",
       "0                 0.108478    0.091\n",
       "1                 0.095032    0.156\n",
       "2                 0.148896    0.377\n",
       "3                 0.296302    0.089\n",
       "4                 0.082362    0.096\n",
       "...                    ...      ...\n",
       "1064521           0.043294    0.024\n",
       "1064522           0.030463    0.039\n",
       "1064523           0.043310    0.039\n",
       "1064524           0.040735    0.410\n",
       "1064525           0.308253    0.307\n",
       "\n",
       "[1064526 rows x 2 columns]"
      ]
     },
     "execution_count": 25,
     "metadata": {},
     "output_type": "execute_result"
    }
   ],
   "source": [
    "train_predictions = model1.predict(X_train1).flatten()\n",
    "train_results = pd.DataFrame(data={'Train Predictions': train_predictions, 'Actuals': y_train1})\n",
    "train_results"
   ]
  },
  {
   "cell_type": "code",
   "execution_count": 26,
   "metadata": {},
   "outputs": [
    {
     "data": {
      "text/plain": [
       "[<matplotlib.lines.Line2D at 0x7f3ee84705e0>]"
      ]
     },
     "execution_count": 26,
     "metadata": {},
     "output_type": "execute_result"
    },
    {
     "data": {
      "image/png": "[encoded data removed]",
      "text/plain": [
       "<Figure size 640x480 with 1 Axes>"
      ]
     },
     "metadata": {},
     "output_type": "display_data"
    }
   ],
   "source": [
    "import matplotlib.pyplot as plt\n",
    "plt.plot(train_results['Train Predictions'][50:100])\n",
    "plt.plot(train_results['Actuals'][50:100])"
   ]
  },
  {
   "cell_type": "code",
   "execution_count": 27,
   "metadata": {},
   "outputs": [
    {
     "name": "stdout",
     "output_type": "stream",
     "text": [
      "4753/4753 [==============================] - 3s 595us/step\n"
     ]
    },
    {
     "data": {
      "text/html": [
       "<div>\n",
       "<style scoped>\n",
       "    .dataframe tbody tr th:only-of-type {\n",
       "        vertical-align: middle;\n",
       "    }\n",
       "\n",
       "    .dataframe tbody tr th {\n",
       "        vertical-align: top;\n",
       "    }\n",
       "\n",
       "    .dataframe thead th {\n",
       "        text-align: right;\n",
       "    }\n",
       "</style>\n",
       "<table border=\"1\" class=\"dataframe\">\n",
       "  <thead>\n",
       "    <tr style=\"text-align: right;\">\n",
       "      <th></th>\n",
       "      <th>Val Predictions</th>\n",
       "      <th>Actuals</th>\n",
       "    </tr>\n",
       "  </thead>\n",
       "  <tbody>\n",
       "    <tr>\n",
       "      <th>0</th>\n",
       "      <td>0.218427</td>\n",
       "      <td>0.202</td>\n",
       "    </tr>\n",
       "    <tr>\n",
       "      <th>1</th>\n",
       "      <td>0.193453</td>\n",
       "      <td>0.359</td>\n",
       "    </tr>\n",
       "    <tr>\n",
       "      <th>2</th>\n",
       "      <td>0.294769</td>\n",
       "      <td>0.354</td>\n",
       "    </tr>\n",
       "    <tr>\n",
       "      <th>3</th>\n",
       "      <td>0.291375</td>\n",
       "      <td>0.515</td>\n",
       "    </tr>\n",
       "    <tr>\n",
       "      <th>4</th>\n",
       "      <td>0.407206</td>\n",
       "      <td>0.553</td>\n",
       "    </tr>\n",
       "    <tr>\n",
       "      <th>...</th>\n",
       "      <td>...</td>\n",
       "      <td>...</td>\n",
       "    </tr>\n",
       "    <tr>\n",
       "      <th>152071</th>\n",
       "      <td>0.053807</td>\n",
       "      <td>0.045</td>\n",
       "    </tr>\n",
       "    <tr>\n",
       "      <th>152072</th>\n",
       "      <td>0.056058</td>\n",
       "      <td>0.053</td>\n",
       "    </tr>\n",
       "    <tr>\n",
       "      <th>152073</th>\n",
       "      <td>0.059940</td>\n",
       "      <td>0.053</td>\n",
       "    </tr>\n",
       "    <tr>\n",
       "      <th>152074</th>\n",
       "      <td>0.057889</td>\n",
       "      <td>0.084</td>\n",
       "    </tr>\n",
       "    <tr>\n",
       "      <th>152075</th>\n",
       "      <td>0.082932</td>\n",
       "      <td>0.004</td>\n",
       "    </tr>\n",
       "  </tbody>\n",
       "</table>\n",
       "<p>152076 rows × 2 columns</p>\n",
       "</div>"
      ],
      "text/plain": [
       "        Val Predictions  Actuals\n",
       "0              0.218427    0.202\n",
       "1              0.193453    0.359\n",
       "2              0.294769    0.354\n",
       "3              0.291375    0.515\n",
       "4              0.407206    0.553\n",
       "...                 ...      ...\n",
       "152071         0.053807    0.045\n",
       "152072         0.056058    0.053\n",
       "152073         0.059940    0.053\n",
       "152074         0.057889    0.084\n",
       "152075         0.082932    0.004\n",
       "\n",
       "[152076 rows x 2 columns]"
      ]
     },
     "execution_count": 27,
     "metadata": {},
     "output_type": "execute_result"
    }
   ],
   "source": [
    "val_predictions = model1.predict(X_val1).flatten()\n",
    "val_results = pd.DataFrame(data={'Val Predictions': val_predictions, 'Actuals': y_val1})\n",
    "val_results"
   ]
  },
  {
   "cell_type": "code",
   "execution_count": 28,
   "metadata": {},
   "outputs": [
    {
     "data": {
      "text/plain": [
       "[<matplotlib.lines.Line2D at 0x7f3ee827ba30>]"
      ]
     },
     "execution_count": 28,
     "metadata": {},
     "output_type": "execute_result"
    },
    {
     "data": {
      "image/png": "[encoded data removed]",
      "text/plain": [
       "<Figure size 640x480 with 1 Axes>"
      ]
     },
     "metadata": {},
     "output_type": "display_data"
    }
   ],
   "source": [
    "plt.plot(val_results['Val Predictions'][:100])\n",
    "plt.plot(val_results['Actuals'][:100])"
   ]
  },
  {
   "cell_type": "code",
   "execution_count": 29,
   "metadata": {},
   "outputs": [
    {
     "name": "stdout",
     "output_type": "stream",
     "text": [
      "9505/9505 [==============================] - 5s 576us/step\n"
     ]
    },
    {
     "data": {
      "text/html": [
       "<div>\n",
       "<style scoped>\n",
       "    .dataframe tbody tr th:only-of-type {\n",
       "        vertical-align: middle;\n",
       "    }\n",
       "\n",
       "    .dataframe tbody tr th {\n",
       "        vertical-align: top;\n",
       "    }\n",
       "\n",
       "    .dataframe thead th {\n",
       "        text-align: right;\n",
       "    }\n",
       "</style>\n",
       "<table border=\"1\" class=\"dataframe\">\n",
       "  <thead>\n",
       "    <tr style=\"text-align: right;\">\n",
       "      <th></th>\n",
       "      <th>Test Predictions</th>\n",
       "      <th>Actuals</th>\n",
       "    </tr>\n",
       "  </thead>\n",
       "  <tbody>\n",
       "    <tr>\n",
       "      <th>0</th>\n",
       "      <td>0.015350</td>\n",
       "      <td>0.004</td>\n",
       "    </tr>\n",
       "    <tr>\n",
       "      <th>1</th>\n",
       "      <td>0.022203</td>\n",
       "      <td>0.004</td>\n",
       "    </tr>\n",
       "    <tr>\n",
       "      <th>2</th>\n",
       "      <td>0.013397</td>\n",
       "      <td>0.004</td>\n",
       "    </tr>\n",
       "    <tr>\n",
       "      <th>3</th>\n",
       "      <td>0.012684</td>\n",
       "      <td>0.004</td>\n",
       "    </tr>\n",
       "    <tr>\n",
       "      <th>4</th>\n",
       "      <td>0.010283</td>\n",
       "      <td>0.004</td>\n",
       "    </tr>\n",
       "    <tr>\n",
       "      <th>...</th>\n",
       "      <td>...</td>\n",
       "      <td>...</td>\n",
       "    </tr>\n",
       "    <tr>\n",
       "      <th>304145</th>\n",
       "      <td>0.006113</td>\n",
       "      <td>0.003</td>\n",
       "    </tr>\n",
       "    <tr>\n",
       "      <th>304146</th>\n",
       "      <td>0.005428</td>\n",
       "      <td>0.004</td>\n",
       "    </tr>\n",
       "    <tr>\n",
       "      <th>304147</th>\n",
       "      <td>0.006326</td>\n",
       "      <td>0.003</td>\n",
       "    </tr>\n",
       "    <tr>\n",
       "      <th>304148</th>\n",
       "      <td>0.005362</td>\n",
       "      <td>0.004</td>\n",
       "    </tr>\n",
       "    <tr>\n",
       "      <th>304149</th>\n",
       "      <td>0.006368</td>\n",
       "      <td>0.004</td>\n",
       "    </tr>\n",
       "  </tbody>\n",
       "</table>\n",
       "<p>304150 rows × 2 columns</p>\n",
       "</div>"
      ],
      "text/plain": [
       "        Test Predictions  Actuals\n",
       "0               0.015350    0.004\n",
       "1               0.022203    0.004\n",
       "2               0.013397    0.004\n",
       "3               0.012684    0.004\n",
       "4               0.010283    0.004\n",
       "...                  ...      ...\n",
       "304145          0.006113    0.003\n",
       "304146          0.005428    0.004\n",
       "304147          0.006326    0.003\n",
       "304148          0.005362    0.004\n",
       "304149          0.006368    0.004\n",
       "\n",
       "[304150 rows x 2 columns]"
      ]
     },
     "execution_count": 29,
     "metadata": {},
     "output_type": "execute_result"
    }
   ],
   "source": [
    "test_predictions = model1.predict(X_test1).flatten()\n",
    "test_results = pd.DataFrame(data={'Test Predictions':test_predictions, 'Actuals':y_test1})\n",
    "test_results"
   ]
  },
  {
   "cell_type": "code",
   "execution_count": 30,
   "metadata": {},
   "outputs": [
    {
     "data": {
      "text/plain": [
       "[<matplotlib.lines.Line2D at 0x7f3ee8061340>]"
      ]
     },
     "execution_count": 30,
     "metadata": {},
     "output_type": "execute_result"
    },
    {
     "data": {
      "image/png": "[encoded data removed]",
      "text/plain": [
       "<Figure size 640x480 with 1 Axes>"
      ]
     },
     "metadata": {},
     "output_type": "display_data"
    }
   ],
   "source": [
    "plt.plot(test_results['Test Predictions'][:100])\n",
    "plt.plot(test_results['Actuals'][:100])"
   ]
  },
  {
   "cell_type": "code",
   "execution_count": null,
   "metadata": {},
   "outputs": [],
   "source": [
    "# mostrar erro (diferencça entre real e simulado)"
   ]
  },
  {
   "cell_type": "code",
   "execution_count": 31,
   "metadata": {},
   "outputs": [
    {
     "data": {
      "text/plain": [
       "[<matplotlib.lines.Line2D at 0x7f3ee834cac0>]"
      ]
     },
     "execution_count": 31,
     "metadata": {},
     "output_type": "execute_result"
    },
    {
     "data": {
      "image/png": "[encoded data removed]",
      "text/plain": [
       "<Figure size 640x480 with 1 Axes>"
      ]
     },
     "metadata": {},
     "output_type": "display_data"
    }
   ],
   "source": [
    "diff = test_results['Test Predictions'] - test_results['Actuals']\n",
    "#plt.plot(range(test_results.shape[0]), diff)\n",
    "plt.plot(range(100), diff[:100])"
   ]
  },
  {
   "cell_type": "code",
   "execution_count": 32,
   "metadata": {},
   "outputs": [],
   "source": [
    "def truncate_metric(metric):\n",
    "    m = math.trunc(10000 * metric) / 10000\n",
    "    return m "
   ]
  },
  {
   "cell_type": "code",
   "execution_count": 33,
   "metadata": {},
   "outputs": [],
   "source": [
    "def performance_metrics(preds: np.array, actuals: np.array):\n",
    "\n",
    "    # calculate performance metrics\n",
    "    \n",
    "    mse = truncate_metric(mean_squared_error(actuals, preds))\n",
    "    wape = truncate_metric(np.sum(np.abs(preds - actuals)) / np.sum(np.abs(actuals))) * 100\n",
    "    r2 = truncate_metric(r2_score(actuals, preds))\n",
    "    \n",
    "    # print performance metrics\n",
    "    print('MSE: %.4f' % mse)\n",
    "    print('WAPE: %.2f' % wape)\n",
    "    print('R2: %.4f' % r2)\n",
    "    return mse, wape, r2"
   ]
  },
  {
   "cell_type": "code",
   "execution_count": 34,
   "metadata": {},
   "outputs": [
    {
     "name": "stdout",
     "output_type": "stream",
     "text": [
      "MSE: 0.0054\n",
      "WAPE: 39.09\n",
      "R2: 0.6438\n"
     ]
    },
    {
     "data": {
      "text/plain": [
       "(0.0054, 39.09, 0.6438)"
      ]
     },
     "execution_count": 34,
     "metadata": {},
     "output_type": "execute_result"
    }
   ],
   "source": [
    "performance_metrics(train_results['Train Predictions'], train_results['Actuals'])"
   ]
  },
  {
   "cell_type": "code",
   "execution_count": 35,
   "metadata": {},
   "outputs": [
    {
     "name": "stdout",
     "output_type": "stream",
     "text": [
      "MSE: 0.0047\n",
      "WAPE: 28.47\n",
      "R2: 0.7006\n"
     ]
    },
    {
     "data": {
      "text/plain": [
       "(0.0047, 28.470000000000002, 0.7006)"
      ]
     },
     "execution_count": 35,
     "metadata": {},
     "output_type": "execute_result"
    }
   ],
   "source": [
    "performance_metrics(val_results['Val Predictions'], val_results['Actuals'])"
   ]
  },
  {
   "cell_type": "code",
   "execution_count": 36,
   "metadata": {},
   "outputs": [
    {
     "name": "stdout",
     "output_type": "stream",
     "text": [
      "MSE: 0.0038\n",
      "WAPE: 43.70\n",
      "R2: 0.5357\n"
     ]
    },
    {
     "data": {
      "text/plain": [
       "(0.0038, 43.7, 0.5357)"
      ]
     },
     "execution_count": 36,
     "metadata": {},
     "output_type": "execute_result"
    }
   ],
   "source": [
    "performance_metrics(test_results['Test Predictions'], test_results['Actuals'])"
   ]
  },
  {
   "cell_type": "code",
   "execution_count": null,
   "metadata": {},
   "outputs": [],
   "source": []
  }
 ],
 "metadata": {
  "kernelspec": {
   "display_name": "Python 3.9.16 ('tf')",
   "language": "python",
   "name": "python3"
  },
  "language_info": {
   "codemirror_mode": {
    "name": "ipython",
    "version": 3
   },
   "file_extension": ".py",
   "mimetype": "text/x-python",
   "name": "python",
   "nbconvert_exporter": "python",
   "pygments_lexer": "ipython3",
   "version": "3.9.16"
  },
  "orig_nbformat": 4,
  "vscode": {
   "interpreter": {
    "hash": "c36f783f2fbcd040b4c268b1bc950c018702f56173f77f29ec9f8f437a977ff7"
   }
  }
 },
 "nbformat": 4,
 "nbformat_minor": 2
}
