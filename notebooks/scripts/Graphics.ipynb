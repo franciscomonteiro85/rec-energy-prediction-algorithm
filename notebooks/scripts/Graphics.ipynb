{
 "cells": [
  {
   "cell_type": "code",
   "execution_count": 1,
   "id": "2368fc98",
   "metadata": {},
   "outputs": [],
   "source": [
    "import numpy as np\n",
    "import matplotlib.pyplot as plt\n",
    "import pandas as pd\n",
    "import re\n",
    "from graphic_utils import get_cluster_metrics, get_noml_metrics, get_ml_metrics, show_cluster_graphic, show_graphic, show_metric_per_cluster"
   ]
  },
  {
   "cell_type": "code",
   "execution_count": 86,
   "id": "4140143d",
   "metadata": {},
   "outputs": [
    {
     "data": {
      "text/plain": [
       "['Linear Regression\\n',\n",
       " 'Total Averaged RMSE: 0.441\\n',\n",
       " 'Total Averaged WAPE: 30.664\\n',\n",
       " 'Total Averaged R2: 0.793\\n',\n",
       " 'Total Averaged RMSE: 0.631\\n',\n",
       " 'Total Averaged WAPE: 50.245\\n',\n",
       " 'Total Averaged R2: 0.592\\n',\n",
       " 'Total Averaged RMSE: 0.477\\n',\n",
       " 'Total Averaged WAPE: 30.854\\n',\n",
       " 'Total Averaged R2: 0.76\\n',\n",
       " 'Total Averaged RMSE: 0.671\\n',\n",
       " 'Total Averaged WAPE: 52.042\\n',\n",
       " 'Total Averaged R2: 0.535\\n',\n",
       " 'XGBoost\\n',\n",
       " 'Total Averaged RMSE: 0.532\\n',\n",
       " 'Total Averaged WAPE: 30.492\\n',\n",
       " 'Total Averaged R2: 0.745\\n',\n",
       " 'Total Averaged RMSE: 0.703\\n',\n",
       " 'Total Averaged WAPE: 52.217\\n',\n",
       " 'Total Averaged R2: 0.536\\n',\n",
       " 'Total Averaged RMSE: 0.397\\n',\n",
       " 'Total Averaged WAPE: 20.857\\n',\n",
       " 'Total Averaged R2: 0.851\\n',\n",
       " 'Total Averaged RMSE: 0.417\\n',\n",
       " 'Total Averaged WAPE: 25.347\\n',\n",
       " 'Total Averaged R2: 0.832\\n',\n",
       " 'Random Forest\\n',\n",
       " 'Total Averaged RMSE: 0.557\\n',\n",
       " 'Total Averaged WAPE: 30.276\\n',\n",
       " 'Total Averaged R2: 0.719\\n',\n",
       " 'Total Averaged RMSE: 0.731\\n',\n",
       " 'Total Averaged WAPE: 52.786\\n',\n",
       " 'Total Averaged R2: 0.498\\n',\n",
       " 'Total Averaged RMSE: 0.47\\n',\n",
       " 'Total Averaged WAPE: 26.938\\n',\n",
       " 'Total Averaged R2: 0.791\\n',\n",
       " 'Total Averaged RMSE: 0.595\\n',\n",
       " 'Total Averaged WAPE: 41.236\\n',\n",
       " 'Total Averaged R2: 0.663\\n']"
      ]
     },
     "execution_count": 86,
     "metadata": {},
     "output_type": "execute_result"
    }
   ],
   "source": [
    "with open('../../gpu_logs/new_porto.txt') as f:\n",
    "    l = f.readlines()\n",
    "    lines = [s for s in l if re.search(r'\\w+', s)]\n",
    "lines = lines[-39:]\n",
    "lines"
   ]
  },
  {
   "cell_type": "code",
   "execution_count": 87,
   "id": "ea68db00",
   "metadata": {},
   "outputs": [
    {
     "data": {
      "text/plain": [
       "['Baseline\\n',\n",
       " 'RMSE: 0.4714\\n',\n",
       " 'WAPE: 0.3078\\n',\n",
       " 'R2: 0.7108\\n',\n",
       " 'Baseline - Previous Day\\n',\n",
       " 'Baseline\\n',\n",
       " 'RMSE: 0.805\\n',\n",
       " 'WAPE: 0.6385\\n']"
      ]
     },
     "execution_count": 87,
     "metadata": {},
     "output_type": "execute_result"
    }
   ],
   "source": [
    "with open('../../gpu_logs/no_ml_porto.txt') as f:\n",
    "    l = f.readlines()\n",
    "    lines_noml = [s for s in l if re.search(r'\\w+', s)]\n",
    "lines_noml = lines_noml[1:9]\n",
    "lines_noml"
   ]
  },
  {
   "cell_type": "code",
   "execution_count": 88,
   "id": "d99e6ea7",
   "metadata": {},
   "outputs": [],
   "source": [
    "def get_metrics_from_lines(lines):\n",
    "    model_names = [lines[0][:-1],lines[13][:-1],lines[26][:-1]]\n",
    "    rmse = [lines[1].split(\":\")[1][:-1],lines[14].split(\":\")[1][:-1],lines[27].split(\":\")[1][:-1]]\n",
    "    wape = [lines[2].split(\":\")[1][:-1],lines[15].split(\":\")[1][:-1],lines[28].split(\":\")[1][:-1]]\n",
    "    r2 = [lines[3].split(\":\")[1][:-1],lines[16].split(\":\")[1][:-1],lines[29].split(\":\")[1][:-1]]\n",
    "    rmse = list(map(float, rmse))\n",
    "    wape = list(map(float, wape))\n",
    "    wape = list(map(lambda x: x/100, wape))\n",
    "    r2 = list(map(float, r2))\n",
    "    return model_names,rmse,wape,r2"
   ]
  },
  {
   "cell_type": "code",
   "execution_count": 97,
   "id": "9de45eab",
   "metadata": {},
   "outputs": [],
   "source": [
    "def get_metrics_from_lines(lines):\n",
    "    model_names = [lines[0][:-1],lines[13][:-1],lines[26][:-1]]\n",
    "    rmse = [lines[4].split(\":\")[1][:-1],lines[17].split(\":\")[1][:-1],lines[30].split(\":\")[1][:-1]]\n",
    "    wape = [lines[5].split(\":\")[1][:-1],lines[18].split(\":\")[1][:-1],lines[31].split(\":\")[1][:-1]]\n",
    "    r2 = [lines[6].split(\":\")[1][:-1],lines[19].split(\":\")[1][:-1],lines[32].split(\":\")[1][:-1]]\n",
    "    rmse = list(map(float, rmse))\n",
    "    wape = list(map(float, wape))\n",
    "    wape = list(map(lambda x: x/100, wape))\n",
    "    r2 = list(map(float, r2))\n",
    "    return model_names,rmse,wape,r2"
   ]
  },
  {
   "cell_type": "code",
   "execution_count": 100,
   "id": "67b96489",
   "metadata": {},
   "outputs": [],
   "source": [
    "def get_metrics_from_lines(lines):\n",
    "    model_names = [lines[0][:-1],lines[13][:-1],lines[26][:-1]]\n",
    "    rmse = [lines[7].split(\":\")[1][:-1],lines[20].split(\":\")[1][:-1],lines[33].split(\":\")[1][:-1]]\n",
    "    wape = [lines[8].split(\":\")[1][:-1],lines[21].split(\":\")[1][:-1],lines[34].split(\":\")[1][:-1]]\n",
    "    r2 = [lines[9].split(\":\")[1][:-1],lines[22].split(\":\")[1][:-1],lines[35].split(\":\")[1][:-1]]\n",
    "    rmse = list(map(float, rmse))\n",
    "    wape = list(map(float, wape))\n",
    "    wape = list(map(lambda x: x/100, wape))\n",
    "    r2 = list(map(float, r2))\n",
    "    return model_names,rmse,wape,r2"
   ]
  },
  {
   "cell_type": "code",
   "execution_count": 103,
   "id": "b1d41c16",
   "metadata": {},
   "outputs": [],
   "source": [
    "def get_metrics_from_lines(lines):\n",
    "    model_names = [lines[0][:-1],lines[13][:-1],lines[26][:-1]]\n",
    "    rmse = [lines[10].split(\":\")[1][:-1],lines[23].split(\":\")[1][:-1],lines[36].split(\":\")[1][:-1]]\n",
    "    wape = [lines[11].split(\":\")[1][:-1],lines[24].split(\":\")[1][:-1],lines[37].split(\":\")[1][:-1]]\n",
    "    r2 = [lines[12].split(\":\")[1][:-1],lines[25].split(\":\")[1][:-1],lines[38].split(\":\")[1][:-1]]\n",
    "    rmse = list(map(float, rmse))\n",
    "    wape = list(map(float, wape))\n",
    "    wape = list(map(lambda x: x/100, wape))\n",
    "    r2 = list(map(float, r2))\n",
    "    return model_names,rmse,wape,r2"
   ]
  },
  {
   "cell_type": "code",
   "execution_count": 104,
   "id": "ee492ec9",
   "metadata": {},
   "outputs": [],
   "source": [
    "def show_graphic_here(lines, filename):\n",
    "    model_names, rmse, wape, r2 = get_metrics_from_lines(lines)\n",
    "    no_ml, rmse_no, wape_no, r2_no = get_noml_metrics(lines_noml)\n",
    "    model_names.insert(0,'Baseline')\n",
    "    rmse.insert(0,rmse_no[0])\n",
    "    wape.insert(0,wape_no[0])\n",
    "    r2.insert(0,r2_no[0])\n",
    "    X_names = ['RMSE', 'WAPE', 'R2']\n",
    "    X_axis = np.arange(len(X_names))\n",
    "    pos = 0\n",
    "    bar_width = 0.15\n",
    "    fig, ax = plt.subplots(figsize=(6,4))\n",
    "\n",
    "    for i in range(len(model_names)):\n",
    "        bar = (rmse[i], wape[i], r2[i])\n",
    "        b = ax.bar(X_axis + pos, bar, bar_width-0.01, label=model_names[i])\n",
    "        pos = pos + bar_width\n",
    "        ax.bar_label(b, fontsize=6, fmt='%.3f')\n",
    "        \n",
    "    ax.set_ylim(0,1)\n",
    "    ax.set_xticks(X_axis+bar_width+bar_width/2,X_names)\n",
    "    #ax.set_xlabel(\"Metrics\")\n",
    "    ax.set_ylabel(\"Performance\")\n",
    "    #ax.set_title(title)\n",
    "    ax.legend(loc='upper center')\n",
    "    plt.savefig(filename)\n",
    "    plt.show()"
   ]
  },
  {
   "cell_type": "code",
   "execution_count": 105,
   "id": "d18d318f",
   "metadata": {},
   "outputs": [
    {
     "data": {
      "image/png": "[encoded data removed]",
      "text/plain": [
       "<Figure size 600x400 with 1 Axes>"
      ]
     },
     "metadata": {},
     "output_type": "display_data"
    }
   ],
   "source": [
    "show_graphic_here(lines, \"../../images/main/_.png\")"
   ]
  },
  {
   "cell_type": "code",
   "execution_count": null,
   "id": "2ae127e9",
   "metadata": {},
   "outputs": [],
   "source": [
    "model_names, mse, wape, r2, number_clust = get_cluster_metrics(lines)"
   ]
  },
  {
   "cell_type": "code",
   "execution_count": null,
   "id": "4b39c575",
   "metadata": {},
   "outputs": [],
   "source": [
    "for j in range(len(set(model_names))):\n",
    "    for i in range(0,3):\n",
    "        if i == 0:\n",
    "            show_metric_per_cluster(mse[j::3], \"MSE\", number_clust, \"MSE per Number of Clusters in {}\".format(model_names[j]), \"../../images/clusters/_loureiro_mse_{}\".format(model_names[j]))\n",
    "        elif i == 1:\n",
    "            show_metric_per_cluster(wape[j::3], \"WAPE\", number_clust, \"WAPE per Number of Clusters in {}\".format(model_names[j]), \"../../images/clusters/_loureiro_wape_{}\".format(model_names[j]))\n",
    "        else:\n",
    "            show_metric_per_cluster(r2[j::3], \"R2 Score\", number_clust, \"R2 per Number of Clusters in {}\".format(model_names[j]), \"../../images/clusters/_loureiro_r2_{}\".format(model_names[j]))"
   ]
  },
  {
   "cell_type": "code",
   "execution_count": null,
   "id": "6e4694d7",
   "metadata": {},
   "outputs": [],
   "source": [
    "with open('gpu_logs/no_ml.txt') as f:\n",
    "    lines_noml = f.readlines()\n",
    "lines_noml = lines_noml[1:9]\n",
    "lines_noml"
   ]
  },
  {
   "cell_type": "code",
   "execution_count": null,
   "id": "9cbf6c47",
   "metadata": {},
   "outputs": [],
   "source": [
    "with open('gpu_logs/porto_best_params_selected_features.txt') as f:\n",
    "    lines = f.readlines()\n",
    "lines = lines[-14:]\n",
    "lines"
   ]
  },
  {
   "cell_type": "code",
   "execution_count": null,
   "id": "5cd1760c",
   "metadata": {
    "scrolled": false
   },
   "outputs": [],
   "source": [
    "show_graphic(lines, lines_noml, \"Energy Prediction comparison with final selected features and XGBoost Hyper Tuned (Porto)\", \"images/porto_xgboost_hyp.png\")"
   ]
  },
  {
   "cell_type": "code",
   "execution_count": null,
   "id": "59ec1e8a",
   "metadata": {},
   "outputs": [],
   "source": []
  }
 ],
 "metadata": {
  "kernelspec": {
   "display_name": "Python 3.8.16 ('rapids-23.02')",
   "language": "python",
   "name": "python3"
  },
  "language_info": {
   "codemirror_mode": {
    "name": "ipython",
    "version": 3
   },
   "file_extension": ".py",
   "mimetype": "text/x-python",
   "name": "python",
   "nbconvert_exporter": "python",
   "pygments_lexer": "ipython3",
   "version": "3.8.16"
  },
  "vscode": {
   "interpreter": {
    "hash": "b68dca5a889d9fa7a36c76420bb99c5b147d98e0e386a0426daa5cd8f8566c01"
   }
  }
 },
 "nbformat": 4,
 "nbformat_minor": 5
}
