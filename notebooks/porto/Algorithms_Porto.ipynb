{
 "cells": [
  {
   "cell_type": "code",
   "execution_count": 1,
   "id": "58081526",
   "metadata": {},
   "outputs": [],
   "source": [
    "import warnings\n",
    "warnings.filterwarnings('ignore',category=FutureWarning)\n",
    "warnings.filterwarnings('ignore',category=DeprecationWarning)\n",
    "import sys\n",
    "sys.path.append('..')\n",
    "import numpy as np\n",
    "import pandas as pd\n",
    "import matplotlib.pyplot as plt\n",
    "from sklearn.model_selection import GridSearchCV\n",
    "from sklearn.linear_model import LinearRegression\n",
    "from cuml.ensemble import RandomForestRegressor as cuRF\n",
    "from sklearn.ensemble import RandomForestRegressor as RF\n",
    "import cudf\n",
    "import cupy\n",
    "import xgboost as xgb\n",
    "from sklearn.decomposition import PCA\n",
    "from sklearn.preprocessing import StandardScaler\n",
    "from scripts.function_utils import past_timesteps, test_leave_house_out, total_averaged_metrics, add_energy_variation"
   ]
  },
  {
   "attachments": {},
   "cell_type": "markdown",
   "id": "aa402221",
   "metadata": {},
   "source": [
    "#### Output file"
   ]
  },
  {
   "cell_type": "code",
   "execution_count": 2,
   "id": "70c13e8f",
   "metadata": {},
   "outputs": [],
   "source": [
    "sourceFile = open(\"../../gpu_logs/not_hyp.txt\", 'w')"
   ]
  },
  {
   "attachments": {},
   "cell_type": "markdown",
   "id": "e8907202",
   "metadata": {},
   "source": [
    "### Load the data"
   ]
  },
  {
   "cell_type": "code",
   "execution_count": 3,
   "id": "f6963e23",
   "metadata": {},
   "outputs": [
    {
     "data": {
      "text/html": [
       "<div>\n",
       "<style scoped>\n",
       "    .dataframe tbody tr th:only-of-type {\n",
       "        vertical-align: middle;\n",
       "    }\n",
       "\n",
       "    .dataframe tbody tr th {\n",
       "        vertical-align: top;\n",
       "    }\n",
       "\n",
       "    .dataframe thead th {\n",
       "        text-align: right;\n",
       "    }\n",
       "</style>\n",
       "<table border=\"1\" class=\"dataframe\">\n",
       "  <thead>\n",
       "    <tr style=\"text-align: right;\">\n",
       "      <th></th>\n",
       "      <th>Time</th>\n",
       "      <th>Location</th>\n",
       "      <th>Energy</th>\n",
       "    </tr>\n",
       "  </thead>\n",
       "  <tbody>\n",
       "    <tr>\n",
       "      <th>0</th>\n",
       "      <td>2019-01-01 00:00:00</td>\n",
       "      <td>Meter0</td>\n",
       "      <td>2.964000</td>\n",
       "    </tr>\n",
       "    <tr>\n",
       "      <th>1</th>\n",
       "      <td>2019-01-01 00:15:00</td>\n",
       "      <td>Meter0</td>\n",
       "      <td>2.584000</td>\n",
       "    </tr>\n",
       "    <tr>\n",
       "      <th>2</th>\n",
       "      <td>2019-01-01 00:30:00</td>\n",
       "      <td>Meter0</td>\n",
       "      <td>3.071000</td>\n",
       "    </tr>\n",
       "    <tr>\n",
       "      <th>3</th>\n",
       "      <td>2019-01-01 00:45:00</td>\n",
       "      <td>Meter0</td>\n",
       "      <td>2.694000</td>\n",
       "    </tr>\n",
       "    <tr>\n",
       "      <th>4</th>\n",
       "      <td>2019-01-01 01:00:00</td>\n",
       "      <td>Meter0</td>\n",
       "      <td>2.569000</td>\n",
       "    </tr>\n",
       "    <tr>\n",
       "      <th>...</th>\n",
       "      <td>...</td>\n",
       "      <td>...</td>\n",
       "      <td>...</td>\n",
       "    </tr>\n",
       "    <tr>\n",
       "      <th>1791931</th>\n",
       "      <td>2020-01-01 22:45:00</td>\n",
       "      <td>Meter50</td>\n",
       "      <td>0.753222</td>\n",
       "    </tr>\n",
       "    <tr>\n",
       "      <th>1791932</th>\n",
       "      <td>2020-01-01 23:00:00</td>\n",
       "      <td>Meter50</td>\n",
       "      <td>0.716855</td>\n",
       "    </tr>\n",
       "    <tr>\n",
       "      <th>1791933</th>\n",
       "      <td>2020-01-01 23:15:00</td>\n",
       "      <td>Meter50</td>\n",
       "      <td>0.735802</td>\n",
       "    </tr>\n",
       "    <tr>\n",
       "      <th>1791934</th>\n",
       "      <td>2020-01-01 23:30:00</td>\n",
       "      <td>Meter50</td>\n",
       "      <td>0.485237</td>\n",
       "    </tr>\n",
       "    <tr>\n",
       "      <th>1791935</th>\n",
       "      <td>2020-01-01 23:45:00</td>\n",
       "      <td>Meter50</td>\n",
       "      <td>0.394216</td>\n",
       "    </tr>\n",
       "  </tbody>\n",
       "</table>\n",
       "<p>1791936 rows × 3 columns</p>\n",
       "</div>"
      ],
      "text/plain": [
       "                       Time Location    Energy\n",
       "0       2019-01-01 00:00:00   Meter0  2.964000\n",
       "1       2019-01-01 00:15:00   Meter0  2.584000\n",
       "2       2019-01-01 00:30:00   Meter0  3.071000\n",
       "3       2019-01-01 00:45:00   Meter0  2.694000\n",
       "4       2019-01-01 01:00:00   Meter0  2.569000\n",
       "...                     ...      ...       ...\n",
       "1791931 2020-01-01 22:45:00  Meter50  0.753222\n",
       "1791932 2020-01-01 23:00:00  Meter50  0.716855\n",
       "1791933 2020-01-01 23:15:00  Meter50  0.735802\n",
       "1791934 2020-01-01 23:30:00  Meter50  0.485237\n",
       "1791935 2020-01-01 23:45:00  Meter50  0.394216\n",
       "\n",
       "[1791936 rows x 3 columns]"
      ]
     },
     "execution_count": 3,
     "metadata": {},
     "output_type": "execute_result"
    }
   ],
   "source": [
    "df = pd.read_csv(\"../../data/porto.csv\", decimal=\",\", index_col=[0])\n",
    "df['Energy'] = df['Energy'].astype(np.float32)\n",
    "df = df.iloc[:, [0, 2, 1]].reset_index(drop=True)\n",
    "number_of_houses = df.Location.nunique()\n",
    "df['Time'] = pd.to_datetime(df['Time'])\n",
    "df.reset_index(drop=True, inplace=True)\n",
    "df.Location = \"Meter\" + df['Location'].astype(str)\n",
    "df"
   ]
  },
  {
   "attachments": {},
   "cell_type": "markdown",
   "id": "0f5ba7c5",
   "metadata": {},
   "source": [
    "## Save Dataframe with past timesteps"
   ]
  },
  {
   "cell_type": "code",
   "execution_count": null,
   "id": "fd9b27b9",
   "metadata": {},
   "outputs": [],
   "source": [
    "number_of_timesteps = 672"
   ]
  },
  {
   "cell_type": "code",
   "execution_count": null,
   "id": "ddb42d91",
   "metadata": {},
   "outputs": [],
   "source": [
    "df_new = past_timesteps(df, number_of_timesteps)\n",
    "#df_new"
   ]
  },
  {
   "cell_type": "code",
   "execution_count": null,
   "id": "9741395b",
   "metadata": {},
   "outputs": [],
   "source": [
    "df_new['DayOfWeek'] = df_new['Time'].dt.dayofweek\n",
    "df_new['Weekend'] = df_new['Time'].dt.dayofweek.isin([5, 6]).astype(int)\n",
    "df_new['Hour'] = df_new['Time'].dt.hour\n",
    "df_new"
   ]
  },
  {
   "cell_type": "code",
   "execution_count": null,
   "id": "99793839",
   "metadata": {},
   "outputs": [],
   "source": [
    "X = df_new.drop([\"Time\", \"Location\", \"Energy\"], axis=1)\n",
    "X"
   ]
  },
  {
   "cell_type": "code",
   "execution_count": null,
   "id": "20cabae2",
   "metadata": {},
   "outputs": [],
   "source": [
    "scaler = StandardScaler()\n",
    "scaler.fit(X)\n",
    "df_standardized = pd.DataFrame(scaler.transform(X), columns=X.columns)\n",
    "df_standardized"
   ]
  },
  {
   "cell_type": "code",
   "execution_count": null,
   "id": "107f1935",
   "metadata": {},
   "outputs": [],
   "source": [
    "pca = PCA(n_components=20)\n",
    "pca.fit(df_standardized)\n",
    "df_pca = pd.DataFrame(pca.transform(df_standardized))\n",
    "print(pca.explained_variance_ratio_)\n",
    "df_pca"
   ]
  },
  {
   "cell_type": "code",
   "execution_count": null,
   "id": "fb9bbebd",
   "metadata": {},
   "outputs": [],
   "source": [
    "not_features = pd.DataFrame(pd.concat([df_new['Time'], df_new[\"Location\"], df_new[\"Energy\"]], axis=1))\n",
    "df_pca = pd.concat([not_features, df_pca], axis=1)\n",
    "df_pca"
   ]
  },
  {
   "cell_type": "code",
   "execution_count": null,
   "id": "9322b084",
   "metadata": {},
   "outputs": [],
   "source": [
    "# df_selected = df_new[[\"Time\",\"Location\",\"lag_1\",\"lag_2\",\"lag_3\",\"lag_4\",\"lag_96\",\"lag_192\",\"lag_288\",\"lag_384\",\"lag_480\",\"lag_576\",\"lag_672\",\"DayOfWeek\",\"Hour\",\"Energy\"]]\n",
    "# df_selected"
   ]
  },
  {
   "cell_type": "code",
   "execution_count": null,
   "id": "553c782a",
   "metadata": {},
   "outputs": [],
   "source": [
    "#df_selected.to_csv(\"../../data/porto_full_selected.csv\", index=False)"
   ]
  },
  {
   "attachments": {},
   "cell_type": "markdown",
   "id": "47b7a1a3",
   "metadata": {},
   "source": [
    "## Predict  5 folds with 10 random houses for test"
   ]
  },
  {
   "cell_type": "code",
   "execution_count": 4,
   "id": "7d155f83",
   "metadata": {},
   "outputs": [
    {
     "data": {
      "text/html": [
       "<div>\n",
       "<style scoped>\n",
       "    .dataframe tbody tr th:only-of-type {\n",
       "        vertical-align: middle;\n",
       "    }\n",
       "\n",
       "    .dataframe tbody tr th {\n",
       "        vertical-align: top;\n",
       "    }\n",
       "\n",
       "    .dataframe thead th {\n",
       "        text-align: right;\n",
       "    }\n",
       "</style>\n",
       "<table border=\"1\" class=\"dataframe\">\n",
       "  <thead>\n",
       "    <tr style=\"text-align: right;\">\n",
       "      <th></th>\n",
       "      <th>Time</th>\n",
       "      <th>Location</th>\n",
       "      <th>lag_1</th>\n",
       "      <th>lag_2</th>\n",
       "      <th>lag_3</th>\n",
       "      <th>lag_4</th>\n",
       "      <th>lag_96</th>\n",
       "      <th>lag_192</th>\n",
       "      <th>lag_288</th>\n",
       "      <th>lag_384</th>\n",
       "      <th>lag_480</th>\n",
       "      <th>lag_576</th>\n",
       "      <th>lag_672</th>\n",
       "      <th>DayOfWeek</th>\n",
       "      <th>Hour</th>\n",
       "      <th>Energy</th>\n",
       "    </tr>\n",
       "  </thead>\n",
       "  <tbody>\n",
       "    <tr>\n",
       "      <th>0</th>\n",
       "      <td>2019-01-08 00:00:00</td>\n",
       "      <td>Meter0</td>\n",
       "      <td>3.952000</td>\n",
       "      <td>3.803000</td>\n",
       "      <td>4.095000</td>\n",
       "      <td>3.926000</td>\n",
       "      <td>2.615000</td>\n",
       "      <td>3.321000</td>\n",
       "      <td>3.066000</td>\n",
       "      <td>2.351000</td>\n",
       "      <td>2.851000</td>\n",
       "      <td>3.054000</td>\n",
       "      <td>2.964000</td>\n",
       "      <td>1</td>\n",
       "      <td>0</td>\n",
       "      <td>4.940000</td>\n",
       "    </tr>\n",
       "    <tr>\n",
       "      <th>1</th>\n",
       "      <td>2019-01-08 00:15:00</td>\n",
       "      <td>Meter0</td>\n",
       "      <td>4.940000</td>\n",
       "      <td>3.952000</td>\n",
       "      <td>3.803000</td>\n",
       "      <td>4.095000</td>\n",
       "      <td>2.634000</td>\n",
       "      <td>2.873000</td>\n",
       "      <td>3.152000</td>\n",
       "      <td>2.843000</td>\n",
       "      <td>3.102000</td>\n",
       "      <td>2.677000</td>\n",
       "      <td>2.584000</td>\n",
       "      <td>1</td>\n",
       "      <td>0</td>\n",
       "      <td>4.149000</td>\n",
       "    </tr>\n",
       "    <tr>\n",
       "      <th>2</th>\n",
       "      <td>2019-01-08 00:30:00</td>\n",
       "      <td>Meter0</td>\n",
       "      <td>4.149000</td>\n",
       "      <td>4.940000</td>\n",
       "      <td>3.952000</td>\n",
       "      <td>3.803000</td>\n",
       "      <td>3.052000</td>\n",
       "      <td>3.407000</td>\n",
       "      <td>2.633000</td>\n",
       "      <td>2.949000</td>\n",
       "      <td>2.546000</td>\n",
       "      <td>3.522000</td>\n",
       "      <td>3.071000</td>\n",
       "      <td>1</td>\n",
       "      <td>0</td>\n",
       "      <td>4.401000</td>\n",
       "    </tr>\n",
       "    <tr>\n",
       "      <th>3</th>\n",
       "      <td>2019-01-08 00:45:00</td>\n",
       "      <td>Meter0</td>\n",
       "      <td>4.401000</td>\n",
       "      <td>4.149000</td>\n",
       "      <td>4.940000</td>\n",
       "      <td>3.952000</td>\n",
       "      <td>2.893000</td>\n",
       "      <td>2.673000</td>\n",
       "      <td>2.590000</td>\n",
       "      <td>2.605000</td>\n",
       "      <td>3.016000</td>\n",
       "      <td>2.729000</td>\n",
       "      <td>2.694000</td>\n",
       "      <td>1</td>\n",
       "      <td>0</td>\n",
       "      <td>4.431000</td>\n",
       "    </tr>\n",
       "    <tr>\n",
       "      <th>4</th>\n",
       "      <td>2019-01-08 01:00:00</td>\n",
       "      <td>Meter0</td>\n",
       "      <td>4.431000</td>\n",
       "      <td>4.401000</td>\n",
       "      <td>4.149000</td>\n",
       "      <td>4.940000</td>\n",
       "      <td>2.349000</td>\n",
       "      <td>2.390000</td>\n",
       "      <td>2.330000</td>\n",
       "      <td>3.023000</td>\n",
       "      <td>3.031000</td>\n",
       "      <td>2.368000</td>\n",
       "      <td>2.569000</td>\n",
       "      <td>1</td>\n",
       "      <td>1</td>\n",
       "      <td>3.988000</td>\n",
       "    </tr>\n",
       "    <tr>\n",
       "      <th>...</th>\n",
       "      <td>...</td>\n",
       "      <td>...</td>\n",
       "      <td>...</td>\n",
       "      <td>...</td>\n",
       "      <td>...</td>\n",
       "      <td>...</td>\n",
       "      <td>...</td>\n",
       "      <td>...</td>\n",
       "      <td>...</td>\n",
       "      <td>...</td>\n",
       "      <td>...</td>\n",
       "      <td>...</td>\n",
       "      <td>...</td>\n",
       "      <td>...</td>\n",
       "      <td>...</td>\n",
       "      <td>...</td>\n",
       "    </tr>\n",
       "    <tr>\n",
       "      <th>1757659</th>\n",
       "      <td>2020-01-01 22:45:00</td>\n",
       "      <td>Meter50</td>\n",
       "      <td>1.099100</td>\n",
       "      <td>0.453906</td>\n",
       "      <td>0.481770</td>\n",
       "      <td>0.483173</td>\n",
       "      <td>0.641933</td>\n",
       "      <td>0.778195</td>\n",
       "      <td>0.753222</td>\n",
       "      <td>0.641933</td>\n",
       "      <td>0.778195</td>\n",
       "      <td>0.753222</td>\n",
       "      <td>1.723943</td>\n",
       "      <td>2</td>\n",
       "      <td>22</td>\n",
       "      <td>0.753222</td>\n",
       "    </tr>\n",
       "    <tr>\n",
       "      <th>1757660</th>\n",
       "      <td>2020-01-01 23:00:00</td>\n",
       "      <td>Meter50</td>\n",
       "      <td>0.753222</td>\n",
       "      <td>1.099100</td>\n",
       "      <td>0.453906</td>\n",
       "      <td>0.481770</td>\n",
       "      <td>0.752850</td>\n",
       "      <td>0.931837</td>\n",
       "      <td>0.716855</td>\n",
       "      <td>0.752850</td>\n",
       "      <td>0.931837</td>\n",
       "      <td>0.716855</td>\n",
       "      <td>1.482914</td>\n",
       "      <td>2</td>\n",
       "      <td>23</td>\n",
       "      <td>0.716855</td>\n",
       "    </tr>\n",
       "    <tr>\n",
       "      <th>1757661</th>\n",
       "      <td>2020-01-01 23:15:00</td>\n",
       "      <td>Meter50</td>\n",
       "      <td>0.716855</td>\n",
       "      <td>0.753222</td>\n",
       "      <td>1.099100</td>\n",
       "      <td>0.453906</td>\n",
       "      <td>0.935428</td>\n",
       "      <td>0.937079</td>\n",
       "      <td>0.735802</td>\n",
       "      <td>0.935428</td>\n",
       "      <td>0.937079</td>\n",
       "      <td>0.735802</td>\n",
       "      <td>1.772033</td>\n",
       "      <td>2</td>\n",
       "      <td>23</td>\n",
       "      <td>0.735802</td>\n",
       "    </tr>\n",
       "    <tr>\n",
       "      <th>1757662</th>\n",
       "      <td>2020-01-01 23:30:00</td>\n",
       "      <td>Meter50</td>\n",
       "      <td>0.735802</td>\n",
       "      <td>0.716855</td>\n",
       "      <td>0.753222</td>\n",
       "      <td>1.099100</td>\n",
       "      <td>0.715781</td>\n",
       "      <td>0.803087</td>\n",
       "      <td>0.485237</td>\n",
       "      <td>0.715781</td>\n",
       "      <td>0.803087</td>\n",
       "      <td>0.485237</td>\n",
       "      <td>2.535657</td>\n",
       "      <td>2</td>\n",
       "      <td>23</td>\n",
       "      <td>0.485237</td>\n",
       "    </tr>\n",
       "    <tr>\n",
       "      <th>1757663</th>\n",
       "      <td>2020-01-01 23:45:00</td>\n",
       "      <td>Meter50</td>\n",
       "      <td>0.485237</td>\n",
       "      <td>0.735802</td>\n",
       "      <td>0.716855</td>\n",
       "      <td>0.753222</td>\n",
       "      <td>1.077717</td>\n",
       "      <td>0.600777</td>\n",
       "      <td>0.394216</td>\n",
       "      <td>1.077717</td>\n",
       "      <td>0.600777</td>\n",
       "      <td>0.394216</td>\n",
       "      <td>2.055415</td>\n",
       "      <td>2</td>\n",
       "      <td>23</td>\n",
       "      <td>0.394216</td>\n",
       "    </tr>\n",
       "  </tbody>\n",
       "</table>\n",
       "<p>1757664 rows × 16 columns</p>\n",
       "</div>"
      ],
      "text/plain": [
       "                        Time Location     lag_1     lag_2     lag_3     lag_4  \\\n",
       "0        2019-01-08 00:00:00   Meter0  3.952000  3.803000  4.095000  3.926000   \n",
       "1        2019-01-08 00:15:00   Meter0  4.940000  3.952000  3.803000  4.095000   \n",
       "2        2019-01-08 00:30:00   Meter0  4.149000  4.940000  3.952000  3.803000   \n",
       "3        2019-01-08 00:45:00   Meter0  4.401000  4.149000  4.940000  3.952000   \n",
       "4        2019-01-08 01:00:00   Meter0  4.431000  4.401000  4.149000  4.940000   \n",
       "...                      ...      ...       ...       ...       ...       ...   \n",
       "1757659  2020-01-01 22:45:00  Meter50  1.099100  0.453906  0.481770  0.483173   \n",
       "1757660  2020-01-01 23:00:00  Meter50  0.753222  1.099100  0.453906  0.481770   \n",
       "1757661  2020-01-01 23:15:00  Meter50  0.716855  0.753222  1.099100  0.453906   \n",
       "1757662  2020-01-01 23:30:00  Meter50  0.735802  0.716855  0.753222  1.099100   \n",
       "1757663  2020-01-01 23:45:00  Meter50  0.485237  0.735802  0.716855  0.753222   \n",
       "\n",
       "           lag_96   lag_192   lag_288   lag_384   lag_480   lag_576   lag_672  \\\n",
       "0        2.615000  3.321000  3.066000  2.351000  2.851000  3.054000  2.964000   \n",
       "1        2.634000  2.873000  3.152000  2.843000  3.102000  2.677000  2.584000   \n",
       "2        3.052000  3.407000  2.633000  2.949000  2.546000  3.522000  3.071000   \n",
       "3        2.893000  2.673000  2.590000  2.605000  3.016000  2.729000  2.694000   \n",
       "4        2.349000  2.390000  2.330000  3.023000  3.031000  2.368000  2.569000   \n",
       "...           ...       ...       ...       ...       ...       ...       ...   \n",
       "1757659  0.641933  0.778195  0.753222  0.641933  0.778195  0.753222  1.723943   \n",
       "1757660  0.752850  0.931837  0.716855  0.752850  0.931837  0.716855  1.482914   \n",
       "1757661  0.935428  0.937079  0.735802  0.935428  0.937079  0.735802  1.772033   \n",
       "1757662  0.715781  0.803087  0.485237  0.715781  0.803087  0.485237  2.535657   \n",
       "1757663  1.077717  0.600777  0.394216  1.077717  0.600777  0.394216  2.055415   \n",
       "\n",
       "         DayOfWeek  Hour    Energy  \n",
       "0                1     0  4.940000  \n",
       "1                1     0  4.149000  \n",
       "2                1     0  4.401000  \n",
       "3                1     0  4.431000  \n",
       "4                1     1  3.988000  \n",
       "...            ...   ...       ...  \n",
       "1757659          2    22  0.753222  \n",
       "1757660          2    23  0.716855  \n",
       "1757661          2    23  0.735802  \n",
       "1757662          2    23  0.485237  \n",
       "1757663          2    23  0.394216  \n",
       "\n",
       "[1757664 rows x 16 columns]"
      ]
     },
     "execution_count": 4,
     "metadata": {},
     "output_type": "execute_result"
    }
   ],
   "source": [
    "df_test = pd.read_csv(\"../../data/porto_full_selected.csv\", nrows=100)\n",
    "\n",
    "float_cols = [c for c in df_test if df_test[c].dtype == \"float64\"]\n",
    "float32_cols = {c: np.float32 for c in float_cols}\n",
    "\n",
    "df = pd.read_csv(\"../../data/porto_full_selected.csv\", engine='c', dtype=float32_cols)\n",
    "df.Location = \"Meter\" + df['Location'].astype(str)\n",
    "df"
   ]
  },
  {
   "cell_type": "code",
   "execution_count": 5,
   "id": "1218e529",
   "metadata": {},
   "outputs": [
    {
     "data": {
      "text/plain": [
       "[array(['Meter29', 'Meter11', 'Meter10', 'Meter22', 'Meter2', 'Meter28',\n",
       "        'Meter45', 'Meter32', 'Meter26', 'Meter4'], dtype=object),\n",
       " array(['Meter43', 'Meter40', 'Meter46', 'Meter12', 'Meter24', 'Meter31',\n",
       "        'Meter17', 'Meter32', 'Meter3', 'Meter30'], dtype=object),\n",
       " array(['Meter35', 'Meter30', 'Meter37', 'Meter7', 'Meter6', 'Meter38',\n",
       "        'Meter11', 'Meter19', 'Meter5', 'Meter22'], dtype=object),\n",
       " array(['Meter35', 'Meter2', 'Meter32', 'Meter5', 'Meter49', 'Meter7',\n",
       "        'Meter15', 'Meter24', 'Meter25', 'Meter33'], dtype=object),\n",
       " array(['Meter30', 'Meter35', 'Meter11', 'Meter39', 'Meter16', 'Meter4',\n",
       "        'Meter3', 'Meter24', 'Meter18', 'Meter10'], dtype=object),\n",
       " array(['Meter26', 'Meter34', 'Meter19', 'Meter15', 'Meter2', 'Meter16',\n",
       "        'Meter23', 'Meter31', 'Meter13', 'Meter0'], dtype=object),\n",
       " array(['Meter39', 'Meter17', 'Meter1', 'Meter26', 'Meter11', 'Meter43',\n",
       "        'Meter16', 'Meter29', 'Meter23', 'Meter20'], dtype=object),\n",
       " array(['Meter36', 'Meter14', 'Meter8', 'Meter46', 'Meter32', 'Meter18',\n",
       "        'Meter43', 'Meter41', 'Meter9', 'Meter22'], dtype=object),\n",
       " array(['Meter1', 'Meter48', 'Meter13', 'Meter11', 'Meter30', 'Meter10',\n",
       "        'Meter25', 'Meter2', 'Meter33', 'Meter6'], dtype=object),\n",
       " array(['Meter35', 'Meter47', 'Meter8', 'Meter34', 'Meter42', 'Meter4',\n",
       "        'Meter15', 'Meter1', 'Meter43', 'Meter10'], dtype=object)]"
      ]
     },
     "execution_count": 5,
     "metadata": {},
     "output_type": "execute_result"
    }
   ],
   "source": [
    "num_houses_test = 10\n",
    "locations = []\n",
    "for i in range(10):\n",
    "    np.random.seed(i*42)\n",
    "    l = np.random.choice(df['Location'].unique(), size=num_houses_test, replace=False)\n",
    "    locations.append(l)\n",
    "locations"
   ]
  },
  {
   "cell_type": "code",
   "execution_count": 6,
   "id": "9cca5c2b",
   "metadata": {},
   "outputs": [
    {
     "data": {
      "text/plain": [
       "0"
      ]
     },
     "execution_count": 6,
     "metadata": {},
     "output_type": "execute_result"
    }
   ],
   "source": [
    "## Number of NaNs\n",
    "df.isna().sum().sum()"
   ]
  },
  {
   "cell_type": "code",
   "execution_count": 7,
   "id": "e1b164a8",
   "metadata": {},
   "outputs": [],
   "source": [
    "#kf = RepeatedKFold(n_splits=5, n_repeats=2, random_state=42) \n",
    "#locations = []\n",
    "#for _, test_index in kf.split(df['Location'].unique()):\n",
    "#    locations.append(test_index)\n",
    "#locations"
   ]
  },
  {
   "cell_type": "code",
   "execution_count": 8,
   "id": "fee71ca0",
   "metadata": {},
   "outputs": [],
   "source": [
    "n_splits = 10"
   ]
  },
  {
   "attachments": {},
   "cell_type": "markdown",
   "id": "30e48b6b",
   "metadata": {},
   "source": [
    "### Linear Regression"
   ]
  },
  {
   "cell_type": "code",
   "execution_count": null,
   "id": "a9cfe1a7",
   "metadata": {},
   "outputs": [],
   "source": [
    "metrics_list_lr = []\n",
    "print(\"\\n----------------------------\", file=sourceFile)\n",
    "print(\"\\nLinear Regression\\n\", file=sourceFile)\n",
    "print(\"----------------------------\\n\", file=sourceFile)\n",
    "for i in range(n_splits):\n",
    "    print(\"\\nIteration\", i, file=sourceFile)\n",
    "    print(\"\\nIteration\", i)\n",
    "    rmse, wape, r2, model_lr = test_leave_house_out(df, LinearRegression(), locations[i], sourceFile, split_timeseries=True, cv=i)\n",
    "    metrics_list_lr.append((rmse, wape, r2))"
   ]
  },
  {
   "cell_type": "code",
   "execution_count": null,
   "id": "d183e1ee",
   "metadata": {},
   "outputs": [],
   "source": [
    "metrics_list_lr_pca = []\n",
    "print(\"\\n----------------------------\", file=sourceFile)\n",
    "print(\"\\nLinear Regression\\n\", file=sourceFile)\n",
    "print(\"----------------------------\\n\", file=sourceFile)\n",
    "for i in range(n_splits):\n",
    "    print(\"\\nIteration\", i, file=sourceFile)\n",
    "    print(\"\\nIteration\", i)\n",
    "    rmse, wape, r2, model_lr = test_leave_house_out(df_pca, LinearRegression(), locations[i], sourceFile, split_timeseries=True, cv=i)\n",
    "    metrics_list_lr_pca.append((rmse, wape, r2))"
   ]
  },
  {
   "cell_type": "code",
   "execution_count": null,
   "id": "e3387b1c",
   "metadata": {},
   "outputs": [],
   "source": [
    "metrics_list_lr_loc = []\n",
    "print(\"\\n----------------------------\", file=sourceFile)\n",
    "print(\"\\nLinear Regression\\n\", file=sourceFile)\n",
    "print(\"----------------------------\\n\", file=sourceFile)\n",
    "for i in range(n_splits):\n",
    "    print(\"\\nIteration\", i, file=sourceFile)\n",
    "    print(\"\\nIteration\", i)\n",
    "    rmse, wape, r2, model_lr = test_leave_house_out(df, LinearRegression(), locations[i], sourceFile, split_timeseries=False)\n",
    "    metrics_list_lr_loc.append((rmse, wape, r2))"
   ]
  },
  {
   "cell_type": "code",
   "execution_count": null,
   "id": "f016acde",
   "metadata": {},
   "outputs": [],
   "source": [
    "metrics_list_lr_pca_loc = []\n",
    "print(\"\\n----------------------------\", file=sourceFile)\n",
    "print(\"\\nLinear Regression\\n\", file=sourceFile)\n",
    "print(\"----------------------------\\n\", file=sourceFile)\n",
    "for i in range(n_splits):\n",
    "    print(\"\\nIteration\", i, file=sourceFile)\n",
    "    print(\"\\nIteration\", i)\n",
    "    rmse, wape, r2, model_lr = test_leave_house_out(df_pca, LinearRegression(), locations[i], sourceFile, split_timeseries=False)\n",
    "    metrics_list_lr_pca_loc.append((rmse, wape, r2))"
   ]
  },
  {
   "attachments": {},
   "cell_type": "markdown",
   "id": "1e4142f8",
   "metadata": {},
   "source": [
    "### XGBoost"
   ]
  },
  {
   "cell_type": "code",
   "execution_count": null,
   "id": "29000235",
   "metadata": {},
   "outputs": [],
   "source": [
    "metrics_list_xgb = []\n",
    "print(\"\\n----------------------------\", file=sourceFile)\n",
    "print(\"\\nXGBoost\\n\", file=sourceFile)\n",
    "print(\"----------------------------\\n\", file=sourceFile)\n",
    "for i in range(n_splits):\n",
    "    print(\"\\nIteration\", i, file=sourceFile)\n",
    "    print(\"\\nIteration\", i)\n",
    "    rmse, wape, r2, model_xgb = test_leave_house_out(df, xgb.XGBRegressor(tree_method='gpu_hist', seed=0, colsample_bytree=0.7, learning_rate=0.01, max_depth=16, n_estimators=700), locations[i], sourceFile, split_timeseries=True, cv=i)\n",
    "    metrics_list_xgb.append((rmse, wape, r2))"
   ]
  },
  {
   "cell_type": "code",
   "execution_count": null,
   "id": "60565c9e",
   "metadata": {},
   "outputs": [],
   "source": [
    "metrics_list_xgb_pca = []\n",
    "print(\"\\n----------------------------\", file=sourceFile)\n",
    "print(\"\\nXGBoost\\n\", file=sourceFile)\n",
    "print(\"----------------------------\\n\", file=sourceFile)\n",
    "for i in range(n_splits):\n",
    "    print(\"\\nIteration\", i, file=sourceFile)\n",
    "    print(\"\\nIteration\", i)\n",
    "    rmse, wape, r2, model_xgb = test_leave_house_out(df_pca, xgb.XGBRegressor(tree_method='gpu_hist', seed=0, colsample_bytree=0.7, learning_rate=0.01, max_depth=16, n_estimators=700), locations[i], sourceFile, split_timeseries=True, cv=i)\n",
    "    metrics_list_xgb_pca.append((rmse, wape, r2))"
   ]
  },
  {
   "cell_type": "code",
   "execution_count": 9,
   "id": "f18c7893",
   "metadata": {},
   "outputs": [
    {
     "name": "stdout",
     "output_type": "stream",
     "text": [
      "\n",
      "Iteration 0\n",
      "split location\n",
      "Train set:  (1413024, 16)\n",
      "Test set:  (344640, 16)\n",
      "RMSE: 0.3514\n",
      "WAPE: 22.58\n",
      "R2: 0.8732\n",
      "\n",
      "Iteration 1\n",
      "split location\n",
      "Train set:  (1413024, 16)\n",
      "Test set:  (344640, 16)\n",
      "RMSE: 0.3721\n",
      "WAPE: 23.62\n",
      "R2: 0.8526\n",
      "\n",
      "Iteration 2\n",
      "split location\n",
      "Train set:  (1413024, 16)\n",
      "Test set:  (344640, 16)\n",
      "RMSE: 0.3489\n",
      "WAPE: 19.93\n",
      "R2: 0.8849\n",
      "\n",
      "Iteration 3\n",
      "split location\n",
      "Train set:  (1413024, 16)\n",
      "Test set:  (344640, 16)\n",
      "RMSE: 0.3760\n",
      "WAPE: 21.93\n",
      "R2: 0.8493\n",
      "\n",
      "Iteration 4\n",
      "split location\n",
      "Train set:  (1413024, 16)\n",
      "Test set:  (344640, 16)\n",
      "RMSE: 0.3227\n",
      "WAPE: 19.60\n",
      "R2: 0.8841\n",
      "\n",
      "Iteration 5\n",
      "split location\n",
      "Train set:  (1413024, 16)\n",
      "Test set:  (344640, 16)\n",
      "RMSE: 1.0496\n",
      "WAPE: 19.76\n",
      "R2: 0.5951\n",
      "\n",
      "Iteration 6\n",
      "split location\n",
      "Train set:  (1413024, 16)\n",
      "Test set:  (344640, 16)\n",
      "RMSE: 0.3102\n",
      "WAPE: 20.65\n",
      "R2: 0.8836\n",
      "\n",
      "Iteration 7\n",
      "split location\n",
      "Train set:  (1413024, 16)\n",
      "Test set:  (344640, 16)\n",
      "RMSE: 0.2433\n",
      "WAPE: 18.86\n",
      "R2: 0.9184\n",
      "\n",
      "Iteration 8\n",
      "split location\n",
      "Train set:  (1413024, 16)\n",
      "Test set:  (344640, 16)\n",
      "RMSE: 0.3318\n",
      "WAPE: 20.16\n",
      "R2: 0.8886\n",
      "\n",
      "Iteration 9\n",
      "split location\n",
      "Train set:  (1413024, 16)\n",
      "Test set:  (344640, 16)\n",
      "RMSE: 0.2600\n",
      "WAPE: 21.48\n",
      "R2: 0.8813\n"
     ]
    }
   ],
   "source": [
    "metrics_list_xgb_loc = []\n",
    "print(\"\\n----------------------------\", file=sourceFile)\n",
    "print(\"\\nXGBoost\\n\", file=sourceFile)\n",
    "print(\"----------------------------\\n\", file=sourceFile)\n",
    "for i in range(n_splits):\n",
    "    print(\"\\nIteration\", i, file=sourceFile)\n",
    "    print(\"\\nIteration\", i)\n",
    "    rmse, wape, r2, model_xgb = test_leave_house_out(df, xgb.XGBRegressor(tree_method='gpu_hist', seed=0, colsample_bytree=0.7, learning_rate=0.01, max_depth=16, n_estimators=700), locations[i], sourceFile, split_timeseries=False)\n",
    "    metrics_list_xgb_loc.append((rmse, wape, r2))"
   ]
  },
  {
   "cell_type": "code",
   "execution_count": 10,
   "metadata": {},
   "outputs": [
    {
     "name": "stdout",
     "output_type": "stream",
     "text": [
      "\n",
      "Iteration 0\n",
      "split location\n",
      "Train set:  (1413024, 16)\n",
      "Test set:  (344640, 16)\n",
      "RMSE: 0.4714\n",
      "WAPE: 31.14\n",
      "R2: 0.7718\n",
      "\n",
      "Iteration 1\n",
      "split location\n",
      "Train set:  (1413024, 16)\n",
      "Test set:  (344640, 16)\n",
      "RMSE: 0.4441\n",
      "WAPE: 29.72\n",
      "R2: 0.7901\n",
      "\n",
      "Iteration 2\n",
      "split location\n",
      "Train set:  (1413024, 16)\n",
      "Test set:  (344640, 16)\n",
      "RMSE: 0.5157\n",
      "WAPE: 30.35\n",
      "R2: 0.7488\n",
      "\n",
      "Iteration 3\n",
      "split location\n",
      "Train set:  (1413024, 16)\n",
      "Test set:  (344640, 16)\n",
      "RMSE: 0.4740\n",
      "WAPE: 29.20\n",
      "R2: 0.7606\n",
      "\n",
      "Iteration 4\n",
      "split location\n",
      "Train set:  (1413024, 16)\n",
      "Test set:  (344640, 16)\n",
      "RMSE: 0.4504\n",
      "WAPE: 29.11\n",
      "R2: 0.7745\n",
      "\n",
      "Iteration 5\n",
      "split location\n",
      "Train set:  (1413024, 16)\n",
      "Test set:  (344640, 16)\n",
      "RMSE: 1.0664\n",
      "WAPE: 24.65\n",
      "R2: 0.5820\n",
      "\n",
      "Iteration 6\n",
      "split location\n",
      "Train set:  (1413024, 16)\n",
      "Test set:  (344640, 16)\n",
      "RMSE: 0.4532\n",
      "WAPE: 30.71\n",
      "R2: 0.7516\n",
      "\n",
      "Iteration 7\n",
      "split location\n",
      "Train set:  (1413024, 16)\n",
      "Test set:  (344640, 16)\n",
      "RMSE: 0.4088\n",
      "WAPE: 30.73\n",
      "R2: 0.7697\n",
      "\n",
      "Iteration 8\n",
      "split location\n",
      "Train set:  (1413024, 16)\n",
      "Test set:  (344640, 16)\n",
      "RMSE: 0.4720\n",
      "WAPE: 29.61\n",
      "R2: 0.7746\n",
      "\n",
      "Iteration 9\n",
      "split location\n",
      "Train set:  (1413024, 16)\n",
      "Test set:  (344640, 16)\n",
      "RMSE: 0.3328\n",
      "WAPE: 29.71\n",
      "R2: 0.8055\n"
     ]
    }
   ],
   "source": [
    "metrics_list_xgb_loc_not_hyp = []\n",
    "print(\"\\n----------------------------\", file=sourceFile)\n",
    "print(\"\\nXGBoost\\n\", file=sourceFile)\n",
    "print(\"----------------------------\\n\", file=sourceFile)\n",
    "for i in range(n_splits):\n",
    "    print(\"\\nIteration\", i, file=sourceFile)\n",
    "    print(\"\\nIteration\", i)\n",
    "    rmse, wape, r2, model_xgb = test_leave_house_out(df, xgb.XGBRegressor(tree_method='gpu_hist', seed=0), locations[i], sourceFile, split_timeseries=False)\n",
    "    metrics_list_xgb_loc_not_hyp.append((rmse, wape, r2))"
   ]
  },
  {
   "cell_type": "code",
   "execution_count": null,
   "id": "d47d8712",
   "metadata": {},
   "outputs": [],
   "source": [
    "metrics_list_xgb_pca_loc = []\n",
    "print(\"\\n----------------------------\", file=sourceFile)\n",
    "print(\"\\nXGBoost\\n\", file=sourceFile)\n",
    "print(\"----------------------------\\n\", file=sourceFile)\n",
    "for i in range(n_splits):\n",
    "    print(\"\\nIteration\", i, file=sourceFile)\n",
    "    print(\"\\nIteration\", i)\n",
    "    rmse, wape, r2, model_xgb = test_leave_house_out(df_pca, xgb.XGBRegressor(tree_method='gpu_hist', seed=0, colsample_bytree=0.7, learning_rate=0.01, max_depth=16, n_estimators=700), locations[i], sourceFile, split_timeseries=False)\n",
    "    metrics_list_xgb_pca_loc.append((rmse, wape, r2))"
   ]
  },
  {
   "attachments": {},
   "cell_type": "markdown",
   "id": "bc81a8ce",
   "metadata": {},
   "source": [
    "### Random Forest"
   ]
  },
  {
   "cell_type": "code",
   "execution_count": null,
   "id": "81a082e6",
   "metadata": {},
   "outputs": [],
   "source": [
    "metrics_list_rf = []\n",
    "print(\"\\n----------------------------\", file=sourceFile)\n",
    "print(\"\\nRandom Forest\\n\", file=sourceFile)\n",
    "print(\"----------------------------\\n\", file=sourceFile)\n",
    "for i in range(n_splits):\n",
    "    print(\"\\nIteration\", i, file=sourceFile)\n",
    "    print(\"\\nIteration\", i)\n",
    "    rmse, wape, r2, model_rf = test_leave_house_out(df, cuRF(bootstrap=True, max_depth=16, min_samples_leaf=1, min_samples_split=2,n_estimators=700), locations[i], sourceFile, split_timeseries=True, cv=i, gpu=False)\n",
    "    metrics_list_rf.append((rmse, wape, r2))"
   ]
  },
  {
   "cell_type": "code",
   "execution_count": null,
   "id": "decdb8b9",
   "metadata": {},
   "outputs": [],
   "source": [
    "metrics_list_rf_pca = []\n",
    "print(\"\\n----------------------------\", file=sourceFile)\n",
    "print(\"\\nRandom Forest\\n\", file=sourceFile)\n",
    "print(\"----------------------------\\n\", file=sourceFile)\n",
    "for i in range(n_splits):\n",
    "    print(\"\\nIteration\", i, file=sourceFile)\n",
    "    print(\"\\nIteration\", i)\n",
    "    rmse, wape, r2, model_rf = test_leave_house_out(df_pca, cuRF(bootstrap=True, max_depth=16, min_samples_leaf=1, min_samples_split=2,n_estimators=700), locations[i], sourceFile, split_timeseries=True, cv=i, gpu=False)\n",
    "    metrics_list_rf_pca.append((rmse, wape, r2))"
   ]
  },
  {
   "cell_type": "code",
   "execution_count": 11,
   "id": "756ce9d7",
   "metadata": {},
   "outputs": [
    {
     "name": "stdout",
     "output_type": "stream",
     "text": [
      "\n",
      "Iteration 0\n",
      "split location\n",
      "Train set:  (1413024, 16)\n",
      "Test set:  (344640, 16)\n"
     ]
    },
    {
     "name": "stderr",
     "output_type": "stream",
     "text": [
      "/home/francisco.monteiro@av.it.pt/miniconda3/envs/rapids-23.02/lib/python3.8/site-packages/cuml/internals/api_decorators.py:190: UserWarning: To use pickling first train using float32 data to fit the estimator\n",
      "  ret = func(*args, **kwargs)\n"
     ]
    },
    {
     "name": "stdout",
     "output_type": "stream",
     "text": [
      "RMSE: 0.4377\n",
      "WAPE: 28.91\n",
      "R2: 0.8033\n",
      "\n",
      "Iteration 1\n",
      "split location\n",
      "Train set:  (1413024, 16)\n",
      "Test set:  (344640, 16)\n"
     ]
    },
    {
     "name": "stderr",
     "output_type": "stream",
     "text": [
      "/home/francisco.monteiro@av.it.pt/miniconda3/envs/rapids-23.02/lib/python3.8/site-packages/cuml/internals/api_decorators.py:190: UserWarning: To use pickling first train using float32 data to fit the estimator\n",
      "  ret = func(*args, **kwargs)\n"
     ]
    },
    {
     "name": "stdout",
     "output_type": "stream",
     "text": [
      "RMSE: 0.4106\n",
      "WAPE: 27.85\n",
      "R2: 0.8205\n",
      "\n",
      "Iteration 2\n",
      "split location\n",
      "Train set:  (1413024, 16)\n",
      "Test set:  (344640, 16)\n"
     ]
    },
    {
     "name": "stderr",
     "output_type": "stream",
     "text": [
      "/home/francisco.monteiro@av.it.pt/miniconda3/envs/rapids-23.02/lib/python3.8/site-packages/cuml/internals/api_decorators.py:190: UserWarning: To use pickling first train using float32 data to fit the estimator\n",
      "  ret = func(*args, **kwargs)\n"
     ]
    },
    {
     "name": "stdout",
     "output_type": "stream",
     "text": [
      "RMSE: 0.4539\n",
      "WAPE: 26.92\n",
      "R2: 0.8053\n",
      "\n",
      "Iteration 3\n",
      "split location\n",
      "Train set:  (1413024, 16)\n",
      "Test set:  (344640, 16)\n"
     ]
    },
    {
     "name": "stderr",
     "output_type": "stream",
     "text": [
      "/home/francisco.monteiro@av.it.pt/miniconda3/envs/rapids-23.02/lib/python3.8/site-packages/cuml/internals/api_decorators.py:190: UserWarning: To use pickling first train using float32 data to fit the estimator\n",
      "  ret = func(*args, **kwargs)\n"
     ]
    },
    {
     "name": "stdout",
     "output_type": "stream",
     "text": [
      "RMSE: 0.4478\n",
      "WAPE: 27.09\n",
      "R2: 0.7863\n",
      "\n",
      "Iteration 4\n",
      "split location\n",
      "Train set:  (1413024, 16)\n",
      "Test set:  (344640, 16)\n"
     ]
    },
    {
     "name": "stderr",
     "output_type": "stream",
     "text": [
      "/home/francisco.monteiro@av.it.pt/miniconda3/envs/rapids-23.02/lib/python3.8/site-packages/cuml/internals/api_decorators.py:190: UserWarning: To use pickling first train using float32 data to fit the estimator\n",
      "  ret = func(*args, **kwargs)\n"
     ]
    },
    {
     "name": "stdout",
     "output_type": "stream",
     "text": [
      "RMSE: 0.3913\n",
      "WAPE: 26.12\n",
      "R2: 0.8297\n",
      "\n",
      "Iteration 5\n",
      "split location\n",
      "Train set:  (1413024, 16)\n",
      "Test set:  (344640, 16)\n"
     ]
    },
    {
     "name": "stderr",
     "output_type": "stream",
     "text": [
      "/home/francisco.monteiro@av.it.pt/miniconda3/envs/rapids-23.02/lib/python3.8/site-packages/cuml/internals/api_decorators.py:190: UserWarning: To use pickling first train using float32 data to fit the estimator\n",
      "  ret = func(*args, **kwargs)\n"
     ]
    },
    {
     "name": "stdout",
     "output_type": "stream",
     "text": [
      "RMSE: 1.0837\n",
      "WAPE: 23.31\n",
      "R2: 0.5684\n",
      "\n",
      "Iteration 6\n",
      "split location\n",
      "Train set:  (1413024, 16)\n",
      "Test set:  (344640, 16)\n"
     ]
    },
    {
     "name": "stderr",
     "output_type": "stream",
     "text": [
      "/home/francisco.monteiro@av.it.pt/miniconda3/envs/rapids-23.02/lib/python3.8/site-packages/cuml/internals/api_decorators.py:190: UserWarning: To use pickling first train using float32 data to fit the estimator\n",
      "  ret = func(*args, **kwargs)\n"
     ]
    },
    {
     "name": "stdout",
     "output_type": "stream",
     "text": [
      "RMSE: 0.3983\n",
      "WAPE: 27.82\n",
      "R2: 0.8082\n",
      "\n",
      "Iteration 7\n",
      "split location\n",
      "Train set:  (1413024, 16)\n",
      "Test set:  (344640, 16)\n"
     ]
    },
    {
     "name": "stderr",
     "output_type": "stream",
     "text": [
      "/home/francisco.monteiro@av.it.pt/miniconda3/envs/rapids-23.02/lib/python3.8/site-packages/cuml/internals/api_decorators.py:190: UserWarning: To use pickling first train using float32 data to fit the estimator\n",
      "  ret = func(*args, **kwargs)\n"
     ]
    },
    {
     "name": "stdout",
     "output_type": "stream",
     "text": [
      "RMSE: 0.3443\n",
      "WAPE: 27.07\n",
      "R2: 0.8366\n",
      "\n",
      "Iteration 8\n",
      "split location\n",
      "Train set:  (1413024, 16)\n",
      "Test set:  (344640, 16)\n"
     ]
    },
    {
     "name": "stderr",
     "output_type": "stream",
     "text": [
      "/home/francisco.monteiro@av.it.pt/miniconda3/envs/rapids-23.02/lib/python3.8/site-packages/cuml/internals/api_decorators.py:190: UserWarning: To use pickling first train using float32 data to fit the estimator\n",
      "  ret = func(*args, **kwargs)\n"
     ]
    },
    {
     "name": "stdout",
     "output_type": "stream",
     "text": [
      "RMSE: 0.4180\n",
      "WAPE: 26.71\n",
      "R2: 0.8231\n",
      "\n",
      "Iteration 9\n",
      "split location\n",
      "Train set:  (1413024, 16)\n",
      "Test set:  (344640, 16)\n"
     ]
    },
    {
     "name": "stderr",
     "output_type": "stream",
     "text": [
      "/home/francisco.monteiro@av.it.pt/miniconda3/envs/rapids-23.02/lib/python3.8/site-packages/cuml/internals/api_decorators.py:190: UserWarning: To use pickling first train using float32 data to fit the estimator\n",
      "  ret = func(*args, **kwargs)\n"
     ]
    },
    {
     "name": "stdout",
     "output_type": "stream",
     "text": [
      "RMSE: 0.3125\n",
      "WAPE: 27.58\n",
      "R2: 0.8285\n"
     ]
    }
   ],
   "source": [
    "metrics_list_rf_loc = []\n",
    "print(\"\\n----------------------------\", file=sourceFile)\n",
    "print(\"\\nRandom Forest\\n\", file=sourceFile)\n",
    "print(\"----------------------------\\n\", file=sourceFile)\n",
    "for i in range(n_splits):\n",
    "    print(\"\\nIteration\", i, file=sourceFile)\n",
    "    print(\"\\nIteration\", i)\n",
    "    rmse, wape, r2, model_rf = test_leave_house_out(df, cuRF(bootstrap=True, max_depth=16, min_samples_leaf=1, min_samples_split=2,n_estimators=700), locations[i], sourceFile, split_timeseries=False, gpu=False)\n",
    "    metrics_list_rf_loc.append((rmse, wape, r2))"
   ]
  },
  {
   "cell_type": "code",
   "execution_count": 12,
   "metadata": {},
   "outputs": [
    {
     "name": "stdout",
     "output_type": "stream",
     "text": [
      "\n",
      "Iteration 0\n",
      "split location\n",
      "Train set:  (1413024, 16)\n",
      "Test set:  (344640, 16)\n"
     ]
    },
    {
     "name": "stderr",
     "output_type": "stream",
     "text": [
      "/home/francisco.monteiro@av.it.pt/miniconda3/envs/rapids-23.02/lib/python3.8/site-packages/cuml/internals/api_decorators.py:190: UserWarning: To use pickling first train using float32 data to fit the estimator\n",
      "  ret = func(*args, **kwargs)\n"
     ]
    },
    {
     "name": "stdout",
     "output_type": "stream",
     "text": [
      "RMSE: 0.4400\n",
      "WAPE: 28.98\n",
      "R2: 0.8012\n",
      "\n",
      "Iteration 1\n",
      "split location\n",
      "Train set:  (1413024, 16)\n",
      "Test set:  (344640, 16)\n"
     ]
    },
    {
     "name": "stderr",
     "output_type": "stream",
     "text": [
      "/home/francisco.monteiro@av.it.pt/miniconda3/envs/rapids-23.02/lib/python3.8/site-packages/cuml/internals/api_decorators.py:190: UserWarning: To use pickling first train using float32 data to fit the estimator\n",
      "  ret = func(*args, **kwargs)\n"
     ]
    },
    {
     "name": "stdout",
     "output_type": "stream",
     "text": [
      "RMSE: 0.4124\n",
      "WAPE: 27.95\n",
      "R2: 0.8190\n",
      "\n",
      "Iteration 2\n",
      "split location\n",
      "Train set:  (1413024, 16)\n",
      "Test set:  (344640, 16)\n"
     ]
    },
    {
     "name": "stderr",
     "output_type": "stream",
     "text": [
      "/home/francisco.monteiro@av.it.pt/miniconda3/envs/rapids-23.02/lib/python3.8/site-packages/cuml/internals/api_decorators.py:190: UserWarning: To use pickling first train using float32 data to fit the estimator\n",
      "  ret = func(*args, **kwargs)\n"
     ]
    },
    {
     "name": "stdout",
     "output_type": "stream",
     "text": [
      "RMSE: 0.4528\n",
      "WAPE: 26.97\n",
      "R2: 0.8063\n",
      "\n",
      "Iteration 3\n",
      "split location\n",
      "Train set:  (1413024, 16)\n",
      "Test set:  (344640, 16)\n"
     ]
    },
    {
     "name": "stderr",
     "output_type": "stream",
     "text": [
      "/home/francisco.monteiro@av.it.pt/miniconda3/envs/rapids-23.02/lib/python3.8/site-packages/cuml/internals/api_decorators.py:190: UserWarning: To use pickling first train using float32 data to fit the estimator\n",
      "  ret = func(*args, **kwargs)\n"
     ]
    },
    {
     "name": "stdout",
     "output_type": "stream",
     "text": [
      "RMSE: 0.4499\n",
      "WAPE: 27.17\n",
      "R2: 0.7843\n",
      "\n",
      "Iteration 4\n",
      "split location\n",
      "Train set:  (1413024, 16)\n",
      "Test set:  (344640, 16)\n"
     ]
    },
    {
     "name": "stderr",
     "output_type": "stream",
     "text": [
      "/home/francisco.monteiro@av.it.pt/miniconda3/envs/rapids-23.02/lib/python3.8/site-packages/cuml/internals/api_decorators.py:190: UserWarning: To use pickling first train using float32 data to fit the estimator\n",
      "  ret = func(*args, **kwargs)\n"
     ]
    },
    {
     "name": "stdout",
     "output_type": "stream",
     "text": [
      "RMSE: 0.3934\n",
      "WAPE: 26.20\n",
      "R2: 0.8279\n",
      "\n",
      "Iteration 5\n",
      "split location\n",
      "Train set:  (1413024, 16)\n",
      "Test set:  (344640, 16)\n"
     ]
    },
    {
     "name": "stderr",
     "output_type": "stream",
     "text": [
      "/home/francisco.monteiro@av.it.pt/miniconda3/envs/rapids-23.02/lib/python3.8/site-packages/cuml/internals/api_decorators.py:190: UserWarning: To use pickling first train using float32 data to fit the estimator\n",
      "  ret = func(*args, **kwargs)\n"
     ]
    },
    {
     "name": "stdout",
     "output_type": "stream",
     "text": [
      "RMSE: 1.0835\n",
      "WAPE: 23.36\n",
      "R2: 0.5685\n",
      "\n",
      "Iteration 6\n",
      "split location\n",
      "Train set:  (1413024, 16)\n",
      "Test set:  (344640, 16)\n"
     ]
    },
    {
     "name": "stderr",
     "output_type": "stream",
     "text": [
      "/home/francisco.monteiro@av.it.pt/miniconda3/envs/rapids-23.02/lib/python3.8/site-packages/cuml/internals/api_decorators.py:190: UserWarning: To use pickling first train using float32 data to fit the estimator\n",
      "  ret = func(*args, **kwargs)\n"
     ]
    },
    {
     "name": "stdout",
     "output_type": "stream",
     "text": [
      "RMSE: 0.3995\n",
      "WAPE: 27.89\n",
      "R2: 0.8070\n",
      "\n",
      "Iteration 7\n",
      "split location\n",
      "Train set:  (1413024, 16)\n",
      "Test set:  (344640, 16)\n"
     ]
    },
    {
     "name": "stderr",
     "output_type": "stream",
     "text": [
      "/home/francisco.monteiro@av.it.pt/miniconda3/envs/rapids-23.02/lib/python3.8/site-packages/cuml/internals/api_decorators.py:190: UserWarning: To use pickling first train using float32 data to fit the estimator\n",
      "  ret = func(*args, **kwargs)\n"
     ]
    },
    {
     "name": "stdout",
     "output_type": "stream",
     "text": [
      "RMSE: 0.3454\n",
      "WAPE: 27.12\n",
      "R2: 0.8356\n",
      "\n",
      "Iteration 8\n",
      "split location\n",
      "Train set:  (1413024, 16)\n",
      "Test set:  (344640, 16)\n"
     ]
    },
    {
     "name": "stderr",
     "output_type": "stream",
     "text": [
      "/home/francisco.monteiro@av.it.pt/miniconda3/envs/rapids-23.02/lib/python3.8/site-packages/cuml/internals/api_decorators.py:190: UserWarning: To use pickling first train using float32 data to fit the estimator\n",
      "  ret = func(*args, **kwargs)\n"
     ]
    },
    {
     "name": "stdout",
     "output_type": "stream",
     "text": [
      "RMSE: 0.4191\n",
      "WAPE: 26.77\n",
      "R2: 0.8222\n",
      "\n",
      "Iteration 9\n",
      "split location\n",
      "Train set:  (1413024, 16)\n",
      "Test set:  (344640, 16)\n",
      "RMSE: 0.3148\n",
      "WAPE: 27.63\n",
      "R2: 0.8260\n"
     ]
    },
    {
     "name": "stderr",
     "output_type": "stream",
     "text": [
      "/home/francisco.monteiro@av.it.pt/miniconda3/envs/rapids-23.02/lib/python3.8/site-packages/cuml/internals/api_decorators.py:190: UserWarning: To use pickling first train using float32 data to fit the estimator\n",
      "  ret = func(*args, **kwargs)\n"
     ]
    }
   ],
   "source": [
    "metrics_list_rf_loc_not_hyp = []\n",
    "print(\"\\n----------------------------\", file=sourceFile)\n",
    "print(\"\\nRandom Forest\\n\", file=sourceFile)\n",
    "print(\"----------------------------\\n\", file=sourceFile)\n",
    "for i in range(n_splits):\n",
    "    print(\"\\nIteration\", i, file=sourceFile)\n",
    "    print(\"\\nIteration\", i)\n",
    "    rmse, wape, r2, model_rf = test_leave_house_out(df, cuRF(), locations[i], sourceFile, split_timeseries=False, gpu=False)\n",
    "    metrics_list_rf_loc_not_hyp.append((rmse, wape, r2))"
   ]
  },
  {
   "cell_type": "code",
   "execution_count": null,
   "id": "81159bc5",
   "metadata": {},
   "outputs": [],
   "source": [
    "metrics_list_rf_pca_loc = []\n",
    "print(\"\\n----------------------------\", file=sourceFile)\n",
    "print(\"\\nRandom Forest\\n\", file=sourceFile)\n",
    "print(\"----------------------------\\n\", file=sourceFile)\n",
    "for i in range(n_splits):\n",
    "    print(\"\\nIteration\", i, file=sourceFile)\n",
    "    print(\"\\nIteration\", i)\n",
    "    rmse, wape, r2, model_rf = test_leave_house_out(df_pca, cuRF(bootstrap=True, max_depth=16, min_samples_leaf=1, min_samples_split=2,n_estimators=700), locations[i], sourceFile, split_timeseries=False, gpu=False)\n",
    "    metrics_list_rf_pca_loc.append((rmse, wape, r2))"
   ]
  },
  {
   "attachments": {},
   "cell_type": "markdown",
   "id": "1d80b4bb",
   "metadata": {},
   "source": [
    "## Averaged Metrics"
   ]
  },
  {
   "cell_type": "code",
   "execution_count": null,
   "id": "34d0f88f",
   "metadata": {},
   "outputs": [],
   "source": [
    "print(\"\\n\\n\\n\", file=sourceFile)"
   ]
  },
  {
   "cell_type": "code",
   "execution_count": null,
   "id": "c4d11803",
   "metadata": {},
   "outputs": [],
   "source": [
    "print(\"\\nLinear Regression\", file=sourceFile)\n",
    "total_averaged_metrics(metrics_list_lr, sourceFile)\n",
    "total_averaged_metrics(metrics_list_lr_pca, sourceFile)\n",
    "total_averaged_metrics(metrics_list_lr_loc, sourceFile)\n",
    "total_averaged_metrics(metrics_list_lr_pca_loc, sourceFile)"
   ]
  },
  {
   "cell_type": "code",
   "execution_count": 13,
   "id": "9038241b",
   "metadata": {},
   "outputs": [
    {
     "name": "stdout",
     "output_type": "stream",
     "text": [
      "Total Averaged RMSE: 0.397\n",
      "Total Averaged WAPE: 20.857\n",
      "Total Averaged R2: 0.851\n",
      "Total Averaged RMSE: 0.509\n",
      "Total Averaged WAPE: 29.493\n",
      "Total Averaged R2: 0.753\n"
     ]
    },
    {
     "data": {
      "text/plain": [
       "(0.509, 29.493, 0.753)"
      ]
     },
     "execution_count": 13,
     "metadata": {},
     "output_type": "execute_result"
    }
   ],
   "source": [
    "print(\"\\nXGBoost\", file=sourceFile)\n",
    "#total_averaged_metrics(metrics_list_xgb, sourceFile)\n",
    "#total_averaged_metrics(metrics_list_xgb_pca, sourceFile)\n",
    "total_averaged_metrics(metrics_list_xgb_loc, sourceFile)\n",
    "total_averaged_metrics(metrics_list_xgb_loc_not_hyp, sourceFile)\n",
    "#total_averaged_metrics(metrics_list_xgb_pca_loc, sourceFile)"
   ]
  },
  {
   "cell_type": "code",
   "execution_count": 14,
   "id": "387e0bf7",
   "metadata": {},
   "outputs": [
    {
     "name": "stdout",
     "output_type": "stream",
     "text": [
      "Total Averaged RMSE: 0.47\n",
      "Total Averaged WAPE: 26.938\n",
      "Total Averaged R2: 0.791\n",
      "Total Averaged RMSE: 0.471\n",
      "Total Averaged WAPE: 27.004\n",
      "Total Averaged R2: 0.79\n"
     ]
    },
    {
     "data": {
      "text/plain": [
       "(0.471, 27.004, 0.79)"
      ]
     },
     "execution_count": 14,
     "metadata": {},
     "output_type": "execute_result"
    }
   ],
   "source": [
    "print(\"\\nRandom Forest\", file=sourceFile)\n",
    "#total_averaged_metrics(metrics_list_rf, sourceFile)\n",
    "#total_averaged_metrics(metrics_list_rf_pca, sourceFile)\n",
    "total_averaged_metrics(metrics_list_rf_loc, sourceFile)\n",
    "total_averaged_metrics(metrics_list_rf_loc_not_hyp, sourceFile)\n",
    "#total_averaged_metrics(metrics_list_rf_pca_loc, sourceFile)"
   ]
  },
  {
   "cell_type": "code",
   "execution_count": 15,
   "id": "6aa50a8a",
   "metadata": {},
   "outputs": [],
   "source": [
    "sourceFile.close()"
   ]
  },
  {
   "attachments": {},
   "cell_type": "markdown",
   "id": "bb5c8ff5",
   "metadata": {},
   "source": [
    "### Feature Importance"
   ]
  },
  {
   "cell_type": "code",
   "execution_count": 11,
   "id": "b6a7d8db",
   "metadata": {},
   "outputs": [
    {
     "name": "stdout",
     "output_type": "stream",
     "text": [
      "XGBoost\n",
      "\n",
      "Feature: 0, Score: 0.49140\n",
      "Feature: 1, Score: 0.10580\n",
      "Feature: 2, Score: 0.04320\n",
      "Feature: 3, Score: 0.02314\n",
      "Feature: 4, Score: 0.03137\n",
      "Feature: 5, Score: 0.03002\n",
      "Feature: 6, Score: 0.06270\n",
      "Feature: 7, Score: 0.04422\n",
      "Feature: 8, Score: 0.02134\n",
      "Feature: 9, Score: 0.02468\n",
      "Feature: 10, Score: 0.02567\n",
      "Feature: 11, Score: 0.07248\n",
      "Feature: 12, Score: 0.02396\n"
     ]
    }
   ],
   "source": [
    "print('XGBoost\\n')\n",
    "for i,v in enumerate(model_xgb.feature_importances_):\n",
    "    print('Feature: %0d, Score: %.5f' % (i,v))"
   ]
  },
  {
   "cell_type": "code",
   "execution_count": 12,
   "id": "538881d9",
   "metadata": {},
   "outputs": [
    {
     "data": {
      "text/plain": [
       "array([0.49140155, 0.10580443, 0.04320302, 0.02314029, 0.03136947,\n",
       "       0.03002426, 0.06270386, 0.04421767, 0.02133822, 0.02467958,\n",
       "       0.02567356, 0.07248212, 0.0239619 ], dtype=float32)"
      ]
     },
     "execution_count": 12,
     "metadata": {},
     "output_type": "execute_result"
    }
   ],
   "source": [
    "model_xgb.feature_importances_"
   ]
  },
  {
   "cell_type": "code",
   "execution_count": 9,
   "id": "0f698b11",
   "metadata": {},
   "outputs": [
    {
     "data": {
      "image/png": "[encoded data removed]",
      "text/plain": [
       "<Figure size 800x400 with 1 Axes>"
      ]
     },
     "metadata": {},
     "output_type": "display_data"
    }
   ],
   "source": [
    "plt.figure(figsize=(8,4))\n",
    "plt.bar(df.columns[2:-1],model_xgb.feature_importances_)\n",
    "#plt.title('Feature Importance')\n",
    "plt.xlabel('Feature')\n",
    "plt.ylabel('Importance')\n",
    "plt.xticks(rotation=45)\n",
    "plt.savefig(\"../../images/main/porto_xgb_feat_imp_loc.png\")\n",
    "plt.show()"
   ]
  },
  {
   "cell_type": "code",
   "execution_count": null,
   "id": "71aef5fc",
   "metadata": {},
   "outputs": [],
   "source": [
    "plt.figure(figsize=(12,6))\n",
    "plt.bar(df.columns[2:-1],model_lr.coef_)\n",
    "plt.title('Feature Importance')\n",
    "plt.xlabel('Feature')\n",
    "plt.ylabel('Importance')\n",
    "plt.show()"
   ]
  },
  {
   "cell_type": "code",
   "execution_count": null,
   "id": "d8ca075f",
   "metadata": {},
   "outputs": [],
   "source": [
    "columns = df.drop([\"Energy\", \"Location\", \"Time\"], axis=1).columns\n",
    "feature_importance = pd.Series(model_xgb.feature_importances_, index=columns)\n",
    "feature_importance"
   ]
  },
  {
   "cell_type": "code",
   "execution_count": null,
   "id": "17ed32bb",
   "metadata": {},
   "outputs": [],
   "source": [
    "features = feature_importance.nlargest(40).index\n",
    "features"
   ]
  },
  {
   "cell_type": "code",
   "execution_count": null,
   "id": "d5c9659b",
   "metadata": {},
   "outputs": [],
   "source": [
    "df_40 = df[['Time', 'Location'] + [*features] + ['Energy']]\n",
    "df_40"
   ]
  },
  {
   "cell_type": "code",
   "execution_count": null,
   "id": "ac35cbb1",
   "metadata": {},
   "outputs": [],
   "source": [
    "df_40.to_csv(\"data/porto_best40features.csv\", index=False)"
   ]
  },
  {
   "attachments": {},
   "cell_type": "markdown",
   "id": "8d0fb555",
   "metadata": {},
   "source": [
    "## Hyperparameter Tuning"
   ]
  },
  {
   "cell_type": "code",
   "execution_count": null,
   "id": "8a8fc616",
   "metadata": {},
   "outputs": [],
   "source": [
    "df_test = pd.read_csv(\"../../data/porto_full_selected.csv\", nrows=100)\n",
    "\n",
    "float_cols = [c for c in df_test if df_test[c].dtype == \"float64\"]\n",
    "float32_cols = {c: np.float32 for c in float_cols}\n",
    "\n",
    "df_tuning = pd.read_csv(\"../../data/porto_full_selected.csv\", engine='c', dtype=float32_cols)\n",
    "df_tuning.drop(['Time', 'Location'], axis=1, inplace=True)\n",
    "df_tuning"
   ]
  },
  {
   "cell_type": "code",
   "execution_count": null,
   "id": "3c9b1b2f",
   "metadata": {},
   "outputs": [],
   "source": [
    "undersample_data = df_tuning.loc[np.linspace(df_tuning.index.min(),df_tuning.index.max(),400000).astype(int)]\n",
    "#undersample_time = df_index.loc[np.linspace(df_index.index.min(),df_index.index.max(),8784).astype(int)]\n",
    "undersample_data = undersample_data.reset_index().drop('index',axis=1)\n",
    "undersample_data"
   ]
  },
  {
   "cell_type": "code",
   "execution_count": null,
   "id": "d82de6fa",
   "metadata": {},
   "outputs": [],
   "source": [
    "params_rf = {\n",
    "    'bootstrap': [True],\n",
    "    'max_depth': [8, 12, 16],\n",
    "    'min_samples_leaf': [1, 3, 5],\n",
    "    'min_samples_split': [2, 8, 10],\n",
    "    'n_estimators': [500, 700]\n",
    "}"
   ]
  },
  {
   "cell_type": "code",
   "execution_count": null,
   "id": "577842ce",
   "metadata": {},
   "outputs": [],
   "source": [
    "params_xgb = { \n",
    "    'max_depth': [10, 16],\n",
    "    'learning_rate': [0.001, 0.01, 0.05],\n",
    "    'n_estimators': [500, 700],\n",
    "    'colsample_bytree': [0.3, 0.7]\n",
    "}"
   ]
  },
  {
   "cell_type": "code",
   "execution_count": null,
   "id": "c498607b",
   "metadata": {},
   "outputs": [],
   "source": [
    "train_features = undersample_data.drop('Energy', axis=1)\n",
    "train_labels = undersample_data['Energy']\n",
    "test_features = 0\n",
    "test_labels = 0"
   ]
  },
  {
   "attachments": {},
   "cell_type": "markdown",
   "id": "dfbaf507",
   "metadata": {},
   "source": [
    "### XGBoost Best Parameters"
   ]
  },
  {
   "cell_type": "code",
   "execution_count": null,
   "id": "b21f35b6",
   "metadata": {},
   "outputs": [],
   "source": [
    "xgb_model = xgb.XGBRegressor(tree_method=\"gpu_hist\", seed=42)\n",
    "grid_search = GridSearchCV(estimator = xgb_model, param_grid = params_xgb, cv = 3, n_jobs = 4, verbose = 2, scoring=\"r2\")"
   ]
  },
  {
   "cell_type": "code",
   "execution_count": null,
   "id": "36653c22",
   "metadata": {},
   "outputs": [],
   "source": [
    "grid_search.fit(train_features, train_labels)"
   ]
  },
  {
   "cell_type": "code",
   "execution_count": null,
   "id": "bbc0d6ec",
   "metadata": {},
   "outputs": [],
   "source": [
    "grid_search.best_params_\n",
    "#{'colsample_bytree': 0.7,\n",
    "#'learning_rate': 0.1,\n",
    "#'max_depth': 10,\n",
    "#'n_estimators': 1000}"
   ]
  },
  {
   "cell_type": "code",
   "execution_count": null,
   "id": "0e43e0ed",
   "metadata": {},
   "outputs": [],
   "source": [
    "{'colsample_bytree': 0.7,\n",
    " 'learning_rate': 0.01,\n",
    " 'max_depth': 16,\n",
    " 'n_estimators': 700}"
   ]
  },
  {
   "cell_type": "code",
   "execution_count": null,
   "id": "6dffaf2c",
   "metadata": {},
   "outputs": [],
   "source": [
    "grid_search.best_score_"
   ]
  },
  {
   "attachments": {},
   "cell_type": "markdown",
   "id": "7fc47f46",
   "metadata": {},
   "source": [
    "### Random Forest Best Parameters"
   ]
  },
  {
   "cell_type": "code",
   "execution_count": null,
   "id": "f421c31f",
   "metadata": {},
   "outputs": [],
   "source": [
    "rf = cuRF()\n",
    "grid_search_rf = GridSearchCV(estimator = rf, param_grid = params_rf, cv = 3, n_jobs = 8, verbose = 2, scoring=\"r2\")"
   ]
  },
  {
   "cell_type": "code",
   "execution_count": null,
   "id": "80ed4903",
   "metadata": {},
   "outputs": [],
   "source": [
    "grid_search_rf.fit(train_features, train_labels)"
   ]
  },
  {
   "cell_type": "code",
   "execution_count": null,
   "id": "81c3b442",
   "metadata": {},
   "outputs": [],
   "source": [
    "print(grid_search_rf.best_params_)\n",
    "best_grid = grid_search_rf.best_estimator_\n",
    "#grid_accuracy = evaluate(best_grid, test_features, test_labels)"
   ]
  },
  {
   "cell_type": "code",
   "execution_count": null,
   "id": "f7bc821a",
   "metadata": {},
   "outputs": [],
   "source": [
    "filee = open(\"rf_params.txt\",\"w\")\n",
    "print(grid_search.best_params_, file=filee)\n",
    "filee.close()"
   ]
  },
  {
   "cell_type": "code",
   "execution_count": null,
   "id": "7865e329",
   "metadata": {},
   "outputs": [],
   "source": [
    "{'bootstrap': True, 'max_depth': 16, 'min_samples_leaf': 1, 'min_samples_split': 2, 'n_estimators': 700}"
   ]
  }
 ],
 "metadata": {
  "kernelspec": {
   "display_name": "Python 3.8.16 ('rapids-23.02')",
   "language": "python",
   "name": "python3"
  },
  "language_info": {
   "codemirror_mode": {
    "name": "ipython",
    "version": 3
   },
   "file_extension": ".py",
   "mimetype": "text/x-python",
   "name": "python",
   "nbconvert_exporter": "python",
   "pygments_lexer": "ipython3",
   "version": "3.8.16"
  },
  "vscode": {
   "interpreter": {
    "hash": "b68dca5a889d9fa7a36c76420bb99c5b147d98e0e386a0426daa5cd8f8566c01"
   }
  }
 },
 "nbformat": 4,
 "nbformat_minor": 5
}
