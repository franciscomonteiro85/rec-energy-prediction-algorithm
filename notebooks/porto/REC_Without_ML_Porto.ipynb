{
 "cells": [
  {
   "cell_type": "code",
   "execution_count": null,
   "id": "652eddb0",
   "metadata": {},
   "outputs": [],
   "source": [
    "import warnings\n",
    "warnings.filterwarnings('ignore',category=FutureWarning)\n",
    "warnings.filterwarnings('ignore',category=DeprecationWarning)\n",
    "import numpy as np\n",
    "import pandas as pd\n",
    "import matplotlib.pyplot as plt\n",
    "from sklearn.model_selection import train_test_split, cross_val_score, cross_validate, KFold\n",
    "import xgboost as xgb\n",
    "from sklearn.metrics import mean_squared_error, r2_score, mean_absolute_error\n",
    "from sklearn.preprocessing import MinMaxScaler\n",
    "import math\n",
    "import time"
   ]
  },
  {
   "cell_type": "code",
   "execution_count": null,
   "id": "c019fe1f",
   "metadata": {},
   "outputs": [],
   "source": [
    "data = pd.read_excel('~/datasets/Dataset.xlsx', sheet_name=['Total Consumers'])\n",
    "df = data['Total Consumers']\n",
    "df"
   ]
  },
  {
   "cell_type": "code",
   "execution_count": null,
   "id": "2fa5e9ea",
   "metadata": {},
   "outputs": [],
   "source": [
    "df_location = pd.read_pickle(\"~/datasets/df_location.pkl\")\n",
    "df_location = df_location.iloc[35136:, [0, 2, 1]]\n",
    "df_location.reset_index(drop=True, inplace=True)\n",
    "df_location"
   ]
  },
  {
   "cell_type": "code",
   "execution_count": null,
   "id": "c471b7c6",
   "metadata": {},
   "outputs": [],
   "source": [
    "num_samples_per_house = df_location.Location.value_counts()[1]\n",
    "num_houses = df_location.Location.nunique()"
   ]
  },
  {
   "cell_type": "code",
   "execution_count": null,
   "id": "f90d489b",
   "metadata": {},
   "outputs": [],
   "source": [
    "def no_ml_predict(X: np.array, y: np.array):\n",
    "    mse = truncate_metric(mean_squared_error(X, y))\n",
    "    #wape = mean_absolute_error(X,y) / y.mean()\n",
    "    wape = truncate_metric(float(np.sum(np.abs(X - y)) / np.sum(np.abs(y))))\n",
    "    r2 = truncate_metric(r2_score(X, y))\n",
    "    \n",
    "    print('MSE: %.4f' % mse)\n",
    "    print('WAPE: %.2f' % (wape * 100))\n",
    "    print('R2: %.4f' % r2)\n",
    "    return mse, wape, r2\n",
    "\n",
    "\n",
    "def truncate_metric(metric):\n",
    "    m = math.trunc(10000*metric) / 10000\n",
    "    return m\n",
    "\n",
    "def truncate(df):\n",
    "    trunc = lambda x: math.trunc(10000*x) / 10000\n",
    "    df_trunc = df.applymap(trunc)\n",
    "    return df_trunc\n",
    "\n",
    "def truncate_location(df):\n",
    "    trunc = lambda x: math.trunc(10000*x) / 10000\n",
    "    df_trunc = pd.DataFrame(df['Energy']).applymap(trunc)\n",
    "    df = pd.concat([df.iloc[:,0:-1], df_trunc],axis=1)\n",
    "    return df\n",
    "    \n",
    "def plot_results(preds: np.array, actuals: np.array, title: str):\n",
    "    \n",
    "    plt.scatter(actuals, preds, c='b', label='predicted')\n",
    "    plt.xlabel('actual')\n",
    "    plt.ylabel('predicted')\n",
    "    plt.title(title)\n",
    "    plt.xlim(0, plt.xlim()[1])\n",
    "    plt.ylim(0, plt.ylim()[1])\n",
    "    _ = plt.plot([0, 100], [0, 100], '--r', label='y=x')\n",
    "    plt.legend()\n",
    "    plt.show()\n",
    "    \n",
    "def total_averaged_metrics(metrics_list):\n",
    "    mse = np.round(sum(i for i, j, k in metrics_list)/len(metrics_list),3)\n",
    "    wape = np.round(sum(j for i, j, k in metrics_list)/len(metrics_list),3)\n",
    "    r2 = np.round(sum(k for i, j, k in metrics_list)/len(metrics_list),3)\n",
    "    print(\"Total Averaged MSE: {}\".format(mse))\n",
    "    print(\"Total Averaged WAPE: {}\".format(wape * 100))\n",
    "    print(\"Total Averaged R2: {}\".format(r2))\n",
    "    return mse, wape, r2"
   ]
  },
  {
   "cell_type": "code",
   "execution_count": null,
   "id": "e8d58ba8",
   "metadata": {},
   "outputs": [],
   "source": [
    "def normalize_training(X_train):\n",
    "    scaler = MinMaxScaler(feature_range=(0,1))\n",
    "    scaler.fit(X_train)\n",
    "    X_train = scaler.transform(X_train)\n",
    "    return X_train, scaler"
   ]
  },
  {
   "attachments": {},
   "cell_type": "markdown",
   "id": "93b2814a",
   "metadata": {},
   "source": [
    "## Individual 51 houses preprocessing\n",
    "### Previous 15 minutes"
   ]
  },
  {
   "cell_type": "code",
   "execution_count": null,
   "id": "c41925d7",
   "metadata": {},
   "outputs": [],
   "source": [
    "X15 = df_location.copy()\n",
    "for i in range(1, num_houses):\n",
    "    X15.iloc[(num_samples_per_house*i)-1] = np.nan\n",
    "X15.dropna(inplace=True)\n",
    "m = len(X15)\n",
    "X15 = X15.iloc[0:(m-1)]\n",
    "X15.drop([\"Time\", \"Location\"],inplace=True, axis=1)\n",
    "X15.reset_index(drop=True, inplace=True)\n",
    "X15"
   ]
  },
  {
   "cell_type": "code",
   "execution_count": null,
   "id": "cb9c1131",
   "metadata": {},
   "outputs": [],
   "source": [
    "y15 = df_location.copy()\n",
    "for i in range(1, num_houses):\n",
    "    y15.iloc[(num_samples_per_house*i)] = np.nan\n",
    "y15.dropna(inplace=True)\n",
    "y15 = y15.iloc[1:].reset_index(drop=True)\n",
    "y15.drop([\"Time\", \"Location\"],inplace=True, axis=1)\n",
    "y15.reset_index(drop=True, inplace=True)\n",
    "y15"
   ]
  },
  {
   "attachments": {},
   "cell_type": "markdown",
   "id": "c66754cb",
   "metadata": {},
   "source": [
    "### Previous day at same hour"
   ]
  },
  {
   "cell_type": "code",
   "execution_count": null,
   "id": "1d445b6c",
   "metadata": {},
   "outputs": [],
   "source": [
    "Xday = df_location.copy()\n",
    "for i in range(1, num_houses):\n",
    "    Xday.iloc[(num_samples_per_house*i)-1] = np.nan\n",
    "Xday.dropna(inplace=True)\n",
    "m = len(Xday)\n",
    "Xday = Xday.iloc[0:(m-96)]\n",
    "Xday.drop([\"Time\", \"Location\"],inplace=True, axis=1)\n",
    "Xday.reset_index(drop=True, inplace=True)\n",
    "Xday"
   ]
  },
  {
   "cell_type": "code",
   "execution_count": null,
   "id": "95b6cc7a",
   "metadata": {},
   "outputs": [],
   "source": [
    "yday = df_location.copy()\n",
    "for i in range(1, num_houses):\n",
    "    yday.iloc[(num_samples_per_house*i)] = np.nan\n",
    "yday.dropna(inplace=True)\n",
    "yday = yday.iloc[96:].reset_index(drop=True)\n",
    "yday.drop([\"Time\", \"Location\"],inplace=True, axis=1)\n",
    "yday.reset_index(drop=True, inplace=True)\n",
    "yday"
   ]
  },
  {
   "attachments": {},
   "cell_type": "markdown",
   "id": "75890a15",
   "metadata": {},
   "source": [
    "### Previous week same day and same hour"
   ]
  },
  {
   "cell_type": "code",
   "execution_count": null,
   "id": "410daa51",
   "metadata": {},
   "outputs": [],
   "source": [
    "Xweek = df_location.copy()\n",
    "for i in range(1, num_houses):\n",
    "    Xweek.iloc[(num_samples_per_house*i)-1] = np.nan\n",
    "Xweek.dropna(inplace=True)\n",
    "m = len(Xweek)\n",
    "Xweek = Xweek.iloc[0:(m-672)]\n",
    "Xweek.drop([\"Time\", \"Location\"],inplace=True, axis=1)\n",
    "Xweek.reset_index(drop=True, inplace=True)\n",
    "Xweek"
   ]
  },
  {
   "cell_type": "code",
   "execution_count": null,
   "id": "2924b1c8",
   "metadata": {},
   "outputs": [],
   "source": [
    "yweek = df_location.copy()\n",
    "for i in range(1, num_houses):\n",
    "    yweek.iloc[(num_samples_per_house*i)] = np.nan\n",
    "yweek.dropna(inplace=True)\n",
    "yweek = yweek.iloc[672:].reset_index(drop=True)\n",
    "yweek.drop([\"Time\", \"Location\"],inplace=True, axis=1)\n",
    "yweek.reset_index(drop=True, inplace=True)\n",
    "yweek"
   ]
  },
  {
   "attachments": {},
   "cell_type": "markdown",
   "id": "af729849",
   "metadata": {},
   "source": [
    "## Prediction organized by location\n",
    "### Previous 15 minutes"
   ]
  },
  {
   "cell_type": "code",
   "execution_count": null,
   "id": "76bfa16c",
   "metadata": {},
   "outputs": [],
   "source": [
    "mse_15, wape_15, r2_15 = no_ml_predict(X15.values, y15.values)"
   ]
  },
  {
   "cell_type": "code",
   "execution_count": null,
   "id": "27a64d51",
   "metadata": {},
   "outputs": [],
   "source": [
    "plot_results(X15, y15, \"Last 15 organized by location\")"
   ]
  },
  {
   "attachments": {},
   "cell_type": "markdown",
   "id": "e9f81d2d",
   "metadata": {},
   "source": [
    "### Previous day at same hour"
   ]
  },
  {
   "cell_type": "code",
   "execution_count": null,
   "id": "f2a2746a",
   "metadata": {},
   "outputs": [],
   "source": [
    "mse_day, wape_day, r2_day = no_ml_predict(Xday.values, yday.values)"
   ]
  },
  {
   "cell_type": "code",
   "execution_count": null,
   "id": "52d95681",
   "metadata": {},
   "outputs": [],
   "source": [
    "plot_results(Xday, yday, \"Last day organized by location\")"
   ]
  },
  {
   "attachments": {},
   "cell_type": "markdown",
   "id": "5b2fa11e",
   "metadata": {},
   "source": [
    "### Previous week same day and same hour"
   ]
  },
  {
   "cell_type": "code",
   "execution_count": null,
   "id": "b34b6975",
   "metadata": {},
   "outputs": [],
   "source": [
    "mse_week, wape_week, r2_week = no_ml_predict(Xweek.values, yweek.values)"
   ]
  },
  {
   "cell_type": "code",
   "execution_count": null,
   "id": "2cd971c3",
   "metadata": {},
   "outputs": [],
   "source": [
    "plot_results(Xweek, yweek, \"Last week organized by location\")"
   ]
  },
  {
   "cell_type": "code",
   "execution_count": null,
   "id": "7723c352",
   "metadata": {},
   "outputs": [],
   "source": [
    "names_alg = [\"No ML - Previous 15\\n\", \"No ML - Previous Day\\n\", \"No ML - Previous Week\\n\"]\n",
    "all_metrics = [(mse_15, wape_15, r2_15), (mse_day, wape_day, r2_day), (mse_week, wape_week, r2_week)]"
   ]
  },
  {
   "cell_type": "code",
   "execution_count": null,
   "id": "cbe31692",
   "metadata": {},
   "outputs": [],
   "source": [
    "with open('../../gpu_logs/no_ml_.txt', 'w') as file:\n",
    "    for i in range(0, 3):\n",
    "        file.write(names_alg[i]) \n",
    "        file.write(\"No_ML\\n\")\n",
    "        mse_msg = \"MSE: \" + str(all_metrics[i][0]) + \"\\n\"\n",
    "        wape_msg = \"WAPE: \" + str(all_metrics[i][1]) + \"\\n\"\n",
    "        r2_msg = \"R2: \" + str(all_metrics[i][2]) + \"\\n\"\n",
    "        file.write(mse_msg)\n",
    "        file.write(wape_msg)\n",
    "        file.write(r2_msg)"
   ]
  },
  {
   "cell_type": "code",
   "execution_count": null,
   "id": "daa12ab3",
   "metadata": {},
   "outputs": [],
   "source": []
  }
 ],
 "metadata": {
  "kernelspec": {
   "display_name": "Python 3 (ipykernel)",
   "language": "python",
   "name": "python3"
  },
  "language_info": {
   "codemirror_mode": {
    "name": "ipython",
    "version": 3
   },
   "file_extension": ".py",
   "mimetype": "text/x-python",
   "name": "python",
   "nbconvert_exporter": "python",
   "pygments_lexer": "ipython3",
   "version": "3.8.17"
  }
 },
 "nbformat": 4,
 "nbformat_minor": 5
}
