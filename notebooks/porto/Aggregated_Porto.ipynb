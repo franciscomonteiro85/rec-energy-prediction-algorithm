{
 "cells": [
  {
   "attachments": {},
   "cell_type": "markdown",
   "id": "6804cbf7",
   "metadata": {},
   "source": [
    "## Import libraries"
   ]
  },
  {
   "cell_type": "code",
   "execution_count": 1,
   "id": "c312e697",
   "metadata": {},
   "outputs": [],
   "source": [
    "import warnings\n",
    "warnings.filterwarnings('ignore',category=FutureWarning)\n",
    "warnings.filterwarnings('ignore',category=DeprecationWarning)\n",
    "import sys\n",
    "sys.path.append('..')\n",
    "import numpy as np\n",
    "import pandas as pd\n",
    "import matplotlib.pyplot as plt\n",
    "from sklearn.linear_model import LinearRegression\n",
    "from sklearn.model_selection import TimeSeriesSplit\n",
    "import time\n",
    "from sklearn.model_selection import GridSearchCV\n",
    "import xgboost as xgb\n",
    "from cuml.ensemble import RandomForestRegressor as cuRF\n",
    "from scripts.function_utils import last_energy_points, predict_results, prepare_polynomial, normalize_training, expanding_window_split, retrieve_selected_features, total_averaged_metrics, no_ml_predict"
   ]
  },
  {
   "attachments": {},
   "cell_type": "markdown",
   "id": "ed1da844",
   "metadata": {},
   "source": [
    "## Load Data"
   ]
  },
  {
   "cell_type": "code",
   "execution_count": 2,
   "id": "83339c67",
   "metadata": {},
   "outputs": [
    {
     "data": {
      "text/html": [
       "<div>\n",
       "<style scoped>\n",
       "    .dataframe tbody tr th:only-of-type {\n",
       "        vertical-align: middle;\n",
       "    }\n",
       "\n",
       "    .dataframe tbody tr th {\n",
       "        vertical-align: top;\n",
       "    }\n",
       "\n",
       "    .dataframe thead th {\n",
       "        text-align: right;\n",
       "    }\n",
       "</style>\n",
       "<table border=\"1\" class=\"dataframe\">\n",
       "  <thead>\n",
       "    <tr style=\"text-align: right;\">\n",
       "      <th></th>\n",
       "      <th>0</th>\n",
       "      <th>1</th>\n",
       "      <th>2</th>\n",
       "      <th>3</th>\n",
       "      <th>4</th>\n",
       "      <th>5</th>\n",
       "      <th>6</th>\n",
       "      <th>7</th>\n",
       "      <th>8</th>\n",
       "      <th>9</th>\n",
       "      <th>...</th>\n",
       "      <th>41</th>\n",
       "      <th>42</th>\n",
       "      <th>43</th>\n",
       "      <th>44</th>\n",
       "      <th>45</th>\n",
       "      <th>46</th>\n",
       "      <th>47</th>\n",
       "      <th>48</th>\n",
       "      <th>49</th>\n",
       "      <th>50</th>\n",
       "    </tr>\n",
       "  </thead>\n",
       "  <tbody>\n",
       "    <tr>\n",
       "      <th>0</th>\n",
       "      <td>2.964</td>\n",
       "      <td>2.322959</td>\n",
       "      <td>1.544607</td>\n",
       "      <td>0.778310</td>\n",
       "      <td>1.962012</td>\n",
       "      <td>2.677445</td>\n",
       "      <td>0.237877</td>\n",
       "      <td>0.689194</td>\n",
       "      <td>0.358525</td>\n",
       "      <td>0.814643</td>\n",
       "      <td>...</td>\n",
       "      <td>0.898895</td>\n",
       "      <td>0.203825</td>\n",
       "      <td>0.221624</td>\n",
       "      <td>0.319531</td>\n",
       "      <td>0.830996</td>\n",
       "      <td>0.924987</td>\n",
       "      <td>0.219128</td>\n",
       "      <td>0.274880</td>\n",
       "      <td>0.990488</td>\n",
       "      <td>0.779475</td>\n",
       "    </tr>\n",
       "    <tr>\n",
       "      <th>1</th>\n",
       "      <td>2.584</td>\n",
       "      <td>2.371797</td>\n",
       "      <td>1.544607</td>\n",
       "      <td>0.778310</td>\n",
       "      <td>1.962012</td>\n",
       "      <td>2.733737</td>\n",
       "      <td>0.192929</td>\n",
       "      <td>0.558967</td>\n",
       "      <td>0.358525</td>\n",
       "      <td>0.660712</td>\n",
       "      <td>...</td>\n",
       "      <td>0.917793</td>\n",
       "      <td>0.165311</td>\n",
       "      <td>0.179747</td>\n",
       "      <td>0.319531</td>\n",
       "      <td>0.848467</td>\n",
       "      <td>0.944434</td>\n",
       "      <td>0.177722</td>\n",
       "      <td>0.222940</td>\n",
       "      <td>1.011313</td>\n",
       "      <td>0.795863</td>\n",
       "    </tr>\n",
       "    <tr>\n",
       "      <th>2</th>\n",
       "      <td>3.071</td>\n",
       "      <td>2.415961</td>\n",
       "      <td>1.319880</td>\n",
       "      <td>0.665072</td>\n",
       "      <td>1.676555</td>\n",
       "      <td>2.784640</td>\n",
       "      <td>0.382869</td>\n",
       "      <td>1.109272</td>\n",
       "      <td>0.377198</td>\n",
       "      <td>1.311186</td>\n",
       "      <td>...</td>\n",
       "      <td>0.934883</td>\n",
       "      <td>0.328060</td>\n",
       "      <td>0.356708</td>\n",
       "      <td>0.336174</td>\n",
       "      <td>0.864266</td>\n",
       "      <td>0.962019</td>\n",
       "      <td>0.352691</td>\n",
       "      <td>0.442426</td>\n",
       "      <td>1.030144</td>\n",
       "      <td>0.810682</td>\n",
       "    </tr>\n",
       "    <tr>\n",
       "      <th>3</th>\n",
       "      <td>2.694</td>\n",
       "      <td>2.302538</td>\n",
       "      <td>1.319880</td>\n",
       "      <td>0.665072</td>\n",
       "      <td>1.676555</td>\n",
       "      <td>2.653908</td>\n",
       "      <td>0.442052</td>\n",
       "      <td>1.280743</td>\n",
       "      <td>0.377198</td>\n",
       "      <td>1.513868</td>\n",
       "      <td>...</td>\n",
       "      <td>0.890992</td>\n",
       "      <td>0.378772</td>\n",
       "      <td>0.411848</td>\n",
       "      <td>0.336174</td>\n",
       "      <td>0.823691</td>\n",
       "      <td>0.916855</td>\n",
       "      <td>0.407209</td>\n",
       "      <td>0.510816</td>\n",
       "      <td>0.981781</td>\n",
       "      <td>0.772623</td>\n",
       "    </tr>\n",
       "    <tr>\n",
       "      <th>4</th>\n",
       "      <td>2.569</td>\n",
       "      <td>2.363063</td>\n",
       "      <td>0.913154</td>\n",
       "      <td>0.460128</td>\n",
       "      <td>1.159919</td>\n",
       "      <td>2.723669</td>\n",
       "      <td>0.192242</td>\n",
       "      <td>0.556976</td>\n",
       "      <td>0.668500</td>\n",
       "      <td>0.658358</td>\n",
       "      <td>...</td>\n",
       "      <td>0.914413</td>\n",
       "      <td>0.164722</td>\n",
       "      <td>0.179106</td>\n",
       "      <td>0.595793</td>\n",
       "      <td>0.845343</td>\n",
       "      <td>0.940956</td>\n",
       "      <td>0.177089</td>\n",
       "      <td>0.222146</td>\n",
       "      <td>1.007588</td>\n",
       "      <td>0.792932</td>\n",
       "    </tr>\n",
       "    <tr>\n",
       "      <th>...</th>\n",
       "      <td>...</td>\n",
       "      <td>...</td>\n",
       "      <td>...</td>\n",
       "      <td>...</td>\n",
       "      <td>...</td>\n",
       "      <td>...</td>\n",
       "      <td>...</td>\n",
       "      <td>...</td>\n",
       "      <td>...</td>\n",
       "      <td>...</td>\n",
       "      <td>...</td>\n",
       "      <td>...</td>\n",
       "      <td>...</td>\n",
       "      <td>...</td>\n",
       "      <td>...</td>\n",
       "      <td>...</td>\n",
       "      <td>...</td>\n",
       "      <td>...</td>\n",
       "      <td>...</td>\n",
       "      <td>...</td>\n",
       "      <td>...</td>\n",
       "    </tr>\n",
       "    <tr>\n",
       "      <th>35131</th>\n",
       "      <td>1.664</td>\n",
       "      <td>2.244719</td>\n",
       "      <td>1.455982</td>\n",
       "      <td>0.733653</td>\n",
       "      <td>1.849437</td>\n",
       "      <td>2.587266</td>\n",
       "      <td>0.205654</td>\n",
       "      <td>0.595835</td>\n",
       "      <td>0.171793</td>\n",
       "      <td>0.704291</td>\n",
       "      <td>...</td>\n",
       "      <td>0.868619</td>\n",
       "      <td>0.176214</td>\n",
       "      <td>0.191602</td>\n",
       "      <td>0.153109</td>\n",
       "      <td>0.803007</td>\n",
       "      <td>0.893832</td>\n",
       "      <td>0.189444</td>\n",
       "      <td>0.237645</td>\n",
       "      <td>0.957128</td>\n",
       "      <td>0.753222</td>\n",
       "    </tr>\n",
       "    <tr>\n",
       "      <th>35132</th>\n",
       "      <td>1.659</td>\n",
       "      <td>2.136340</td>\n",
       "      <td>1.201186</td>\n",
       "      <td>0.605264</td>\n",
       "      <td>1.525786</td>\n",
       "      <td>2.462348</td>\n",
       "      <td>0.201219</td>\n",
       "      <td>0.582985</td>\n",
       "      <td>0.067223</td>\n",
       "      <td>0.689101</td>\n",
       "      <td>...</td>\n",
       "      <td>0.826680</td>\n",
       "      <td>0.172414</td>\n",
       "      <td>0.187470</td>\n",
       "      <td>0.059912</td>\n",
       "      <td>0.764237</td>\n",
       "      <td>0.850676</td>\n",
       "      <td>0.185359</td>\n",
       "      <td>0.232519</td>\n",
       "      <td>0.910916</td>\n",
       "      <td>0.716855</td>\n",
       "    </tr>\n",
       "    <tr>\n",
       "      <th>35133</th>\n",
       "      <td>1.664</td>\n",
       "      <td>2.192805</td>\n",
       "      <td>1.201186</td>\n",
       "      <td>0.605264</td>\n",
       "      <td>1.525786</td>\n",
       "      <td>2.527430</td>\n",
       "      <td>0.228585</td>\n",
       "      <td>0.662271</td>\n",
       "      <td>0.067223</td>\n",
       "      <td>0.782819</td>\n",
       "      <td>...</td>\n",
       "      <td>0.848530</td>\n",
       "      <td>0.195862</td>\n",
       "      <td>0.212966</td>\n",
       "      <td>0.059912</td>\n",
       "      <td>0.784436</td>\n",
       "      <td>0.873160</td>\n",
       "      <td>0.210568</td>\n",
       "      <td>0.264142</td>\n",
       "      <td>0.934992</td>\n",
       "      <td>0.735802</td>\n",
       "    </tr>\n",
       "    <tr>\n",
       "      <th>35134</th>\n",
       "      <td>1.697</td>\n",
       "      <td>1.446083</td>\n",
       "      <td>0.259545</td>\n",
       "      <td>0.130782</td>\n",
       "      <td>0.329682</td>\n",
       "      <td>1.666757</td>\n",
       "      <td>0.189302</td>\n",
       "      <td>0.548459</td>\n",
       "      <td>0.070958</td>\n",
       "      <td>0.648292</td>\n",
       "      <td>...</td>\n",
       "      <td>0.559578</td>\n",
       "      <td>0.162203</td>\n",
       "      <td>0.176368</td>\n",
       "      <td>0.063241</td>\n",
       "      <td>0.517310</td>\n",
       "      <td>0.575820</td>\n",
       "      <td>0.174381</td>\n",
       "      <td>0.218749</td>\n",
       "      <td>0.616596</td>\n",
       "      <td>0.485237</td>\n",
       "    </tr>\n",
       "    <tr>\n",
       "      <th>35135</th>\n",
       "      <td>1.673</td>\n",
       "      <td>1.174827</td>\n",
       "      <td>0.259545</td>\n",
       "      <td>0.130782</td>\n",
       "      <td>0.329682</td>\n",
       "      <td>1.354107</td>\n",
       "      <td>0.208899</td>\n",
       "      <td>0.605235</td>\n",
       "      <td>0.070958</td>\n",
       "      <td>0.715402</td>\n",
       "      <td>...</td>\n",
       "      <td>0.454612</td>\n",
       "      <td>0.178994</td>\n",
       "      <td>0.194625</td>\n",
       "      <td>0.063241</td>\n",
       "      <td>0.420273</td>\n",
       "      <td>0.467808</td>\n",
       "      <td>0.192433</td>\n",
       "      <td>0.241394</td>\n",
       "      <td>0.500935</td>\n",
       "      <td>0.394216</td>\n",
       "    </tr>\n",
       "  </tbody>\n",
       "</table>\n",
       "<p>35136 rows × 51 columns</p>\n",
       "</div>"
      ],
      "text/plain": [
       "          0         1         2         3         4         5         6   \\\n",
       "0      2.964  2.322959  1.544607  0.778310  1.962012  2.677445  0.237877   \n",
       "1      2.584  2.371797  1.544607  0.778310  1.962012  2.733737  0.192929   \n",
       "2      3.071  2.415961  1.319880  0.665072  1.676555  2.784640  0.382869   \n",
       "3      2.694  2.302538  1.319880  0.665072  1.676555  2.653908  0.442052   \n",
       "4      2.569  2.363063  0.913154  0.460128  1.159919  2.723669  0.192242   \n",
       "...      ...       ...       ...       ...       ...       ...       ...   \n",
       "35131  1.664  2.244719  1.455982  0.733653  1.849437  2.587266  0.205654   \n",
       "35132  1.659  2.136340  1.201186  0.605264  1.525786  2.462348  0.201219   \n",
       "35133  1.664  2.192805  1.201186  0.605264  1.525786  2.527430  0.228585   \n",
       "35134  1.697  1.446083  0.259545  0.130782  0.329682  1.666757  0.189302   \n",
       "35135  1.673  1.174827  0.259545  0.130782  0.329682  1.354107  0.208899   \n",
       "\n",
       "             7         8         9   ...        41        42        43  \\\n",
       "0      0.689194  0.358525  0.814643  ...  0.898895  0.203825  0.221624   \n",
       "1      0.558967  0.358525  0.660712  ...  0.917793  0.165311  0.179747   \n",
       "2      1.109272  0.377198  1.311186  ...  0.934883  0.328060  0.356708   \n",
       "3      1.280743  0.377198  1.513868  ...  0.890992  0.378772  0.411848   \n",
       "4      0.556976  0.668500  0.658358  ...  0.914413  0.164722  0.179106   \n",
       "...         ...       ...       ...  ...       ...       ...       ...   \n",
       "35131  0.595835  0.171793  0.704291  ...  0.868619  0.176214  0.191602   \n",
       "35132  0.582985  0.067223  0.689101  ...  0.826680  0.172414  0.187470   \n",
       "35133  0.662271  0.067223  0.782819  ...  0.848530  0.195862  0.212966   \n",
       "35134  0.548459  0.070958  0.648292  ...  0.559578  0.162203  0.176368   \n",
       "35135  0.605235  0.070958  0.715402  ...  0.454612  0.178994  0.194625   \n",
       "\n",
       "             44        45        46        47        48        49        50  \n",
       "0      0.319531  0.830996  0.924987  0.219128  0.274880  0.990488  0.779475  \n",
       "1      0.319531  0.848467  0.944434  0.177722  0.222940  1.011313  0.795863  \n",
       "2      0.336174  0.864266  0.962019  0.352691  0.442426  1.030144  0.810682  \n",
       "3      0.336174  0.823691  0.916855  0.407209  0.510816  0.981781  0.772623  \n",
       "4      0.595793  0.845343  0.940956  0.177089  0.222146  1.007588  0.792932  \n",
       "...         ...       ...       ...       ...       ...       ...       ...  \n",
       "35131  0.153109  0.803007  0.893832  0.189444  0.237645  0.957128  0.753222  \n",
       "35132  0.059912  0.764237  0.850676  0.185359  0.232519  0.910916  0.716855  \n",
       "35133  0.059912  0.784436  0.873160  0.210568  0.264142  0.934992  0.735802  \n",
       "35134  0.063241  0.517310  0.575820  0.174381  0.218749  0.616596  0.485237  \n",
       "35135  0.063241  0.420273  0.467808  0.192433  0.241394  0.500935  0.394216  \n",
       "\n",
       "[35136 rows x 51 columns]"
      ]
     },
     "execution_count": 2,
     "metadata": {},
     "output_type": "execute_result"
    }
   ],
   "source": [
    "data = pd.read_excel(\"~/datasets/Dataset.xlsx\", sheet_name=['Total Consumers'])\n",
    "df = data['Total Consumers']\n",
    "number_of_houses = len(df.columns)\n",
    "df"
   ]
  },
  {
   "cell_type": "code",
   "execution_count": 3,
   "id": "f557f165",
   "metadata": {},
   "outputs": [
    {
     "data": {
      "text/html": [
       "<div>\n",
       "<style scoped>\n",
       "    .dataframe tbody tr th:only-of-type {\n",
       "        vertical-align: middle;\n",
       "    }\n",
       "\n",
       "    .dataframe tbody tr th {\n",
       "        vertical-align: top;\n",
       "    }\n",
       "\n",
       "    .dataframe thead th {\n",
       "        text-align: right;\n",
       "    }\n",
       "</style>\n",
       "<table border=\"1\" class=\"dataframe\">\n",
       "  <thead>\n",
       "    <tr style=\"text-align: right;\">\n",
       "      <th></th>\n",
       "      <th>Energy</th>\n",
       "    </tr>\n",
       "  </thead>\n",
       "  <tbody>\n",
       "    <tr>\n",
       "      <th>0</th>\n",
       "      <td>58.514142</td>\n",
       "    </tr>\n",
       "    <tr>\n",
       "      <th>1</th>\n",
       "      <td>57.575249</td>\n",
       "    </tr>\n",
       "    <tr>\n",
       "      <th>2</th>\n",
       "      <td>63.011688</td>\n",
       "    </tr>\n",
       "    <tr>\n",
       "      <th>3</th>\n",
       "      <td>62.735722</td>\n",
       "    </tr>\n",
       "    <tr>\n",
       "      <th>4</th>\n",
       "      <td>63.404029</td>\n",
       "    </tr>\n",
       "    <tr>\n",
       "      <th>...</th>\n",
       "      <td>...</td>\n",
       "    </tr>\n",
       "    <tr>\n",
       "      <th>35131</th>\n",
       "      <td>49.211311</td>\n",
       "    </tr>\n",
       "    <tr>\n",
       "      <th>35132</th>\n",
       "      <td>43.139892</td>\n",
       "    </tr>\n",
       "    <tr>\n",
       "      <th>35133</th>\n",
       "      <td>44.599341</td>\n",
       "    </tr>\n",
       "    <tr>\n",
       "      <th>35134</th>\n",
       "      <td>28.956084</td>\n",
       "    </tr>\n",
       "    <tr>\n",
       "      <th>35135</th>\n",
       "      <td>25.944837</td>\n",
       "    </tr>\n",
       "  </tbody>\n",
       "</table>\n",
       "<p>35136 rows × 1 columns</p>\n",
       "</div>"
      ],
      "text/plain": [
       "          Energy\n",
       "0      58.514142\n",
       "1      57.575249\n",
       "2      63.011688\n",
       "3      62.735722\n",
       "4      63.404029\n",
       "...          ...\n",
       "35131  49.211311\n",
       "35132  43.139892\n",
       "35133  44.599341\n",
       "35134  28.956084\n",
       "35135  25.944837\n",
       "\n",
       "[35136 rows x 1 columns]"
      ]
     },
     "execution_count": 3,
     "metadata": {},
     "output_type": "execute_result"
    }
   ],
   "source": [
    "df_total = pd.DataFrame(df.sum(axis=1))\n",
    "df_total.columns = ['Energy']\n",
    "df_total"
   ]
  },
  {
   "attachments": {},
   "cell_type": "markdown",
   "id": "26c25c30",
   "metadata": {},
   "source": [
    "#### Example of past timesteps"
   ]
  },
  {
   "cell_type": "code",
   "execution_count": 4,
   "id": "f041a0af",
   "metadata": {},
   "outputs": [
    {
     "data": {
      "text/html": [
       "<div>\n",
       "<style scoped>\n",
       "    .dataframe tbody tr th:only-of-type {\n",
       "        vertical-align: middle;\n",
       "    }\n",
       "\n",
       "    .dataframe tbody tr th {\n",
       "        vertical-align: top;\n",
       "    }\n",
       "\n",
       "    .dataframe thead th {\n",
       "        text-align: right;\n",
       "    }\n",
       "</style>\n",
       "<table border=\"1\" class=\"dataframe\">\n",
       "  <thead>\n",
       "    <tr style=\"text-align: right;\">\n",
       "      <th></th>\n",
       "      <th>lag_1</th>\n",
       "      <th>lag_2</th>\n",
       "      <th>lag_3</th>\n",
       "    </tr>\n",
       "  </thead>\n",
       "  <tbody>\n",
       "    <tr>\n",
       "      <th>0</th>\n",
       "      <td>63.011688</td>\n",
       "      <td>57.575249</td>\n",
       "      <td>58.514142</td>\n",
       "    </tr>\n",
       "    <tr>\n",
       "      <th>1</th>\n",
       "      <td>62.735722</td>\n",
       "      <td>63.011688</td>\n",
       "      <td>57.575249</td>\n",
       "    </tr>\n",
       "    <tr>\n",
       "      <th>2</th>\n",
       "      <td>63.404029</td>\n",
       "      <td>62.735722</td>\n",
       "      <td>63.011688</td>\n",
       "    </tr>\n",
       "    <tr>\n",
       "      <th>3</th>\n",
       "      <td>63.710440</td>\n",
       "      <td>63.404029</td>\n",
       "      <td>62.735722</td>\n",
       "    </tr>\n",
       "    <tr>\n",
       "      <th>4</th>\n",
       "      <td>50.544573</td>\n",
       "      <td>63.710440</td>\n",
       "      <td>63.404029</td>\n",
       "    </tr>\n",
       "    <tr>\n",
       "      <th>...</th>\n",
       "      <td>...</td>\n",
       "      <td>...</td>\n",
       "      <td>...</td>\n",
       "    </tr>\n",
       "    <tr>\n",
       "      <th>35128</th>\n",
       "      <td>62.642645</td>\n",
       "      <td>39.394640</td>\n",
       "      <td>42.250176</td>\n",
       "    </tr>\n",
       "    <tr>\n",
       "      <th>35129</th>\n",
       "      <td>49.211311</td>\n",
       "      <td>62.642645</td>\n",
       "      <td>39.394640</td>\n",
       "    </tr>\n",
       "    <tr>\n",
       "      <th>35130</th>\n",
       "      <td>43.139892</td>\n",
       "      <td>49.211311</td>\n",
       "      <td>62.642645</td>\n",
       "    </tr>\n",
       "    <tr>\n",
       "      <th>35131</th>\n",
       "      <td>44.599341</td>\n",
       "      <td>43.139892</td>\n",
       "      <td>49.211311</td>\n",
       "    </tr>\n",
       "    <tr>\n",
       "      <th>35132</th>\n",
       "      <td>28.956084</td>\n",
       "      <td>44.599341</td>\n",
       "      <td>43.139892</td>\n",
       "    </tr>\n",
       "  </tbody>\n",
       "</table>\n",
       "<p>35133 rows × 3 columns</p>\n",
       "</div>"
      ],
      "text/plain": [
       "           lag_1      lag_2      lag_3\n",
       "0      63.011688  57.575249  58.514142\n",
       "1      62.735722  63.011688  57.575249\n",
       "2      63.404029  62.735722  63.011688\n",
       "3      63.710440  63.404029  62.735722\n",
       "4      50.544573  63.710440  63.404029\n",
       "...          ...        ...        ...\n",
       "35128  62.642645  39.394640  42.250176\n",
       "35129  49.211311  62.642645  39.394640\n",
       "35130  43.139892  49.211311  62.642645\n",
       "35131  44.599341  43.139892  49.211311\n",
       "35132  28.956084  44.599341  43.139892\n",
       "\n",
       "[35133 rows x 3 columns]"
      ]
     },
     "execution_count": 4,
     "metadata": {},
     "output_type": "execute_result"
    }
   ],
   "source": [
    "Xt, yt = last_energy_points(df_total, 3)\n",
    "Xt"
   ]
  },
  {
   "cell_type": "code",
   "execution_count": 5,
   "id": "83459f59",
   "metadata": {},
   "outputs": [
    {
     "data": {
      "text/plain": [
       "array([[0.36540976, 0.33113298, 0.33705271],\n",
       "       [0.36366979, 0.36540976, 0.33113298],\n",
       "       [0.36788347, 0.36366979, 0.36540976],\n",
       "       ...,\n",
       "       [0.24011798, 0.27839831, 0.36308294],\n",
       "       [0.24931982, 0.24011798, 0.27839831],\n",
       "       [0.15068901, 0.24931982, 0.24011798]])"
      ]
     },
     "execution_count": 5,
     "metadata": {},
     "output_type": "execute_result"
    }
   ],
   "source": [
    "Xt_norm, _ = normalize_training(Xt)\n",
    "Xt_norm"
   ]
  },
  {
   "cell_type": "code",
   "execution_count": 6,
   "id": "a80c8626",
   "metadata": {},
   "outputs": [
    {
     "data": {
      "text/html": [
       "<div>\n",
       "<style scoped>\n",
       "    .dataframe tbody tr th:only-of-type {\n",
       "        vertical-align: middle;\n",
       "    }\n",
       "\n",
       "    .dataframe tbody tr th {\n",
       "        vertical-align: top;\n",
       "    }\n",
       "\n",
       "    .dataframe thead th {\n",
       "        text-align: right;\n",
       "    }\n",
       "</style>\n",
       "<table border=\"1\" class=\"dataframe\">\n",
       "  <thead>\n",
       "    <tr style=\"text-align: right;\">\n",
       "      <th></th>\n",
       "      <th>Energy</th>\n",
       "    </tr>\n",
       "  </thead>\n",
       "  <tbody>\n",
       "    <tr>\n",
       "      <th>0</th>\n",
       "      <td>62.735722</td>\n",
       "    </tr>\n",
       "    <tr>\n",
       "      <th>1</th>\n",
       "      <td>63.404029</td>\n",
       "    </tr>\n",
       "    <tr>\n",
       "      <th>2</th>\n",
       "      <td>63.710440</td>\n",
       "    </tr>\n",
       "    <tr>\n",
       "      <th>3</th>\n",
       "      <td>50.544573</td>\n",
       "    </tr>\n",
       "    <tr>\n",
       "      <th>4</th>\n",
       "      <td>49.966228</td>\n",
       "    </tr>\n",
       "    <tr>\n",
       "      <th>...</th>\n",
       "      <td>...</td>\n",
       "    </tr>\n",
       "    <tr>\n",
       "      <th>35128</th>\n",
       "      <td>49.211311</td>\n",
       "    </tr>\n",
       "    <tr>\n",
       "      <th>35129</th>\n",
       "      <td>43.139892</td>\n",
       "    </tr>\n",
       "    <tr>\n",
       "      <th>35130</th>\n",
       "      <td>44.599341</td>\n",
       "    </tr>\n",
       "    <tr>\n",
       "      <th>35131</th>\n",
       "      <td>28.956084</td>\n",
       "    </tr>\n",
       "    <tr>\n",
       "      <th>35132</th>\n",
       "      <td>25.944837</td>\n",
       "    </tr>\n",
       "  </tbody>\n",
       "</table>\n",
       "<p>35133 rows × 1 columns</p>\n",
       "</div>"
      ],
      "text/plain": [
       "          Energy\n",
       "0      62.735722\n",
       "1      63.404029\n",
       "2      63.710440\n",
       "3      50.544573\n",
       "4      49.966228\n",
       "...          ...\n",
       "35128  49.211311\n",
       "35129  43.139892\n",
       "35130  44.599341\n",
       "35131  28.956084\n",
       "35132  25.944837\n",
       "\n",
       "[35133 rows x 1 columns]"
      ]
     },
     "execution_count": 6,
     "metadata": {},
     "output_type": "execute_result"
    }
   ],
   "source": [
    "yt"
   ]
  },
  {
   "cell_type": "markdown",
   "id": "66ae0bca",
   "metadata": {},
   "source": [
    "# No ML"
   ]
  },
  {
   "cell_type": "code",
   "execution_count": 7,
   "id": "956409fe",
   "metadata": {},
   "outputs": [
    {
     "data": {
      "text/html": [
       "<div>\n",
       "<style scoped>\n",
       "    .dataframe tbody tr th:only-of-type {\n",
       "        vertical-align: middle;\n",
       "    }\n",
       "\n",
       "    .dataframe tbody tr th {\n",
       "        vertical-align: top;\n",
       "    }\n",
       "\n",
       "    .dataframe thead th {\n",
       "        text-align: right;\n",
       "    }\n",
       "</style>\n",
       "<table border=\"1\" class=\"dataframe\">\n",
       "  <thead>\n",
       "    <tr style=\"text-align: right;\">\n",
       "      <th></th>\n",
       "      <th>Energy</th>\n",
       "    </tr>\n",
       "  </thead>\n",
       "  <tbody>\n",
       "    <tr>\n",
       "      <th>0</th>\n",
       "      <td>58.514142</td>\n",
       "    </tr>\n",
       "    <tr>\n",
       "      <th>1</th>\n",
       "      <td>57.575249</td>\n",
       "    </tr>\n",
       "    <tr>\n",
       "      <th>2</th>\n",
       "      <td>63.011688</td>\n",
       "    </tr>\n",
       "    <tr>\n",
       "      <th>3</th>\n",
       "      <td>62.735722</td>\n",
       "    </tr>\n",
       "    <tr>\n",
       "      <th>4</th>\n",
       "      <td>63.404029</td>\n",
       "    </tr>\n",
       "    <tr>\n",
       "      <th>...</th>\n",
       "      <td>...</td>\n",
       "    </tr>\n",
       "    <tr>\n",
       "      <th>35130</th>\n",
       "      <td>62.642645</td>\n",
       "    </tr>\n",
       "    <tr>\n",
       "      <th>35131</th>\n",
       "      <td>49.211311</td>\n",
       "    </tr>\n",
       "    <tr>\n",
       "      <th>35132</th>\n",
       "      <td>43.139892</td>\n",
       "    </tr>\n",
       "    <tr>\n",
       "      <th>35133</th>\n",
       "      <td>44.599341</td>\n",
       "    </tr>\n",
       "    <tr>\n",
       "      <th>35134</th>\n",
       "      <td>28.956084</td>\n",
       "    </tr>\n",
       "  </tbody>\n",
       "</table>\n",
       "<p>35135 rows × 1 columns</p>\n",
       "</div>"
      ],
      "text/plain": [
       "          Energy\n",
       "0      58.514142\n",
       "1      57.575249\n",
       "2      63.011688\n",
       "3      62.735722\n",
       "4      63.404029\n",
       "...          ...\n",
       "35130  62.642645\n",
       "35131  49.211311\n",
       "35132  43.139892\n",
       "35133  44.599341\n",
       "35134  28.956084\n",
       "\n",
       "[35135 rows x 1 columns]"
      ]
     },
     "execution_count": 7,
     "metadata": {},
     "output_type": "execute_result"
    }
   ],
   "source": [
    "X15 = df_total.copy()\n",
    "X15 = X15.iloc[:-1]\n",
    "X15.reset_index(drop=True, inplace=True)\n",
    "X15"
   ]
  },
  {
   "cell_type": "code",
   "execution_count": 8,
   "id": "dfd3eace",
   "metadata": {},
   "outputs": [
    {
     "data": {
      "text/html": [
       "<div>\n",
       "<style scoped>\n",
       "    .dataframe tbody tr th:only-of-type {\n",
       "        vertical-align: middle;\n",
       "    }\n",
       "\n",
       "    .dataframe tbody tr th {\n",
       "        vertical-align: top;\n",
       "    }\n",
       "\n",
       "    .dataframe thead th {\n",
       "        text-align: right;\n",
       "    }\n",
       "</style>\n",
       "<table border=\"1\" class=\"dataframe\">\n",
       "  <thead>\n",
       "    <tr style=\"text-align: right;\">\n",
       "      <th></th>\n",
       "      <th>Energy</th>\n",
       "    </tr>\n",
       "  </thead>\n",
       "  <tbody>\n",
       "    <tr>\n",
       "      <th>0</th>\n",
       "      <td>57.575249</td>\n",
       "    </tr>\n",
       "    <tr>\n",
       "      <th>1</th>\n",
       "      <td>63.011688</td>\n",
       "    </tr>\n",
       "    <tr>\n",
       "      <th>2</th>\n",
       "      <td>62.735722</td>\n",
       "    </tr>\n",
       "    <tr>\n",
       "      <th>3</th>\n",
       "      <td>63.404029</td>\n",
       "    </tr>\n",
       "    <tr>\n",
       "      <th>4</th>\n",
       "      <td>63.710440</td>\n",
       "    </tr>\n",
       "    <tr>\n",
       "      <th>...</th>\n",
       "      <td>...</td>\n",
       "    </tr>\n",
       "    <tr>\n",
       "      <th>35130</th>\n",
       "      <td>49.211311</td>\n",
       "    </tr>\n",
       "    <tr>\n",
       "      <th>35131</th>\n",
       "      <td>43.139892</td>\n",
       "    </tr>\n",
       "    <tr>\n",
       "      <th>35132</th>\n",
       "      <td>44.599341</td>\n",
       "    </tr>\n",
       "    <tr>\n",
       "      <th>35133</th>\n",
       "      <td>28.956084</td>\n",
       "    </tr>\n",
       "    <tr>\n",
       "      <th>35134</th>\n",
       "      <td>25.944837</td>\n",
       "    </tr>\n",
       "  </tbody>\n",
       "</table>\n",
       "<p>35135 rows × 1 columns</p>\n",
       "</div>"
      ],
      "text/plain": [
       "          Energy\n",
       "0      57.575249\n",
       "1      63.011688\n",
       "2      62.735722\n",
       "3      63.404029\n",
       "4      63.710440\n",
       "...          ...\n",
       "35130  49.211311\n",
       "35131  43.139892\n",
       "35132  44.599341\n",
       "35133  28.956084\n",
       "35134  25.944837\n",
       "\n",
       "[35135 rows x 1 columns]"
      ]
     },
     "execution_count": 8,
     "metadata": {},
     "output_type": "execute_result"
    }
   ],
   "source": [
    "y15 = df_total.copy()\n",
    "y15 = y15.iloc[1:]\n",
    "y15.reset_index(drop=True, inplace=True)\n",
    "y15"
   ]
  },
  {
   "cell_type": "code",
   "execution_count": 51,
   "id": "2910c7fb",
   "metadata": {},
   "outputs": [
    {
     "name": "stdout",
     "output_type": "stream",
     "text": [
      "RMSE: 11.3868\n",
      "WAPE: 19.97\n",
      "R2: 0.6880\n"
     ]
    }
   ],
   "source": [
    "rmse_15, wape_15, r2_15 = no_ml_predict(X15.values, y15.values)"
   ]
  },
  {
   "attachments": {},
   "cell_type": "markdown",
   "id": "782b5afc",
   "metadata": {},
   "source": [
    "# Linear Regression"
   ]
  },
  {
   "cell_type": "code",
   "execution_count": 10,
   "id": "4b3ee30c",
   "metadata": {},
   "outputs": [],
   "source": [
    "number_of_past_timesteps = 96"
   ]
  },
  {
   "cell_type": "code",
   "execution_count": 11,
   "id": "e43bf7e9",
   "metadata": {},
   "outputs": [],
   "source": [
    "n_splits = 10"
   ]
  },
  {
   "cell_type": "code",
   "execution_count": 12,
   "id": "d2f2747f",
   "metadata": {
    "scrolled": true
   },
   "outputs": [
    {
     "name": "stdout",
     "output_type": "stream",
     "text": [
      "\n",
      "Iteration  0\n",
      "RMSE: 11.5090\n",
      "WAPE: 19.88\n",
      "R2: 0.7345\n",
      "\n",
      "Elapsed time: 0.034 seconds\n",
      "\n",
      "Iteration  1\n",
      "RMSE: 11.5607\n",
      "WAPE: 19.32\n",
      "R2: 0.7077\n",
      "\n",
      "Elapsed time: 0.044 seconds\n",
      "\n",
      "Iteration  2\n",
      "RMSE: 9.9568\n",
      "WAPE: 20.97\n",
      "R2: 0.6325\n",
      "\n",
      "Elapsed time: 0.029 seconds\n",
      "\n",
      "Iteration  3\n",
      "RMSE: 9.7141\n",
      "WAPE: 21.52\n",
      "R2: 0.5175\n",
      "\n",
      "Elapsed time: 0.033 seconds\n",
      "\n",
      "Iteration  4\n",
      "RMSE: 8.9376\n",
      "WAPE: 21.65\n",
      "R2: 0.5357\n",
      "\n",
      "Elapsed time: 0.044 seconds\n",
      "\n",
      "Iteration  5\n",
      "RMSE: 8.2730\n",
      "WAPE: 22.15\n",
      "R2: 0.6066\n",
      "\n",
      "Elapsed time: 0.048 seconds\n",
      "\n",
      "Iteration  6\n",
      "RMSE: 9.5784\n",
      "WAPE: 20.10\n",
      "R2: 0.5878\n",
      "\n",
      "Elapsed time: 0.060 seconds\n",
      "\n",
      "Iteration  7\n",
      "RMSE: 10.6085\n",
      "WAPE: 17.82\n",
      "R2: 0.6739\n",
      "\n",
      "Elapsed time: 0.085 seconds\n",
      "\n",
      "Iteration  8\n",
      "RMSE: 11.2139\n",
      "WAPE: 17.95\n",
      "R2: 0.7629\n",
      "\n",
      "Elapsed time: 0.097 seconds\n",
      "\n",
      "Iteration  9\n",
      "RMSE: 12.2507\n",
      "WAPE: 17.91\n",
      "R2: 0.7550\n",
      "\n",
      "Elapsed time: 0.092 seconds\n"
     ]
    }
   ],
   "source": [
    "metrics_list_lr = []\n",
    "\n",
    "X, y = last_energy_points(df_total, number_of_past_timesteps)\n",
    "\n",
    "for i in range(n_splits):\n",
    "    start = time.time()\n",
    "    print(\"\\nIteration \", i)\n",
    "\n",
    "\n",
    "    X_train, X_test, y_train, y_test = expanding_window_split(X, y, cv=i, n_splits=n_splits)\n",
    "\n",
    "    X_train_norm, scaler = normalize_training(X_train)\n",
    "    X_test_norm = scaler.transform(X_test)\n",
    "\n",
    "    rmse, wape, r2, _ = predict_results(X_train_norm, X_test_norm, y_train, y_test, LinearRegression())\n",
    "    metrics_list_lr.append((rmse,wape,r2))\n",
    "    print(\"\\nElapsed time: %.3f seconds\" % (time.time() - start))"
   ]
  },
  {
   "cell_type": "code",
   "execution_count": 13,
   "id": "c8e6e7d7",
   "metadata": {},
   "outputs": [
    {
     "name": "stdout",
     "output_type": "stream",
     "text": [
      "Total Averaged RMSE: 10.36\n",
      "Total Averaged WAPE: 19.927\n",
      "Total Averaged R2: 0.651\n"
     ]
    }
   ],
   "source": [
    "rmse_lr, wape_lr, r2_lr = total_averaged_metrics(metrics_list_lr)"
   ]
  },
  {
   "cell_type": "code",
   "execution_count": 14,
   "id": "bf986d73",
   "metadata": {},
   "outputs": [],
   "source": [
    "col1 = [row[0] for row in metrics_list_lr]\n",
    "col2 = [row[1] for row in metrics_list_lr]\n",
    "col3 = [row[2] for row in metrics_list_lr]"
   ]
  },
  {
   "cell_type": "code",
   "execution_count": 15,
   "id": "8b741a06",
   "metadata": {},
   "outputs": [
    {
     "data": {
      "text/plain": [
       "Text(0.5, 0, 'EW Iterations')"
      ]
     },
     "execution_count": 15,
     "metadata": {},
     "output_type": "execute_result"
    },
    {
     "data": {
      "image/png": "[encoded data removed]",
      "text/plain": [
       "<Figure size 400x400 with 1 Axes>"
      ]
     },
     "metadata": {},
     "output_type": "display_data"
    }
   ],
   "source": [
    "plt.figure(figsize=(4, 4)) \n",
    "plt.plot(col1)\n",
    "plt.title('Aggregated LR RMSE')\n",
    "plt.ylabel('RMSE')\n",
    "plt.xlabel('EW Iterations')"
   ]
  },
  {
   "cell_type": "code",
   "execution_count": 16,
   "id": "abd82c2b",
   "metadata": {},
   "outputs": [
    {
     "data": {
      "text/plain": [
       "Text(0.5, 0, 'EW Iterations')"
      ]
     },
     "execution_count": 16,
     "metadata": {},
     "output_type": "execute_result"
    },
    {
     "data": {
      "image/png": "[encoded data removed]",
      "text/plain": [
       "<Figure size 400x400 with 1 Axes>"
      ]
     },
     "metadata": {},
     "output_type": "display_data"
    }
   ],
   "source": [
    "plt.figure(figsize=(4, 4)) \n",
    "plt.plot(col2)\n",
    "plt.title('Aggregated LR WAPE')\n",
    "plt.ylabel('WAPE')\n",
    "plt.xlabel('EW Iterations')"
   ]
  },
  {
   "cell_type": "code",
   "execution_count": 17,
   "id": "6fb9d81c",
   "metadata": {},
   "outputs": [
    {
     "data": {
      "text/plain": [
       "Text(0.5, 0, 'EW Iterations')"
      ]
     },
     "execution_count": 17,
     "metadata": {},
     "output_type": "execute_result"
    },
    {
     "data": {
      "image/png": "[encoded data removed]",
      "text/plain": [
       "<Figure size 400x400 with 1 Axes>"
      ]
     },
     "metadata": {},
     "output_type": "display_data"
    }
   ],
   "source": [
    "plt.figure(figsize=(4, 4)) \n",
    "plt.plot(col3)\n",
    "plt.title('Aggregated LR R2')\n",
    "plt.ylabel('R2')\n",
    "plt.xlabel('EW Iterations')"
   ]
  },
  {
   "cell_type": "markdown",
   "id": "344e5c79",
   "metadata": {},
   "source": [
    "# XGBoost"
   ]
  },
  {
   "cell_type": "code",
   "execution_count": 18,
   "id": "e12691ab",
   "metadata": {},
   "outputs": [
    {
     "name": "stdout",
     "output_type": "stream",
     "text": [
      "\n",
      "Iteration  0\n",
      "RMSE: 12.8484\n",
      "WAPE: 22.96\n",
      "R2: 0.6691\n",
      "\n",
      "Elapsed time: 1.594 seconds\n",
      "\n",
      "Iteration  1\n",
      "RMSE: 12.1498\n",
      "WAPE: 20.56\n",
      "R2: 0.6772\n",
      "\n",
      "Elapsed time: 0.144 seconds\n",
      "\n",
      "Iteration  2\n",
      "RMSE: 10.6261\n",
      "WAPE: 22.81\n",
      "R2: 0.5814\n",
      "\n",
      "Elapsed time: 0.146 seconds\n",
      "\n",
      "Iteration  3\n",
      "RMSE: 10.2400\n",
      "WAPE: 23.01\n",
      "R2: 0.4639\n",
      "\n",
      "Elapsed time: 0.151 seconds\n",
      "\n",
      "Iteration  4\n",
      "RMSE: 9.6720\n",
      "WAPE: 23.97\n",
      "R2: 0.4563\n",
      "\n",
      "Elapsed time: 0.156 seconds\n",
      "\n",
      "Iteration  5\n",
      "RMSE: 9.0616\n",
      "WAPE: 25.22\n",
      "R2: 0.5280\n",
      "\n",
      "Elapsed time: 0.163 seconds\n",
      "\n",
      "Iteration  6\n",
      "RMSE: 9.9829\n",
      "WAPE: 21.10\n",
      "R2: 0.5523\n",
      "\n",
      "Elapsed time: 0.165 seconds\n",
      "\n",
      "Iteration  7\n",
      "RMSE: 11.2848\n",
      "WAPE: 19.35\n",
      "R2: 0.6310\n",
      "\n",
      "Elapsed time: 0.178 seconds\n",
      "\n",
      "Iteration  8\n",
      "RMSE: 12.3107\n",
      "WAPE: 20.02\n",
      "R2: 0.7143\n",
      "\n",
      "Elapsed time: 0.175 seconds\n",
      "\n",
      "Iteration  9\n",
      "RMSE: 12.9834\n",
      "WAPE: 19.23\n",
      "R2: 0.7248\n",
      "\n",
      "Elapsed time: 0.179 seconds\n"
     ]
    }
   ],
   "source": [
    "metrics_list_xgb = []\n",
    "\n",
    "for i in range(n_splits):\n",
    "    start = time.time()\n",
    "    print(\"\\nIteration \", i)\n",
    "\n",
    "\n",
    "    X_train, X_test, y_train, y_test = expanding_window_split(X, y, cv=i, n_splits=n_splits)\n",
    "\n",
    "    X_train_norm, scaler = normalize_training(X_train)\n",
    "    X_test_norm = scaler.transform(X_test)\n",
    "\n",
    "    rmse, wape, r2, model_xgb = predict_results(X_train_norm, X_test_norm, y_train, y_test, xgb.XGBRegressor(seed=42, tree_method='gpu_hist'))\n",
    "    metrics_list_xgb.append((rmse,wape,r2))\n",
    "    print(\"\\nElapsed time: %.3f seconds\" % (time.time() - start))"
   ]
  },
  {
   "cell_type": "code",
   "execution_count": 19,
   "id": "69ef7bfe",
   "metadata": {},
   "outputs": [
    {
     "name": "stdout",
     "output_type": "stream",
     "text": [
      "Total Averaged RMSE: 11.116\n",
      "Total Averaged WAPE: 21.823\n",
      "Total Averaged R2: 0.6\n"
     ]
    }
   ],
   "source": [
    "rmse_xgb, wape_xgb, r2_xgb = total_averaged_metrics(metrics_list_xgb)"
   ]
  },
  {
   "cell_type": "code",
   "execution_count": 20,
   "id": "f0725b6f",
   "metadata": {},
   "outputs": [],
   "source": [
    "col1 = [row[0] for row in metrics_list_xgb]\n",
    "col2 = [row[1] for row in metrics_list_xgb]\n",
    "col3 = [row[2] for row in metrics_list_xgb]"
   ]
  },
  {
   "cell_type": "code",
   "execution_count": 21,
   "id": "b6e16f3d",
   "metadata": {},
   "outputs": [
    {
     "data": {
      "text/plain": [
       "Text(0.5, 0, 'EW Iterations')"
      ]
     },
     "execution_count": 21,
     "metadata": {},
     "output_type": "execute_result"
    },
    {
     "data": {
      "image/png": "[encoded data removed]",
      "text/plain": [
       "<Figure size 400x400 with 1 Axes>"
      ]
     },
     "metadata": {},
     "output_type": "display_data"
    }
   ],
   "source": [
    "plt.figure(figsize=(4, 4)) \n",
    "plt.plot(col1)\n",
    "plt.title('Aggregated XGB RMSE')\n",
    "plt.ylabel('RMSE')\n",
    "plt.xlabel('EW Iterations')"
   ]
  },
  {
   "cell_type": "code",
   "execution_count": 22,
   "id": "52d4b25e",
   "metadata": {},
   "outputs": [
    {
     "data": {
      "text/plain": [
       "Text(0.5, 0, 'EW Iterations')"
      ]
     },
     "execution_count": 22,
     "metadata": {},
     "output_type": "execute_result"
    },
    {
     "data": {
      "image/png": "[encoded data removed]",
      "text/plain": [
       "<Figure size 400x400 with 1 Axes>"
      ]
     },
     "metadata": {},
     "output_type": "display_data"
    }
   ],
   "source": [
    "plt.figure(figsize=(4, 4)) \n",
    "plt.plot(col2)\n",
    "plt.title('Aggregated XGB WAPE')\n",
    "plt.ylabel('WAPE')\n",
    "plt.xlabel('EW Iterations')"
   ]
  },
  {
   "cell_type": "code",
   "execution_count": 23,
   "id": "28cd8d5a",
   "metadata": {},
   "outputs": [
    {
     "data": {
      "text/plain": [
       "Text(0.5, 0, 'EW Iterations')"
      ]
     },
     "execution_count": 23,
     "metadata": {},
     "output_type": "execute_result"
    },
    {
     "data": {
      "image/png": "[encoded data removed]",
      "text/plain": [
       "<Figure size 400x400 with 1 Axes>"
      ]
     },
     "metadata": {},
     "output_type": "display_data"
    }
   ],
   "source": [
    "plt.figure(figsize=(4, 4)) \n",
    "plt.plot(col3)\n",
    "plt.title('Aggregated XGB R2')\n",
    "plt.ylabel('R2')\n",
    "plt.xlabel('EW Iterations')"
   ]
  },
  {
   "cell_type": "markdown",
   "id": "18ce8f6d",
   "metadata": {},
   "source": [
    "# Random Forest"
   ]
  },
  {
   "cell_type": "code",
   "execution_count": 24,
   "id": "93b423c3",
   "metadata": {},
   "outputs": [
    {
     "name": "stdout",
     "output_type": "stream",
     "text": [
      "\n",
      "Iteration  0\n"
     ]
    },
    {
     "name": "stderr",
     "output_type": "stream",
     "text": [
      "/home/francisco.monteiro@av.it.pt/miniconda3/envs/rapids-23.02/lib/python3.8/site-packages/cuml/internals/api_decorators.py:190: UserWarning: To use pickling first train using float32 data to fit the estimator\n",
      "  ret = func(*args, **kwargs)\n",
      "/home/francisco.monteiro@av.it.pt/miniconda3/envs/rapids-23.02/lib/python3.8/site-packages/cuml/internals/api_decorators.py:190: UserWarning: To use pickling first train using float32 data to fit the estimator\n",
      "  ret = func(*args, **kwargs)\n"
     ]
    },
    {
     "name": "stdout",
     "output_type": "stream",
     "text": [
      "RMSE: 11.9463\n",
      "WAPE: 21.12\n",
      "R2: 0.7139\n",
      "\n",
      "Elapsed time: 0.524 seconds\n",
      "\n",
      "Iteration  1\n",
      "RMSE: 11.6925\n",
      "WAPE: 19.43\n",
      "R2: 0.7010\n",
      "\n",
      "Elapsed time: 0.612 seconds\n",
      "\n",
      "Iteration  2\n"
     ]
    },
    {
     "name": "stderr",
     "output_type": "stream",
     "text": [
      "/home/francisco.monteiro@av.it.pt/miniconda3/envs/rapids-23.02/lib/python3.8/site-packages/cuml/internals/api_decorators.py:190: UserWarning: To use pickling first train using float32 data to fit the estimator\n",
      "  ret = func(*args, **kwargs)\n",
      "/home/francisco.monteiro@av.it.pt/miniconda3/envs/rapids-23.02/lib/python3.8/site-packages/cuml/internals/api_decorators.py:190: UserWarning: To use pickling first train using float32 data to fit the estimator\n",
      "  ret = func(*args, **kwargs)\n"
     ]
    },
    {
     "name": "stdout",
     "output_type": "stream",
     "text": [
      "RMSE: 10.1511\n",
      "WAPE: 21.67\n",
      "R2: 0.6180\n",
      "\n",
      "Elapsed time: 0.698 seconds\n",
      "\n",
      "Iteration  3\n",
      "RMSE: 9.7865\n",
      "WAPE: 21.77\n",
      "R2: 0.5103\n",
      "\n",
      "Elapsed time: 0.801 seconds\n",
      "\n",
      "Iteration  4\n"
     ]
    },
    {
     "name": "stderr",
     "output_type": "stream",
     "text": [
      "/home/francisco.monteiro@av.it.pt/miniconda3/envs/rapids-23.02/lib/python3.8/site-packages/cuml/internals/api_decorators.py:190: UserWarning: To use pickling first train using float32 data to fit the estimator\n",
      "  ret = func(*args, **kwargs)\n",
      "/home/francisco.monteiro@av.it.pt/miniconda3/envs/rapids-23.02/lib/python3.8/site-packages/cuml/internals/api_decorators.py:190: UserWarning: To use pickling first train using float32 data to fit the estimator\n",
      "  ret = func(*args, **kwargs)\n"
     ]
    },
    {
     "name": "stdout",
     "output_type": "stream",
     "text": [
      "RMSE: 9.2549\n",
      "WAPE: 23.18\n",
      "R2: 0.5022\n",
      "\n",
      "Elapsed time: 0.897 seconds\n",
      "\n",
      "Iteration  5\n",
      "RMSE: 8.7737\n",
      "WAPE: 24.68\n",
      "R2: 0.5575\n",
      "\n",
      "Elapsed time: 0.989 seconds\n",
      "\n",
      "Iteration  6\n"
     ]
    },
    {
     "name": "stderr",
     "output_type": "stream",
     "text": [
      "/home/francisco.monteiro@av.it.pt/miniconda3/envs/rapids-23.02/lib/python3.8/site-packages/cuml/internals/api_decorators.py:190: UserWarning: To use pickling first train using float32 data to fit the estimator\n",
      "  ret = func(*args, **kwargs)\n",
      "/home/francisco.monteiro@av.it.pt/miniconda3/envs/rapids-23.02/lib/python3.8/site-packages/cuml/internals/api_decorators.py:190: UserWarning: To use pickling first train using float32 data to fit the estimator\n",
      "  ret = func(*args, **kwargs)\n"
     ]
    },
    {
     "name": "stdout",
     "output_type": "stream",
     "text": [
      "RMSE: 9.7487\n",
      "WAPE: 20.59\n",
      "R2: 0.5730\n",
      "\n",
      "Elapsed time: 1.075 seconds\n",
      "\n",
      "Iteration  7\n",
      "RMSE: 10.8490\n",
      "WAPE: 18.27\n",
      "R2: 0.6589\n",
      "\n",
      "Elapsed time: 1.129 seconds\n",
      "\n",
      "Iteration  8\n"
     ]
    },
    {
     "name": "stderr",
     "output_type": "stream",
     "text": [
      "/home/francisco.monteiro@av.it.pt/miniconda3/envs/rapids-23.02/lib/python3.8/site-packages/cuml/internals/api_decorators.py:190: UserWarning: To use pickling first train using float32 data to fit the estimator\n",
      "  ret = func(*args, **kwargs)\n",
      "/home/francisco.monteiro@av.it.pt/miniconda3/envs/rapids-23.02/lib/python3.8/site-packages/cuml/internals/api_decorators.py:190: UserWarning: To use pickling first train using float32 data to fit the estimator\n",
      "  ret = func(*args, **kwargs)\n"
     ]
    },
    {
     "name": "stdout",
     "output_type": "stream",
     "text": [
      "RMSE: 11.6701\n",
      "WAPE: 18.86\n",
      "R2: 0.7432\n",
      "\n",
      "Elapsed time: 1.189 seconds\n",
      "\n",
      "Iteration  9\n",
      "RMSE: 12.5163\n",
      "WAPE: 18.64\n",
      "R2: 0.7443\n",
      "\n",
      "Elapsed time: 1.248 seconds\n"
     ]
    }
   ],
   "source": [
    "metrics_list_rf = []\n",
    "\n",
    "for i in range(n_splits):\n",
    "    start = time.time()\n",
    "    print(\"\\nIteration \", i)\n",
    "\n",
    "\n",
    "    X_train, X_test, y_train, y_test = expanding_window_split(X, y, cv=i, n_splits=n_splits)\n",
    "\n",
    "    X_train_norm, scaler = normalize_training(X_train)\n",
    "    X_test_norm = scaler.transform(X_test)\n",
    "\n",
    "    rmse, wape, r2, _ = predict_results(X_train_norm, X_test_norm, y_train, y_test, cuRF())\n",
    "    metrics_list_rf.append((rmse,wape,r2))\n",
    "    print(\"\\nElapsed time: %.3f seconds\" % (time.time() - start))"
   ]
  },
  {
   "cell_type": "code",
   "execution_count": 25,
   "id": "5f54deab",
   "metadata": {},
   "outputs": [
    {
     "name": "stdout",
     "output_type": "stream",
     "text": [
      "Total Averaged RMSE: 10.639\n",
      "Total Averaged WAPE: 20.821\n",
      "Total Averaged R2: 0.632\n"
     ]
    }
   ],
   "source": [
    "rmse_rf, wape_rf, r2_rf = total_averaged_metrics(metrics_list_rf)"
   ]
  },
  {
   "cell_type": "code",
   "execution_count": 26,
   "id": "5a02908b",
   "metadata": {},
   "outputs": [
    {
     "data": {
      "text/plain": [
       "[(11.9463, 21.12, 0.7139),\n",
       " (11.6925, 19.43, 0.701),\n",
       " (10.1511, 21.67, 0.618),\n",
       " (9.7865, 21.77, 0.5103),\n",
       " (9.2549, 23.18, 0.5022),\n",
       " (8.7737, 24.68, 0.5575),\n",
       " (9.7487, 20.59, 0.573),\n",
       " (10.849, 18.27, 0.6589),\n",
       " (11.6701, 18.86, 0.7432),\n",
       " (12.5163, 18.64, 0.7443)]"
      ]
     },
     "execution_count": 26,
     "metadata": {},
     "output_type": "execute_result"
    }
   ],
   "source": [
    "metrics_list_rf"
   ]
  },
  {
   "cell_type": "code",
   "execution_count": 27,
   "id": "ce33f0bc",
   "metadata": {},
   "outputs": [],
   "source": [
    "col1 = [row[0] for row in metrics_list_rf]\n",
    "col2 = [row[1] for row in metrics_list_rf]\n",
    "col3 = [row[2] for row in metrics_list_rf]"
   ]
  },
  {
   "cell_type": "code",
   "execution_count": 28,
   "id": "9c38810f",
   "metadata": {},
   "outputs": [
    {
     "data": {
      "text/plain": [
       "Text(0.5, 0, 'EW Iterations')"
      ]
     },
     "execution_count": 28,
     "metadata": {},
     "output_type": "execute_result"
    },
    {
     "data": {
      "image/png": "[encoded data removed]",
      "text/plain": [
       "<Figure size 400x400 with 1 Axes>"
      ]
     },
     "metadata": {},
     "output_type": "display_data"
    }
   ],
   "source": [
    "# Plot for the first column\n",
    "plt.figure(figsize=(4, 4)) # 1 row, 3 columns, 1st position\n",
    "plt.plot(col1)\n",
    "plt.title('Aggregated RF RMSE')\n",
    "plt.ylabel('RMSE')\n",
    "plt.xlabel('EW Iterations')"
   ]
  },
  {
   "cell_type": "code",
   "execution_count": 29,
   "id": "57659ef7",
   "metadata": {},
   "outputs": [
    {
     "data": {
      "text/plain": [
       "Text(0.5, 0, 'EW Iterations')"
      ]
     },
     "execution_count": 29,
     "metadata": {},
     "output_type": "execute_result"
    },
    {
     "data": {
      "image/png": "[encoded data removed]",
      "text/plain": [
       "<Figure size 400x400 with 1 Axes>"
      ]
     },
     "metadata": {},
     "output_type": "display_data"
    }
   ],
   "source": [
    "# Plot for the second column\n",
    "plt.figure(figsize=(4, 4))\n",
    "plt.title('Aggregated RF WAPE')\n",
    "plt.plot(col2)\n",
    "plt.ylabel('WAPE')\n",
    "plt.xlabel('EW Iterations')"
   ]
  },
  {
   "cell_type": "code",
   "execution_count": 30,
   "id": "849647e7",
   "metadata": {},
   "outputs": [
    {
     "data": {
      "text/plain": [
       "Text(0.5, 0, 'EW Iterations')"
      ]
     },
     "execution_count": 30,
     "metadata": {},
     "output_type": "execute_result"
    },
    {
     "data": {
      "image/png": "[encoded data removed]",
      "text/plain": [
       "<Figure size 400x400 with 1 Axes>"
      ]
     },
     "metadata": {},
     "output_type": "display_data"
    }
   ],
   "source": [
    "# Plot for the third column\n",
    "plt.figure(figsize=(4, 4))\n",
    "plt.title('Aggregated RF R2')\n",
    "plt.plot(col3)\n",
    "plt.ylabel('R2')\n",
    "plt.xlabel('EW Iterations')"
   ]
  },
  {
   "cell_type": "markdown",
   "id": "a2b2c65a",
   "metadata": {},
   "source": [
    "# Feature Selection"
   ]
  },
  {
   "cell_type": "code",
   "execution_count": 31,
   "id": "9b193d66",
   "metadata": {},
   "outputs": [
    {
     "data": {
      "text/plain": [
       "<Axes: >"
      ]
     },
     "execution_count": 31,
     "metadata": {},
     "output_type": "execute_result"
    },
    {
     "data": {
      "image/png": "[encoded data removed]",
      "text/plain": [
       "<Figure size 640x480 with 1 Axes>"
      ]
     },
     "metadata": {},
     "output_type": "display_data"
    }
   ],
   "source": [
    "feature_importance = pd.Series(model_xgb.feature_importances_, index=X.columns)\n",
    "feature_importance.nlargest(10).plot(kind='barh')"
   ]
  },
  {
   "cell_type": "code",
   "execution_count": 32,
   "id": "f74bf802",
   "metadata": {},
   "outputs": [
    {
     "data": {
      "text/html": [
       "<div>\n",
       "<style scoped>\n",
       "    .dataframe tbody tr th:only-of-type {\n",
       "        vertical-align: middle;\n",
       "    }\n",
       "\n",
       "    .dataframe tbody tr th {\n",
       "        vertical-align: top;\n",
       "    }\n",
       "\n",
       "    .dataframe thead th {\n",
       "        text-align: right;\n",
       "    }\n",
       "</style>\n",
       "<table border=\"1\" class=\"dataframe\">\n",
       "  <thead>\n",
       "    <tr style=\"text-align: right;\">\n",
       "      <th></th>\n",
       "      <th>lag_1</th>\n",
       "      <th>lag_96</th>\n",
       "      <th>lag_95</th>\n",
       "      <th>lag_94</th>\n",
       "      <th>lag_3</th>\n",
       "      <th>lag_93</th>\n",
       "      <th>lag_5</th>\n",
       "      <th>lag_91</th>\n",
       "      <th>lag_68</th>\n",
       "      <th>lag_92</th>\n",
       "    </tr>\n",
       "  </thead>\n",
       "  <tbody>\n",
       "    <tr>\n",
       "      <th>0</th>\n",
       "      <td>60.185391</td>\n",
       "      <td>58.514142</td>\n",
       "      <td>57.575249</td>\n",
       "      <td>63.011688</td>\n",
       "      <td>39.668909</td>\n",
       "      <td>62.735722</td>\n",
       "      <td>46.399861</td>\n",
       "      <td>63.710440</td>\n",
       "      <td>47.781851</td>\n",
       "      <td>63.404029</td>\n",
       "    </tr>\n",
       "    <tr>\n",
       "      <th>1</th>\n",
       "      <td>75.988362</td>\n",
       "      <td>57.575249</td>\n",
       "      <td>63.011688</td>\n",
       "      <td>62.735722</td>\n",
       "      <td>66.805930</td>\n",
       "      <td>63.404029</td>\n",
       "      <td>63.415043</td>\n",
       "      <td>50.544573</td>\n",
       "      <td>48.816634</td>\n",
       "      <td>63.710440</td>\n",
       "    </tr>\n",
       "    <tr>\n",
       "      <th>2</th>\n",
       "      <td>73.248235</td>\n",
       "      <td>63.011688</td>\n",
       "      <td>62.735722</td>\n",
       "      <td>63.404029</td>\n",
       "      <td>60.185391</td>\n",
       "      <td>63.710440</td>\n",
       "      <td>39.668909</td>\n",
       "      <td>49.966228</td>\n",
       "      <td>49.752752</td>\n",
       "      <td>50.544573</td>\n",
       "    </tr>\n",
       "    <tr>\n",
       "      <th>3</th>\n",
       "      <td>29.228225</td>\n",
       "      <td>62.735722</td>\n",
       "      <td>63.404029</td>\n",
       "      <td>63.710440</td>\n",
       "      <td>75.988362</td>\n",
       "      <td>50.544573</td>\n",
       "      <td>66.805930</td>\n",
       "      <td>50.950286</td>\n",
       "      <td>49.738363</td>\n",
       "      <td>49.966228</td>\n",
       "    </tr>\n",
       "    <tr>\n",
       "      <th>4</th>\n",
       "      <td>26.668414</td>\n",
       "      <td>63.404029</td>\n",
       "      <td>63.710440</td>\n",
       "      <td>50.544573</td>\n",
       "      <td>73.248235</td>\n",
       "      <td>49.966228</td>\n",
       "      <td>60.185391</td>\n",
       "      <td>53.039862</td>\n",
       "      <td>52.573781</td>\n",
       "      <td>50.950286</td>\n",
       "    </tr>\n",
       "    <tr>\n",
       "      <th>...</th>\n",
       "      <td>...</td>\n",
       "      <td>...</td>\n",
       "      <td>...</td>\n",
       "      <td>...</td>\n",
       "      <td>...</td>\n",
       "      <td>...</td>\n",
       "      <td>...</td>\n",
       "      <td>...</td>\n",
       "      <td>...</td>\n",
       "      <td>...</td>\n",
       "    </tr>\n",
       "    <tr>\n",
       "      <th>35035</th>\n",
       "      <td>62.642645</td>\n",
       "      <td>59.032763</td>\n",
       "      <td>61.748938</td>\n",
       "      <td>68.822483</td>\n",
       "      <td>42.250176</td>\n",
       "      <td>52.902303</td>\n",
       "      <td>46.176803</td>\n",
       "      <td>63.639275</td>\n",
       "      <td>32.924713</td>\n",
       "      <td>65.831927</td>\n",
       "    </tr>\n",
       "    <tr>\n",
       "      <th>35036</th>\n",
       "      <td>49.211311</td>\n",
       "      <td>61.748938</td>\n",
       "      <td>68.822483</td>\n",
       "      <td>52.902303</td>\n",
       "      <td>39.394640</td>\n",
       "      <td>65.831927</td>\n",
       "      <td>46.691361</td>\n",
       "      <td>61.680151</td>\n",
       "      <td>29.438008</td>\n",
       "      <td>63.639275</td>\n",
       "    </tr>\n",
       "    <tr>\n",
       "      <th>35037</th>\n",
       "      <td>43.139892</td>\n",
       "      <td>68.822483</td>\n",
       "      <td>52.902303</td>\n",
       "      <td>65.831927</td>\n",
       "      <td>62.642645</td>\n",
       "      <td>63.639275</td>\n",
       "      <td>42.250176</td>\n",
       "      <td>68.210391</td>\n",
       "      <td>30.097502</td>\n",
       "      <td>61.680151</td>\n",
       "    </tr>\n",
       "    <tr>\n",
       "      <th>35038</th>\n",
       "      <td>44.599341</td>\n",
       "      <td>52.902303</td>\n",
       "      <td>65.831927</td>\n",
       "      <td>63.639275</td>\n",
       "      <td>49.211311</td>\n",
       "      <td>61.680151</td>\n",
       "      <td>39.394640</td>\n",
       "      <td>64.340362</td>\n",
       "      <td>61.888162</td>\n",
       "      <td>68.210391</td>\n",
       "    </tr>\n",
       "    <tr>\n",
       "      <th>35039</th>\n",
       "      <td>28.956084</td>\n",
       "      <td>65.831927</td>\n",
       "      <td>63.639275</td>\n",
       "      <td>61.680151</td>\n",
       "      <td>43.139892</td>\n",
       "      <td>68.210391</td>\n",
       "      <td>62.642645</td>\n",
       "      <td>70.675662</td>\n",
       "      <td>62.677549</td>\n",
       "      <td>64.340362</td>\n",
       "    </tr>\n",
       "  </tbody>\n",
       "</table>\n",
       "<p>35040 rows × 10 columns</p>\n",
       "</div>"
      ],
      "text/plain": [
       "           lag_1     lag_96     lag_95     lag_94      lag_3     lag_93  \\\n",
       "0      60.185391  58.514142  57.575249  63.011688  39.668909  62.735722   \n",
       "1      75.988362  57.575249  63.011688  62.735722  66.805930  63.404029   \n",
       "2      73.248235  63.011688  62.735722  63.404029  60.185391  63.710440   \n",
       "3      29.228225  62.735722  63.404029  63.710440  75.988362  50.544573   \n",
       "4      26.668414  63.404029  63.710440  50.544573  73.248235  49.966228   \n",
       "...          ...        ...        ...        ...        ...        ...   \n",
       "35035  62.642645  59.032763  61.748938  68.822483  42.250176  52.902303   \n",
       "35036  49.211311  61.748938  68.822483  52.902303  39.394640  65.831927   \n",
       "35037  43.139892  68.822483  52.902303  65.831927  62.642645  63.639275   \n",
       "35038  44.599341  52.902303  65.831927  63.639275  49.211311  61.680151   \n",
       "35039  28.956084  65.831927  63.639275  61.680151  43.139892  68.210391   \n",
       "\n",
       "           lag_5     lag_91     lag_68     lag_92  \n",
       "0      46.399861  63.710440  47.781851  63.404029  \n",
       "1      63.415043  50.544573  48.816634  63.710440  \n",
       "2      39.668909  49.966228  49.752752  50.544573  \n",
       "3      66.805930  50.950286  49.738363  49.966228  \n",
       "4      60.185391  53.039862  52.573781  50.950286  \n",
       "...          ...        ...        ...        ...  \n",
       "35035  46.176803  63.639275  32.924713  65.831927  \n",
       "35036  46.691361  61.680151  29.438008  63.639275  \n",
       "35037  42.250176  68.210391  30.097502  61.680151  \n",
       "35038  39.394640  64.340362  61.888162  68.210391  \n",
       "35039  62.642645  70.675662  62.677549  64.340362  \n",
       "\n",
       "[35040 rows x 10 columns]"
      ]
     },
     "execution_count": 32,
     "metadata": {},
     "output_type": "execute_result"
    }
   ],
   "source": [
    "features = feature_importance.nlargest(10).index\n",
    "X_selected = X.loc[:,features]\n",
    "X_selected"
   ]
  },
  {
   "cell_type": "markdown",
   "id": "e092ec0c",
   "metadata": {},
   "source": [
    "# Hyper-parameter tuning"
   ]
  },
  {
   "cell_type": "code",
   "execution_count": 33,
   "id": "b3994409",
   "metadata": {},
   "outputs": [],
   "source": [
    "params_xgb = { \n",
    "    'max_depth': [3,6,10],\n",
    "    'learning_rate': [0.01, 0.05, 0.1],\n",
    "    'n_estimators': [100, 500, 1000],\n",
    "    'colsample_bytree': [0.3, 0.7],\n",
    "}"
   ]
  },
  {
   "cell_type": "code",
   "execution_count": 34,
   "id": "cf9f062e",
   "metadata": {},
   "outputs": [],
   "source": [
    "params_rf = {\n",
    "    'max_depth': [8, 16, 24, 30],\n",
    "    'max_batch_size': [2, 32, 128],\n",
    "    'min_samples_split': [2, 10],\n",
    "    'n_estimators': [100, 250, 500]\n",
    "}"
   ]
  },
  {
   "cell_type": "code",
   "execution_count": 67,
   "id": "780446bd",
   "metadata": {},
   "outputs": [
    {
     "name": "stdout",
     "output_type": "stream",
     "text": [
      "Fitting 5 folds for each of 54 candidates, totalling 270 fits\n"
     ]
    },
    {
     "data": {
      "text/html": [
       "<style>#sk-container-id-1 {color: black;background-color: white;}#sk-container-id-1 pre{padding: 0;}#sk-container-id-1 div.sk-toggleable {background-color: white;}#sk-container-id-1 label.sk-toggleable__label {cursor: pointer;display: block;width: 100%;margin-bottom: 0;padding: 0.3em;box-sizing: border-box;text-align: center;}#sk-container-id-1 label.sk-toggleable__label-arrow:before {content: \"▸\";float: left;margin-right: 0.25em;color: #696969;}#sk-container-id-1 label.sk-toggleable__label-arrow:hover:before {color: black;}#sk-container-id-1 div.sk-estimator:hover label.sk-toggleable__label-arrow:before {color: black;}#sk-container-id-1 div.sk-toggleable__content {max-height: 0;max-width: 0;overflow: hidden;text-align: left;background-color: #f0f8ff;}#sk-container-id-1 div.sk-toggleable__content pre {margin: 0.2em;color: black;border-radius: 0.25em;background-color: #f0f8ff;}#sk-container-id-1 input.sk-toggleable__control:checked~div.sk-toggleable__content {max-height: 200px;max-width: 100%;overflow: auto;}#sk-container-id-1 input.sk-toggleable__control:checked~label.sk-toggleable__label-arrow:before {content: \"▾\";}#sk-container-id-1 div.sk-estimator input.sk-toggleable__control:checked~label.sk-toggleable__label {background-color: #d4ebff;}#sk-container-id-1 div.sk-label input.sk-toggleable__control:checked~label.sk-toggleable__label {background-color: #d4ebff;}#sk-container-id-1 input.sk-hidden--visually {border: 0;clip: rect(1px 1px 1px 1px);clip: rect(1px, 1px, 1px, 1px);height: 1px;margin: -1px;overflow: hidden;padding: 0;position: absolute;width: 1px;}#sk-container-id-1 div.sk-estimator {font-family: monospace;background-color: #f0f8ff;border: 1px dotted black;border-radius: 0.25em;box-sizing: border-box;margin-bottom: 0.5em;}#sk-container-id-1 div.sk-estimator:hover {background-color: #d4ebff;}#sk-container-id-1 div.sk-parallel-item::after {content: \"\";width: 100%;border-bottom: 1px solid gray;flex-grow: 1;}#sk-container-id-1 div.sk-label:hover label.sk-toggleable__label {background-color: #d4ebff;}#sk-container-id-1 div.sk-serial::before {content: \"\";position: absolute;border-left: 1px solid gray;box-sizing: border-box;top: 0;bottom: 0;left: 50%;z-index: 0;}#sk-container-id-1 div.sk-serial {display: flex;flex-direction: column;align-items: center;background-color: white;padding-right: 0.2em;padding-left: 0.2em;position: relative;}#sk-container-id-1 div.sk-item {position: relative;z-index: 1;}#sk-container-id-1 div.sk-parallel {display: flex;align-items: stretch;justify-content: center;background-color: white;position: relative;}#sk-container-id-1 div.sk-item::before, #sk-container-id-1 div.sk-parallel-item::before {content: \"\";position: absolute;border-left: 1px solid gray;box-sizing: border-box;top: 0;bottom: 0;left: 50%;z-index: -1;}#sk-container-id-1 div.sk-parallel-item {display: flex;flex-direction: column;z-index: 1;position: relative;background-color: white;}#sk-container-id-1 div.sk-parallel-item:first-child::after {align-self: flex-end;width: 50%;}#sk-container-id-1 div.sk-parallel-item:last-child::after {align-self: flex-start;width: 50%;}#sk-container-id-1 div.sk-parallel-item:only-child::after {width: 0;}#sk-container-id-1 div.sk-dashed-wrapped {border: 1px dashed gray;margin: 0 0.4em 0.5em 0.4em;box-sizing: border-box;padding-bottom: 0.4em;background-color: white;}#sk-container-id-1 div.sk-label label {font-family: monospace;font-weight: bold;display: inline-block;line-height: 1.2em;}#sk-container-id-1 div.sk-label-container {text-align: center;}#sk-container-id-1 div.sk-container {/* jupyter's `normalize.less` sets `[hidden] { display: none; }` but bootstrap.min.css set `[hidden] { display: none !important; }` so we also need the `!important` here to be able to override the default hidden behavior on the sphinx rendered scikit-learn.org. See: https://github.com/scikit-learn/scikit-learn/issues/21755 */display: inline-block !important;position: relative;}#sk-container-id-1 div.sk-text-repr-fallback {display: none;}</style><div id=\"sk-container-id-1\" class=\"sk-top-container\"><div class=\"sk-text-repr-fallback\"><pre>GridSearchCV(cv=5,\n",
       "             estimator=XGBRegressor(base_score=None, booster=None,\n",
       "                                    callbacks=None, colsample_bylevel=None,\n",
       "                                    colsample_bynode=None,\n",
       "                                    colsample_bytree=None,\n",
       "                                    early_stopping_rounds=None,\n",
       "                                    enable_categorical=False, eval_metric=None,\n",
       "                                    feature_types=None, gamma=None, gpu_id=None,\n",
       "                                    grow_policy=None, importance_type=None,\n",
       "                                    interaction_constraints=None,\n",
       "                                    learning_rate=None, m...\n",
       "                                    max_cat_to_onehot=None, max_delta_step=None,\n",
       "                                    max_depth=None, max_leaves=None,\n",
       "                                    min_child_weight=None, missing=nan,\n",
       "                                    monotone_constraints=None, n_estimators=100,\n",
       "                                    n_jobs=None, num_parallel_tree=None,\n",
       "                                    predictor=None, random_state=None, ...),\n",
       "             n_jobs=4,\n",
       "             param_grid={&#x27;colsample_bytree&#x27;: [0.3, 0.7],\n",
       "                         &#x27;learning_rate&#x27;: [0.01, 0.05, 0.1],\n",
       "                         &#x27;max_depth&#x27;: [3, 6, 10],\n",
       "                         &#x27;n_estimators&#x27;: [100, 500, 1000]},\n",
       "             scoring=&#x27;r2&#x27;, verbose=1)</pre><b>In a Jupyter environment, please rerun this cell to show the HTML representation or trust the notebook. <br />On GitHub, the HTML representation is unable to render, please try loading this page with nbviewer.org.</b></div><div class=\"sk-container\" hidden><div class=\"sk-item sk-dashed-wrapped\"><div class=\"sk-label-container\"><div class=\"sk-label sk-toggleable\"><input class=\"sk-toggleable__control sk-hidden--visually\" id=\"sk-estimator-id-1\" type=\"checkbox\" ><label for=\"sk-estimator-id-1\" class=\"sk-toggleable__label sk-toggleable__label-arrow\">GridSearchCV</label><div class=\"sk-toggleable__content\"><pre>GridSearchCV(cv=5,\n",
       "             estimator=XGBRegressor(base_score=None, booster=None,\n",
       "                                    callbacks=None, colsample_bylevel=None,\n",
       "                                    colsample_bynode=None,\n",
       "                                    colsample_bytree=None,\n",
       "                                    early_stopping_rounds=None,\n",
       "                                    enable_categorical=False, eval_metric=None,\n",
       "                                    feature_types=None, gamma=None, gpu_id=None,\n",
       "                                    grow_policy=None, importance_type=None,\n",
       "                                    interaction_constraints=None,\n",
       "                                    learning_rate=None, m...\n",
       "                                    max_cat_to_onehot=None, max_delta_step=None,\n",
       "                                    max_depth=None, max_leaves=None,\n",
       "                                    min_child_weight=None, missing=nan,\n",
       "                                    monotone_constraints=None, n_estimators=100,\n",
       "                                    n_jobs=None, num_parallel_tree=None,\n",
       "                                    predictor=None, random_state=None, ...),\n",
       "             n_jobs=4,\n",
       "             param_grid={&#x27;colsample_bytree&#x27;: [0.3, 0.7],\n",
       "                         &#x27;learning_rate&#x27;: [0.01, 0.05, 0.1],\n",
       "                         &#x27;max_depth&#x27;: [3, 6, 10],\n",
       "                         &#x27;n_estimators&#x27;: [100, 500, 1000]},\n",
       "             scoring=&#x27;r2&#x27;, verbose=1)</pre></div></div></div><div class=\"sk-parallel\"><div class=\"sk-parallel-item\"><div class=\"sk-item\"><div class=\"sk-label-container\"><div class=\"sk-label sk-toggleable\"><input class=\"sk-toggleable__control sk-hidden--visually\" id=\"sk-estimator-id-2\" type=\"checkbox\" ><label for=\"sk-estimator-id-2\" class=\"sk-toggleable__label sk-toggleable__label-arrow\">estimator: XGBRegressor</label><div class=\"sk-toggleable__content\"><pre>XGBRegressor(base_score=None, booster=None, callbacks=None,\n",
       "             colsample_bylevel=None, colsample_bynode=None,\n",
       "             colsample_bytree=None, early_stopping_rounds=None,\n",
       "             enable_categorical=False, eval_metric=None, feature_types=None,\n",
       "             gamma=None, gpu_id=None, grow_policy=None, importance_type=None,\n",
       "             interaction_constraints=None, learning_rate=None, max_bin=None,\n",
       "             max_cat_threshold=None, max_cat_to_onehot=None,\n",
       "             max_delta_step=None, max_depth=None, max_leaves=None,\n",
       "             min_child_weight=None, missing=nan, monotone_constraints=None,\n",
       "             n_estimators=100, n_jobs=None, num_parallel_tree=None,\n",
       "             predictor=None, random_state=None, ...)</pre></div></div></div><div class=\"sk-serial\"><div class=\"sk-item\"><div class=\"sk-estimator sk-toggleable\"><input class=\"sk-toggleable__control sk-hidden--visually\" id=\"sk-estimator-id-3\" type=\"checkbox\" ><label for=\"sk-estimator-id-3\" class=\"sk-toggleable__label sk-toggleable__label-arrow\">XGBRegressor</label><div class=\"sk-toggleable__content\"><pre>XGBRegressor(base_score=None, booster=None, callbacks=None,\n",
       "             colsample_bylevel=None, colsample_bynode=None,\n",
       "             colsample_bytree=None, early_stopping_rounds=None,\n",
       "             enable_categorical=False, eval_metric=None, feature_types=None,\n",
       "             gamma=None, gpu_id=None, grow_policy=None, importance_type=None,\n",
       "             interaction_constraints=None, learning_rate=None, max_bin=None,\n",
       "             max_cat_threshold=None, max_cat_to_onehot=None,\n",
       "             max_delta_step=None, max_depth=None, max_leaves=None,\n",
       "             min_child_weight=None, missing=nan, monotone_constraints=None,\n",
       "             n_estimators=100, n_jobs=None, num_parallel_tree=None,\n",
       "             predictor=None, random_state=None, ...)</pre></div></div></div></div></div></div></div></div></div></div>"
      ],
      "text/plain": [
       "GridSearchCV(cv=5,\n",
       "             estimator=XGBRegressor(base_score=None, booster=None,\n",
       "                                    callbacks=None, colsample_bylevel=None,\n",
       "                                    colsample_bynode=None,\n",
       "                                    colsample_bytree=None,\n",
       "                                    early_stopping_rounds=None,\n",
       "                                    enable_categorical=False, eval_metric=None,\n",
       "                                    feature_types=None, gamma=None, gpu_id=None,\n",
       "                                    grow_policy=None, importance_type=None,\n",
       "                                    interaction_constraints=None,\n",
       "                                    learning_rate=None, m...\n",
       "                                    max_cat_to_onehot=None, max_delta_step=None,\n",
       "                                    max_depth=None, max_leaves=None,\n",
       "                                    min_child_weight=None, missing=nan,\n",
       "                                    monotone_constraints=None, n_estimators=100,\n",
       "                                    n_jobs=None, num_parallel_tree=None,\n",
       "                                    predictor=None, random_state=None, ...),\n",
       "             n_jobs=4,\n",
       "             param_grid={'colsample_bytree': [0.3, 0.7],\n",
       "                         'learning_rate': [0.01, 0.05, 0.1],\n",
       "                         'max_depth': [3, 6, 10],\n",
       "                         'n_estimators': [100, 500, 1000]},\n",
       "             scoring='r2', verbose=1)"
      ]
     },
     "execution_count": 67,
     "metadata": {},
     "output_type": "execute_result"
    }
   ],
   "source": [
    "xgb_model = xgb.XGBRegressor(tree_method=\"gpu_hist\", seed=42)\n",
    "grid_search = GridSearchCV(estimator = xgb_model, param_grid = params_xgb, cv = 5, n_jobs = 4, verbose = 1, scoring=\"r2\")\n",
    "grid_search.fit(X_selected, y)"
   ]
  },
  {
   "cell_type": "code",
   "execution_count": 68,
   "id": "8962c567",
   "metadata": {},
   "outputs": [
    {
     "data": {
      "text/plain": [
       "({'colsample_bytree': 0.7,\n",
       "  'learning_rate': 0.01,\n",
       "  'max_depth': 3,\n",
       "  'n_estimators': 1000},\n",
       " 0.6772970099532964)"
      ]
     },
     "execution_count": 68,
     "metadata": {},
     "output_type": "execute_result"
    }
   ],
   "source": [
    "grid_search.best_params_, grid_search.best_score_"
   ]
  },
  {
   "cell_type": "code",
   "execution_count": 35,
   "id": "7a5ae0f4",
   "metadata": {},
   "outputs": [],
   "source": [
    "xgb_params = ({'colsample_bytree': 0.7,\n",
    "  'learning_rate': 0.01,\n",
    "  'max_depth': 3,\n",
    "  'n_estimators': 1000})\n",
    " #0.6772970099532964)"
   ]
  },
  {
   "cell_type": "code",
   "execution_count": 69,
   "id": "1c957e18",
   "metadata": {},
   "outputs": [],
   "source": [
    "xgb_params = grid_search.best_params_"
   ]
  },
  {
   "cell_type": "code",
   "execution_count": 70,
   "id": "a23ab48e",
   "metadata": {},
   "outputs": [
    {
     "name": "stdout",
     "output_type": "stream",
     "text": [
      "Fitting 5 folds for each of 72 candidates, totalling 360 fits\n"
     ]
    },
    {
     "name": "stderr",
     "output_type": "stream",
     "text": [
      "/home/francisco.monteiro@av.it.pt/miniconda3/envs/rapids-23.02/lib/python3.8/site-packages/cuml/internals/api_decorators.py:190: UserWarning: To use pickling first train using float32 data to fit the estimator\n",
      "  ret = func(*args, **kwargs)\n",
      "/home/francisco.monteiro@av.it.pt/miniconda3/envs/rapids-23.02/lib/python3.8/site-packages/cuml/internals/api_decorators.py:190: UserWarning: To use pickling first train using float32 data to fit the estimator\n",
      "  ret = func(*args, **kwargs)\n",
      "/home/francisco.monteiro@av.it.pt/miniconda3/envs/rapids-23.02/lib/python3.8/site-packages/cuml/internals/api_decorators.py:190: UserWarning: To use pickling first train using float32 data to fit the estimator\n",
      "  ret = func(*args, **kwargs)\n",
      "/home/francisco.monteiro@av.it.pt/miniconda3/envs/rapids-23.02/lib/python3.8/site-packages/cuml/internals/api_decorators.py:190: UserWarning: To use pickling first train using float32 data to fit the estimator\n",
      "  ret = func(*args, **kwargs)\n",
      "/home/francisco.monteiro@av.it.pt/miniconda3/envs/rapids-23.02/lib/python3.8/site-packages/cuml/internals/api_decorators.py:190: UserWarning: To use pickling first train using float32 data to fit the estimator\n",
      "  ret = func(*args, **kwargs)\n",
      "/home/francisco.monteiro@av.it.pt/miniconda3/envs/rapids-23.02/lib/python3.8/site-packages/cuml/internals/api_decorators.py:190: UserWarning: To use pickling first train using float32 data to fit the estimator\n",
      "  ret = func(*args, **kwargs)\n",
      "/home/francisco.monteiro@av.it.pt/miniconda3/envs/rapids-23.02/lib/python3.8/site-packages/cuml/internals/api_decorators.py:190: UserWarning: To use pickling first train using float32 data to fit the estimator\n",
      "  ret = func(*args, **kwargs)\n",
      "/home/francisco.monteiro@av.it.pt/miniconda3/envs/rapids-23.02/lib/python3.8/site-packages/cuml/internals/api_decorators.py:190: UserWarning: To use pickling first train using float32 data to fit the estimator\n",
      "  ret = func(*args, **kwargs)\n",
      "/home/francisco.monteiro@av.it.pt/miniconda3/envs/rapids-23.02/lib/python3.8/site-packages/cuml/internals/api_decorators.py:190: UserWarning: To use pickling first train using float32 data to fit the estimator\n",
      "  ret = func(*args, **kwargs)\n",
      "/home/francisco.monteiro@av.it.pt/miniconda3/envs/rapids-23.02/lib/python3.8/site-packages/cuml/internals/api_decorators.py:190: UserWarning: To use pickling first train using float32 data to fit the estimator\n",
      "  ret = func(*args, **kwargs)\n",
      "/home/francisco.monteiro@av.it.pt/miniconda3/envs/rapids-23.02/lib/python3.8/site-packages/cuml/internals/api_decorators.py:190: UserWarning: To use pickling first train using float32 data to fit the estimator\n",
      "  ret = func(*args, **kwargs)\n",
      "/home/francisco.monteiro@av.it.pt/miniconda3/envs/rapids-23.02/lib/python3.8/site-packages/cuml/internals/api_decorators.py:190: UserWarning: To use pickling first train using float32 data to fit the estimator\n",
      "  ret = func(*args, **kwargs)\n",
      "/home/francisco.monteiro@av.it.pt/miniconda3/envs/rapids-23.02/lib/python3.8/site-packages/cuml/internals/api_decorators.py:190: UserWarning: To use pickling first train using float32 data to fit the estimator\n",
      "  ret = func(*args, **kwargs)\n",
      "/home/francisco.monteiro@av.it.pt/miniconda3/envs/rapids-23.02/lib/python3.8/site-packages/cuml/internals/api_decorators.py:190: UserWarning: To use pickling first train using float32 data to fit the estimator\n",
      "  ret = func(*args, **kwargs)\n",
      "/home/francisco.monteiro@av.it.pt/miniconda3/envs/rapids-23.02/lib/python3.8/site-packages/cuml/internals/api_decorators.py:190: UserWarning: To use pickling first train using float32 data to fit the estimator\n",
      "  ret = func(*args, **kwargs)\n",
      "/home/francisco.monteiro@av.it.pt/miniconda3/envs/rapids-23.02/lib/python3.8/site-packages/cuml/internals/api_decorators.py:190: UserWarning: To use pickling first train using float32 data to fit the estimator\n",
      "  ret = func(*args, **kwargs)\n",
      "/home/francisco.monteiro@av.it.pt/miniconda3/envs/rapids-23.02/lib/python3.8/site-packages/cuml/internals/api_decorators.py:190: UserWarning: To use pickling first train using float32 data to fit the estimator\n",
      "  ret = func(*args, **kwargs)\n",
      "/home/francisco.monteiro@av.it.pt/miniconda3/envs/rapids-23.02/lib/python3.8/site-packages/cuml/internals/api_decorators.py:190: UserWarning: To use pickling first train using float32 data to fit the estimator\n",
      "  ret = func(*args, **kwargs)\n",
      "/home/francisco.monteiro@av.it.pt/miniconda3/envs/rapids-23.02/lib/python3.8/site-packages/cuml/internals/api_decorators.py:190: UserWarning: To use pickling first train using float32 data to fit the estimator\n",
      "  ret = func(*args, **kwargs)\n",
      "/home/francisco.monteiro@av.it.pt/miniconda3/envs/rapids-23.02/lib/python3.8/site-packages/cuml/internals/api_decorators.py:190: UserWarning: To use pickling first train using float32 data to fit the estimator\n",
      "  ret = func(*args, **kwargs)\n",
      "/home/francisco.monteiro@av.it.pt/miniconda3/envs/rapids-23.02/lib/python3.8/site-packages/cuml/internals/api_decorators.py:190: UserWarning: To use pickling first train using float32 data to fit the estimator\n",
      "  ret = func(*args, **kwargs)\n",
      "/home/francisco.monteiro@av.it.pt/miniconda3/envs/rapids-23.02/lib/python3.8/site-packages/cuml/internals/api_decorators.py:190: UserWarning: To use pickling first train using float32 data to fit the estimator\n",
      "  ret = func(*args, **kwargs)\n",
      "/home/francisco.monteiro@av.it.pt/miniconda3/envs/rapids-23.02/lib/python3.8/site-packages/cuml/internals/api_decorators.py:190: UserWarning: To use pickling first train using float32 data to fit the estimator\n",
      "  ret = func(*args, **kwargs)\n",
      "/home/francisco.monteiro@av.it.pt/miniconda3/envs/rapids-23.02/lib/python3.8/site-packages/cuml/internals/api_decorators.py:190: UserWarning: To use pickling first train using float32 data to fit the estimator\n",
      "  ret = func(*args, **kwargs)\n",
      "/home/francisco.monteiro@av.it.pt/miniconda3/envs/rapids-23.02/lib/python3.8/site-packages/cuml/internals/api_decorators.py:190: UserWarning: To use pickling first train using float32 data to fit the estimator\n",
      "  ret = func(*args, **kwargs)\n",
      "/home/francisco.monteiro@av.it.pt/miniconda3/envs/rapids-23.02/lib/python3.8/site-packages/cuml/internals/api_decorators.py:190: UserWarning: To use pickling first train using float32 data to fit the estimator\n",
      "  ret = func(*args, **kwargs)\n",
      "/home/francisco.monteiro@av.it.pt/miniconda3/envs/rapids-23.02/lib/python3.8/site-packages/cuml/internals/api_decorators.py:190: UserWarning: To use pickling first train using float32 data to fit the estimator\n",
      "  ret = func(*args, **kwargs)\n",
      "/home/francisco.monteiro@av.it.pt/miniconda3/envs/rapids-23.02/lib/python3.8/site-packages/cuml/internals/api_decorators.py:190: UserWarning: To use pickling first train using float32 data to fit the estimator\n",
      "  ret = func(*args, **kwargs)\n",
      "/home/francisco.monteiro@av.it.pt/miniconda3/envs/rapids-23.02/lib/python3.8/site-packages/cuml/internals/api_decorators.py:190: UserWarning: To use pickling first train using float32 data to fit the estimator\n",
      "  ret = func(*args, **kwargs)\n",
      "/home/francisco.monteiro@av.it.pt/miniconda3/envs/rapids-23.02/lib/python3.8/site-packages/cuml/internals/api_decorators.py:190: UserWarning: To use pickling first train using float32 data to fit the estimator\n",
      "  ret = func(*args, **kwargs)\n",
      "/home/francisco.monteiro@av.it.pt/miniconda3/envs/rapids-23.02/lib/python3.8/site-packages/cuml/internals/api_decorators.py:190: UserWarning: To use pickling first train using float32 data to fit the estimator\n",
      "  ret = func(*args, **kwargs)\n",
      "/home/francisco.monteiro@av.it.pt/miniconda3/envs/rapids-23.02/lib/python3.8/site-packages/cuml/internals/api_decorators.py:190: UserWarning: To use pickling first train using float32 data to fit the estimator\n",
      "  ret = func(*args, **kwargs)\n",
      "/home/francisco.monteiro@av.it.pt/miniconda3/envs/rapids-23.02/lib/python3.8/site-packages/cuml/internals/api_decorators.py:190: UserWarning: To use pickling first train using float32 data to fit the estimator\n",
      "  ret = func(*args, **kwargs)\n",
      "/home/francisco.monteiro@av.it.pt/miniconda3/envs/rapids-23.02/lib/python3.8/site-packages/cuml/internals/api_decorators.py:190: UserWarning: To use pickling first train using float32 data to fit the estimator\n",
      "  ret = func(*args, **kwargs)\n",
      "/home/francisco.monteiro@av.it.pt/miniconda3/envs/rapids-23.02/lib/python3.8/site-packages/cuml/internals/api_decorators.py:190: UserWarning: To use pickling first train using float32 data to fit the estimator\n",
      "  ret = func(*args, **kwargs)\n",
      "/home/francisco.monteiro@av.it.pt/miniconda3/envs/rapids-23.02/lib/python3.8/site-packages/cuml/internals/api_decorators.py:190: UserWarning: To use pickling first train using float32 data to fit the estimator\n",
      "  ret = func(*args, **kwargs)\n",
      "/home/francisco.monteiro@av.it.pt/miniconda3/envs/rapids-23.02/lib/python3.8/site-packages/cuml/internals/api_decorators.py:190: UserWarning: To use pickling first train using float32 data to fit the estimator\n",
      "  ret = func(*args, **kwargs)\n",
      "/home/francisco.monteiro@av.it.pt/miniconda3/envs/rapids-23.02/lib/python3.8/site-packages/cuml/internals/api_decorators.py:190: UserWarning: To use pickling first train using float32 data to fit the estimator\n",
      "  ret = func(*args, **kwargs)\n",
      "/home/francisco.monteiro@av.it.pt/miniconda3/envs/rapids-23.02/lib/python3.8/site-packages/cuml/internals/api_decorators.py:190: UserWarning: To use pickling first train using float32 data to fit the estimator\n",
      "  ret = func(*args, **kwargs)\n",
      "/home/francisco.monteiro@av.it.pt/miniconda3/envs/rapids-23.02/lib/python3.8/site-packages/cuml/internals/api_decorators.py:190: UserWarning: To use pickling first train using float32 data to fit the estimator\n",
      "  ret = func(*args, **kwargs)\n",
      "/home/francisco.monteiro@av.it.pt/miniconda3/envs/rapids-23.02/lib/python3.8/site-packages/cuml/internals/api_decorators.py:190: UserWarning: To use pickling first train using float32 data to fit the estimator\n",
      "  ret = func(*args, **kwargs)\n",
      "/home/francisco.monteiro@av.it.pt/miniconda3/envs/rapids-23.02/lib/python3.8/site-packages/cuml/internals/api_decorators.py:190: UserWarning: To use pickling first train using float32 data to fit the estimator\n",
      "  ret = func(*args, **kwargs)\n",
      "/home/francisco.monteiro@av.it.pt/miniconda3/envs/rapids-23.02/lib/python3.8/site-packages/cuml/internals/api_decorators.py:190: UserWarning: To use pickling first train using float32 data to fit the estimator\n",
      "  ret = func(*args, **kwargs)\n"
     ]
    }
   ],
   "source": [
    "rf = cuRF()\n",
    "grid_search_rf = GridSearchCV(estimator = rf, param_grid = params_rf, cv = 5, n_jobs = 8, verbose = 1, scoring=\"r2\")\n",
    "grid_search_rf.fit(X_selected, y)"
   ]
  },
  {
   "cell_type": "code",
   "execution_count": null,
   "id": "0291d7c6",
   "metadata": {},
   "outputs": [],
   "source": [
    "grid_search_rf.best_params_, grid_search_rf.best_score_"
   ]
  },
  {
   "cell_type": "markdown",
   "id": "058918b1",
   "metadata": {},
   "source": [
    "### Linear Regression (after feature selection)"
   ]
  },
  {
   "cell_type": "code",
   "execution_count": 36,
   "id": "193a6fe9",
   "metadata": {},
   "outputs": [
    {
     "name": "stdout",
     "output_type": "stream",
     "text": [
      "\n",
      "Iteration  0\n",
      "RMSE: 11.4093\n",
      "WAPE: 19.45\n",
      "R2: 0.7391\n",
      "\n",
      "Elapsed time: 0.007 seconds\n",
      "\n",
      "Iteration  1\n",
      "RMSE: 11.6225\n",
      "WAPE: 19.33\n",
      "R2: 0.7046\n",
      "\n",
      "Elapsed time: 0.004 seconds\n",
      "\n",
      "Iteration  2\n",
      "RMSE: 10.0520\n",
      "WAPE: 21.13\n",
      "R2: 0.6254\n",
      "\n",
      "Elapsed time: 0.003 seconds\n",
      "\n",
      "Iteration  3\n",
      "RMSE: 9.7273\n",
      "WAPE: 21.62\n",
      "R2: 0.5162\n",
      "\n",
      "Elapsed time: 0.004 seconds\n",
      "\n",
      "Iteration  4\n",
      "RMSE: 8.9810\n",
      "WAPE: 21.85\n",
      "R2: 0.5312\n",
      "\n",
      "Elapsed time: 0.004 seconds\n",
      "\n",
      "Iteration  5\n",
      "RMSE: 8.3596\n",
      "WAPE: 22.52\n",
      "R2: 0.5983\n",
      "\n",
      "Elapsed time: 0.005 seconds\n",
      "\n",
      "Iteration  6\n",
      "RMSE: 9.6197\n",
      "WAPE: 20.15\n",
      "R2: 0.5842\n",
      "\n",
      "Elapsed time: 0.005 seconds\n",
      "\n",
      "Iteration  7\n",
      "RMSE: 10.5721\n",
      "WAPE: 17.69\n",
      "R2: 0.6761\n",
      "\n",
      "Elapsed time: 0.005 seconds\n",
      "\n",
      "Iteration  8\n",
      "RMSE: 11.1976\n",
      "WAPE: 17.84\n",
      "R2: 0.7636\n",
      "\n",
      "Elapsed time: 0.006 seconds\n",
      "\n",
      "Iteration  9\n",
      "RMSE: 12.2234\n",
      "WAPE: 17.80\n",
      "R2: 0.7561\n",
      "\n",
      "Elapsed time: 0.006 seconds\n"
     ]
    }
   ],
   "source": [
    "metrics_list_lr_sel = []\n",
    "\n",
    "for i in range(n_splits):\n",
    "    start = time.time()\n",
    "    print(\"\\nIteration \", i)\n",
    "\n",
    "\n",
    "    X_train, X_test, y_train, y_test = expanding_window_split(X_selected, y, cv=i, n_splits=n_splits)\n",
    "\n",
    "    X_train_norm, scaler = normalize_training(X_train)\n",
    "    X_test_norm = scaler.transform(X_test)\n",
    "\n",
    "    rmse, wape, r2, _ = predict_results(X_train_norm, X_test_norm, y_train, y_test, LinearRegression())\n",
    "    metrics_list_lr_sel.append((rmse,wape,r2))\n",
    "    print(\"\\nElapsed time: %.3f seconds\" % (time.time() - start))"
   ]
  },
  {
   "cell_type": "code",
   "execution_count": 37,
   "id": "04b8b883",
   "metadata": {},
   "outputs": [
    {
     "name": "stdout",
     "output_type": "stream",
     "text": [
      "Total Averaged RMSE: 10.376\n",
      "Total Averaged WAPE: 19.938\n",
      "Total Averaged R2: 0.649\n"
     ]
    }
   ],
   "source": [
    "rmse_lr_sel, wape_lr_sel, r2_lr_sel = total_averaged_metrics(metrics_list_lr_sel)"
   ]
  },
  {
   "cell_type": "markdown",
   "id": "931f5665",
   "metadata": {},
   "source": [
    "### XGBoost (after feature selection + hyper tuning)"
   ]
  },
  {
   "cell_type": "code",
   "execution_count": 38,
   "id": "aa75ff4d",
   "metadata": {},
   "outputs": [
    {
     "name": "stdout",
     "output_type": "stream",
     "text": [
      "\n",
      "Iteration  0\n",
      "RMSE: 11.5607\n",
      "WAPE: 19.69\n",
      "R2: 0.7321\n",
      "\n",
      "Elapsed time: 0.489 seconds\n",
      "\n",
      "Iteration  1\n",
      "RMSE: 11.6199\n",
      "WAPE: 19.30\n",
      "R2: 0.7047\n",
      "\n",
      "Elapsed time: 0.421 seconds\n",
      "\n",
      "Iteration  2\n",
      "RMSE: 10.0957\n",
      "WAPE: 21.26\n",
      "R2: 0.6222\n",
      "\n",
      "Elapsed time: 0.428 seconds\n",
      "\n",
      "Iteration  3\n",
      "RMSE: 9.7832\n",
      "WAPE: 21.70\n",
      "R2: 0.5106\n",
      "\n",
      "Elapsed time: 0.425 seconds\n",
      "\n",
      "Iteration  4\n",
      "RMSE: 8.9890\n",
      "WAPE: 21.84\n",
      "R2: 0.5304\n",
      "\n",
      "Elapsed time: 0.428 seconds\n",
      "\n",
      "Iteration  5\n",
      "RMSE: 8.3535\n",
      "WAPE: 22.61\n",
      "R2: 0.5989\n",
      "\n",
      "Elapsed time: 0.430 seconds\n",
      "\n",
      "Iteration  6\n",
      "RMSE: 9.6448\n",
      "WAPE: 20.14\n",
      "R2: 0.5821\n",
      "\n",
      "Elapsed time: 0.431 seconds\n",
      "\n",
      "Iteration  7\n",
      "RMSE: 10.5998\n",
      "WAPE: 17.77\n",
      "R2: 0.6744\n",
      "\n",
      "Elapsed time: 0.442 seconds\n",
      "\n",
      "Iteration  8\n",
      "RMSE: 11.3669\n",
      "WAPE: 17.95\n",
      "R2: 0.7564\n",
      "\n",
      "Elapsed time: 0.444 seconds\n",
      "\n",
      "Iteration  9\n",
      "RMSE: 12.2275\n",
      "WAPE: 17.83\n",
      "R2: 0.7559\n",
      "\n",
      "Elapsed time: 0.446 seconds\n"
     ]
    }
   ],
   "source": [
    "metrics_list_xgb_sel = []\n",
    "\n",
    "for i in range(n_splits):\n",
    "    start = time.time()\n",
    "    print(\"\\nIteration \", i)\n",
    "\n",
    "\n",
    "    X_train, X_test, y_train, y_test = expanding_window_split(X_selected, y, cv=i, n_splits=n_splits)\n",
    "\n",
    "    X_train_norm, scaler = normalize_training(X_train)\n",
    "    X_test_norm = scaler.transform(X_test)\n",
    "\n",
    "    rmse, wape, r2, model_xgb = predict_results(X_train_norm, X_test_norm, y_train, y_test, xgb.XGBRegressor(seed=42, tree_method='gpu_hist', colsample_bytree=0.7, learning_rate=0.01, max_depth=3, n_estimators=1000))\n",
    "    metrics_list_xgb_sel.append((rmse,wape,r2))\n",
    "    print(\"\\nElapsed time: %.3f seconds\" % (time.time() - start))"
   ]
  },
  {
   "cell_type": "code",
   "execution_count": 39,
   "id": "3e443d1e",
   "metadata": {},
   "outputs": [
    {
     "name": "stdout",
     "output_type": "stream",
     "text": [
      "Total Averaged RMSE: 10.424\n",
      "Total Averaged WAPE: 20.009\n",
      "Total Averaged R2: 0.647\n"
     ]
    }
   ],
   "source": [
    "rmse_xgb_sel, wape_xgb_sel, r2_xgb_sel = total_averaged_metrics(metrics_list_xgb_sel)"
   ]
  },
  {
   "cell_type": "markdown",
   "id": "4df01de5",
   "metadata": {},
   "source": [
    "### Random Forest (after feature selection + hyper tuning)"
   ]
  },
  {
   "cell_type": "code",
   "execution_count": 40,
   "id": "23db6cc6",
   "metadata": {},
   "outputs": [
    {
     "name": "stdout",
     "output_type": "stream",
     "text": [
      "\n",
      "Iteration  0\n"
     ]
    },
    {
     "name": "stderr",
     "output_type": "stream",
     "text": [
      "/home/francisco.monteiro@av.it.pt/miniconda3/envs/rapids-23.02/lib/python3.8/site-packages/cuml/internals/api_decorators.py:190: UserWarning: To use pickling first train using float32 data to fit the estimator\n",
      "  ret = func(*args, **kwargs)\n",
      "/home/francisco.monteiro@av.it.pt/miniconda3/envs/rapids-23.02/lib/python3.8/site-packages/cuml/internals/api_decorators.py:190: UserWarning: To use pickling first train using float32 data to fit the estimator\n",
      "  ret = func(*args, **kwargs)\n"
     ]
    },
    {
     "name": "stdout",
     "output_type": "stream",
     "text": [
      "RMSE: 15.6087\n",
      "WAPE: 28.20\n",
      "R2: 0.5117\n",
      "\n",
      "Elapsed time: 0.823 seconds\n",
      "\n",
      "Iteration  1\n",
      "RMSE: 15.4709\n",
      "WAPE: 27.08\n",
      "R2: 0.4766\n",
      "\n",
      "Elapsed time: 0.834 seconds\n",
      "\n",
      "Iteration  2\n"
     ]
    },
    {
     "name": "stderr",
     "output_type": "stream",
     "text": [
      "/home/francisco.monteiro@av.it.pt/miniconda3/envs/rapids-23.02/lib/python3.8/site-packages/cuml/internals/api_decorators.py:190: UserWarning: To use pickling first train using float32 data to fit the estimator\n",
      "  ret = func(*args, **kwargs)\n",
      "/home/francisco.monteiro@av.it.pt/miniconda3/envs/rapids-23.02/lib/python3.8/site-packages/cuml/internals/api_decorators.py:190: UserWarning: To use pickling first train using float32 data to fit the estimator\n",
      "  ret = func(*args, **kwargs)\n"
     ]
    },
    {
     "name": "stdout",
     "output_type": "stream",
     "text": [
      "RMSE: 13.2280\n",
      "WAPE: 29.38\n",
      "R2: 0.3514\n",
      "\n",
      "Elapsed time: 0.851 seconds\n",
      "\n",
      "Iteration  3\n",
      "RMSE: 12.8481\n",
      "WAPE: 29.96\n",
      "R2: 0.1561\n",
      "\n",
      "Elapsed time: 0.862 seconds\n",
      "\n",
      "Iteration  4\n"
     ]
    },
    {
     "name": "stderr",
     "output_type": "stream",
     "text": [
      "/home/francisco.monteiro@av.it.pt/miniconda3/envs/rapids-23.02/lib/python3.8/site-packages/cuml/internals/api_decorators.py:190: UserWarning: To use pickling first train using float32 data to fit the estimator\n",
      "  ret = func(*args, **kwargs)\n",
      "/home/francisco.monteiro@av.it.pt/miniconda3/envs/rapids-23.02/lib/python3.8/site-packages/cuml/internals/api_decorators.py:190: UserWarning: To use pickling first train using float32 data to fit the estimator\n",
      "  ret = func(*args, **kwargs)\n"
     ]
    },
    {
     "name": "stdout",
     "output_type": "stream",
     "text": [
      "RMSE: 11.9503\n",
      "WAPE: 31.03\n",
      "R2: 0.1701\n",
      "\n",
      "Elapsed time: 0.865 seconds\n",
      "\n",
      "Iteration  5\n",
      "RMSE: 11.3168\n",
      "WAPE: 33.53\n",
      "R2: 0.2638\n",
      "\n",
      "Elapsed time: 0.889 seconds\n",
      "\n",
      "Iteration  6\n"
     ]
    },
    {
     "name": "stderr",
     "output_type": "stream",
     "text": [
      "/home/francisco.monteiro@av.it.pt/miniconda3/envs/rapids-23.02/lib/python3.8/site-packages/cuml/internals/api_decorators.py:190: UserWarning: To use pickling first train using float32 data to fit the estimator\n",
      "  ret = func(*args, **kwargs)\n",
      "/home/francisco.monteiro@av.it.pt/miniconda3/envs/rapids-23.02/lib/python3.8/site-packages/cuml/internals/api_decorators.py:190: UserWarning: To use pickling first train using float32 data to fit the estimator\n",
      "  ret = func(*args, **kwargs)\n"
     ]
    },
    {
     "name": "stdout",
     "output_type": "stream",
     "text": [
      "RMSE: 12.5287\n",
      "WAPE: 27.89\n",
      "R2: 0.2948\n",
      "\n",
      "Elapsed time: 0.893 seconds\n",
      "\n",
      "Iteration  7\n",
      "RMSE: 13.7424\n",
      "WAPE: 24.37\n",
      "R2: 0.4527\n",
      "\n",
      "Elapsed time: 0.909 seconds\n",
      "\n",
      "Iteration  8\n"
     ]
    },
    {
     "name": "stderr",
     "output_type": "stream",
     "text": [
      "/home/francisco.monteiro@av.it.pt/miniconda3/envs/rapids-23.02/lib/python3.8/site-packages/cuml/internals/api_decorators.py:190: UserWarning: To use pickling first train using float32 data to fit the estimator\n",
      "  ret = func(*args, **kwargs)\n",
      "/home/francisco.monteiro@av.it.pt/miniconda3/envs/rapids-23.02/lib/python3.8/site-packages/cuml/internals/api_decorators.py:190: UserWarning: To use pickling first train using float32 data to fit the estimator\n",
      "  ret = func(*args, **kwargs)\n"
     ]
    },
    {
     "name": "stdout",
     "output_type": "stream",
     "text": [
      "RMSE: 15.4713\n",
      "WAPE: 26.08\n",
      "R2: 0.5487\n",
      "\n",
      "Elapsed time: 0.911 seconds\n",
      "\n",
      "Iteration  9\n",
      "RMSE: 16.5539\n",
      "WAPE: 25.61\n",
      "R2: 0.5527\n",
      "\n",
      "Elapsed time: 0.935 seconds\n"
     ]
    }
   ],
   "source": [
    "metrics_list_rf_sel = []\n",
    "\n",
    "for i in range(n_splits):\n",
    "    start = time.time()\n",
    "    print(\"\\nIteration \", i)\n",
    "\n",
    "\n",
    "    X_train, X_test, y_train, y_test = expanding_window_split(X_selected, y, cv=i, n_splits=n_splits)\n",
    "\n",
    "    X_train_norm, scaler = normalize_training(X_train)\n",
    "    X_test_norm = scaler.transform(X_test)\n",
    "\n",
    "    rmse, wape, r2, _ = predict_results(X_train_norm, X_test_norm, y_train, y_test, cuRF(max_depth=8, max_features=3, min_samples_leaf=4, min_samples_split=8, n_estimators=500))\n",
    "    metrics_list_rf_sel.append((rmse,wape,r2))\n",
    "    print(\"\\nElapsed time: %.3f seconds\" % (time.time() - start))"
   ]
  },
  {
   "cell_type": "code",
   "execution_count": 41,
   "id": "c603e7d0",
   "metadata": {},
   "outputs": [
    {
     "name": "stdout",
     "output_type": "stream",
     "text": [
      "Total Averaged RMSE: 13.872\n",
      "Total Averaged WAPE: 28.313\n",
      "Total Averaged R2: 0.378\n"
     ]
    }
   ],
   "source": [
    "rmse_rf_sel, wape_rf_sel, r2_rf_sel = total_averaged_metrics(metrics_list_rf_sel)"
   ]
  },
  {
   "cell_type": "code",
   "execution_count": 53,
   "id": "1bfcce48",
   "metadata": {},
   "outputs": [],
   "source": [
    "all_rmse = (rmse_15/100, rmse_lr/100, rmse_lr_sel/100, rmse_rf/100, rmse_rf_sel/100, rmse_xgb/100, rmse_xgb_sel/100)"
   ]
  },
  {
   "cell_type": "code",
   "execution_count": 57,
   "id": "bd058c94",
   "metadata": {},
   "outputs": [],
   "source": [
    "all_wape = (wape_15, wape_lr/100, wape_lr_sel/100, wape_rf/100, wape_rf_sel/100, wape_xgb/100, wape_xgb_sel/100)"
   ]
  },
  {
   "cell_type": "code",
   "execution_count": 55,
   "id": "56ac3d65",
   "metadata": {},
   "outputs": [],
   "source": [
    "all_r2 = (r2_15, r2_lr, r2_lr_sel, r2_rf, r2_rf_sel, r2_xgb, r2_xgb_sel)"
   ]
  },
  {
   "cell_type": "code",
   "execution_count": 61,
   "id": "517a94f1",
   "metadata": {},
   "outputs": [
    {
     "data": {
      "image/png": "[encoded data removed]",
      "text/plain": [
       "<Figure size 1000x400 with 1 Axes>"
      ]
     },
     "metadata": {},
     "output_type": "display_data"
    }
   ],
   "source": [
    "model_names = (\"Baseline\", \"LR\", \"LR_Feat_Sel\", \"RF\", \"RF_Hyp\", \"XGB\", \"XGB_Hyp\")\n",
    "X_names = ['RMSE', 'WAPE', 'R2']\n",
    "X_axis = np.arange(len(X_names))\n",
    "pos = -0.15\n",
    "bar_width = 0.1\n",
    "fig, ax = plt.subplots(figsize=(10,4))\n",
    "\n",
    "for i in range(len(model_names)):\n",
    "    bar = (all_rmse[i], all_wape[i], all_r2[i])\n",
    "    b = ax.bar(X_axis + pos, bar, bar_width-0.01, label=model_names[i])\n",
    "    pos = pos + bar_width\n",
    "    ax.bar_label(b, fontsize=6, fmt='%.3f')\n",
    "    \n",
    "ax.set_ylim(0,1)\n",
    "ax.set_xticks(X_axis+bar_width+bar_width/2,X_names)\n",
    "#ax.set_ylabel(\"Metrics\")\n",
    "ax.set_title(\"GECAD Community Prediction Comparison\")\n",
    "ax.legend()\n",
    "#plt.savefig(filename)\n",
    "plt.show()"
   ]
  },
  {
   "attachments": {},
   "cell_type": "markdown",
   "id": "5737c4ba",
   "metadata": {},
   "source": [
    "# Polynomial Regression"
   ]
  },
  {
   "attachments": {},
   "cell_type": "markdown",
   "id": "5ab2eff6",
   "metadata": {},
   "source": [
    "### Test for last 8 energy points (2 hours) degree 2, 3 and 4"
   ]
  },
  {
   "cell_type": "code",
   "execution_count": null,
   "id": "81ecd0db",
   "metadata": {},
   "outputs": [],
   "source": [
    "degree_list = []\n",
    "full_start = time.time()\n",
    "for degree in range(2,5):\n",
    "    metrics_list = []\n",
    "    print(\"\\n\\t\\tDegree \", degree)\n",
    "    for i in range(1,number_of_past_timesteps+1):\n",
    "        start = time.time()\n",
    "        print(\"\\nIteration \", i)\n",
    "        X, y = last_energy_points(df_total, i)\n",
    "        X_train, X_test, y_train, y_test = prepare_polynomial(X, y, deg=degree)\n",
    "        print(X_train.shape, X_test.shape, y_train.shape, y_test.shape)\n",
    "        X_train_norm, scaler = normalize_training(X_train)\n",
    "        X_test_norm = scaler.transform(X_test)\n",
    "        y_train_norm, scaler2 = normalize_training(y_train)\n",
    "        y_test_norm = pd.DataFrame(scaler2.transform(y_test))\n",
    "        \n",
    "        rmse, wape, r2 = predict_results(X_train_norm, X_test_norm, y_train_norm, y_test_norm, LinearRegression())\n",
    "        print()\n",
    "        metrics_list.append((rmse,wape,r2))      \n",
    "        print(\"\\nElapsed time: %.3f seconds\" % (time.time() - start))\n",
    "    degree_list.append(metrics_list)\n",
    "print(\"\\nFull Elapsed time: %.3f seconds\" % (time.time() - full_start))"
   ]
  }
 ],
 "metadata": {
  "kernelspec": {
   "display_name": "Python 3.8.16 ('rapids-23.02')",
   "language": "python",
   "name": "python3"
  },
  "language_info": {
   "codemirror_mode": {
    "name": "ipython",
    "version": 3
   },
   "file_extension": ".py",
   "mimetype": "text/x-python",
   "name": "python",
   "nbconvert_exporter": "python",
   "pygments_lexer": "ipython3",
   "version": "3.8.16"
  },
  "vscode": {
   "interpreter": {
    "hash": "b68dca5a889d9fa7a36c76420bb99c5b147d98e0e386a0426daa5cd8f8566c01"
   }
  }
 },
 "nbformat": 4,
 "nbformat_minor": 5
}
