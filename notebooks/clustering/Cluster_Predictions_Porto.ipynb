{
 "cells": [
  {
   "attachments": {},
   "cell_type": "markdown",
   "metadata": {},
   "source": [
    "## Import libraries"
   ]
  },
  {
   "cell_type": "code",
   "execution_count": 3,
   "metadata": {},
   "outputs": [],
   "source": [
    "import numpy as np\n",
    "import pandas as pd\n",
    "import sys\n",
    "sys.path.append('..')\n",
    "from sklearn.metrics import mean_squared_error, r2_score\n",
    "from sklearn.preprocessing import MinMaxScaler\n",
    "from sklearn.model_selection import train_test_split\n",
    "from sklearn.linear_model import LinearRegression\n",
    "from cuml import RandomForestRegressor as cuRF\n",
    "import xgboost as xgb\n",
    "import math\n",
    "import time\n",
    "import re\n",
    "from scripts.clustering_utils import read_clusters_from_file, cluster_predict, aggregate_cluster_predictions, dataframe_by_cluster, split_into_clusters, select_past_timesteps"
   ]
  },
  {
   "cell_type": "code",
   "execution_count": 4,
   "metadata": {},
   "outputs": [],
   "source": [
    "n_clusters = 16"
   ]
  },
  {
   "attachments": {},
   "cell_type": "markdown",
   "metadata": {},
   "source": [
    "## Read Dataset"
   ]
  },
  {
   "cell_type": "code",
   "execution_count": 5,
   "metadata": {},
   "outputs": [
    {
     "data": {
      "text/html": [
       "<div>\n",
       "<style scoped>\n",
       "    .dataframe tbody tr th:only-of-type {\n",
       "        vertical-align: middle;\n",
       "    }\n",
       "\n",
       "    .dataframe tbody tr th {\n",
       "        vertical-align: top;\n",
       "    }\n",
       "\n",
       "    .dataframe thead th {\n",
       "        text-align: right;\n",
       "    }\n",
       "</style>\n",
       "<table border=\"1\" class=\"dataframe\">\n",
       "  <thead>\n",
       "    <tr style=\"text-align: right;\">\n",
       "      <th></th>\n",
       "      <th>Time</th>\n",
       "      <th>0</th>\n",
       "      <th>1</th>\n",
       "      <th>2</th>\n",
       "      <th>3</th>\n",
       "      <th>4</th>\n",
       "      <th>5</th>\n",
       "      <th>6</th>\n",
       "      <th>7</th>\n",
       "      <th>8</th>\n",
       "      <th>...</th>\n",
       "      <th>41</th>\n",
       "      <th>42</th>\n",
       "      <th>43</th>\n",
       "      <th>44</th>\n",
       "      <th>45</th>\n",
       "      <th>46</th>\n",
       "      <th>47</th>\n",
       "      <th>48</th>\n",
       "      <th>49</th>\n",
       "      <th>50</th>\n",
       "    </tr>\n",
       "  </thead>\n",
       "  <tbody>\n",
       "    <tr>\n",
       "      <th>0</th>\n",
       "      <td>2019-01-01 00:00:00</td>\n",
       "      <td>2.964</td>\n",
       "      <td>2.322959</td>\n",
       "      <td>1.544607</td>\n",
       "      <td>0.778310</td>\n",
       "      <td>1.962012</td>\n",
       "      <td>2.677445</td>\n",
       "      <td>0.237877</td>\n",
       "      <td>0.689194</td>\n",
       "      <td>0.358525</td>\n",
       "      <td>...</td>\n",
       "      <td>0.898895</td>\n",
       "      <td>0.203825</td>\n",
       "      <td>0.221624</td>\n",
       "      <td>0.319531</td>\n",
       "      <td>0.830996</td>\n",
       "      <td>0.924987</td>\n",
       "      <td>0.219128</td>\n",
       "      <td>0.274880</td>\n",
       "      <td>0.990488</td>\n",
       "      <td>0.779475</td>\n",
       "    </tr>\n",
       "    <tr>\n",
       "      <th>1</th>\n",
       "      <td>2019-01-01 00:15:00</td>\n",
       "      <td>2.584</td>\n",
       "      <td>2.371797</td>\n",
       "      <td>1.544607</td>\n",
       "      <td>0.778310</td>\n",
       "      <td>1.962012</td>\n",
       "      <td>2.733737</td>\n",
       "      <td>0.192929</td>\n",
       "      <td>0.558967</td>\n",
       "      <td>0.358525</td>\n",
       "      <td>...</td>\n",
       "      <td>0.917793</td>\n",
       "      <td>0.165311</td>\n",
       "      <td>0.179747</td>\n",
       "      <td>0.319531</td>\n",
       "      <td>0.848467</td>\n",
       "      <td>0.944434</td>\n",
       "      <td>0.177722</td>\n",
       "      <td>0.222940</td>\n",
       "      <td>1.011313</td>\n",
       "      <td>0.795863</td>\n",
       "    </tr>\n",
       "    <tr>\n",
       "      <th>2</th>\n",
       "      <td>2019-01-01 00:30:00</td>\n",
       "      <td>3.071</td>\n",
       "      <td>2.415961</td>\n",
       "      <td>1.319880</td>\n",
       "      <td>0.665072</td>\n",
       "      <td>1.676555</td>\n",
       "      <td>2.784640</td>\n",
       "      <td>0.382869</td>\n",
       "      <td>1.109272</td>\n",
       "      <td>0.377198</td>\n",
       "      <td>...</td>\n",
       "      <td>0.934883</td>\n",
       "      <td>0.328060</td>\n",
       "      <td>0.356708</td>\n",
       "      <td>0.336174</td>\n",
       "      <td>0.864266</td>\n",
       "      <td>0.962019</td>\n",
       "      <td>0.352691</td>\n",
       "      <td>0.442426</td>\n",
       "      <td>1.030144</td>\n",
       "      <td>0.810682</td>\n",
       "    </tr>\n",
       "    <tr>\n",
       "      <th>3</th>\n",
       "      <td>2019-01-01 00:45:00</td>\n",
       "      <td>2.694</td>\n",
       "      <td>2.302538</td>\n",
       "      <td>1.319880</td>\n",
       "      <td>0.665072</td>\n",
       "      <td>1.676555</td>\n",
       "      <td>2.653908</td>\n",
       "      <td>0.442052</td>\n",
       "      <td>1.280743</td>\n",
       "      <td>0.377198</td>\n",
       "      <td>...</td>\n",
       "      <td>0.890992</td>\n",
       "      <td>0.378772</td>\n",
       "      <td>0.411848</td>\n",
       "      <td>0.336174</td>\n",
       "      <td>0.823691</td>\n",
       "      <td>0.916855</td>\n",
       "      <td>0.407209</td>\n",
       "      <td>0.510816</td>\n",
       "      <td>0.981781</td>\n",
       "      <td>0.772623</td>\n",
       "    </tr>\n",
       "    <tr>\n",
       "      <th>4</th>\n",
       "      <td>2019-01-01 01:00:00</td>\n",
       "      <td>2.569</td>\n",
       "      <td>2.363063</td>\n",
       "      <td>0.913154</td>\n",
       "      <td>0.460128</td>\n",
       "      <td>1.159919</td>\n",
       "      <td>2.723669</td>\n",
       "      <td>0.192242</td>\n",
       "      <td>0.556976</td>\n",
       "      <td>0.668500</td>\n",
       "      <td>...</td>\n",
       "      <td>0.914413</td>\n",
       "      <td>0.164722</td>\n",
       "      <td>0.179106</td>\n",
       "      <td>0.595793</td>\n",
       "      <td>0.845343</td>\n",
       "      <td>0.940956</td>\n",
       "      <td>0.177089</td>\n",
       "      <td>0.222146</td>\n",
       "      <td>1.007588</td>\n",
       "      <td>0.792932</td>\n",
       "    </tr>\n",
       "    <tr>\n",
       "      <th>...</th>\n",
       "      <td>...</td>\n",
       "      <td>...</td>\n",
       "      <td>...</td>\n",
       "      <td>...</td>\n",
       "      <td>...</td>\n",
       "      <td>...</td>\n",
       "      <td>...</td>\n",
       "      <td>...</td>\n",
       "      <td>...</td>\n",
       "      <td>...</td>\n",
       "      <td>...</td>\n",
       "      <td>...</td>\n",
       "      <td>...</td>\n",
       "      <td>...</td>\n",
       "      <td>...</td>\n",
       "      <td>...</td>\n",
       "      <td>...</td>\n",
       "      <td>...</td>\n",
       "      <td>...</td>\n",
       "      <td>...</td>\n",
       "      <td>...</td>\n",
       "    </tr>\n",
       "    <tr>\n",
       "      <th>35131</th>\n",
       "      <td>2020-01-01 22:45:00</td>\n",
       "      <td>1.664</td>\n",
       "      <td>2.244719</td>\n",
       "      <td>1.455982</td>\n",
       "      <td>0.733653</td>\n",
       "      <td>1.849437</td>\n",
       "      <td>2.587266</td>\n",
       "      <td>0.205654</td>\n",
       "      <td>0.595835</td>\n",
       "      <td>0.171793</td>\n",
       "      <td>...</td>\n",
       "      <td>0.868619</td>\n",
       "      <td>0.176214</td>\n",
       "      <td>0.191602</td>\n",
       "      <td>0.153109</td>\n",
       "      <td>0.803007</td>\n",
       "      <td>0.893832</td>\n",
       "      <td>0.189444</td>\n",
       "      <td>0.237645</td>\n",
       "      <td>0.957128</td>\n",
       "      <td>0.753222</td>\n",
       "    </tr>\n",
       "    <tr>\n",
       "      <th>35132</th>\n",
       "      <td>2020-01-01 23:00:00</td>\n",
       "      <td>1.659</td>\n",
       "      <td>2.136340</td>\n",
       "      <td>1.201186</td>\n",
       "      <td>0.605264</td>\n",
       "      <td>1.525786</td>\n",
       "      <td>2.462348</td>\n",
       "      <td>0.201219</td>\n",
       "      <td>0.582985</td>\n",
       "      <td>0.067223</td>\n",
       "      <td>...</td>\n",
       "      <td>0.826680</td>\n",
       "      <td>0.172414</td>\n",
       "      <td>0.187470</td>\n",
       "      <td>0.059912</td>\n",
       "      <td>0.764237</td>\n",
       "      <td>0.850676</td>\n",
       "      <td>0.185359</td>\n",
       "      <td>0.232519</td>\n",
       "      <td>0.910916</td>\n",
       "      <td>0.716855</td>\n",
       "    </tr>\n",
       "    <tr>\n",
       "      <th>35133</th>\n",
       "      <td>2020-01-01 23:15:00</td>\n",
       "      <td>1.664</td>\n",
       "      <td>2.192805</td>\n",
       "      <td>1.201186</td>\n",
       "      <td>0.605264</td>\n",
       "      <td>1.525786</td>\n",
       "      <td>2.527430</td>\n",
       "      <td>0.228585</td>\n",
       "      <td>0.662271</td>\n",
       "      <td>0.067223</td>\n",
       "      <td>...</td>\n",
       "      <td>0.848530</td>\n",
       "      <td>0.195862</td>\n",
       "      <td>0.212966</td>\n",
       "      <td>0.059912</td>\n",
       "      <td>0.784436</td>\n",
       "      <td>0.873160</td>\n",
       "      <td>0.210568</td>\n",
       "      <td>0.264142</td>\n",
       "      <td>0.934992</td>\n",
       "      <td>0.735802</td>\n",
       "    </tr>\n",
       "    <tr>\n",
       "      <th>35134</th>\n",
       "      <td>2020-01-01 23:30:00</td>\n",
       "      <td>1.697</td>\n",
       "      <td>1.446083</td>\n",
       "      <td>0.259545</td>\n",
       "      <td>0.130782</td>\n",
       "      <td>0.329682</td>\n",
       "      <td>1.666757</td>\n",
       "      <td>0.189302</td>\n",
       "      <td>0.548459</td>\n",
       "      <td>0.070958</td>\n",
       "      <td>...</td>\n",
       "      <td>0.559578</td>\n",
       "      <td>0.162203</td>\n",
       "      <td>0.176368</td>\n",
       "      <td>0.063241</td>\n",
       "      <td>0.517310</td>\n",
       "      <td>0.575820</td>\n",
       "      <td>0.174381</td>\n",
       "      <td>0.218749</td>\n",
       "      <td>0.616596</td>\n",
       "      <td>0.485237</td>\n",
       "    </tr>\n",
       "    <tr>\n",
       "      <th>35135</th>\n",
       "      <td>2020-01-01 23:45:00</td>\n",
       "      <td>1.673</td>\n",
       "      <td>1.174827</td>\n",
       "      <td>0.259545</td>\n",
       "      <td>0.130782</td>\n",
       "      <td>0.329682</td>\n",
       "      <td>1.354107</td>\n",
       "      <td>0.208899</td>\n",
       "      <td>0.605235</td>\n",
       "      <td>0.070958</td>\n",
       "      <td>...</td>\n",
       "      <td>0.454612</td>\n",
       "      <td>0.178994</td>\n",
       "      <td>0.194625</td>\n",
       "      <td>0.063241</td>\n",
       "      <td>0.420273</td>\n",
       "      <td>0.467808</td>\n",
       "      <td>0.192433</td>\n",
       "      <td>0.241394</td>\n",
       "      <td>0.500935</td>\n",
       "      <td>0.394216</td>\n",
       "    </tr>\n",
       "  </tbody>\n",
       "</table>\n",
       "<p>35136 rows × 52 columns</p>\n",
       "</div>"
      ],
      "text/plain": [
       "                     Time      0         1         2         3         4  \\\n",
       "0     2019-01-01 00:00:00  2.964  2.322959  1.544607  0.778310  1.962012   \n",
       "1     2019-01-01 00:15:00  2.584  2.371797  1.544607  0.778310  1.962012   \n",
       "2     2019-01-01 00:30:00  3.071  2.415961  1.319880  0.665072  1.676555   \n",
       "3     2019-01-01 00:45:00  2.694  2.302538  1.319880  0.665072  1.676555   \n",
       "4     2019-01-01 01:00:00  2.569  2.363063  0.913154  0.460128  1.159919   \n",
       "...                   ...    ...       ...       ...       ...       ...   \n",
       "35131 2020-01-01 22:45:00  1.664  2.244719  1.455982  0.733653  1.849437   \n",
       "35132 2020-01-01 23:00:00  1.659  2.136340  1.201186  0.605264  1.525786   \n",
       "35133 2020-01-01 23:15:00  1.664  2.192805  1.201186  0.605264  1.525786   \n",
       "35134 2020-01-01 23:30:00  1.697  1.446083  0.259545  0.130782  0.329682   \n",
       "35135 2020-01-01 23:45:00  1.673  1.174827  0.259545  0.130782  0.329682   \n",
       "\n",
       "              5         6         7         8  ...        41        42  \\\n",
       "0      2.677445  0.237877  0.689194  0.358525  ...  0.898895  0.203825   \n",
       "1      2.733737  0.192929  0.558967  0.358525  ...  0.917793  0.165311   \n",
       "2      2.784640  0.382869  1.109272  0.377198  ...  0.934883  0.328060   \n",
       "3      2.653908  0.442052  1.280743  0.377198  ...  0.890992  0.378772   \n",
       "4      2.723669  0.192242  0.556976  0.668500  ...  0.914413  0.164722   \n",
       "...         ...       ...       ...       ...  ...       ...       ...   \n",
       "35131  2.587266  0.205654  0.595835  0.171793  ...  0.868619  0.176214   \n",
       "35132  2.462348  0.201219  0.582985  0.067223  ...  0.826680  0.172414   \n",
       "35133  2.527430  0.228585  0.662271  0.067223  ...  0.848530  0.195862   \n",
       "35134  1.666757  0.189302  0.548459  0.070958  ...  0.559578  0.162203   \n",
       "35135  1.354107  0.208899  0.605235  0.070958  ...  0.454612  0.178994   \n",
       "\n",
       "             43        44        45        46        47        48        49  \\\n",
       "0      0.221624  0.319531  0.830996  0.924987  0.219128  0.274880  0.990488   \n",
       "1      0.179747  0.319531  0.848467  0.944434  0.177722  0.222940  1.011313   \n",
       "2      0.356708  0.336174  0.864266  0.962019  0.352691  0.442426  1.030144   \n",
       "3      0.411848  0.336174  0.823691  0.916855  0.407209  0.510816  0.981781   \n",
       "4      0.179106  0.595793  0.845343  0.940956  0.177089  0.222146  1.007588   \n",
       "...         ...       ...       ...       ...       ...       ...       ...   \n",
       "35131  0.191602  0.153109  0.803007  0.893832  0.189444  0.237645  0.957128   \n",
       "35132  0.187470  0.059912  0.764237  0.850676  0.185359  0.232519  0.910916   \n",
       "35133  0.212966  0.059912  0.784436  0.873160  0.210568  0.264142  0.934992   \n",
       "35134  0.176368  0.063241  0.517310  0.575820  0.174381  0.218749  0.616596   \n",
       "35135  0.194625  0.063241  0.420273  0.467808  0.192433  0.241394  0.500935   \n",
       "\n",
       "             50  \n",
       "0      0.779475  \n",
       "1      0.795863  \n",
       "2      0.810682  \n",
       "3      0.772623  \n",
       "4      0.792932  \n",
       "...         ...  \n",
       "35131  0.753222  \n",
       "35132  0.716855  \n",
       "35133  0.735802  \n",
       "35134  0.485237  \n",
       "35135  0.394216  \n",
       "\n",
       "[35136 rows x 52 columns]"
      ]
     },
     "execution_count": 5,
     "metadata": {},
     "output_type": "execute_result"
    }
   ],
   "source": [
    "df = pd.read_csv(\"~/datasets/Dataset.csv\", decimal=\",\")\n",
    "df_index = pd.DataFrame(pd.date_range('2019-01-01', periods=35136, freq='15T'))\n",
    "df = pd.concat([pd.DataFrame(df_index).rename(columns={0: \"Time\"}),df],axis=1)\n",
    "df"
   ]
  },
  {
   "cell_type": "code",
   "execution_count": 6,
   "metadata": {},
   "outputs": [],
   "source": [
    "names = [\"Linear Regression\", \"XGBoost\", \"Random Forest\"]"
   ]
  },
  {
   "cell_type": "code",
   "execution_count": 10,
   "metadata": {},
   "outputs": [
    {
     "name": "stdout",
     "output_type": "stream",
     "text": [
      "Number of Clusters: 2\n",
      "Cluster 0\n",
      "Elapsed time training and predicting: 0.0624 s\n",
      "Elapsed time training and predicting: 6.7022 s\n"
     ]
    },
    {
     "name": "stderr",
     "output_type": "stream",
     "text": [
      "/home/francisco.monteiro@av.it.pt/miniconda3/envs/rapids-23.02/lib/python3.8/site-packages/cuml/internals/api_decorators.py:190: UserWarning: To use pickling first train using float32 data to fit the estimator\n",
      "  ret = func(*args, **kwargs)\n"
     ]
    },
    {
     "name": "stdout",
     "output_type": "stream",
     "text": [
      "Elapsed time training and predicting: 1.4429 s\n",
      "Cluster 1\n",
      "Elapsed time training and predicting: 0.2300 s\n",
      "Elapsed time training and predicting: 8.4618 s\n"
     ]
    },
    {
     "name": "stderr",
     "output_type": "stream",
     "text": [
      "/home/francisco.monteiro@av.it.pt/miniconda3/envs/rapids-23.02/lib/python3.8/site-packages/cuml/internals/api_decorators.py:190: UserWarning: To use pickling first train using float32 data to fit the estimator\n",
      "  ret = func(*args, **kwargs)\n"
     ]
    },
    {
     "name": "stdout",
     "output_type": "stream",
     "text": [
      "Elapsed time training and predicting: 4.3335 s\n",
      "Aggregating predictions...\n",
      "\n",
      "----------------------------\n",
      "Linear Regression\n",
      "----------------------------\n",
      "\n",
      "MSE: 0.1967\n",
      "RMSE: 0.4435\n",
      "WAPE: 29.69\n",
      "R2: 0.8297\n",
      "\n",
      "----------------------------\n",
      "XGBoost\n",
      "----------------------------\n",
      "\n",
      "MSE: 0.0938\n",
      "RMSE: 0.3063\n",
      "WAPE: 19.66\n",
      "R2: 0.9188\n",
      "\n",
      "----------------------------\n",
      "Random Forest\n",
      "----------------------------\n",
      "\n",
      "MSE: 0.1316\n",
      "RMSE: 0.3628\n",
      "WAPE: 24.10\n",
      "R2: 0.8860\n",
      "Number of Clusters: 3\n",
      "Cluster 0\n",
      "Elapsed time training and predicting: 0.1689 s\n",
      "Elapsed time training and predicting: 8.0681 s\n"
     ]
    },
    {
     "name": "stderr",
     "output_type": "stream",
     "text": [
      "/home/francisco.monteiro@av.it.pt/miniconda3/envs/rapids-23.02/lib/python3.8/site-packages/cuml/internals/api_decorators.py:190: UserWarning: To use pickling first train using float32 data to fit the estimator\n",
      "  ret = func(*args, **kwargs)\n"
     ]
    },
    {
     "name": "stdout",
     "output_type": "stream",
     "text": [
      "Elapsed time training and predicting: 3.5496 s\n",
      "Cluster 1\n",
      "Elapsed time training and predicting: 0.0039 s\n",
      "Elapsed time training and predicting: 4.0176 s\n"
     ]
    },
    {
     "name": "stderr",
     "output_type": "stream",
     "text": [
      "/home/francisco.monteiro@av.it.pt/miniconda3/envs/rapids-23.02/lib/python3.8/site-packages/cuml/internals/api_decorators.py:190: UserWarning: To use pickling first train using float32 data to fit the estimator\n",
      "  ret = func(*args, **kwargs)\n"
     ]
    },
    {
     "name": "stdout",
     "output_type": "stream",
     "text": [
      "Elapsed time training and predicting: 0.3952 s\n",
      "Cluster 2\n",
      "Elapsed time training and predicting: 0.0899 s\n",
      "Elapsed time training and predicting: 7.1682 s\n"
     ]
    },
    {
     "name": "stderr",
     "output_type": "stream",
     "text": [
      "/home/francisco.monteiro@av.it.pt/miniconda3/envs/rapids-23.02/lib/python3.8/site-packages/cuml/internals/api_decorators.py:190: UserWarning: To use pickling first train using float32 data to fit the estimator\n",
      "  ret = func(*args, **kwargs)\n"
     ]
    },
    {
     "name": "stdout",
     "output_type": "stream",
     "text": [
      "Elapsed time training and predicting: 1.9546 s\n",
      "Aggregating predictions...\n",
      "\n",
      "----------------------------\n",
      "Linear Regression\n",
      "----------------------------\n",
      "\n",
      "MSE: 0.1829\n",
      "RMSE: 0.4276\n",
      "WAPE: 29.90\n",
      "R2: 0.8337\n",
      "\n",
      "----------------------------\n",
      "XGBoost\n",
      "----------------------------\n",
      "\n",
      "MSE: 0.0837\n",
      "RMSE: 0.2893\n",
      "WAPE: 19.24\n",
      "R2: 0.9238\n",
      "\n",
      "----------------------------\n",
      "Random Forest\n",
      "----------------------------\n",
      "\n",
      "MSE: 0.1224\n",
      "RMSE: 0.3499\n",
      "WAPE: 23.80\n",
      "R2: 0.8886\n",
      "Number of Clusters: 4\n",
      "Cluster 0\n",
      "Elapsed time training and predicting: 0.0991 s\n",
      "Elapsed time training and predicting: 7.3466 s\n"
     ]
    },
    {
     "name": "stderr",
     "output_type": "stream",
     "text": [
      "/home/francisco.monteiro@av.it.pt/miniconda3/envs/rapids-23.02/lib/python3.8/site-packages/cuml/internals/api_decorators.py:190: UserWarning: To use pickling first train using float32 data to fit the estimator\n",
      "  ret = func(*args, **kwargs)\n"
     ]
    },
    {
     "name": "stdout",
     "output_type": "stream",
     "text": [
      "Elapsed time training and predicting: 2.2536 s\n",
      "Cluster 1\n",
      "Elapsed time training and predicting: 0.0046 s\n",
      "Elapsed time training and predicting: 4.0224 s\n"
     ]
    },
    {
     "name": "stderr",
     "output_type": "stream",
     "text": [
      "/home/francisco.monteiro@av.it.pt/miniconda3/envs/rapids-23.02/lib/python3.8/site-packages/cuml/internals/api_decorators.py:190: UserWarning: To use pickling first train using float32 data to fit the estimator\n",
      "  ret = func(*args, **kwargs)\n"
     ]
    },
    {
     "name": "stdout",
     "output_type": "stream",
     "text": [
      "Elapsed time training and predicting: 0.4004 s\n",
      "Cluster 2\n",
      "Elapsed time training and predicting: 0.1070 s\n",
      "Elapsed time training and predicting: 7.5981 s\n"
     ]
    },
    {
     "name": "stderr",
     "output_type": "stream",
     "text": [
      "/home/francisco.monteiro@av.it.pt/miniconda3/envs/rapids-23.02/lib/python3.8/site-packages/cuml/internals/api_decorators.py:190: UserWarning: To use pickling first train using float32 data to fit the estimator\n",
      "  ret = func(*args, **kwargs)\n"
     ]
    },
    {
     "name": "stdout",
     "output_type": "stream",
     "text": [
      "Elapsed time training and predicting: 2.1334 s\n",
      "Cluster 3\n",
      "Elapsed time training and predicting: 0.0382 s\n",
      "Elapsed time training and predicting: 6.6419 s\n"
     ]
    },
    {
     "name": "stderr",
     "output_type": "stream",
     "text": [
      "/home/francisco.monteiro@av.it.pt/miniconda3/envs/rapids-23.02/lib/python3.8/site-packages/cuml/internals/api_decorators.py:190: UserWarning: To use pickling first train using float32 data to fit the estimator\n",
      "  ret = func(*args, **kwargs)\n"
     ]
    },
    {
     "name": "stdout",
     "output_type": "stream",
     "text": [
      "Elapsed time training and predicting: 1.2280 s\n",
      "Aggregating predictions...\n",
      "\n",
      "----------------------------\n",
      "Linear Regression\n",
      "----------------------------\n",
      "\n",
      "MSE: 0.1837\n",
      "RMSE: 0.4286\n",
      "WAPE: 29.94\n",
      "R2: 0.8331\n",
      "\n",
      "----------------------------\n",
      "XGBoost\n",
      "----------------------------\n",
      "\n",
      "MSE: 0.0812\n",
      "RMSE: 0.2850\n",
      "WAPE: 18.25\n",
      "R2: 0.9262\n",
      "\n",
      "----------------------------\n",
      "Random Forest\n",
      "----------------------------\n",
      "\n",
      "MSE: 0.1177\n",
      "RMSE: 0.3431\n",
      "WAPE: 22.83\n",
      "R2: 0.8931\n",
      "Number of Clusters: 5\n",
      "Cluster 0\n",
      "Elapsed time training and predicting: 0.0039 s\n",
      "Elapsed time training and predicting: 4.0152 s\n"
     ]
    },
    {
     "name": "stderr",
     "output_type": "stream",
     "text": [
      "/home/francisco.monteiro@av.it.pt/miniconda3/envs/rapids-23.02/lib/python3.8/site-packages/cuml/internals/api_decorators.py:190: UserWarning: To use pickling first train using float32 data to fit the estimator\n",
      "  ret = func(*args, **kwargs)\n"
     ]
    },
    {
     "name": "stdout",
     "output_type": "stream",
     "text": [
      "Elapsed time training and predicting: 0.3920 s\n",
      "Cluster 1\n",
      "Elapsed time training and predicting: 0.0912 s\n",
      "Elapsed time training and predicting: 8.9355 s\n"
     ]
    },
    {
     "name": "stderr",
     "output_type": "stream",
     "text": [
      "/home/francisco.monteiro@av.it.pt/miniconda3/envs/rapids-23.02/lib/python3.8/site-packages/cuml/internals/api_decorators.py:190: UserWarning: To use pickling first train using float32 data to fit the estimator\n",
      "  ret = func(*args, **kwargs)\n"
     ]
    },
    {
     "name": "stdout",
     "output_type": "stream",
     "text": [
      "Elapsed time training and predicting: 2.5343 s\n",
      "Cluster 2\n",
      "Elapsed time training and predicting: 0.0308 s\n",
      "Elapsed time training and predicting: 16.8176 s\n"
     ]
    },
    {
     "name": "stderr",
     "output_type": "stream",
     "text": [
      "/home/francisco.monteiro@av.it.pt/miniconda3/envs/rapids-23.02/lib/python3.8/site-packages/cuml/internals/api_decorators.py:190: UserWarning: To use pickling first train using float32 data to fit the estimator\n",
      "  ret = func(*args, **kwargs)\n"
     ]
    },
    {
     "name": "stdout",
     "output_type": "stream",
     "text": [
      "Elapsed time training and predicting: 1.3527 s\n",
      "Cluster 3\n",
      "Elapsed time training and predicting: 0.1000 s\n",
      "Elapsed time training and predicting: 9.4324 s\n"
     ]
    },
    {
     "name": "stderr",
     "output_type": "stream",
     "text": [
      "/home/francisco.monteiro@av.it.pt/miniconda3/envs/rapids-23.02/lib/python3.8/site-packages/cuml/internals/api_decorators.py:190: UserWarning: To use pickling first train using float32 data to fit the estimator\n",
      "  ret = func(*args, **kwargs)\n"
     ]
    },
    {
     "name": "stdout",
     "output_type": "stream",
     "text": [
      "Elapsed time training and predicting: 2.1363 s\n",
      "Cluster 4\n",
      "Elapsed time training and predicting: 0.0257 s\n",
      "Elapsed time training and predicting: 5.8870 s\n"
     ]
    },
    {
     "name": "stderr",
     "output_type": "stream",
     "text": [
      "/home/francisco.monteiro@av.it.pt/miniconda3/envs/rapids-23.02/lib/python3.8/site-packages/cuml/internals/api_decorators.py:190: UserWarning: To use pickling first train using float32 data to fit the estimator\n",
      "  ret = func(*args, **kwargs)\n"
     ]
    },
    {
     "name": "stdout",
     "output_type": "stream",
     "text": [
      "Elapsed time training and predicting: 0.7729 s\n",
      "Aggregating predictions...\n",
      "\n",
      "----------------------------\n",
      "Linear Regression\n",
      "----------------------------\n",
      "\n",
      "MSE: 0.1804\n",
      "RMSE: 0.4248\n",
      "WAPE: 29.76\n",
      "R2: 0.8367\n",
      "\n",
      "----------------------------\n",
      "XGBoost\n",
      "----------------------------\n",
      "\n",
      "MSE: 0.0713\n",
      "RMSE: 0.2671\n",
      "WAPE: 17.13\n",
      "R2: 0.9354\n",
      "\n",
      "----------------------------\n",
      "Random Forest\n",
      "----------------------------\n",
      "\n",
      "MSE: 0.1100\n",
      "RMSE: 0.3317\n",
      "WAPE: 22.11\n",
      "R2: 0.9004\n",
      "Number of Clusters: 6\n",
      "Cluster 0\n",
      "Elapsed time training and predicting: 0.0116 s\n",
      "Elapsed time training and predicting: 4.0001 s\n"
     ]
    },
    {
     "name": "stderr",
     "output_type": "stream",
     "text": [
      "/home/francisco.monteiro@av.it.pt/miniconda3/envs/rapids-23.02/lib/python3.8/site-packages/cuml/internals/api_decorators.py:190: UserWarning: To use pickling first train using float32 data to fit the estimator\n",
      "  ret = func(*args, **kwargs)\n"
     ]
    },
    {
     "name": "stdout",
     "output_type": "stream",
     "text": [
      "Elapsed time training and predicting: 0.3936 s\n",
      "Cluster 1\n",
      "Elapsed time training and predicting: 0.0775 s\n",
      "Elapsed time training and predicting: 6.8951 s\n"
     ]
    },
    {
     "name": "stderr",
     "output_type": "stream",
     "text": [
      "/home/francisco.monteiro@av.it.pt/miniconda3/envs/rapids-23.02/lib/python3.8/site-packages/cuml/internals/api_decorators.py:190: UserWarning: To use pickling first train using float32 data to fit the estimator\n",
      "  ret = func(*args, **kwargs)\n"
     ]
    },
    {
     "name": "stdout",
     "output_type": "stream",
     "text": [
      "Elapsed time training and predicting: 1.7510 s\n",
      "Cluster 2\n",
      "Elapsed time training and predicting: 0.1016 s\n",
      "Elapsed time training and predicting: 7.6231 s\n"
     ]
    },
    {
     "name": "stderr",
     "output_type": "stream",
     "text": [
      "/home/francisco.monteiro@av.it.pt/miniconda3/envs/rapids-23.02/lib/python3.8/site-packages/cuml/internals/api_decorators.py:190: UserWarning: To use pickling first train using float32 data to fit the estimator\n",
      "  ret = func(*args, **kwargs)\n"
     ]
    },
    {
     "name": "stdout",
     "output_type": "stream",
     "text": [
      "Elapsed time training and predicting: 2.1467 s\n",
      "Cluster 3\n",
      "Elapsed time training and predicting: 0.0140 s\n",
      "Elapsed time training and predicting: 5.8336 s\n"
     ]
    },
    {
     "name": "stderr",
     "output_type": "stream",
     "text": [
      "/home/francisco.monteiro@av.it.pt/miniconda3/envs/rapids-23.02/lib/python3.8/site-packages/cuml/internals/api_decorators.py:190: UserWarning: To use pickling first train using float32 data to fit the estimator\n",
      "  ret = func(*args, **kwargs)\n"
     ]
    },
    {
     "name": "stdout",
     "output_type": "stream",
     "text": [
      "Elapsed time training and predicting: 0.6759 s\n",
      "Cluster 4\n",
      "Elapsed time training and predicting: 0.0300 s\n",
      "Elapsed time training and predicting: 6.3174 s\n"
     ]
    },
    {
     "name": "stderr",
     "output_type": "stream",
     "text": [
      "/home/francisco.monteiro@av.it.pt/miniconda3/envs/rapids-23.02/lib/python3.8/site-packages/cuml/internals/api_decorators.py:190: UserWarning: To use pickling first train using float32 data to fit the estimator\n",
      "  ret = func(*args, **kwargs)\n"
     ]
    },
    {
     "name": "stdout",
     "output_type": "stream",
     "text": [
      "Elapsed time training and predicting: 1.0182 s\n",
      "Cluster 5\n",
      "Elapsed time training and predicting: 0.0070 s\n",
      "Elapsed time training and predicting: 4.8588 s\n"
     ]
    },
    {
     "name": "stderr",
     "output_type": "stream",
     "text": [
      "/home/francisco.monteiro@av.it.pt/miniconda3/envs/rapids-23.02/lib/python3.8/site-packages/cuml/internals/api_decorators.py:190: UserWarning: To use pickling first train using float32 data to fit the estimator\n",
      "  ret = func(*args, **kwargs)\n"
     ]
    },
    {
     "name": "stdout",
     "output_type": "stream",
     "text": [
      "Elapsed time training and predicting: 0.4927 s\n",
      "Aggregating predictions...\n",
      "\n",
      "----------------------------\n",
      "Linear Regression\n",
      "----------------------------\n",
      "\n",
      "MSE: 0.1769\n",
      "RMSE: 0.4206\n",
      "WAPE: 29.64\n",
      "R2: 0.8389\n",
      "\n",
      "----------------------------\n",
      "XGBoost\n",
      "----------------------------\n",
      "\n",
      "MSE: 0.0684\n",
      "RMSE: 0.2616\n",
      "WAPE: 16.83\n",
      "R2: 0.9376\n",
      "\n",
      "----------------------------\n",
      "Random Forest\n",
      "----------------------------\n",
      "\n",
      "MSE: 0.1060\n",
      "RMSE: 0.3256\n",
      "WAPE: 21.74\n",
      "R2: 0.9034\n",
      "Number of Clusters: 7\n",
      "Cluster 0\n",
      "Elapsed time training and predicting: 0.1164 s\n",
      "Elapsed time training and predicting: 7.8328 s\n"
     ]
    },
    {
     "name": "stderr",
     "output_type": "stream",
     "text": [
      "/home/francisco.monteiro@av.it.pt/miniconda3/envs/rapids-23.02/lib/python3.8/site-packages/cuml/internals/api_decorators.py:190: UserWarning: To use pickling first train using float32 data to fit the estimator\n",
      "  ret = func(*args, **kwargs)\n"
     ]
    },
    {
     "name": "stdout",
     "output_type": "stream",
     "text": [
      "Elapsed time training and predicting: 2.4856 s\n",
      "Cluster 1\n",
      "Elapsed time training and predicting: 0.0068 s\n",
      "Elapsed time training and predicting: 4.8676 s\n"
     ]
    },
    {
     "name": "stderr",
     "output_type": "stream",
     "text": [
      "/home/francisco.monteiro@av.it.pt/miniconda3/envs/rapids-23.02/lib/python3.8/site-packages/cuml/internals/api_decorators.py:190: UserWarning: To use pickling first train using float32 data to fit the estimator\n",
      "  ret = func(*args, **kwargs)\n"
     ]
    },
    {
     "name": "stdout",
     "output_type": "stream",
     "text": [
      "Elapsed time training and predicting: 0.4968 s\n",
      "Cluster 2\n",
      "Elapsed time training and predicting: 0.0210 s\n",
      "Elapsed time training and predicting: 5.9844 s\n"
     ]
    },
    {
     "name": "stderr",
     "output_type": "stream",
     "text": [
      "/home/francisco.monteiro@av.it.pt/miniconda3/envs/rapids-23.02/lib/python3.8/site-packages/cuml/internals/api_decorators.py:190: UserWarning: To use pickling first train using float32 data to fit the estimator\n",
      "  ret = func(*args, **kwargs)\n"
     ]
    },
    {
     "name": "stdout",
     "output_type": "stream",
     "text": [
      "Elapsed time training and predicting: 0.8312 s\n",
      "Cluster 3\n",
      "Elapsed time training and predicting: 0.0037 s\n",
      "Elapsed time training and predicting: 4.0213 s\n"
     ]
    },
    {
     "name": "stderr",
     "output_type": "stream",
     "text": [
      "/home/francisco.monteiro@av.it.pt/miniconda3/envs/rapids-23.02/lib/python3.8/site-packages/cuml/internals/api_decorators.py:190: UserWarning: To use pickling first train using float32 data to fit the estimator\n",
      "  ret = func(*args, **kwargs)\n"
     ]
    },
    {
     "name": "stdout",
     "output_type": "stream",
     "text": [
      "Elapsed time training and predicting: 0.3874 s\n",
      "Cluster 4\n",
      "Elapsed time training and predicting: 0.0208 s\n",
      "Elapsed time training and predicting: 6.4230 s\n"
     ]
    },
    {
     "name": "stderr",
     "output_type": "stream",
     "text": [
      "/home/francisco.monteiro@av.it.pt/miniconda3/envs/rapids-23.02/lib/python3.8/site-packages/cuml/internals/api_decorators.py:190: UserWarning: To use pickling first train using float32 data to fit the estimator\n",
      "  ret = func(*args, **kwargs)\n"
     ]
    },
    {
     "name": "stdout",
     "output_type": "stream",
     "text": [
      "Elapsed time training and predicting: 0.8637 s\n",
      "Cluster 5\n",
      "Elapsed time training and predicting: 0.0321 s\n",
      "Elapsed time training and predicting: 6.3234 s\n"
     ]
    },
    {
     "name": "stderr",
     "output_type": "stream",
     "text": [
      "/home/francisco.monteiro@av.it.pt/miniconda3/envs/rapids-23.02/lib/python3.8/site-packages/cuml/internals/api_decorators.py:190: UserWarning: To use pickling first train using float32 data to fit the estimator\n",
      "  ret = func(*args, **kwargs)\n"
     ]
    },
    {
     "name": "stdout",
     "output_type": "stream",
     "text": [
      "Elapsed time training and predicting: 1.1355 s\n",
      "Cluster 6\n",
      "Elapsed time training and predicting: 0.0145 s\n",
      "Elapsed time training and predicting: 5.8281 s\n"
     ]
    },
    {
     "name": "stderr",
     "output_type": "stream",
     "text": [
      "/home/francisco.monteiro@av.it.pt/miniconda3/envs/rapids-23.02/lib/python3.8/site-packages/cuml/internals/api_decorators.py:190: UserWarning: To use pickling first train using float32 data to fit the estimator\n",
      "  ret = func(*args, **kwargs)\n"
     ]
    },
    {
     "name": "stdout",
     "output_type": "stream",
     "text": [
      "Elapsed time training and predicting: 0.6659 s\n",
      "Aggregating predictions...\n",
      "\n",
      "----------------------------\n",
      "Linear Regression\n",
      "----------------------------\n",
      "\n",
      "MSE: 0.1751\n",
      "RMSE: 0.4185\n",
      "WAPE: 29.58\n",
      "R2: 0.8401\n",
      "\n",
      "----------------------------\n",
      "XGBoost\n",
      "----------------------------\n",
      "\n",
      "MSE: 0.0667\n",
      "RMSE: 0.2584\n",
      "WAPE: 16.49\n",
      "R2: 0.9390\n",
      "\n",
      "----------------------------\n",
      "Random Forest\n",
      "----------------------------\n",
      "\n",
      "MSE: 0.1026\n",
      "RMSE: 0.3204\n",
      "WAPE: 21.33\n",
      "R2: 0.9062\n",
      "Number of Clusters: 8\n",
      "Cluster 0\n",
      "Elapsed time training and predicting: 0.0223 s\n",
      "Elapsed time training and predicting: 5.9851 s\n"
     ]
    },
    {
     "name": "stderr",
     "output_type": "stream",
     "text": [
      "/home/francisco.monteiro@av.it.pt/miniconda3/envs/rapids-23.02/lib/python3.8/site-packages/cuml/internals/api_decorators.py:190: UserWarning: To use pickling first train using float32 data to fit the estimator\n",
      "  ret = func(*args, **kwargs)\n"
     ]
    },
    {
     "name": "stdout",
     "output_type": "stream",
     "text": [
      "Elapsed time training and predicting: 0.8242 s\n",
      "Cluster 1\n",
      "Elapsed time training and predicting: 0.1002 s\n",
      "Elapsed time training and predicting: 7.5945 s\n"
     ]
    },
    {
     "name": "stderr",
     "output_type": "stream",
     "text": [
      "/home/francisco.monteiro@av.it.pt/miniconda3/envs/rapids-23.02/lib/python3.8/site-packages/cuml/internals/api_decorators.py:190: UserWarning: To use pickling first train using float32 data to fit the estimator\n",
      "  ret = func(*args, **kwargs)\n"
     ]
    },
    {
     "name": "stdout",
     "output_type": "stream",
     "text": [
      "Elapsed time training and predicting: 2.1641 s\n",
      "Cluster 2\n",
      "Elapsed time training and predicting: 0.0131 s\n",
      "Elapsed time training and predicting: 5.8256 s\n"
     ]
    },
    {
     "name": "stderr",
     "output_type": "stream",
     "text": [
      "/home/francisco.monteiro@av.it.pt/miniconda3/envs/rapids-23.02/lib/python3.8/site-packages/cuml/internals/api_decorators.py:190: UserWarning: To use pickling first train using float32 data to fit the estimator\n",
      "  ret = func(*args, **kwargs)\n"
     ]
    },
    {
     "name": "stdout",
     "output_type": "stream",
     "text": [
      "Elapsed time training and predicting: 0.6681 s\n",
      "Cluster 3\n",
      "Elapsed time training and predicting: 0.0037 s\n",
      "Elapsed time training and predicting: 4.0238 s\n"
     ]
    },
    {
     "name": "stderr",
     "output_type": "stream",
     "text": [
      "/home/francisco.monteiro@av.it.pt/miniconda3/envs/rapids-23.02/lib/python3.8/site-packages/cuml/internals/api_decorators.py:190: UserWarning: To use pickling first train using float32 data to fit the estimator\n",
      "  ret = func(*args, **kwargs)\n"
     ]
    },
    {
     "name": "stdout",
     "output_type": "stream",
     "text": [
      "Elapsed time training and predicting: 0.3969 s\n",
      "Cluster 4\n",
      "Elapsed time training and predicting: 0.0329 s\n",
      "Elapsed time training and predicting: 6.7660 s\n"
     ]
    },
    {
     "name": "stderr",
     "output_type": "stream",
     "text": [
      "/home/francisco.monteiro@av.it.pt/miniconda3/envs/rapids-23.02/lib/python3.8/site-packages/cuml/internals/api_decorators.py:190: UserWarning: To use pickling first train using float32 data to fit the estimator\n",
      "  ret = func(*args, **kwargs)\n"
     ]
    },
    {
     "name": "stdout",
     "output_type": "stream",
     "text": [
      "Elapsed time training and predicting: 1.1024 s\n",
      "Cluster 5\n",
      "Elapsed time training and predicting: 0.0037 s\n",
      "Elapsed time training and predicting: 4.2854 s\n"
     ]
    },
    {
     "name": "stderr",
     "output_type": "stream",
     "text": [
      "/home/francisco.monteiro@av.it.pt/miniconda3/envs/rapids-23.02/lib/python3.8/site-packages/cuml/internals/api_decorators.py:190: UserWarning: To use pickling first train using float32 data to fit the estimator\n",
      "  ret = func(*args, **kwargs)\n"
     ]
    },
    {
     "name": "stdout",
     "output_type": "stream",
     "text": [
      "Elapsed time training and predicting: 0.3975 s\n",
      "Cluster 6\n",
      "Elapsed time training and predicting: 0.0248 s\n",
      "Elapsed time training and predicting: 6.1207 s\n"
     ]
    },
    {
     "name": "stderr",
     "output_type": "stream",
     "text": [
      "/home/francisco.monteiro@av.it.pt/miniconda3/envs/rapids-23.02/lib/python3.8/site-packages/cuml/internals/api_decorators.py:190: UserWarning: To use pickling first train using float32 data to fit the estimator\n",
      "  ret = func(*args, **kwargs)\n"
     ]
    },
    {
     "name": "stdout",
     "output_type": "stream",
     "text": [
      "Elapsed time training and predicting: 0.9241 s\n",
      "Cluster 7\n",
      "Elapsed time training and predicting: 0.0106 s\n",
      "Elapsed time training and predicting: 5.2348 s\n"
     ]
    },
    {
     "name": "stderr",
     "output_type": "stream",
     "text": [
      "/home/francisco.monteiro@av.it.pt/miniconda3/envs/rapids-23.02/lib/python3.8/site-packages/cuml/internals/api_decorators.py:190: UserWarning: To use pickling first train using float32 data to fit the estimator\n",
      "  ret = func(*args, **kwargs)\n"
     ]
    },
    {
     "name": "stdout",
     "output_type": "stream",
     "text": [
      "Elapsed time training and predicting: 0.5979 s\n",
      "Aggregating predictions...\n",
      "\n",
      "----------------------------\n",
      "Linear Regression\n",
      "----------------------------\n",
      "\n",
      "MSE: 0.1740\n",
      "RMSE: 0.4171\n",
      "WAPE: 29.51\n",
      "R2: 0.8415\n",
      "\n",
      "----------------------------\n",
      "XGBoost\n",
      "----------------------------\n",
      "\n",
      "MSE: 0.0657\n",
      "RMSE: 0.2563\n",
      "WAPE: 16.20\n",
      "R2: 0.9401\n",
      "\n",
      "----------------------------\n",
      "Random Forest\n",
      "----------------------------\n",
      "\n",
      "MSE: 0.1010\n",
      "RMSE: 0.3179\n",
      "WAPE: 20.96\n",
      "R2: 0.9079\n",
      "Number of Clusters: 9\n",
      "Cluster 0\n",
      "Elapsed time training and predicting: 0.0830 s\n",
      "Elapsed time training and predicting: 7.3861 s\n"
     ]
    },
    {
     "name": "stderr",
     "output_type": "stream",
     "text": [
      "/home/francisco.monteiro@av.it.pt/miniconda3/envs/rapids-23.02/lib/python3.8/site-packages/cuml/internals/api_decorators.py:190: UserWarning: To use pickling first train using float32 data to fit the estimator\n",
      "  ret = func(*args, **kwargs)\n"
     ]
    },
    {
     "name": "stdout",
     "output_type": "stream",
     "text": [
      "Elapsed time training and predicting: 1.5906 s\n",
      "Cluster 1\n",
      "Elapsed time training and predicting: 0.0215 s\n",
      "Elapsed time training and predicting: 5.9922 s\n"
     ]
    },
    {
     "name": "stderr",
     "output_type": "stream",
     "text": [
      "/home/francisco.monteiro@av.it.pt/miniconda3/envs/rapids-23.02/lib/python3.8/site-packages/cuml/internals/api_decorators.py:190: UserWarning: To use pickling first train using float32 data to fit the estimator\n",
      "  ret = func(*args, **kwargs)\n"
     ]
    },
    {
     "name": "stdout",
     "output_type": "stream",
     "text": [
      "Elapsed time training and predicting: 0.8515 s\n",
      "Cluster 2\n",
      "Elapsed time training and predicting: 0.0036 s\n",
      "Elapsed time training and predicting: 4.0227 s\n"
     ]
    },
    {
     "name": "stderr",
     "output_type": "stream",
     "text": [
      "/home/francisco.monteiro@av.it.pt/miniconda3/envs/rapids-23.02/lib/python3.8/site-packages/cuml/internals/api_decorators.py:190: UserWarning: To use pickling first train using float32 data to fit the estimator\n",
      "  ret = func(*args, **kwargs)\n"
     ]
    },
    {
     "name": "stdout",
     "output_type": "stream",
     "text": [
      "Elapsed time training and predicting: 0.3893 s\n",
      "Cluster 3\n",
      "Elapsed time training and predicting: 0.0138 s\n",
      "Elapsed time training and predicting: 5.8174 s\n"
     ]
    },
    {
     "name": "stderr",
     "output_type": "stream",
     "text": [
      "/home/francisco.monteiro@av.it.pt/miniconda3/envs/rapids-23.02/lib/python3.8/site-packages/cuml/internals/api_decorators.py:190: UserWarning: To use pickling first train using float32 data to fit the estimator\n",
      "  ret = func(*args, **kwargs)\n"
     ]
    },
    {
     "name": "stdout",
     "output_type": "stream",
     "text": [
      "Elapsed time training and predicting: 0.6633 s\n",
      "Cluster 4\n",
      "Elapsed time training and predicting: 0.0297 s\n",
      "Elapsed time training and predicting: 6.4082 s\n"
     ]
    },
    {
     "name": "stderr",
     "output_type": "stream",
     "text": [
      "/home/francisco.monteiro@av.it.pt/miniconda3/envs/rapids-23.02/lib/python3.8/site-packages/cuml/internals/api_decorators.py:190: UserWarning: To use pickling first train using float32 data to fit the estimator\n",
      "  ret = func(*args, **kwargs)\n"
     ]
    },
    {
     "name": "stdout",
     "output_type": "stream",
     "text": [
      "Elapsed time training and predicting: 0.8426 s\n",
      "Cluster 5\n",
      "Elapsed time training and predicting: 0.0256 s\n",
      "Elapsed time training and predicting: 6.0978 s\n"
     ]
    },
    {
     "name": "stderr",
     "output_type": "stream",
     "text": [
      "/home/francisco.monteiro@av.it.pt/miniconda3/envs/rapids-23.02/lib/python3.8/site-packages/cuml/internals/api_decorators.py:190: UserWarning: To use pickling first train using float32 data to fit the estimator\n",
      "  ret = func(*args, **kwargs)\n"
     ]
    },
    {
     "name": "stdout",
     "output_type": "stream",
     "text": [
      "Elapsed time training and predicting: 0.9334 s\n",
      "Cluster 6\n",
      "Elapsed time training and predicting: 0.0184 s\n",
      "Elapsed time training and predicting: 5.2145 s\n"
     ]
    },
    {
     "name": "stderr",
     "output_type": "stream",
     "text": [
      "/home/francisco.monteiro@av.it.pt/miniconda3/envs/rapids-23.02/lib/python3.8/site-packages/cuml/internals/api_decorators.py:190: UserWarning: To use pickling first train using float32 data to fit the estimator\n",
      "  ret = func(*args, **kwargs)\n"
     ]
    },
    {
     "name": "stdout",
     "output_type": "stream",
     "text": [
      "Elapsed time training and predicting: 0.6061 s\n",
      "Cluster 7\n",
      "Elapsed time training and predicting: 0.0301 s\n",
      "Elapsed time training and predicting: 6.2619 s\n"
     ]
    },
    {
     "name": "stderr",
     "output_type": "stream",
     "text": [
      "/home/francisco.monteiro@av.it.pt/miniconda3/envs/rapids-23.02/lib/python3.8/site-packages/cuml/internals/api_decorators.py:190: UserWarning: To use pickling first train using float32 data to fit the estimator\n",
      "  ret = func(*args, **kwargs)\n"
     ]
    },
    {
     "name": "stdout",
     "output_type": "stream",
     "text": [
      "Elapsed time training and predicting: 0.9960 s\n",
      "Cluster 8\n",
      "Elapsed time training and predicting: 0.0066 s\n",
      "Elapsed time training and predicting: 4.2752 s\n"
     ]
    },
    {
     "name": "stderr",
     "output_type": "stream",
     "text": [
      "/home/francisco.monteiro@av.it.pt/miniconda3/envs/rapids-23.02/lib/python3.8/site-packages/cuml/internals/api_decorators.py:190: UserWarning: To use pickling first train using float32 data to fit the estimator\n",
      "  ret = func(*args, **kwargs)\n"
     ]
    },
    {
     "name": "stdout",
     "output_type": "stream",
     "text": [
      "Elapsed time training and predicting: 0.3978 s\n",
      "Aggregating predictions...\n",
      "\n",
      "----------------------------\n",
      "Linear Regression\n",
      "----------------------------\n",
      "\n",
      "MSE: 0.1746\n",
      "RMSE: 0.4179\n",
      "WAPE: 29.53\n",
      "R2: 0.8410\n",
      "\n",
      "----------------------------\n",
      "XGBoost\n",
      "----------------------------\n",
      "\n",
      "MSE: 0.0643\n",
      "RMSE: 0.2536\n",
      "WAPE: 15.77\n",
      "R2: 0.9414\n",
      "\n",
      "----------------------------\n",
      "Random Forest\n",
      "----------------------------\n",
      "\n",
      "MSE: 0.0999\n",
      "RMSE: 0.3160\n",
      "WAPE: 20.73\n",
      "R2: 0.9090\n",
      "Number of Clusters: 10\n",
      "Cluster 0\n",
      "Elapsed time training and predicting: 0.0186 s\n",
      "Elapsed time training and predicting: 5.7158 s\n"
     ]
    },
    {
     "name": "stderr",
     "output_type": "stream",
     "text": [
      "/home/francisco.monteiro@av.it.pt/miniconda3/envs/rapids-23.02/lib/python3.8/site-packages/cuml/internals/api_decorators.py:190: UserWarning: To use pickling first train using float32 data to fit the estimator\n",
      "  ret = func(*args, **kwargs)\n"
     ]
    },
    {
     "name": "stdout",
     "output_type": "stream",
     "text": [
      "Elapsed time training and predicting: 0.7261 s\n",
      "Cluster 1\n",
      "Elapsed time training and predicting: 0.0143 s\n",
      "Elapsed time training and predicting: 5.8245 s\n"
     ]
    },
    {
     "name": "stderr",
     "output_type": "stream",
     "text": [
      "/home/francisco.monteiro@av.it.pt/miniconda3/envs/rapids-23.02/lib/python3.8/site-packages/cuml/internals/api_decorators.py:190: UserWarning: To use pickling first train using float32 data to fit the estimator\n",
      "  ret = func(*args, **kwargs)\n"
     ]
    },
    {
     "name": "stdout",
     "output_type": "stream",
     "text": [
      "Elapsed time training and predicting: 0.6675 s\n",
      "Cluster 2\n",
      "Elapsed time training and predicting: 0.0303 s\n",
      "Elapsed time training and predicting: 6.4038 s\n"
     ]
    },
    {
     "name": "stderr",
     "output_type": "stream",
     "text": [
      "/home/francisco.monteiro@av.it.pt/miniconda3/envs/rapids-23.02/lib/python3.8/site-packages/cuml/internals/api_decorators.py:190: UserWarning: To use pickling first train using float32 data to fit the estimator\n",
      "  ret = func(*args, **kwargs)\n"
     ]
    },
    {
     "name": "stdout",
     "output_type": "stream",
     "text": [
      "Elapsed time training and predicting: 0.8392 s\n",
      "Cluster 3\n",
      "Elapsed time training and predicting: 0.0037 s\n",
      "Elapsed time training and predicting: 4.0443 s\n"
     ]
    },
    {
     "name": "stderr",
     "output_type": "stream",
     "text": [
      "/home/francisco.monteiro@av.it.pt/miniconda3/envs/rapids-23.02/lib/python3.8/site-packages/cuml/internals/api_decorators.py:190: UserWarning: To use pickling first train using float32 data to fit the estimator\n",
      "  ret = func(*args, **kwargs)\n"
     ]
    },
    {
     "name": "stdout",
     "output_type": "stream",
     "text": [
      "Elapsed time training and predicting: 0.4009 s\n",
      "Cluster 4\n",
      "Elapsed time training and predicting: 0.0231 s\n",
      "Elapsed time training and predicting: 5.9431 s\n"
     ]
    },
    {
     "name": "stderr",
     "output_type": "stream",
     "text": [
      "/home/francisco.monteiro@av.it.pt/miniconda3/envs/rapids-23.02/lib/python3.8/site-packages/cuml/internals/api_decorators.py:190: UserWarning: To use pickling first train using float32 data to fit the estimator\n",
      "  ret = func(*args, **kwargs)\n"
     ]
    },
    {
     "name": "stdout",
     "output_type": "stream",
     "text": [
      "Elapsed time training and predicting: 0.8261 s\n",
      "Cluster 5\n",
      "Elapsed time training and predicting: 0.0140 s\n",
      "Elapsed time training and predicting: 5.3667 s\n"
     ]
    },
    {
     "name": "stderr",
     "output_type": "stream",
     "text": [
      "/home/francisco.monteiro@av.it.pt/miniconda3/envs/rapids-23.02/lib/python3.8/site-packages/cuml/internals/api_decorators.py:190: UserWarning: To use pickling first train using float32 data to fit the estimator\n",
      "  ret = func(*args, **kwargs)\n"
     ]
    },
    {
     "name": "stdout",
     "output_type": "stream",
     "text": [
      "Elapsed time training and predicting: 0.6939 s\n",
      "Cluster 6\n",
      "Elapsed time training and predicting: 0.0382 s\n",
      "Elapsed time training and predicting: 5.8412 s\n"
     ]
    },
    {
     "name": "stderr",
     "output_type": "stream",
     "text": [
      "/home/francisco.monteiro@av.it.pt/miniconda3/envs/rapids-23.02/lib/python3.8/site-packages/cuml/internals/api_decorators.py:190: UserWarning: To use pickling first train using float32 data to fit the estimator\n",
      "  ret = func(*args, **kwargs)\n"
     ]
    },
    {
     "name": "stdout",
     "output_type": "stream",
     "text": [
      "Elapsed time training and predicting: 0.7356 s\n",
      "Cluster 7\n",
      "Elapsed time training and predicting: 0.0876 s\n",
      "Elapsed time training and predicting: 7.1990 s\n"
     ]
    },
    {
     "name": "stderr",
     "output_type": "stream",
     "text": [
      "/home/francisco.monteiro@av.it.pt/miniconda3/envs/rapids-23.02/lib/python3.8/site-packages/cuml/internals/api_decorators.py:190: UserWarning: To use pickling first train using float32 data to fit the estimator\n",
      "  ret = func(*args, **kwargs)\n"
     ]
    },
    {
     "name": "stdout",
     "output_type": "stream",
     "text": [
      "Elapsed time training and predicting: 1.5569 s\n",
      "Cluster 8\n",
      "Elapsed time training and predicting: 0.0075 s\n",
      "Elapsed time training and predicting: 5.0355 s\n"
     ]
    },
    {
     "name": "stderr",
     "output_type": "stream",
     "text": [
      "/home/francisco.monteiro@av.it.pt/miniconda3/envs/rapids-23.02/lib/python3.8/site-packages/cuml/internals/api_decorators.py:190: UserWarning: To use pickling first train using float32 data to fit the estimator\n",
      "  ret = func(*args, **kwargs)\n"
     ]
    },
    {
     "name": "stdout",
     "output_type": "stream",
     "text": [
      "Elapsed time training and predicting: 0.5254 s\n",
      "Cluster 9\n",
      "Elapsed time training and predicting: 0.0140 s\n",
      "Elapsed time training and predicting: 5.7439 s\n"
     ]
    },
    {
     "name": "stderr",
     "output_type": "stream",
     "text": [
      "/home/francisco.monteiro@av.it.pt/miniconda3/envs/rapids-23.02/lib/python3.8/site-packages/cuml/internals/api_decorators.py:190: UserWarning: To use pickling first train using float32 data to fit the estimator\n",
      "  ret = func(*args, **kwargs)\n"
     ]
    },
    {
     "name": "stdout",
     "output_type": "stream",
     "text": [
      "Elapsed time training and predicting: 0.6718 s\n",
      "Aggregating predictions...\n",
      "\n",
      "----------------------------\n",
      "Linear Regression\n",
      "----------------------------\n",
      "\n",
      "MSE: 0.1729\n",
      "RMSE: 0.4158\n",
      "WAPE: 29.39\n",
      "R2: 0.8420\n",
      "\n",
      "----------------------------\n",
      "XGBoost\n",
      "----------------------------\n",
      "\n",
      "MSE: 0.0639\n",
      "RMSE: 0.2528\n",
      "WAPE: 15.62\n",
      "R2: 0.9416\n",
      "\n",
      "----------------------------\n",
      "Random Forest\n",
      "----------------------------\n",
      "\n",
      "MSE: 0.0980\n",
      "RMSE: 0.3131\n",
      "WAPE: 20.42\n",
      "R2: 0.9104\n",
      "Number of Clusters: 11\n",
      "Cluster 0\n",
      "Elapsed time training and predicting: 0.0216 s\n",
      "Elapsed time training and predicting: 5.7296 s\n"
     ]
    },
    {
     "name": "stderr",
     "output_type": "stream",
     "text": [
      "/home/francisco.monteiro@av.it.pt/miniconda3/envs/rapids-23.02/lib/python3.8/site-packages/cuml/internals/api_decorators.py:190: UserWarning: To use pickling first train using float32 data to fit the estimator\n",
      "  ret = func(*args, **kwargs)\n"
     ]
    },
    {
     "name": "stdout",
     "output_type": "stream",
     "text": [
      "Elapsed time training and predicting: 0.6735 s\n",
      "Cluster 1\n",
      "Elapsed time training and predicting: 0.0039 s\n",
      "Elapsed time training and predicting: 4.0039 s\n"
     ]
    },
    {
     "name": "stderr",
     "output_type": "stream",
     "text": [
      "/home/francisco.monteiro@av.it.pt/miniconda3/envs/rapids-23.02/lib/python3.8/site-packages/cuml/internals/api_decorators.py:190: UserWarning: To use pickling first train using float32 data to fit the estimator\n",
      "  ret = func(*args, **kwargs)\n"
     ]
    },
    {
     "name": "stdout",
     "output_type": "stream",
     "text": [
      "Elapsed time training and predicting: 0.3912 s\n",
      "Cluster 2\n",
      "Elapsed time training and predicting: 0.0294 s\n",
      "Elapsed time training and predicting: 5.9810 s\n"
     ]
    },
    {
     "name": "stderr",
     "output_type": "stream",
     "text": [
      "/home/francisco.monteiro@av.it.pt/miniconda3/envs/rapids-23.02/lib/python3.8/site-packages/cuml/internals/api_decorators.py:190: UserWarning: To use pickling first train using float32 data to fit the estimator\n",
      "  ret = func(*args, **kwargs)\n"
     ]
    },
    {
     "name": "stdout",
     "output_type": "stream",
     "text": [
      "Elapsed time training and predicting: 0.8372 s\n",
      "Cluster 3\n",
      "Elapsed time training and predicting: 0.0210 s\n",
      "Elapsed time training and predicting: 5.8118 s\n"
     ]
    },
    {
     "name": "stderr",
     "output_type": "stream",
     "text": [
      "/home/francisco.monteiro@av.it.pt/miniconda3/envs/rapids-23.02/lib/python3.8/site-packages/cuml/internals/api_decorators.py:190: UserWarning: To use pickling first train using float32 data to fit the estimator\n",
      "  ret = func(*args, **kwargs)\n"
     ]
    },
    {
     "name": "stdout",
     "output_type": "stream",
     "text": [
      "Elapsed time training and predicting: 0.6710 s\n",
      "Cluster 4\n",
      "Elapsed time training and predicting: 0.0350 s\n",
      "Elapsed time training and predicting: 6.2934 s\n"
     ]
    },
    {
     "name": "stderr",
     "output_type": "stream",
     "text": [
      "/home/francisco.monteiro@av.it.pt/miniconda3/envs/rapids-23.02/lib/python3.8/site-packages/cuml/internals/api_decorators.py:190: UserWarning: To use pickling first train using float32 data to fit the estimator\n",
      "  ret = func(*args, **kwargs)\n"
     ]
    },
    {
     "name": "stdout",
     "output_type": "stream",
     "text": [
      "Elapsed time training and predicting: 1.1071 s\n",
      "Cluster 5\n",
      "Elapsed time training and predicting: 0.0101 s\n",
      "Elapsed time training and predicting: 5.2429 s\n"
     ]
    },
    {
     "name": "stderr",
     "output_type": "stream",
     "text": [
      "/home/francisco.monteiro@av.it.pt/miniconda3/envs/rapids-23.02/lib/python3.8/site-packages/cuml/internals/api_decorators.py:190: UserWarning: To use pickling first train using float32 data to fit the estimator\n",
      "  ret = func(*args, **kwargs)\n"
     ]
    },
    {
     "name": "stdout",
     "output_type": "stream",
     "text": [
      "Elapsed time training and predicting: 0.5964 s\n",
      "Cluster 6\n",
      "Elapsed time training and predicting: 0.0202 s\n",
      "Elapsed time training and predicting: 6.4185 s\n"
     ]
    },
    {
     "name": "stderr",
     "output_type": "stream",
     "text": [
      "/home/francisco.monteiro@av.it.pt/miniconda3/envs/rapids-23.02/lib/python3.8/site-packages/cuml/internals/api_decorators.py:190: UserWarning: To use pickling first train using float32 data to fit the estimator\n",
      "  ret = func(*args, **kwargs)\n"
     ]
    },
    {
     "name": "stdout",
     "output_type": "stream",
     "text": [
      "Elapsed time training and predicting: 0.8494 s\n",
      "Cluster 7\n",
      "Elapsed time training and predicting: 0.0362 s\n",
      "Elapsed time training and predicting: 6.9849 s\n"
     ]
    },
    {
     "name": "stderr",
     "output_type": "stream",
     "text": [
      "/home/francisco.monteiro@av.it.pt/miniconda3/envs/rapids-23.02/lib/python3.8/site-packages/cuml/internals/api_decorators.py:190: UserWarning: To use pickling first train using float32 data to fit the estimator\n",
      "  ret = func(*args, **kwargs)\n"
     ]
    },
    {
     "name": "stdout",
     "output_type": "stream",
     "text": [
      "Elapsed time training and predicting: 1.1784 s\n",
      "Cluster 8\n",
      "Elapsed time training and predicting: 0.0164 s\n",
      "Elapsed time training and predicting: 5.7781 s\n"
     ]
    },
    {
     "name": "stderr",
     "output_type": "stream",
     "text": [
      "/home/francisco.monteiro@av.it.pt/miniconda3/envs/rapids-23.02/lib/python3.8/site-packages/cuml/internals/api_decorators.py:190: UserWarning: To use pickling first train using float32 data to fit the estimator\n",
      "  ret = func(*args, **kwargs)\n"
     ]
    },
    {
     "name": "stdout",
     "output_type": "stream",
     "text": [
      "Elapsed time training and predicting: 0.7430 s\n",
      "Cluster 9\n",
      "Elapsed time training and predicting: 0.0070 s\n",
      "Elapsed time training and predicting: 5.0291 s\n"
     ]
    },
    {
     "name": "stderr",
     "output_type": "stream",
     "text": [
      "/home/francisco.monteiro@av.it.pt/miniconda3/envs/rapids-23.02/lib/python3.8/site-packages/cuml/internals/api_decorators.py:190: UserWarning: To use pickling first train using float32 data to fit the estimator\n",
      "  ret = func(*args, **kwargs)\n"
     ]
    },
    {
     "name": "stdout",
     "output_type": "stream",
     "text": [
      "Elapsed time training and predicting: 0.5068 s\n",
      "Cluster 10\n",
      "Elapsed time training and predicting: 0.0037 s\n",
      "Elapsed time training and predicting: 4.2663 s\n"
     ]
    },
    {
     "name": "stderr",
     "output_type": "stream",
     "text": [
      "/home/francisco.monteiro@av.it.pt/miniconda3/envs/rapids-23.02/lib/python3.8/site-packages/cuml/internals/api_decorators.py:190: UserWarning: To use pickling first train using float32 data to fit the estimator\n",
      "  ret = func(*args, **kwargs)\n"
     ]
    },
    {
     "name": "stdout",
     "output_type": "stream",
     "text": [
      "Elapsed time training and predicting: 0.4038 s\n",
      "Aggregating predictions...\n",
      "\n",
      "----------------------------\n",
      "Linear Regression\n",
      "----------------------------\n",
      "\n",
      "MSE: 0.1721\n",
      "RMSE: 0.4149\n",
      "WAPE: 29.34\n",
      "R2: 0.8428\n",
      "\n",
      "----------------------------\n",
      "XGBoost\n",
      "----------------------------\n",
      "\n",
      "MSE: 0.0619\n",
      "RMSE: 0.2489\n",
      "WAPE: 15.13\n",
      "R2: 0.9433\n",
      "\n",
      "----------------------------\n",
      "Random Forest\n",
      "----------------------------\n",
      "\n",
      "MSE: 0.0968\n",
      "RMSE: 0.3112\n",
      "WAPE: 20.17\n",
      "R2: 0.9115\n",
      "Number of Clusters: 12\n",
      "Cluster 0\n",
      "Elapsed time training and predicting: 0.0603 s\n",
      "Elapsed time training and predicting: 6.9920 s\n"
     ]
    },
    {
     "name": "stderr",
     "output_type": "stream",
     "text": [
      "/home/francisco.monteiro@av.it.pt/miniconda3/envs/rapids-23.02/lib/python3.8/site-packages/cuml/internals/api_decorators.py:190: UserWarning: To use pickling first train using float32 data to fit the estimator\n",
      "  ret = func(*args, **kwargs)\n"
     ]
    },
    {
     "name": "stdout",
     "output_type": "stream",
     "text": [
      "Elapsed time training and predicting: 1.3338 s\n",
      "Cluster 1\n",
      "Elapsed time training and predicting: 0.0038 s\n",
      "Elapsed time training and predicting: 4.3133 s\n"
     ]
    },
    {
     "name": "stderr",
     "output_type": "stream",
     "text": [
      "/home/francisco.monteiro@av.it.pt/miniconda3/envs/rapids-23.02/lib/python3.8/site-packages/cuml/internals/api_decorators.py:190: UserWarning: To use pickling first train using float32 data to fit the estimator\n",
      "  ret = func(*args, **kwargs)\n"
     ]
    },
    {
     "name": "stdout",
     "output_type": "stream",
     "text": [
      "Elapsed time training and predicting: 0.3980 s\n",
      "Cluster 2\n",
      "Elapsed time training and predicting: 0.0039 s\n",
      "Elapsed time training and predicting: 4.0207 s\n"
     ]
    },
    {
     "name": "stderr",
     "output_type": "stream",
     "text": [
      "/home/francisco.monteiro@av.it.pt/miniconda3/envs/rapids-23.02/lib/python3.8/site-packages/cuml/internals/api_decorators.py:190: UserWarning: To use pickling first train using float32 data to fit the estimator\n",
      "  ret = func(*args, **kwargs)\n"
     ]
    },
    {
     "name": "stdout",
     "output_type": "stream",
     "text": [
      "Elapsed time training and predicting: 0.3861 s\n",
      "Cluster 3\n",
      "Elapsed time training and predicting: 0.0371 s\n",
      "Elapsed time training and predicting: 6.5671 s\n"
     ]
    },
    {
     "name": "stderr",
     "output_type": "stream",
     "text": [
      "/home/francisco.monteiro@av.it.pt/miniconda3/envs/rapids-23.02/lib/python3.8/site-packages/cuml/internals/api_decorators.py:190: UserWarning: To use pickling first train using float32 data to fit the estimator\n",
      "  ret = func(*args, **kwargs)\n"
     ]
    },
    {
     "name": "stdout",
     "output_type": "stream",
     "text": [
      "Elapsed time training and predicting: 1.0367 s\n",
      "Cluster 4\n",
      "Elapsed time training and predicting: 0.0220 s\n",
      "Elapsed time training and predicting: 5.9511 s\n"
     ]
    },
    {
     "name": "stderr",
     "output_type": "stream",
     "text": [
      "/home/francisco.monteiro@av.it.pt/miniconda3/envs/rapids-23.02/lib/python3.8/site-packages/cuml/internals/api_decorators.py:190: UserWarning: To use pickling first train using float32 data to fit the estimator\n",
      "  ret = func(*args, **kwargs)\n"
     ]
    },
    {
     "name": "stdout",
     "output_type": "stream",
     "text": [
      "Elapsed time training and predicting: 0.8349 s\n",
      "Cluster 5\n",
      "Elapsed time training and predicting: 0.0071 s\n",
      "Elapsed time training and predicting: 5.1782 s\n"
     ]
    },
    {
     "name": "stderr",
     "output_type": "stream",
     "text": [
      "/home/francisco.monteiro@av.it.pt/miniconda3/envs/rapids-23.02/lib/python3.8/site-packages/cuml/internals/api_decorators.py:190: UserWarning: To use pickling first train using float32 data to fit the estimator\n",
      "  ret = func(*args, **kwargs)\n"
     ]
    },
    {
     "name": "stdout",
     "output_type": "stream",
     "text": [
      "Elapsed time training and predicting: 0.5079 s\n",
      "Cluster 6\n",
      "Elapsed time training and predicting: 0.0348 s\n",
      "Elapsed time training and predicting: 6.3096 s\n"
     ]
    },
    {
     "name": "stderr",
     "output_type": "stream",
     "text": [
      "/home/francisco.monteiro@av.it.pt/miniconda3/envs/rapids-23.02/lib/python3.8/site-packages/cuml/internals/api_decorators.py:190: UserWarning: To use pickling first train using float32 data to fit the estimator\n",
      "  ret = func(*args, **kwargs)\n"
     ]
    },
    {
     "name": "stdout",
     "output_type": "stream",
     "text": [
      "Elapsed time training and predicting: 1.1163 s\n",
      "Cluster 7\n",
      "Elapsed time training and predicting: 0.0038 s\n",
      "Elapsed time training and predicting: 4.2642 s\n"
     ]
    },
    {
     "name": "stderr",
     "output_type": "stream",
     "text": [
      "/home/francisco.monteiro@av.it.pt/miniconda3/envs/rapids-23.02/lib/python3.8/site-packages/cuml/internals/api_decorators.py:190: UserWarning: To use pickling first train using float32 data to fit the estimator\n",
      "  ret = func(*args, **kwargs)\n"
     ]
    },
    {
     "name": "stdout",
     "output_type": "stream",
     "text": [
      "Elapsed time training and predicting: 0.3978 s\n",
      "Cluster 8\n",
      "Elapsed time training and predicting: 0.0107 s\n",
      "Elapsed time training and predicting: 5.2427 s\n"
     ]
    },
    {
     "name": "stderr",
     "output_type": "stream",
     "text": [
      "/home/francisco.monteiro@av.it.pt/miniconda3/envs/rapids-23.02/lib/python3.8/site-packages/cuml/internals/api_decorators.py:190: UserWarning: To use pickling first train using float32 data to fit the estimator\n",
      "  ret = func(*args, **kwargs)\n"
     ]
    },
    {
     "name": "stdout",
     "output_type": "stream",
     "text": [
      "Elapsed time training and predicting: 0.5949 s\n",
      "Cluster 9\n",
      "Elapsed time training and predicting: 0.0138 s\n",
      "Elapsed time training and predicting: 5.6521 s\n"
     ]
    },
    {
     "name": "stderr",
     "output_type": "stream",
     "text": [
      "/home/francisco.monteiro@av.it.pt/miniconda3/envs/rapids-23.02/lib/python3.8/site-packages/cuml/internals/api_decorators.py:190: UserWarning: To use pickling first train using float32 data to fit the estimator\n",
      "  ret = func(*args, **kwargs)\n"
     ]
    },
    {
     "name": "stdout",
     "output_type": "stream",
     "text": [
      "Elapsed time training and predicting: 0.6734 s\n",
      "Cluster 10\n",
      "Elapsed time training and predicting: 0.0072 s\n",
      "Elapsed time training and predicting: 5.0299 s\n"
     ]
    },
    {
     "name": "stderr",
     "output_type": "stream",
     "text": [
      "/home/francisco.monteiro@av.it.pt/miniconda3/envs/rapids-23.02/lib/python3.8/site-packages/cuml/internals/api_decorators.py:190: UserWarning: To use pickling first train using float32 data to fit the estimator\n",
      "  ret = func(*args, **kwargs)\n"
     ]
    },
    {
     "name": "stdout",
     "output_type": "stream",
     "text": [
      "Elapsed time training and predicting: 0.5032 s\n",
      "Cluster 11\n",
      "Elapsed time training and predicting: 0.0070 s\n",
      "Elapsed time training and predicting: 5.0180 s\n"
     ]
    },
    {
     "name": "stderr",
     "output_type": "stream",
     "text": [
      "/home/francisco.monteiro@av.it.pt/miniconda3/envs/rapids-23.02/lib/python3.8/site-packages/cuml/internals/api_decorators.py:190: UserWarning: To use pickling first train using float32 data to fit the estimator\n",
      "  ret = func(*args, **kwargs)\n"
     ]
    },
    {
     "name": "stdout",
     "output_type": "stream",
     "text": [
      "Elapsed time training and predicting: 0.5061 s\n",
      "Aggregating predictions...\n",
      "\n",
      "----------------------------\n",
      "Linear Regression\n",
      "----------------------------\n",
      "\n",
      "MSE: 0.1714\n",
      "RMSE: 0.4140\n",
      "WAPE: 29.40\n",
      "R2: 0.8433\n",
      "\n",
      "----------------------------\n",
      "XGBoost\n",
      "----------------------------\n",
      "\n",
      "MSE: 0.0683\n",
      "RMSE: 0.2614\n",
      "WAPE: 15.84\n",
      "R2: 0.9375\n",
      "\n",
      "----------------------------\n",
      "Random Forest\n",
      "----------------------------\n",
      "\n",
      "MSE: 0.0978\n",
      "RMSE: 0.3127\n",
      "WAPE: 20.46\n",
      "R2: 0.9106\n",
      "Number of Clusters: 13\n",
      "Cluster 0\n",
      "Elapsed time training and predicting: 0.0116 s\n",
      "Elapsed time training and predicting: 4.2590 s\n"
     ]
    },
    {
     "name": "stderr",
     "output_type": "stream",
     "text": [
      "/home/francisco.monteiro@av.it.pt/miniconda3/envs/rapids-23.02/lib/python3.8/site-packages/cuml/internals/api_decorators.py:190: UserWarning: To use pickling first train using float32 data to fit the estimator\n",
      "  ret = func(*args, **kwargs)\n"
     ]
    },
    {
     "name": "stdout",
     "output_type": "stream",
     "text": [
      "Elapsed time training and predicting: 0.3977 s\n",
      "Cluster 1\n",
      "Elapsed time training and predicting: 0.0143 s\n",
      "Elapsed time training and predicting: 5.7303 s\n"
     ]
    },
    {
     "name": "stderr",
     "output_type": "stream",
     "text": [
      "/home/francisco.monteiro@av.it.pt/miniconda3/envs/rapids-23.02/lib/python3.8/site-packages/cuml/internals/api_decorators.py:190: UserWarning: To use pickling first train using float32 data to fit the estimator\n",
      "  ret = func(*args, **kwargs)\n"
     ]
    },
    {
     "name": "stdout",
     "output_type": "stream",
     "text": [
      "Elapsed time training and predicting: 0.7061 s\n",
      "Cluster 2\n",
      "Elapsed time training and predicting: 0.0217 s\n",
      "Elapsed time training and predicting: 5.9874 s\n"
     ]
    },
    {
     "name": "stderr",
     "output_type": "stream",
     "text": [
      "/home/francisco.monteiro@av.it.pt/miniconda3/envs/rapids-23.02/lib/python3.8/site-packages/cuml/internals/api_decorators.py:190: UserWarning: To use pickling first train using float32 data to fit the estimator\n",
      "  ret = func(*args, **kwargs)\n"
     ]
    },
    {
     "name": "stdout",
     "output_type": "stream",
     "text": [
      "Elapsed time training and predicting: 0.8313 s\n",
      "Cluster 3\n",
      "Elapsed time training and predicting: 0.0037 s\n",
      "Elapsed time training and predicting: 4.0147 s\n"
     ]
    },
    {
     "name": "stderr",
     "output_type": "stream",
     "text": [
      "/home/francisco.monteiro@av.it.pt/miniconda3/envs/rapids-23.02/lib/python3.8/site-packages/cuml/internals/api_decorators.py:190: UserWarning: To use pickling first train using float32 data to fit the estimator\n",
      "  ret = func(*args, **kwargs)\n"
     ]
    },
    {
     "name": "stdout",
     "output_type": "stream",
     "text": [
      "Elapsed time training and predicting: 0.3994 s\n",
      "Cluster 4\n",
      "Elapsed time training and predicting: 0.0221 s\n",
      "Elapsed time training and predicting: 6.4327 s\n"
     ]
    },
    {
     "name": "stderr",
     "output_type": "stream",
     "text": [
      "/home/francisco.monteiro@av.it.pt/miniconda3/envs/rapids-23.02/lib/python3.8/site-packages/cuml/internals/api_decorators.py:190: UserWarning: To use pickling first train using float32 data to fit the estimator\n",
      "  ret = func(*args, **kwargs)\n"
     ]
    },
    {
     "name": "stdout",
     "output_type": "stream",
     "text": [
      "Elapsed time training and predicting: 0.8332 s\n",
      "Cluster 5\n",
      "Elapsed time training and predicting: 0.0346 s\n",
      "Elapsed time training and predicting: 6.3073 s\n"
     ]
    },
    {
     "name": "stderr",
     "output_type": "stream",
     "text": [
      "/home/francisco.monteiro@av.it.pt/miniconda3/envs/rapids-23.02/lib/python3.8/site-packages/cuml/internals/api_decorators.py:190: UserWarning: To use pickling first train using float32 data to fit the estimator\n",
      "  ret = func(*args, **kwargs)\n"
     ]
    },
    {
     "name": "stdout",
     "output_type": "stream",
     "text": [
      "Elapsed time training and predicting: 1.1193 s\n",
      "Cluster 6\n",
      "Elapsed time training and predicting: 0.0074 s\n",
      "Elapsed time training and predicting: 5.1827 s\n"
     ]
    },
    {
     "name": "stderr",
     "output_type": "stream",
     "text": [
      "/home/francisco.monteiro@av.it.pt/miniconda3/envs/rapids-23.02/lib/python3.8/site-packages/cuml/internals/api_decorators.py:190: UserWarning: To use pickling first train using float32 data to fit the estimator\n",
      "  ret = func(*args, **kwargs)\n"
     ]
    },
    {
     "name": "stdout",
     "output_type": "stream",
     "text": [
      "Elapsed time training and predicting: 0.5093 s\n",
      "Cluster 7\n",
      "Elapsed time training and predicting: 0.0040 s\n",
      "Elapsed time training and predicting: 4.2213 s\n"
     ]
    },
    {
     "name": "stderr",
     "output_type": "stream",
     "text": [
      "/home/francisco.monteiro@av.it.pt/miniconda3/envs/rapids-23.02/lib/python3.8/site-packages/cuml/internals/api_decorators.py:190: UserWarning: To use pickling first train using float32 data to fit the estimator\n",
      "  ret = func(*args, **kwargs)\n"
     ]
    },
    {
     "name": "stdout",
     "output_type": "stream",
     "text": [
      "Elapsed time training and predicting: 0.3981 s\n",
      "Cluster 8\n",
      "Elapsed time training and predicting: 0.0177 s\n",
      "Elapsed time training and predicting: 5.7803 s\n"
     ]
    },
    {
     "name": "stderr",
     "output_type": "stream",
     "text": [
      "/home/francisco.monteiro@av.it.pt/miniconda3/envs/rapids-23.02/lib/python3.8/site-packages/cuml/internals/api_decorators.py:190: UserWarning: To use pickling first train using float32 data to fit the estimator\n",
      "  ret = func(*args, **kwargs)\n"
     ]
    },
    {
     "name": "stdout",
     "output_type": "stream",
     "text": [
      "Elapsed time training and predicting: 0.7310 s\n",
      "Cluster 9\n",
      "Elapsed time training and predicting: 0.0394 s\n",
      "Elapsed time training and predicting: 6.9921 s\n"
     ]
    },
    {
     "name": "stderr",
     "output_type": "stream",
     "text": [
      "/home/francisco.monteiro@av.it.pt/miniconda3/envs/rapids-23.02/lib/python3.8/site-packages/cuml/internals/api_decorators.py:190: UserWarning: To use pickling first train using float32 data to fit the estimator\n",
      "  ret = func(*args, **kwargs)\n"
     ]
    },
    {
     "name": "stdout",
     "output_type": "stream",
     "text": [
      "Elapsed time training and predicting: 1.1769 s\n",
      "Cluster 10\n",
      "Elapsed time training and predicting: 0.0073 s\n",
      "Elapsed time training and predicting: 4.8722 s\n"
     ]
    },
    {
     "name": "stderr",
     "output_type": "stream",
     "text": [
      "/home/francisco.monteiro@av.it.pt/miniconda3/envs/rapids-23.02/lib/python3.8/site-packages/cuml/internals/api_decorators.py:190: UserWarning: To use pickling first train using float32 data to fit the estimator\n",
      "  ret = func(*args, **kwargs)\n"
     ]
    },
    {
     "name": "stdout",
     "output_type": "stream",
     "text": [
      "Elapsed time training and predicting: 0.4942 s\n",
      "Cluster 11\n",
      "Elapsed time training and predicting: 0.0074 s\n",
      "Elapsed time training and predicting: 5.0344 s\n"
     ]
    },
    {
     "name": "stderr",
     "output_type": "stream",
     "text": [
      "/home/francisco.monteiro@av.it.pt/miniconda3/envs/rapids-23.02/lib/python3.8/site-packages/cuml/internals/api_decorators.py:190: UserWarning: To use pickling first train using float32 data to fit the estimator\n",
      "  ret = func(*args, **kwargs)\n"
     ]
    },
    {
     "name": "stdout",
     "output_type": "stream",
     "text": [
      "Elapsed time training and predicting: 0.5077 s\n",
      "Cluster 12\n",
      "Elapsed time training and predicting: 0.0074 s\n",
      "Elapsed time training and predicting: 5.0319 s\n"
     ]
    },
    {
     "name": "stderr",
     "output_type": "stream",
     "text": [
      "/home/francisco.monteiro@av.it.pt/miniconda3/envs/rapids-23.02/lib/python3.8/site-packages/cuml/internals/api_decorators.py:190: UserWarning: To use pickling first train using float32 data to fit the estimator\n",
      "  ret = func(*args, **kwargs)\n"
     ]
    },
    {
     "name": "stdout",
     "output_type": "stream",
     "text": [
      "Elapsed time training and predicting: 0.5123 s\n",
      "Aggregating predictions...\n",
      "\n",
      "----------------------------\n",
      "Linear Regression\n",
      "----------------------------\n",
      "\n",
      "MSE: 0.1695\n",
      "RMSE: 0.4117\n",
      "WAPE: 29.29\n",
      "R2: 0.8444\n",
      "\n",
      "----------------------------\n",
      "XGBoost\n",
      "----------------------------\n",
      "\n",
      "MSE: 0.0624\n",
      "RMSE: 0.2498\n",
      "WAPE: 15.08\n",
      "R2: 0.9427\n",
      "\n",
      "----------------------------\n",
      "Random Forest\n",
      "----------------------------\n",
      "\n",
      "MSE: 0.0949\n",
      "RMSE: 0.3081\n",
      "WAPE: 20.05\n",
      "R2: 0.9128\n",
      "Number of Clusters: 14\n",
      "Cluster 0\n",
      "Elapsed time training and predicting: 0.0073 s\n",
      "Elapsed time training and predicting: 5.1828 s\n"
     ]
    },
    {
     "name": "stderr",
     "output_type": "stream",
     "text": [
      "/home/francisco.monteiro@av.it.pt/miniconda3/envs/rapids-23.02/lib/python3.8/site-packages/cuml/internals/api_decorators.py:190: UserWarning: To use pickling first train using float32 data to fit the estimator\n",
      "  ret = func(*args, **kwargs)\n"
     ]
    },
    {
     "name": "stdout",
     "output_type": "stream",
     "text": [
      "Elapsed time training and predicting: 0.5040 s\n",
      "Cluster 1\n",
      "Elapsed time training and predicting: 0.0381 s\n",
      "Elapsed time training and predicting: 6.9902 s\n"
     ]
    },
    {
     "name": "stderr",
     "output_type": "stream",
     "text": [
      "/home/francisco.monteiro@av.it.pt/miniconda3/envs/rapids-23.02/lib/python3.8/site-packages/cuml/internals/api_decorators.py:190: UserWarning: To use pickling first train using float32 data to fit the estimator\n",
      "  ret = func(*args, **kwargs)\n"
     ]
    },
    {
     "name": "stdout",
     "output_type": "stream",
     "text": [
      "Elapsed time training and predicting: 1.1693 s\n",
      "Cluster 2\n",
      "Elapsed time training and predicting: 0.0107 s\n",
      "Elapsed time training and predicting: 5.3836 s\n"
     ]
    },
    {
     "name": "stderr",
     "output_type": "stream",
     "text": [
      "/home/francisco.monteiro@av.it.pt/miniconda3/envs/rapids-23.02/lib/python3.8/site-packages/cuml/internals/api_decorators.py:190: UserWarning: To use pickling first train using float32 data to fit the estimator\n",
      "  ret = func(*args, **kwargs)\n"
     ]
    },
    {
     "name": "stdout",
     "output_type": "stream",
     "text": [
      "Elapsed time training and predicting: 0.5796 s\n",
      "Cluster 3\n",
      "Elapsed time training and predicting: 0.0039 s\n",
      "Elapsed time training and predicting: 4.0148 s\n"
     ]
    },
    {
     "name": "stderr",
     "output_type": "stream",
     "text": [
      "/home/francisco.monteiro@av.it.pt/miniconda3/envs/rapids-23.02/lib/python3.8/site-packages/cuml/internals/api_decorators.py:190: UserWarning: To use pickling first train using float32 data to fit the estimator\n",
      "  ret = func(*args, **kwargs)\n"
     ]
    },
    {
     "name": "stdout",
     "output_type": "stream",
     "text": [
      "Elapsed time training and predicting: 0.4085 s\n",
      "Cluster 4\n",
      "Elapsed time training and predicting: 0.0112 s\n",
      "Elapsed time training and predicting: 5.2306 s\n"
     ]
    },
    {
     "name": "stderr",
     "output_type": "stream",
     "text": [
      "/home/francisco.monteiro@av.it.pt/miniconda3/envs/rapids-23.02/lib/python3.8/site-packages/cuml/internals/api_decorators.py:190: UserWarning: To use pickling first train using float32 data to fit the estimator\n",
      "  ret = func(*args, **kwargs)\n"
     ]
    },
    {
     "name": "stdout",
     "output_type": "stream",
     "text": [
      "Elapsed time training and predicting: 0.5937 s\n",
      "Cluster 5\n",
      "Elapsed time training and predicting: 0.0187 s\n",
      "Elapsed time training and predicting: 5.8607 s\n"
     ]
    },
    {
     "name": "stderr",
     "output_type": "stream",
     "text": [
      "/home/francisco.monteiro@av.it.pt/miniconda3/envs/rapids-23.02/lib/python3.8/site-packages/cuml/internals/api_decorators.py:190: UserWarning: To use pickling first train using float32 data to fit the estimator\n",
      "  ret = func(*args, **kwargs)\n"
     ]
    },
    {
     "name": "stdout",
     "output_type": "stream",
     "text": [
      "Elapsed time training and predicting: 0.7462 s\n",
      "Cluster 6\n",
      "Elapsed time training and predicting: 0.0201 s\n",
      "Elapsed time training and predicting: 6.4330 s\n"
     ]
    },
    {
     "name": "stderr",
     "output_type": "stream",
     "text": [
      "/home/francisco.monteiro@av.it.pt/miniconda3/envs/rapids-23.02/lib/python3.8/site-packages/cuml/internals/api_decorators.py:190: UserWarning: To use pickling first train using float32 data to fit the estimator\n",
      "  ret = func(*args, **kwargs)\n"
     ]
    },
    {
     "name": "stdout",
     "output_type": "stream",
     "text": [
      "Elapsed time training and predicting: 0.8595 s\n",
      "Cluster 7\n",
      "Elapsed time training and predicting: 0.0104 s\n",
      "Elapsed time training and predicting: 5.2732 s\n"
     ]
    },
    {
     "name": "stderr",
     "output_type": "stream",
     "text": [
      "/home/francisco.monteiro@av.it.pt/miniconda3/envs/rapids-23.02/lib/python3.8/site-packages/cuml/internals/api_decorators.py:190: UserWarning: To use pickling first train using float32 data to fit the estimator\n",
      "  ret = func(*args, **kwargs)\n"
     ]
    },
    {
     "name": "stdout",
     "output_type": "stream",
     "text": [
      "Elapsed time training and predicting: 0.5945 s\n",
      "Cluster 8\n",
      "Elapsed time training and predicting: 0.0110 s\n",
      "Elapsed time training and predicting: 5.1763 s\n"
     ]
    },
    {
     "name": "stderr",
     "output_type": "stream",
     "text": [
      "/home/francisco.monteiro@av.it.pt/miniconda3/envs/rapids-23.02/lib/python3.8/site-packages/cuml/internals/api_decorators.py:190: UserWarning: To use pickling first train using float32 data to fit the estimator\n",
      "  ret = func(*args, **kwargs)\n"
     ]
    },
    {
     "name": "stdout",
     "output_type": "stream",
     "text": [
      "Elapsed time training and predicting: 0.5812 s\n",
      "Cluster 9\n",
      "Elapsed time training and predicting: 0.0073 s\n",
      "Elapsed time training and predicting: 5.0369 s\n"
     ]
    },
    {
     "name": "stderr",
     "output_type": "stream",
     "text": [
      "/home/francisco.monteiro@av.it.pt/miniconda3/envs/rapids-23.02/lib/python3.8/site-packages/cuml/internals/api_decorators.py:190: UserWarning: To use pickling first train using float32 data to fit the estimator\n",
      "  ret = func(*args, **kwargs)\n"
     ]
    },
    {
     "name": "stdout",
     "output_type": "stream",
     "text": [
      "Elapsed time training and predicting: 0.5067 s\n",
      "Cluster 10\n",
      "Elapsed time training and predicting: 0.0073 s\n",
      "Elapsed time training and predicting: 5.0617 s\n"
     ]
    },
    {
     "name": "stderr",
     "output_type": "stream",
     "text": [
      "/home/francisco.monteiro@av.it.pt/miniconda3/envs/rapids-23.02/lib/python3.8/site-packages/cuml/internals/api_decorators.py:190: UserWarning: To use pickling first train using float32 data to fit the estimator\n",
      "  ret = func(*args, **kwargs)\n"
     ]
    },
    {
     "name": "stdout",
     "output_type": "stream",
     "text": [
      "Elapsed time training and predicting: 0.5037 s\n",
      "Cluster 11\n",
      "Elapsed time training and predicting: 0.0144 s\n",
      "Elapsed time training and predicting: 5.7370 s\n"
     ]
    },
    {
     "name": "stderr",
     "output_type": "stream",
     "text": [
      "/home/francisco.monteiro@av.it.pt/miniconda3/envs/rapids-23.02/lib/python3.8/site-packages/cuml/internals/api_decorators.py:190: UserWarning: To use pickling first train using float32 data to fit the estimator\n",
      "  ret = func(*args, **kwargs)\n"
     ]
    },
    {
     "name": "stdout",
     "output_type": "stream",
     "text": [
      "Elapsed time training and predicting: 0.6756 s\n",
      "Cluster 12\n",
      "Elapsed time training and predicting: 0.0216 s\n",
      "Elapsed time training and predicting: 6.0086 s\n"
     ]
    },
    {
     "name": "stderr",
     "output_type": "stream",
     "text": [
      "/home/francisco.monteiro@av.it.pt/miniconda3/envs/rapids-23.02/lib/python3.8/site-packages/cuml/internals/api_decorators.py:190: UserWarning: To use pickling first train using float32 data to fit the estimator\n",
      "  ret = func(*args, **kwargs)\n"
     ]
    },
    {
     "name": "stdout",
     "output_type": "stream",
     "text": [
      "Elapsed time training and predicting: 0.8535 s\n",
      "Cluster 13\n",
      "Elapsed time training and predicting: 0.0037 s\n",
      "Elapsed time training and predicting: 4.2810 s\n"
     ]
    },
    {
     "name": "stderr",
     "output_type": "stream",
     "text": [
      "/home/francisco.monteiro@av.it.pt/miniconda3/envs/rapids-23.02/lib/python3.8/site-packages/cuml/internals/api_decorators.py:190: UserWarning: To use pickling first train using float32 data to fit the estimator\n",
      "  ret = func(*args, **kwargs)\n"
     ]
    },
    {
     "name": "stdout",
     "output_type": "stream",
     "text": [
      "Elapsed time training and predicting: 0.4027 s\n",
      "Aggregating predictions...\n",
      "\n",
      "----------------------------\n",
      "Linear Regression\n",
      "----------------------------\n",
      "\n",
      "MSE: 0.1702\n",
      "RMSE: 0.4126\n",
      "WAPE: 29.27\n",
      "R2: 0.8441\n",
      "\n",
      "----------------------------\n",
      "XGBoost\n",
      "----------------------------\n",
      "\n",
      "MSE: 0.0633\n",
      "RMSE: 0.2516\n",
      "WAPE: 15.03\n",
      "R2: 0.9420\n",
      "\n",
      "----------------------------\n",
      "Random Forest\n",
      "----------------------------\n",
      "\n",
      "MSE: 0.0943\n",
      "RMSE: 0.3072\n",
      "WAPE: 19.88\n",
      "R2: 0.9136\n",
      "Number of Clusters: 15\n",
      "Cluster 0\n",
      "Elapsed time training and predicting: 0.0180 s\n",
      "Elapsed time training and predicting: 5.7733 s\n"
     ]
    },
    {
     "name": "stderr",
     "output_type": "stream",
     "text": [
      "/home/francisco.monteiro@av.it.pt/miniconda3/envs/rapids-23.02/lib/python3.8/site-packages/cuml/internals/api_decorators.py:190: UserWarning: To use pickling first train using float32 data to fit the estimator\n",
      "  ret = func(*args, **kwargs)\n"
     ]
    },
    {
     "name": "stdout",
     "output_type": "stream",
     "text": [
      "Elapsed time training and predicting: 0.7455 s\n",
      "Cluster 1\n",
      "Elapsed time training and predicting: 0.0038 s\n",
      "Elapsed time training and predicting: 3.9948 s\n"
     ]
    },
    {
     "name": "stderr",
     "output_type": "stream",
     "text": [
      "/home/francisco.monteiro@av.it.pt/miniconda3/envs/rapids-23.02/lib/python3.8/site-packages/cuml/internals/api_decorators.py:190: UserWarning: To use pickling first train using float32 data to fit the estimator\n",
      "  ret = func(*args, **kwargs)\n"
     ]
    },
    {
     "name": "stdout",
     "output_type": "stream",
     "text": [
      "Elapsed time training and predicting: 0.3920 s\n",
      "Cluster 2\n",
      "Elapsed time training and predicting: 0.0174 s\n",
      "Elapsed time training and predicting: 5.8755 s\n"
     ]
    },
    {
     "name": "stderr",
     "output_type": "stream",
     "text": [
      "/home/francisco.monteiro@av.it.pt/miniconda3/envs/rapids-23.02/lib/python3.8/site-packages/cuml/internals/api_decorators.py:190: UserWarning: To use pickling first train using float32 data to fit the estimator\n",
      "  ret = func(*args, **kwargs)\n"
     ]
    },
    {
     "name": "stdout",
     "output_type": "stream",
     "text": [
      "Elapsed time training and predicting: 0.7439 s\n",
      "Cluster 3\n",
      "Elapsed time training and predicting: 0.0425 s\n",
      "Elapsed time training and predicting: 6.9821 s\n"
     ]
    },
    {
     "name": "stderr",
     "output_type": "stream",
     "text": [
      "/home/francisco.monteiro@av.it.pt/miniconda3/envs/rapids-23.02/lib/python3.8/site-packages/cuml/internals/api_decorators.py:190: UserWarning: To use pickling first train using float32 data to fit the estimator\n",
      "  ret = func(*args, **kwargs)\n"
     ]
    },
    {
     "name": "stdout",
     "output_type": "stream",
     "text": [
      "Elapsed time training and predicting: 1.2901 s\n",
      "Cluster 4\n",
      "Elapsed time training and predicting: 0.0214 s\n",
      "Elapsed time training and predicting: 6.4151 s\n"
     ]
    },
    {
     "name": "stderr",
     "output_type": "stream",
     "text": [
      "/home/francisco.monteiro@av.it.pt/miniconda3/envs/rapids-23.02/lib/python3.8/site-packages/cuml/internals/api_decorators.py:190: UserWarning: To use pickling first train using float32 data to fit the estimator\n",
      "  ret = func(*args, **kwargs)\n"
     ]
    },
    {
     "name": "stdout",
     "output_type": "stream",
     "text": [
      "Elapsed time training and predicting: 0.8514 s\n",
      "Cluster 5\n",
      "Elapsed time training and predicting: 0.0070 s\n",
      "Elapsed time training and predicting: 5.1611 s\n"
     ]
    },
    {
     "name": "stderr",
     "output_type": "stream",
     "text": [
      "/home/francisco.monteiro@av.it.pt/miniconda3/envs/rapids-23.02/lib/python3.8/site-packages/cuml/internals/api_decorators.py:190: UserWarning: To use pickling first train using float32 data to fit the estimator\n",
      "  ret = func(*args, **kwargs)\n"
     ]
    },
    {
     "name": "stdout",
     "output_type": "stream",
     "text": [
      "Elapsed time training and predicting: 0.5063 s\n",
      "Cluster 6\n",
      "Elapsed time training and predicting: 0.0073 s\n",
      "Elapsed time training and predicting: 4.8418 s\n"
     ]
    },
    {
     "name": "stderr",
     "output_type": "stream",
     "text": [
      "/home/francisco.monteiro@av.it.pt/miniconda3/envs/rapids-23.02/lib/python3.8/site-packages/cuml/internals/api_decorators.py:190: UserWarning: To use pickling first train using float32 data to fit the estimator\n",
      "  ret = func(*args, **kwargs)\n"
     ]
    },
    {
     "name": "stdout",
     "output_type": "stream",
     "text": [
      "Elapsed time training and predicting: 0.4918 s\n",
      "Cluster 7\n",
      "Elapsed time training and predicting: 0.0038 s\n",
      "Elapsed time training and predicting: 4.2635 s\n"
     ]
    },
    {
     "name": "stderr",
     "output_type": "stream",
     "text": [
      "/home/francisco.monteiro@av.it.pt/miniconda3/envs/rapids-23.02/lib/python3.8/site-packages/cuml/internals/api_decorators.py:190: UserWarning: To use pickling first train using float32 data to fit the estimator\n",
      "  ret = func(*args, **kwargs)\n"
     ]
    },
    {
     "name": "stdout",
     "output_type": "stream",
     "text": [
      "Elapsed time training and predicting: 0.3965 s\n",
      "Cluster 8\n",
      "Elapsed time training and predicting: 0.0150 s\n",
      "Elapsed time training and predicting: 5.0183 s\n"
     ]
    },
    {
     "name": "stderr",
     "output_type": "stream",
     "text": [
      "/home/francisco.monteiro@av.it.pt/miniconda3/envs/rapids-23.02/lib/python3.8/site-packages/cuml/internals/api_decorators.py:190: UserWarning: To use pickling first train using float32 data to fit the estimator\n",
      "  ret = func(*args, **kwargs)\n"
     ]
    },
    {
     "name": "stdout",
     "output_type": "stream",
     "text": [
      "Elapsed time training and predicting: 0.5146 s\n",
      "Cluster 9\n",
      "Elapsed time training and predicting: 0.0139 s\n",
      "Elapsed time training and predicting: 5.7318 s\n"
     ]
    },
    {
     "name": "stderr",
     "output_type": "stream",
     "text": [
      "/home/francisco.monteiro@av.it.pt/miniconda3/envs/rapids-23.02/lib/python3.8/site-packages/cuml/internals/api_decorators.py:190: UserWarning: To use pickling first train using float32 data to fit the estimator\n",
      "  ret = func(*args, **kwargs)\n"
     ]
    },
    {
     "name": "stdout",
     "output_type": "stream",
     "text": [
      "Elapsed time training and predicting: 0.6817 s\n",
      "Cluster 10\n",
      "Elapsed time training and predicting: 0.0164 s\n",
      "Elapsed time training and predicting: 5.8867 s\n"
     ]
    },
    {
     "name": "stderr",
     "output_type": "stream",
     "text": [
      "/home/francisco.monteiro@av.it.pt/miniconda3/envs/rapids-23.02/lib/python3.8/site-packages/cuml/internals/api_decorators.py:190: UserWarning: To use pickling first train using float32 data to fit the estimator\n",
      "  ret = func(*args, **kwargs)\n"
     ]
    },
    {
     "name": "stdout",
     "output_type": "stream",
     "text": [
      "Elapsed time training and predicting: 0.7457 s\n",
      "Cluster 11\n",
      "Elapsed time training and predicting: 0.0038 s\n",
      "Elapsed time training and predicting: 4.1979 s\n"
     ]
    },
    {
     "name": "stderr",
     "output_type": "stream",
     "text": [
      "/home/francisco.monteiro@av.it.pt/miniconda3/envs/rapids-23.02/lib/python3.8/site-packages/cuml/internals/api_decorators.py:190: UserWarning: To use pickling first train using float32 data to fit the estimator\n",
      "  ret = func(*args, **kwargs)\n"
     ]
    },
    {
     "name": "stdout",
     "output_type": "stream",
     "text": [
      "Elapsed time training and predicting: 0.3961 s\n",
      "Cluster 12\n",
      "Elapsed time training and predicting: 0.0071 s\n",
      "Elapsed time training and predicting: 5.0287 s\n"
     ]
    },
    {
     "name": "stderr",
     "output_type": "stream",
     "text": [
      "/home/francisco.monteiro@av.it.pt/miniconda3/envs/rapids-23.02/lib/python3.8/site-packages/cuml/internals/api_decorators.py:190: UserWarning: To use pickling first train using float32 data to fit the estimator\n",
      "  ret = func(*args, **kwargs)\n"
     ]
    },
    {
     "name": "stdout",
     "output_type": "stream",
     "text": [
      "Elapsed time training and predicting: 0.5038 s\n",
      "Cluster 13\n",
      "Elapsed time training and predicting: 0.0185 s\n",
      "Elapsed time training and predicting: 5.2434 s\n"
     ]
    },
    {
     "name": "stderr",
     "output_type": "stream",
     "text": [
      "/home/francisco.monteiro@av.it.pt/miniconda3/envs/rapids-23.02/lib/python3.8/site-packages/cuml/internals/api_decorators.py:190: UserWarning: To use pickling first train using float32 data to fit the estimator\n",
      "  ret = func(*args, **kwargs)\n"
     ]
    },
    {
     "name": "stdout",
     "output_type": "stream",
     "text": [
      "Elapsed time training and predicting: 0.5924 s\n",
      "Cluster 14\n",
      "Elapsed time training and predicting: 0.0118 s\n",
      "Elapsed time training and predicting: 4.2981 s\n"
     ]
    },
    {
     "name": "stderr",
     "output_type": "stream",
     "text": [
      "/home/francisco.monteiro@av.it.pt/miniconda3/envs/rapids-23.02/lib/python3.8/site-packages/cuml/internals/api_decorators.py:190: UserWarning: To use pickling first train using float32 data to fit the estimator\n",
      "  ret = func(*args, **kwargs)\n"
     ]
    },
    {
     "name": "stdout",
     "output_type": "stream",
     "text": [
      "Elapsed time training and predicting: 0.4166 s\n",
      "Aggregating predictions...\n",
      "\n",
      "----------------------------\n",
      "Linear Regression\n",
      "----------------------------\n",
      "\n",
      "MSE: 0.1700\n",
      "RMSE: 0.4123\n",
      "WAPE: 29.23\n",
      "R2: 0.8441\n",
      "\n",
      "----------------------------\n",
      "XGBoost\n",
      "----------------------------\n",
      "\n",
      "MSE: 0.0661\n",
      "RMSE: 0.2571\n",
      "WAPE: 15.26\n",
      "R2: 0.9394\n",
      "\n",
      "----------------------------\n",
      "Random Forest\n",
      "----------------------------\n",
      "\n",
      "MSE: 0.0958\n",
      "RMSE: 0.3095\n",
      "WAPE: 19.99\n",
      "R2: 0.9121\n",
      "Number of Clusters: 16\n",
      "Cluster 0\n",
      "Elapsed time training and predicting: 0.0106 s\n",
      "Elapsed time training and predicting: 5.2082 s\n"
     ]
    },
    {
     "name": "stderr",
     "output_type": "stream",
     "text": [
      "/home/francisco.monteiro@av.it.pt/miniconda3/envs/rapids-23.02/lib/python3.8/site-packages/cuml/internals/api_decorators.py:190: UserWarning: To use pickling first train using float32 data to fit the estimator\n",
      "  ret = func(*args, **kwargs)\n"
     ]
    },
    {
     "name": "stdout",
     "output_type": "stream",
     "text": [
      "Elapsed time training and predicting: 0.5905 s\n",
      "Cluster 1\n",
      "Elapsed time training and predicting: 0.0176 s\n",
      "Elapsed time training and predicting: 5.7459 s\n"
     ]
    },
    {
     "name": "stderr",
     "output_type": "stream",
     "text": [
      "/home/francisco.monteiro@av.it.pt/miniconda3/envs/rapids-23.02/lib/python3.8/site-packages/cuml/internals/api_decorators.py:190: UserWarning: To use pickling first train using float32 data to fit the estimator\n",
      "  ret = func(*args, **kwargs)\n"
     ]
    },
    {
     "name": "stdout",
     "output_type": "stream",
     "text": [
      "Elapsed time training and predicting: 0.7364 s\n",
      "Cluster 2\n",
      "Elapsed time training and predicting: 0.0039 s\n",
      "Elapsed time training and predicting: 4.0093 s\n"
     ]
    },
    {
     "name": "stderr",
     "output_type": "stream",
     "text": [
      "/home/francisco.monteiro@av.it.pt/miniconda3/envs/rapids-23.02/lib/python3.8/site-packages/cuml/internals/api_decorators.py:190: UserWarning: To use pickling first train using float32 data to fit the estimator\n",
      "  ret = func(*args, **kwargs)\n"
     ]
    },
    {
     "name": "stdout",
     "output_type": "stream",
     "text": [
      "Elapsed time training and predicting: 0.3914 s\n",
      "Cluster 3\n",
      "Elapsed time training and predicting: 0.0434 s\n",
      "Elapsed time training and predicting: 6.9925 s\n"
     ]
    },
    {
     "name": "stderr",
     "output_type": "stream",
     "text": [
      "/home/francisco.monteiro@av.it.pt/miniconda3/envs/rapids-23.02/lib/python3.8/site-packages/cuml/internals/api_decorators.py:190: UserWarning: To use pickling first train using float32 data to fit the estimator\n",
      "  ret = func(*args, **kwargs)\n"
     ]
    },
    {
     "name": "stdout",
     "output_type": "stream",
     "text": [
      "Elapsed time training and predicting: 1.1751 s\n",
      "Cluster 4\n",
      "Elapsed time training and predicting: 0.0168 s\n",
      "Elapsed time training and predicting: 5.8942 s\n"
     ]
    },
    {
     "name": "stderr",
     "output_type": "stream",
     "text": [
      "/home/francisco.monteiro@av.it.pt/miniconda3/envs/rapids-23.02/lib/python3.8/site-packages/cuml/internals/api_decorators.py:190: UserWarning: To use pickling first train using float32 data to fit the estimator\n",
      "  ret = func(*args, **kwargs)\n"
     ]
    },
    {
     "name": "stdout",
     "output_type": "stream",
     "text": [
      "Elapsed time training and predicting: 0.7553 s\n",
      "Cluster 5\n",
      "Elapsed time training and predicting: 0.0106 s\n",
      "Elapsed time training and predicting: 5.3147 s\n"
     ]
    },
    {
     "name": "stderr",
     "output_type": "stream",
     "text": [
      "/home/francisco.monteiro@av.it.pt/miniconda3/envs/rapids-23.02/lib/python3.8/site-packages/cuml/internals/api_decorators.py:190: UserWarning: To use pickling first train using float32 data to fit the estimator\n",
      "  ret = func(*args, **kwargs)\n"
     ]
    },
    {
     "name": "stdout",
     "output_type": "stream",
     "text": [
      "Elapsed time training and predicting: 0.5885 s\n",
      "Cluster 6\n",
      "Elapsed time training and predicting: 0.0069 s\n",
      "Elapsed time training and predicting: 5.1690 s\n"
     ]
    },
    {
     "name": "stderr",
     "output_type": "stream",
     "text": [
      "/home/francisco.monteiro@av.it.pt/miniconda3/envs/rapids-23.02/lib/python3.8/site-packages/cuml/internals/api_decorators.py:190: UserWarning: To use pickling first train using float32 data to fit the estimator\n",
      "  ret = func(*args, **kwargs)\n"
     ]
    },
    {
     "name": "stdout",
     "output_type": "stream",
     "text": [
      "Elapsed time training and predicting: 0.5070 s\n",
      "Cluster 7\n",
      "Elapsed time training and predicting: 0.0038 s\n",
      "Elapsed time training and predicting: 4.2464 s\n"
     ]
    },
    {
     "name": "stderr",
     "output_type": "stream",
     "text": [
      "/home/francisco.monteiro@av.it.pt/miniconda3/envs/rapids-23.02/lib/python3.8/site-packages/cuml/internals/api_decorators.py:190: UserWarning: To use pickling first train using float32 data to fit the estimator\n",
      "  ret = func(*args, **kwargs)\n"
     ]
    },
    {
     "name": "stdout",
     "output_type": "stream",
     "text": [
      "Elapsed time training and predicting: 0.3944 s\n",
      "Cluster 8\n",
      "Elapsed time training and predicting: 0.0072 s\n",
      "Elapsed time training and predicting: 5.0260 s\n"
     ]
    },
    {
     "name": "stderr",
     "output_type": "stream",
     "text": [
      "/home/francisco.monteiro@av.it.pt/miniconda3/envs/rapids-23.02/lib/python3.8/site-packages/cuml/internals/api_decorators.py:190: UserWarning: To use pickling first train using float32 data to fit the estimator\n",
      "  ret = func(*args, **kwargs)\n"
     ]
    },
    {
     "name": "stdout",
     "output_type": "stream",
     "text": [
      "Elapsed time training and predicting: 0.5046 s\n",
      "Cluster 9\n",
      "Elapsed time training and predicting: 0.0142 s\n",
      "Elapsed time training and predicting: 5.7342 s\n"
     ]
    },
    {
     "name": "stderr",
     "output_type": "stream",
     "text": [
      "/home/francisco.monteiro@av.it.pt/miniconda3/envs/rapids-23.02/lib/python3.8/site-packages/cuml/internals/api_decorators.py:190: UserWarning: To use pickling first train using float32 data to fit the estimator\n",
      "  ret = func(*args, **kwargs)\n"
     ]
    },
    {
     "name": "stdout",
     "output_type": "stream",
     "text": [
      "Elapsed time training and predicting: 0.6815 s\n",
      "Cluster 10\n",
      "Elapsed time training and predicting: 0.0072 s\n",
      "Elapsed time training and predicting: 5.0229 s\n"
     ]
    },
    {
     "name": "stderr",
     "output_type": "stream",
     "text": [
      "/home/francisco.monteiro@av.it.pt/miniconda3/envs/rapids-23.02/lib/python3.8/site-packages/cuml/internals/api_decorators.py:190: UserWarning: To use pickling first train using float32 data to fit the estimator\n",
      "  ret = func(*args, **kwargs)\n"
     ]
    },
    {
     "name": "stdout",
     "output_type": "stream",
     "text": [
      "Elapsed time training and predicting: 0.5035 s\n",
      "Cluster 11\n",
      "Elapsed time training and predicting: 0.0143 s\n",
      "Elapsed time training and predicting: 5.6124 s\n"
     ]
    },
    {
     "name": "stderr",
     "output_type": "stream",
     "text": [
      "/home/francisco.monteiro@av.it.pt/miniconda3/envs/rapids-23.02/lib/python3.8/site-packages/cuml/internals/api_decorators.py:190: UserWarning: To use pickling first train using float32 data to fit the estimator\n",
      "  ret = func(*args, **kwargs)\n"
     ]
    },
    {
     "name": "stdout",
     "output_type": "stream",
     "text": [
      "Elapsed time training and predicting: 0.6642 s\n",
      "Cluster 12\n",
      "Elapsed time training and predicting: 0.0102 s\n",
      "Elapsed time training and predicting: 5.2730 s\n"
     ]
    },
    {
     "name": "stderr",
     "output_type": "stream",
     "text": [
      "/home/francisco.monteiro@av.it.pt/miniconda3/envs/rapids-23.02/lib/python3.8/site-packages/cuml/internals/api_decorators.py:190: UserWarning: To use pickling first train using float32 data to fit the estimator\n",
      "  ret = func(*args, **kwargs)\n"
     ]
    },
    {
     "name": "stdout",
     "output_type": "stream",
     "text": [
      "Elapsed time training and predicting: 0.5914 s\n",
      "Cluster 13\n",
      "Elapsed time training and predicting: 0.0035 s\n",
      "Elapsed time training and predicting: 4.3214 s\n"
     ]
    },
    {
     "name": "stderr",
     "output_type": "stream",
     "text": [
      "/home/francisco.monteiro@av.it.pt/miniconda3/envs/rapids-23.02/lib/python3.8/site-packages/cuml/internals/api_decorators.py:190: UserWarning: To use pickling first train using float32 data to fit the estimator\n",
      "  ret = func(*args, **kwargs)\n"
     ]
    },
    {
     "name": "stdout",
     "output_type": "stream",
     "text": [
      "Elapsed time training and predicting: 0.4029 s\n",
      "Cluster 14\n",
      "Elapsed time training and predicting: 0.0100 s\n",
      "Elapsed time training and predicting: 5.4196 s\n"
     ]
    },
    {
     "name": "stderr",
     "output_type": "stream",
     "text": [
      "/home/francisco.monteiro@av.it.pt/miniconda3/envs/rapids-23.02/lib/python3.8/site-packages/cuml/internals/api_decorators.py:190: UserWarning: To use pickling first train using float32 data to fit the estimator\n",
      "  ret = func(*args, **kwargs)\n"
     ]
    },
    {
     "name": "stdout",
     "output_type": "stream",
     "text": [
      "Elapsed time training and predicting: 0.5996 s\n",
      "Cluster 15\n",
      "Elapsed time training and predicting: 0.0035 s\n",
      "Elapsed time training and predicting: 3.2829 s\n",
      "Elapsed time training and predicting: 0.3987 s\n",
      "Aggregating predictions...\n",
      "\n",
      "----------------------------\n",
      "Linear Regression\n",
      "----------------------------\n",
      "\n",
      "MSE: 0.1737\n",
      "RMSE: 0.4168\n",
      "WAPE: 29.23\n",
      "R2: 0.8432\n",
      "\n",
      "----------------------------\n",
      "XGBoost\n",
      "----------------------------\n",
      "\n",
      "MSE: 0.0683\n",
      "RMSE: 0.2614\n",
      "WAPE: 15.15\n",
      "R2: 0.9383\n",
      "\n",
      "----------------------------\n",
      "Random Forest\n",
      "----------------------------\n",
      "\n",
      "MSE: 0.0981\n",
      "RMSE: 0.3133\n",
      "WAPE: 19.85\n",
      "R2: 0.9114\n"
     ]
    },
    {
     "name": "stderr",
     "output_type": "stream",
     "text": [
      "/home/francisco.monteiro@av.it.pt/miniconda3/envs/rapids-23.02/lib/python3.8/site-packages/cuml/internals/api_decorators.py:190: UserWarning: To use pickling first train using float32 data to fit the estimator\n",
      "  ret = func(*args, **kwargs)\n"
     ]
    }
   ],
   "source": [
    "## Complete script\n",
    "sourceFile = open(\"../../gpu_logs/cluster_preds_porto___.txt\", \"w\")\n",
    "all_clusters = read_clusters_from_file(\"clusters_porto_new.txt\", n_clusters)\n",
    "df_houses = df.drop(\"Time\", axis=1)\n",
    "estimators = [LinearRegression(), xgb.XGBRegressor(tree_method='gpu_hist', seed=0, colsample_bytree=0.7, learning_rate=0.1, max_depth=10, n_estimators=1000), cuRF()]\n",
    "all_cluster_preds = []\n",
    "n_c = 2\n",
    "for c in all_clusters:\n",
    "    print(\"Number of Clusters: {}\".format(n_c))\n",
    "    print(\"Number of Clusters: {}\".format(n_c), file=sourceFile)\n",
    "    cluster_houses = split_into_clusters(c)\n",
    "    i = 0\n",
    "    pred_list = []\n",
    "    clusters_preds, clusters_actuals = [], []\n",
    "    for clust in cluster_houses:\n",
    "        print(\"Cluster {}\".format(i))\n",
    "        i += 1\n",
    "        df_cluster = select_past_timesteps(\"../../data/porto_full_selected.csv\", clust)\n",
    "        c_pred, c_test = cluster_predict(df_cluster, estimators=estimators, names=names)\n",
    "        clusters_preds.append(c_pred)\n",
    "        clusters_actuals.append(c_test)\n",
    "    n_c += 1\n",
    "    agg_pred = aggregate_cluster_predictions(clusters_preds, clusters_actuals, names, sourceFile)\n",
    "    all_cluster_preds.append(agg_pred)\n",
    "sourceFile.close()"
   ]
  },
  {
   "cell_type": "code",
   "execution_count": 44,
   "metadata": {},
   "outputs": [
    {
     "data": {
      "text/html": [
       "<div>\n",
       "<style scoped>\n",
       "    .dataframe tbody tr th:only-of-type {\n",
       "        vertical-align: middle;\n",
       "    }\n",
       "\n",
       "    .dataframe tbody tr th {\n",
       "        vertical-align: top;\n",
       "    }\n",
       "\n",
       "    .dataframe thead th {\n",
       "        text-align: right;\n",
       "    }\n",
       "</style>\n",
       "<table border=\"1\" class=\"dataframe\">\n",
       "  <thead>\n",
       "    <tr style=\"text-align: right;\">\n",
       "      <th></th>\n",
       "      <th>Time</th>\n",
       "      <th>Location</th>\n",
       "      <th>lag_1</th>\n",
       "      <th>lag_2</th>\n",
       "      <th>lag_3</th>\n",
       "      <th>lag_4</th>\n",
       "      <th>lag_96</th>\n",
       "      <th>lag_192</th>\n",
       "      <th>lag_288</th>\n",
       "      <th>lag_384</th>\n",
       "      <th>lag_480</th>\n",
       "      <th>lag_576</th>\n",
       "      <th>lag_672</th>\n",
       "      <th>DayOfWeek</th>\n",
       "      <th>Hour</th>\n",
       "      <th>Energy</th>\n",
       "    </tr>\n",
       "  </thead>\n",
       "  <tbody>\n",
       "    <tr>\n",
       "      <th>0</th>\n",
       "      <td>2019-01-08 00:00:00</td>\n",
       "      <td>0</td>\n",
       "      <td>3.952000</td>\n",
       "      <td>3.803000</td>\n",
       "      <td>4.095000</td>\n",
       "      <td>3.926000</td>\n",
       "      <td>2.615000</td>\n",
       "      <td>3.321000</td>\n",
       "      <td>3.066000</td>\n",
       "      <td>2.351000</td>\n",
       "      <td>2.851000</td>\n",
       "      <td>3.054000</td>\n",
       "      <td>2.964000</td>\n",
       "      <td>1</td>\n",
       "      <td>0</td>\n",
       "      <td>4.940000</td>\n",
       "    </tr>\n",
       "    <tr>\n",
       "      <th>1</th>\n",
       "      <td>2019-01-08 00:15:00</td>\n",
       "      <td>0</td>\n",
       "      <td>4.940000</td>\n",
       "      <td>3.952000</td>\n",
       "      <td>3.803000</td>\n",
       "      <td>4.095000</td>\n",
       "      <td>2.634000</td>\n",
       "      <td>2.873000</td>\n",
       "      <td>3.152000</td>\n",
       "      <td>2.843000</td>\n",
       "      <td>3.102000</td>\n",
       "      <td>2.677000</td>\n",
       "      <td>2.584000</td>\n",
       "      <td>1</td>\n",
       "      <td>0</td>\n",
       "      <td>4.149000</td>\n",
       "    </tr>\n",
       "    <tr>\n",
       "      <th>2</th>\n",
       "      <td>2019-01-08 00:30:00</td>\n",
       "      <td>0</td>\n",
       "      <td>4.149000</td>\n",
       "      <td>4.940000</td>\n",
       "      <td>3.952000</td>\n",
       "      <td>3.803000</td>\n",
       "      <td>3.052000</td>\n",
       "      <td>3.407000</td>\n",
       "      <td>2.633000</td>\n",
       "      <td>2.949000</td>\n",
       "      <td>2.546000</td>\n",
       "      <td>3.522000</td>\n",
       "      <td>3.071000</td>\n",
       "      <td>1</td>\n",
       "      <td>0</td>\n",
       "      <td>4.401000</td>\n",
       "    </tr>\n",
       "    <tr>\n",
       "      <th>3</th>\n",
       "      <td>2019-01-08 00:45:00</td>\n",
       "      <td>0</td>\n",
       "      <td>4.401000</td>\n",
       "      <td>4.149000</td>\n",
       "      <td>4.940000</td>\n",
       "      <td>3.952000</td>\n",
       "      <td>2.893000</td>\n",
       "      <td>2.673000</td>\n",
       "      <td>2.590000</td>\n",
       "      <td>2.605000</td>\n",
       "      <td>3.016000</td>\n",
       "      <td>2.729000</td>\n",
       "      <td>2.694000</td>\n",
       "      <td>1</td>\n",
       "      <td>0</td>\n",
       "      <td>4.431000</td>\n",
       "    </tr>\n",
       "    <tr>\n",
       "      <th>4</th>\n",
       "      <td>2019-01-08 01:00:00</td>\n",
       "      <td>0</td>\n",
       "      <td>4.431000</td>\n",
       "      <td>4.401000</td>\n",
       "      <td>4.149000</td>\n",
       "      <td>4.940000</td>\n",
       "      <td>2.349000</td>\n",
       "      <td>2.390000</td>\n",
       "      <td>2.330000</td>\n",
       "      <td>3.023000</td>\n",
       "      <td>3.031000</td>\n",
       "      <td>2.368000</td>\n",
       "      <td>2.569000</td>\n",
       "      <td>1</td>\n",
       "      <td>1</td>\n",
       "      <td>3.988000</td>\n",
       "    </tr>\n",
       "    <tr>\n",
       "      <th>...</th>\n",
       "      <td>...</td>\n",
       "      <td>...</td>\n",
       "      <td>...</td>\n",
       "      <td>...</td>\n",
       "      <td>...</td>\n",
       "      <td>...</td>\n",
       "      <td>...</td>\n",
       "      <td>...</td>\n",
       "      <td>...</td>\n",
       "      <td>...</td>\n",
       "      <td>...</td>\n",
       "      <td>...</td>\n",
       "      <td>...</td>\n",
       "      <td>...</td>\n",
       "      <td>...</td>\n",
       "      <td>...</td>\n",
       "    </tr>\n",
       "    <tr>\n",
       "      <th>1757659</th>\n",
       "      <td>2020-01-01 22:45:00</td>\n",
       "      <td>50</td>\n",
       "      <td>1.099100</td>\n",
       "      <td>0.453906</td>\n",
       "      <td>0.481770</td>\n",
       "      <td>0.483173</td>\n",
       "      <td>0.641933</td>\n",
       "      <td>0.778195</td>\n",
       "      <td>0.753221</td>\n",
       "      <td>0.641933</td>\n",
       "      <td>0.778195</td>\n",
       "      <td>0.753221</td>\n",
       "      <td>1.723943</td>\n",
       "      <td>2</td>\n",
       "      <td>22</td>\n",
       "      <td>0.753221</td>\n",
       "    </tr>\n",
       "    <tr>\n",
       "      <th>1757660</th>\n",
       "      <td>2020-01-01 23:00:00</td>\n",
       "      <td>50</td>\n",
       "      <td>0.753221</td>\n",
       "      <td>1.099100</td>\n",
       "      <td>0.453906</td>\n",
       "      <td>0.481770</td>\n",
       "      <td>0.752850</td>\n",
       "      <td>0.931837</td>\n",
       "      <td>0.716855</td>\n",
       "      <td>0.752850</td>\n",
       "      <td>0.931837</td>\n",
       "      <td>0.716855</td>\n",
       "      <td>1.482914</td>\n",
       "      <td>2</td>\n",
       "      <td>23</td>\n",
       "      <td>0.716855</td>\n",
       "    </tr>\n",
       "    <tr>\n",
       "      <th>1757661</th>\n",
       "      <td>2020-01-01 23:15:00</td>\n",
       "      <td>50</td>\n",
       "      <td>0.716855</td>\n",
       "      <td>0.753221</td>\n",
       "      <td>1.099100</td>\n",
       "      <td>0.453906</td>\n",
       "      <td>0.935428</td>\n",
       "      <td>0.937079</td>\n",
       "      <td>0.735802</td>\n",
       "      <td>0.935428</td>\n",
       "      <td>0.937079</td>\n",
       "      <td>0.735802</td>\n",
       "      <td>1.772034</td>\n",
       "      <td>2</td>\n",
       "      <td>23</td>\n",
       "      <td>0.735802</td>\n",
       "    </tr>\n",
       "    <tr>\n",
       "      <th>1757662</th>\n",
       "      <td>2020-01-01 23:30:00</td>\n",
       "      <td>50</td>\n",
       "      <td>0.735802</td>\n",
       "      <td>0.716855</td>\n",
       "      <td>0.753221</td>\n",
       "      <td>1.099100</td>\n",
       "      <td>0.715781</td>\n",
       "      <td>0.803087</td>\n",
       "      <td>0.485237</td>\n",
       "      <td>0.715781</td>\n",
       "      <td>0.803087</td>\n",
       "      <td>0.485237</td>\n",
       "      <td>2.535657</td>\n",
       "      <td>2</td>\n",
       "      <td>23</td>\n",
       "      <td>0.485237</td>\n",
       "    </tr>\n",
       "    <tr>\n",
       "      <th>1757663</th>\n",
       "      <td>2020-01-01 23:45:00</td>\n",
       "      <td>50</td>\n",
       "      <td>0.485237</td>\n",
       "      <td>0.735802</td>\n",
       "      <td>0.716855</td>\n",
       "      <td>0.753221</td>\n",
       "      <td>1.077717</td>\n",
       "      <td>0.600777</td>\n",
       "      <td>0.394216</td>\n",
       "      <td>1.077717</td>\n",
       "      <td>0.600777</td>\n",
       "      <td>0.394216</td>\n",
       "      <td>2.055415</td>\n",
       "      <td>2</td>\n",
       "      <td>23</td>\n",
       "      <td>0.394216</td>\n",
       "    </tr>\n",
       "  </tbody>\n",
       "</table>\n",
       "<p>1757664 rows × 16 columns</p>\n",
       "</div>"
      ],
      "text/plain": [
       "                        Time  Location     lag_1     lag_2     lag_3  \\\n",
       "0        2019-01-08 00:00:00         0  3.952000  3.803000  4.095000   \n",
       "1        2019-01-08 00:15:00         0  4.940000  3.952000  3.803000   \n",
       "2        2019-01-08 00:30:00         0  4.149000  4.940000  3.952000   \n",
       "3        2019-01-08 00:45:00         0  4.401000  4.149000  4.940000   \n",
       "4        2019-01-08 01:00:00         0  4.431000  4.401000  4.149000   \n",
       "...                      ...       ...       ...       ...       ...   \n",
       "1757659  2020-01-01 22:45:00        50  1.099100  0.453906  0.481770   \n",
       "1757660  2020-01-01 23:00:00        50  0.753221  1.099100  0.453906   \n",
       "1757661  2020-01-01 23:15:00        50  0.716855  0.753221  1.099100   \n",
       "1757662  2020-01-01 23:30:00        50  0.735802  0.716855  0.753221   \n",
       "1757663  2020-01-01 23:45:00        50  0.485237  0.735802  0.716855   \n",
       "\n",
       "            lag_4    lag_96   lag_192   lag_288   lag_384   lag_480   lag_576  \\\n",
       "0        3.926000  2.615000  3.321000  3.066000  2.351000  2.851000  3.054000   \n",
       "1        4.095000  2.634000  2.873000  3.152000  2.843000  3.102000  2.677000   \n",
       "2        3.803000  3.052000  3.407000  2.633000  2.949000  2.546000  3.522000   \n",
       "3        3.952000  2.893000  2.673000  2.590000  2.605000  3.016000  2.729000   \n",
       "4        4.940000  2.349000  2.390000  2.330000  3.023000  3.031000  2.368000   \n",
       "...           ...       ...       ...       ...       ...       ...       ...   \n",
       "1757659  0.483173  0.641933  0.778195  0.753221  0.641933  0.778195  0.753221   \n",
       "1757660  0.481770  0.752850  0.931837  0.716855  0.752850  0.931837  0.716855   \n",
       "1757661  0.453906  0.935428  0.937079  0.735802  0.935428  0.937079  0.735802   \n",
       "1757662  1.099100  0.715781  0.803087  0.485237  0.715781  0.803087  0.485237   \n",
       "1757663  0.753221  1.077717  0.600777  0.394216  1.077717  0.600777  0.394216   \n",
       "\n",
       "          lag_672  DayOfWeek  Hour    Energy  \n",
       "0        2.964000          1     0  4.940000  \n",
       "1        2.584000          1     0  4.149000  \n",
       "2        3.071000          1     0  4.401000  \n",
       "3        2.694000          1     0  4.431000  \n",
       "4        2.569000          1     1  3.988000  \n",
       "...           ...        ...   ...       ...  \n",
       "1757659  1.723943          2    22  0.753221  \n",
       "1757660  1.482914          2    23  0.716855  \n",
       "1757661  1.772034          2    23  0.735802  \n",
       "1757662  2.535657          2    23  0.485237  \n",
       "1757663  2.055415          2    23  0.394216  \n",
       "\n",
       "[1757664 rows x 16 columns]"
      ]
     },
     "execution_count": 44,
     "metadata": {},
     "output_type": "execute_result"
    }
   ],
   "source": [
    "df_selected_features = pd.read_csv(\"../../data/porto_full_selected.csv\")\n",
    "df_selected_features"
   ]
  },
  {
   "attachments": {},
   "cell_type": "markdown",
   "metadata": {},
   "source": [
    "## Best predictions"
   ]
  },
  {
   "cell_type": "code",
   "execution_count": 7,
   "metadata": {},
   "outputs": [],
   "source": [
    "with open('../../gpu_logs/cluster_preds_porto.txt', 'r') as f:\n",
    "    l = f.readlines()\n",
    "    lines = [s for s in l if re.search(r'\\w+', s)]"
   ]
  },
  {
   "cell_type": "code",
   "execution_count": 8,
   "metadata": {},
   "outputs": [],
   "source": [
    "def get_cluster_metrics(lines):\n",
    "    cursor = 0\n",
    "    model_names, mse, wape, r2, number_clust = [], [], [], [], []\n",
    "    for i in lines:\n",
    "        if i.startswith(\"Number\"):\n",
    "            number_clust.append(int(i[-3:-1].strip()))\n",
    "        else:\n",
    "            if cursor == 0:\n",
    "                model_names.append(i[:-1])\n",
    "                cursor += 1\n",
    "            elif cursor == 1:\n",
    "                mse.append(i.split(\":\")[1][:-1])\n",
    "                cursor += 1\n",
    "            elif cursor == 2:\n",
    "                wape.append(i.split(\":\")[1][:-1])\n",
    "                cursor += 1\n",
    "            elif cursor == 3:\n",
    "                r2.append(i.split(\":\")[1][:-1])\n",
    "                cursor = 0\n",
    "    mse = list(map(float, mse))\n",
    "    wape = list(map(float, wape))\n",
    "    wape = list(map(lambda x: x/100, wape))\n",
    "    r2 = list(map(float, r2))\n",
    "    return model_names, mse, wape, r2, number_clust"
   ]
  },
  {
   "cell_type": "code",
   "execution_count": 9,
   "metadata": {},
   "outputs": [],
   "source": [
    "def best_number_of_cluster(lines):\n",
    "    model_names, mse, wape, r2, number_clust = get_cluster_metrics(lines)\n",
    "    min_mse, min_index_mse, mod_index_mse = min(mse), int(np.argmin(mse)/3), np.argmin(mse)%3\n",
    "    min_wape, min_index_wape, mod_index_wape = min(wape), int(np.argmin(wape)/3), np.argmin(wape)%3\n",
    "    max_r2, max_index_r2, mod_index_r2 = max(r2), int(np.argmax(r2)/3), np.argmax(r2)%3\n",
    "    return max_r2, number_clust[max_index_r2], model_names[mod_index_r2]"
   ]
  },
  {
   "cell_type": "code",
   "execution_count": 10,
   "metadata": {},
   "outputs": [
    {
     "data": {
      "text/plain": [
       "(0.9433, 11, 'XGBoost')"
      ]
     },
     "execution_count": 10,
     "metadata": {},
     "output_type": "execute_result"
    }
   ],
   "source": [
    "best_score, best_n_clust, best_alg = best_number_of_cluster(lines)\n",
    "best_score, best_n_clust, best_alg"
   ]
  },
  {
   "cell_type": "code",
   "execution_count": 13,
   "metadata": {},
   "outputs": [
    {
     "data": {
      "text/plain": [
       "(0.0619, 0.9433, 0.15130000000000002)"
      ]
     },
     "execution_count": 13,
     "metadata": {},
     "output_type": "execute_result"
    }
   ],
   "source": [
    "model_names, mse, wape, r2, number_clust = get_cluster_metrics(lines)\n",
    "mse[(best_n_clust-2)*3+1], r2[(best_n_clust-2)*3+1], wape[(best_n_clust-2)*3+1]"
   ]
  }
 ],
 "metadata": {
  "kernelspec": {
   "display_name": "Python 3.8.16 ('rapids-23.02')",
   "language": "python",
   "name": "python3"
  },
  "language_info": {
   "codemirror_mode": {
    "name": "ipython",
    "version": 3
   },
   "file_extension": ".py",
   "mimetype": "text/x-python",
   "name": "python",
   "nbconvert_exporter": "python",
   "pygments_lexer": "ipython3",
   "version": "3.8.16"
  },
  "orig_nbformat": 4,
  "vscode": {
   "interpreter": {
    "hash": "b68dca5a889d9fa7a36c76420bb99c5b147d98e0e386a0426daa5cd8f8566c01"
   }
  }
 },
 "nbformat": 4,
 "nbformat_minor": 2
}
