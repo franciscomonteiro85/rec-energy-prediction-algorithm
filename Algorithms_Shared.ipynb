{
 "cells": [
  {
   "cell_type": "code",
   "execution_count": 1,
   "id": "58081526",
   "metadata": {},
   "outputs": [],
   "source": [
    "import warnings\n",
    "warnings.filterwarnings('ignore',category=FutureWarning)\n",
    "warnings.filterwarnings('ignore',category=DeprecationWarning)\n",
    "import numpy as np\n",
    "import pandas as pd\n",
    "import matplotlib.pyplot as plt\n",
    "from sklearn.model_selection import train_test_split, cross_val_score, cross_validate, KFold, RepeatedKFold, RandomizedSearchCV\n",
    "from sklearn.metrics import mean_squared_error, r2_score, mean_absolute_error, mean_absolute_percentage_error\n",
    "from sklearn.preprocessing import PolynomialFeatures, MinMaxScaler\n",
    "from sklearn.linear_model import LinearRegression\n",
    "import time\n",
    "import cudf\n",
    "from cuml.ensemble import RandomForestRegressor as cuRF\n",
    "import math\n",
    "from tqdm import tqdm\n",
    "import xgboost as xgb"
   ]
  },
  {
   "attachments": {},
   "cell_type": "markdown",
   "id": "e6a60d92",
   "metadata": {},
   "source": [
    "#### Output file"
   ]
  },
  {
   "cell_type": "code",
   "execution_count": 2,
   "id": "4dd1b2fe",
   "metadata": {},
   "outputs": [],
   "source": [
    "sourceFile = open(\"gpu_logs/shared_meteo.txt\", 'w')"
   ]
  },
  {
   "cell_type": "markdown",
   "id": "a8dda9da",
   "metadata": {},
   "source": [
    "### Load the data"
   ]
  },
  {
   "cell_type": "code",
   "execution_count": 3,
   "id": "f6963e23",
   "metadata": {},
   "outputs": [
    {
     "data": {
      "text/html": [
       "<div>\n",
       "<style scoped>\n",
       "    .dataframe tbody tr th:only-of-type {\n",
       "        vertical-align: middle;\n",
       "    }\n",
       "\n",
       "    .dataframe tbody tr th {\n",
       "        vertical-align: top;\n",
       "    }\n",
       "\n",
       "    .dataframe thead th {\n",
       "        text-align: right;\n",
       "    }\n",
       "</style>\n",
       "<table border=\"1\" class=\"dataframe\">\n",
       "  <thead>\n",
       "    <tr style=\"text-align: right;\">\n",
       "      <th></th>\n",
       "      <th>Time</th>\n",
       "      <th>Energy</th>\n",
       "      <th>Location</th>\n",
       "      <th>Temp_Med</th>\n",
       "      <th>Temp_Max</th>\n",
       "      <th>Temp_Min</th>\n",
       "      <th>Rumo_Vento_Med</th>\n",
       "      <th>Rumo_Vento_Max</th>\n",
       "      <th>Intensidade_Vento_Med</th>\n",
       "      <th>Intensidade_Vento_Max</th>\n",
       "      <th>Precip</th>\n",
       "      <th>Rad_Total</th>\n",
       "    </tr>\n",
       "  </thead>\n",
       "  <tbody>\n",
       "    <tr>\n",
       "      <th>0</th>\n",
       "      <td>2020-10-06 00:15:00</td>\n",
       "      <td>0.076</td>\n",
       "      <td>PT41CV</td>\n",
       "      <td>11.10</td>\n",
       "      <td>11.20</td>\n",
       "      <td>11.00</td>\n",
       "      <td>285.0</td>\n",
       "      <td>287.0</td>\n",
       "      <td>3.10</td>\n",
       "      <td>4.40</td>\n",
       "      <td>0.00</td>\n",
       "      <td>-990.0</td>\n",
       "    </tr>\n",
       "    <tr>\n",
       "      <th>1</th>\n",
       "      <td>2020-10-06 00:30:00</td>\n",
       "      <td>0.072</td>\n",
       "      <td>PT41CV</td>\n",
       "      <td>11.00</td>\n",
       "      <td>11.15</td>\n",
       "      <td>10.85</td>\n",
       "      <td>295.5</td>\n",
       "      <td>298.5</td>\n",
       "      <td>2.85</td>\n",
       "      <td>3.85</td>\n",
       "      <td>0.00</td>\n",
       "      <td>-990.0</td>\n",
       "    </tr>\n",
       "    <tr>\n",
       "      <th>2</th>\n",
       "      <td>2020-10-06 00:45:00</td>\n",
       "      <td>0.072</td>\n",
       "      <td>PT41CV</td>\n",
       "      <td>11.30</td>\n",
       "      <td>11.50</td>\n",
       "      <td>11.00</td>\n",
       "      <td>260.0</td>\n",
       "      <td>276.0</td>\n",
       "      <td>2.00</td>\n",
       "      <td>3.00</td>\n",
       "      <td>0.00</td>\n",
       "      <td>-990.0</td>\n",
       "    </tr>\n",
       "    <tr>\n",
       "      <th>3</th>\n",
       "      <td>2020-10-06 01:00:00</td>\n",
       "      <td>0.068</td>\n",
       "      <td>PT41CV</td>\n",
       "      <td>11.45</td>\n",
       "      <td>11.60</td>\n",
       "      <td>11.20</td>\n",
       "      <td>196.0</td>\n",
       "      <td>211.0</td>\n",
       "      <td>1.70</td>\n",
       "      <td>2.55</td>\n",
       "      <td>0.00</td>\n",
       "      <td>-990.0</td>\n",
       "    </tr>\n",
       "    <tr>\n",
       "      <th>4</th>\n",
       "      <td>2020-10-06 01:15:00</td>\n",
       "      <td>0.032</td>\n",
       "      <td>PT41CV</td>\n",
       "      <td>10.80</td>\n",
       "      <td>11.10</td>\n",
       "      <td>10.60</td>\n",
       "      <td>162.0</td>\n",
       "      <td>191.0</td>\n",
       "      <td>1.30</td>\n",
       "      <td>1.70</td>\n",
       "      <td>0.00</td>\n",
       "      <td>-990.0</td>\n",
       "    </tr>\n",
       "    <tr>\n",
       "      <th>...</th>\n",
       "      <td>...</td>\n",
       "      <td>...</td>\n",
       "      <td>...</td>\n",
       "      <td>...</td>\n",
       "      <td>...</td>\n",
       "      <td>...</td>\n",
       "      <td>...</td>\n",
       "      <td>...</td>\n",
       "      <td>...</td>\n",
       "      <td>...</td>\n",
       "      <td>...</td>\n",
       "      <td>...</td>\n",
       "    </tr>\n",
       "    <tr>\n",
       "      <th>576694</th>\n",
       "      <td>2022-11-25 00:00:00</td>\n",
       "      <td>0.764</td>\n",
       "      <td>PT87ZW</td>\n",
       "      <td>12.65</td>\n",
       "      <td>12.70</td>\n",
       "      <td>12.55</td>\n",
       "      <td>159.0</td>\n",
       "      <td>139.0</td>\n",
       "      <td>2.35</td>\n",
       "      <td>3.65</td>\n",
       "      <td>0.05</td>\n",
       "      <td>0.0</td>\n",
       "    </tr>\n",
       "    <tr>\n",
       "      <th>576695</th>\n",
       "      <td>2022-11-25 00:15:00</td>\n",
       "      <td>0.660</td>\n",
       "      <td>PT87ZW</td>\n",
       "      <td>12.60</td>\n",
       "      <td>12.70</td>\n",
       "      <td>12.60</td>\n",
       "      <td>160.0</td>\n",
       "      <td>158.0</td>\n",
       "      <td>1.90</td>\n",
       "      <td>3.60</td>\n",
       "      <td>0.00</td>\n",
       "      <td>0.0</td>\n",
       "    </tr>\n",
       "    <tr>\n",
       "      <th>576696</th>\n",
       "      <td>2022-11-25 00:30:00</td>\n",
       "      <td>0.692</td>\n",
       "      <td>PT87ZW</td>\n",
       "      <td>12.60</td>\n",
       "      <td>12.70</td>\n",
       "      <td>12.50</td>\n",
       "      <td>156.5</td>\n",
       "      <td>153.5</td>\n",
       "      <td>2.20</td>\n",
       "      <td>3.25</td>\n",
       "      <td>0.00</td>\n",
       "      <td>0.0</td>\n",
       "    </tr>\n",
       "    <tr>\n",
       "      <th>576697</th>\n",
       "      <td>2022-11-25 00:45:00</td>\n",
       "      <td>0.660</td>\n",
       "      <td>PT87ZW</td>\n",
       "      <td>12.60</td>\n",
       "      <td>12.70</td>\n",
       "      <td>12.40</td>\n",
       "      <td>147.0</td>\n",
       "      <td>172.0</td>\n",
       "      <td>2.00</td>\n",
       "      <td>3.30</td>\n",
       "      <td>0.00</td>\n",
       "      <td>0.0</td>\n",
       "    </tr>\n",
       "    <tr>\n",
       "      <th>576698</th>\n",
       "      <td>2022-11-25 01:00:00</td>\n",
       "      <td>0.644</td>\n",
       "      <td>PT87ZW</td>\n",
       "      <td>12.50</td>\n",
       "      <td>12.60</td>\n",
       "      <td>12.45</td>\n",
       "      <td>150.0</td>\n",
       "      <td>148.0</td>\n",
       "      <td>2.10</td>\n",
       "      <td>3.70</td>\n",
       "      <td>0.00</td>\n",
       "      <td>0.0</td>\n",
       "    </tr>\n",
       "  </tbody>\n",
       "</table>\n",
       "<p>576699 rows × 12 columns</p>\n",
       "</div>"
      ],
      "text/plain": [
       "                      Time  Energy Location  Temp_Med  Temp_Max  Temp_Min  \\\n",
       "0      2020-10-06 00:15:00   0.076   PT41CV     11.10     11.20     11.00   \n",
       "1      2020-10-06 00:30:00   0.072   PT41CV     11.00     11.15     10.85   \n",
       "2      2020-10-06 00:45:00   0.072   PT41CV     11.30     11.50     11.00   \n",
       "3      2020-10-06 01:00:00   0.068   PT41CV     11.45     11.60     11.20   \n",
       "4      2020-10-06 01:15:00   0.032   PT41CV     10.80     11.10     10.60   \n",
       "...                    ...     ...      ...       ...       ...       ...   \n",
       "576694 2022-11-25 00:00:00   0.764   PT87ZW     12.65     12.70     12.55   \n",
       "576695 2022-11-25 00:15:00   0.660   PT87ZW     12.60     12.70     12.60   \n",
       "576696 2022-11-25 00:30:00   0.692   PT87ZW     12.60     12.70     12.50   \n",
       "576697 2022-11-25 00:45:00   0.660   PT87ZW     12.60     12.70     12.40   \n",
       "576698 2022-11-25 01:00:00   0.644   PT87ZW     12.50     12.60     12.45   \n",
       "\n",
       "        Rumo_Vento_Med  Rumo_Vento_Max  Intensidade_Vento_Med  \\\n",
       "0                285.0           287.0                   3.10   \n",
       "1                295.5           298.5                   2.85   \n",
       "2                260.0           276.0                   2.00   \n",
       "3                196.0           211.0                   1.70   \n",
       "4                162.0           191.0                   1.30   \n",
       "...                ...             ...                    ...   \n",
       "576694           159.0           139.0                   2.35   \n",
       "576695           160.0           158.0                   1.90   \n",
       "576696           156.5           153.5                   2.20   \n",
       "576697           147.0           172.0                   2.00   \n",
       "576698           150.0           148.0                   2.10   \n",
       "\n",
       "        Intensidade_Vento_Max  Precip  Rad_Total  \n",
       "0                        4.40    0.00     -990.0  \n",
       "1                        3.85    0.00     -990.0  \n",
       "2                        3.00    0.00     -990.0  \n",
       "3                        2.55    0.00     -990.0  \n",
       "4                        1.70    0.00     -990.0  \n",
       "...                       ...     ...        ...  \n",
       "576694                   3.65    0.05        0.0  \n",
       "576695                   3.60    0.00        0.0  \n",
       "576696                   3.25    0.00        0.0  \n",
       "576697                   3.30    0.00        0.0  \n",
       "576698                   3.70    0.00        0.0  \n",
       "\n",
       "[576699 rows x 12 columns]"
      ]
     },
     "execution_count": 3,
     "metadata": {},
     "output_type": "execute_result"
    }
   ],
   "source": [
    "df = pd.read_csv(\"data/shared_meteo.csv\")\n",
    "df.reset_index(drop=True, inplace=True)\n",
    "df['Time'] =  pd.to_datetime(df['Time'])\n",
    "df"
   ]
  },
  {
   "cell_type": "code",
   "execution_count": null,
   "id": "628c5f3c",
   "metadata": {},
   "outputs": [],
   "source": [
    "## Number of houses\n",
    "df.Location.nunique()"
   ]
  },
  {
   "cell_type": "code",
   "execution_count": null,
   "id": "314547f8",
   "metadata": {},
   "outputs": [],
   "source": [
    "df.dropna(inplace=True)\n",
    "df.reset_index(drop=True, inplace=True)\n",
    "df"
   ]
  },
  {
   "cell_type": "code",
   "execution_count": null,
   "id": "1b3d0cf8",
   "metadata": {},
   "outputs": [],
   "source": [
    "## Number of records per house\n",
    "df.Location.value_counts()"
   ]
  },
  {
   "cell_type": "code",
   "execution_count": null,
   "id": "0a263e4c",
   "metadata": {},
   "outputs": [],
   "source": [
    "#df.to_csv(\"../datasets/shared_complete.csv\", index=False)"
   ]
  },
  {
   "cell_type": "markdown",
   "id": "54c9d325",
   "metadata": {},
   "source": [
    "### Auxiliary functions"
   ]
  },
  {
   "cell_type": "code",
   "execution_count": null,
   "id": "cd78e17d",
   "metadata": {},
   "outputs": [],
   "source": [
    "def plot_results(preds: np.array, actuals: np.array, title: str):\n",
    "    \n",
    "    plt.scatter(actuals, preds, c='b', label='predicted')\n",
    "    plt.xlabel('actual')\n",
    "    plt.ylabel('predicted')\n",
    "    plt.title(title)\n",
    "    plt.xlim(0, plt.xlim()[1])\n",
    "    plt.ylim(0, plt.ylim()[1])\n",
    "    _ = plt.plot([0, 100], [0, 100], '--r', label='y=x')\n",
    "    plt.legend()\n",
    "    plt.show()\n",
    "\n",
    "def truncate_metric(metric):\n",
    "    m = math.trunc(10000 * metric) / 10000\n",
    "    return m \n",
    "    \n",
    "def performance_metrics(preds: np.array, actuals: np.array, filename):\n",
    "\n",
    "    # calculate performance metrics\n",
    "    \n",
    "    mse = truncate_metric(mean_squared_error(actuals, preds))\n",
    "    wape = truncate_metric(np.sum(np.abs(preds - actuals)) / np.sum(np.abs(actuals))) * 100\n",
    "    r2 = truncate_metric(r2_score(actuals, preds))\n",
    "    \n",
    "    # print performance metrics\n",
    "    print('MSE: %.4f' % mse, file=filename)\n",
    "    print('WAPE: %.2f' % wape, file=filename)\n",
    "    print('R2: %.4f' % r2, file=filename)\n",
    "    return mse, wape, r2\n",
    "\n",
    "#@jit(target_backend='cuda')\n",
    "def build_model(estimator, X_train: np.array, y_train: np.array, X_test: np.array):\n",
    "    \n",
    "    model = estimator\n",
    "    model.fit(X_train, y_train)\n",
    "    preds = model.predict(X_test)\n",
    "    \n",
    "    return model, preds\n",
    "\n",
    "def validate(estimator, X_train, y_train):\n",
    "    scores = cross_validate(estimator, X_train, y_train, scoring=['r2', 'neg_mean_squared_error'])\n",
    "    return scores"
   ]
  },
  {
   "cell_type": "code",
   "execution_count": null,
   "id": "8af19e8d",
   "metadata": {},
   "outputs": [],
   "source": [
    "def total_averaged_metrics(metrics_list, filename):\n",
    "    \n",
    "    print(\"Total Averaged MSE: {}\".format(np.round(sum(i for i, j, k in metrics_list)/len(metrics_list),3)), file=filename)\n",
    "    print(\"Total Averaged WAPE: {}\".format(np.round(sum(j for i, j, k in metrics_list)/len(metrics_list),3)), file=filename)\n",
    "    print(\"Total Averaged R2: {}\".format(np.round(sum(k for i, j, k in metrics_list)/len(metrics_list),3)), file=filename)\n",
    "\n",
    "def past_timesteps(df, number_of_timesteps):\n",
    "    for i in tqdm(range(1, (number_of_timesteps + 1))):\n",
    "        df.loc[df['Time'].shift(i) == df['Time'] - pd.Timedelta(i * 15, 'm'), f\"energy_lag_{i}\"] = df['Energy'].shift(i)\n",
    "    df.dropna(inplace=True)\n",
    "    df.reset_index(drop=True, inplace=True)\n",
    "    return df\n",
    "\n",
    "# def last_energy_points_full(df, number_timesteps, num_samples_per_house):\n",
    "#     X = pd.DataFrame()\n",
    "#     other_feats = df.iloc[:,:2]\n",
    "#     for i in range(1, (number_timesteps + 1) ):\n",
    "#         X[f'Energy_{i*15}'] = df['Energy'].shift(i)\n",
    "#     y = df.copy().iloc[:,2]\n",
    "#     y.iloc[:number_timesteps] = np.nan\n",
    "#     ## Remove samples in between each house\n",
    "#     for h in range(1, number_of_houses):\n",
    "#         for i in range(0, number_timesteps):\n",
    "#             X.iloc[(num_samples_per_house+i)*h] = np.nan\n",
    "#             y.iloc[(num_samples_per_house+i)*h] = np.nan\n",
    "#     X = pd.concat([other_feats, X], axis=1)\n",
    "#     X.dropna(inplace=True)\n",
    "#     X.reset_index(drop=True, inplace=True)\n",
    "#     y.dropna(inplace=True)\n",
    "#     y.reset_index(drop=True, inplace=True)\n",
    "#     y.columns = [\"Energy\"]\n",
    "#     dataframe = pd.concat([X,y.rename('Energy')], axis=1)\n",
    "#     assert number_of_houses == (df.shape[0] - dataframe.shape[0]) / number_timesteps, \"Something went wrong with preprocessing\"\n",
    "#     return dataframe\n",
    "    "
   ]
  },
  {
   "cell_type": "code",
   "execution_count": null,
   "id": "9d0352ee",
   "metadata": {},
   "outputs": [],
   "source": [
    "def normalize_training(X_train):\n",
    "    scaler = MinMaxScaler(feature_range=(0,1))\n",
    "    scaler.fit(X_train)\n",
    "    X_train = scaler.transform(X_train)\n",
    "    return X_train, scaler"
   ]
  },
  {
   "cell_type": "markdown",
   "id": "bd1b0d17",
   "metadata": {},
   "source": [
    "### Cross Validate"
   ]
  },
  {
   "cell_type": "code",
   "execution_count": null,
   "id": "71efa19a",
   "metadata": {},
   "outputs": [],
   "source": [
    "#scores = validate(model, X_train, y_train)\n",
    "#cv_mse = np.round(scores['test_neg_mean_squared_error'].mean() * (-1),4)\n",
    "#cv_r2 = np.round(scores['test_r2'].mean(),5)\n",
    "#print(\"CV MSE: {} \".format(cv_mse))\n",
    "#print(\"CV R2: {} \".format(cv_r2))\n",
    "#metrics_list.append((cv_mse,cv_rmse,cv_mae,mape,cv_r2))"
   ]
  },
  {
   "cell_type": "markdown",
   "id": "0f5ba7c5",
   "metadata": {},
   "source": [
    "## Leave 10 houses for test (demonstration)"
   ]
  },
  {
   "cell_type": "code",
   "execution_count": null,
   "id": "fd9b27b9",
   "metadata": {},
   "outputs": [],
   "source": [
    "number_of_timesteps = 672"
   ]
  },
  {
   "cell_type": "code",
   "execution_count": null,
   "id": "ba9e7320",
   "metadata": {},
   "outputs": [],
   "source": [
    "locations = np.random.choice(df['Location'].unique(), size=3, replace=False)\n",
    "locations"
   ]
  },
  {
   "cell_type": "code",
   "execution_count": null,
   "id": "8f9027ef",
   "metadata": {},
   "outputs": [],
   "source": [
    "df_new = past_timesteps(df, number_of_timesteps)\n",
    "df_new"
   ]
  },
  {
   "cell_type": "code",
   "execution_count": null,
   "id": "d21dc03c",
   "metadata": {},
   "outputs": [],
   "source": [
    "df_new['DayOfWeek'] = df_new['Time'].dt.dayofweek\n",
    "df_new['Weekend'] = df_new['Time'].dt.dayofweek.isin([5,6]).astype(int)\n",
    "df_new['Hour'] = df_new['Time'].dt.hour\n",
    "df_new"
   ]
  },
  {
   "cell_type": "code",
   "execution_count": null,
   "id": "87a4c2e1",
   "metadata": {},
   "outputs": [],
   "source": [
    "df_new.to_csv(\"data/shared_oneweek_meteo.csv\", index=False)"
   ]
  },
  {
   "cell_type": "code",
   "execution_count": null,
   "id": "daa9a0ea",
   "metadata": {},
   "outputs": [],
   "source": [
    "def test_leave_house_out(df, estimator, locations, filename):\n",
    "    test = df[df['Location'].isin(locations)]\n",
    "    train = df[~df['Location'].isin(locations)]\n",
    "    print(\"Train set: \", train.shape)\n",
    "    print(\"Test set: \", test.shape)\n",
    "    X_train = train.drop(['Time', 'Energy', 'Location'], axis=1)\n",
    "    X_test = test.drop(['Time', 'Energy', 'Location'], axis=1)\n",
    "    y_train = train['Energy']\n",
    "    y_test = test['Energy']\n",
    "    X_train_norm, scaler = normalize_training(X_train)\n",
    "    X_test_norm = scaler.transform(X_test)\n",
    "\n",
    "    model = estimator\n",
    "    init = time.time()\n",
    "    model.fit(X_train_norm, y_train)\n",
    "    y_pred = model.predict(X_test_norm)\n",
    "    end = time.time()\n",
    "    print('Elapsed time: {:.4f} s'.format(end - init), file=filename)\n",
    "    mse, wape, r2 = performance_metrics(y_pred, y_test.values.reshape(-1), filename)\n",
    "    return mse, wape, r2, model"
   ]
  },
  {
   "cell_type": "markdown",
   "id": "47b7a1a3",
   "metadata": {},
   "source": [
    "## Predict  10 folds with 10 random houses for test"
   ]
  },
  {
   "cell_type": "code",
   "execution_count": null,
   "id": "8aa82ba0",
   "metadata": {},
   "outputs": [],
   "source": [
    "df = pd.read_csv(\"data/shared_oneweek_meteo.csv\")\n",
    "df"
   ]
  },
  {
   "cell_type": "code",
   "execution_count": null,
   "id": "bb6cf023",
   "metadata": {},
   "outputs": [],
   "source": [
    "df.isna().sum().sum()"
   ]
  },
  {
   "cell_type": "code",
   "execution_count": null,
   "id": "a92783d8",
   "metadata": {},
   "outputs": [],
   "source": [
    "num_houses_test = 3"
   ]
  },
  {
   "cell_type": "code",
   "execution_count": null,
   "id": "3b8166de",
   "metadata": {},
   "outputs": [],
   "source": [
    "locations = []\n",
    "for i in range(10):\n",
    "    np.random.seed(i*4)\n",
    "    l = np.random.choice(df['Location'].unique(), size=num_houses_test, replace=False)\n",
    "    locations.append(l)\n",
    "locations"
   ]
  },
  {
   "cell_type": "markdown",
   "id": "30e48b6b",
   "metadata": {},
   "source": [
    "### Linear Regression"
   ]
  },
  {
   "cell_type": "code",
   "execution_count": null,
   "id": "29000235",
   "metadata": {},
   "outputs": [],
   "source": [
    "metrics_list_lr = []\n",
    "print(\"\\n----------------------------\", file=sourceFile)\n",
    "print(\"\\nLinear Regression\\n\", file=sourceFile)\n",
    "print(\"----------------------------\\n\", file=sourceFile)\n",
    "for i in range(10):\n",
    "    print(\"\\nIteration\", i, file=sourceFile)\n",
    "    mse, wape, r2, model_lr = test_leave_house_out(df, LinearRegression(), locations[i], sourceFile)\n",
    "    metrics_list_lr.append((mse, wape, r2))"
   ]
  },
  {
   "cell_type": "markdown",
   "id": "4f05fe8f",
   "metadata": {},
   "source": [
    "### XGBoost"
   ]
  },
  {
   "cell_type": "code",
   "execution_count": null,
   "id": "a9cfe1a7",
   "metadata": {},
   "outputs": [],
   "source": [
    "metrics_list_xgb = []\n",
    "print(\"\\n----------------------------\", file=sourceFile)\n",
    "print(\"\\nXGBoost\\n\", file=sourceFile)\n",
    "print(\"----------------------------\\n\", file=sourceFile)\n",
    "for i in range(10):\n",
    "    print(\"\\nIteration\", i, file=sourceFile)\n",
    "    mse, wape, r2, model_xgb = test_leave_house_out(df, xgb.XGBRegressor(tree_method='gpu_hist', seed=0), locations[i], sourceFile)\n",
    "    metrics_list_xgb.append((mse, wape, r2))"
   ]
  },
  {
   "cell_type": "markdown",
   "id": "bc81a8ce",
   "metadata": {},
   "source": [
    "### Random Forest"
   ]
  },
  {
   "cell_type": "code",
   "execution_count": null,
   "id": "81a082e6",
   "metadata": {},
   "outputs": [],
   "source": [
    "metrics_list_rf = []\n",
    "print(\"\\n----------------------------\", file=sourceFile)\n",
    "print(\"\\nRandom Forest\\n\", file=sourceFile)\n",
    "print(\"----------------------------\\n\", file=sourceFile)\n",
    "for i in range(10):\n",
    "    print(\"\\nIteration\", i, file=sourceFile)\n",
    "    mse, wape, r2, model_rf = test_leave_house_out(df, cuRF(), locations[i], sourceFile)\n",
    "    metrics_list_rf.append((mse, wape, r2))"
   ]
  },
  {
   "attachments": {},
   "cell_type": "markdown",
   "id": "acf0bc50",
   "metadata": {},
   "source": [
    "## Averaged Metrics"
   ]
  },
  {
   "cell_type": "code",
   "execution_count": null,
   "id": "5ba79fd9",
   "metadata": {},
   "outputs": [],
   "source": [
    "print(\"\\n\\n\\n\", file=sourceFile)"
   ]
  },
  {
   "cell_type": "code",
   "execution_count": null,
   "id": "9038241b",
   "metadata": {},
   "outputs": [],
   "source": [
    "print(\"\\nLinear Regression\", file=sourceFile)\n",
    "total_averaged_metrics(metrics_list_lr, sourceFile)"
   ]
  },
  {
   "cell_type": "code",
   "execution_count": null,
   "id": "c4d11803",
   "metadata": {},
   "outputs": [],
   "source": [
    "print(\"\\nXGBoost\", file=sourceFile)\n",
    "total_averaged_metrics(metrics_list_xgb, sourceFile)"
   ]
  },
  {
   "cell_type": "code",
   "execution_count": null,
   "id": "387e0bf7",
   "metadata": {},
   "outputs": [],
   "source": [
    "print(\"\\nRandom Forest\", file=sourceFile)\n",
    "total_averaged_metrics(metrics_list_rf, sourceFile)"
   ]
  },
  {
   "cell_type": "code",
   "execution_count": null,
   "id": "289c92d1",
   "metadata": {},
   "outputs": [],
   "source": [
    "sourceFile.close()"
   ]
  },
  {
   "attachments": {},
   "cell_type": "markdown",
   "id": "5457d9ea",
   "metadata": {},
   "source": [
    "### Feature Importance"
   ]
  },
  {
   "cell_type": "code",
   "execution_count": null,
   "id": "071d8a2e",
   "metadata": {},
   "outputs": [],
   "source": [
    "print('Linear Regression\\n')\n",
    "for i,v in enumerate(model_lr.coef_):\n",
    "    print('Feature: %0d, Score: %.5f' % (i,v))\n",
    "print('XGBoost\\n')\n",
    "for i,v in enumerate(model_xgb.feature_importances_):\n",
    "    print('Feature: %0d, Score: %.5f' % (i,v))"
   ]
  },
  {
   "cell_type": "code",
   "execution_count": null,
   "id": "0f698b11",
   "metadata": {},
   "outputs": [],
   "source": [
    "plt.bar(range(len(model_xgb.feature_importances_)),model_xgb.feature_importances_)\n",
    "plt.title('Feature Importance')\n",
    "plt.xlabel('Feature')\n",
    "plt.ylabel('Importance')\n",
    "plt.show()"
   ]
  },
  {
   "cell_type": "code",
   "execution_count": null,
   "id": "c7282910",
   "metadata": {},
   "outputs": [],
   "source": [
    "plt.bar(range(len(model_lr.coef_)),model_lr.coef_)\n",
    "plt.title('Feature Importance')\n",
    "plt.xlabel('Feature')\n",
    "plt.ylabel('Importance')\n",
    "plt.show()"
   ]
  },
  {
   "cell_type": "code",
   "execution_count": null,
   "id": "73305567",
   "metadata": {},
   "outputs": [],
   "source": [
    "columns = df.drop([\"Energy\", \"Location\", \"Time\"], axis=1).columns\n",
    "feature_importance = pd.Series(model_xgb.feature_importances_, index=columns)\n",
    "feature_importance"
   ]
  },
  {
   "cell_type": "code",
   "execution_count": null,
   "id": "e27fcc94",
   "metadata": {},
   "outputs": [],
   "source": [
    "features = feature_importance.nlargest(40).index\n",
    "features"
   ]
  },
  {
   "cell_type": "code",
   "execution_count": null,
   "id": "ba8a75b6",
   "metadata": {},
   "outputs": [],
   "source": [
    "df_40 = df[['Time', 'Location'] + [*features] + ['Energy']]\n",
    "df_40"
   ]
  },
  {
   "cell_type": "code",
   "execution_count": null,
   "id": "5013aba9",
   "metadata": {},
   "outputs": [],
   "source": [
    "df_40.to_csv(\"data/shared_best40features.csv\", index=False)"
   ]
  },
  {
   "cell_type": "code",
   "execution_count": null,
   "id": "c9de4a6b",
   "metadata": {},
   "outputs": [],
   "source": []
  }
 ],
 "metadata": {
  "kernelspec": {
   "display_name": "Python 3.8.16 ('rapids-23.02')",
   "language": "python",
   "name": "python3"
  },
  "language_info": {
   "codemirror_mode": {
    "name": "ipython",
    "version": 3
   },
   "file_extension": ".py",
   "mimetype": "text/x-python",
   "name": "python",
   "nbconvert_exporter": "python",
   "pygments_lexer": "ipython3",
   "version": "3.8.16"
  },
  "vscode": {
   "interpreter": {
    "hash": "b68dca5a889d9fa7a36c76420bb99c5b147d98e0e386a0426daa5cd8f8566c01"
   }
  }
 },
 "nbformat": 4,
 "nbformat_minor": 5
}
