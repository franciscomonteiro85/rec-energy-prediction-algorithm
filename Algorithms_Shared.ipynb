{
 "cells": [
  {
   "cell_type": "code",
   "execution_count": 1,
   "id": "58081526",
   "metadata": {},
   "outputs": [],
   "source": [
    "import warnings\n",
    "warnings.filterwarnings('ignore',category=FutureWarning)\n",
    "warnings.filterwarnings('ignore',category=DeprecationWarning)\n",
    "import numpy as np\n",
    "import pandas as pd\n",
    "import matplotlib.pyplot as plt\n",
    "from sklearn.model_selection import train_test_split, cross_val_score, cross_validate, KFold, RepeatedKFold, RandomizedSearchCV\n",
    "from sklearn.metrics import mean_squared_error, r2_score, mean_absolute_error, mean_absolute_percentage_error\n",
    "from sklearn.preprocessing import PolynomialFeatures, MinMaxScaler\n",
    "from sklearn.linear_model import LinearRegression\n",
    "import time\n",
    "import cudf\n",
    "from cuml.ensemble import RandomForestRegressor as cuRF\n",
    "import math\n",
    "from tqdm import tqdm\n",
    "import xgboost as xgb"
   ]
  },
  {
   "attachments": {},
   "cell_type": "markdown",
   "id": "e6a60d92",
   "metadata": {},
   "source": [
    "#### Output file"
   ]
  },
  {
   "cell_type": "code",
   "execution_count": 2,
   "id": "4dd1b2fe",
   "metadata": {},
   "outputs": [],
   "source": [
    "sourceFile = open(\"gpu_logs/shared_40best.txt\", 'w')"
   ]
  },
  {
   "cell_type": "markdown",
   "id": "a8dda9da",
   "metadata": {},
   "source": [
    "### Load the data"
   ]
  },
  {
   "cell_type": "code",
   "execution_count": null,
   "id": "f6963e23",
   "metadata": {},
   "outputs": [],
   "source": [
    "df = pd.read_csv(\"data/shared_all_records.csv\")\n",
    "df.reset_index(drop=True, inplace=True)\n",
    "df = df.iloc[:, [0, 2, 1]]\n",
    "df['Time'] =  pd.to_datetime(df['Time'])\n",
    "df"
   ]
  },
  {
   "cell_type": "code",
   "execution_count": null,
   "id": "628c5f3c",
   "metadata": {},
   "outputs": [],
   "source": [
    "## Number of houses\n",
    "df.Location.nunique()"
   ]
  },
  {
   "cell_type": "code",
   "execution_count": null,
   "id": "314547f8",
   "metadata": {},
   "outputs": [],
   "source": [
    "df.dropna(inplace=True)\n",
    "df.reset_index(drop=True, inplace=True)\n",
    "df"
   ]
  },
  {
   "cell_type": "code",
   "execution_count": null,
   "id": "1b3d0cf8",
   "metadata": {},
   "outputs": [],
   "source": [
    "## Number of records per house\n",
    "df.Location.value_counts()"
   ]
  },
  {
   "cell_type": "code",
   "execution_count": null,
   "id": "0a263e4c",
   "metadata": {},
   "outputs": [],
   "source": [
    "#df.to_csv(\"../datasets/shared_complete.csv\", index=False)"
   ]
  },
  {
   "cell_type": "markdown",
   "id": "54c9d325",
   "metadata": {},
   "source": [
    "### Auxiliary functions"
   ]
  },
  {
   "cell_type": "code",
   "execution_count": 3,
   "id": "cd78e17d",
   "metadata": {},
   "outputs": [],
   "source": [
    "def plot_results(preds: np.array, actuals: np.array, title: str):\n",
    "    \n",
    "    plt.scatter(actuals, preds, c='b', label='predicted')\n",
    "    plt.xlabel('actual')\n",
    "    plt.ylabel('predicted')\n",
    "    plt.title(title)\n",
    "    plt.xlim(0, plt.xlim()[1])\n",
    "    plt.ylim(0, plt.ylim()[1])\n",
    "    _ = plt.plot([0, 100], [0, 100], '--r', label='y=x')\n",
    "    plt.legend()\n",
    "    plt.show()\n",
    "\n",
    "def truncate_metric(metric):\n",
    "    m = math.trunc(10000 * metric) / 10000\n",
    "    return m \n",
    "    \n",
    "def performance_metrics(preds: np.array, actuals: np.array, filename):\n",
    "\n",
    "    # calculate performance metrics\n",
    "    \n",
    "    mse = truncate_metric(mean_squared_error(actuals, preds))\n",
    "    wape = truncate_metric(np.sum(np.abs(preds - actuals)) / np.sum(np.abs(actuals))) * 100\n",
    "    r2 = truncate_metric(r2_score(actuals, preds))\n",
    "    \n",
    "    # print performance metrics\n",
    "    print('MSE: %.4f' % mse, file=filename)\n",
    "    print('WAPE: %.2f' % wape, file=filename)\n",
    "    print('R2: %.4f' % r2, file=filename)\n",
    "    return mse, wape, r2\n",
    "\n",
    "#@jit(target_backend='cuda')\n",
    "def build_model(estimator, X_train: np.array, y_train: np.array, X_test: np.array):\n",
    "    \n",
    "    model = estimator\n",
    "    model.fit(X_train, y_train)\n",
    "    preds = model.predict(X_test)\n",
    "    \n",
    "    return model, preds\n",
    "\n",
    "def validate(estimator, X_train, y_train):\n",
    "    scores = cross_validate(estimator, X_train, y_train, scoring=['r2', 'neg_mean_squared_error'])\n",
    "    return scores"
   ]
  },
  {
   "cell_type": "code",
   "execution_count": 4,
   "id": "8af19e8d",
   "metadata": {},
   "outputs": [],
   "source": [
    "def total_averaged_metrics(metrics_list, filename):\n",
    "    \n",
    "    print(\"Total Averaged MSE: {}\".format(np.round(sum(i for i, j, k in metrics_list)/len(metrics_list),3)), file=filename)\n",
    "    print(\"Total Averaged WAPE: {}\".format(np.round(sum(j for i, j, k in metrics_list)/len(metrics_list),3)), file=filename)\n",
    "    print(\"Total Averaged R2: {}\".format(np.round(sum(k for i, j, k in metrics_list)/len(metrics_list),3)), file=filename)\n",
    "\n",
    "def past_timesteps(df, number_of_timesteps):\n",
    "    for i in tqdm(range(1, (number_of_timesteps + 1))):\n",
    "        df.loc[df['Time'].shift(i) == df['Time'] - pd.Timedelta(i * 15, 'm'), f\"energy_lag_{i}\"] = df['Energy'].shift(i)\n",
    "    df.dropna(inplace=True)\n",
    "    df.reset_index(drop=True, inplace=True)\n",
    "    return df\n",
    "\n",
    "# def last_energy_points_full(df, number_timesteps, num_samples_per_house):\n",
    "#     X = pd.DataFrame()\n",
    "#     other_feats = df.iloc[:,:2]\n",
    "#     for i in range(1, (number_timesteps + 1) ):\n",
    "#         X[f'Energy_{i*15}'] = df['Energy'].shift(i)\n",
    "#     y = df.copy().iloc[:,2]\n",
    "#     y.iloc[:number_timesteps] = np.nan\n",
    "#     ## Remove samples in between each house\n",
    "#     for h in range(1, number_of_houses):\n",
    "#         for i in range(0, number_timesteps):\n",
    "#             X.iloc[(num_samples_per_house+i)*h] = np.nan\n",
    "#             y.iloc[(num_samples_per_house+i)*h] = np.nan\n",
    "#     X = pd.concat([other_feats, X], axis=1)\n",
    "#     X.dropna(inplace=True)\n",
    "#     X.reset_index(drop=True, inplace=True)\n",
    "#     y.dropna(inplace=True)\n",
    "#     y.reset_index(drop=True, inplace=True)\n",
    "#     y.columns = [\"Energy\"]\n",
    "#     dataframe = pd.concat([X,y.rename('Energy')], axis=1)\n",
    "#     assert number_of_houses == (df.shape[0] - dataframe.shape[0]) / number_timesteps, \"Something went wrong with preprocessing\"\n",
    "#     return dataframe\n",
    "    "
   ]
  },
  {
   "cell_type": "code",
   "execution_count": 5,
   "id": "9d0352ee",
   "metadata": {},
   "outputs": [],
   "source": [
    "def normalize_training(X_train):\n",
    "    scaler = MinMaxScaler(feature_range=(0,1))\n",
    "    scaler.fit(X_train)\n",
    "    X_train = scaler.transform(X_train)\n",
    "    return X_train, scaler"
   ]
  },
  {
   "cell_type": "markdown",
   "id": "bd1b0d17",
   "metadata": {},
   "source": [
    "### Cross Validate"
   ]
  },
  {
   "cell_type": "code",
   "execution_count": null,
   "id": "71efa19a",
   "metadata": {},
   "outputs": [],
   "source": [
    "#scores = validate(model, X_train, y_train)\n",
    "#cv_mse = np.round(scores['test_neg_mean_squared_error'].mean() * (-1),4)\n",
    "#cv_r2 = np.round(scores['test_r2'].mean(),5)\n",
    "#print(\"CV MSE: {} \".format(cv_mse))\n",
    "#print(\"CV R2: {} \".format(cv_r2))\n",
    "#metrics_list.append((cv_mse,cv_rmse,cv_mae,mape,cv_r2))"
   ]
  },
  {
   "cell_type": "markdown",
   "id": "0f5ba7c5",
   "metadata": {},
   "source": [
    "## Leave 10 houses for test (demonstration)"
   ]
  },
  {
   "cell_type": "code",
   "execution_count": null,
   "id": "fd9b27b9",
   "metadata": {},
   "outputs": [],
   "source": [
    "number_of_timesteps = 672"
   ]
  },
  {
   "cell_type": "code",
   "execution_count": null,
   "id": "ba9e7320",
   "metadata": {},
   "outputs": [],
   "source": [
    "locations = np.random.choice(df['Location'].unique(), size=3, replace=False)\n",
    "locations"
   ]
  },
  {
   "cell_type": "code",
   "execution_count": null,
   "id": "8f9027ef",
   "metadata": {},
   "outputs": [],
   "source": [
    "df_new = past_timesteps(df, number_of_timesteps)\n",
    "df_new"
   ]
  },
  {
   "cell_type": "code",
   "execution_count": null,
   "id": "d21dc03c",
   "metadata": {},
   "outputs": [],
   "source": [
    "df_new['DayOfWeek'] = df_new['Time'].dt.dayofweek\n",
    "df_new['Weekend'] = df_new['Time'].dt.dayofweek.isin([5,6]).astype(int)\n",
    "df_new['Hour'] = df_new['Time'].dt.hour\n",
    "df_new"
   ]
  },
  {
   "cell_type": "code",
   "execution_count": null,
   "id": "87a4c2e1",
   "metadata": {},
   "outputs": [],
   "source": [
    "df_new.to_csv(\"data/shared_oneweek.csv\", index=False)"
   ]
  },
  {
   "cell_type": "code",
   "execution_count": 6,
   "id": "daa9a0ea",
   "metadata": {},
   "outputs": [],
   "source": [
    "def test_leave_house_out(df, estimator, locations, filename):\n",
    "    # df_new = past_timesteps(df, number_timesteps)\n",
    "    # df_new['DayOfWeek'] = df_new['Time'].dt.dayofweek\n",
    "    # df_new['Weekend'] = df_new['Time'].dt.dayofweek.isin([5,6]).astype(int)\n",
    "    # df_new['Hour'] = df_new['Time'].dt.hour\n",
    "    test = df[df['Location'].isin(locations)]\n",
    "    train = df[~df['Location'].isin(locations)]\n",
    "    print(\"Train set: \", train.shape)\n",
    "    print(\"Test set: \", test.shape)\n",
    "    X_train = train.drop(['Time', 'Energy', 'Location'], axis=1)\n",
    "    X_test = test.drop(['Time', 'Energy', 'Location'], axis=1)\n",
    "    y_train = train['Energy']\n",
    "    y_test = test['Energy']\n",
    "    X_train_norm, scaler = normalize_training(X_train)\n",
    "    X_test_norm = scaler.transform(X_test)\n",
    "\n",
    "    model = estimator\n",
    "    init = time.time()\n",
    "    model.fit(X_train_norm, y_train)\n",
    "    y_pred = model.predict(X_test_norm)\n",
    "    end = time.time()\n",
    "    print('Elapsed time: {:.4f} s'.format(end - init), file=filename)\n",
    "    mse, wape, r2 = performance_metrics(y_pred, y_test.values.reshape(-1), filename)\n",
    "    return mse, wape, r2, model"
   ]
  },
  {
   "cell_type": "markdown",
   "id": "47b7a1a3",
   "metadata": {},
   "source": [
    "## Predict  10 folds with 10 random houses for test"
   ]
  },
  {
   "cell_type": "code",
   "execution_count": 7,
   "id": "8aa82ba0",
   "metadata": {},
   "outputs": [
    {
     "data": {
      "text/html": [
       "<div>\n",
       "<style scoped>\n",
       "    .dataframe tbody tr th:only-of-type {\n",
       "        vertical-align: middle;\n",
       "    }\n",
       "\n",
       "    .dataframe tbody tr th {\n",
       "        vertical-align: top;\n",
       "    }\n",
       "\n",
       "    .dataframe thead th {\n",
       "        text-align: right;\n",
       "    }\n",
       "</style>\n",
       "<table border=\"1\" class=\"dataframe\">\n",
       "  <thead>\n",
       "    <tr style=\"text-align: right;\">\n",
       "      <th></th>\n",
       "      <th>Time</th>\n",
       "      <th>Location</th>\n",
       "      <th>energy_lag_1</th>\n",
       "      <th>energy_lag_398</th>\n",
       "      <th>energy_lag_87</th>\n",
       "      <th>energy_lag_249</th>\n",
       "      <th>energy_lag_190</th>\n",
       "      <th>energy_lag_671</th>\n",
       "      <th>energy_lag_459</th>\n",
       "      <th>energy_lag_93</th>\n",
       "      <th>...</th>\n",
       "      <th>energy_lag_20</th>\n",
       "      <th>energy_lag_433</th>\n",
       "      <th>energy_lag_82</th>\n",
       "      <th>energy_lag_152</th>\n",
       "      <th>energy_lag_2</th>\n",
       "      <th>energy_lag_641</th>\n",
       "      <th>energy_lag_66</th>\n",
       "      <th>energy_lag_210</th>\n",
       "      <th>energy_lag_340</th>\n",
       "      <th>Energy</th>\n",
       "    </tr>\n",
       "  </thead>\n",
       "  <tbody>\n",
       "    <tr>\n",
       "      <th>0</th>\n",
       "      <td>2020-10-13 00:15:00</td>\n",
       "      <td>PT41CV</td>\n",
       "      <td>0.080</td>\n",
       "      <td>0.064</td>\n",
       "      <td>0.056</td>\n",
       "      <td>0.112</td>\n",
       "      <td>0.112</td>\n",
       "      <td>0.072</td>\n",
       "      <td>0.080</td>\n",
       "      <td>0.040</td>\n",
       "      <td>...</td>\n",
       "      <td>0.088</td>\n",
       "      <td>0.080</td>\n",
       "      <td>0.052</td>\n",
       "      <td>0.028</td>\n",
       "      <td>0.084</td>\n",
       "      <td>0.056</td>\n",
       "      <td>0.080</td>\n",
       "      <td>0.116</td>\n",
       "      <td>0.032</td>\n",
       "      <td>0.036</td>\n",
       "    </tr>\n",
       "    <tr>\n",
       "      <th>1</th>\n",
       "      <td>2020-10-13 00:30:00</td>\n",
       "      <td>PT41CV</td>\n",
       "      <td>0.036</td>\n",
       "      <td>0.116</td>\n",
       "      <td>0.056</td>\n",
       "      <td>0.032</td>\n",
       "      <td>0.028</td>\n",
       "      <td>0.072</td>\n",
       "      <td>0.104</td>\n",
       "      <td>0.064</td>\n",
       "      <td>...</td>\n",
       "      <td>0.092</td>\n",
       "      <td>0.088</td>\n",
       "      <td>0.052</td>\n",
       "      <td>0.072</td>\n",
       "      <td>0.080</td>\n",
       "      <td>0.112</td>\n",
       "      <td>0.084</td>\n",
       "      <td>0.048</td>\n",
       "      <td>0.036</td>\n",
       "      <td>0.084</td>\n",
       "    </tr>\n",
       "    <tr>\n",
       "      <th>2</th>\n",
       "      <td>2020-10-13 00:45:00</td>\n",
       "      <td>PT41CV</td>\n",
       "      <td>0.084</td>\n",
       "      <td>0.040</td>\n",
       "      <td>0.056</td>\n",
       "      <td>0.036</td>\n",
       "      <td>0.036</td>\n",
       "      <td>0.068</td>\n",
       "      <td>0.028</td>\n",
       "      <td>0.064</td>\n",
       "      <td>...</td>\n",
       "      <td>0.084</td>\n",
       "      <td>0.032</td>\n",
       "      <td>0.052</td>\n",
       "      <td>0.096</td>\n",
       "      <td>0.036</td>\n",
       "      <td>0.028</td>\n",
       "      <td>0.060</td>\n",
       "      <td>0.028</td>\n",
       "      <td>0.116</td>\n",
       "      <td>0.104</td>\n",
       "    </tr>\n",
       "    <tr>\n",
       "      <th>3</th>\n",
       "      <td>2020-10-13 01:00:00</td>\n",
       "      <td>PT41CV</td>\n",
       "      <td>0.104</td>\n",
       "      <td>0.028</td>\n",
       "      <td>0.056</td>\n",
       "      <td>0.120</td>\n",
       "      <td>0.120</td>\n",
       "      <td>0.032</td>\n",
       "      <td>0.048</td>\n",
       "      <td>0.060</td>\n",
       "      <td>...</td>\n",
       "      <td>0.088</td>\n",
       "      <td>0.064</td>\n",
       "      <td>0.052</td>\n",
       "      <td>0.032</td>\n",
       "      <td>0.084</td>\n",
       "      <td>0.040</td>\n",
       "      <td>0.064</td>\n",
       "      <td>0.100</td>\n",
       "      <td>0.048</td>\n",
       "      <td>0.036</td>\n",
       "    </tr>\n",
       "    <tr>\n",
       "      <th>4</th>\n",
       "      <td>2020-10-13 01:15:00</td>\n",
       "      <td>PT41CV</td>\n",
       "      <td>0.036</td>\n",
       "      <td>0.116</td>\n",
       "      <td>0.056</td>\n",
       "      <td>0.044</td>\n",
       "      <td>0.056</td>\n",
       "      <td>0.040</td>\n",
       "      <td>0.116</td>\n",
       "      <td>0.060</td>\n",
       "      <td>...</td>\n",
       "      <td>0.084</td>\n",
       "      <td>0.108</td>\n",
       "      <td>0.052</td>\n",
       "      <td>0.048</td>\n",
       "      <td>0.104</td>\n",
       "      <td>0.116</td>\n",
       "      <td>0.064</td>\n",
       "      <td>0.080</td>\n",
       "      <td>0.028</td>\n",
       "      <td>0.060</td>\n",
       "    </tr>\n",
       "    <tr>\n",
       "      <th>...</th>\n",
       "      <td>...</td>\n",
       "      <td>...</td>\n",
       "      <td>...</td>\n",
       "      <td>...</td>\n",
       "      <td>...</td>\n",
       "      <td>...</td>\n",
       "      <td>...</td>\n",
       "      <td>...</td>\n",
       "      <td>...</td>\n",
       "      <td>...</td>\n",
       "      <td>...</td>\n",
       "      <td>...</td>\n",
       "      <td>...</td>\n",
       "      <td>...</td>\n",
       "      <td>...</td>\n",
       "      <td>...</td>\n",
       "      <td>...</td>\n",
       "      <td>...</td>\n",
       "      <td>...</td>\n",
       "      <td>...</td>\n",
       "      <td>...</td>\n",
       "    </tr>\n",
       "    <tr>\n",
       "      <th>554229</th>\n",
       "      <td>2022-11-25 00:00:00</td>\n",
       "      <td>PT87ZW</td>\n",
       "      <td>0.812</td>\n",
       "      <td>1.172</td>\n",
       "      <td>0.616</td>\n",
       "      <td>0.532</td>\n",
       "      <td>0.560</td>\n",
       "      <td>0.472</td>\n",
       "      <td>0.464</td>\n",
       "      <td>0.732</td>\n",
       "      <td>...</td>\n",
       "      <td>1.032</td>\n",
       "      <td>0.772</td>\n",
       "      <td>0.688</td>\n",
       "      <td>0.532</td>\n",
       "      <td>0.756</td>\n",
       "      <td>0.584</td>\n",
       "      <td>0.848</td>\n",
       "      <td>2.004</td>\n",
       "      <td>0.560</td>\n",
       "      <td>0.764</td>\n",
       "    </tr>\n",
       "    <tr>\n",
       "      <th>554230</th>\n",
       "      <td>2022-11-25 00:15:00</td>\n",
       "      <td>PT87ZW</td>\n",
       "      <td>0.764</td>\n",
       "      <td>1.040</td>\n",
       "      <td>0.612</td>\n",
       "      <td>0.468</td>\n",
       "      <td>0.700</td>\n",
       "      <td>0.532</td>\n",
       "      <td>0.468</td>\n",
       "      <td>0.628</td>\n",
       "      <td>...</td>\n",
       "      <td>1.980</td>\n",
       "      <td>0.884</td>\n",
       "      <td>0.600</td>\n",
       "      <td>0.552</td>\n",
       "      <td>0.812</td>\n",
       "      <td>0.576</td>\n",
       "      <td>0.688</td>\n",
       "      <td>0.912</td>\n",
       "      <td>0.480</td>\n",
       "      <td>0.660</td>\n",
       "    </tr>\n",
       "    <tr>\n",
       "      <th>554231</th>\n",
       "      <td>2022-11-25 00:30:00</td>\n",
       "      <td>PT87ZW</td>\n",
       "      <td>0.660</td>\n",
       "      <td>0.976</td>\n",
       "      <td>0.636</td>\n",
       "      <td>0.432</td>\n",
       "      <td>0.600</td>\n",
       "      <td>0.520</td>\n",
       "      <td>0.488</td>\n",
       "      <td>0.632</td>\n",
       "      <td>...</td>\n",
       "      <td>1.872</td>\n",
       "      <td>0.864</td>\n",
       "      <td>0.620</td>\n",
       "      <td>0.560</td>\n",
       "      <td>0.764</td>\n",
       "      <td>0.544</td>\n",
       "      <td>0.648</td>\n",
       "      <td>0.992</td>\n",
       "      <td>0.572</td>\n",
       "      <td>0.692</td>\n",
       "    </tr>\n",
       "    <tr>\n",
       "      <th>554232</th>\n",
       "      <td>2022-11-25 00:45:00</td>\n",
       "      <td>PT87ZW</td>\n",
       "      <td>0.692</td>\n",
       "      <td>0.988</td>\n",
       "      <td>0.644</td>\n",
       "      <td>0.428</td>\n",
       "      <td>0.600</td>\n",
       "      <td>0.440</td>\n",
       "      <td>0.320</td>\n",
       "      <td>0.628</td>\n",
       "      <td>...</td>\n",
       "      <td>0.688</td>\n",
       "      <td>1.772</td>\n",
       "      <td>0.628</td>\n",
       "      <td>0.472</td>\n",
       "      <td>0.660</td>\n",
       "      <td>0.508</td>\n",
       "      <td>0.720</td>\n",
       "      <td>0.968</td>\n",
       "      <td>0.708</td>\n",
       "      <td>0.660</td>\n",
       "    </tr>\n",
       "    <tr>\n",
       "      <th>554233</th>\n",
       "      <td>2022-11-25 01:00:00</td>\n",
       "      <td>PT87ZW</td>\n",
       "      <td>0.660</td>\n",
       "      <td>0.988</td>\n",
       "      <td>0.784</td>\n",
       "      <td>0.420</td>\n",
       "      <td>0.540</td>\n",
       "      <td>0.428</td>\n",
       "      <td>0.620</td>\n",
       "      <td>0.660</td>\n",
       "      <td>...</td>\n",
       "      <td>0.552</td>\n",
       "      <td>0.932</td>\n",
       "      <td>0.680</td>\n",
       "      <td>0.472</td>\n",
       "      <td>0.692</td>\n",
       "      <td>0.536</td>\n",
       "      <td>0.672</td>\n",
       "      <td>1.060</td>\n",
       "      <td>0.588</td>\n",
       "      <td>0.644</td>\n",
       "    </tr>\n",
       "  </tbody>\n",
       "</table>\n",
       "<p>554234 rows × 43 columns</p>\n",
       "</div>"
      ],
      "text/plain": [
       "                       Time Location  energy_lag_1  energy_lag_398  \\\n",
       "0       2020-10-13 00:15:00   PT41CV         0.080           0.064   \n",
       "1       2020-10-13 00:30:00   PT41CV         0.036           0.116   \n",
       "2       2020-10-13 00:45:00   PT41CV         0.084           0.040   \n",
       "3       2020-10-13 01:00:00   PT41CV         0.104           0.028   \n",
       "4       2020-10-13 01:15:00   PT41CV         0.036           0.116   \n",
       "...                     ...      ...           ...             ...   \n",
       "554229  2022-11-25 00:00:00   PT87ZW         0.812           1.172   \n",
       "554230  2022-11-25 00:15:00   PT87ZW         0.764           1.040   \n",
       "554231  2022-11-25 00:30:00   PT87ZW         0.660           0.976   \n",
       "554232  2022-11-25 00:45:00   PT87ZW         0.692           0.988   \n",
       "554233  2022-11-25 01:00:00   PT87ZW         0.660           0.988   \n",
       "\n",
       "        energy_lag_87  energy_lag_249  energy_lag_190  energy_lag_671  \\\n",
       "0               0.056           0.112           0.112           0.072   \n",
       "1               0.056           0.032           0.028           0.072   \n",
       "2               0.056           0.036           0.036           0.068   \n",
       "3               0.056           0.120           0.120           0.032   \n",
       "4               0.056           0.044           0.056           0.040   \n",
       "...               ...             ...             ...             ...   \n",
       "554229          0.616           0.532           0.560           0.472   \n",
       "554230          0.612           0.468           0.700           0.532   \n",
       "554231          0.636           0.432           0.600           0.520   \n",
       "554232          0.644           0.428           0.600           0.440   \n",
       "554233          0.784           0.420           0.540           0.428   \n",
       "\n",
       "        energy_lag_459  energy_lag_93  ...  energy_lag_20  energy_lag_433  \\\n",
       "0                0.080          0.040  ...          0.088           0.080   \n",
       "1                0.104          0.064  ...          0.092           0.088   \n",
       "2                0.028          0.064  ...          0.084           0.032   \n",
       "3                0.048          0.060  ...          0.088           0.064   \n",
       "4                0.116          0.060  ...          0.084           0.108   \n",
       "...                ...            ...  ...            ...             ...   \n",
       "554229           0.464          0.732  ...          1.032           0.772   \n",
       "554230           0.468          0.628  ...          1.980           0.884   \n",
       "554231           0.488          0.632  ...          1.872           0.864   \n",
       "554232           0.320          0.628  ...          0.688           1.772   \n",
       "554233           0.620          0.660  ...          0.552           0.932   \n",
       "\n",
       "        energy_lag_82  energy_lag_152  energy_lag_2  energy_lag_641  \\\n",
       "0               0.052           0.028         0.084           0.056   \n",
       "1               0.052           0.072         0.080           0.112   \n",
       "2               0.052           0.096         0.036           0.028   \n",
       "3               0.052           0.032         0.084           0.040   \n",
       "4               0.052           0.048         0.104           0.116   \n",
       "...               ...             ...           ...             ...   \n",
       "554229          0.688           0.532         0.756           0.584   \n",
       "554230          0.600           0.552         0.812           0.576   \n",
       "554231          0.620           0.560         0.764           0.544   \n",
       "554232          0.628           0.472         0.660           0.508   \n",
       "554233          0.680           0.472         0.692           0.536   \n",
       "\n",
       "        energy_lag_66  energy_lag_210  energy_lag_340  Energy  \n",
       "0               0.080           0.116           0.032   0.036  \n",
       "1               0.084           0.048           0.036   0.084  \n",
       "2               0.060           0.028           0.116   0.104  \n",
       "3               0.064           0.100           0.048   0.036  \n",
       "4               0.064           0.080           0.028   0.060  \n",
       "...               ...             ...             ...     ...  \n",
       "554229          0.848           2.004           0.560   0.764  \n",
       "554230          0.688           0.912           0.480   0.660  \n",
       "554231          0.648           0.992           0.572   0.692  \n",
       "554232          0.720           0.968           0.708   0.660  \n",
       "554233          0.672           1.060           0.588   0.644  \n",
       "\n",
       "[554234 rows x 43 columns]"
      ]
     },
     "execution_count": 7,
     "metadata": {},
     "output_type": "execute_result"
    }
   ],
   "source": [
    "df = pd.read_csv(\"data/shared_best40features.csv\")\n",
    "df"
   ]
  },
  {
   "cell_type": "code",
   "execution_count": 8,
   "id": "bb6cf023",
   "metadata": {},
   "outputs": [
    {
     "data": {
      "text/plain": [
       "0"
      ]
     },
     "execution_count": 8,
     "metadata": {},
     "output_type": "execute_result"
    }
   ],
   "source": [
    "df.isna().sum().sum()"
   ]
  },
  {
   "cell_type": "code",
   "execution_count": 9,
   "id": "a92783d8",
   "metadata": {},
   "outputs": [],
   "source": [
    "num_houses_test = 3"
   ]
  },
  {
   "cell_type": "code",
   "execution_count": 10,
   "id": "3b8166de",
   "metadata": {},
   "outputs": [
    {
     "data": {
      "text/plain": [
       "[array(['PT48JB', 'PT87ZW', 'PT69QG'], dtype=object),\n",
       " array(['PT15VP', 'PT69QG', 'PT48JB'], dtype=object),\n",
       " array(['PT87RW', 'PT17RW', 'PT51SH'], dtype=object),\n",
       " array(['PT51SH', 'PT07ZR', 'PT17RW'], dtype=object),\n",
       " array(['PT87RW', 'PT42JN', 'PT41CV'], dtype=object),\n",
       " array(['PT87RW', 'PT44AL', 'PT43QL'], dtype=object),\n",
       " array(['PT87ZW', 'PT07ZR', 'PT17RW'], dtype=object),\n",
       " array(['PT87ZW', 'PT42JN', 'PT51SH'], dtype=object),\n",
       " array(['PT41CV', 'PT17RW', 'PT42JN'], dtype=object),\n",
       " array(['PT15VP', 'PT41CV', 'PT48JB'], dtype=object)]"
      ]
     },
     "execution_count": 10,
     "metadata": {},
     "output_type": "execute_result"
    }
   ],
   "source": [
    "locations = []\n",
    "for i in range(10):\n",
    "    np.random.seed(i*4)\n",
    "    l = np.random.choice(df['Location'].unique(), size=num_houses_test, replace=False)\n",
    "    locations.append(l)\n",
    "locations"
   ]
  },
  {
   "cell_type": "markdown",
   "id": "30e48b6b",
   "metadata": {},
   "source": [
    "### Linear Regression"
   ]
  },
  {
   "cell_type": "code",
   "execution_count": 11,
   "id": "29000235",
   "metadata": {},
   "outputs": [
    {
     "name": "stdout",
     "output_type": "stream",
     "text": [
      "Train set:  (407465, 43)\n",
      "Test set:  (146769, 43)\n",
      "Train set:  (443753, 43)\n",
      "Test set:  (110481, 43)\n",
      "Train set:  (393087, 43)\n",
      "Test set:  (161147, 43)\n",
      "Train set:  (439723, 43)\n",
      "Test set:  (114511, 43)\n",
      "Train set:  (402960, 43)\n",
      "Test set:  (151274, 43)\n",
      "Train set:  (399895, 43)\n",
      "Test set:  (154339, 43)\n",
      "Train set:  (400555, 43)\n",
      "Test set:  (153679, 43)\n",
      "Train set:  (419071, 43)\n",
      "Test set:  (135163, 43)\n",
      "Train set:  (373967, 43)\n",
      "Test set:  (180267, 43)\n",
      "Train set:  (406029, 43)\n",
      "Test set:  (148205, 43)\n"
     ]
    }
   ],
   "source": [
    "metrics_list_lr = []\n",
    "print(\"\\n----------------------------\", file=sourceFile)\n",
    "print(\"\\nLinear Regression\\n\", file=sourceFile)\n",
    "print(\"----------------------------\\n\", file=sourceFile)\n",
    "for i in range(10):\n",
    "    print(\"\\nIteration\", i, file=sourceFile)\n",
    "    mse, wape, r2, model_lr = test_leave_house_out(df, LinearRegression(), locations[i], sourceFile)\n",
    "    metrics_list_lr.append((mse, wape, r2))"
   ]
  },
  {
   "cell_type": "markdown",
   "id": "4f05fe8f",
   "metadata": {},
   "source": [
    "### XGBoost"
   ]
  },
  {
   "cell_type": "code",
   "execution_count": 12,
   "id": "a9cfe1a7",
   "metadata": {},
   "outputs": [
    {
     "name": "stdout",
     "output_type": "stream",
     "text": [
      "Train set:  (407465, 43)\n",
      "Test set:  (146769, 43)\n",
      "Train set:  (443753, 43)\n",
      "Test set:  (110481, 43)\n",
      "Train set:  (393087, 43)\n",
      "Test set:  (161147, 43)\n",
      "Train set:  (439723, 43)\n",
      "Test set:  (114511, 43)\n",
      "Train set:  (402960, 43)\n",
      "Test set:  (151274, 43)\n",
      "Train set:  (399895, 43)\n",
      "Test set:  (154339, 43)\n",
      "Train set:  (400555, 43)\n",
      "Test set:  (153679, 43)\n",
      "Train set:  (419071, 43)\n",
      "Test set:  (135163, 43)\n",
      "Train set:  (373967, 43)\n",
      "Test set:  (180267, 43)\n",
      "Train set:  (406029, 43)\n",
      "Test set:  (148205, 43)\n"
     ]
    }
   ],
   "source": [
    "metrics_list_xgb = []\n",
    "print(\"\\n----------------------------\", file=sourceFile)\n",
    "print(\"\\nXGBoost\\n\", file=sourceFile)\n",
    "print(\"----------------------------\\n\", file=sourceFile)\n",
    "for i in range(10):\n",
    "    print(\"\\nIteration\", i, file=sourceFile)\n",
    "    mse, wape, r2, model_xgb = test_leave_house_out(df, xgb.XGBRegressor(tree_method='gpu_hist', seed=0), locations[i], sourceFile)\n",
    "    metrics_list_xgb.append((mse, wape, r2))"
   ]
  },
  {
   "cell_type": "markdown",
   "id": "bc81a8ce",
   "metadata": {},
   "source": [
    "### Random Forest"
   ]
  },
  {
   "cell_type": "code",
   "execution_count": 13,
   "id": "81a082e6",
   "metadata": {},
   "outputs": [
    {
     "name": "stdout",
     "output_type": "stream",
     "text": [
      "Train set:  (407465, 43)\n",
      "Test set:  (146769, 43)\n"
     ]
    },
    {
     "name": "stderr",
     "output_type": "stream",
     "text": [
      "/home/francisco.monteiro@av.it.pt/miniconda3/envs/rapids-23.02/lib/python3.8/site-packages/cuml/internals/api_decorators.py:190: UserWarning: To use pickling first train using float32 data to fit the estimator\n",
      "  ret = func(*args, **kwargs)\n"
     ]
    },
    {
     "name": "stdout",
     "output_type": "stream",
     "text": [
      "Train set:  (443753, 43)\n",
      "Test set:  (110481, 43)\n"
     ]
    },
    {
     "name": "stderr",
     "output_type": "stream",
     "text": [
      "/home/francisco.monteiro@av.it.pt/miniconda3/envs/rapids-23.02/lib/python3.8/site-packages/cuml/internals/api_decorators.py:190: UserWarning: To use pickling first train using float32 data to fit the estimator\n",
      "  ret = func(*args, **kwargs)\n"
     ]
    },
    {
     "name": "stdout",
     "output_type": "stream",
     "text": [
      "Train set:  (393087, 43)\n",
      "Test set:  (161147, 43)\n"
     ]
    },
    {
     "name": "stderr",
     "output_type": "stream",
     "text": [
      "/home/francisco.monteiro@av.it.pt/miniconda3/envs/rapids-23.02/lib/python3.8/site-packages/cuml/internals/api_decorators.py:190: UserWarning: To use pickling first train using float32 data to fit the estimator\n",
      "  ret = func(*args, **kwargs)\n"
     ]
    },
    {
     "name": "stdout",
     "output_type": "stream",
     "text": [
      "Train set:  (439723, 43)\n",
      "Test set:  (114511, 43)\n"
     ]
    },
    {
     "name": "stderr",
     "output_type": "stream",
     "text": [
      "/home/francisco.monteiro@av.it.pt/miniconda3/envs/rapids-23.02/lib/python3.8/site-packages/cuml/internals/api_decorators.py:190: UserWarning: To use pickling first train using float32 data to fit the estimator\n",
      "  ret = func(*args, **kwargs)\n"
     ]
    },
    {
     "name": "stdout",
     "output_type": "stream",
     "text": [
      "Train set:  (402960, 43)\n",
      "Test set:  (151274, 43)\n"
     ]
    },
    {
     "name": "stderr",
     "output_type": "stream",
     "text": [
      "/home/francisco.monteiro@av.it.pt/miniconda3/envs/rapids-23.02/lib/python3.8/site-packages/cuml/internals/api_decorators.py:190: UserWarning: To use pickling first train using float32 data to fit the estimator\n",
      "  ret = func(*args, **kwargs)\n"
     ]
    },
    {
     "name": "stdout",
     "output_type": "stream",
     "text": [
      "Train set:  (399895, 43)\n",
      "Test set:  (154339, 43)\n"
     ]
    },
    {
     "name": "stderr",
     "output_type": "stream",
     "text": [
      "/home/francisco.monteiro@av.it.pt/miniconda3/envs/rapids-23.02/lib/python3.8/site-packages/cuml/internals/api_decorators.py:190: UserWarning: To use pickling first train using float32 data to fit the estimator\n",
      "  ret = func(*args, **kwargs)\n"
     ]
    },
    {
     "name": "stdout",
     "output_type": "stream",
     "text": [
      "Train set:  (400555, 43)\n",
      "Test set:  (153679, 43)\n"
     ]
    },
    {
     "name": "stderr",
     "output_type": "stream",
     "text": [
      "/home/francisco.monteiro@av.it.pt/miniconda3/envs/rapids-23.02/lib/python3.8/site-packages/cuml/internals/api_decorators.py:190: UserWarning: To use pickling first train using float32 data to fit the estimator\n",
      "  ret = func(*args, **kwargs)\n"
     ]
    },
    {
     "name": "stdout",
     "output_type": "stream",
     "text": [
      "Train set:  (419071, 43)\n",
      "Test set:  (135163, 43)\n"
     ]
    },
    {
     "name": "stderr",
     "output_type": "stream",
     "text": [
      "/home/francisco.monteiro@av.it.pt/miniconda3/envs/rapids-23.02/lib/python3.8/site-packages/cuml/internals/api_decorators.py:190: UserWarning: To use pickling first train using float32 data to fit the estimator\n",
      "  ret = func(*args, **kwargs)\n"
     ]
    },
    {
     "name": "stdout",
     "output_type": "stream",
     "text": [
      "Train set:  (373967, 43)\n",
      "Test set:  (180267, 43)\n"
     ]
    },
    {
     "name": "stderr",
     "output_type": "stream",
     "text": [
      "/home/francisco.monteiro@av.it.pt/miniconda3/envs/rapids-23.02/lib/python3.8/site-packages/cuml/internals/api_decorators.py:190: UserWarning: To use pickling first train using float32 data to fit the estimator\n",
      "  ret = func(*args, **kwargs)\n"
     ]
    },
    {
     "name": "stdout",
     "output_type": "stream",
     "text": [
      "Train set:  (406029, 43)\n",
      "Test set:  (148205, 43)\n"
     ]
    },
    {
     "name": "stderr",
     "output_type": "stream",
     "text": [
      "/home/francisco.monteiro@av.it.pt/miniconda3/envs/rapids-23.02/lib/python3.8/site-packages/cuml/internals/api_decorators.py:190: UserWarning: To use pickling first train using float32 data to fit the estimator\n",
      "  ret = func(*args, **kwargs)\n"
     ]
    }
   ],
   "source": [
    "metrics_list_rf = []\n",
    "print(\"\\n----------------------------\", file=sourceFile)\n",
    "print(\"\\nRandom Forest\\n\", file=sourceFile)\n",
    "print(\"----------------------------\\n\", file=sourceFile)\n",
    "for i in range(10):\n",
    "    print(\"\\nIteration\", i, file=sourceFile)\n",
    "    mse, wape, r2, model_rf = test_leave_house_out(df, cuRF(), locations[i], sourceFile)\n",
    "    metrics_list_rf.append((mse, wape, r2))"
   ]
  },
  {
   "attachments": {},
   "cell_type": "markdown",
   "id": "acf0bc50",
   "metadata": {},
   "source": [
    "## Averaged Metrics"
   ]
  },
  {
   "cell_type": "code",
   "execution_count": 14,
   "id": "5ba79fd9",
   "metadata": {},
   "outputs": [],
   "source": [
    "print(\"\\n\\n\\n\", file=sourceFile)"
   ]
  },
  {
   "cell_type": "code",
   "execution_count": 15,
   "id": "9038241b",
   "metadata": {},
   "outputs": [],
   "source": [
    "print(\"\\nLinear Regression\", file=sourceFile)\n",
    "total_averaged_metrics(metrics_list_lr, sourceFile)"
   ]
  },
  {
   "cell_type": "code",
   "execution_count": 16,
   "id": "c4d11803",
   "metadata": {},
   "outputs": [],
   "source": [
    "print(\"\\nXGBoost\", file=sourceFile)\n",
    "total_averaged_metrics(metrics_list_xgb, sourceFile)"
   ]
  },
  {
   "cell_type": "code",
   "execution_count": 17,
   "id": "387e0bf7",
   "metadata": {},
   "outputs": [],
   "source": [
    "print(\"\\nRandom Forest\", file=sourceFile)\n",
    "total_averaged_metrics(metrics_list_rf, sourceFile)"
   ]
  },
  {
   "cell_type": "code",
   "execution_count": 20,
   "id": "289c92d1",
   "metadata": {},
   "outputs": [],
   "source": [
    "sourceFile.close()"
   ]
  },
  {
   "attachments": {},
   "cell_type": "markdown",
   "id": "5457d9ea",
   "metadata": {},
   "source": [
    "### Feature Importance"
   ]
  },
  {
   "cell_type": "code",
   "execution_count": 18,
   "id": "071d8a2e",
   "metadata": {},
   "outputs": [
    {
     "name": "stdout",
     "output_type": "stream",
     "text": [
      "Linear Regression\n",
      "\n",
      "Feature: 0, Score: 10.37516\n",
      "Feature: 1, Score: 0.01851\n",
      "Feature: 2, Score: 0.11453\n",
      "Feature: 3, Score: 0.02808\n",
      "Feature: 4, Score: 0.20561\n",
      "Feature: 5, Score: 0.62322\n",
      "Feature: 6, Score: 0.05595\n",
      "Feature: 7, Score: 0.23518\n",
      "Feature: 8, Score: 0.01361\n",
      "Feature: 9, Score: -0.00343\n",
      "Feature: 10, Score: 0.57494\n",
      "Feature: 11, Score: 0.11135\n",
      "Feature: 12, Score: -0.03685\n",
      "Feature: 13, Score: 0.29513\n",
      "Feature: 14, Score: 0.01667\n",
      "Feature: 15, Score: 0.00514\n",
      "Feature: 16, Score: 0.09767\n",
      "Feature: 17, Score: 0.96528\n",
      "Feature: 18, Score: 0.00326\n",
      "Feature: 19, Score: 0.59032\n",
      "Feature: 20, Score: 0.02674\n",
      "Feature: 21, Score: 0.01490\n",
      "Feature: 22, Score: 0.06945\n",
      "Feature: 23, Score: 0.44904\n",
      "Feature: 24, Score: -0.02822\n",
      "Feature: 25, Score: 0.22197\n",
      "Feature: 26, Score: 0.03539\n",
      "Feature: 27, Score: -0.05425\n",
      "Feature: 28, Score: -0.02455\n",
      "Feature: 29, Score: 0.36802\n",
      "Feature: 30, Score: 0.38966\n",
      "Feature: 31, Score: 0.21131\n",
      "Feature: 32, Score: 0.00864\n",
      "Feature: 33, Score: 0.13396\n",
      "Feature: 34, Score: -0.00967\n",
      "Feature: 35, Score: -1.04234\n",
      "Feature: 36, Score: -0.02080\n",
      "Feature: 37, Score: 0.03202\n",
      "Feature: 38, Score: -0.03778\n",
      "Feature: 39, Score: -0.00443\n",
      "XGBoost\n",
      "\n",
      "Feature: 0, Score: 0.46589\n",
      "Feature: 1, Score: 0.00923\n",
      "Feature: 2, Score: 0.01255\n",
      "Feature: 3, Score: 0.01205\n",
      "Feature: 4, Score: 0.01594\n",
      "Feature: 5, Score: 0.02288\n",
      "Feature: 6, Score: 0.01047\n",
      "Feature: 7, Score: 0.01521\n",
      "Feature: 8, Score: 0.00938\n",
      "Feature: 9, Score: 0.01201\n",
      "Feature: 10, Score: 0.01834\n",
      "Feature: 11, Score: 0.01471\n",
      "Feature: 12, Score: 0.01234\n",
      "Feature: 13, Score: 0.01741\n",
      "Feature: 14, Score: 0.01212\n",
      "Feature: 15, Score: 0.00929\n",
      "Feature: 16, Score: 0.01596\n",
      "Feature: 17, Score: 0.02341\n",
      "Feature: 18, Score: 0.00995\n",
      "Feature: 19, Score: 0.01669\n",
      "Feature: 20, Score: 0.02276\n",
      "Feature: 21, Score: 0.01107\n",
      "Feature: 22, Score: 0.01334\n",
      "Feature: 23, Score: 0.01545\n",
      "Feature: 24, Score: 0.01091\n",
      "Feature: 25, Score: 0.01309\n",
      "Feature: 26, Score: 0.01058\n",
      "Feature: 27, Score: 0.01103\n",
      "Feature: 28, Score: 0.01064\n",
      "Feature: 29, Score: 0.01578\n",
      "Feature: 30, Score: 0.01508\n",
      "Feature: 31, Score: 0.01079\n",
      "Feature: 32, Score: 0.01045\n",
      "Feature: 33, Score: 0.01246\n",
      "Feature: 34, Score: 0.01260\n",
      "Feature: 35, Score: 0.02318\n",
      "Feature: 36, Score: 0.01164\n",
      "Feature: 37, Score: 0.00988\n",
      "Feature: 38, Score: 0.01193\n",
      "Feature: 39, Score: 0.01153\n"
     ]
    }
   ],
   "source": [
    "print('Linear Regression\\n')\n",
    "for i,v in enumerate(model_lr.coef_):\n",
    "    print('Feature: %0d, Score: %.5f' % (i,v))\n",
    "print('XGBoost\\n')\n",
    "for i,v in enumerate(model_xgb.feature_importances_):\n",
    "    print('Feature: %0d, Score: %.5f' % (i,v))"
   ]
  },
  {
   "cell_type": "code",
   "execution_count": 19,
   "id": "0f698b11",
   "metadata": {},
   "outputs": [
    {
     "data": {
      "image/png": "[encoded data removed]",
      "text/plain": [
       "<Figure size 640x480 with 1 Axes>"
      ]
     },
     "metadata": {},
     "output_type": "display_data"
    }
   ],
   "source": [
    "plt.bar(range(len(model_xgb.feature_importances_)),model_xgb.feature_importances_)\n",
    "plt.title('Feature Importance')\n",
    "plt.xlabel('Feature')\n",
    "plt.ylabel('Importance')\n",
    "plt.show()"
   ]
  },
  {
   "cell_type": "code",
   "execution_count": 21,
   "id": "c7282910",
   "metadata": {},
   "outputs": [
    {
     "data": {
      "image/png": "[encoded data removed]",
      "text/plain": [
       "<Figure size 640x480 with 1 Axes>"
      ]
     },
     "metadata": {},
     "output_type": "display_data"
    }
   ],
   "source": [
    "plt.bar(range(len(model_lr.coef_)),model_lr.coef_)\n",
    "plt.title('Feature Importance')\n",
    "plt.xlabel('Feature')\n",
    "plt.ylabel('Importance')\n",
    "plt.show()"
   ]
  },
  {
   "cell_type": "code",
   "execution_count": null,
   "id": "73305567",
   "metadata": {},
   "outputs": [],
   "source": [
    "columns = df.drop([\"Energy\", \"Location\", \"Time\"], axis=1).columns\n",
    "feature_importance = pd.Series(model_xgb.feature_importances_, index=columns)\n",
    "feature_importance"
   ]
  },
  {
   "cell_type": "code",
   "execution_count": null,
   "id": "e27fcc94",
   "metadata": {},
   "outputs": [],
   "source": [
    "features = feature_importance.nlargest(40).index\n",
    "features"
   ]
  },
  {
   "cell_type": "code",
   "execution_count": null,
   "id": "ba8a75b6",
   "metadata": {},
   "outputs": [],
   "source": [
    "df_40 = df[['Time', 'Location'] + [*features] + ['Energy']]\n",
    "df_40"
   ]
  },
  {
   "cell_type": "code",
   "execution_count": null,
   "id": "5013aba9",
   "metadata": {},
   "outputs": [],
   "source": [
    "df_40.to_csv(\"data/shared_best40features.csv\", index=False)"
   ]
  },
  {
   "cell_type": "code",
   "execution_count": null,
   "id": "c9de4a6b",
   "metadata": {},
   "outputs": [],
   "source": []
  }
 ],
 "metadata": {
  "kernelspec": {
   "display_name": "Python 3.8.16 ('rapids-23.02')",
   "language": "python",
   "name": "python3"
  },
  "language_info": {
   "codemirror_mode": {
    "name": "ipython",
    "version": 3
   },
   "file_extension": ".py",
   "mimetype": "text/x-python",
   "name": "python",
   "nbconvert_exporter": "python",
   "pygments_lexer": "ipython3",
   "version": "3.8.16"
  },
  "vscode": {
   "interpreter": {
    "hash": "b68dca5a889d9fa7a36c76420bb99c5b147d98e0e386a0426daa5cd8f8566c01"
   }
  }
 },
 "nbformat": 4,
 "nbformat_minor": 5
}
