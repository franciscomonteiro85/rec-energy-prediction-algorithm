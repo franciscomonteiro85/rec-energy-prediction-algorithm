{
 "cells": [
  {
   "cell_type": "code",
   "execution_count": 1,
   "id": "58081526",
   "metadata": {},
   "outputs": [],
   "source": [
    "import warnings\n",
    "warnings.filterwarnings('ignore',category=FutureWarning)\n",
    "warnings.filterwarnings('ignore',category=DeprecationWarning)\n",
    "import numpy as np\n",
    "import pandas as pd\n",
    "import matplotlib.pyplot as plt\n",
    "from sklearn.model_selection import train_test_split, cross_val_score, cross_validate, KFold, RepeatedKFold, RandomizedSearchCV\n",
    "from sklearn.metrics import mean_squared_error, r2_score, mean_absolute_error, mean_absolute_percentage_error\n",
    "from sklearn.preprocessing import PolynomialFeatures, MinMaxScaler\n",
    "from sklearn.linear_model import LinearRegression\n",
    "import time\n",
    "import cudf\n",
    "from cuml.ensemble import RandomForestRegressor as cuRF\n",
    "import math\n",
    "from tqdm import tqdm\n",
    "import xgboost as xgb"
   ]
  },
  {
   "attachments": {},
   "cell_type": "markdown",
   "id": "e6a60d92",
   "metadata": {},
   "source": [
    "#### Output file"
   ]
  },
  {
   "cell_type": "code",
   "execution_count": 2,
   "id": "4dd1b2fe",
   "metadata": {},
   "outputs": [],
   "source": [
    "sourceFile = open(\"gpu_logs/shared_all_records.txt\", 'w')"
   ]
  },
  {
   "cell_type": "markdown",
   "id": "a8dda9da",
   "metadata": {},
   "source": [
    "### Load the data"
   ]
  },
  {
   "cell_type": "code",
   "execution_count": 31,
   "id": "f6963e23",
   "metadata": {},
   "outputs": [
    {
     "data": {
      "text/html": [
       "<div>\n",
       "<style scoped>\n",
       "    .dataframe tbody tr th:only-of-type {\n",
       "        vertical-align: middle;\n",
       "    }\n",
       "\n",
       "    .dataframe tbody tr th {\n",
       "        vertical-align: top;\n",
       "    }\n",
       "\n",
       "    .dataframe thead th {\n",
       "        text-align: right;\n",
       "    }\n",
       "</style>\n",
       "<table border=\"1\" class=\"dataframe\">\n",
       "  <thead>\n",
       "    <tr style=\"text-align: right;\">\n",
       "      <th></th>\n",
       "      <th>Time</th>\n",
       "      <th>Location</th>\n",
       "      <th>Energy</th>\n",
       "    </tr>\n",
       "  </thead>\n",
       "  <tbody>\n",
       "    <tr>\n",
       "      <th>0</th>\n",
       "      <td>2020-10-06 00:15:00</td>\n",
       "      <td>PT41CV</td>\n",
       "      <td>0.076</td>\n",
       "    </tr>\n",
       "    <tr>\n",
       "      <th>1</th>\n",
       "      <td>2020-10-06 00:30:00</td>\n",
       "      <td>PT41CV</td>\n",
       "      <td>0.072</td>\n",
       "    </tr>\n",
       "    <tr>\n",
       "      <th>2</th>\n",
       "      <td>2020-10-06 00:45:00</td>\n",
       "      <td>PT41CV</td>\n",
       "      <td>0.072</td>\n",
       "    </tr>\n",
       "    <tr>\n",
       "      <th>3</th>\n",
       "      <td>2020-10-06 01:00:00</td>\n",
       "      <td>PT41CV</td>\n",
       "      <td>0.068</td>\n",
       "    </tr>\n",
       "    <tr>\n",
       "      <th>4</th>\n",
       "      <td>2020-10-06 01:15:00</td>\n",
       "      <td>PT41CV</td>\n",
       "      <td>0.032</td>\n",
       "    </tr>\n",
       "    <tr>\n",
       "      <th>...</th>\n",
       "      <td>...</td>\n",
       "      <td>...</td>\n",
       "      <td>...</td>\n",
       "    </tr>\n",
       "    <tr>\n",
       "      <th>1041355</th>\n",
       "      <td>2023-02-19 23:00:00</td>\n",
       "      <td>PT87ZW</td>\n",
       "      <td>NaN</td>\n",
       "    </tr>\n",
       "    <tr>\n",
       "      <th>1041356</th>\n",
       "      <td>2023-02-19 23:15:00</td>\n",
       "      <td>PT87ZW</td>\n",
       "      <td>NaN</td>\n",
       "    </tr>\n",
       "    <tr>\n",
       "      <th>1041357</th>\n",
       "      <td>2023-02-19 23:30:00</td>\n",
       "      <td>PT87ZW</td>\n",
       "      <td>NaN</td>\n",
       "    </tr>\n",
       "    <tr>\n",
       "      <th>1041358</th>\n",
       "      <td>2023-02-19 23:45:00</td>\n",
       "      <td>PT87ZW</td>\n",
       "      <td>NaN</td>\n",
       "    </tr>\n",
       "    <tr>\n",
       "      <th>1041359</th>\n",
       "      <td>2023-02-20 00:00:00</td>\n",
       "      <td>PT87ZW</td>\n",
       "      <td>NaN</td>\n",
       "    </tr>\n",
       "  </tbody>\n",
       "</table>\n",
       "<p>1041360 rows × 3 columns</p>\n",
       "</div>"
      ],
      "text/plain": [
       "                       Time Location  Energy\n",
       "0       2020-10-06 00:15:00   PT41CV   0.076\n",
       "1       2020-10-06 00:30:00   PT41CV   0.072\n",
       "2       2020-10-06 00:45:00   PT41CV   0.072\n",
       "3       2020-10-06 01:00:00   PT41CV   0.068\n",
       "4       2020-10-06 01:15:00   PT41CV   0.032\n",
       "...                     ...      ...     ...\n",
       "1041355 2023-02-19 23:00:00   PT87ZW     NaN\n",
       "1041356 2023-02-19 23:15:00   PT87ZW     NaN\n",
       "1041357 2023-02-19 23:30:00   PT87ZW     NaN\n",
       "1041358 2023-02-19 23:45:00   PT87ZW     NaN\n",
       "1041359 2023-02-20 00:00:00   PT87ZW     NaN\n",
       "\n",
       "[1041360 rows x 3 columns]"
      ]
     },
     "execution_count": 31,
     "metadata": {},
     "output_type": "execute_result"
    }
   ],
   "source": [
    "df = pd.read_csv(\"data/shared_all_records.csv\")\n",
    "df.reset_index(drop=True, inplace=True)\n",
    "df = df.iloc[:, [0, 2, 1]]\n",
    "df['Time'] =  pd.to_datetime(df['Time'])\n",
    "df"
   ]
  },
  {
   "cell_type": "code",
   "execution_count": 32,
   "id": "628c5f3c",
   "metadata": {},
   "outputs": [
    {
     "data": {
      "text/plain": [
       "12"
      ]
     },
     "execution_count": 32,
     "metadata": {},
     "output_type": "execute_result"
    }
   ],
   "source": [
    "## Number of houses\n",
    "df.Location.nunique()"
   ]
  },
  {
   "cell_type": "code",
   "execution_count": 33,
   "id": "314547f8",
   "metadata": {},
   "outputs": [
    {
     "data": {
      "text/html": [
       "<div>\n",
       "<style scoped>\n",
       "    .dataframe tbody tr th:only-of-type {\n",
       "        vertical-align: middle;\n",
       "    }\n",
       "\n",
       "    .dataframe tbody tr th {\n",
       "        vertical-align: top;\n",
       "    }\n",
       "\n",
       "    .dataframe thead th {\n",
       "        text-align: right;\n",
       "    }\n",
       "</style>\n",
       "<table border=\"1\" class=\"dataframe\">\n",
       "  <thead>\n",
       "    <tr style=\"text-align: right;\">\n",
       "      <th></th>\n",
       "      <th>Time</th>\n",
       "      <th>Location</th>\n",
       "      <th>Energy</th>\n",
       "    </tr>\n",
       "  </thead>\n",
       "  <tbody>\n",
       "    <tr>\n",
       "      <th>0</th>\n",
       "      <td>2020-10-06 00:15:00</td>\n",
       "      <td>PT41CV</td>\n",
       "      <td>0.076</td>\n",
       "    </tr>\n",
       "    <tr>\n",
       "      <th>1</th>\n",
       "      <td>2020-10-06 00:30:00</td>\n",
       "      <td>PT41CV</td>\n",
       "      <td>0.072</td>\n",
       "    </tr>\n",
       "    <tr>\n",
       "      <th>2</th>\n",
       "      <td>2020-10-06 00:45:00</td>\n",
       "      <td>PT41CV</td>\n",
       "      <td>0.072</td>\n",
       "    </tr>\n",
       "    <tr>\n",
       "      <th>3</th>\n",
       "      <td>2020-10-06 01:00:00</td>\n",
       "      <td>PT41CV</td>\n",
       "      <td>0.068</td>\n",
       "    </tr>\n",
       "    <tr>\n",
       "      <th>4</th>\n",
       "      <td>2020-10-06 01:15:00</td>\n",
       "      <td>PT41CV</td>\n",
       "      <td>0.032</td>\n",
       "    </tr>\n",
       "    <tr>\n",
       "      <th>...</th>\n",
       "      <td>...</td>\n",
       "      <td>...</td>\n",
       "      <td>...</td>\n",
       "    </tr>\n",
       "    <tr>\n",
       "      <th>576694</th>\n",
       "      <td>2022-11-25 00:00:00</td>\n",
       "      <td>PT87ZW</td>\n",
       "      <td>0.764</td>\n",
       "    </tr>\n",
       "    <tr>\n",
       "      <th>576695</th>\n",
       "      <td>2022-11-25 00:15:00</td>\n",
       "      <td>PT87ZW</td>\n",
       "      <td>0.660</td>\n",
       "    </tr>\n",
       "    <tr>\n",
       "      <th>576696</th>\n",
       "      <td>2022-11-25 00:30:00</td>\n",
       "      <td>PT87ZW</td>\n",
       "      <td>0.692</td>\n",
       "    </tr>\n",
       "    <tr>\n",
       "      <th>576697</th>\n",
       "      <td>2022-11-25 00:45:00</td>\n",
       "      <td>PT87ZW</td>\n",
       "      <td>0.660</td>\n",
       "    </tr>\n",
       "    <tr>\n",
       "      <th>576698</th>\n",
       "      <td>2022-11-25 01:00:00</td>\n",
       "      <td>PT87ZW</td>\n",
       "      <td>0.644</td>\n",
       "    </tr>\n",
       "  </tbody>\n",
       "</table>\n",
       "<p>576699 rows × 3 columns</p>\n",
       "</div>"
      ],
      "text/plain": [
       "                      Time Location  Energy\n",
       "0      2020-10-06 00:15:00   PT41CV   0.076\n",
       "1      2020-10-06 00:30:00   PT41CV   0.072\n",
       "2      2020-10-06 00:45:00   PT41CV   0.072\n",
       "3      2020-10-06 01:00:00   PT41CV   0.068\n",
       "4      2020-10-06 01:15:00   PT41CV   0.032\n",
       "...                    ...      ...     ...\n",
       "576694 2022-11-25 00:00:00   PT87ZW   0.764\n",
       "576695 2022-11-25 00:15:00   PT87ZW   0.660\n",
       "576696 2022-11-25 00:30:00   PT87ZW   0.692\n",
       "576697 2022-11-25 00:45:00   PT87ZW   0.660\n",
       "576698 2022-11-25 01:00:00   PT87ZW   0.644\n",
       "\n",
       "[576699 rows x 3 columns]"
      ]
     },
     "execution_count": 33,
     "metadata": {},
     "output_type": "execute_result"
    }
   ],
   "source": [
    "df.dropna(inplace=True)\n",
    "df.reset_index(drop=True, inplace=True)\n",
    "df"
   ]
  },
  {
   "cell_type": "code",
   "execution_count": 34,
   "id": "1b3d0cf8",
   "metadata": {},
   "outputs": [
    {
     "data": {
      "text/plain": [
       "PT17RW    81584\n",
       "PT41CV    75448\n",
       "PT87ZW    74876\n",
       "PT43QL    69208\n",
       "PT87RW    53263\n",
       "PT48JB    39545\n",
       "PT44AL    39260\n",
       "PT15VP    37916\n",
       "PT69QG    37052\n",
       "PT51SH    35036\n",
       "PT42JN    29955\n",
       "PT07ZR     3556\n",
       "Name: Location, dtype: int64"
      ]
     },
     "execution_count": 34,
     "metadata": {},
     "output_type": "execute_result"
    }
   ],
   "source": [
    "## Number of records per house\n",
    "df.Location.value_counts()"
   ]
  },
  {
   "cell_type": "code",
   "execution_count": 35,
   "id": "0a263e4c",
   "metadata": {},
   "outputs": [],
   "source": [
    "df.to_csv(\"../datasets/shared_complete.csv\", index=False)"
   ]
  },
  {
   "cell_type": "markdown",
   "id": "54c9d325",
   "metadata": {},
   "source": [
    "### Auxiliary functions"
   ]
  },
  {
   "cell_type": "code",
   "execution_count": 9,
   "id": "cd78e17d",
   "metadata": {},
   "outputs": [],
   "source": [
    "def plot_results(preds: np.array, actuals: np.array, title: str):\n",
    "    \n",
    "    plt.scatter(actuals, preds, c='b', label='predicted')\n",
    "    plt.xlabel('actual')\n",
    "    plt.ylabel('predicted')\n",
    "    plt.title(title)\n",
    "    plt.xlim(0, plt.xlim()[1])\n",
    "    plt.ylim(0, plt.ylim()[1])\n",
    "    _ = plt.plot([0, 100], [0, 100], '--r', label='y=x')\n",
    "    plt.legend()\n",
    "    plt.show()\n",
    "\n",
    "def truncate_metric(metric):\n",
    "    m = math.trunc(10000 * metric) / 10000\n",
    "    return m \n",
    "    \n",
    "def performance_metrics(preds: np.array, actuals: np.array, filename):\n",
    "\n",
    "    # calculate performance metrics\n",
    "    \n",
    "    mse = truncate_metric(mean_squared_error(actuals, preds))\n",
    "    wape = truncate_metric(np.sum(np.abs(preds - actuals)) / np.sum(np.abs(actuals))) * 100\n",
    "    r2 = truncate_metric(r2_score(actuals, preds))\n",
    "    \n",
    "    # print performance metrics\n",
    "    print('MSE: %.4f' % mse, file=filename)\n",
    "    print('WAPE: %.2f' % wape, file=filename)\n",
    "    print('R2: %.4f' % r2, file=filename)\n",
    "    return mse, wape, r2\n",
    "\n",
    "#@jit(target_backend='cuda')\n",
    "def build_model(estimator, X_train: np.array, y_train: np.array, X_test: np.array):\n",
    "    \n",
    "    model = estimator\n",
    "    model.fit(X_train, y_train)\n",
    "    preds = model.predict(X_test)\n",
    "    \n",
    "    return model, preds\n",
    "\n",
    "def validate(estimator, X_train, y_train):\n",
    "    scores = cross_validate(estimator, X_train, y_train, scoring=['r2', 'neg_mean_squared_error'])\n",
    "    return scores"
   ]
  },
  {
   "cell_type": "code",
   "execution_count": 10,
   "id": "8af19e8d",
   "metadata": {},
   "outputs": [],
   "source": [
    "def total_averaged_metrics(metrics_list, filename):\n",
    "    \n",
    "    print(\"Total Averaged MSE: {}\".format(np.round(sum(i for i, j, k in metrics_list)/len(metrics_list),3)), file=filename)\n",
    "    print(\"Total Averaged WAPE: {}\".format(np.round(sum(j for i, j, k in metrics_list)/len(metrics_list),3)), file=filename)\n",
    "    print(\"Total Averaged R2: {}\".format(np.round(sum(k for i, j, k in metrics_list)/len(metrics_list),3)), file=filename)\n",
    "\n",
    "def past_timesteps(df, number_of_timesteps):\n",
    "    for i in tqdm(range(1, (number_of_timesteps + 1))):\n",
    "        df.loc[df['Time'].shift(i) == df['Time'] - pd.Timedelta(i * 15, 'm'), f\"energy_lag_{i}\"] = df['Energy'].shift(i)\n",
    "    df.dropna(inplace=True)\n",
    "    df.reset_index(drop=True, inplace=True)\n",
    "    return df\n",
    "\n",
    "def last_energy_points_full(df, number_timesteps, num_samples_per_house):\n",
    "    X = pd.DataFrame()\n",
    "    other_feats = df.iloc[:,:2]\n",
    "    for i in range(1, (number_timesteps + 1) ):\n",
    "        X[f'Energy_{i*15}'] = df['Energy'].shift(i)\n",
    "    y = df.copy().iloc[:,2]\n",
    "    y.iloc[:number_timesteps] = np.nan\n",
    "    ## Remove samples in between each house\n",
    "    for h in range(1, number_of_houses):\n",
    "        for i in range(0, number_timesteps):\n",
    "            X.iloc[(num_samples_per_house+i)*h] = np.nan\n",
    "            y.iloc[(num_samples_per_house+i)*h] = np.nan\n",
    "    X = pd.concat([other_feats, X], axis=1)\n",
    "    X.dropna(inplace=True)\n",
    "    X.reset_index(drop=True, inplace=True)\n",
    "    y.dropna(inplace=True)\n",
    "    y.reset_index(drop=True, inplace=True)\n",
    "    y.columns = [\"Energy\"]\n",
    "    dataframe = pd.concat([X,y.rename('Energy')], axis=1)\n",
    "    assert number_of_houses == (df.shape[0] - dataframe.shape[0]) / number_timesteps, \"Something went wrong with preprocessing\"\n",
    "    return dataframe\n",
    "    "
   ]
  },
  {
   "cell_type": "code",
   "execution_count": 11,
   "id": "9d0352ee",
   "metadata": {},
   "outputs": [],
   "source": [
    "def normalize_training(X_train):\n",
    "    scaler = MinMaxScaler(feature_range=(0,1))\n",
    "    scaler.fit(X_train)\n",
    "    X_train = scaler.transform(X_train)\n",
    "    return X_train, scaler"
   ]
  },
  {
   "cell_type": "markdown",
   "id": "bd1b0d17",
   "metadata": {},
   "source": [
    "### Cross Validate"
   ]
  },
  {
   "cell_type": "code",
   "execution_count": 12,
   "id": "71efa19a",
   "metadata": {},
   "outputs": [],
   "source": [
    "#scores = validate(model, X_train, y_train)\n",
    "#cv_mse = np.round(scores['test_neg_mean_squared_error'].mean() * (-1),4)\n",
    "#cv_r2 = np.round(scores['test_r2'].mean(),5)\n",
    "#print(\"CV MSE: {} \".format(cv_mse))\n",
    "#print(\"CV R2: {} \".format(cv_r2))\n",
    "#metrics_list.append((cv_mse,cv_rmse,cv_mae,mape,cv_r2))"
   ]
  },
  {
   "cell_type": "markdown",
   "id": "0f5ba7c5",
   "metadata": {},
   "source": [
    "## Leave 10 houses for test (demonstration)"
   ]
  },
  {
   "cell_type": "code",
   "execution_count": 13,
   "id": "fd9b27b9",
   "metadata": {},
   "outputs": [],
   "source": [
    "number_of_timesteps = 672"
   ]
  },
  {
   "cell_type": "code",
   "execution_count": 14,
   "id": "ba9e7320",
   "metadata": {},
   "outputs": [
    {
     "data": {
      "text/plain": [
       "array(['PT43QL', 'PT48JB', 'PT15VP'], dtype=object)"
      ]
     },
     "execution_count": 14,
     "metadata": {},
     "output_type": "execute_result"
    }
   ],
   "source": [
    "locations = np.random.choice(df['Location'].unique(), size=3, replace=False)\n",
    "locations"
   ]
  },
  {
   "cell_type": "code",
   "execution_count": 15,
   "id": "8f9027ef",
   "metadata": {},
   "outputs": [
    {
     "name": "stderr",
     "output_type": "stream",
     "text": [
      "100%|██████████| 12/12 [00:00<00:00, 130.33it/s]\n"
     ]
    },
    {
     "data": {
      "text/html": [
       "<div>\n",
       "<style scoped>\n",
       "    .dataframe tbody tr th:only-of-type {\n",
       "        vertical-align: middle;\n",
       "    }\n",
       "\n",
       "    .dataframe tbody tr th {\n",
       "        vertical-align: top;\n",
       "    }\n",
       "\n",
       "    .dataframe thead th {\n",
       "        text-align: right;\n",
       "    }\n",
       "</style>\n",
       "<table border=\"1\" class=\"dataframe\">\n",
       "  <thead>\n",
       "    <tr style=\"text-align: right;\">\n",
       "      <th></th>\n",
       "      <th>Time</th>\n",
       "      <th>Location</th>\n",
       "      <th>Energy</th>\n",
       "      <th>energy_lag_1</th>\n",
       "      <th>energy_lag_2</th>\n",
       "      <th>energy_lag_3</th>\n",
       "      <th>energy_lag_4</th>\n",
       "      <th>energy_lag_5</th>\n",
       "      <th>energy_lag_6</th>\n",
       "      <th>energy_lag_7</th>\n",
       "      <th>energy_lag_8</th>\n",
       "      <th>energy_lag_9</th>\n",
       "      <th>energy_lag_10</th>\n",
       "      <th>energy_lag_11</th>\n",
       "      <th>energy_lag_12</th>\n",
       "    </tr>\n",
       "  </thead>\n",
       "  <tbody>\n",
       "    <tr>\n",
       "      <th>0</th>\n",
       "      <td>2020-10-06 03:15:00</td>\n",
       "      <td>PT41CV</td>\n",
       "      <td>0.092</td>\n",
       "      <td>0.028</td>\n",
       "      <td>0.064</td>\n",
       "      <td>0.120</td>\n",
       "      <td>0.040</td>\n",
       "      <td>0.048</td>\n",
       "      <td>0.120</td>\n",
       "      <td>0.040</td>\n",
       "      <td>0.032</td>\n",
       "      <td>0.068</td>\n",
       "      <td>0.072</td>\n",
       "      <td>0.072</td>\n",
       "      <td>0.076</td>\n",
       "    </tr>\n",
       "    <tr>\n",
       "      <th>1</th>\n",
       "      <td>2020-10-06 03:30:00</td>\n",
       "      <td>PT41CV</td>\n",
       "      <td>0.080</td>\n",
       "      <td>0.092</td>\n",
       "      <td>0.028</td>\n",
       "      <td>0.064</td>\n",
       "      <td>0.120</td>\n",
       "      <td>0.040</td>\n",
       "      <td>0.048</td>\n",
       "      <td>0.120</td>\n",
       "      <td>0.040</td>\n",
       "      <td>0.032</td>\n",
       "      <td>0.068</td>\n",
       "      <td>0.072</td>\n",
       "      <td>0.072</td>\n",
       "    </tr>\n",
       "    <tr>\n",
       "      <th>2</th>\n",
       "      <td>2020-10-06 03:45:00</td>\n",
       "      <td>PT41CV</td>\n",
       "      <td>0.028</td>\n",
       "      <td>0.080</td>\n",
       "      <td>0.092</td>\n",
       "      <td>0.028</td>\n",
       "      <td>0.064</td>\n",
       "      <td>0.120</td>\n",
       "      <td>0.040</td>\n",
       "      <td>0.048</td>\n",
       "      <td>0.120</td>\n",
       "      <td>0.040</td>\n",
       "      <td>0.032</td>\n",
       "      <td>0.068</td>\n",
       "      <td>0.072</td>\n",
       "    </tr>\n",
       "    <tr>\n",
       "      <th>3</th>\n",
       "      <td>2020-10-06 04:00:00</td>\n",
       "      <td>PT41CV</td>\n",
       "      <td>0.076</td>\n",
       "      <td>0.028</td>\n",
       "      <td>0.080</td>\n",
       "      <td>0.092</td>\n",
       "      <td>0.028</td>\n",
       "      <td>0.064</td>\n",
       "      <td>0.120</td>\n",
       "      <td>0.040</td>\n",
       "      <td>0.048</td>\n",
       "      <td>0.120</td>\n",
       "      <td>0.040</td>\n",
       "      <td>0.032</td>\n",
       "      <td>0.068</td>\n",
       "    </tr>\n",
       "    <tr>\n",
       "      <th>4</th>\n",
       "      <td>2020-10-06 04:15:00</td>\n",
       "      <td>PT41CV</td>\n",
       "      <td>0.100</td>\n",
       "      <td>0.076</td>\n",
       "      <td>0.028</td>\n",
       "      <td>0.080</td>\n",
       "      <td>0.092</td>\n",
       "      <td>0.028</td>\n",
       "      <td>0.064</td>\n",
       "      <td>0.120</td>\n",
       "      <td>0.040</td>\n",
       "      <td>0.048</td>\n",
       "      <td>0.120</td>\n",
       "      <td>0.040</td>\n",
       "      <td>0.032</td>\n",
       "    </tr>\n",
       "    <tr>\n",
       "      <th>...</th>\n",
       "      <td>...</td>\n",
       "      <td>...</td>\n",
       "      <td>...</td>\n",
       "      <td>...</td>\n",
       "      <td>...</td>\n",
       "      <td>...</td>\n",
       "      <td>...</td>\n",
       "      <td>...</td>\n",
       "      <td>...</td>\n",
       "      <td>...</td>\n",
       "      <td>...</td>\n",
       "      <td>...</td>\n",
       "      <td>...</td>\n",
       "      <td>...</td>\n",
       "      <td>...</td>\n",
       "    </tr>\n",
       "    <tr>\n",
       "      <th>576286</th>\n",
       "      <td>2022-11-25 00:00:00</td>\n",
       "      <td>PT87ZW</td>\n",
       "      <td>0.764</td>\n",
       "      <td>0.812</td>\n",
       "      <td>0.756</td>\n",
       "      <td>0.784</td>\n",
       "      <td>0.928</td>\n",
       "      <td>0.960</td>\n",
       "      <td>0.868</td>\n",
       "      <td>1.016</td>\n",
       "      <td>0.892</td>\n",
       "      <td>0.928</td>\n",
       "      <td>1.024</td>\n",
       "      <td>0.884</td>\n",
       "      <td>0.900</td>\n",
       "    </tr>\n",
       "    <tr>\n",
       "      <th>576287</th>\n",
       "      <td>2022-11-25 00:15:00</td>\n",
       "      <td>PT87ZW</td>\n",
       "      <td>0.660</td>\n",
       "      <td>0.764</td>\n",
       "      <td>0.812</td>\n",
       "      <td>0.756</td>\n",
       "      <td>0.784</td>\n",
       "      <td>0.928</td>\n",
       "      <td>0.960</td>\n",
       "      <td>0.868</td>\n",
       "      <td>1.016</td>\n",
       "      <td>0.892</td>\n",
       "      <td>0.928</td>\n",
       "      <td>1.024</td>\n",
       "      <td>0.884</td>\n",
       "    </tr>\n",
       "    <tr>\n",
       "      <th>576288</th>\n",
       "      <td>2022-11-25 00:30:00</td>\n",
       "      <td>PT87ZW</td>\n",
       "      <td>0.692</td>\n",
       "      <td>0.660</td>\n",
       "      <td>0.764</td>\n",
       "      <td>0.812</td>\n",
       "      <td>0.756</td>\n",
       "      <td>0.784</td>\n",
       "      <td>0.928</td>\n",
       "      <td>0.960</td>\n",
       "      <td>0.868</td>\n",
       "      <td>1.016</td>\n",
       "      <td>0.892</td>\n",
       "      <td>0.928</td>\n",
       "      <td>1.024</td>\n",
       "    </tr>\n",
       "    <tr>\n",
       "      <th>576289</th>\n",
       "      <td>2022-11-25 00:45:00</td>\n",
       "      <td>PT87ZW</td>\n",
       "      <td>0.660</td>\n",
       "      <td>0.692</td>\n",
       "      <td>0.660</td>\n",
       "      <td>0.764</td>\n",
       "      <td>0.812</td>\n",
       "      <td>0.756</td>\n",
       "      <td>0.784</td>\n",
       "      <td>0.928</td>\n",
       "      <td>0.960</td>\n",
       "      <td>0.868</td>\n",
       "      <td>1.016</td>\n",
       "      <td>0.892</td>\n",
       "      <td>0.928</td>\n",
       "    </tr>\n",
       "    <tr>\n",
       "      <th>576290</th>\n",
       "      <td>2022-11-25 01:00:00</td>\n",
       "      <td>PT87ZW</td>\n",
       "      <td>0.644</td>\n",
       "      <td>0.660</td>\n",
       "      <td>0.692</td>\n",
       "      <td>0.660</td>\n",
       "      <td>0.764</td>\n",
       "      <td>0.812</td>\n",
       "      <td>0.756</td>\n",
       "      <td>0.784</td>\n",
       "      <td>0.928</td>\n",
       "      <td>0.960</td>\n",
       "      <td>0.868</td>\n",
       "      <td>1.016</td>\n",
       "      <td>0.892</td>\n",
       "    </tr>\n",
       "  </tbody>\n",
       "</table>\n",
       "<p>576291 rows × 15 columns</p>\n",
       "</div>"
      ],
      "text/plain": [
       "                      Time Location  Energy  energy_lag_1  energy_lag_2  \\\n",
       "0      2020-10-06 03:15:00   PT41CV   0.092         0.028         0.064   \n",
       "1      2020-10-06 03:30:00   PT41CV   0.080         0.092         0.028   \n",
       "2      2020-10-06 03:45:00   PT41CV   0.028         0.080         0.092   \n",
       "3      2020-10-06 04:00:00   PT41CV   0.076         0.028         0.080   \n",
       "4      2020-10-06 04:15:00   PT41CV   0.100         0.076         0.028   \n",
       "...                    ...      ...     ...           ...           ...   \n",
       "576286 2022-11-25 00:00:00   PT87ZW   0.764         0.812         0.756   \n",
       "576287 2022-11-25 00:15:00   PT87ZW   0.660         0.764         0.812   \n",
       "576288 2022-11-25 00:30:00   PT87ZW   0.692         0.660         0.764   \n",
       "576289 2022-11-25 00:45:00   PT87ZW   0.660         0.692         0.660   \n",
       "576290 2022-11-25 01:00:00   PT87ZW   0.644         0.660         0.692   \n",
       "\n",
       "        energy_lag_3  energy_lag_4  energy_lag_5  energy_lag_6  energy_lag_7  \\\n",
       "0              0.120         0.040         0.048         0.120         0.040   \n",
       "1              0.064         0.120         0.040         0.048         0.120   \n",
       "2              0.028         0.064         0.120         0.040         0.048   \n",
       "3              0.092         0.028         0.064         0.120         0.040   \n",
       "4              0.080         0.092         0.028         0.064         0.120   \n",
       "...              ...           ...           ...           ...           ...   \n",
       "576286         0.784         0.928         0.960         0.868         1.016   \n",
       "576287         0.756         0.784         0.928         0.960         0.868   \n",
       "576288         0.812         0.756         0.784         0.928         0.960   \n",
       "576289         0.764         0.812         0.756         0.784         0.928   \n",
       "576290         0.660         0.764         0.812         0.756         0.784   \n",
       "\n",
       "        energy_lag_8  energy_lag_9  energy_lag_10  energy_lag_11  \\\n",
       "0              0.032         0.068          0.072          0.072   \n",
       "1              0.040         0.032          0.068          0.072   \n",
       "2              0.120         0.040          0.032          0.068   \n",
       "3              0.048         0.120          0.040          0.032   \n",
       "4              0.040         0.048          0.120          0.040   \n",
       "...              ...           ...            ...            ...   \n",
       "576286         0.892         0.928          1.024          0.884   \n",
       "576287         1.016         0.892          0.928          1.024   \n",
       "576288         0.868         1.016          0.892          0.928   \n",
       "576289         0.960         0.868          1.016          0.892   \n",
       "576290         0.928         0.960          0.868          1.016   \n",
       "\n",
       "        energy_lag_12  \n",
       "0               0.076  \n",
       "1               0.072  \n",
       "2               0.072  \n",
       "3               0.068  \n",
       "4               0.032  \n",
       "...               ...  \n",
       "576286          0.900  \n",
       "576287          0.884  \n",
       "576288          1.024  \n",
       "576289          0.928  \n",
       "576290          0.892  \n",
       "\n",
       "[576291 rows x 15 columns]"
      ]
     },
     "execution_count": 15,
     "metadata": {},
     "output_type": "execute_result"
    }
   ],
   "source": [
    "df_new = past_timesteps(df, number_of_timesteps)\n",
    "df_new"
   ]
  },
  {
   "cell_type": "code",
   "execution_count": 16,
   "id": "bb6cf023",
   "metadata": {},
   "outputs": [
    {
     "data": {
      "text/plain": [
       "Time             0\n",
       "Location         0\n",
       "Energy           0\n",
       "energy_lag_1     0\n",
       "energy_lag_2     0\n",
       "energy_lag_3     0\n",
       "energy_lag_4     0\n",
       "energy_lag_5     0\n",
       "energy_lag_6     0\n",
       "energy_lag_7     0\n",
       "energy_lag_8     0\n",
       "energy_lag_9     0\n",
       "energy_lag_10    0\n",
       "energy_lag_11    0\n",
       "energy_lag_12    0\n",
       "dtype: int64"
      ]
     },
     "execution_count": 16,
     "metadata": {},
     "output_type": "execute_result"
    }
   ],
   "source": [
    "df_new.isna().sum()"
   ]
  },
  {
   "cell_type": "code",
   "execution_count": 17,
   "id": "daa9a0ea",
   "metadata": {},
   "outputs": [],
   "source": [
    "def test_leave_house_out(df, estimator, number_timesteps, num_houses_test, locations, filename):\n",
    "    df_new = past_timesteps(df, number_timesteps)\n",
    "    df_new['DayOfWeek'] = df_new['Time'].dt.dayofweek\n",
    "    df_new['Weekend'] = df_new['Time'].dt.dayofweek.isin([5,6]).astype(int)\n",
    "    df_new['Hour'] = df_new['Time'].dt.hour\n",
    "    test = df_new[df_new['Location'].isin(locations)]\n",
    "    train = df_new[~df_new['Location'].isin(locations)]\n",
    "    print(\"Train set: \", train.shape)\n",
    "    print(\"Test set: \", test.shape)\n",
    "    X_train = train.drop(['Time', 'Energy', 'Location'], axis=1)\n",
    "    X_test = test.drop(['Time', 'Energy', 'Location'], axis=1)\n",
    "    y_train = train['Energy']\n",
    "    y_test = test['Energy']\n",
    "    X_train_norm, scaler = normalize_training(X_train)\n",
    "    X_test_norm = scaler.transform(X_test)\n",
    "\n",
    "    model = estimator\n",
    "    init = time.time()\n",
    "    model.fit(X_train_norm, y_train)\n",
    "    y_pred = model.predict(X_test_norm)\n",
    "    end = time.time()\n",
    "    print('Elapsed time: {:.4f} s'.format(end - init), file=filename)\n",
    "    mse, wape, r2 = performance_metrics(y_pred, y_test.values.reshape(-1), filename)\n",
    "    return mse, wape, r2, model"
   ]
  },
  {
   "cell_type": "markdown",
   "id": "47b7a1a3",
   "metadata": {},
   "source": [
    "## Predict  10 folds with 10 random houses for test"
   ]
  },
  {
   "cell_type": "markdown",
   "id": "1e4142f8",
   "metadata": {},
   "source": [
    "### XGBoost"
   ]
  },
  {
   "cell_type": "code",
   "execution_count": 18,
   "id": "a92783d8",
   "metadata": {},
   "outputs": [],
   "source": [
    "num_houses_test = 3"
   ]
  },
  {
   "cell_type": "code",
   "execution_count": 19,
   "id": "3b8166de",
   "metadata": {},
   "outputs": [
    {
     "data": {
      "text/plain": [
       "[array(['PT48JB', 'PT87ZW', 'PT69QG'], dtype=object),\n",
       " array(['PT15VP', 'PT69QG', 'PT48JB'], dtype=object),\n",
       " array(['PT87RW', 'PT17RW', 'PT51SH'], dtype=object),\n",
       " array(['PT51SH', 'PT07ZR', 'PT17RW'], dtype=object),\n",
       " array(['PT87RW', 'PT42JN', 'PT41CV'], dtype=object),\n",
       " array(['PT87RW', 'PT44AL', 'PT43QL'], dtype=object),\n",
       " array(['PT87ZW', 'PT07ZR', 'PT17RW'], dtype=object),\n",
       " array(['PT87ZW', 'PT42JN', 'PT51SH'], dtype=object),\n",
       " array(['PT41CV', 'PT17RW', 'PT42JN'], dtype=object),\n",
       " array(['PT15VP', 'PT41CV', 'PT48JB'], dtype=object)]"
      ]
     },
     "execution_count": 19,
     "metadata": {},
     "output_type": "execute_result"
    }
   ],
   "source": [
    "locations = []\n",
    "for i in range(10):\n",
    "    np.random.seed(i*4)\n",
    "    l = np.random.choice(df['Location'].unique(), size=num_houses_test, replace=False)\n",
    "    locations.append(l)\n",
    "locations"
   ]
  },
  {
   "cell_type": "markdown",
   "id": "30e48b6b",
   "metadata": {},
   "source": [
    "### Linear Regression"
   ]
  },
  {
   "cell_type": "code",
   "execution_count": 20,
   "id": "29000235",
   "metadata": {},
   "outputs": [
    {
     "name": "stderr",
     "output_type": "stream",
     "text": [
      "100%|██████████| 12/12 [00:00<00:00, 162.69it/s]\n"
     ]
    },
    {
     "name": "stdout",
     "output_type": "stream",
     "text": [
      "Train set:  (424902, 18)\n",
      "Test set:  (151389, 18)\n"
     ]
    },
    {
     "name": "stderr",
     "output_type": "stream",
     "text": [
      "100%|██████████| 12/12 [00:00<00:00, 140.77it/s]\n"
     ]
    },
    {
     "name": "stdout",
     "output_type": "stream",
     "text": [
      "Train set:  (461850, 18)\n",
      "Test set:  (114441, 18)\n"
     ]
    },
    {
     "name": "stderr",
     "output_type": "stream",
     "text": [
      "100%|██████████| 12/12 [00:00<00:00, 144.46it/s]\n"
     ]
    },
    {
     "name": "stdout",
     "output_type": "stream",
     "text": [
      "Train set:  (406564, 18)\n",
      "Test set:  (169727, 18)\n"
     ]
    },
    {
     "name": "stderr",
     "output_type": "stream",
     "text": [
      "100%|██████████| 12/12 [00:00<00:00, 143.09it/s]\n"
     ]
    },
    {
     "name": "stdout",
     "output_type": "stream",
     "text": [
      "Train set:  (456223, 18)\n",
      "Test set:  (120068, 18)\n"
     ]
    },
    {
     "name": "stderr",
     "output_type": "stream",
     "text": [
      "100%|██████████| 12/12 [00:00<00:00, 141.36it/s]\n"
     ]
    },
    {
     "name": "stdout",
     "output_type": "stream",
     "text": [
      "Train set:  (417757, 18)\n",
      "Test set:  (158534, 18)\n"
     ]
    },
    {
     "name": "stderr",
     "output_type": "stream",
     "text": [
      "100%|██████████| 12/12 [00:00<00:00, 143.24it/s]\n"
     ]
    },
    {
     "name": "stdout",
     "output_type": "stream",
     "text": [
      "Train set:  (414692, 18)\n",
      "Test set:  (161599, 18)\n"
     ]
    },
    {
     "name": "stderr",
     "output_type": "stream",
     "text": [
      "100%|██████████| 12/12 [00:00<00:00, 143.83it/s]\n"
     ]
    },
    {
     "name": "stdout",
     "output_type": "stream",
     "text": [
      "Train set:  (416395, 18)\n",
      "Test set:  (159896, 18)\n"
     ]
    },
    {
     "name": "stderr",
     "output_type": "stream",
     "text": [
      "100%|██████████| 12/12 [00:00<00:00, 143.27it/s]\n"
     ]
    },
    {
     "name": "stdout",
     "output_type": "stream",
     "text": [
      "Train set:  (436508, 18)\n",
      "Test set:  (139783, 18)\n"
     ]
    },
    {
     "name": "stderr",
     "output_type": "stream",
     "text": [
      "100%|██████████| 12/12 [00:00<00:00, 141.63it/s]\n"
     ]
    },
    {
     "name": "stdout",
     "output_type": "stream",
     "text": [
      "Train set:  (389424, 18)\n",
      "Test set:  (186867, 18)\n"
     ]
    },
    {
     "name": "stderr",
     "output_type": "stream",
     "text": [
      "100%|██████████| 12/12 [00:00<00:00, 142.81it/s]\n"
     ]
    },
    {
     "name": "stdout",
     "output_type": "stream",
     "text": [
      "Train set:  (423466, 18)\n",
      "Test set:  (152825, 18)\n"
     ]
    }
   ],
   "source": [
    "metrics_list_lr = []\n",
    "print(\"\\n----------------------------\", file=sourceFile)\n",
    "print(\"\\nLinear Regression\\n\", file=sourceFile)\n",
    "print(\"----------------------------\\n\", file=sourceFile)\n",
    "for i in range(10):\n",
    "    print(\"\\nIteration\", i, file=sourceFile)\n",
    "    mse, wape, r2, model_lr = test_leave_house_out(df, LinearRegression(), number_of_timesteps, num_houses_test, locations[i], sourceFile)\n",
    "    metrics_list_lr.append((mse, wape, r2))"
   ]
  },
  {
   "cell_type": "markdown",
   "id": "4f05fe8f",
   "metadata": {},
   "source": [
    "### XGBoost"
   ]
  },
  {
   "cell_type": "code",
   "execution_count": 21,
   "id": "a9cfe1a7",
   "metadata": {},
   "outputs": [
    {
     "name": "stderr",
     "output_type": "stream",
     "text": [
      "100%|██████████| 12/12 [00:00<00:00, 170.23it/s]\n"
     ]
    },
    {
     "name": "stdout",
     "output_type": "stream",
     "text": [
      "Train set:  (424902, 18)\n",
      "Test set:  (151389, 18)\n"
     ]
    },
    {
     "name": "stderr",
     "output_type": "stream",
     "text": [
      "100%|██████████| 12/12 [00:00<00:00, 171.17it/s]\n"
     ]
    },
    {
     "name": "stdout",
     "output_type": "stream",
     "text": [
      "Train set:  (461850, 18)\n",
      "Test set:  (114441, 18)\n"
     ]
    },
    {
     "name": "stderr",
     "output_type": "stream",
     "text": [
      "100%|██████████| 12/12 [00:00<00:00, 171.48it/s]\n"
     ]
    },
    {
     "name": "stdout",
     "output_type": "stream",
     "text": [
      "Train set:  (406564, 18)\n",
      "Test set:  (169727, 18)\n"
     ]
    },
    {
     "name": "stderr",
     "output_type": "stream",
     "text": [
      "100%|██████████| 12/12 [00:00<00:00, 171.78it/s]\n"
     ]
    },
    {
     "name": "stdout",
     "output_type": "stream",
     "text": [
      "Train set:  (456223, 18)\n",
      "Test set:  (120068, 18)\n"
     ]
    },
    {
     "name": "stderr",
     "output_type": "stream",
     "text": [
      "100%|██████████| 12/12 [00:00<00:00, 172.66it/s]\n"
     ]
    },
    {
     "name": "stdout",
     "output_type": "stream",
     "text": [
      "Train set:  (417757, 18)\n",
      "Test set:  (158534, 18)\n"
     ]
    },
    {
     "name": "stderr",
     "output_type": "stream",
     "text": [
      "100%|██████████| 12/12 [00:00<00:00, 172.47it/s]\n"
     ]
    },
    {
     "name": "stdout",
     "output_type": "stream",
     "text": [
      "Train set:  (414692, 18)\n",
      "Test set:  (161599, 18)\n"
     ]
    },
    {
     "name": "stderr",
     "output_type": "stream",
     "text": [
      "100%|██████████| 12/12 [00:00<00:00, 170.82it/s]\n"
     ]
    },
    {
     "name": "stdout",
     "output_type": "stream",
     "text": [
      "Train set:  (416395, 18)\n",
      "Test set:  (159896, 18)\n"
     ]
    },
    {
     "name": "stderr",
     "output_type": "stream",
     "text": [
      "100%|██████████| 12/12 [00:00<00:00, 173.47it/s]\n"
     ]
    },
    {
     "name": "stdout",
     "output_type": "stream",
     "text": [
      "Train set:  (436508, 18)\n",
      "Test set:  (139783, 18)\n"
     ]
    },
    {
     "name": "stderr",
     "output_type": "stream",
     "text": [
      "100%|██████████| 12/12 [00:00<00:00, 171.83it/s]\n"
     ]
    },
    {
     "name": "stdout",
     "output_type": "stream",
     "text": [
      "Train set:  (389424, 18)\n",
      "Test set:  (186867, 18)\n"
     ]
    },
    {
     "name": "stderr",
     "output_type": "stream",
     "text": [
      "100%|██████████| 12/12 [00:00<00:00, 173.87it/s]\n"
     ]
    },
    {
     "name": "stdout",
     "output_type": "stream",
     "text": [
      "Train set:  (423466, 18)\n",
      "Test set:  (152825, 18)\n"
     ]
    }
   ],
   "source": [
    "metrics_list_xgb = []\n",
    "print(\"\\n----------------------------\", file=sourceFile)\n",
    "print(\"\\nXGBoost\\n\", file=sourceFile)\n",
    "print(\"----------------------------\\n\", file=sourceFile)\n",
    "for i in range(10):\n",
    "    print(\"\\nIteration\", i, file=sourceFile)\n",
    "    mse, wape, r2, model_xgb = test_leave_house_out(df, xgb.XGBRegressor(tree_method='gpu_hist', seed=0), number_of_timesteps, num_houses_test, locations[i], sourceFile)\n",
    "    metrics_list_xgb.append((mse, wape, r2))"
   ]
  },
  {
   "cell_type": "markdown",
   "id": "bc81a8ce",
   "metadata": {},
   "source": [
    "### Random Forest"
   ]
  },
  {
   "cell_type": "code",
   "execution_count": 22,
   "id": "81a082e6",
   "metadata": {},
   "outputs": [
    {
     "name": "stderr",
     "output_type": "stream",
     "text": [
      "100%|██████████| 12/12 [00:00<00:00, 176.01it/s]\n",
      "/home/francisco.monteiro@av.it.pt/miniconda3/envs/rapids-23.02/lib/python3.8/site-packages/cuml/internals/api_decorators.py:190: UserWarning: To use pickling first train using float32 data to fit the estimator\n",
      "  ret = func(*args, **kwargs)\n"
     ]
    },
    {
     "name": "stdout",
     "output_type": "stream",
     "text": [
      "Train set:  (424902, 18)\n",
      "Test set:  (151389, 18)\n"
     ]
    },
    {
     "name": "stderr",
     "output_type": "stream",
     "text": [
      "100%|██████████| 12/12 [00:00<00:00, 176.13it/s]\n",
      "/home/francisco.monteiro@av.it.pt/miniconda3/envs/rapids-23.02/lib/python3.8/site-packages/cuml/internals/api_decorators.py:190: UserWarning: To use pickling first train using float32 data to fit the estimator\n",
      "  ret = func(*args, **kwargs)\n"
     ]
    },
    {
     "name": "stdout",
     "output_type": "stream",
     "text": [
      "Train set:  (461850, 18)\n",
      "Test set:  (114441, 18)\n"
     ]
    },
    {
     "name": "stderr",
     "output_type": "stream",
     "text": [
      "100%|██████████| 12/12 [00:00<00:00, 169.07it/s]\n",
      "/home/francisco.monteiro@av.it.pt/miniconda3/envs/rapids-23.02/lib/python3.8/site-packages/cuml/internals/api_decorators.py:190: UserWarning: To use pickling first train using float32 data to fit the estimator\n",
      "  ret = func(*args, **kwargs)\n"
     ]
    },
    {
     "name": "stdout",
     "output_type": "stream",
     "text": [
      "Train set:  (406564, 18)\n",
      "Test set:  (169727, 18)\n"
     ]
    },
    {
     "name": "stderr",
     "output_type": "stream",
     "text": [
      "100%|██████████| 12/12 [00:00<00:00, 170.79it/s]\n",
      "/home/francisco.monteiro@av.it.pt/miniconda3/envs/rapids-23.02/lib/python3.8/site-packages/cuml/internals/api_decorators.py:190: UserWarning: To use pickling first train using float32 data to fit the estimator\n",
      "  ret = func(*args, **kwargs)\n"
     ]
    },
    {
     "name": "stdout",
     "output_type": "stream",
     "text": [
      "Train set:  (456223, 18)\n",
      "Test set:  (120068, 18)\n"
     ]
    },
    {
     "name": "stderr",
     "output_type": "stream",
     "text": [
      "100%|██████████| 12/12 [00:00<00:00, 167.54it/s]\n",
      "/home/francisco.monteiro@av.it.pt/miniconda3/envs/rapids-23.02/lib/python3.8/site-packages/cuml/internals/api_decorators.py:190: UserWarning: To use pickling first train using float32 data to fit the estimator\n",
      "  ret = func(*args, **kwargs)\n"
     ]
    },
    {
     "name": "stdout",
     "output_type": "stream",
     "text": [
      "Train set:  (417757, 18)\n",
      "Test set:  (158534, 18)\n"
     ]
    },
    {
     "name": "stderr",
     "output_type": "stream",
     "text": [
      "100%|██████████| 12/12 [00:00<00:00, 170.21it/s]\n",
      "/home/francisco.monteiro@av.it.pt/miniconda3/envs/rapids-23.02/lib/python3.8/site-packages/cuml/internals/api_decorators.py:190: UserWarning: To use pickling first train using float32 data to fit the estimator\n",
      "  ret = func(*args, **kwargs)\n"
     ]
    },
    {
     "name": "stdout",
     "output_type": "stream",
     "text": [
      "Train set:  (414692, 18)\n",
      "Test set:  (161599, 18)\n"
     ]
    },
    {
     "name": "stderr",
     "output_type": "stream",
     "text": [
      "100%|██████████| 12/12 [00:00<00:00, 163.93it/s]\n",
      "/home/francisco.monteiro@av.it.pt/miniconda3/envs/rapids-23.02/lib/python3.8/site-packages/cuml/internals/api_decorators.py:190: UserWarning: To use pickling first train using float32 data to fit the estimator\n",
      "  ret = func(*args, **kwargs)\n"
     ]
    },
    {
     "name": "stdout",
     "output_type": "stream",
     "text": [
      "Train set:  (416395, 18)\n",
      "Test set:  (159896, 18)\n"
     ]
    },
    {
     "name": "stderr",
     "output_type": "stream",
     "text": [
      "100%|██████████| 12/12 [00:00<00:00, 167.59it/s]\n",
      "/home/francisco.monteiro@av.it.pt/miniconda3/envs/rapids-23.02/lib/python3.8/site-packages/cuml/internals/api_decorators.py:190: UserWarning: To use pickling first train using float32 data to fit the estimator\n",
      "  ret = func(*args, **kwargs)\n"
     ]
    },
    {
     "name": "stdout",
     "output_type": "stream",
     "text": [
      "Train set:  (436508, 18)\n",
      "Test set:  (139783, 18)\n"
     ]
    },
    {
     "name": "stderr",
     "output_type": "stream",
     "text": [
      "100%|██████████| 12/12 [00:00<00:00, 165.23it/s]\n",
      "/home/francisco.monteiro@av.it.pt/miniconda3/envs/rapids-23.02/lib/python3.8/site-packages/cuml/internals/api_decorators.py:190: UserWarning: To use pickling first train using float32 data to fit the estimator\n",
      "  ret = func(*args, **kwargs)\n"
     ]
    },
    {
     "name": "stdout",
     "output_type": "stream",
     "text": [
      "Train set:  (389424, 18)\n",
      "Test set:  (186867, 18)\n"
     ]
    },
    {
     "name": "stderr",
     "output_type": "stream",
     "text": [
      "100%|██████████| 12/12 [00:00<00:00, 165.80it/s]\n",
      "/home/francisco.monteiro@av.it.pt/miniconda3/envs/rapids-23.02/lib/python3.8/site-packages/cuml/internals/api_decorators.py:190: UserWarning: To use pickling first train using float32 data to fit the estimator\n",
      "  ret = func(*args, **kwargs)\n"
     ]
    },
    {
     "name": "stdout",
     "output_type": "stream",
     "text": [
      "Train set:  (423466, 18)\n",
      "Test set:  (152825, 18)\n"
     ]
    }
   ],
   "source": [
    "metrics_list_rf = []\n",
    "print(\"\\n----------------------------\", file=sourceFile)\n",
    "print(\"\\nRandom Forest\\n\", file=sourceFile)\n",
    "print(\"----------------------------\\n\", file=sourceFile)\n",
    "for i in range(10):\n",
    "    print(\"\\nIteration\", i, file=sourceFile)\n",
    "    mse, wape, r2, model_rf = test_leave_house_out(df, cuRF(), number_of_timesteps, num_houses_test, locations[i], sourceFile)\n",
    "    metrics_list_rf.append((mse, wape, r2))"
   ]
  },
  {
   "attachments": {},
   "cell_type": "markdown",
   "id": "acf0bc50",
   "metadata": {},
   "source": [
    "## Averaged Metrics"
   ]
  },
  {
   "cell_type": "code",
   "execution_count": 23,
   "id": "5ba79fd9",
   "metadata": {},
   "outputs": [],
   "source": [
    "print(\"\\n\\n\\n\", file=sourceFile)"
   ]
  },
  {
   "cell_type": "code",
   "execution_count": 24,
   "id": "9038241b",
   "metadata": {},
   "outputs": [],
   "source": [
    "print(\"\\nLinear Regression\", file=sourceFile)\n",
    "total_averaged_metrics(metrics_list_lr, sourceFile)"
   ]
  },
  {
   "cell_type": "code",
   "execution_count": 25,
   "id": "c4d11803",
   "metadata": {},
   "outputs": [],
   "source": [
    "print(\"\\nXGBoost\", file=sourceFile)\n",
    "total_averaged_metrics(metrics_list_xgb, sourceFile)"
   ]
  },
  {
   "cell_type": "code",
   "execution_count": 26,
   "id": "387e0bf7",
   "metadata": {},
   "outputs": [],
   "source": [
    "print(\"\\nRandom Forest\", file=sourceFile)\n",
    "total_averaged_metrics(metrics_list_rf, sourceFile)"
   ]
  },
  {
   "attachments": {},
   "cell_type": "markdown",
   "id": "5457d9ea",
   "metadata": {},
   "source": [
    "### Feature Importance"
   ]
  },
  {
   "cell_type": "code",
   "execution_count": 27,
   "id": "071d8a2e",
   "metadata": {},
   "outputs": [
    {
     "name": "stdout",
     "output_type": "stream",
     "text": [
      "Linear Regression\n",
      "\n",
      "Feature: 0, Score: 11.03851\n",
      "Feature: 1, Score: -0.95973\n",
      "Feature: 2, Score: 1.15488\n",
      "Feature: 3, Score: 0.11373\n",
      "Feature: 4, Score: 0.34726\n",
      "Feature: 5, Score: 0.31243\n",
      "Feature: 6, Score: 0.49835\n",
      "Feature: 7, Score: -0.27333\n",
      "Feature: 8, Score: 0.20268\n",
      "Feature: 9, Score: -0.02998\n",
      "Feature: 10, Score: 0.19033\n",
      "Feature: 11, Score: 0.25578\n",
      "Feature: 12, Score: -0.00048\n",
      "Feature: 13, Score: 0.00679\n",
      "Feature: 14, Score: 0.07702\n",
      "XGBoost\n",
      "\n",
      "Feature: 0, Score: 0.71776\n",
      "Feature: 1, Score: 0.03035\n",
      "Feature: 2, Score: 0.02921\n",
      "Feature: 3, Score: 0.01953\n",
      "Feature: 4, Score: 0.01742\n",
      "Feature: 5, Score: 0.01586\n",
      "Feature: 6, Score: 0.02034\n",
      "Feature: 7, Score: 0.01734\n",
      "Feature: 8, Score: 0.01816\n",
      "Feature: 9, Score: 0.01598\n",
      "Feature: 10, Score: 0.01575\n",
      "Feature: 11, Score: 0.01835\n",
      "Feature: 12, Score: 0.01773\n",
      "Feature: 13, Score: 0.00000\n",
      "Feature: 14, Score: 0.04622\n"
     ]
    }
   ],
   "source": [
    "print('Linear Regression\\n')\n",
    "for i,v in enumerate(model_lr.coef_):\n",
    "    print('Feature: %0d, Score: %.5f' % (i,v))\n",
    "print('XGBoost\\n')\n",
    "for i,v in enumerate(model_xgb.feature_importances_):\n",
    "    print('Feature: %0d, Score: %.5f' % (i,v))"
   ]
  },
  {
   "cell_type": "code",
   "execution_count": 28,
   "id": "0f698b11",
   "metadata": {},
   "outputs": [
    {
     "data": {
      "image/png": "[encoded data removed]",
      "text/plain": [
       "<Figure size 640x480 with 1 Axes>"
      ]
     },
     "metadata": {},
     "output_type": "display_data"
    }
   ],
   "source": [
    "plt.bar(range(len(model_xgb.feature_importances_)),model_xgb.feature_importances_)\n",
    "plt.title('Feature Importance')\n",
    "plt.xlabel('Feature')\n",
    "plt.ylabel('Importance')\n",
    "plt.show()"
   ]
  },
  {
   "cell_type": "code",
   "execution_count": 29,
   "id": "c7282910",
   "metadata": {},
   "outputs": [
    {
     "data": {
      "image/png": "[encoded data removed]",
      "text/plain": [
       "<Figure size 640x480 with 1 Axes>"
      ]
     },
     "metadata": {},
     "output_type": "display_data"
    }
   ],
   "source": [
    "plt.bar(range(len(model_lr.coef_)),model_lr.coef_)\n",
    "plt.title('Feature Importance')\n",
    "plt.xlabel('Feature')\n",
    "plt.ylabel('Importance')\n",
    "plt.show()"
   ]
  },
  {
   "cell_type": "code",
   "execution_count": 30,
   "id": "289c92d1",
   "metadata": {},
   "outputs": [],
   "source": [
    "sourceFile.close()"
   ]
  },
  {
   "cell_type": "code",
   "execution_count": null,
   "id": "c9de4a6b",
   "metadata": {},
   "outputs": [],
   "source": []
  }
 ],
 "metadata": {
  "kernelspec": {
   "display_name": "Python 3 (ipykernel)",
   "language": "python",
   "name": "python3"
  },
  "language_info": {
   "codemirror_mode": {
    "name": "ipython",
    "version": 3
   },
   "file_extension": ".py",
   "mimetype": "text/x-python",
   "name": "python",
   "nbconvert_exporter": "python",
   "pygments_lexer": "ipython3",
   "version": "3.8.16"
  }
 },
 "nbformat": 4,
 "nbformat_minor": 5
}
