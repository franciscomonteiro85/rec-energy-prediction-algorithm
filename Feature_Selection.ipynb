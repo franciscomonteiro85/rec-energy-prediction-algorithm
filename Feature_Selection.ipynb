{
 "cells": [
  {
   "cell_type": "code",
   "execution_count": 1,
   "metadata": {},
   "outputs": [],
   "source": [
    "import pandas as pd\n",
    "import matplotlib.pyplot as plt\n",
    "import numpy as np"
   ]
  },
  {
   "cell_type": "code",
   "execution_count": 2,
   "metadata": {},
   "outputs": [],
   "source": [
    "coop = pd.read_csv(\"data/coopernico_best20features.csv\")\n",
    "porto = pd.read_csv(\"data/porto_best40features.csv\")\n",
    "shared = pd.read_csv(\"data/shared_best40features.csv\")\n",
    "porto.drop([\"Energy\", \"Time\", \"Location\"],axis=1,inplace=True)\n",
    "coop.drop([\"Energy\", \"Time\", \"Location\"],axis=1,inplace=True)\n",
    "shared.drop([\"Energy\", \"Time\", \"Location\"],axis=1,inplace=True)"
   ]
  },
  {
   "cell_type": "code",
   "execution_count": 3,
   "metadata": {},
   "outputs": [
    {
     "data": {
      "text/plain": [
       "['energy_lag_3', 'energy_lag_95', 'energy_lag_1', 'energy_lag_671']"
      ]
     },
     "execution_count": 3,
     "metadata": {},
     "output_type": "execute_result"
    }
   ],
   "source": [
    "porto = porto.iloc[:,:20]\n",
    "shared = shared.iloc[:,:20]\n",
    "common_elements = list(set(coop).intersection(set(porto)))\n",
    "common_elements = list(set(common_elements).intersection(set(shared)))\n",
    "common_elements"
   ]
  },
  {
   "cell_type": "code",
   "execution_count": 4,
   "metadata": {},
   "outputs": [
    {
     "name": "stdout",
     "output_type": "stream",
     "text": [
      "Index(['energy_lag_1', 'energy_lag_672', 'energy_lag_167', 'energy_lag_671',\n",
      "       'energy_lag_2', 'energy_lag_228', 'energy_lag_666', 'energy_lag_94',\n",
      "       'energy_lag_95', 'energy_lag_445', 'energy_lag_11', 'energy_lag_191',\n",
      "       'energy_lag_667', 'energy_lag_575', 'energy_lag_576', 'energy_lag_3',\n",
      "       'energy_lag_92', 'energy_lag_665', 'energy_lag_10', 'energy_lag_348'],\n",
      "      dtype='object')\n",
      "Index(['energy_lag_1', 'energy_lag_189', 'energy_lag_94', 'energy_lag_671',\n",
      "       'energy_lag_374', 'energy_lag_286', 'energy_lag_191', 'energy_lag_192',\n",
      "       'energy_lag_95', 'energy_lag_91', 'energy_lag_385', 'energy_lag_96',\n",
      "       'energy_lag_659', 'energy_lag_188', 'energy_lag_3', 'energy_lag_287',\n",
      "       'energy_lag_93', 'energy_lag_284', 'energy_lag_576', 'energy_lag_574'],\n",
      "      dtype='object')\n",
      "Index(['energy_lag_1', 'energy_lag_143', 'energy_lag_87', 'energy_lag_190',\n",
      "       'energy_lag_607', 'energy_lag_433', 'energy_lag_459', 'energy_lag_76',\n",
      "       'energy_lag_671', 'energy_lag_301', 'energy_lag_178', 'energy_lag_85',\n",
      "       'energy_lag_61', 'energy_lag_670', 'energy_lag_641', 'energy_lag_86',\n",
      "       'energy_lag_3', 'energy_lag_93', 'energy_lag_95', 'Hour'],\n",
      "      dtype='object')\n"
     ]
    }
   ],
   "source": [
    "print(coop.columns)\n",
    "print(porto.columns)\n",
    "print(shared.columns)"
   ]
  },
  {
   "cell_type": "code",
   "execution_count": null,
   "metadata": {},
   "outputs": [],
   "source": []
  }
 ],
 "metadata": {
  "kernelspec": {
   "display_name": "rapids-23.02",
   "language": "python",
   "name": "python3"
  },
  "language_info": {
   "codemirror_mode": {
    "name": "ipython",
    "version": 3
   },
   "file_extension": ".py",
   "mimetype": "text/x-python",
   "name": "python",
   "nbconvert_exporter": "python",
   "pygments_lexer": "ipython3",
   "version": "3.8.16"
  },
  "orig_nbformat": 4
 },
 "nbformat": 4,
 "nbformat_minor": 2
}
