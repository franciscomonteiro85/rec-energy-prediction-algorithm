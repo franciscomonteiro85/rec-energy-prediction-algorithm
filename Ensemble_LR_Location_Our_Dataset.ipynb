{
 "cells": [
  {
   "cell_type": "code",
   "execution_count": 144,
   "id": "58081526",
   "metadata": {},
   "outputs": [],
   "source": [
    "import warnings\n",
    "warnings.filterwarnings('ignore',category=FutureWarning)\n",
    "warnings.filterwarnings('ignore',category=DeprecationWarning)\n",
    "import numpy as np\n",
    "import pandas as pd\n",
    "import matplotlib.pyplot as plt\n",
    "from sklearn.model_selection import train_test_split, cross_val_score, cross_validate, KFold, RepeatedKFold, RandomizedSearchCV\n",
    "from sklearn.metrics import mean_squared_error, r2_score, mean_absolute_error, mean_absolute_percentage_error\n",
    "from sklearn.linear_model import LinearRegression\n",
    "from sklearn.preprocessing import PolynomialFeatures, MinMaxScaler\n",
    "from sklearn.ensemble import GradientBoostingRegressor, RandomForestRegressor\n",
    "from sklearn.linear_model import LinearRegression\n",
    "import time\n",
    "import cudf\n",
    "from cuml.ensemble import RandomForestRegressor as cuRF\n",
    "import math\n",
    "import xgboost as xgb"
   ]
  },
  {
   "attachments": {},
   "cell_type": "markdown",
   "id": "e6a60d92",
   "metadata": {},
   "source": [
    "#### Output file"
   ]
  },
  {
   "cell_type": "code",
   "execution_count": 145,
   "id": "4dd1b2fe",
   "metadata": {},
   "outputs": [],
   "source": [
    "sourceFile = open(\"gpu_logs/ensemble_our.txt\", 'w')"
   ]
  },
  {
   "cell_type": "markdown",
   "id": "a8dda9da",
   "metadata": {},
   "source": [
    "### Load the data"
   ]
  },
  {
   "cell_type": "code",
   "execution_count": 146,
   "id": "f6963e23",
   "metadata": {},
   "outputs": [
    {
     "data": {
      "text/html": [
       "<div>\n",
       "<style scoped>\n",
       "    .dataframe tbody tr th:only-of-type {\n",
       "        vertical-align: middle;\n",
       "    }\n",
       "\n",
       "    .dataframe tbody tr th {\n",
       "        vertical-align: top;\n",
       "    }\n",
       "\n",
       "    .dataframe thead th {\n",
       "        text-align: right;\n",
       "    }\n",
       "</style>\n",
       "<table border=\"1\" class=\"dataframe\">\n",
       "  <thead>\n",
       "    <tr style=\"text-align: right;\">\n",
       "      <th></th>\n",
       "      <th>Time</th>\n",
       "      <th>Location</th>\n",
       "      <th>Energy</th>\n",
       "    </tr>\n",
       "  </thead>\n",
       "  <tbody>\n",
       "    <tr>\n",
       "      <th>0</th>\n",
       "      <td>2021-11-01 00:15:00</td>\n",
       "      <td>PT41CV</td>\n",
       "      <td>0.028</td>\n",
       "    </tr>\n",
       "    <tr>\n",
       "      <th>1</th>\n",
       "      <td>2021-11-01 00:30:00</td>\n",
       "      <td>PT41CV</td>\n",
       "      <td>0.080</td>\n",
       "    </tr>\n",
       "    <tr>\n",
       "      <th>2</th>\n",
       "      <td>2021-11-01 00:45:00</td>\n",
       "      <td>PT41CV</td>\n",
       "      <td>0.092</td>\n",
       "    </tr>\n",
       "    <tr>\n",
       "      <th>3</th>\n",
       "      <td>2021-11-01 01:00:00</td>\n",
       "      <td>PT41CV</td>\n",
       "      <td>0.040</td>\n",
       "    </tr>\n",
       "    <tr>\n",
       "      <th>4</th>\n",
       "      <td>2021-11-01 01:15:00</td>\n",
       "      <td>PT41CV</td>\n",
       "      <td>0.076</td>\n",
       "    </tr>\n",
       "    <tr>\n",
       "      <th>...</th>\n",
       "      <td>...</td>\n",
       "      <td>...</td>\n",
       "      <td>...</td>\n",
       "    </tr>\n",
       "    <tr>\n",
       "      <th>245219</th>\n",
       "      <td>2022-10-31 23:00:00</td>\n",
       "      <td>PT87ZW</td>\n",
       "      <td>0.368</td>\n",
       "    </tr>\n",
       "    <tr>\n",
       "      <th>245220</th>\n",
       "      <td>2022-10-31 23:15:00</td>\n",
       "      <td>PT87ZW</td>\n",
       "      <td>0.396</td>\n",
       "    </tr>\n",
       "    <tr>\n",
       "      <th>245221</th>\n",
       "      <td>2022-10-31 23:30:00</td>\n",
       "      <td>PT87ZW</td>\n",
       "      <td>0.356</td>\n",
       "    </tr>\n",
       "    <tr>\n",
       "      <th>245222</th>\n",
       "      <td>2022-10-31 23:45:00</td>\n",
       "      <td>PT87ZW</td>\n",
       "      <td>0.392</td>\n",
       "    </tr>\n",
       "    <tr>\n",
       "      <th>245223</th>\n",
       "      <td>2022-11-01 00:00:00</td>\n",
       "      <td>PT87ZW</td>\n",
       "      <td>0.356</td>\n",
       "    </tr>\n",
       "  </tbody>\n",
       "</table>\n",
       "<p>245224 rows × 3 columns</p>\n",
       "</div>"
      ],
      "text/plain": [
       "                      Time Location  Energy\n",
       "0      2021-11-01 00:15:00   PT41CV   0.028\n",
       "1      2021-11-01 00:30:00   PT41CV   0.080\n",
       "2      2021-11-01 00:45:00   PT41CV   0.092\n",
       "3      2021-11-01 01:00:00   PT41CV   0.040\n",
       "4      2021-11-01 01:15:00   PT41CV   0.076\n",
       "...                    ...      ...     ...\n",
       "245219 2022-10-31 23:00:00   PT87ZW   0.368\n",
       "245220 2022-10-31 23:15:00   PT87ZW   0.396\n",
       "245221 2022-10-31 23:30:00   PT87ZW   0.356\n",
       "245222 2022-10-31 23:45:00   PT87ZW   0.392\n",
       "245223 2022-11-01 00:00:00   PT87ZW   0.356\n",
       "\n",
       "[245224 rows x 3 columns]"
      ]
     },
     "execution_count": 146,
     "metadata": {},
     "output_type": "execute_result"
    }
   ],
   "source": [
    "df = pd.read_pickle(\"../datasets/df_location_our_dataset.pkl\")\n",
    "number_of_houses = 7\n",
    "num_samples_per_house = 35032\n",
    "df.reset_index(drop=True, inplace=True)\n",
    "df = df.iloc[:, [0, 2, 1]]\n",
    "df['Time'] =  pd.to_datetime(df['Time'])\n",
    "df"
   ]
  },
  {
   "cell_type": "markdown",
   "id": "54c9d325",
   "metadata": {},
   "source": [
    "### Auxiliary functions"
   ]
  },
  {
   "cell_type": "code",
   "execution_count": 147,
   "id": "cd78e17d",
   "metadata": {},
   "outputs": [],
   "source": [
    "def plot_results(preds: np.array, actuals: np.array, title: str):\n",
    "    \n",
    "    plt.scatter(actuals, preds, c='b', label='predicted')\n",
    "    plt.xlabel('actual')\n",
    "    plt.ylabel('predicted')\n",
    "    plt.title(title)\n",
    "    plt.xlim(0, plt.xlim()[1])\n",
    "    plt.ylim(0, plt.ylim()[1])\n",
    "    _ = plt.plot([0, 100], [0, 100], '--r', label='y=x')\n",
    "    plt.legend()\n",
    "    plt.show()\n",
    "    \n",
    "    \n",
    "def performance_metrics(preds: np.array, actuals: np.array, filename):\n",
    "\n",
    "    # calculate performance metrics\n",
    "    \n",
    "    mse = mean_squared_error(actuals, preds)\n",
    "    wape = np.sum(np.abs(preds - actuals)) / np.sum(np.abs(actuals)) * 100\n",
    "    r2 = r2_score(actuals, preds)\n",
    "    \n",
    "    # print performance metrics\n",
    "    print('MSE: %.4f' % mse, file=filename)\n",
    "    print('WAPE: %.4f' % wape, file=filename)\n",
    "    print('R2: %.4f' % r2, file=filename)\n",
    "    return mse, wape, r2\n",
    "\n",
    "#@jit(target_backend='cuda')\n",
    "def build_model(estimator, X_train: np.array, y_train: np.array, X_test: np.array):\n",
    "    \n",
    "    model = estimator\n",
    "    model.fit(X_train, y_train)\n",
    "    preds = model.predict(X_test)\n",
    "    \n",
    "    return model, preds\n",
    "\n",
    "def validate(estimator, X_train, y_train):\n",
    "    scores = cross_validate(estimator, X_train, y_train, scoring=['r2', 'neg_mean_squared_error'])\n",
    "    return scores\n",
    "    "
   ]
  },
  {
   "cell_type": "code",
   "execution_count": 148,
   "id": "8af19e8d",
   "metadata": {},
   "outputs": [],
   "source": [
    "def total_averaged_metrics(metrics_list, filename):\n",
    "    \n",
    "    print(\"Total Averaged MSE: {}\".format(np.round(sum(i for i, j, k in metrics_list)/len(metrics_list),3)), file=filename)\n",
    "    print(\"Total Averaged WAPE: {}\".format(np.round(sum(j for i, j, k in metrics_list)/len(metrics_list),3)), file=filename)\n",
    "    print(\"Total Averaged R2: {}\".format(np.round(sum(k for i, j, k in metrics_list)/len(metrics_list),3)), file=filename)\n",
    "\n",
    "\n",
    "def last_energy_points(df, number_timesteps, num_samples_per_house):\n",
    "    X = pd.DataFrame()\n",
    "    for i in range(1, (number_timesteps + 1) ):\n",
    "        X[f'Energy_{i*15}'] = df['Energy'].shift(i)\n",
    "    y = pd.DataFrame(df[number_timesteps:])\n",
    "    y = y['Energy']\n",
    "    ## Remove samples in between each house\n",
    "    for h in range(1, number_of_houses):\n",
    "        for i in range(0, number_timesteps):\n",
    "            X.iloc[(num_samples_per_house+i)*h] = np.nan\n",
    "            y.iloc[(num_samples_per_house+i)*h] = np.nan\n",
    "    X.dropna(inplace=True)\n",
    "    X.reset_index(drop=True, inplace=True)\n",
    "    y.dropna(inplace=True)\n",
    "    y.reset_index(drop=True, inplace=True)\n",
    "    y.columns = [\"Energy\"]\n",
    "    return X, y\n",
    "\n",
    "def last_energy_points_full(df, number_timesteps, num_samples_per_house):\n",
    "    X = pd.DataFrame()\n",
    "    other_feats = df.iloc[:,:2]\n",
    "    for i in range(1, (number_timesteps + 1) ):\n",
    "        X[f'Energy_{i*15}'] = df['Energy'].shift(i)\n",
    "    y = df.copy().iloc[:,2]\n",
    "    y.iloc[:number_timesteps] = np.nan\n",
    "    ## Remove samples in between each house\n",
    "    for h in range(1, number_of_houses):\n",
    "        for i in range(0, number_timesteps):\n",
    "            X.iloc[(num_samples_per_house+i)*h] = np.nan\n",
    "            y.iloc[(num_samples_per_house+i)*h] = np.nan\n",
    "    X = pd.concat([other_feats, X], axis=1)\n",
    "    X.dropna(inplace=True)\n",
    "    X.reset_index(drop=True, inplace=True)\n",
    "    y.dropna(inplace=True)\n",
    "    y.reset_index(drop=True, inplace=True)\n",
    "    y.columns = [\"Energy\"]\n",
    "    dataframe = pd.concat([X,y.rename('Energy')], axis=1)\n",
    "    assert number_of_houses == (df.shape[0] - dataframe.shape[0]) / number_timesteps, \"Something went wrong with preprocessing\"\n",
    "    return dataframe"
   ]
  },
  {
   "cell_type": "code",
   "execution_count": 149,
   "id": "9d0352ee",
   "metadata": {},
   "outputs": [],
   "source": [
    "def normalize_training(X_train):\n",
    "    scaler = MinMaxScaler(feature_range=(0,1))\n",
    "    scaler.fit(X_train)\n",
    "    X_train = scaler.transform(X_train)\n",
    "    return X_train, scaler"
   ]
  },
  {
   "cell_type": "markdown",
   "id": "bd1b0d17",
   "metadata": {},
   "source": [
    "### Cross Validate"
   ]
  },
  {
   "cell_type": "code",
   "execution_count": 150,
   "id": "71efa19a",
   "metadata": {},
   "outputs": [],
   "source": [
    "#scores = validate(model, X_train, y_train)\n",
    "#cv_mse = np.round(scores['test_neg_mean_squared_error'].mean() * (-1),4)\n",
    "#cv_r2 = np.round(scores['test_r2'].mean(),5)\n",
    "#print(\"CV MSE: {} \".format(cv_mse))\n",
    "#print(\"CV R2: {} \".format(cv_r2))\n",
    "#metrics_list.append((cv_mse,cv_rmse,cv_mae,mape,cv_r2))"
   ]
  },
  {
   "cell_type": "markdown",
   "id": "0f5ba7c5",
   "metadata": {},
   "source": [
    "## Leave 10 houses for test (demonstration)"
   ]
  },
  {
   "cell_type": "code",
   "execution_count": 151,
   "id": "fd9b27b9",
   "metadata": {},
   "outputs": [],
   "source": [
    "number_of_timesteps = 12"
   ]
  },
  {
   "cell_type": "code",
   "execution_count": 152,
   "id": "ba9e7320",
   "metadata": {},
   "outputs": [
    {
     "data": {
      "text/plain": [
       "array(['PT17RW', 'PT69QG'], dtype=object)"
      ]
     },
     "execution_count": 152,
     "metadata": {},
     "output_type": "execute_result"
    }
   ],
   "source": [
    "locations = np.random.choice(df['Location'].unique(), size=2, replace=False)\n",
    "locations"
   ]
  },
  {
   "cell_type": "code",
   "execution_count": 153,
   "id": "8f9027ef",
   "metadata": {},
   "outputs": [
    {
     "data": {
      "text/html": [
       "<div>\n",
       "<style scoped>\n",
       "    .dataframe tbody tr th:only-of-type {\n",
       "        vertical-align: middle;\n",
       "    }\n",
       "\n",
       "    .dataframe tbody tr th {\n",
       "        vertical-align: top;\n",
       "    }\n",
       "\n",
       "    .dataframe thead th {\n",
       "        text-align: right;\n",
       "    }\n",
       "</style>\n",
       "<table border=\"1\" class=\"dataframe\">\n",
       "  <thead>\n",
       "    <tr style=\"text-align: right;\">\n",
       "      <th></th>\n",
       "      <th>Time</th>\n",
       "      <th>Location</th>\n",
       "      <th>Energy_15</th>\n",
       "      <th>Energy_30</th>\n",
       "      <th>Energy_45</th>\n",
       "      <th>Energy_60</th>\n",
       "      <th>Energy_75</th>\n",
       "      <th>Energy_90</th>\n",
       "      <th>Energy_105</th>\n",
       "      <th>Energy_120</th>\n",
       "      <th>Energy_135</th>\n",
       "      <th>Energy_150</th>\n",
       "      <th>Energy_165</th>\n",
       "      <th>Energy_180</th>\n",
       "      <th>Energy</th>\n",
       "    </tr>\n",
       "  </thead>\n",
       "  <tbody>\n",
       "    <tr>\n",
       "      <th>0</th>\n",
       "      <td>2021-11-01 03:15:00</td>\n",
       "      <td>PT41CV</td>\n",
       "      <td>0.044</td>\n",
       "      <td>0.048</td>\n",
       "      <td>0.116</td>\n",
       "      <td>0.128</td>\n",
       "      <td>0.100</td>\n",
       "      <td>0.180</td>\n",
       "      <td>0.124</td>\n",
       "      <td>0.076</td>\n",
       "      <td>0.040</td>\n",
       "      <td>0.092</td>\n",
       "      <td>0.080</td>\n",
       "      <td>0.028</td>\n",
       "      <td>0.116</td>\n",
       "    </tr>\n",
       "    <tr>\n",
       "      <th>1</th>\n",
       "      <td>2021-11-01 03:30:00</td>\n",
       "      <td>PT41CV</td>\n",
       "      <td>0.116</td>\n",
       "      <td>0.044</td>\n",
       "      <td>0.048</td>\n",
       "      <td>0.116</td>\n",
       "      <td>0.128</td>\n",
       "      <td>0.100</td>\n",
       "      <td>0.180</td>\n",
       "      <td>0.124</td>\n",
       "      <td>0.076</td>\n",
       "      <td>0.040</td>\n",
       "      <td>0.092</td>\n",
       "      <td>0.080</td>\n",
       "      <td>0.048</td>\n",
       "    </tr>\n",
       "    <tr>\n",
       "      <th>2</th>\n",
       "      <td>2021-11-01 03:45:00</td>\n",
       "      <td>PT41CV</td>\n",
       "      <td>0.048</td>\n",
       "      <td>0.116</td>\n",
       "      <td>0.044</td>\n",
       "      <td>0.048</td>\n",
       "      <td>0.116</td>\n",
       "      <td>0.128</td>\n",
       "      <td>0.100</td>\n",
       "      <td>0.180</td>\n",
       "      <td>0.124</td>\n",
       "      <td>0.076</td>\n",
       "      <td>0.040</td>\n",
       "      <td>0.092</td>\n",
       "      <td>0.028</td>\n",
       "    </tr>\n",
       "    <tr>\n",
       "      <th>3</th>\n",
       "      <td>2021-11-01 04:00:00</td>\n",
       "      <td>PT41CV</td>\n",
       "      <td>0.028</td>\n",
       "      <td>0.048</td>\n",
       "      <td>0.116</td>\n",
       "      <td>0.044</td>\n",
       "      <td>0.048</td>\n",
       "      <td>0.116</td>\n",
       "      <td>0.128</td>\n",
       "      <td>0.100</td>\n",
       "      <td>0.180</td>\n",
       "      <td>0.124</td>\n",
       "      <td>0.076</td>\n",
       "      <td>0.040</td>\n",
       "      <td>0.112</td>\n",
       "    </tr>\n",
       "    <tr>\n",
       "      <th>4</th>\n",
       "      <td>2021-11-01 04:15:00</td>\n",
       "      <td>PT41CV</td>\n",
       "      <td>0.112</td>\n",
       "      <td>0.028</td>\n",
       "      <td>0.048</td>\n",
       "      <td>0.116</td>\n",
       "      <td>0.044</td>\n",
       "      <td>0.048</td>\n",
       "      <td>0.116</td>\n",
       "      <td>0.128</td>\n",
       "      <td>0.100</td>\n",
       "      <td>0.180</td>\n",
       "      <td>0.124</td>\n",
       "      <td>0.076</td>\n",
       "      <td>0.060</td>\n",
       "    </tr>\n",
       "    <tr>\n",
       "      <th>...</th>\n",
       "      <td>...</td>\n",
       "      <td>...</td>\n",
       "      <td>...</td>\n",
       "      <td>...</td>\n",
       "      <td>...</td>\n",
       "      <td>...</td>\n",
       "      <td>...</td>\n",
       "      <td>...</td>\n",
       "      <td>...</td>\n",
       "      <td>...</td>\n",
       "      <td>...</td>\n",
       "      <td>...</td>\n",
       "      <td>...</td>\n",
       "      <td>...</td>\n",
       "      <td>...</td>\n",
       "    </tr>\n",
       "    <tr>\n",
       "      <th>245135</th>\n",
       "      <td>2022-10-31 23:00:00</td>\n",
       "      <td>PT87ZW</td>\n",
       "      <td>0.392</td>\n",
       "      <td>0.564</td>\n",
       "      <td>0.632</td>\n",
       "      <td>0.592</td>\n",
       "      <td>0.512</td>\n",
       "      <td>0.512</td>\n",
       "      <td>0.504</td>\n",
       "      <td>0.564</td>\n",
       "      <td>0.664</td>\n",
       "      <td>0.608</td>\n",
       "      <td>0.592</td>\n",
       "      <td>0.696</td>\n",
       "      <td>0.368</td>\n",
       "    </tr>\n",
       "    <tr>\n",
       "      <th>245136</th>\n",
       "      <td>2022-10-31 23:15:00</td>\n",
       "      <td>PT87ZW</td>\n",
       "      <td>0.368</td>\n",
       "      <td>0.392</td>\n",
       "      <td>0.564</td>\n",
       "      <td>0.632</td>\n",
       "      <td>0.592</td>\n",
       "      <td>0.512</td>\n",
       "      <td>0.512</td>\n",
       "      <td>0.504</td>\n",
       "      <td>0.564</td>\n",
       "      <td>0.664</td>\n",
       "      <td>0.608</td>\n",
       "      <td>0.592</td>\n",
       "      <td>0.396</td>\n",
       "    </tr>\n",
       "    <tr>\n",
       "      <th>245137</th>\n",
       "      <td>2022-10-31 23:30:00</td>\n",
       "      <td>PT87ZW</td>\n",
       "      <td>0.396</td>\n",
       "      <td>0.368</td>\n",
       "      <td>0.392</td>\n",
       "      <td>0.564</td>\n",
       "      <td>0.632</td>\n",
       "      <td>0.592</td>\n",
       "      <td>0.512</td>\n",
       "      <td>0.512</td>\n",
       "      <td>0.504</td>\n",
       "      <td>0.564</td>\n",
       "      <td>0.664</td>\n",
       "      <td>0.608</td>\n",
       "      <td>0.356</td>\n",
       "    </tr>\n",
       "    <tr>\n",
       "      <th>245138</th>\n",
       "      <td>2022-10-31 23:45:00</td>\n",
       "      <td>PT87ZW</td>\n",
       "      <td>0.356</td>\n",
       "      <td>0.396</td>\n",
       "      <td>0.368</td>\n",
       "      <td>0.392</td>\n",
       "      <td>0.564</td>\n",
       "      <td>0.632</td>\n",
       "      <td>0.592</td>\n",
       "      <td>0.512</td>\n",
       "      <td>0.512</td>\n",
       "      <td>0.504</td>\n",
       "      <td>0.564</td>\n",
       "      <td>0.664</td>\n",
       "      <td>0.392</td>\n",
       "    </tr>\n",
       "    <tr>\n",
       "      <th>245139</th>\n",
       "      <td>2022-11-01 00:00:00</td>\n",
       "      <td>PT87ZW</td>\n",
       "      <td>0.392</td>\n",
       "      <td>0.356</td>\n",
       "      <td>0.396</td>\n",
       "      <td>0.368</td>\n",
       "      <td>0.392</td>\n",
       "      <td>0.564</td>\n",
       "      <td>0.632</td>\n",
       "      <td>0.592</td>\n",
       "      <td>0.512</td>\n",
       "      <td>0.512</td>\n",
       "      <td>0.504</td>\n",
       "      <td>0.564</td>\n",
       "      <td>0.356</td>\n",
       "    </tr>\n",
       "  </tbody>\n",
       "</table>\n",
       "<p>245140 rows × 15 columns</p>\n",
       "</div>"
      ],
      "text/plain": [
       "                      Time Location  Energy_15  Energy_30  Energy_45  \\\n",
       "0      2021-11-01 03:15:00   PT41CV      0.044      0.048      0.116   \n",
       "1      2021-11-01 03:30:00   PT41CV      0.116      0.044      0.048   \n",
       "2      2021-11-01 03:45:00   PT41CV      0.048      0.116      0.044   \n",
       "3      2021-11-01 04:00:00   PT41CV      0.028      0.048      0.116   \n",
       "4      2021-11-01 04:15:00   PT41CV      0.112      0.028      0.048   \n",
       "...                    ...      ...        ...        ...        ...   \n",
       "245135 2022-10-31 23:00:00   PT87ZW      0.392      0.564      0.632   \n",
       "245136 2022-10-31 23:15:00   PT87ZW      0.368      0.392      0.564   \n",
       "245137 2022-10-31 23:30:00   PT87ZW      0.396      0.368      0.392   \n",
       "245138 2022-10-31 23:45:00   PT87ZW      0.356      0.396      0.368   \n",
       "245139 2022-11-01 00:00:00   PT87ZW      0.392      0.356      0.396   \n",
       "\n",
       "        Energy_60  Energy_75  Energy_90  Energy_105  Energy_120  Energy_135  \\\n",
       "0           0.128      0.100      0.180       0.124       0.076       0.040   \n",
       "1           0.116      0.128      0.100       0.180       0.124       0.076   \n",
       "2           0.048      0.116      0.128       0.100       0.180       0.124   \n",
       "3           0.044      0.048      0.116       0.128       0.100       0.180   \n",
       "4           0.116      0.044      0.048       0.116       0.128       0.100   \n",
       "...           ...        ...        ...         ...         ...         ...   \n",
       "245135      0.592      0.512      0.512       0.504       0.564       0.664   \n",
       "245136      0.632      0.592      0.512       0.512       0.504       0.564   \n",
       "245137      0.564      0.632      0.592       0.512       0.512       0.504   \n",
       "245138      0.392      0.564      0.632       0.592       0.512       0.512   \n",
       "245139      0.368      0.392      0.564       0.632       0.592       0.512   \n",
       "\n",
       "        Energy_150  Energy_165  Energy_180  Energy  \n",
       "0            0.092       0.080       0.028   0.116  \n",
       "1            0.040       0.092       0.080   0.048  \n",
       "2            0.076       0.040       0.092   0.028  \n",
       "3            0.124       0.076       0.040   0.112  \n",
       "4            0.180       0.124       0.076   0.060  \n",
       "...            ...         ...         ...     ...  \n",
       "245135       0.608       0.592       0.696   0.368  \n",
       "245136       0.664       0.608       0.592   0.396  \n",
       "245137       0.564       0.664       0.608   0.356  \n",
       "245138       0.504       0.564       0.664   0.392  \n",
       "245139       0.512       0.504       0.564   0.356  \n",
       "\n",
       "[245140 rows x 15 columns]"
      ]
     },
     "execution_count": 153,
     "metadata": {},
     "output_type": "execute_result"
    }
   ],
   "source": [
    "df_new = last_energy_points_full(df, number_of_timesteps, num_samples_per_house)\n",
    "df_new"
   ]
  },
  {
   "cell_type": "code",
   "execution_count": 154,
   "id": "bb6cf023",
   "metadata": {},
   "outputs": [
    {
     "data": {
      "text/plain": [
       "Time          0\n",
       "Location      0\n",
       "Energy_15     0\n",
       "Energy_30     0\n",
       "Energy_45     0\n",
       "Energy_60     0\n",
       "Energy_75     0\n",
       "Energy_90     0\n",
       "Energy_105    0\n",
       "Energy_120    0\n",
       "Energy_135    0\n",
       "Energy_150    0\n",
       "Energy_165    0\n",
       "Energy_180    0\n",
       "Energy        0\n",
       "dtype: int64"
      ]
     },
     "execution_count": 154,
     "metadata": {},
     "output_type": "execute_result"
    }
   ],
   "source": [
    "df_new.isna().sum()"
   ]
  },
  {
   "cell_type": "code",
   "execution_count": 155,
   "id": "daa9a0ea",
   "metadata": {},
   "outputs": [],
   "source": [
    "def test_leave_house_out(df, estimator, number_timesteps, num_houses_test, locations, filename):\n",
    "    df_new = last_energy_points_full(df, number_timesteps, num_samples_per_house)\n",
    "    df_new['DayOfWeek'] = df_new['Time'].dt.dayofweek\n",
    "    df_new['Weekend'] = df_new['Time'].dt.dayofweek.isin([5,6]).astype(int)\n",
    "    df_new['Hour'] = df_new['Time'].dt.hour\n",
    "    test = df_new[df_new['Location'].isin(locations)]\n",
    "    train = df_new[~df_new['Location'].isin(locations)]\n",
    "    print(\"Train set: \", train.shape)\n",
    "    print(\"Test set: \", test.shape)\n",
    "    X_train = train.drop(['Time', 'Energy', 'Location'], axis=1)\n",
    "    X_test = test.drop(['Time', 'Energy', 'Location'], axis=1)\n",
    "    y_train = train['Energy']\n",
    "    y_test = test['Energy']\n",
    "    X_train_norm, scaler = normalize_training(X_train)\n",
    "    X_test_norm = scaler.transform(X_test)\n",
    "\n",
    "    model = estimator\n",
    "    init = time.time()\n",
    "    model.fit(X_train_norm, y_train)\n",
    "    y_pred = model.predict(X_test_norm)\n",
    "    end = time.time()\n",
    "    print('Elapsed time: {:.4f} s'.format(end - init), file=filename)\n",
    "    mse, wape, r2 = performance_metrics(y_pred, y_test.values.reshape(-1), filename)\n",
    "    return mse, wape, r2, model"
   ]
  },
  {
   "cell_type": "markdown",
   "id": "47b7a1a3",
   "metadata": {},
   "source": [
    "## Predict  10 folds with 10 random houses for test"
   ]
  },
  {
   "cell_type": "markdown",
   "id": "1e4142f8",
   "metadata": {},
   "source": [
    "### XGBoost"
   ]
  },
  {
   "cell_type": "code",
   "execution_count": 156,
   "id": "a92783d8",
   "metadata": {},
   "outputs": [],
   "source": [
    "num_houses_test = 2"
   ]
  },
  {
   "cell_type": "code",
   "execution_count": 157,
   "id": "3b8166de",
   "metadata": {},
   "outputs": [
    {
     "data": {
      "text/plain": [
       "[array(['PT87ZW', 'PT15VP'], dtype=object),\n",
       " array(['PT43QL', 'PT87ZW'], dtype=object),\n",
       " array(['PT15VP', 'PT41CV'], dtype=object),\n",
       " array(['PT43QL', 'PT17RW'], dtype=object),\n",
       " array(['PT15VP', 'PT43QL'], dtype=object),\n",
       " array(['PT87ZW', 'PT41CV'], dtype=object),\n",
       " array(['PT43QL', 'PT87ZW'], dtype=object),\n",
       " array(['PT17RW', 'PT15VP'], dtype=object),\n",
       " array(['PT87ZW', 'PT44AL'], dtype=object),\n",
       " array(['PT69QG', 'PT43QL'], dtype=object)]"
      ]
     },
     "execution_count": 157,
     "metadata": {},
     "output_type": "execute_result"
    }
   ],
   "source": [
    "locations = []\n",
    "for i in range(10):\n",
    "    np.random.seed(i*4)\n",
    "    l = np.random.choice(df['Location'].unique(), size=num_houses_test, replace=False)\n",
    "    locations.append(l)\n",
    "locations"
   ]
  },
  {
   "cell_type": "markdown",
   "id": "30e48b6b",
   "metadata": {},
   "source": [
    "### Linear Regression"
   ]
  },
  {
   "cell_type": "code",
   "execution_count": 158,
   "id": "29000235",
   "metadata": {},
   "outputs": [
    {
     "name": "stdout",
     "output_type": "stream",
     "text": [
      "Train set:  (175100, 18)\n",
      "Test set:  (70040, 18)\n",
      "Train set:  (175100, 18)\n",
      "Test set:  (70040, 18)\n",
      "Train set:  (175100, 18)\n",
      "Test set:  (70040, 18)\n",
      "Train set:  (175100, 18)\n",
      "Test set:  (70040, 18)\n",
      "Train set:  (175100, 18)\n",
      "Test set:  (70040, 18)\n",
      "Train set:  (175100, 18)\n",
      "Test set:  (70040, 18)\n",
      "Train set:  (175100, 18)\n",
      "Test set:  (70040, 18)\n",
      "Train set:  (175100, 18)\n",
      "Test set:  (70040, 18)\n",
      "Train set:  (175100, 18)\n",
      "Test set:  (70040, 18)\n",
      "Train set:  (175100, 18)\n",
      "Test set:  (70040, 18)\n"
     ]
    }
   ],
   "source": [
    "metrics_list_lr = []\n",
    "print(\"\\n----------------------------\", file=sourceFile)\n",
    "print(\"\\nLinear Regression\\n\", file=sourceFile)\n",
    "print(\"----------------------------\\n\", file=sourceFile)\n",
    "for i in range(10):\n",
    "    print(\"\\nIteration\", i, file=sourceFile)\n",
    "    mse, wape, r2, model_lr = test_leave_house_out(df, LinearRegression(), number_of_timesteps, num_houses_test, locations[i], sourceFile)\n",
    "    metrics_list_lr.append((mse, wape, r2))"
   ]
  },
  {
   "cell_type": "markdown",
   "id": "4f05fe8f",
   "metadata": {},
   "source": [
    "### XGBoost"
   ]
  },
  {
   "cell_type": "code",
   "execution_count": 159,
   "id": "a9cfe1a7",
   "metadata": {},
   "outputs": [
    {
     "name": "stdout",
     "output_type": "stream",
     "text": [
      "Train set:  (175100, 18)\n",
      "Test set:  (70040, 18)\n",
      "Train set:  (175100, 18)\n",
      "Test set:  (70040, 18)\n",
      "Train set:  (175100, 18)\n",
      "Test set:  (70040, 18)\n",
      "Train set:  (175100, 18)\n",
      "Test set:  (70040, 18)\n",
      "Train set:  (175100, 18)\n",
      "Test set:  (70040, 18)\n",
      "Train set:  (175100, 18)\n",
      "Test set:  (70040, 18)\n",
      "Train set:  (175100, 18)\n",
      "Test set:  (70040, 18)\n",
      "Train set:  (175100, 18)\n",
      "Test set:  (70040, 18)\n",
      "Train set:  (175100, 18)\n",
      "Test set:  (70040, 18)\n",
      "Train set:  (175100, 18)\n",
      "Test set:  (70040, 18)\n"
     ]
    }
   ],
   "source": [
    "metrics_list_xgb = []\n",
    "print(\"\\n----------------------------\", file=sourceFile)\n",
    "print(\"\\nXGBoost\\n\", file=sourceFile)\n",
    "print(\"----------------------------\\n\", file=sourceFile)\n",
    "for i in range(10):\n",
    "    print(\"\\nIteration\", i, file=sourceFile)\n",
    "    mse, wape, r2, model_xgb = test_leave_house_out(df, xgb.XGBRegressor(tree_method='gpu_hist', seed=0), number_of_timesteps, num_houses_test, locations[i], sourceFile)\n",
    "    metrics_list_xgb.append((mse, wape, r2))"
   ]
  },
  {
   "cell_type": "markdown",
   "id": "bc81a8ce",
   "metadata": {},
   "source": [
    "### Random Forest"
   ]
  },
  {
   "cell_type": "code",
   "execution_count": 160,
   "id": "81a082e6",
   "metadata": {},
   "outputs": [
    {
     "name": "stdout",
     "output_type": "stream",
     "text": [
      "Train set:  (175100, 18)\n",
      "Test set:  (70040, 18)\n"
     ]
    },
    {
     "name": "stderr",
     "output_type": "stream",
     "text": [
      "/home/francisco.monteiro@av.it.pt/miniconda3/envs/rapids-23.02/lib/python3.8/site-packages/cuml/internals/api_decorators.py:190: UserWarning: To use pickling first train using float32 data to fit the estimator\n",
      "  ret = func(*args, **kwargs)\n"
     ]
    },
    {
     "name": "stdout",
     "output_type": "stream",
     "text": [
      "Train set:  (175100, 18)\n",
      "Test set:  (70040, 18)\n"
     ]
    },
    {
     "name": "stderr",
     "output_type": "stream",
     "text": [
      "/home/francisco.monteiro@av.it.pt/miniconda3/envs/rapids-23.02/lib/python3.8/site-packages/cuml/internals/api_decorators.py:190: UserWarning: To use pickling first train using float32 data to fit the estimator\n",
      "  ret = func(*args, **kwargs)\n"
     ]
    },
    {
     "name": "stdout",
     "output_type": "stream",
     "text": [
      "Train set:  (175100, 18)\n",
      "Test set:  (70040, 18)\n"
     ]
    },
    {
     "name": "stderr",
     "output_type": "stream",
     "text": [
      "/home/francisco.monteiro@av.it.pt/miniconda3/envs/rapids-23.02/lib/python3.8/site-packages/cuml/internals/api_decorators.py:190: UserWarning: To use pickling first train using float32 data to fit the estimator\n",
      "  ret = func(*args, **kwargs)\n"
     ]
    },
    {
     "name": "stdout",
     "output_type": "stream",
     "text": [
      "Train set:  (175100, 18)\n",
      "Test set:  (70040, 18)\n"
     ]
    },
    {
     "name": "stderr",
     "output_type": "stream",
     "text": [
      "/home/francisco.monteiro@av.it.pt/miniconda3/envs/rapids-23.02/lib/python3.8/site-packages/cuml/internals/api_decorators.py:190: UserWarning: To use pickling first train using float32 data to fit the estimator\n",
      "  ret = func(*args, **kwargs)\n"
     ]
    },
    {
     "name": "stdout",
     "output_type": "stream",
     "text": [
      "Train set:  (175100, 18)\n",
      "Test set:  (70040, 18)\n"
     ]
    },
    {
     "name": "stderr",
     "output_type": "stream",
     "text": [
      "/home/francisco.monteiro@av.it.pt/miniconda3/envs/rapids-23.02/lib/python3.8/site-packages/cuml/internals/api_decorators.py:190: UserWarning: To use pickling first train using float32 data to fit the estimator\n",
      "  ret = func(*args, **kwargs)\n"
     ]
    },
    {
     "name": "stdout",
     "output_type": "stream",
     "text": [
      "Train set:  (175100, 18)\n",
      "Test set:  (70040, 18)\n"
     ]
    },
    {
     "name": "stderr",
     "output_type": "stream",
     "text": [
      "/home/francisco.monteiro@av.it.pt/miniconda3/envs/rapids-23.02/lib/python3.8/site-packages/cuml/internals/api_decorators.py:190: UserWarning: To use pickling first train using float32 data to fit the estimator\n",
      "  ret = func(*args, **kwargs)\n"
     ]
    },
    {
     "name": "stdout",
     "output_type": "stream",
     "text": [
      "Train set:  (175100, 18)\n",
      "Test set:  (70040, 18)\n"
     ]
    },
    {
     "name": "stderr",
     "output_type": "stream",
     "text": [
      "/home/francisco.monteiro@av.it.pt/miniconda3/envs/rapids-23.02/lib/python3.8/site-packages/cuml/internals/api_decorators.py:190: UserWarning: To use pickling first train using float32 data to fit the estimator\n",
      "  ret = func(*args, **kwargs)\n"
     ]
    },
    {
     "name": "stdout",
     "output_type": "stream",
     "text": [
      "Train set:  (175100, 18)\n",
      "Test set:  (70040, 18)\n"
     ]
    },
    {
     "name": "stderr",
     "output_type": "stream",
     "text": [
      "/home/francisco.monteiro@av.it.pt/miniconda3/envs/rapids-23.02/lib/python3.8/site-packages/cuml/internals/api_decorators.py:190: UserWarning: To use pickling first train using float32 data to fit the estimator\n",
      "  ret = func(*args, **kwargs)\n"
     ]
    },
    {
     "name": "stdout",
     "output_type": "stream",
     "text": [
      "Train set:  (175100, 18)\n",
      "Test set:  (70040, 18)\n"
     ]
    },
    {
     "name": "stderr",
     "output_type": "stream",
     "text": [
      "/home/francisco.monteiro@av.it.pt/miniconda3/envs/rapids-23.02/lib/python3.8/site-packages/cuml/internals/api_decorators.py:190: UserWarning: To use pickling first train using float32 data to fit the estimator\n",
      "  ret = func(*args, **kwargs)\n"
     ]
    },
    {
     "name": "stdout",
     "output_type": "stream",
     "text": [
      "Train set:  (175100, 18)\n",
      "Test set:  (70040, 18)\n"
     ]
    },
    {
     "name": "stderr",
     "output_type": "stream",
     "text": [
      "/home/francisco.monteiro@av.it.pt/miniconda3/envs/rapids-23.02/lib/python3.8/site-packages/cuml/internals/api_decorators.py:190: UserWarning: To use pickling first train using float32 data to fit the estimator\n",
      "  ret = func(*args, **kwargs)\n"
     ]
    }
   ],
   "source": [
    "metrics_list_rf = []\n",
    "print(\"\\n----------------------------\", file=sourceFile)\n",
    "print(\"\\nRandom Forest\\n\", file=sourceFile)\n",
    "print(\"----------------------------\\n\", file=sourceFile)\n",
    "for i in range(10):\n",
    "    print(\"\\nIteration\", i, file=sourceFile)\n",
    "    mse, wape, r2, model_rf = test_leave_house_out(df, cuRF(), number_of_timesteps, num_houses_test, locations[i], sourceFile)\n",
    "    metrics_list_rf.append((mse, wape, r2))"
   ]
  },
  {
   "attachments": {},
   "cell_type": "markdown",
   "id": "acf0bc50",
   "metadata": {},
   "source": [
    "## Averaged Metrics"
   ]
  },
  {
   "cell_type": "code",
   "execution_count": 161,
   "id": "5ba79fd9",
   "metadata": {},
   "outputs": [],
   "source": [
    "print(\"\\n\\n\\n\", file=sourceFile)"
   ]
  },
  {
   "cell_type": "code",
   "execution_count": 162,
   "id": "9038241b",
   "metadata": {},
   "outputs": [],
   "source": [
    "print(\"\\nLinear Regression\", file=sourceFile)\n",
    "total_averaged_metrics(metrics_list_lr, sourceFile)"
   ]
  },
  {
   "cell_type": "code",
   "execution_count": 163,
   "id": "c4d11803",
   "metadata": {},
   "outputs": [],
   "source": [
    "print(\"\\nXGBoost\", file=sourceFile)\n",
    "total_averaged_metrics(metrics_list_xgb, sourceFile)"
   ]
  },
  {
   "cell_type": "code",
   "execution_count": 164,
   "id": "387e0bf7",
   "metadata": {},
   "outputs": [],
   "source": [
    "print(\"\\nRandom Forest\", file=sourceFile)\n",
    "total_averaged_metrics(metrics_list_rf, sourceFile)"
   ]
  },
  {
   "attachments": {},
   "cell_type": "markdown",
   "id": "5457d9ea",
   "metadata": {},
   "source": [
    "### Feature Importance"
   ]
  },
  {
   "cell_type": "code",
   "execution_count": 165,
   "id": "071d8a2e",
   "metadata": {},
   "outputs": [
    {
     "name": "stdout",
     "output_type": "stream",
     "text": [
      "Linear Regression\n",
      "\n",
      "Feature: 0, Score: 4.25152\n",
      "Feature: 1, Score: -0.55912\n",
      "Feature: 2, Score: 0.63230\n",
      "Feature: 3, Score: -0.08371\n",
      "Feature: 4, Score: 0.14607\n",
      "Feature: 5, Score: 0.17300\n",
      "Feature: 6, Score: 0.30564\n",
      "Feature: 7, Score: -0.13415\n",
      "Feature: 8, Score: 0.18311\n",
      "Feature: 9, Score: 0.01203\n",
      "Feature: 10, Score: 0.07552\n",
      "Feature: 11, Score: 0.16334\n",
      "Feature: 12, Score: -0.00161\n",
      "Feature: 13, Score: 0.00177\n",
      "Feature: 14, Score: 0.04158\n",
      "XGBoost\n",
      "\n",
      "Feature: 0, Score: 0.57887\n",
      "Feature: 1, Score: 0.04766\n",
      "Feature: 2, Score: 0.03708\n",
      "Feature: 3, Score: 0.02940\n",
      "Feature: 4, Score: 0.02419\n",
      "Feature: 5, Score: 0.02312\n",
      "Feature: 6, Score: 0.02708\n",
      "Feature: 7, Score: 0.03917\n",
      "Feature: 8, Score: 0.03014\n",
      "Feature: 9, Score: 0.02579\n",
      "Feature: 10, Score: 0.03026\n",
      "Feature: 11, Score: 0.02359\n",
      "Feature: 12, Score: 0.02920\n",
      "Feature: 13, Score: 0.00000\n",
      "Feature: 14, Score: 0.05445\n"
     ]
    }
   ],
   "source": [
    "print('Linear Regression\\n')\n",
    "for i,v in enumerate(model_lr.coef_):\n",
    "    print('Feature: %0d, Score: %.5f' % (i,v))\n",
    "print('XGBoost\\n')\n",
    "for i,v in enumerate(model_xgb.feature_importances_):\n",
    "    print('Feature: %0d, Score: %.5f' % (i,v))"
   ]
  },
  {
   "cell_type": "code",
   "execution_count": 166,
   "id": "0f698b11",
   "metadata": {},
   "outputs": [
    {
     "data": {
      "image/png": "[encoded data removed]",
      "text/plain": [
       "<Figure size 640x480 with 1 Axes>"
      ]
     },
     "metadata": {},
     "output_type": "display_data"
    }
   ],
   "source": [
    "plt.bar(range(len(model_xgb.feature_importances_)),model_xgb.feature_importances_)\n",
    "plt.title('Feature Importance')\n",
    "plt.xlabel('Feature')\n",
    "plt.ylabel('Importance')\n",
    "plt.show()"
   ]
  },
  {
   "cell_type": "code",
   "execution_count": 167,
   "id": "c7282910",
   "metadata": {},
   "outputs": [
    {
     "data": {
      "image/png": "[encoded data removed]",
      "text/plain": [
       "<Figure size 640x480 with 1 Axes>"
      ]
     },
     "metadata": {},
     "output_type": "display_data"
    }
   ],
   "source": [
    "plt.bar(range(len(model_lr.coef_)),model_lr.coef_)\n",
    "plt.title('Feature Importance')\n",
    "plt.xlabel('Feature')\n",
    "plt.ylabel('Importance')\n",
    "plt.show()"
   ]
  },
  {
   "cell_type": "code",
   "execution_count": 168,
   "id": "289c92d1",
   "metadata": {},
   "outputs": [],
   "source": [
    "sourceFile.close()"
   ]
  },
  {
   "cell_type": "code",
   "execution_count": null,
   "id": "c9de4a6b",
   "metadata": {},
   "outputs": [],
   "source": []
  }
 ],
 "metadata": {
  "kernelspec": {
   "display_name": "Python 3 (ipykernel)",
   "language": "python",
   "name": "python3"
  },
  "language_info": {
   "codemirror_mode": {
    "name": "ipython",
    "version": 3
   },
   "file_extension": ".py",
   "mimetype": "text/x-python",
   "name": "python",
   "nbconvert_exporter": "python",
   "pygments_lexer": "ipython3",
   "version": "3.8.16"
  }
 },
 "nbformat": 4,
 "nbformat_minor": 5
}
