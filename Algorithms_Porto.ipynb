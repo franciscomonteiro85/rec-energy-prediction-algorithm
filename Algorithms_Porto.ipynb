{
 "cells": [
  {
   "cell_type": "code",
   "execution_count": 1,
   "id": "58081526",
   "metadata": {},
   "outputs": [],
   "source": [
    "import warnings\n",
    "warnings.filterwarnings('ignore',category=FutureWarning)\n",
    "warnings.filterwarnings('ignore',category=DeprecationWarning)\n",
    "import numpy as np\n",
    "import pandas as pd\n",
    "import matplotlib.pyplot as plt\n",
    "from sklearn.model_selection import cross_validate, KFold, RepeatedKFold, RandomizedSearchCV\n",
    "from sklearn.metrics import mean_squared_error, r2_score\n",
    "from sklearn.preprocessing import MinMaxScaler\n",
    "from sklearn.linear_model import LinearRegression\n",
    "import time\n",
    "import cudf\n",
    "from cuml.ensemble import RandomForestRegressor as cuRF\n",
    "import math\n",
    "import xgboost as xgb\n",
    "from tqdm import tqdm"
   ]
  },
  {
   "attachments": {},
   "cell_type": "markdown",
   "id": "aa402221",
   "metadata": {},
   "source": [
    "#### Output file"
   ]
  },
  {
   "cell_type": "code",
   "execution_count": 60,
   "id": "70c13e8f",
   "metadata": {},
   "outputs": [],
   "source": [
    "sourceFile = open(\"gpu_logs/porto_last2hours.txt\", 'w')"
   ]
  },
  {
   "attachments": {},
   "cell_type": "markdown",
   "id": "e8907202",
   "metadata": {},
   "source": [
    "### Load the data"
   ]
  },
  {
   "cell_type": "code",
   "execution_count": 40,
   "id": "f6963e23",
   "metadata": {},
   "outputs": [
    {
     "data": {
      "text/html": [
       "<div>\n",
       "<style scoped>\n",
       "    .dataframe tbody tr th:only-of-type {\n",
       "        vertical-align: middle;\n",
       "    }\n",
       "\n",
       "    .dataframe tbody tr th {\n",
       "        vertical-align: top;\n",
       "    }\n",
       "\n",
       "    .dataframe thead th {\n",
       "        text-align: right;\n",
       "    }\n",
       "</style>\n",
       "<table border=\"1\" class=\"dataframe\">\n",
       "  <thead>\n",
       "    <tr style=\"text-align: right;\">\n",
       "      <th></th>\n",
       "      <th>Time</th>\n",
       "      <th>Location</th>\n",
       "      <th>Energy</th>\n",
       "    </tr>\n",
       "  </thead>\n",
       "  <tbody>\n",
       "    <tr>\n",
       "      <th>0</th>\n",
       "      <td>2019-01-01 00:00:00</td>\n",
       "      <td>1</td>\n",
       "      <td>2.322959</td>\n",
       "    </tr>\n",
       "    <tr>\n",
       "      <th>1</th>\n",
       "      <td>2019-01-01 00:15:00</td>\n",
       "      <td>1</td>\n",
       "      <td>2.371797</td>\n",
       "    </tr>\n",
       "    <tr>\n",
       "      <th>2</th>\n",
       "      <td>2019-01-01 00:30:00</td>\n",
       "      <td>1</td>\n",
       "      <td>2.415961</td>\n",
       "    </tr>\n",
       "    <tr>\n",
       "      <th>3</th>\n",
       "      <td>2019-01-01 00:45:00</td>\n",
       "      <td>1</td>\n",
       "      <td>2.302538</td>\n",
       "    </tr>\n",
       "    <tr>\n",
       "      <th>4</th>\n",
       "      <td>2019-01-01 01:00:00</td>\n",
       "      <td>1</td>\n",
       "      <td>2.363063</td>\n",
       "    </tr>\n",
       "    <tr>\n",
       "      <th>...</th>\n",
       "      <td>...</td>\n",
       "      <td>...</td>\n",
       "      <td>...</td>\n",
       "    </tr>\n",
       "    <tr>\n",
       "      <th>1756795</th>\n",
       "      <td>2020-01-01 22:45:00</td>\n",
       "      <td>50</td>\n",
       "      <td>0.753222</td>\n",
       "    </tr>\n",
       "    <tr>\n",
       "      <th>1756796</th>\n",
       "      <td>2020-01-01 23:00:00</td>\n",
       "      <td>50</td>\n",
       "      <td>0.716855</td>\n",
       "    </tr>\n",
       "    <tr>\n",
       "      <th>1756797</th>\n",
       "      <td>2020-01-01 23:15:00</td>\n",
       "      <td>50</td>\n",
       "      <td>0.735802</td>\n",
       "    </tr>\n",
       "    <tr>\n",
       "      <th>1756798</th>\n",
       "      <td>2020-01-01 23:30:00</td>\n",
       "      <td>50</td>\n",
       "      <td>0.485237</td>\n",
       "    </tr>\n",
       "    <tr>\n",
       "      <th>1756799</th>\n",
       "      <td>2020-01-01 23:45:00</td>\n",
       "      <td>50</td>\n",
       "      <td>0.394216</td>\n",
       "    </tr>\n",
       "  </tbody>\n",
       "</table>\n",
       "<p>1756800 rows × 3 columns</p>\n",
       "</div>"
      ],
      "text/plain": [
       "                       Time  Location    Energy\n",
       "0       2019-01-01 00:00:00         1  2.322959\n",
       "1       2019-01-01 00:15:00         1  2.371797\n",
       "2       2019-01-01 00:30:00         1  2.415961\n",
       "3       2019-01-01 00:45:00         1  2.302538\n",
       "4       2019-01-01 01:00:00         1  2.363063\n",
       "...                     ...       ...       ...\n",
       "1756795 2020-01-01 22:45:00        50  0.753222\n",
       "1756796 2020-01-01 23:00:00        50  0.716855\n",
       "1756797 2020-01-01 23:15:00        50  0.735802\n",
       "1756798 2020-01-01 23:30:00        50  0.485237\n",
       "1756799 2020-01-01 23:45:00        50  0.394216\n",
       "\n",
       "[1756800 rows x 3 columns]"
      ]
     },
     "execution_count": 40,
     "metadata": {},
     "output_type": "execute_result"
    }
   ],
   "source": [
    "df = pd.read_pickle(\"../datasets/df_location.pkl\")\n",
    "## Leaving the first house (public building out) due to its different profile\n",
    "df['Energy'] = df['Energy'].astype(np.float32)\n",
    "df = df.iloc[35136:, [0, 2, 1]].reset_index(drop=True)\n",
    "number_of_houses = df.Location.nunique()\n",
    "num_samples_per_house = df.Location.value_counts()[1]\n",
    "df.reset_index(drop=True, inplace=True)\n",
    "df"
   ]
  },
  {
   "cell_type": "code",
   "execution_count": 41,
   "id": "f318159d",
   "metadata": {},
   "outputs": [],
   "source": [
    "#trunc = lambda x: math.trunc(10000 * x) / 10000\n",
    "#df_trunc = pd.DataFrame(df['Energy']).applymap(trunc)\n",
    "#df = pd.concat([df.iloc[:, 0:-1], df_trunc], axis=1)\n",
    "#df"
   ]
  },
  {
   "cell_type": "markdown",
   "id": "54c9d325",
   "metadata": {},
   "source": [
    "### Auxiliary functions"
   ]
  },
  {
   "cell_type": "code",
   "execution_count": 42,
   "id": "cd78e17d",
   "metadata": {},
   "outputs": [],
   "source": [
    "def plot_results(preds: np.array, actuals: np.array, title: str):\n",
    "    \n",
    "    plt.scatter(actuals, preds, c='b', label='predicted')\n",
    "    plt.xlabel('actual')\n",
    "    plt.ylabel('predicted')\n",
    "    plt.title(title)\n",
    "    plt.xlim(0, plt.xlim()[1])\n",
    "    plt.ylim(0, plt.ylim()[1])\n",
    "    _ = plt.plot([0, 100], [0, 100], '--r', label='y=x')\n",
    "    plt.legend()\n",
    "    plt.show()\n",
    "\n",
    "def truncate_metric(metric):\n",
    "    m = math.trunc(10000 * metric) / 10000\n",
    "    return m \n",
    "    \n",
    "def performance_metrics(preds: np.array, actuals: np.array, filename):\n",
    "\n",
    "    # calculate performance metrics\n",
    "    \n",
    "    mse = truncate_metric(mean_squared_error(actuals, preds))\n",
    "    wape = truncate_metric(np.sum(np.abs(preds - actuals)) / np.sum(np.abs(actuals))) * 100\n",
    "    r2 = truncate_metric(r2_score(actuals, preds))\n",
    "    \n",
    "    # print performance metrics\n",
    "    print('MSE: %.4f' % mse, file=filename)\n",
    "    print('WAPE: %.2f' % wape, file=filename)\n",
    "    print('R2: %.4f' % r2, file=filename)\n",
    "    print('MSE: %.4f' % mse)\n",
    "    print('WAPE: %.2f' % wape)\n",
    "    print('R2: %.4f' % r2)\n",
    "    return mse, wape, r2\n",
    "\n",
    "#@jit(target_backend='cuda')\n",
    "def build_model(estimator, X_train: np.array, y_train: np.array, X_test: np.array):\n",
    "    \n",
    "    model = estimator\n",
    "    model.fit(X_train, y_train)\n",
    "    preds = model.predict(X_test)\n",
    "    \n",
    "    return model, preds\n",
    "\n",
    "def validate(estimator, X_train, y_train):\n",
    "    scores = cross_validate(estimator, X_train, y_train, scoring=['r2', 'neg_mean_squared_error'])\n",
    "    return scores\n",
    "    "
   ]
  },
  {
   "cell_type": "code",
   "execution_count": 48,
   "id": "8af19e8d",
   "metadata": {},
   "outputs": [],
   "source": [
    "def total_averaged_metrics(metrics_list, filename):\n",
    "    \n",
    "    print(\"Total Averaged MSE: {}\".format(np.round(sum(i for i, j, k in metrics_list)/len(metrics_list),3)), file=filename)\n",
    "    print(\"Total Averaged WAPE: {}\".format(np.round(sum(j for i, j, k in metrics_list)/len(metrics_list),3)), file=filename)\n",
    "    print(\"Total Averaged R2: {}\".format(np.round(sum(k for i, j, k in metrics_list)/len(metrics_list),3)), file=filename)\n",
    "    print(\"Total Averaged MSE: {}\".format(np.round(sum(i for i, j, k in metrics_list)/len(metrics_list),3)))\n",
    "    print(\"Total Averaged WAPE: {}\".format(np.round(sum(j for i, j, k in metrics_list)/len(metrics_list),3)))\n",
    "    print(\"Total Averaged R2: {}\".format(np.round(sum(k for i, j, k in metrics_list)/len(metrics_list),3)))\n",
    "\n",
    "def past_timesteps(df, number_of_timesteps):\n",
    "    df = df.sort_values(by=['Location', 'Time'])\n",
    "    for i in tqdm(range(1, (number_of_timesteps + 1))):\n",
    "        df.loc[df['Time'].shift(i) == df['Time'] - pd.Timedelta(i * 15, 'm'), f\"lag_{i}\"] = df['Energy'].shift(i)\n",
    "    df.dropna(inplace=True)\n",
    "    df.reset_index(drop=True, inplace=True)\n",
    "    return df\n",
    "\n",
    "#def past_timesteps(df, number_of_timesteps):\n",
    "#    # Sort the dataframe by location and time\n",
    "#    df = df.sort_values(by=['Location', 'Time'])\n",
    "#\n",
    "#    # Compute rolling window over time axis to extract past energy values for each location\n",
    "#    energy_lags = [f\"energy_lag_{i}\" for i in range(1, number_of_timesteps+1)]\n",
    "#    past_energy = df.groupby('Location')['Energy'].rolling(window=number_of_timesteps, min_periods=1).apply(np.mean())\n",
    "#    # Add new columns to the dataframe for each past energy value\n",
    "#    for i, energy_lag in enumerate(energy_lags):\n",
    "#        df[energy_lag] = past_energy.apply(lambda x: x[-i-1] if isinstance(x, list) and len(x)>=i+1 else x)\n",
    "#\n",
    "#    # Drop rows with missing values\n",
    "#    df.dropna(inplace=True)\n",
    "#    df.reset_index(drop=True, inplace=True)\n",
    "#\n",
    "#    return df\n",
    "\n",
    "\n",
    "def last_energy_points_full(df, number_timesteps, num_samples_per_house):\n",
    "    X = pd.DataFrame()\n",
    "    other_feats = df.iloc[:,:2]\n",
    "    for i in range(1, (number_timesteps + 1) ):\n",
    "        X[f'Energy_{i*15}'] = df['Energy'].shift(i)\n",
    "    y = df.copy().iloc[:,2]\n",
    "    y.iloc[:number_timesteps] = np.nan\n",
    "    ## Remove samples in between each house\n",
    "    for h in range(1, number_of_houses):\n",
    "        for i in range(0, number_timesteps):\n",
    "            X.iloc[(num_samples_per_house+i)*h] = np.nan\n",
    "            y.iloc[(num_samples_per_house+i)*h] = np.nan\n",
    "    X = pd.concat([other_feats, X], axis=1)\n",
    "    X.dropna(inplace=True)\n",
    "    X.reset_index(drop=True, inplace=True)\n",
    "    y.dropna(inplace=True)\n",
    "    y.reset_index(drop=True, inplace=True)\n",
    "    y.columns = [\"Energy\"]\n",
    "    dataframe = pd.concat([X,y.rename('Energy')], axis=1)\n",
    "    assert number_of_houses == (df.shape[0] - dataframe.shape[0]) / number_timesteps, \"Something went wrong with preprocessing\"\n",
    "    return dataframe\n",
    "    "
   ]
  },
  {
   "cell_type": "code",
   "execution_count": 49,
   "id": "9d0352ee",
   "metadata": {},
   "outputs": [],
   "source": [
    "def normalize_training(X_train):\n",
    "    scaler = MinMaxScaler(feature_range=(0,1))\n",
    "    scaler.fit(X_train)\n",
    "    X_train = scaler.transform(X_train)\n",
    "    return X_train, scaler"
   ]
  },
  {
   "cell_type": "code",
   "execution_count": 50,
   "id": "daa9a0ea",
   "metadata": {},
   "outputs": [],
   "source": [
    "def test_leave_house_out(df, estimator, locations, filename):\n",
    "    test = df[df['Location'].isin(locations)]\n",
    "    train = df[~df['Location'].isin(locations)]\n",
    "    print(\"Train set: \", train.shape)\n",
    "    print(\"Test set: \", test.shape)\n",
    "    X_train = train.drop(['Time', 'Energy', 'Location'], axis=1)\n",
    "    X_test = test.drop(['Time', 'Energy', 'Location'], axis=1)\n",
    "    y_train = train['Energy']\n",
    "    y_test = test['Energy']\n",
    "\n",
    "    X_train_norm, scaler = normalize_training(X_train)\n",
    "    X_test_norm = scaler.transform(X_test)\n",
    "    model = estimator\n",
    "    init = time.time()\n",
    "    model.fit(X_train_norm, y_train)\n",
    "    y_pred = model.predict(X_test_norm)\n",
    "    end = time.time()\n",
    "    print('Elapsed time: {:.4f} s'.format(end - init), file=filename)\n",
    "    mse, wape, r2 = performance_metrics(y_pred, y_test.values.reshape(-1), filename)\n",
    "    return mse, wape, r2, model"
   ]
  },
  {
   "attachments": {},
   "cell_type": "markdown",
   "id": "0f5ba7c5",
   "metadata": {},
   "source": [
    "## Save Dataframe with past timesteps"
   ]
  },
  {
   "cell_type": "code",
   "execution_count": 51,
   "id": "fd9b27b9",
   "metadata": {},
   "outputs": [],
   "source": [
    "number_of_timesteps = 8"
   ]
  },
  {
   "cell_type": "code",
   "execution_count": 52,
   "id": "ddb42d91",
   "metadata": {},
   "outputs": [
    {
     "name": "stderr",
     "output_type": "stream",
     "text": [
      "100%|██████████| 8/8 [00:00<00:00, 36.80it/s]\n"
     ]
    },
    {
     "data": {
      "text/html": [
       "<div>\n",
       "<style scoped>\n",
       "    .dataframe tbody tr th:only-of-type {\n",
       "        vertical-align: middle;\n",
       "    }\n",
       "\n",
       "    .dataframe tbody tr th {\n",
       "        vertical-align: top;\n",
       "    }\n",
       "\n",
       "    .dataframe thead th {\n",
       "        text-align: right;\n",
       "    }\n",
       "</style>\n",
       "<table border=\"1\" class=\"dataframe\">\n",
       "  <thead>\n",
       "    <tr style=\"text-align: right;\">\n",
       "      <th></th>\n",
       "      <th>Time</th>\n",
       "      <th>Location</th>\n",
       "      <th>Energy</th>\n",
       "      <th>lag_1</th>\n",
       "      <th>lag_2</th>\n",
       "      <th>lag_3</th>\n",
       "      <th>lag_4</th>\n",
       "      <th>lag_5</th>\n",
       "      <th>lag_6</th>\n",
       "      <th>lag_7</th>\n",
       "      <th>lag_8</th>\n",
       "    </tr>\n",
       "  </thead>\n",
       "  <tbody>\n",
       "    <tr>\n",
       "      <th>0</th>\n",
       "      <td>2019-01-01 02:00:00</td>\n",
       "      <td>1</td>\n",
       "      <td>2.341043</td>\n",
       "      <td>2.316070</td>\n",
       "      <td>2.299586</td>\n",
       "      <td>2.334031</td>\n",
       "      <td>2.363063</td>\n",
       "      <td>2.302538</td>\n",
       "      <td>2.415961</td>\n",
       "      <td>2.371797</td>\n",
       "      <td>2.322959</td>\n",
       "    </tr>\n",
       "    <tr>\n",
       "      <th>1</th>\n",
       "      <td>2019-01-01 02:15:00</td>\n",
       "      <td>1</td>\n",
       "      <td>2.402921</td>\n",
       "      <td>2.341043</td>\n",
       "      <td>2.316070</td>\n",
       "      <td>2.299586</td>\n",
       "      <td>2.334031</td>\n",
       "      <td>2.363063</td>\n",
       "      <td>2.302538</td>\n",
       "      <td>2.415961</td>\n",
       "      <td>2.371797</td>\n",
       "    </tr>\n",
       "    <tr>\n",
       "      <th>2</th>\n",
       "      <td>2019-01-01 02:30:00</td>\n",
       "      <td>1</td>\n",
       "      <td>2.342396</td>\n",
       "      <td>2.402921</td>\n",
       "      <td>2.341043</td>\n",
       "      <td>2.316070</td>\n",
       "      <td>2.299586</td>\n",
       "      <td>2.334031</td>\n",
       "      <td>2.363063</td>\n",
       "      <td>2.302538</td>\n",
       "      <td>2.415961</td>\n",
       "    </tr>\n",
       "    <tr>\n",
       "      <th>3</th>\n",
       "      <td>2019-01-01 02:45:00</td>\n",
       "      <td>1</td>\n",
       "      <td>2.443886</td>\n",
       "      <td>2.342396</td>\n",
       "      <td>2.402921</td>\n",
       "      <td>2.341043</td>\n",
       "      <td>2.316070</td>\n",
       "      <td>2.299586</td>\n",
       "      <td>2.334031</td>\n",
       "      <td>2.363063</td>\n",
       "      <td>2.302538</td>\n",
       "    </tr>\n",
       "    <tr>\n",
       "      <th>4</th>\n",
       "      <td>2019-01-01 03:00:00</td>\n",
       "      <td>1</td>\n",
       "      <td>2.406489</td>\n",
       "      <td>2.443886</td>\n",
       "      <td>2.342396</td>\n",
       "      <td>2.402921</td>\n",
       "      <td>2.341043</td>\n",
       "      <td>2.316070</td>\n",
       "      <td>2.299586</td>\n",
       "      <td>2.334031</td>\n",
       "      <td>2.363063</td>\n",
       "    </tr>\n",
       "    <tr>\n",
       "      <th>...</th>\n",
       "      <td>...</td>\n",
       "      <td>...</td>\n",
       "      <td>...</td>\n",
       "      <td>...</td>\n",
       "      <td>...</td>\n",
       "      <td>...</td>\n",
       "      <td>...</td>\n",
       "      <td>...</td>\n",
       "      <td>...</td>\n",
       "      <td>...</td>\n",
       "      <td>...</td>\n",
       "    </tr>\n",
       "    <tr>\n",
       "      <th>1756395</th>\n",
       "      <td>2020-01-01 22:45:00</td>\n",
       "      <td>50</td>\n",
       "      <td>0.753222</td>\n",
       "      <td>1.099100</td>\n",
       "      <td>0.453906</td>\n",
       "      <td>0.481770</td>\n",
       "      <td>0.483173</td>\n",
       "      <td>0.467528</td>\n",
       "      <td>1.001887</td>\n",
       "      <td>0.552398</td>\n",
       "      <td>0.533286</td>\n",
       "    </tr>\n",
       "    <tr>\n",
       "      <th>1756396</th>\n",
       "      <td>2020-01-01 23:00:00</td>\n",
       "      <td>50</td>\n",
       "      <td>0.716855</td>\n",
       "      <td>0.753222</td>\n",
       "      <td>1.099100</td>\n",
       "      <td>0.453906</td>\n",
       "      <td>0.481770</td>\n",
       "      <td>0.483173</td>\n",
       "      <td>0.467528</td>\n",
       "      <td>1.001887</td>\n",
       "      <td>0.552398</td>\n",
       "    </tr>\n",
       "    <tr>\n",
       "      <th>1756397</th>\n",
       "      <td>2020-01-01 23:15:00</td>\n",
       "      <td>50</td>\n",
       "      <td>0.735802</td>\n",
       "      <td>0.716855</td>\n",
       "      <td>0.753222</td>\n",
       "      <td>1.099100</td>\n",
       "      <td>0.453906</td>\n",
       "      <td>0.481770</td>\n",
       "      <td>0.483173</td>\n",
       "      <td>0.467528</td>\n",
       "      <td>1.001887</td>\n",
       "    </tr>\n",
       "    <tr>\n",
       "      <th>1756398</th>\n",
       "      <td>2020-01-01 23:30:00</td>\n",
       "      <td>50</td>\n",
       "      <td>0.485237</td>\n",
       "      <td>0.735802</td>\n",
       "      <td>0.716855</td>\n",
       "      <td>0.753222</td>\n",
       "      <td>1.099100</td>\n",
       "      <td>0.453906</td>\n",
       "      <td>0.481770</td>\n",
       "      <td>0.483173</td>\n",
       "      <td>0.467528</td>\n",
       "    </tr>\n",
       "    <tr>\n",
       "      <th>1756399</th>\n",
       "      <td>2020-01-01 23:45:00</td>\n",
       "      <td>50</td>\n",
       "      <td>0.394216</td>\n",
       "      <td>0.485237</td>\n",
       "      <td>0.735802</td>\n",
       "      <td>0.716855</td>\n",
       "      <td>0.753222</td>\n",
       "      <td>1.099100</td>\n",
       "      <td>0.453906</td>\n",
       "      <td>0.481770</td>\n",
       "      <td>0.483173</td>\n",
       "    </tr>\n",
       "  </tbody>\n",
       "</table>\n",
       "<p>1756400 rows × 11 columns</p>\n",
       "</div>"
      ],
      "text/plain": [
       "                       Time  Location    Energy     lag_1     lag_2     lag_3  \\\n",
       "0       2019-01-01 02:00:00         1  2.341043  2.316070  2.299586  2.334031   \n",
       "1       2019-01-01 02:15:00         1  2.402921  2.341043  2.316070  2.299586   \n",
       "2       2019-01-01 02:30:00         1  2.342396  2.402921  2.341043  2.316070   \n",
       "3       2019-01-01 02:45:00         1  2.443886  2.342396  2.402921  2.341043   \n",
       "4       2019-01-01 03:00:00         1  2.406489  2.443886  2.342396  2.402921   \n",
       "...                     ...       ...       ...       ...       ...       ...   \n",
       "1756395 2020-01-01 22:45:00        50  0.753222  1.099100  0.453906  0.481770   \n",
       "1756396 2020-01-01 23:00:00        50  0.716855  0.753222  1.099100  0.453906   \n",
       "1756397 2020-01-01 23:15:00        50  0.735802  0.716855  0.753222  1.099100   \n",
       "1756398 2020-01-01 23:30:00        50  0.485237  0.735802  0.716855  0.753222   \n",
       "1756399 2020-01-01 23:45:00        50  0.394216  0.485237  0.735802  0.716855   \n",
       "\n",
       "            lag_4     lag_5     lag_6     lag_7     lag_8  \n",
       "0        2.363063  2.302538  2.415961  2.371797  2.322959  \n",
       "1        2.334031  2.363063  2.302538  2.415961  2.371797  \n",
       "2        2.299586  2.334031  2.363063  2.302538  2.415961  \n",
       "3        2.316070  2.299586  2.334031  2.363063  2.302538  \n",
       "4        2.341043  2.316070  2.299586  2.334031  2.363063  \n",
       "...           ...       ...       ...       ...       ...  \n",
       "1756395  0.483173  0.467528  1.001887  0.552398  0.533286  \n",
       "1756396  0.481770  0.483173  0.467528  1.001887  0.552398  \n",
       "1756397  0.453906  0.481770  0.483173  0.467528  1.001887  \n",
       "1756398  1.099100  0.453906  0.481770  0.483173  0.467528  \n",
       "1756399  0.753222  1.099100  0.453906  0.481770  0.483173  \n",
       "\n",
       "[1756400 rows x 11 columns]"
      ]
     },
     "execution_count": 52,
     "metadata": {},
     "output_type": "execute_result"
    }
   ],
   "source": [
    "df_new = past_timesteps(df, number_of_timesteps)\n",
    "df_new"
   ]
  },
  {
   "cell_type": "code",
   "execution_count": 53,
   "id": "9741395b",
   "metadata": {},
   "outputs": [
    {
     "data": {
      "text/html": [
       "<div>\n",
       "<style scoped>\n",
       "    .dataframe tbody tr th:only-of-type {\n",
       "        vertical-align: middle;\n",
       "    }\n",
       "\n",
       "    .dataframe tbody tr th {\n",
       "        vertical-align: top;\n",
       "    }\n",
       "\n",
       "    .dataframe thead th {\n",
       "        text-align: right;\n",
       "    }\n",
       "</style>\n",
       "<table border=\"1\" class=\"dataframe\">\n",
       "  <thead>\n",
       "    <tr style=\"text-align: right;\">\n",
       "      <th></th>\n",
       "      <th>Time</th>\n",
       "      <th>Location</th>\n",
       "      <th>Energy</th>\n",
       "      <th>lag_1</th>\n",
       "      <th>lag_2</th>\n",
       "      <th>lag_3</th>\n",
       "      <th>lag_4</th>\n",
       "      <th>lag_5</th>\n",
       "      <th>lag_6</th>\n",
       "      <th>lag_7</th>\n",
       "      <th>lag_8</th>\n",
       "      <th>DayOfWeek</th>\n",
       "      <th>Weekend</th>\n",
       "      <th>Hour</th>\n",
       "    </tr>\n",
       "  </thead>\n",
       "  <tbody>\n",
       "    <tr>\n",
       "      <th>0</th>\n",
       "      <td>2019-01-01 02:00:00</td>\n",
       "      <td>1</td>\n",
       "      <td>2.341043</td>\n",
       "      <td>2.316070</td>\n",
       "      <td>2.299586</td>\n",
       "      <td>2.334031</td>\n",
       "      <td>2.363063</td>\n",
       "      <td>2.302538</td>\n",
       "      <td>2.415961</td>\n",
       "      <td>2.371797</td>\n",
       "      <td>2.322959</td>\n",
       "      <td>1</td>\n",
       "      <td>0</td>\n",
       "      <td>2</td>\n",
       "    </tr>\n",
       "    <tr>\n",
       "      <th>1</th>\n",
       "      <td>2019-01-01 02:15:00</td>\n",
       "      <td>1</td>\n",
       "      <td>2.402921</td>\n",
       "      <td>2.341043</td>\n",
       "      <td>2.316070</td>\n",
       "      <td>2.299586</td>\n",
       "      <td>2.334031</td>\n",
       "      <td>2.363063</td>\n",
       "      <td>2.302538</td>\n",
       "      <td>2.415961</td>\n",
       "      <td>2.371797</td>\n",
       "      <td>1</td>\n",
       "      <td>0</td>\n",
       "      <td>2</td>\n",
       "    </tr>\n",
       "    <tr>\n",
       "      <th>2</th>\n",
       "      <td>2019-01-01 02:30:00</td>\n",
       "      <td>1</td>\n",
       "      <td>2.342396</td>\n",
       "      <td>2.402921</td>\n",
       "      <td>2.341043</td>\n",
       "      <td>2.316070</td>\n",
       "      <td>2.299586</td>\n",
       "      <td>2.334031</td>\n",
       "      <td>2.363063</td>\n",
       "      <td>2.302538</td>\n",
       "      <td>2.415961</td>\n",
       "      <td>1</td>\n",
       "      <td>0</td>\n",
       "      <td>2</td>\n",
       "    </tr>\n",
       "    <tr>\n",
       "      <th>3</th>\n",
       "      <td>2019-01-01 02:45:00</td>\n",
       "      <td>1</td>\n",
       "      <td>2.443886</td>\n",
       "      <td>2.342396</td>\n",
       "      <td>2.402921</td>\n",
       "      <td>2.341043</td>\n",
       "      <td>2.316070</td>\n",
       "      <td>2.299586</td>\n",
       "      <td>2.334031</td>\n",
       "      <td>2.363063</td>\n",
       "      <td>2.302538</td>\n",
       "      <td>1</td>\n",
       "      <td>0</td>\n",
       "      <td>2</td>\n",
       "    </tr>\n",
       "    <tr>\n",
       "      <th>4</th>\n",
       "      <td>2019-01-01 03:00:00</td>\n",
       "      <td>1</td>\n",
       "      <td>2.406489</td>\n",
       "      <td>2.443886</td>\n",
       "      <td>2.342396</td>\n",
       "      <td>2.402921</td>\n",
       "      <td>2.341043</td>\n",
       "      <td>2.316070</td>\n",
       "      <td>2.299586</td>\n",
       "      <td>2.334031</td>\n",
       "      <td>2.363063</td>\n",
       "      <td>1</td>\n",
       "      <td>0</td>\n",
       "      <td>3</td>\n",
       "    </tr>\n",
       "    <tr>\n",
       "      <th>...</th>\n",
       "      <td>...</td>\n",
       "      <td>...</td>\n",
       "      <td>...</td>\n",
       "      <td>...</td>\n",
       "      <td>...</td>\n",
       "      <td>...</td>\n",
       "      <td>...</td>\n",
       "      <td>...</td>\n",
       "      <td>...</td>\n",
       "      <td>...</td>\n",
       "      <td>...</td>\n",
       "      <td>...</td>\n",
       "      <td>...</td>\n",
       "      <td>...</td>\n",
       "    </tr>\n",
       "    <tr>\n",
       "      <th>1756395</th>\n",
       "      <td>2020-01-01 22:45:00</td>\n",
       "      <td>50</td>\n",
       "      <td>0.753222</td>\n",
       "      <td>1.099100</td>\n",
       "      <td>0.453906</td>\n",
       "      <td>0.481770</td>\n",
       "      <td>0.483173</td>\n",
       "      <td>0.467528</td>\n",
       "      <td>1.001887</td>\n",
       "      <td>0.552398</td>\n",
       "      <td>0.533286</td>\n",
       "      <td>2</td>\n",
       "      <td>0</td>\n",
       "      <td>22</td>\n",
       "    </tr>\n",
       "    <tr>\n",
       "      <th>1756396</th>\n",
       "      <td>2020-01-01 23:00:00</td>\n",
       "      <td>50</td>\n",
       "      <td>0.716855</td>\n",
       "      <td>0.753222</td>\n",
       "      <td>1.099100</td>\n",
       "      <td>0.453906</td>\n",
       "      <td>0.481770</td>\n",
       "      <td>0.483173</td>\n",
       "      <td>0.467528</td>\n",
       "      <td>1.001887</td>\n",
       "      <td>0.552398</td>\n",
       "      <td>2</td>\n",
       "      <td>0</td>\n",
       "      <td>23</td>\n",
       "    </tr>\n",
       "    <tr>\n",
       "      <th>1756397</th>\n",
       "      <td>2020-01-01 23:15:00</td>\n",
       "      <td>50</td>\n",
       "      <td>0.735802</td>\n",
       "      <td>0.716855</td>\n",
       "      <td>0.753222</td>\n",
       "      <td>1.099100</td>\n",
       "      <td>0.453906</td>\n",
       "      <td>0.481770</td>\n",
       "      <td>0.483173</td>\n",
       "      <td>0.467528</td>\n",
       "      <td>1.001887</td>\n",
       "      <td>2</td>\n",
       "      <td>0</td>\n",
       "      <td>23</td>\n",
       "    </tr>\n",
       "    <tr>\n",
       "      <th>1756398</th>\n",
       "      <td>2020-01-01 23:30:00</td>\n",
       "      <td>50</td>\n",
       "      <td>0.485237</td>\n",
       "      <td>0.735802</td>\n",
       "      <td>0.716855</td>\n",
       "      <td>0.753222</td>\n",
       "      <td>1.099100</td>\n",
       "      <td>0.453906</td>\n",
       "      <td>0.481770</td>\n",
       "      <td>0.483173</td>\n",
       "      <td>0.467528</td>\n",
       "      <td>2</td>\n",
       "      <td>0</td>\n",
       "      <td>23</td>\n",
       "    </tr>\n",
       "    <tr>\n",
       "      <th>1756399</th>\n",
       "      <td>2020-01-01 23:45:00</td>\n",
       "      <td>50</td>\n",
       "      <td>0.394216</td>\n",
       "      <td>0.485237</td>\n",
       "      <td>0.735802</td>\n",
       "      <td>0.716855</td>\n",
       "      <td>0.753222</td>\n",
       "      <td>1.099100</td>\n",
       "      <td>0.453906</td>\n",
       "      <td>0.481770</td>\n",
       "      <td>0.483173</td>\n",
       "      <td>2</td>\n",
       "      <td>0</td>\n",
       "      <td>23</td>\n",
       "    </tr>\n",
       "  </tbody>\n",
       "</table>\n",
       "<p>1756400 rows × 14 columns</p>\n",
       "</div>"
      ],
      "text/plain": [
       "                       Time  Location    Energy     lag_1     lag_2     lag_3  \\\n",
       "0       2019-01-01 02:00:00         1  2.341043  2.316070  2.299586  2.334031   \n",
       "1       2019-01-01 02:15:00         1  2.402921  2.341043  2.316070  2.299586   \n",
       "2       2019-01-01 02:30:00         1  2.342396  2.402921  2.341043  2.316070   \n",
       "3       2019-01-01 02:45:00         1  2.443886  2.342396  2.402921  2.341043   \n",
       "4       2019-01-01 03:00:00         1  2.406489  2.443886  2.342396  2.402921   \n",
       "...                     ...       ...       ...       ...       ...       ...   \n",
       "1756395 2020-01-01 22:45:00        50  0.753222  1.099100  0.453906  0.481770   \n",
       "1756396 2020-01-01 23:00:00        50  0.716855  0.753222  1.099100  0.453906   \n",
       "1756397 2020-01-01 23:15:00        50  0.735802  0.716855  0.753222  1.099100   \n",
       "1756398 2020-01-01 23:30:00        50  0.485237  0.735802  0.716855  0.753222   \n",
       "1756399 2020-01-01 23:45:00        50  0.394216  0.485237  0.735802  0.716855   \n",
       "\n",
       "            lag_4     lag_5     lag_6     lag_7     lag_8  DayOfWeek  Weekend  \\\n",
       "0        2.363063  2.302538  2.415961  2.371797  2.322959          1        0   \n",
       "1        2.334031  2.363063  2.302538  2.415961  2.371797          1        0   \n",
       "2        2.299586  2.334031  2.363063  2.302538  2.415961          1        0   \n",
       "3        2.316070  2.299586  2.334031  2.363063  2.302538          1        0   \n",
       "4        2.341043  2.316070  2.299586  2.334031  2.363063          1        0   \n",
       "...           ...       ...       ...       ...       ...        ...      ...   \n",
       "1756395  0.483173  0.467528  1.001887  0.552398  0.533286          2        0   \n",
       "1756396  0.481770  0.483173  0.467528  1.001887  0.552398          2        0   \n",
       "1756397  0.453906  0.481770  0.483173  0.467528  1.001887          2        0   \n",
       "1756398  1.099100  0.453906  0.481770  0.483173  0.467528          2        0   \n",
       "1756399  0.753222  1.099100  0.453906  0.481770  0.483173          2        0   \n",
       "\n",
       "         Hour  \n",
       "0           2  \n",
       "1           2  \n",
       "2           2  \n",
       "3           2  \n",
       "4           3  \n",
       "...       ...  \n",
       "1756395    22  \n",
       "1756396    23  \n",
       "1756397    23  \n",
       "1756398    23  \n",
       "1756399    23  \n",
       "\n",
       "[1756400 rows x 14 columns]"
      ]
     },
     "execution_count": 53,
     "metadata": {},
     "output_type": "execute_result"
    }
   ],
   "source": [
    "df_new['DayOfWeek'] = df_new['Time'].dt.dayofweek\n",
    "df_new['Weekend'] = df_new['Time'].dt.dayofweek.isin([5, 6]).astype(int)\n",
    "df_new['Hour'] = df_new['Time'].dt.hour\n",
    "df_new"
   ]
  },
  {
   "cell_type": "code",
   "execution_count": 54,
   "id": "553c782a",
   "metadata": {},
   "outputs": [],
   "source": [
    "df_new.to_csv(\"data/porto_last2hours.csv\", index=False)"
   ]
  },
  {
   "cell_type": "markdown",
   "id": "47b7a1a3",
   "metadata": {},
   "source": [
    "## Predict  10 folds with 10 random houses for test"
   ]
  },
  {
   "cell_type": "code",
   "execution_count": 55,
   "id": "7d155f83",
   "metadata": {},
   "outputs": [
    {
     "data": {
      "text/html": [
       "<div>\n",
       "<style scoped>\n",
       "    .dataframe tbody tr th:only-of-type {\n",
       "        vertical-align: middle;\n",
       "    }\n",
       "\n",
       "    .dataframe tbody tr th {\n",
       "        vertical-align: top;\n",
       "    }\n",
       "\n",
       "    .dataframe thead th {\n",
       "        text-align: right;\n",
       "    }\n",
       "</style>\n",
       "<table border=\"1\" class=\"dataframe\">\n",
       "  <thead>\n",
       "    <tr style=\"text-align: right;\">\n",
       "      <th></th>\n",
       "      <th>Time</th>\n",
       "      <th>Location</th>\n",
       "      <th>Energy</th>\n",
       "      <th>lag_1</th>\n",
       "      <th>lag_2</th>\n",
       "      <th>lag_3</th>\n",
       "      <th>lag_4</th>\n",
       "      <th>lag_5</th>\n",
       "      <th>lag_6</th>\n",
       "      <th>lag_7</th>\n",
       "      <th>lag_8</th>\n",
       "      <th>DayOfWeek</th>\n",
       "      <th>Weekend</th>\n",
       "      <th>Hour</th>\n",
       "    </tr>\n",
       "  </thead>\n",
       "  <tbody>\n",
       "    <tr>\n",
       "      <th>0</th>\n",
       "      <td>2019-01-01 02:00:00</td>\n",
       "      <td>1</td>\n",
       "      <td>2.341043</td>\n",
       "      <td>2.316070</td>\n",
       "      <td>2.299586</td>\n",
       "      <td>2.334031</td>\n",
       "      <td>2.363063</td>\n",
       "      <td>2.302538</td>\n",
       "      <td>2.415961</td>\n",
       "      <td>2.371797</td>\n",
       "      <td>2.322959</td>\n",
       "      <td>1</td>\n",
       "      <td>0</td>\n",
       "      <td>2</td>\n",
       "    </tr>\n",
       "    <tr>\n",
       "      <th>1</th>\n",
       "      <td>2019-01-01 02:15:00</td>\n",
       "      <td>1</td>\n",
       "      <td>2.402921</td>\n",
       "      <td>2.341043</td>\n",
       "      <td>2.316070</td>\n",
       "      <td>2.299586</td>\n",
       "      <td>2.334031</td>\n",
       "      <td>2.363063</td>\n",
       "      <td>2.302538</td>\n",
       "      <td>2.415961</td>\n",
       "      <td>2.371797</td>\n",
       "      <td>1</td>\n",
       "      <td>0</td>\n",
       "      <td>2</td>\n",
       "    </tr>\n",
       "    <tr>\n",
       "      <th>2</th>\n",
       "      <td>2019-01-01 02:30:00</td>\n",
       "      <td>1</td>\n",
       "      <td>2.342396</td>\n",
       "      <td>2.402921</td>\n",
       "      <td>2.341043</td>\n",
       "      <td>2.316070</td>\n",
       "      <td>2.299586</td>\n",
       "      <td>2.334031</td>\n",
       "      <td>2.363063</td>\n",
       "      <td>2.302538</td>\n",
       "      <td>2.415961</td>\n",
       "      <td>1</td>\n",
       "      <td>0</td>\n",
       "      <td>2</td>\n",
       "    </tr>\n",
       "    <tr>\n",
       "      <th>3</th>\n",
       "      <td>2019-01-01 02:45:00</td>\n",
       "      <td>1</td>\n",
       "      <td>2.443886</td>\n",
       "      <td>2.342396</td>\n",
       "      <td>2.402921</td>\n",
       "      <td>2.341043</td>\n",
       "      <td>2.316070</td>\n",
       "      <td>2.299586</td>\n",
       "      <td>2.334031</td>\n",
       "      <td>2.363063</td>\n",
       "      <td>2.302538</td>\n",
       "      <td>1</td>\n",
       "      <td>0</td>\n",
       "      <td>2</td>\n",
       "    </tr>\n",
       "    <tr>\n",
       "      <th>4</th>\n",
       "      <td>2019-01-01 03:00:00</td>\n",
       "      <td>1</td>\n",
       "      <td>2.406489</td>\n",
       "      <td>2.443886</td>\n",
       "      <td>2.342396</td>\n",
       "      <td>2.402921</td>\n",
       "      <td>2.341043</td>\n",
       "      <td>2.316070</td>\n",
       "      <td>2.299586</td>\n",
       "      <td>2.334031</td>\n",
       "      <td>2.363063</td>\n",
       "      <td>1</td>\n",
       "      <td>0</td>\n",
       "      <td>3</td>\n",
       "    </tr>\n",
       "    <tr>\n",
       "      <th>...</th>\n",
       "      <td>...</td>\n",
       "      <td>...</td>\n",
       "      <td>...</td>\n",
       "      <td>...</td>\n",
       "      <td>...</td>\n",
       "      <td>...</td>\n",
       "      <td>...</td>\n",
       "      <td>...</td>\n",
       "      <td>...</td>\n",
       "      <td>...</td>\n",
       "      <td>...</td>\n",
       "      <td>...</td>\n",
       "      <td>...</td>\n",
       "      <td>...</td>\n",
       "    </tr>\n",
       "    <tr>\n",
       "      <th>1756395</th>\n",
       "      <td>2020-01-01 22:45:00</td>\n",
       "      <td>50</td>\n",
       "      <td>0.753222</td>\n",
       "      <td>1.099100</td>\n",
       "      <td>0.453906</td>\n",
       "      <td>0.481770</td>\n",
       "      <td>0.483173</td>\n",
       "      <td>0.467528</td>\n",
       "      <td>1.001887</td>\n",
       "      <td>0.552398</td>\n",
       "      <td>0.533286</td>\n",
       "      <td>2</td>\n",
       "      <td>0</td>\n",
       "      <td>22</td>\n",
       "    </tr>\n",
       "    <tr>\n",
       "      <th>1756396</th>\n",
       "      <td>2020-01-01 23:00:00</td>\n",
       "      <td>50</td>\n",
       "      <td>0.716855</td>\n",
       "      <td>0.753222</td>\n",
       "      <td>1.099100</td>\n",
       "      <td>0.453906</td>\n",
       "      <td>0.481770</td>\n",
       "      <td>0.483173</td>\n",
       "      <td>0.467528</td>\n",
       "      <td>1.001887</td>\n",
       "      <td>0.552398</td>\n",
       "      <td>2</td>\n",
       "      <td>0</td>\n",
       "      <td>23</td>\n",
       "    </tr>\n",
       "    <tr>\n",
       "      <th>1756397</th>\n",
       "      <td>2020-01-01 23:15:00</td>\n",
       "      <td>50</td>\n",
       "      <td>0.735802</td>\n",
       "      <td>0.716855</td>\n",
       "      <td>0.753222</td>\n",
       "      <td>1.099100</td>\n",
       "      <td>0.453906</td>\n",
       "      <td>0.481770</td>\n",
       "      <td>0.483173</td>\n",
       "      <td>0.467528</td>\n",
       "      <td>1.001887</td>\n",
       "      <td>2</td>\n",
       "      <td>0</td>\n",
       "      <td>23</td>\n",
       "    </tr>\n",
       "    <tr>\n",
       "      <th>1756398</th>\n",
       "      <td>2020-01-01 23:30:00</td>\n",
       "      <td>50</td>\n",
       "      <td>0.485237</td>\n",
       "      <td>0.735802</td>\n",
       "      <td>0.716855</td>\n",
       "      <td>0.753222</td>\n",
       "      <td>1.099100</td>\n",
       "      <td>0.453906</td>\n",
       "      <td>0.481770</td>\n",
       "      <td>0.483173</td>\n",
       "      <td>0.467528</td>\n",
       "      <td>2</td>\n",
       "      <td>0</td>\n",
       "      <td>23</td>\n",
       "    </tr>\n",
       "    <tr>\n",
       "      <th>1756399</th>\n",
       "      <td>2020-01-01 23:45:00</td>\n",
       "      <td>50</td>\n",
       "      <td>0.394216</td>\n",
       "      <td>0.485237</td>\n",
       "      <td>0.735802</td>\n",
       "      <td>0.716855</td>\n",
       "      <td>0.753222</td>\n",
       "      <td>1.099100</td>\n",
       "      <td>0.453906</td>\n",
       "      <td>0.481770</td>\n",
       "      <td>0.483173</td>\n",
       "      <td>2</td>\n",
       "      <td>0</td>\n",
       "      <td>23</td>\n",
       "    </tr>\n",
       "  </tbody>\n",
       "</table>\n",
       "<p>1756400 rows × 14 columns</p>\n",
       "</div>"
      ],
      "text/plain": [
       "                        Time  Location    Energy     lag_1     lag_2  \\\n",
       "0        2019-01-01 02:00:00         1  2.341043  2.316070  2.299586   \n",
       "1        2019-01-01 02:15:00         1  2.402921  2.341043  2.316070   \n",
       "2        2019-01-01 02:30:00         1  2.342396  2.402921  2.341043   \n",
       "3        2019-01-01 02:45:00         1  2.443886  2.342396  2.402921   \n",
       "4        2019-01-01 03:00:00         1  2.406489  2.443886  2.342396   \n",
       "...                      ...       ...       ...       ...       ...   \n",
       "1756395  2020-01-01 22:45:00        50  0.753222  1.099100  0.453906   \n",
       "1756396  2020-01-01 23:00:00        50  0.716855  0.753222  1.099100   \n",
       "1756397  2020-01-01 23:15:00        50  0.735802  0.716855  0.753222   \n",
       "1756398  2020-01-01 23:30:00        50  0.485237  0.735802  0.716855   \n",
       "1756399  2020-01-01 23:45:00        50  0.394216  0.485237  0.735802   \n",
       "\n",
       "            lag_3     lag_4     lag_5     lag_6     lag_7     lag_8  \\\n",
       "0        2.334031  2.363063  2.302538  2.415961  2.371797  2.322959   \n",
       "1        2.299586  2.334031  2.363063  2.302538  2.415961  2.371797   \n",
       "2        2.316070  2.299586  2.334031  2.363063  2.302538  2.415961   \n",
       "3        2.341043  2.316070  2.299586  2.334031  2.363063  2.302538   \n",
       "4        2.402921  2.341043  2.316070  2.299586  2.334031  2.363063   \n",
       "...           ...       ...       ...       ...       ...       ...   \n",
       "1756395  0.481770  0.483173  0.467528  1.001887  0.552398  0.533286   \n",
       "1756396  0.453906  0.481770  0.483173  0.467528  1.001887  0.552398   \n",
       "1756397  1.099100  0.453906  0.481770  0.483173  0.467528  1.001887   \n",
       "1756398  0.753222  1.099100  0.453906  0.481770  0.483173  0.467528   \n",
       "1756399  0.716855  0.753222  1.099100  0.453906  0.481770  0.483173   \n",
       "\n",
       "         DayOfWeek  Weekend  Hour  \n",
       "0                1        0     2  \n",
       "1                1        0     2  \n",
       "2                1        0     2  \n",
       "3                1        0     2  \n",
       "4                1        0     3  \n",
       "...            ...      ...   ...  \n",
       "1756395          2        0    22  \n",
       "1756396          2        0    23  \n",
       "1756397          2        0    23  \n",
       "1756398          2        0    23  \n",
       "1756399          2        0    23  \n",
       "\n",
       "[1756400 rows x 14 columns]"
      ]
     },
     "execution_count": 55,
     "metadata": {},
     "output_type": "execute_result"
    }
   ],
   "source": [
    "df_test = pd.read_csv(\"data/porto_last2hours.csv\", nrows=100)\n",
    "\n",
    "float_cols = [c for c in df_test if df_test[c].dtype == \"float64\"]\n",
    "float32_cols = {c: np.float32 for c in float_cols}\n",
    "\n",
    "df = pd.read_csv(\"data/porto_last2hours.csv\", engine='c', dtype=float32_cols)\n",
    "df"
   ]
  },
  {
   "cell_type": "code",
   "execution_count": 56,
   "id": "1218e529",
   "metadata": {},
   "outputs": [
    {
     "data": {
      "text/plain": [
       "[array([29, 12, 11, 42,  3, 28, 39, 32, 23,  5]),\n",
       " array([ 7, 49, 12,  5, 13, 32,  8, 26, 42, 19]),\n",
       " array([45, 50, 37, 24, 49, 23, 34,  1, 18, 46]),\n",
       " array([29, 47,  8, 42, 37, 30, 22, 49, 20,  9]),\n",
       " array([ 4, 35, 26, 37, 21, 24, 36, 22, 41, 40]),\n",
       " array([13, 15,  5,  9, 46,  2, 26, 25, 48, 24]),\n",
       " array([ 9,  6, 33, 27, 20,  3, 17, 41, 30, 38]),\n",
       " array([12, 17, 10, 32, 28, 21, 27, 11, 18, 46]),\n",
       " array([50, 17, 42, 36, 45,  9, 32, 13, 27,  3]),\n",
       " array([30, 12, 19, 33, 13, 36, 39, 17,  3,  9])]"
      ]
     },
     "execution_count": 56,
     "metadata": {},
     "output_type": "execute_result"
    }
   ],
   "source": [
    "num_houses_test = 10\n",
    "locations = []\n",
    "for i in range(10):\n",
    "    np.random.seed(i*4)\n",
    "    l = np.random.choice(df['Location'].unique(), size=num_houses_test, replace=False)\n",
    "    locations.append(l)\n",
    "locations"
   ]
  },
  {
   "cell_type": "code",
   "execution_count": 57,
   "id": "9cca5c2b",
   "metadata": {},
   "outputs": [
    {
     "data": {
      "text/plain": [
       "0"
      ]
     },
     "execution_count": 57,
     "metadata": {},
     "output_type": "execute_result"
    }
   ],
   "source": [
    "## Number of NaNs\n",
    "df.isna().sum().sum()"
   ]
  },
  {
   "cell_type": "code",
   "execution_count": 58,
   "id": "e1b164a8",
   "metadata": {},
   "outputs": [],
   "source": [
    "#kf = RepeatedKFold(n_splits=5, n_repeats=2, random_state=42) \n",
    "#locations = []\n",
    "#for _, test_index in kf.split(df['Location'].unique()):\n",
    "#    locations.append(test_index)\n",
    "#locations"
   ]
  },
  {
   "cell_type": "code",
   "execution_count": 59,
   "id": "acc7da60",
   "metadata": {},
   "outputs": [
    {
     "data": {
      "text/plain": [
       "1     35128\n",
       "38    35128\n",
       "28    35128\n",
       "29    35128\n",
       "30    35128\n",
       "31    35128\n",
       "32    35128\n",
       "33    35128\n",
       "34    35128\n",
       "35    35128\n",
       "36    35128\n",
       "37    35128\n",
       "39    35128\n",
       "2     35128\n",
       "40    35128\n",
       "41    35128\n",
       "42    35128\n",
       "43    35128\n",
       "44    35128\n",
       "45    35128\n",
       "46    35128\n",
       "47    35128\n",
       "48    35128\n",
       "49    35128\n",
       "27    35128\n",
       "26    35128\n",
       "25    35128\n",
       "24    35128\n",
       "3     35128\n",
       "4     35128\n",
       "5     35128\n",
       "6     35128\n",
       "7     35128\n",
       "8     35128\n",
       "9     35128\n",
       "10    35128\n",
       "11    35128\n",
       "12    35128\n",
       "13    35128\n",
       "14    35128\n",
       "15    35128\n",
       "16    35128\n",
       "17    35128\n",
       "18    35128\n",
       "19    35128\n",
       "20    35128\n",
       "21    35128\n",
       "22    35128\n",
       "23    35128\n",
       "50    35128\n",
       "Name: Location, dtype: int64"
      ]
     },
     "execution_count": 59,
     "metadata": {},
     "output_type": "execute_result"
    }
   ],
   "source": [
    "df.Location.value_counts()"
   ]
  },
  {
   "cell_type": "markdown",
   "id": "30e48b6b",
   "metadata": {},
   "source": [
    "### Linear Regression"
   ]
  },
  {
   "cell_type": "code",
   "execution_count": 61,
   "id": "a9cfe1a7",
   "metadata": {},
   "outputs": [
    {
     "name": "stdout",
     "output_type": "stream",
     "text": [
      "\n",
      "Iteration 0\n",
      "Train set:  (1405120, 14)\n",
      "Test set:  (351280, 14)\n",
      "MSE: 0.3470\n",
      "WAPE: 32.31\n",
      "R2: 0.7283\n",
      "\n",
      "Iteration 1\n",
      "Train set:  (1405120, 14)\n",
      "Test set:  (351280, 14)\n",
      "MSE: 0.2604\n",
      "WAPE: 31.93\n",
      "R2: 0.7498\n",
      "\n",
      "Iteration 2\n",
      "Train set:  (1405120, 14)\n",
      "Test set:  (351280, 14)\n",
      "MSE: 0.1709\n",
      "WAPE: 30.18\n",
      "R2: 0.7598\n",
      "\n",
      "Iteration 3\n",
      "Train set:  (1405120, 14)\n",
      "Test set:  (351280, 14)\n",
      "MSE: 0.2284\n",
      "WAPE: 33.95\n",
      "R2: 0.7413\n",
      "\n",
      "Iteration 4\n",
      "Train set:  (1405120, 14)\n",
      "Test set:  (351280, 14)\n",
      "MSE: 0.1769\n",
      "WAPE: 30.93\n",
      "R2: 0.7226\n"
     ]
    }
   ],
   "source": [
    "metrics_list_lr = []\n",
    "print(\"\\n----------------------------\", file=sourceFile)\n",
    "print(\"\\nLinear Regression\\n\", file=sourceFile)\n",
    "print(\"----------------------------\\n\", file=sourceFile)\n",
    "for i in range(5):\n",
    "    print(\"\\nIteration\", i, file=sourceFile)\n",
    "    print(\"\\nIteration\", i)\n",
    "    mse, wape, r2, model_lr = test_leave_house_out(df, LinearRegression(), locations[i], sourceFile)\n",
    "    metrics_list_lr.append((mse, wape, r2))"
   ]
  },
  {
   "cell_type": "markdown",
   "id": "1e4142f8",
   "metadata": {},
   "source": [
    "### XGBoost"
   ]
  },
  {
   "cell_type": "code",
   "execution_count": 62,
   "id": "29000235",
   "metadata": {},
   "outputs": [
    {
     "name": "stdout",
     "output_type": "stream",
     "text": [
      "\n",
      "Iteration 0\n",
      "Train set:  (1405120, 14)\n",
      "Test set:  (351280, 14)\n",
      "MSE: 0.3199\n",
      "WAPE: 30.91\n",
      "R2: 0.7494\n",
      "\n",
      "Iteration 1\n",
      "Train set:  (1405120, 14)\n",
      "Test set:  (351280, 14)\n",
      "MSE: 0.2438\n",
      "WAPE: 29.91\n",
      "R2: 0.7657\n",
      "\n",
      "Iteration 2\n",
      "Train set:  (1405120, 14)\n",
      "Test set:  (351280, 14)\n",
      "MSE: 0.1563\n",
      "WAPE: 28.67\n",
      "R2: 0.7803\n",
      "\n",
      "Iteration 3\n",
      "Train set:  (1405120, 14)\n",
      "Test set:  (351280, 14)\n",
      "MSE: 0.2024\n",
      "WAPE: 32.20\n",
      "R2: 0.7707\n",
      "\n",
      "Iteration 4\n",
      "Train set:  (1405120, 14)\n",
      "Test set:  (351280, 14)\n",
      "MSE: 0.1578\n",
      "WAPE: 28.21\n",
      "R2: 0.7525\n"
     ]
    }
   ],
   "source": [
    "metrics_list_xgb = []\n",
    "print(\"\\n----------------------------\", file=sourceFile)\n",
    "print(\"\\nXGBoost\\n\", file=sourceFile)\n",
    "print(\"----------------------------\\n\", file=sourceFile)\n",
    "for i in range(5):\n",
    "    print(\"\\nIteration\", i, file=sourceFile)\n",
    "    print(\"\\nIteration\", i)\n",
    "    mse, wape, r2, model_xgb = test_leave_house_out(df, xgb.XGBRegressor(tree_method='gpu_hist', seed=0), locations[i], sourceFile)\n",
    "    metrics_list_xgb.append((mse, wape, r2))"
   ]
  },
  {
   "cell_type": "markdown",
   "id": "bc81a8ce",
   "metadata": {},
   "source": [
    "### Random Forest"
   ]
  },
  {
   "cell_type": "code",
   "execution_count": 63,
   "id": "81a082e6",
   "metadata": {},
   "outputs": [
    {
     "name": "stdout",
     "output_type": "stream",
     "text": [
      "\n",
      "Iteration 0\n",
      "Train set:  (1405120, 14)\n",
      "Test set:  (351280, 14)\n"
     ]
    },
    {
     "name": "stderr",
     "output_type": "stream",
     "text": [
      "/home/francisco.monteiro@av.it.pt/miniconda3/envs/rapids-23.02/lib/python3.8/site-packages/cuml/internals/api_decorators.py:190: UserWarning: To use pickling first train using float32 data to fit the estimator\n",
      "  ret = func(*args, **kwargs)\n"
     ]
    },
    {
     "name": "stdout",
     "output_type": "stream",
     "text": [
      "MSE: 0.2967\n",
      "WAPE: 29.58\n",
      "R2: 0.7676\n",
      "\n",
      "Iteration 1\n",
      "Train set:  (1405120, 14)\n",
      "Test set:  (351280, 14)\n"
     ]
    },
    {
     "name": "stderr",
     "output_type": "stream",
     "text": [
      "/home/francisco.monteiro@av.it.pt/miniconda3/envs/rapids-23.02/lib/python3.8/site-packages/cuml/internals/api_decorators.py:190: UserWarning: To use pickling first train using float32 data to fit the estimator\n",
      "  ret = func(*args, **kwargs)\n"
     ]
    },
    {
     "name": "stdout",
     "output_type": "stream",
     "text": [
      "MSE: 0.2431\n",
      "WAPE: 29.18\n",
      "R2: 0.7663\n",
      "\n",
      "Iteration 2\n",
      "Train set:  (1405120, 14)\n",
      "Test set:  (351280, 14)\n"
     ]
    },
    {
     "name": "stderr",
     "output_type": "stream",
     "text": [
      "/home/francisco.monteiro@av.it.pt/miniconda3/envs/rapids-23.02/lib/python3.8/site-packages/cuml/internals/api_decorators.py:190: UserWarning: To use pickling first train using float32 data to fit the estimator\n",
      "  ret = func(*args, **kwargs)\n"
     ]
    },
    {
     "name": "stdout",
     "output_type": "stream",
     "text": [
      "MSE: 0.1369\n",
      "WAPE: 26.84\n",
      "R2: 0.8075\n",
      "\n",
      "Iteration 3\n",
      "Train set:  (1405120, 14)\n",
      "Test set:  (351280, 14)\n"
     ]
    },
    {
     "name": "stderr",
     "output_type": "stream",
     "text": [
      "/home/francisco.monteiro@av.it.pt/miniconda3/envs/rapids-23.02/lib/python3.8/site-packages/cuml/internals/api_decorators.py:190: UserWarning: To use pickling first train using float32 data to fit the estimator\n",
      "  ret = func(*args, **kwargs)\n"
     ]
    },
    {
     "name": "stdout",
     "output_type": "stream",
     "text": [
      "MSE: 0.1758\n",
      "WAPE: 29.97\n",
      "R2: 0.8009\n",
      "\n",
      "Iteration 4\n",
      "Train set:  (1405120, 14)\n",
      "Test set:  (351280, 14)\n"
     ]
    },
    {
     "name": "stderr",
     "output_type": "stream",
     "text": [
      "/home/francisco.monteiro@av.it.pt/miniconda3/envs/rapids-23.02/lib/python3.8/site-packages/cuml/internals/api_decorators.py:190: UserWarning: To use pickling first train using float32 data to fit the estimator\n",
      "  ret = func(*args, **kwargs)\n"
     ]
    },
    {
     "name": "stdout",
     "output_type": "stream",
     "text": [
      "MSE: 0.1470\n",
      "WAPE: 26.81\n",
      "R2: 0.7694\n"
     ]
    }
   ],
   "source": [
    "metrics_list_rf = []\n",
    "print(\"\\n----------------------------\", file=sourceFile)\n",
    "print(\"\\nRandom Forest\\n\", file=sourceFile)\n",
    "print(\"----------------------------\\n\", file=sourceFile)\n",
    "for i in range(5):\n",
    "    print(\"\\nIteration\", i, file=sourceFile)\n",
    "    print(\"\\nIteration\", i)\n",
    "    mse, wape, r2, model_rf = test_leave_house_out(df, cuRF(), locations[i], sourceFile)\n",
    "    metrics_list_rf.append((mse, wape, r2))"
   ]
  },
  {
   "attachments": {},
   "cell_type": "markdown",
   "id": "1d80b4bb",
   "metadata": {},
   "source": [
    "## Averaged Metrics"
   ]
  },
  {
   "cell_type": "code",
   "execution_count": 64,
   "id": "34d0f88f",
   "metadata": {},
   "outputs": [],
   "source": [
    "print(\"\\n\\n\\n\", file=sourceFile)"
   ]
  },
  {
   "cell_type": "code",
   "execution_count": 65,
   "id": "c4d11803",
   "metadata": {},
   "outputs": [
    {
     "name": "stdout",
     "output_type": "stream",
     "text": [
      "Total Averaged MSE: 0.237\n",
      "Total Averaged WAPE: 31.86\n",
      "Total Averaged R2: 0.74\n"
     ]
    }
   ],
   "source": [
    "print(\"\\nLinear Regression\", file=sourceFile)\n",
    "total_averaged_metrics(metrics_list_lr, sourceFile)"
   ]
  },
  {
   "cell_type": "code",
   "execution_count": 66,
   "id": "9038241b",
   "metadata": {},
   "outputs": [
    {
     "name": "stdout",
     "output_type": "stream",
     "text": [
      "Total Averaged MSE: 0.216\n",
      "Total Averaged WAPE: 29.98\n",
      "Total Averaged R2: 0.764\n"
     ]
    }
   ],
   "source": [
    "print(\"\\nXGBoost\", file=sourceFile)\n",
    "total_averaged_metrics(metrics_list_xgb, sourceFile)"
   ]
  },
  {
   "cell_type": "code",
   "execution_count": 67,
   "id": "387e0bf7",
   "metadata": {},
   "outputs": [
    {
     "name": "stdout",
     "output_type": "stream",
     "text": [
      "Total Averaged MSE: 0.2\n",
      "Total Averaged WAPE: 28.476\n",
      "Total Averaged R2: 0.782\n"
     ]
    }
   ],
   "source": [
    "print(\"\\nRandom Forest\", file=sourceFile)\n",
    "total_averaged_metrics(metrics_list_rf, sourceFile)"
   ]
  },
  {
   "cell_type": "code",
   "execution_count": 68,
   "id": "6aa50a8a",
   "metadata": {},
   "outputs": [],
   "source": [
    "sourceFile.close()"
   ]
  },
  {
   "cell_type": "markdown",
   "id": "bb5c8ff5",
   "metadata": {},
   "source": [
    "### Feature Importance"
   ]
  },
  {
   "cell_type": "code",
   "execution_count": 69,
   "id": "b6a7d8db",
   "metadata": {},
   "outputs": [
    {
     "name": "stdout",
     "output_type": "stream",
     "text": [
      "XGBoost\n",
      "\n",
      "Feature: 0, Score: 0.89670\n",
      "Feature: 1, Score: 0.01446\n",
      "Feature: 2, Score: 0.02164\n",
      "Feature: 3, Score: 0.00838\n",
      "Feature: 4, Score: 0.01452\n",
      "Feature: 5, Score: 0.01137\n",
      "Feature: 6, Score: 0.00748\n",
      "Feature: 7, Score: 0.00691\n",
      "Feature: 8, Score: 0.00588\n",
      "Feature: 9, Score: 0.00000\n",
      "Feature: 10, Score: 0.01265\n"
     ]
    }
   ],
   "source": [
    "print('XGBoost\\n')\n",
    "for i,v in enumerate(model_xgb.feature_importances_):\n",
    "    print('Feature: %0d, Score: %.5f' % (i,v))"
   ]
  },
  {
   "cell_type": "code",
   "execution_count": 70,
   "id": "538881d9",
   "metadata": {},
   "outputs": [
    {
     "data": {
      "text/plain": [
       "array([0.89670205, 0.01446401, 0.02164426, 0.00838159, 0.01451844,\n",
       "       0.01137071, 0.00747781, 0.00690705, 0.00588318, 0.        ,\n",
       "       0.01265079], dtype=float32)"
      ]
     },
     "execution_count": 70,
     "metadata": {},
     "output_type": "execute_result"
    }
   ],
   "source": [
    "model_xgb.feature_importances_"
   ]
  },
  {
   "cell_type": "code",
   "execution_count": 74,
   "id": "0f698b11",
   "metadata": {},
   "outputs": [
    {
     "data": {
      "image/png": "[encoded data removed]",
      "text/plain": [
       "<Figure size 1200x600 with 1 Axes>"
      ]
     },
     "metadata": {},
     "output_type": "display_data"
    }
   ],
   "source": [
    "plt.figure(figsize=(12,6))\n",
    "plt.bar(df.columns[3:],model_xgb.feature_importances_)\n",
    "plt.title('Feature Importance')\n",
    "plt.xlabel('Feature')\n",
    "plt.ylabel('Importance')\n",
    "plt.savefig(\"images/porto_xgb_last2hours_feature_importance.png\")\n",
    "plt.show()"
   ]
  },
  {
   "cell_type": "code",
   "execution_count": 75,
   "id": "71aef5fc",
   "metadata": {},
   "outputs": [
    {
     "data": {
      "image/png": "[encoded data removed]",
      "text/plain": [
       "<Figure size 1200x600 with 1 Axes>"
      ]
     },
     "metadata": {},
     "output_type": "display_data"
    }
   ],
   "source": [
    "plt.figure(figsize=(12,6))\n",
    "plt.bar(df.columns[3:],model_lr.coef_)\n",
    "plt.title('Feature Importance')\n",
    "plt.xlabel('Feature')\n",
    "plt.ylabel('Importance')\n",
    "plt.show()"
   ]
  },
  {
   "cell_type": "code",
   "execution_count": 76,
   "id": "d8ca075f",
   "metadata": {},
   "outputs": [
    {
     "data": {
      "text/plain": [
       "lag_1        0.896702\n",
       "lag_2        0.014464\n",
       "lag_3        0.021644\n",
       "lag_4        0.008382\n",
       "lag_5        0.014518\n",
       "lag_6        0.011371\n",
       "lag_7        0.007478\n",
       "lag_8        0.006907\n",
       "DayOfWeek    0.005883\n",
       "Weekend      0.000000\n",
       "Hour         0.012651\n",
       "dtype: float32"
      ]
     },
     "execution_count": 76,
     "metadata": {},
     "output_type": "execute_result"
    }
   ],
   "source": [
    "columns = df.drop([\"Energy\", \"Location\", \"Time\"], axis=1).columns\n",
    "feature_importance = pd.Series(model_xgb.feature_importances_, index=columns)\n",
    "feature_importance"
   ]
  },
  {
   "cell_type": "code",
   "execution_count": 77,
   "id": "17ed32bb",
   "metadata": {},
   "outputs": [
    {
     "data": {
      "text/plain": [
       "Index(['lag_1', 'lag_3', 'lag_5', 'lag_2', 'Hour', 'lag_6', 'lag_4', 'lag_7',\n",
       "       'lag_8', 'DayOfWeek', 'Weekend'],\n",
       "      dtype='object')"
      ]
     },
     "execution_count": 77,
     "metadata": {},
     "output_type": "execute_result"
    }
   ],
   "source": [
    "features = feature_importance.nlargest(40).index\n",
    "features"
   ]
  },
  {
   "cell_type": "code",
   "execution_count": null,
   "id": "d5c9659b",
   "metadata": {},
   "outputs": [],
   "source": [
    "df_40 = df[['Time', 'Location'] + [*features] + ['Energy']]\n",
    "df_40"
   ]
  },
  {
   "cell_type": "code",
   "execution_count": null,
   "id": "ac35cbb1",
   "metadata": {},
   "outputs": [],
   "source": [
    "df_40.to_csv(\"data/porto_best40features.csv\", index=False)"
   ]
  },
  {
   "attachments": {},
   "cell_type": "markdown",
   "id": "f34bff5d",
   "metadata": {},
   "source": [
    "### Test with 40 best features"
   ]
  },
  {
   "cell_type": "code",
   "execution_count": null,
   "id": "a975dae5",
   "metadata": {},
   "outputs": [],
   "source": [
    "sourceFile = open(\"gpu_logs/ensemble_porto_40best.txt\", 'w')"
   ]
  },
  {
   "cell_type": "code",
   "execution_count": null,
   "id": "44c10ceb",
   "metadata": {},
   "outputs": [],
   "source": [
    "df_test = pd.read_csv(\"data/porto_best40features.csv\", nrows=100)\n",
    "\n",
    "float_cols = [c for c in df_test if df_test[c].dtype == \"float64\"]\n",
    "float32_cols = {c: np.float32 for c in float_cols}\n",
    "\n",
    "df_40 = pd.read_csv(\"data/porto_best40features.csv\", engine='c', dtype=float32_cols)\n",
    "df_40"
   ]
  },
  {
   "cell_type": "code",
   "execution_count": null,
   "id": "33dcc203",
   "metadata": {},
   "outputs": [],
   "source": [
    "metrics_list_lr = []\n",
    "print(\"\\n----------------------------\", file=sourceFile)\n",
    "print(\"\\nLinear Regression\\n\", file=sourceFile)\n",
    "print(\"----------------------------\\n\", file=sourceFile)\n",
    "for i in range(10):\n",
    "    print(\"\\nIteration\", i, file=sourceFile)\n",
    "    print(\"\\nIteration\", i)\n",
    "    mse, wape, r2, model_lr = test_leave_house_out(df_40, LinearRegression(), locations[i], sourceFile)\n",
    "    metrics_list_lr.append((mse, wape, r2))"
   ]
  },
  {
   "cell_type": "code",
   "execution_count": null,
   "id": "cc5f5239",
   "metadata": {},
   "outputs": [],
   "source": [
    "metrics_list_xgb = []\n",
    "print(\"\\n----------------------------\", file=sourceFile)\n",
    "print(\"\\nXGBoost\\n\", file=sourceFile)\n",
    "print(\"----------------------------\\n\", file=sourceFile)\n",
    "for i in range(10):\n",
    "    print(\"\\nIteration\", i, file=sourceFile)\n",
    "    print(\"\\nIteration\", i)\n",
    "    mse, wape, r2, model_xgb = test_leave_house_out(df_40, xgb.XGBRegressor(tree_method='gpu_hist', seed=0), locations[i], sourceFile)\n",
    "    metrics_list_xgb.append((mse, wape, r2))"
   ]
  },
  {
   "cell_type": "code",
   "execution_count": null,
   "id": "d176e5c8",
   "metadata": {},
   "outputs": [],
   "source": [
    "metrics_list_rf = []\n",
    "print(\"\\n----------------------------\", file=sourceFile)\n",
    "print(\"\\nRandom Forest\\n\", file=sourceFile)\n",
    "print(\"----------------------------\\n\", file=sourceFile)\n",
    "for i in range(10):\n",
    "    print(\"\\nIteration\", i, file=sourceFile)\n",
    "    print(\"\\nIteration\", i)\n",
    "    mse, wape, r2, model_rf = test_leave_house_out(df_40, cuRF(), locations[i], sourceFile)\n",
    "    metrics_list_rf.append((mse, wape, r2))"
   ]
  },
  {
   "cell_type": "code",
   "execution_count": null,
   "id": "5b6f6b1a",
   "metadata": {},
   "outputs": [],
   "source": [
    "print(\"\\n\\n\\n\", file=sourceFile)"
   ]
  },
  {
   "cell_type": "code",
   "execution_count": null,
   "id": "4af67a47",
   "metadata": {},
   "outputs": [],
   "source": [
    "print(\"\\nLinear Regression\", file=sourceFile)\n",
    "total_averaged_metrics(metrics_list_lr, sourceFile)"
   ]
  },
  {
   "cell_type": "code",
   "execution_count": null,
   "id": "008ea3e5",
   "metadata": {},
   "outputs": [],
   "source": [
    "print(\"\\nXGBoost\", file=sourceFile)\n",
    "total_averaged_metrics(metrics_list_xgb, sourceFile)"
   ]
  },
  {
   "cell_type": "code",
   "execution_count": null,
   "id": "dc9e4cc3",
   "metadata": {},
   "outputs": [],
   "source": [
    "print(\"\\nRandom Forest\", file=sourceFile)\n",
    "total_averaged_metrics(metrics_list_rf, sourceFile)"
   ]
  },
  {
   "cell_type": "code",
   "execution_count": null,
   "id": "e10eb489",
   "metadata": {},
   "outputs": [],
   "source": [
    "sourceFile.close()"
   ]
  },
  {
   "cell_type": "code",
   "execution_count": null,
   "id": "8d0fb555",
   "metadata": {},
   "outputs": [],
   "source": []
  }
 ],
 "metadata": {
  "kernelspec": {
   "display_name": "Python 3.8.16 ('rapids-23.02')",
   "language": "python",
   "name": "python3"
  },
  "language_info": {
   "codemirror_mode": {
    "name": "ipython",
    "version": 3
   },
   "file_extension": ".py",
   "mimetype": "text/x-python",
   "name": "python",
   "nbconvert_exporter": "python",
   "pygments_lexer": "ipython3",
   "version": "3.8.16"
  },
  "vscode": {
   "interpreter": {
    "hash": "b68dca5a889d9fa7a36c76420bb99c5b147d98e0e386a0426daa5cd8f8566c01"
   }
  }
 },
 "nbformat": 4,
 "nbformat_minor": 5
}
