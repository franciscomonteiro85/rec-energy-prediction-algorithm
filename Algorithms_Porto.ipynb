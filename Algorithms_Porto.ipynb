{
 "cells": [
  {
   "cell_type": "code",
   "execution_count": 2,
   "id": "58081526",
   "metadata": {},
   "outputs": [],
   "source": [
    "import warnings\n",
    "warnings.filterwarnings('ignore',category=FutureWarning)\n",
    "warnings.filterwarnings('ignore',category=DeprecationWarning)\n",
    "import numpy as np\n",
    "import pandas as pd\n",
    "import matplotlib.pyplot as plt\n",
    "from sklearn.model_selection import cross_validate, KFold, RepeatedKFold, RandomizedSearchCV\n",
    "from sklearn.metrics import mean_squared_error, r2_score, mean_absolute_error, mean_absolute_percentage_error\n",
    "from sklearn.preprocessing import PolynomialFeatures, MinMaxScaler\n",
    "from sklearn.linear_model import LinearRegression\n",
    "import time\n",
    "import cudf\n",
    "from cuml.ensemble import RandomForestRegressor as cuRF\n",
    "import math\n",
    "import xgboost as xgb\n",
    "from tqdm import tqdm"
   ]
  },
  {
   "attachments": {},
   "cell_type": "markdown",
   "id": "aa402221",
   "metadata": {},
   "source": [
    "#### Output file"
   ]
  },
  {
   "cell_type": "code",
   "execution_count": 3,
   "id": "70c13e8f",
   "metadata": {},
   "outputs": [],
   "source": [
    "sourceFile = open(\"gpu_logs/ensemble_porto_40best.txt\", 'w')"
   ]
  },
  {
   "attachments": {},
   "cell_type": "markdown",
   "id": "e8907202",
   "metadata": {},
   "source": [
    "### Load the data"
   ]
  },
  {
   "cell_type": "code",
   "execution_count": null,
   "id": "f6963e23",
   "metadata": {},
   "outputs": [],
   "source": [
    "df = pd.read_pickle(\"../datasets/df_location.pkl\")\n",
    "## Leaving the first house (public building out) due to its different profile\n",
    "df = df.iloc[:, [0, 2, 1]].reset_index(drop=True)\n",
    "number_of_houses = df.Location.nunique()\n",
    "num_samples_per_house = df.Location.value_counts()[1]\n",
    "df.reset_index(drop=True, inplace=True)\n",
    "df"
   ]
  },
  {
   "cell_type": "code",
   "execution_count": null,
   "id": "f318159d",
   "metadata": {},
   "outputs": [],
   "source": [
    "#trunc = lambda x: math.trunc(10000 * x) / 10000\n",
    "#df_trunc = pd.DataFrame(df['Energy']).applymap(trunc)\n",
    "#df = pd.concat([df.iloc[:, 0:-1], df_trunc], axis=1)\n",
    "#df"
   ]
  },
  {
   "cell_type": "markdown",
   "id": "54c9d325",
   "metadata": {},
   "source": [
    "### Auxiliary functions"
   ]
  },
  {
   "cell_type": "code",
   "execution_count": 4,
   "id": "cd78e17d",
   "metadata": {},
   "outputs": [],
   "source": [
    "def plot_results(preds: np.array, actuals: np.array, title: str):\n",
    "    \n",
    "    plt.scatter(actuals, preds, c='b', label='predicted')\n",
    "    plt.xlabel('actual')\n",
    "    plt.ylabel('predicted')\n",
    "    plt.title(title)\n",
    "    plt.xlim(0, plt.xlim()[1])\n",
    "    plt.ylim(0, plt.ylim()[1])\n",
    "    _ = plt.plot([0, 100], [0, 100], '--r', label='y=x')\n",
    "    plt.legend()\n",
    "    plt.show()\n",
    "\n",
    "def truncate_metric(metric):\n",
    "    m = math.trunc(10000 * metric) / 10000\n",
    "    return m \n",
    "    \n",
    "def performance_metrics(preds: np.array, actuals: np.array, filename):\n",
    "\n",
    "    # calculate performance metrics\n",
    "    \n",
    "    mse = truncate_metric(mean_squared_error(actuals, preds))\n",
    "    wape = truncate_metric(np.sum(np.abs(preds - actuals)) / np.sum(np.abs(actuals))) * 100\n",
    "    r2 = truncate_metric(r2_score(actuals, preds))\n",
    "    \n",
    "    # print performance metrics\n",
    "    print('MSE: %.4f' % mse, file=filename)\n",
    "    print('WAPE: %.2f' % wape, file=filename)\n",
    "    print('R2: %.4f' % r2, file=filename)\n",
    "    return mse, wape, r2\n",
    "\n",
    "#@jit(target_backend='cuda')\n",
    "def build_model(estimator, X_train: np.array, y_train: np.array, X_test: np.array):\n",
    "    \n",
    "    model = estimator\n",
    "    model.fit(X_train, y_train)\n",
    "    preds = model.predict(X_test)\n",
    "    \n",
    "    return model, preds\n",
    "\n",
    "def validate(estimator, X_train, y_train):\n",
    "    scores = cross_validate(estimator, X_train, y_train, scoring=['r2', 'neg_mean_squared_error'])\n",
    "    return scores\n",
    "    "
   ]
  },
  {
   "cell_type": "code",
   "execution_count": 5,
   "id": "8af19e8d",
   "metadata": {},
   "outputs": [],
   "source": [
    "def total_averaged_metrics(metrics_list, filename):\n",
    "    \n",
    "    print(\"Total Averaged MSE: {}\".format(np.round(sum(i for i, j, k in metrics_list)/len(metrics_list),3)), file=filename)\n",
    "    print(\"Total Averaged WAPE: {}\".format(np.round(sum(j for i, j, k in metrics_list)/len(metrics_list),3)), file=filename)\n",
    "    print(\"Total Averaged R2: {}\".format(np.round(sum(k for i, j, k in metrics_list)/len(metrics_list),3)), file=filename)\n",
    "\n",
    "def past_timesteps(df, number_of_timesteps):\n",
    "    df = df.sort_values(by=['Location', 'Time'])\n",
    "    for i in tqdm(range(1, (number_of_timesteps + 1))):\n",
    "        df.loc[df['Time'].shift(i) == df['Time'] - pd.Timedelta(i * 15, 'm'), f\"energy_lag_{i}\"] = df['Energy'].shift(i)\n",
    "    df.dropna(inplace=True)\n",
    "    df.reset_index(drop=True, inplace=True)\n",
    "    return df\n",
    "\n",
    "#def past_timesteps(df, number_of_timesteps):\n",
    "#    # Sort the dataframe by location and time\n",
    "#    df = df.sort_values(by=['Location', 'Time'])\n",
    "#\n",
    "#    # Compute rolling window over time axis to extract past energy values for each location\n",
    "#    energy_lags = [f\"energy_lag_{i}\" for i in range(1, number_of_timesteps+1)]\n",
    "#    past_energy = df.groupby('Location')['Energy'].rolling(window=number_of_timesteps, min_periods=1).apply(np.mean())\n",
    "#    # Add new columns to the dataframe for each past energy value\n",
    "#    for i, energy_lag in enumerate(energy_lags):\n",
    "#        df[energy_lag] = past_energy.apply(lambda x: x[-i-1] if isinstance(x, list) and len(x)>=i+1 else x)\n",
    "#\n",
    "#    # Drop rows with missing values\n",
    "#    df.dropna(inplace=True)\n",
    "#    df.reset_index(drop=True, inplace=True)\n",
    "#\n",
    "#    return df\n",
    "\n",
    "\n",
    "def last_energy_points_full(df, number_timesteps, num_samples_per_house):\n",
    "    X = pd.DataFrame()\n",
    "    other_feats = df.iloc[:,:2]\n",
    "    for i in range(1, (number_timesteps + 1) ):\n",
    "        X[f'Energy_{i*15}'] = df['Energy'].shift(i)\n",
    "    y = df.copy().iloc[:,2]\n",
    "    y.iloc[:number_timesteps] = np.nan\n",
    "    ## Remove samples in between each house\n",
    "    for h in range(1, number_of_houses):\n",
    "        for i in range(0, number_timesteps):\n",
    "            X.iloc[(num_samples_per_house+i)*h] = np.nan\n",
    "            y.iloc[(num_samples_per_house+i)*h] = np.nan\n",
    "    X = pd.concat([other_feats, X], axis=1)\n",
    "    X.dropna(inplace=True)\n",
    "    X.reset_index(drop=True, inplace=True)\n",
    "    y.dropna(inplace=True)\n",
    "    y.reset_index(drop=True, inplace=True)\n",
    "    y.columns = [\"Energy\"]\n",
    "    dataframe = pd.concat([X,y.rename('Energy')], axis=1)\n",
    "    assert number_of_houses == (df.shape[0] - dataframe.shape[0]) / number_timesteps, \"Something went wrong with preprocessing\"\n",
    "    return dataframe\n",
    "    "
   ]
  },
  {
   "cell_type": "code",
   "execution_count": 6,
   "id": "9d0352ee",
   "metadata": {},
   "outputs": [],
   "source": [
    "def normalize_training(X_train):\n",
    "    scaler = MinMaxScaler(feature_range=(0,1))\n",
    "    scaler.fit(X_train)\n",
    "    X_train = scaler.transform(X_train)\n",
    "    return X_train, scaler"
   ]
  },
  {
   "cell_type": "markdown",
   "id": "bd1b0d17",
   "metadata": {},
   "source": [
    "### Cross Validate"
   ]
  },
  {
   "cell_type": "code",
   "execution_count": null,
   "id": "71efa19a",
   "metadata": {},
   "outputs": [],
   "source": [
    "#scores = validate(xgb.XGBRegressor(seed=0), X_train, y_train)\n",
    "#cv_mse = np.round(scores['test_neg_mean_squared_error'].mean() * (-1),4)\n",
    "#cv_r2 = np.round(scores['test_r2'].mean(),5)\n",
    "#print(\"CV MSE: {} \".format(cv_mse))\n",
    "#print(\"CV R2: {} \".format(cv_r2))\n",
    "#metrics_list.append((cv_mse,cv_rmse,cv_mae,mape,cv_r2))"
   ]
  },
  {
   "cell_type": "markdown",
   "id": "0f5ba7c5",
   "metadata": {},
   "source": [
    "## Leave 10 houses for test (demonstration)"
   ]
  },
  {
   "cell_type": "code",
   "execution_count": null,
   "id": "fd9b27b9",
   "metadata": {},
   "outputs": [],
   "source": [
    "number_of_timesteps = 672"
   ]
  },
  {
   "cell_type": "code",
   "execution_count": null,
   "id": "ddb42d91",
   "metadata": {},
   "outputs": [],
   "source": [
    "df_new = past_timesteps(df, number_of_timesteps)\n",
    "df_new"
   ]
  },
  {
   "cell_type": "code",
   "execution_count": null,
   "id": "9741395b",
   "metadata": {},
   "outputs": [],
   "source": [
    "df_new['DayOfWeek'] = df_new['Time'].dt.dayofweek\n",
    "df_new['Weekend'] = df_new['Time'].dt.dayofweek.isin([5, 6]).astype(int)\n",
    "df_new['Hour'] = df_new['Time'].dt.hour\n",
    "df_new"
   ]
  },
  {
   "cell_type": "code",
   "execution_count": null,
   "id": "553c782a",
   "metadata": {},
   "outputs": [],
   "source": [
    "df_new.to_csv(\"data/porto_oneweek.csv\", index=False)"
   ]
  },
  {
   "cell_type": "code",
   "execution_count": 7,
   "id": "daa9a0ea",
   "metadata": {},
   "outputs": [],
   "source": [
    "def test_leave_house_out(df, estimator, locations, filename):\n",
    "    #df_new = past_timesteps(df, number_timesteps)\n",
    "    #df_new['DayOfWeek'] = df_new['Time'].dt.dayofweek\n",
    "    #df_new['Weekend'] = df_new['Time'].dt.dayofweek.isin([5,6]).astype(int)\n",
    "    #df_new['Hour'] = df_new['Time'].dt.hour\n",
    "    test = df[df['Location'].isin(locations)]\n",
    "    train = df[~df['Location'].isin(locations)]\n",
    "    print(\"Train set: \", train.shape)\n",
    "    print(\"Test set: \", test.shape)\n",
    "    X_train = train.drop(['Time', 'Energy', 'Location'], axis=1)\n",
    "    X_test = test.drop(['Time', 'Energy', 'Location'], axis=1)\n",
    "    y_train = train['Energy']\n",
    "    y_test = test['Energy']\n",
    "    X_train_norm, scaler = normalize_training(X_train)\n",
    "    X_test_norm = scaler.transform(X_test)\n",
    "\n",
    "    model = estimator\n",
    "    init = time.time()\n",
    "    model.fit(X_train_norm, y_train)\n",
    "    y_pred = model.predict(X_test_norm)\n",
    "    end = time.time()\n",
    "    print('Elapsed time: {:.4f} s'.format(end - init), file=filename)\n",
    "    mse, wape, r2 = performance_metrics(y_pred, y_test.values.reshape(-1), filename)\n",
    "    return mse, wape, r2, model"
   ]
  },
  {
   "cell_type": "markdown",
   "id": "47b7a1a3",
   "metadata": {},
   "source": [
    "## Predict  10 folds with 10 random houses for test"
   ]
  },
  {
   "cell_type": "code",
   "execution_count": 8,
   "id": "cadbd9f1",
   "metadata": {},
   "outputs": [
    {
     "data": {
      "text/html": [
       "<div>\n",
       "<style scoped>\n",
       "    .dataframe tbody tr th:only-of-type {\n",
       "        vertical-align: middle;\n",
       "    }\n",
       "\n",
       "    .dataframe tbody tr th {\n",
       "        vertical-align: top;\n",
       "    }\n",
       "\n",
       "    .dataframe thead th {\n",
       "        text-align: right;\n",
       "    }\n",
       "</style>\n",
       "<table border=\"1\" class=\"dataframe\">\n",
       "  <thead>\n",
       "    <tr style=\"text-align: right;\">\n",
       "      <th></th>\n",
       "      <th>Time</th>\n",
       "      <th>Location</th>\n",
       "      <th>energy_lag_387</th>\n",
       "      <th>energy_lag_50</th>\n",
       "      <th>energy_lag_341</th>\n",
       "      <th>energy_lag_39</th>\n",
       "      <th>energy_lag_1</th>\n",
       "      <th>energy_lag_41</th>\n",
       "      <th>energy_lag_334</th>\n",
       "      <th>DayOfWeek</th>\n",
       "      <th>...</th>\n",
       "      <th>energy_lag_229</th>\n",
       "      <th>energy_lag_291</th>\n",
       "      <th>energy_lag_422</th>\n",
       "      <th>energy_lag_386</th>\n",
       "      <th>energy_lag_428</th>\n",
       "      <th>energy_lag_92</th>\n",
       "      <th>energy_lag_3</th>\n",
       "      <th>energy_lag_513</th>\n",
       "      <th>energy_lag_95</th>\n",
       "      <th>Energy</th>\n",
       "    </tr>\n",
       "  </thead>\n",
       "  <tbody>\n",
       "    <tr>\n",
       "      <th>0</th>\n",
       "      <td>2019-01-08 00:00:00</td>\n",
       "      <td>0</td>\n",
       "      <td>2.661000</td>\n",
       "      <td>7.424000</td>\n",
       "      <td>4.279000</td>\n",
       "      <td>6.877000</td>\n",
       "      <td>3.952000</td>\n",
       "      <td>8.214000</td>\n",
       "      <td>7.054000</td>\n",
       "      <td>1</td>\n",
       "      <td>...</td>\n",
       "      <td>3.257000</td>\n",
       "      <td>2.459000</td>\n",
       "      <td>5.219000</td>\n",
       "      <td>2.499000</td>\n",
       "      <td>5.362000</td>\n",
       "      <td>2.349000</td>\n",
       "      <td>4.095000</td>\n",
       "      <td>3.137000</td>\n",
       "      <td>2.634000</td>\n",
       "      <td>4.940000</td>\n",
       "    </tr>\n",
       "    <tr>\n",
       "      <th>1</th>\n",
       "      <td>2019-01-08 00:15:00</td>\n",
       "      <td>0</td>\n",
       "      <td>2.499000</td>\n",
       "      <td>6.767000</td>\n",
       "      <td>4.530000</td>\n",
       "      <td>6.880000</td>\n",
       "      <td>4.940000</td>\n",
       "      <td>7.518000</td>\n",
       "      <td>6.929000</td>\n",
       "      <td>1</td>\n",
       "      <td>...</td>\n",
       "      <td>3.226000</td>\n",
       "      <td>2.396000</td>\n",
       "      <td>5.225000</td>\n",
       "      <td>3.609000</td>\n",
       "      <td>4.560000</td>\n",
       "      <td>2.688000</td>\n",
       "      <td>3.803000</td>\n",
       "      <td>3.093000</td>\n",
       "      <td>3.052000</td>\n",
       "      <td>4.149000</td>\n",
       "    </tr>\n",
       "    <tr>\n",
       "      <th>2</th>\n",
       "      <td>2019-01-08 00:30:00</td>\n",
       "      <td>0</td>\n",
       "      <td>3.609000</td>\n",
       "      <td>7.248000</td>\n",
       "      <td>4.281000</td>\n",
       "      <td>7.744000</td>\n",
       "      <td>4.149000</td>\n",
       "      <td>6.877000</td>\n",
       "      <td>6.717000</td>\n",
       "      <td>1</td>\n",
       "      <td>...</td>\n",
       "      <td>3.149000</td>\n",
       "      <td>2.824000</td>\n",
       "      <td>4.864000</td>\n",
       "      <td>2.351000</td>\n",
       "      <td>4.978000</td>\n",
       "      <td>2.567000</td>\n",
       "      <td>3.952000</td>\n",
       "      <td>3.879000</td>\n",
       "      <td>2.893000</td>\n",
       "      <td>4.401000</td>\n",
       "    </tr>\n",
       "    <tr>\n",
       "      <th>3</th>\n",
       "      <td>2019-01-08 00:45:00</td>\n",
       "      <td>0</td>\n",
       "      <td>2.351000</td>\n",
       "      <td>6.997000</td>\n",
       "      <td>6.357000</td>\n",
       "      <td>7.285000</td>\n",
       "      <td>4.401000</td>\n",
       "      <td>6.880000</td>\n",
       "      <td>7.790000</td>\n",
       "      <td>1</td>\n",
       "      <td>...</td>\n",
       "      <td>3.125000</td>\n",
       "      <td>3.066000</td>\n",
       "      <td>4.897000</td>\n",
       "      <td>2.843000</td>\n",
       "      <td>5.011000</td>\n",
       "      <td>2.765000</td>\n",
       "      <td>4.940000</td>\n",
       "      <td>3.490000</td>\n",
       "      <td>2.349000</td>\n",
       "      <td>4.431000</td>\n",
       "    </tr>\n",
       "    <tr>\n",
       "      <th>4</th>\n",
       "      <td>2019-01-08 01:00:00</td>\n",
       "      <td>0</td>\n",
       "      <td>2.843000</td>\n",
       "      <td>7.324000</td>\n",
       "      <td>6.192000</td>\n",
       "      <td>6.407000</td>\n",
       "      <td>4.431000</td>\n",
       "      <td>7.744000</td>\n",
       "      <td>5.729000</td>\n",
       "      <td>1</td>\n",
       "      <td>...</td>\n",
       "      <td>3.547000</td>\n",
       "      <td>3.152000</td>\n",
       "      <td>5.492000</td>\n",
       "      <td>2.949000</td>\n",
       "      <td>5.869000</td>\n",
       "      <td>3.054000</td>\n",
       "      <td>4.149000</td>\n",
       "      <td>2.569000</td>\n",
       "      <td>2.688000</td>\n",
       "      <td>3.988000</td>\n",
       "    </tr>\n",
       "    <tr>\n",
       "      <th>...</th>\n",
       "      <td>...</td>\n",
       "      <td>...</td>\n",
       "      <td>...</td>\n",
       "      <td>...</td>\n",
       "      <td>...</td>\n",
       "      <td>...</td>\n",
       "      <td>...</td>\n",
       "      <td>...</td>\n",
       "      <td>...</td>\n",
       "      <td>...</td>\n",
       "      <td>...</td>\n",
       "      <td>...</td>\n",
       "      <td>...</td>\n",
       "      <td>...</td>\n",
       "      <td>...</td>\n",
       "      <td>...</td>\n",
       "      <td>...</td>\n",
       "      <td>...</td>\n",
       "      <td>...</td>\n",
       "      <td>...</td>\n",
       "      <td>...</td>\n",
       "    </tr>\n",
       "    <tr>\n",
       "      <th>1757659</th>\n",
       "      <td>2020-01-01 22:45:00</td>\n",
       "      <td>50</td>\n",
       "      <td>0.454855</td>\n",
       "      <td>0.625669</td>\n",
       "      <td>0.756937</td>\n",
       "      <td>0.437601</td>\n",
       "      <td>1.099100</td>\n",
       "      <td>0.374650</td>\n",
       "      <td>0.424639</td>\n",
       "      <td>2</td>\n",
       "      <td>...</td>\n",
       "      <td>0.082104</td>\n",
       "      <td>0.481770</td>\n",
       "      <td>0.429139</td>\n",
       "      <td>0.563585</td>\n",
       "      <td>0.099111</td>\n",
       "      <td>1.077717</td>\n",
       "      <td>0.481770</td>\n",
       "      <td>0.224600</td>\n",
       "      <td>0.752850</td>\n",
       "      <td>0.753222</td>\n",
       "    </tr>\n",
       "    <tr>\n",
       "      <th>1757660</th>\n",
       "      <td>2020-01-01 23:00:00</td>\n",
       "      <td>50</td>\n",
       "      <td>0.563585</td>\n",
       "      <td>0.429675</td>\n",
       "      <td>0.758175</td>\n",
       "      <td>0.441605</td>\n",
       "      <td>0.753222</td>\n",
       "      <td>0.358180</td>\n",
       "      <td>0.429675</td>\n",
       "      <td>2</td>\n",
       "      <td>...</td>\n",
       "      <td>0.107202</td>\n",
       "      <td>0.453906</td>\n",
       "      <td>0.426166</td>\n",
       "      <td>0.598713</td>\n",
       "      <td>0.090030</td>\n",
       "      <td>0.881889</td>\n",
       "      <td>0.453906</td>\n",
       "      <td>1.272473</td>\n",
       "      <td>0.935428</td>\n",
       "      <td>0.716855</td>\n",
       "    </tr>\n",
       "    <tr>\n",
       "      <th>1757661</th>\n",
       "      <td>2020-01-01 23:15:00</td>\n",
       "      <td>50</td>\n",
       "      <td>0.598713</td>\n",
       "      <td>0.458736</td>\n",
       "      <td>0.768412</td>\n",
       "      <td>0.277066</td>\n",
       "      <td>0.716855</td>\n",
       "      <td>0.437601</td>\n",
       "      <td>0.410480</td>\n",
       "      <td>2</td>\n",
       "      <td>...</td>\n",
       "      <td>0.070587</td>\n",
       "      <td>1.099100</td>\n",
       "      <td>0.190916</td>\n",
       "      <td>0.641933</td>\n",
       "      <td>0.079256</td>\n",
       "      <td>0.858855</td>\n",
       "      <td>1.099100</td>\n",
       "      <td>0.446187</td>\n",
       "      <td>0.715781</td>\n",
       "      <td>0.735802</td>\n",
       "    </tr>\n",
       "    <tr>\n",
       "      <th>1757662</th>\n",
       "      <td>2020-01-01 23:30:00</td>\n",
       "      <td>50</td>\n",
       "      <td>0.641933</td>\n",
       "      <td>0.420181</td>\n",
       "      <td>0.625669</td>\n",
       "      <td>0.413618</td>\n",
       "      <td>0.735802</td>\n",
       "      <td>0.441605</td>\n",
       "      <td>0.433184</td>\n",
       "      <td>2</td>\n",
       "      <td>...</td>\n",
       "      <td>0.088750</td>\n",
       "      <td>0.753222</td>\n",
       "      <td>0.105345</td>\n",
       "      <td>0.752850</td>\n",
       "      <td>0.097667</td>\n",
       "      <td>1.082588</td>\n",
       "      <td>0.753222</td>\n",
       "      <td>0.294279</td>\n",
       "      <td>1.077717</td>\n",
       "      <td>0.485237</td>\n",
       "    </tr>\n",
       "    <tr>\n",
       "      <th>1757663</th>\n",
       "      <td>2020-01-01 23:45:00</td>\n",
       "      <td>50</td>\n",
       "      <td>0.752850</td>\n",
       "      <td>0.424639</td>\n",
       "      <td>0.429675</td>\n",
       "      <td>0.375228</td>\n",
       "      <td>0.485237</td>\n",
       "      <td>0.277066</td>\n",
       "      <td>0.422658</td>\n",
       "      <td>2</td>\n",
       "      <td>...</td>\n",
       "      <td>0.224600</td>\n",
       "      <td>0.716855</td>\n",
       "      <td>0.091144</td>\n",
       "      <td>0.935428</td>\n",
       "      <td>0.091805</td>\n",
       "      <td>1.021784</td>\n",
       "      <td>0.716855</td>\n",
       "      <td>0.297623</td>\n",
       "      <td>0.881889</td>\n",
       "      <td>0.394216</td>\n",
       "    </tr>\n",
       "  </tbody>\n",
       "</table>\n",
       "<p>1757664 rows × 43 columns</p>\n",
       "</div>"
      ],
      "text/plain": [
       "                        Time  Location  energy_lag_387  energy_lag_50  \\\n",
       "0        2019-01-08 00:00:00         0        2.661000       7.424000   \n",
       "1        2019-01-08 00:15:00         0        2.499000       6.767000   \n",
       "2        2019-01-08 00:30:00         0        3.609000       7.248000   \n",
       "3        2019-01-08 00:45:00         0        2.351000       6.997000   \n",
       "4        2019-01-08 01:00:00         0        2.843000       7.324000   \n",
       "...                      ...       ...             ...            ...   \n",
       "1757659  2020-01-01 22:45:00        50        0.454855       0.625669   \n",
       "1757660  2020-01-01 23:00:00        50        0.563585       0.429675   \n",
       "1757661  2020-01-01 23:15:00        50        0.598713       0.458736   \n",
       "1757662  2020-01-01 23:30:00        50        0.641933       0.420181   \n",
       "1757663  2020-01-01 23:45:00        50        0.752850       0.424639   \n",
       "\n",
       "         energy_lag_341  energy_lag_39  energy_lag_1  energy_lag_41  \\\n",
       "0              4.279000       6.877000      3.952000       8.214000   \n",
       "1              4.530000       6.880000      4.940000       7.518000   \n",
       "2              4.281000       7.744000      4.149000       6.877000   \n",
       "3              6.357000       7.285000      4.401000       6.880000   \n",
       "4              6.192000       6.407000      4.431000       7.744000   \n",
       "...                 ...            ...           ...            ...   \n",
       "1757659        0.756937       0.437601      1.099100       0.374650   \n",
       "1757660        0.758175       0.441605      0.753222       0.358180   \n",
       "1757661        0.768412       0.277066      0.716855       0.437601   \n",
       "1757662        0.625669       0.413618      0.735802       0.441605   \n",
       "1757663        0.429675       0.375228      0.485237       0.277066   \n",
       "\n",
       "         energy_lag_334  DayOfWeek  ...  energy_lag_229  energy_lag_291  \\\n",
       "0              7.054000          1  ...        3.257000        2.459000   \n",
       "1              6.929000          1  ...        3.226000        2.396000   \n",
       "2              6.717000          1  ...        3.149000        2.824000   \n",
       "3              7.790000          1  ...        3.125000        3.066000   \n",
       "4              5.729000          1  ...        3.547000        3.152000   \n",
       "...                 ...        ...  ...             ...             ...   \n",
       "1757659        0.424639          2  ...        0.082104        0.481770   \n",
       "1757660        0.429675          2  ...        0.107202        0.453906   \n",
       "1757661        0.410480          2  ...        0.070587        1.099100   \n",
       "1757662        0.433184          2  ...        0.088750        0.753222   \n",
       "1757663        0.422658          2  ...        0.224600        0.716855   \n",
       "\n",
       "         energy_lag_422  energy_lag_386  energy_lag_428  energy_lag_92  \\\n",
       "0              5.219000        2.499000        5.362000       2.349000   \n",
       "1              5.225000        3.609000        4.560000       2.688000   \n",
       "2              4.864000        2.351000        4.978000       2.567000   \n",
       "3              4.897000        2.843000        5.011000       2.765000   \n",
       "4              5.492000        2.949000        5.869000       3.054000   \n",
       "...                 ...             ...             ...            ...   \n",
       "1757659        0.429139        0.563585        0.099111       1.077717   \n",
       "1757660        0.426166        0.598713        0.090030       0.881889   \n",
       "1757661        0.190916        0.641933        0.079256       0.858855   \n",
       "1757662        0.105345        0.752850        0.097667       1.082588   \n",
       "1757663        0.091144        0.935428        0.091805       1.021784   \n",
       "\n",
       "         energy_lag_3  energy_lag_513  energy_lag_95    Energy  \n",
       "0            4.095000        3.137000       2.634000  4.940000  \n",
       "1            3.803000        3.093000       3.052000  4.149000  \n",
       "2            3.952000        3.879000       2.893000  4.401000  \n",
       "3            4.940000        3.490000       2.349000  4.431000  \n",
       "4            4.149000        2.569000       2.688000  3.988000  \n",
       "...               ...             ...            ...       ...  \n",
       "1757659      0.481770        0.224600       0.752850  0.753222  \n",
       "1757660      0.453906        1.272473       0.935428  0.716855  \n",
       "1757661      1.099100        0.446187       0.715781  0.735802  \n",
       "1757662      0.753222        0.294279       1.077717  0.485237  \n",
       "1757663      0.716855        0.297623       0.881889  0.394216  \n",
       "\n",
       "[1757664 rows x 43 columns]"
      ]
     },
     "execution_count": 8,
     "metadata": {},
     "output_type": "execute_result"
    }
   ],
   "source": [
    "df = pd.read_csv(\"data/porto_best40features.csv\")\n",
    "df"
   ]
  },
  {
   "cell_type": "code",
   "execution_count": 9,
   "id": "9cca5c2b",
   "metadata": {},
   "outputs": [
    {
     "data": {
      "text/plain": [
       "0"
      ]
     },
     "execution_count": 9,
     "metadata": {},
     "output_type": "execute_result"
    }
   ],
   "source": [
    "df.isna().sum().sum()"
   ]
  },
  {
   "cell_type": "code",
   "execution_count": 10,
   "id": "b3d93f68",
   "metadata": {},
   "outputs": [],
   "source": [
    "#num_houses_test = 10"
   ]
  },
  {
   "cell_type": "code",
   "execution_count": 11,
   "id": "e1b164a8",
   "metadata": {},
   "outputs": [
    {
     "data": {
      "text/plain": [
       "[array([ 3, 12, 13, 17, 24, 30, 31, 32, 40, 43, 46]),\n",
       " array([ 4,  6,  8, 15, 19, 33, 36, 47, 48, 49]),\n",
       " array([ 0,  9, 11, 16, 25, 26, 27, 34, 44, 45]),\n",
       " array([ 1,  2,  5, 21, 23, 29, 35, 37, 39, 41]),\n",
       " array([ 7, 10, 14, 18, 20, 22, 28, 38, 42, 50]),\n",
       " array([ 0,  2, 10, 18, 23, 30, 36, 41, 45, 47, 49]),\n",
       " array([ 4,  8, 12, 20, 21, 26, 29, 31, 32, 33]),\n",
       " array([ 9, 14, 15, 22, 24, 37, 40, 42, 44, 48]),\n",
       " array([ 3,  5, 11, 17, 25, 28, 35, 38, 39, 50]),\n",
       " array([ 1,  6,  7, 13, 16, 19, 27, 34, 43, 46])]"
      ]
     },
     "execution_count": 11,
     "metadata": {},
     "output_type": "execute_result"
    }
   ],
   "source": [
    "kf = RepeatedKFold(n_splits=5, n_repeats=2, random_state=42) \n",
    "locations = []\n",
    "for _, test_index in kf.split(df['Location'].unique()):\n",
    "    locations.append(test_index)\n",
    "locations"
   ]
  },
  {
   "cell_type": "code",
   "execution_count": 12,
   "id": "acc7da60",
   "metadata": {},
   "outputs": [
    {
     "data": {
      "text/plain": [
       "0     34464\n",
       "38    34464\n",
       "28    34464\n",
       "29    34464\n",
       "30    34464\n",
       "31    34464\n",
       "32    34464\n",
       "33    34464\n",
       "34    34464\n",
       "35    34464\n",
       "36    34464\n",
       "37    34464\n",
       "39    34464\n",
       "26    34464\n",
       "40    34464\n",
       "41    34464\n",
       "42    34464\n",
       "43    34464\n",
       "44    34464\n",
       "45    34464\n",
       "46    34464\n",
       "47    34464\n",
       "48    34464\n",
       "49    34464\n",
       "27    34464\n",
       "25    34464\n",
       "1     34464\n",
       "12    34464\n",
       "2     34464\n",
       "3     34464\n",
       "4     34464\n",
       "5     34464\n",
       "6     34464\n",
       "7     34464\n",
       "8     34464\n",
       "9     34464\n",
       "10    34464\n",
       "11    34464\n",
       "13    34464\n",
       "24    34464\n",
       "14    34464\n",
       "15    34464\n",
       "16    34464\n",
       "17    34464\n",
       "18    34464\n",
       "19    34464\n",
       "20    34464\n",
       "21    34464\n",
       "22    34464\n",
       "23    34464\n",
       "50    34464\n",
       "Name: Location, dtype: int64"
      ]
     },
     "execution_count": 12,
     "metadata": {},
     "output_type": "execute_result"
    }
   ],
   "source": [
    "df.Location.value_counts()"
   ]
  },
  {
   "cell_type": "markdown",
   "id": "30e48b6b",
   "metadata": {},
   "source": [
    "### Linear Regression"
   ]
  },
  {
   "cell_type": "code",
   "execution_count": 13,
   "id": "a9cfe1a7",
   "metadata": {},
   "outputs": [
    {
     "name": "stdout",
     "output_type": "stream",
     "text": [
      "\n",
      "Iteration 0\n",
      "Train set:  (1378560, 43)\n",
      "Test set:  (379104, 43)\n",
      "\n",
      "Iteration 1\n",
      "Train set:  (1413024, 43)\n",
      "Test set:  (344640, 43)\n",
      "\n",
      "Iteration 2\n",
      "Train set:  (1413024, 43)\n",
      "Test set:  (344640, 43)\n",
      "\n",
      "Iteration 3\n",
      "Train set:  (1413024, 43)\n",
      "Test set:  (344640, 43)\n",
      "\n",
      "Iteration 4\n",
      "Train set:  (1413024, 43)\n",
      "Test set:  (344640, 43)\n",
      "\n",
      "Iteration 5\n",
      "Train set:  (1378560, 43)\n",
      "Test set:  (379104, 43)\n",
      "\n",
      "Iteration 6\n",
      "Train set:  (1413024, 43)\n",
      "Test set:  (344640, 43)\n",
      "\n",
      "Iteration 7\n",
      "Train set:  (1413024, 43)\n",
      "Test set:  (344640, 43)\n",
      "\n",
      "Iteration 8\n",
      "Train set:  (1413024, 43)\n",
      "Test set:  (344640, 43)\n",
      "\n",
      "Iteration 9\n",
      "Train set:  (1413024, 43)\n",
      "Test set:  (344640, 43)\n"
     ]
    }
   ],
   "source": [
    "metrics_list_lr = []\n",
    "print(\"\\n----------------------------\", file=sourceFile)\n",
    "print(\"\\nLinear Regression\\n\", file=sourceFile)\n",
    "print(\"----------------------------\\n\", file=sourceFile)\n",
    "for i in range(10):\n",
    "    print(\"\\nIteration\", i, file=sourceFile)\n",
    "    print(\"\\nIteration\", i)\n",
    "    mse, wape, r2, model_lr = test_leave_house_out(df, LinearRegression(), locations[i], sourceFile)\n",
    "    metrics_list_lr.append((mse, wape, r2))"
   ]
  },
  {
   "cell_type": "markdown",
   "id": "1e4142f8",
   "metadata": {},
   "source": [
    "### XGBoost"
   ]
  },
  {
   "cell_type": "code",
   "execution_count": 14,
   "id": "29000235",
   "metadata": {},
   "outputs": [
    {
     "name": "stdout",
     "output_type": "stream",
     "text": [
      "\n",
      "Iteration 0\n",
      "Train set:  (1378560, 43)\n",
      "Test set:  (379104, 43)\n",
      "\n",
      "Iteration 1\n",
      "Train set:  (1413024, 43)\n",
      "Test set:  (344640, 43)\n",
      "\n",
      "Iteration 2\n",
      "Train set:  (1413024, 43)\n",
      "Test set:  (344640, 43)\n",
      "\n",
      "Iteration 3\n",
      "Train set:  (1413024, 43)\n",
      "Test set:  (344640, 43)\n",
      "\n",
      "Iteration 4\n",
      "Train set:  (1413024, 43)\n",
      "Test set:  (344640, 43)\n",
      "\n",
      "Iteration 5\n",
      "Train set:  (1378560, 43)\n",
      "Test set:  (379104, 43)\n",
      "\n",
      "Iteration 6\n",
      "Train set:  (1413024, 43)\n",
      "Test set:  (344640, 43)\n",
      "\n",
      "Iteration 7\n",
      "Train set:  (1413024, 43)\n",
      "Test set:  (344640, 43)\n",
      "\n",
      "Iteration 8\n",
      "Train set:  (1413024, 43)\n",
      "Test set:  (344640, 43)\n",
      "\n",
      "Iteration 9\n",
      "Train set:  (1413024, 43)\n",
      "Test set:  (344640, 43)\n"
     ]
    }
   ],
   "source": [
    "metrics_list_xgb = []\n",
    "print(\"\\n----------------------------\", file=sourceFile)\n",
    "print(\"\\nXGBoost\\n\", file=sourceFile)\n",
    "print(\"----------------------------\\n\", file=sourceFile)\n",
    "for i in range(10):\n",
    "    print(\"\\nIteration\", i, file=sourceFile)\n",
    "    print(\"\\nIteration\", i)\n",
    "    mse, wape, r2, model_xgb = test_leave_house_out(df, xgb.XGBRegressor(tree_method='gpu_hist', seed=0), locations[i], sourceFile)\n",
    "    metrics_list_xgb.append((mse, wape, r2))"
   ]
  },
  {
   "cell_type": "markdown",
   "id": "bc81a8ce",
   "metadata": {},
   "source": [
    "### Random Forest"
   ]
  },
  {
   "cell_type": "code",
   "execution_count": 15,
   "id": "81a082e6",
   "metadata": {},
   "outputs": [
    {
     "name": "stdout",
     "output_type": "stream",
     "text": [
      "\n",
      "Iteration 0\n",
      "Train set:  (1378560, 43)\n",
      "Test set:  (379104, 43)\n"
     ]
    },
    {
     "name": "stderr",
     "output_type": "stream",
     "text": [
      "/home/francisco.monteiro@av.it.pt/miniconda3/envs/rapids-23.02/lib/python3.8/site-packages/cuml/internals/api_decorators.py:190: UserWarning: To use pickling first train using float32 data to fit the estimator\n",
      "  ret = func(*args, **kwargs)\n"
     ]
    },
    {
     "name": "stdout",
     "output_type": "stream",
     "text": [
      "\n",
      "Iteration 1\n",
      "Train set:  (1413024, 43)\n",
      "Test set:  (344640, 43)\n"
     ]
    },
    {
     "name": "stderr",
     "output_type": "stream",
     "text": [
      "/home/francisco.monteiro@av.it.pt/miniconda3/envs/rapids-23.02/lib/python3.8/site-packages/cuml/internals/api_decorators.py:190: UserWarning: To use pickling first train using float32 data to fit the estimator\n",
      "  ret = func(*args, **kwargs)\n"
     ]
    },
    {
     "name": "stdout",
     "output_type": "stream",
     "text": [
      "\n",
      "Iteration 2\n",
      "Train set:  (1413024, 43)\n",
      "Test set:  (344640, 43)\n"
     ]
    },
    {
     "name": "stderr",
     "output_type": "stream",
     "text": [
      "/home/francisco.monteiro@av.it.pt/miniconda3/envs/rapids-23.02/lib/python3.8/site-packages/cuml/internals/api_decorators.py:190: UserWarning: To use pickling first train using float32 data to fit the estimator\n",
      "  ret = func(*args, **kwargs)\n"
     ]
    },
    {
     "name": "stdout",
     "output_type": "stream",
     "text": [
      "\n",
      "Iteration 3\n",
      "Train set:  (1413024, 43)\n",
      "Test set:  (344640, 43)\n"
     ]
    },
    {
     "name": "stderr",
     "output_type": "stream",
     "text": [
      "/home/francisco.monteiro@av.it.pt/miniconda3/envs/rapids-23.02/lib/python3.8/site-packages/cuml/internals/api_decorators.py:190: UserWarning: To use pickling first train using float32 data to fit the estimator\n",
      "  ret = func(*args, **kwargs)\n"
     ]
    },
    {
     "name": "stdout",
     "output_type": "stream",
     "text": [
      "\n",
      "Iteration 4\n",
      "Train set:  (1413024, 43)\n",
      "Test set:  (344640, 43)\n"
     ]
    },
    {
     "name": "stderr",
     "output_type": "stream",
     "text": [
      "/home/francisco.monteiro@av.it.pt/miniconda3/envs/rapids-23.02/lib/python3.8/site-packages/cuml/internals/api_decorators.py:190: UserWarning: To use pickling first train using float32 data to fit the estimator\n",
      "  ret = func(*args, **kwargs)\n"
     ]
    },
    {
     "name": "stdout",
     "output_type": "stream",
     "text": [
      "\n",
      "Iteration 5\n",
      "Train set:  (1378560, 43)\n",
      "Test set:  (379104, 43)\n"
     ]
    },
    {
     "name": "stderr",
     "output_type": "stream",
     "text": [
      "/home/francisco.monteiro@av.it.pt/miniconda3/envs/rapids-23.02/lib/python3.8/site-packages/cuml/internals/api_decorators.py:190: UserWarning: To use pickling first train using float32 data to fit the estimator\n",
      "  ret = func(*args, **kwargs)\n"
     ]
    },
    {
     "name": "stdout",
     "output_type": "stream",
     "text": [
      "\n",
      "Iteration 6\n",
      "Train set:  (1413024, 43)\n",
      "Test set:  (344640, 43)\n"
     ]
    },
    {
     "name": "stderr",
     "output_type": "stream",
     "text": [
      "/home/francisco.monteiro@av.it.pt/miniconda3/envs/rapids-23.02/lib/python3.8/site-packages/cuml/internals/api_decorators.py:190: UserWarning: To use pickling first train using float32 data to fit the estimator\n",
      "  ret = func(*args, **kwargs)\n"
     ]
    },
    {
     "name": "stdout",
     "output_type": "stream",
     "text": [
      "\n",
      "Iteration 7\n",
      "Train set:  (1413024, 43)\n",
      "Test set:  (344640, 43)\n"
     ]
    },
    {
     "name": "stderr",
     "output_type": "stream",
     "text": [
      "/home/francisco.monteiro@av.it.pt/miniconda3/envs/rapids-23.02/lib/python3.8/site-packages/cuml/internals/api_decorators.py:190: UserWarning: To use pickling first train using float32 data to fit the estimator\n",
      "  ret = func(*args, **kwargs)\n"
     ]
    },
    {
     "name": "stdout",
     "output_type": "stream",
     "text": [
      "\n",
      "Iteration 8\n",
      "Train set:  (1413024, 43)\n",
      "Test set:  (344640, 43)\n"
     ]
    },
    {
     "name": "stderr",
     "output_type": "stream",
     "text": [
      "/home/francisco.monteiro@av.it.pt/miniconda3/envs/rapids-23.02/lib/python3.8/site-packages/cuml/internals/api_decorators.py:190: UserWarning: To use pickling first train using float32 data to fit the estimator\n",
      "  ret = func(*args, **kwargs)\n"
     ]
    },
    {
     "name": "stdout",
     "output_type": "stream",
     "text": [
      "\n",
      "Iteration 9\n",
      "Train set:  (1413024, 43)\n",
      "Test set:  (344640, 43)\n"
     ]
    },
    {
     "name": "stderr",
     "output_type": "stream",
     "text": [
      "/home/francisco.monteiro@av.it.pt/miniconda3/envs/rapids-23.02/lib/python3.8/site-packages/cuml/internals/api_decorators.py:190: UserWarning: To use pickling first train using float32 data to fit the estimator\n",
      "  ret = func(*args, **kwargs)\n"
     ]
    }
   ],
   "source": [
    "metrics_list_rf = []\n",
    "print(\"\\n----------------------------\", file=sourceFile)\n",
    "print(\"\\nRandom Forest\\n\", file=sourceFile)\n",
    "print(\"----------------------------\\n\", file=sourceFile)\n",
    "for i in range(10):\n",
    "    print(\"\\nIteration\", i, file=sourceFile)\n",
    "    print(\"\\nIteration\", i)\n",
    "    mse, wape, r2, model_rf = test_leave_house_out(df, cuRF(), locations[i], sourceFile)\n",
    "    metrics_list_rf.append((mse, wape, r2))"
   ]
  },
  {
   "attachments": {},
   "cell_type": "markdown",
   "id": "1d80b4bb",
   "metadata": {},
   "source": [
    "## Averaged Metrics"
   ]
  },
  {
   "cell_type": "code",
   "execution_count": 16,
   "id": "34d0f88f",
   "metadata": {},
   "outputs": [],
   "source": [
    "print(\"\\n\\n\\n\", file=sourceFile)"
   ]
  },
  {
   "cell_type": "code",
   "execution_count": 17,
   "id": "c4d11803",
   "metadata": {},
   "outputs": [],
   "source": [
    "print(\"\\nLinear Regression\", file=sourceFile)\n",
    "total_averaged_metrics(metrics_list_lr, sourceFile)"
   ]
  },
  {
   "cell_type": "code",
   "execution_count": 18,
   "id": "9038241b",
   "metadata": {},
   "outputs": [],
   "source": [
    "print(\"\\nXGBoost\", file=sourceFile)\n",
    "total_averaged_metrics(metrics_list_xgb, sourceFile)"
   ]
  },
  {
   "cell_type": "code",
   "execution_count": 19,
   "id": "387e0bf7",
   "metadata": {},
   "outputs": [],
   "source": [
    "print(\"\\nRandom Forest\", file=sourceFile)\n",
    "total_averaged_metrics(metrics_list_rf, sourceFile)"
   ]
  },
  {
   "cell_type": "markdown",
   "id": "bb5c8ff5",
   "metadata": {},
   "source": [
    "### Feature Importance"
   ]
  },
  {
   "cell_type": "code",
   "execution_count": 20,
   "id": "b6a7d8db",
   "metadata": {},
   "outputs": [
    {
     "name": "stdout",
     "output_type": "stream",
     "text": [
      "Linear Regression\n",
      "\n",
      "Feature: 0, Score: -0.56053\n",
      "Feature: 1, Score: 0.38186\n",
      "Feature: 2, Score: -0.08430\n",
      "Feature: 3, Score: 0.56710\n",
      "Feature: 4, Score: 36.62927\n",
      "Feature: 5, Score: 0.22773\n",
      "Feature: 6, Score: 0.14344\n",
      "Feature: 7, Score: 0.00404\n",
      "Feature: 8, Score: 0.15532\n",
      "Feature: 9, Score: -0.08642\n",
      "Feature: 10, Score: -0.42093\n",
      "Feature: 11, Score: -0.04396\n",
      "Feature: 12, Score: 1.22050\n",
      "Feature: 13, Score: -0.13819\n",
      "Feature: 14, Score: -0.60524\n",
      "Feature: 15, Score: -0.12321\n",
      "Feature: 16, Score: -2.98507\n",
      "Feature: 17, Score: -0.33728\n",
      "Feature: 18, Score: -2.20837\n",
      "Feature: 19, Score: 0.50842\n",
      "Feature: 20, Score: -0.07320\n",
      "Feature: 21, Score: -0.05593\n",
      "Feature: 22, Score: 0.28947\n",
      "Feature: 23, Score: 0.44291\n",
      "Feature: 24, Score: -0.00996\n",
      "Feature: 25, Score: 2.33936\n",
      "Feature: 26, Score: -1.32758\n",
      "Feature: 27, Score: 0.53639\n",
      "Feature: 28, Score: -0.32048\n",
      "Feature: 29, Score: 5.41097\n",
      "Feature: 30, Score: 0.64431\n",
      "Feature: 31, Score: -0.90468\n",
      "Feature: 32, Score: -0.60952\n",
      "Feature: 33, Score: 0.01412\n",
      "Feature: 34, Score: 1.38644\n",
      "Feature: 35, Score: -0.06228\n",
      "Feature: 36, Score: 0.50175\n",
      "Feature: 37, Score: 4.91917\n",
      "Feature: 38, Score: 0.00549\n",
      "Feature: 39, Score: 3.25600\n",
      "XGBoost\n",
      "\n",
      "Feature: 0, Score: 0.01060\n",
      "Feature: 1, Score: 0.11188\n",
      "Feature: 2, Score: 0.01262\n",
      "Feature: 3, Score: 0.07720\n",
      "Feature: 4, Score: 0.38416\n",
      "Feature: 5, Score: 0.00457\n",
      "Feature: 6, Score: 0.00175\n",
      "Feature: 7, Score: 0.10640\n",
      "Feature: 8, Score: 0.00177\n",
      "Feature: 9, Score: 0.00717\n",
      "Feature: 10, Score: 0.07961\n",
      "Feature: 11, Score: 0.02588\n",
      "Feature: 12, Score: 0.00290\n",
      "Feature: 13, Score: 0.01597\n",
      "Feature: 14, Score: 0.00570\n",
      "Feature: 15, Score: 0.00199\n",
      "Feature: 16, Score: 0.01336\n",
      "Feature: 17, Score: 0.00903\n",
      "Feature: 18, Score: 0.00486\n",
      "Feature: 19, Score: 0.01094\n",
      "Feature: 20, Score: 0.00197\n",
      "Feature: 21, Score: 0.00304\n",
      "Feature: 22, Score: 0.00227\n",
      "Feature: 23, Score: 0.00489\n",
      "Feature: 24, Score: 0.00756\n",
      "Feature: 25, Score: 0.00748\n",
      "Feature: 26, Score: 0.00248\n",
      "Feature: 27, Score: 0.00218\n",
      "Feature: 28, Score: 0.00201\n",
      "Feature: 29, Score: 0.01590\n",
      "Feature: 30, Score: 0.00679\n",
      "Feature: 31, Score: 0.00247\n",
      "Feature: 32, Score: 0.00649\n",
      "Feature: 33, Score: 0.00877\n",
      "Feature: 34, Score: 0.00319\n",
      "Feature: 35, Score: 0.00410\n",
      "Feature: 36, Score: 0.00532\n",
      "Feature: 37, Score: 0.00992\n",
      "Feature: 38, Score: 0.00170\n",
      "Feature: 39, Score: 0.01312\n"
     ]
    }
   ],
   "source": [
    "print('Linear Regression\\n')\n",
    "for i,v in enumerate(model_lr.coef_):\n",
    "    print('Feature: %0d, Score: %.5f' % (i,v))\n",
    "print('XGBoost\\n')\n",
    "for i,v in enumerate(model_xgb.feature_importances_):\n",
    "    print('Feature: %0d, Score: %.5f' % (i,v))"
   ]
  },
  {
   "cell_type": "code",
   "execution_count": 21,
   "id": "0f698b11",
   "metadata": {},
   "outputs": [
    {
     "data": {
      "image/png": "[encoded data removed]",
      "text/plain": [
       "<Figure size 640x480 with 1 Axes>"
      ]
     },
     "metadata": {},
     "output_type": "display_data"
    }
   ],
   "source": [
    "plt.bar(range(len(model_xgb.feature_importances_)),model_xgb.feature_importances_)\n",
    "plt.title('Feature Importance')\n",
    "plt.xlabel('Feature')\n",
    "plt.ylabel('Importance')\n",
    "plt.show()"
   ]
  },
  {
   "cell_type": "code",
   "execution_count": 22,
   "id": "71aef5fc",
   "metadata": {},
   "outputs": [
    {
     "data": {
      "image/png": "[encoded data removed]",
      "text/plain": [
       "<Figure size 640x480 with 1 Axes>"
      ]
     },
     "metadata": {},
     "output_type": "display_data"
    }
   ],
   "source": [
    "plt.bar(range(len(model_lr.coef_)),model_lr.coef_)\n",
    "plt.title('Feature Importance')\n",
    "plt.xlabel('Feature')\n",
    "plt.ylabel('Importance')\n",
    "plt.show()"
   ]
  },
  {
   "cell_type": "code",
   "execution_count": null,
   "id": "d8ca075f",
   "metadata": {},
   "outputs": [],
   "source": [
    "columns = df.drop([\"Energy\", \"Location\", \"Time\"], axis=1).columns\n",
    "feature_importance = pd.Series(model_xgb.feature_importances_, index=columns)\n",
    "feature_importance"
   ]
  },
  {
   "cell_type": "code",
   "execution_count": null,
   "id": "17ed32bb",
   "metadata": {},
   "outputs": [],
   "source": [
    "features = feature_importance.nlargest(40).index\n",
    "features"
   ]
  },
  {
   "cell_type": "code",
   "execution_count": null,
   "id": "d5c9659b",
   "metadata": {},
   "outputs": [],
   "source": [
    "df_40 = df[['Time', 'Location'] + [*features] + ['Energy']]\n",
    "df_40"
   ]
  },
  {
   "cell_type": "code",
   "execution_count": null,
   "id": "ac35cbb1",
   "metadata": {},
   "outputs": [],
   "source": [
    "df_40.to_csv(\"data/porto_best40features.csv\", index=False)"
   ]
  },
  {
   "cell_type": "code",
   "execution_count": 23,
   "id": "6aa50a8a",
   "metadata": {},
   "outputs": [],
   "source": [
    "sourceFile.close()"
   ]
  },
  {
   "cell_type": "code",
   "execution_count": null,
   "id": "33dcc203",
   "metadata": {},
   "outputs": [],
   "source": []
  }
 ],
 "metadata": {
  "kernelspec": {
   "display_name": "Python 3.8.16 ('rapids-23.02')",
   "language": "python",
   "name": "python3"
  },
  "language_info": {
   "codemirror_mode": {
    "name": "ipython",
    "version": 3
   },
   "file_extension": ".py",
   "mimetype": "text/x-python",
   "name": "python",
   "nbconvert_exporter": "python",
   "pygments_lexer": "ipython3",
   "version": "3.8.16"
  },
  "vscode": {
   "interpreter": {
    "hash": "b68dca5a889d9fa7a36c76420bb99c5b147d98e0e386a0426daa5cd8f8566c01"
   }
  }
 },
 "nbformat": 4,
 "nbformat_minor": 5
}
